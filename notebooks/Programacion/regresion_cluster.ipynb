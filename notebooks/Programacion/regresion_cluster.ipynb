{
 "cells": [
  {
   "cell_type": "code",
   "execution_count": 1,
   "metadata": {},
   "outputs": [
    {
     "name": "stderr",
     "output_type": "stream",
     "text": [
      "C:\\Users\\Elizabeth\\Anaconda3\\lib\\site-packages\\statsmodels\\tools\\_testing.py:19: FutureWarning: pandas.util.testing is deprecated. Use the functions in the public API at pandas.testing instead.\n",
      "  import pandas.util.testing as tm\n"
     ]
    }
   ],
   "source": [
    "import pandas as pd\n",
    "import numpy as np\n",
    "import statsmodels.api as sm\n",
    "import matplotlib.pyplot as plt\n",
    "import sys\n",
    "\n",
    "sys.path.append('./../../')\n",
    "\n",
    "# OPTIONAL: Load the \"autoreload\" extension so that code can change\n",
    "%load_ext autoreload\n",
    "\n",
    "#Own Library modules\n",
    "import src.pca\n",
    "\n",
    "# OPTIONAL: always reload modules so that as you change code in src, it gets loaded\n",
    "%autoreload 2\n",
    "\n",
    "from src.pca import PCA_from_sklearn"
   ]
  },
  {
   "cell_type": "code",
   "execution_count": 2,
   "metadata": {},
   "outputs": [],
   "source": [
    "import pandas.util.testing as tm"
   ]
  },
  {
   "cell_type": "code",
   "execution_count": 3,
   "metadata": {},
   "outputs": [],
   "source": [
    "df = pd.read_csv('../../data/datos_limpios.csv', encoding = \"L1\")"
   ]
  },
  {
   "cell_type": "code",
   "execution_count": 4,
   "metadata": {},
   "outputs": [],
   "source": [
    "cpa_reg = pd.read_csv('../../results/data_results/componentes_principales_regress.csv')"
   ]
  },
  {
   "cell_type": "code",
   "execution_count": 5,
   "metadata": {},
   "outputs": [
    {
     "data": {
      "text/html": [
       "<div>\n",
       "<style scoped>\n",
       "    .dataframe tbody tr th:only-of-type {\n",
       "        vertical-align: middle;\n",
       "    }\n",
       "\n",
       "    .dataframe tbody tr th {\n",
       "        vertical-align: top;\n",
       "    }\n",
       "\n",
       "    .dataframe thead th {\n",
       "        text-align: right;\n",
       "    }\n",
       "</style>\n",
       "<table border=\"1\" class=\"dataframe\">\n",
       "  <thead>\n",
       "    <tr style=\"text-align: right;\">\n",
       "      <th></th>\n",
       "      <th>sec_1_cp_1</th>\n",
       "      <th>sec_1_cp_2</th>\n",
       "      <th>sec_1_cp_3</th>\n",
       "      <th>sec_2_cp_1</th>\n",
       "      <th>sec_2_cp_2</th>\n",
       "      <th>sec_2_cp_3</th>\n",
       "      <th>sec_3_cp_1</th>\n",
       "      <th>sec_3_cp_2</th>\n",
       "      <th>sec_4_cp_1</th>\n",
       "      <th>sec_4_cp_2</th>\n",
       "      <th>...</th>\n",
       "      <th>sec_9_cp_1</th>\n",
       "      <th>sec_9_cp_2</th>\n",
       "      <th>sec_9_cp_3</th>\n",
       "      <th>sec_10_1_cp_1</th>\n",
       "      <th>sec_10_1_cp_2</th>\n",
       "      <th>sec_10_1_cp_3</th>\n",
       "      <th>sec_10_2_cp_1</th>\n",
       "      <th>sec_10_2_cp_2</th>\n",
       "      <th>sec_10_2_cp_3</th>\n",
       "      <th>sec_10_2_cp_4</th>\n",
       "    </tr>\n",
       "  </thead>\n",
       "  <tbody>\n",
       "    <tr>\n",
       "      <th>0</th>\n",
       "      <td>-0.821715</td>\n",
       "      <td>-0.066756</td>\n",
       "      <td>-0.106842</td>\n",
       "      <td>-1.544900</td>\n",
       "      <td>0.025678</td>\n",
       "      <td>0.000465</td>\n",
       "      <td>-2.751152</td>\n",
       "      <td>1.038033</td>\n",
       "      <td>-0.593721</td>\n",
       "      <td>1.570301</td>\n",
       "      <td>...</td>\n",
       "      <td>-1.007938</td>\n",
       "      <td>1.674925</td>\n",
       "      <td>2.033414</td>\n",
       "      <td>-1.310197</td>\n",
       "      <td>-1.086806</td>\n",
       "      <td>0.027878</td>\n",
       "      <td>-0.472417</td>\n",
       "      <td>-0.307271</td>\n",
       "      <td>-2.021332</td>\n",
       "      <td>1.726780</td>\n",
       "    </tr>\n",
       "    <tr>\n",
       "      <th>1</th>\n",
       "      <td>-0.856175</td>\n",
       "      <td>-0.408062</td>\n",
       "      <td>0.096823</td>\n",
       "      <td>-1.544900</td>\n",
       "      <td>0.025678</td>\n",
       "      <td>0.000465</td>\n",
       "      <td>1.439305</td>\n",
       "      <td>-0.274336</td>\n",
       "      <td>-0.678143</td>\n",
       "      <td>0.180167</td>\n",
       "      <td>...</td>\n",
       "      <td>0.301634</td>\n",
       "      <td>-1.639380</td>\n",
       "      <td>0.733296</td>\n",
       "      <td>-0.761518</td>\n",
       "      <td>1.965701</td>\n",
       "      <td>-0.450662</td>\n",
       "      <td>1.520469</td>\n",
       "      <td>0.580579</td>\n",
       "      <td>-2.225639</td>\n",
       "      <td>0.677854</td>\n",
       "    </tr>\n",
       "    <tr>\n",
       "      <th>2</th>\n",
       "      <td>-0.921727</td>\n",
       "      <td>-0.353333</td>\n",
       "      <td>0.020105</td>\n",
       "      <td>3.215723</td>\n",
       "      <td>-2.008007</td>\n",
       "      <td>-1.164138</td>\n",
       "      <td>-0.075647</td>\n",
       "      <td>-1.163561</td>\n",
       "      <td>1.090394</td>\n",
       "      <td>-0.054025</td>\n",
       "      <td>...</td>\n",
       "      <td>2.382538</td>\n",
       "      <td>-1.359657</td>\n",
       "      <td>-1.159584</td>\n",
       "      <td>-1.204937</td>\n",
       "      <td>-0.170071</td>\n",
       "      <td>-0.351054</td>\n",
       "      <td>1.061461</td>\n",
       "      <td>-0.697975</td>\n",
       "      <td>-0.824011</td>\n",
       "      <td>-0.564084</td>\n",
       "    </tr>\n",
       "    <tr>\n",
       "      <th>3</th>\n",
       "      <td>-0.856175</td>\n",
       "      <td>-0.408062</td>\n",
       "      <td>0.096823</td>\n",
       "      <td>-1.544900</td>\n",
       "      <td>0.025678</td>\n",
       "      <td>0.000465</td>\n",
       "      <td>-2.054591</td>\n",
       "      <td>0.706529</td>\n",
       "      <td>-0.710868</td>\n",
       "      <td>3.044078</td>\n",
       "      <td>...</td>\n",
       "      <td>-0.223632</td>\n",
       "      <td>0.026949</td>\n",
       "      <td>-0.358396</td>\n",
       "      <td>-0.894177</td>\n",
       "      <td>1.179568</td>\n",
       "      <td>1.859064</td>\n",
       "      <td>-0.579596</td>\n",
       "      <td>-2.437395</td>\n",
       "      <td>2.029714</td>\n",
       "      <td>-0.976424</td>\n",
       "    </tr>\n",
       "    <tr>\n",
       "      <th>4</th>\n",
       "      <td>-0.856175</td>\n",
       "      <td>-0.408062</td>\n",
       "      <td>0.096823</td>\n",
       "      <td>-1.544900</td>\n",
       "      <td>0.025678</td>\n",
       "      <td>0.000465</td>\n",
       "      <td>-0.592569</td>\n",
       "      <td>1.411202</td>\n",
       "      <td>1.208648</td>\n",
       "      <td>1.137097</td>\n",
       "      <td>...</td>\n",
       "      <td>-0.219535</td>\n",
       "      <td>-1.224178</td>\n",
       "      <td>-0.397484</td>\n",
       "      <td>0.792073</td>\n",
       "      <td>0.234584</td>\n",
       "      <td>-0.519467</td>\n",
       "      <td>1.607332</td>\n",
       "      <td>-0.691650</td>\n",
       "      <td>-0.699982</td>\n",
       "      <td>-0.110107</td>\n",
       "    </tr>\n",
       "  </tbody>\n",
       "</table>\n",
       "<p>5 rows × 53 columns</p>\n",
       "</div>"
      ],
      "text/plain": [
       "   sec_1_cp_1  sec_1_cp_2  sec_1_cp_3  sec_2_cp_1  sec_2_cp_2  sec_2_cp_3  \\\n",
       "0   -0.821715   -0.066756   -0.106842   -1.544900    0.025678    0.000465   \n",
       "1   -0.856175   -0.408062    0.096823   -1.544900    0.025678    0.000465   \n",
       "2   -0.921727   -0.353333    0.020105    3.215723   -2.008007   -1.164138   \n",
       "3   -0.856175   -0.408062    0.096823   -1.544900    0.025678    0.000465   \n",
       "4   -0.856175   -0.408062    0.096823   -1.544900    0.025678    0.000465   \n",
       "\n",
       "   sec_3_cp_1  sec_3_cp_2  sec_4_cp_1  sec_4_cp_2  ...  sec_9_cp_1  \\\n",
       "0   -2.751152    1.038033   -0.593721    1.570301  ...   -1.007938   \n",
       "1    1.439305   -0.274336   -0.678143    0.180167  ...    0.301634   \n",
       "2   -0.075647   -1.163561    1.090394   -0.054025  ...    2.382538   \n",
       "3   -2.054591    0.706529   -0.710868    3.044078  ...   -0.223632   \n",
       "4   -0.592569    1.411202    1.208648    1.137097  ...   -0.219535   \n",
       "\n",
       "   sec_9_cp_2  sec_9_cp_3  sec_10_1_cp_1  sec_10_1_cp_2  sec_10_1_cp_3  \\\n",
       "0    1.674925    2.033414      -1.310197      -1.086806       0.027878   \n",
       "1   -1.639380    0.733296      -0.761518       1.965701      -0.450662   \n",
       "2   -1.359657   -1.159584      -1.204937      -0.170071      -0.351054   \n",
       "3    0.026949   -0.358396      -0.894177       1.179568       1.859064   \n",
       "4   -1.224178   -0.397484       0.792073       0.234584      -0.519467   \n",
       "\n",
       "   sec_10_2_cp_1  sec_10_2_cp_2  sec_10_2_cp_3  sec_10_2_cp_4  \n",
       "0      -0.472417      -0.307271      -2.021332       1.726780  \n",
       "1       1.520469       0.580579      -2.225639       0.677854  \n",
       "2       1.061461      -0.697975      -0.824011      -0.564084  \n",
       "3      -0.579596      -2.437395       2.029714      -0.976424  \n",
       "4       1.607332      -0.691650      -0.699982      -0.110107  \n",
       "\n",
       "[5 rows x 53 columns]"
      ]
     },
     "execution_count": 5,
     "metadata": {},
     "output_type": "execute_result"
    }
   ],
   "source": [
    "cpa_reg.head() ###Componentes principales de todas las secciones "
   ]
  },
  {
   "cell_type": "code",
   "execution_count": 6,
   "metadata": {},
   "outputs": [
    {
     "data": {
      "text/html": [
       "<div>\n",
       "<style scoped>\n",
       "    .dataframe tbody tr th:only-of-type {\n",
       "        vertical-align: middle;\n",
       "    }\n",
       "\n",
       "    .dataframe tbody tr th {\n",
       "        vertical-align: top;\n",
       "    }\n",
       "\n",
       "    .dataframe thead th {\n",
       "        text-align: right;\n",
       "    }\n",
       "</style>\n",
       "<table border=\"1\" class=\"dataframe\">\n",
       "  <thead>\n",
       "    <tr style=\"text-align: right;\">\n",
       "      <th></th>\n",
       "      <th>sec_1_cp_1</th>\n",
       "      <th>sec_1_cp_2</th>\n",
       "      <th>sec_1_cp_3</th>\n",
       "      <th>sec_2_cp_1</th>\n",
       "      <th>sec_2_cp_2</th>\n",
       "      <th>sec_2_cp_3</th>\n",
       "      <th>sec_3_cp_1</th>\n",
       "      <th>sec_3_cp_2</th>\n",
       "      <th>sec_4_cp_1</th>\n",
       "      <th>sec_4_cp_2</th>\n",
       "      <th>...</th>\n",
       "      <th>sec_9_cp_1</th>\n",
       "      <th>sec_9_cp_2</th>\n",
       "      <th>sec_9_cp_3</th>\n",
       "      <th>sec_10_1_cp_1</th>\n",
       "      <th>sec_10_1_cp_2</th>\n",
       "      <th>sec_10_1_cp_3</th>\n",
       "      <th>sec_10_2_cp_1</th>\n",
       "      <th>sec_10_2_cp_2</th>\n",
       "      <th>sec_10_2_cp_3</th>\n",
       "      <th>sec_10_2_cp_4</th>\n",
       "    </tr>\n",
       "  </thead>\n",
       "  <tbody>\n",
       "    <tr>\n",
       "      <th>count</th>\n",
       "      <td>5.606260e+05</td>\n",
       "      <td>5.606260e+05</td>\n",
       "      <td>5.606260e+05</td>\n",
       "      <td>5.606260e+05</td>\n",
       "      <td>5.606260e+05</td>\n",
       "      <td>5.606260e+05</td>\n",
       "      <td>5.606260e+05</td>\n",
       "      <td>5.606260e+05</td>\n",
       "      <td>5.606260e+05</td>\n",
       "      <td>5.606260e+05</td>\n",
       "      <td>...</td>\n",
       "      <td>5.606260e+05</td>\n",
       "      <td>5.606260e+05</td>\n",
       "      <td>5.606260e+05</td>\n",
       "      <td>5.606260e+05</td>\n",
       "      <td>5.606260e+05</td>\n",
       "      <td>5.606260e+05</td>\n",
       "      <td>5.606260e+05</td>\n",
       "      <td>5.606260e+05</td>\n",
       "      <td>5.606260e+05</td>\n",
       "      <td>5.606260e+05</td>\n",
       "    </tr>\n",
       "    <tr>\n",
       "      <th>mean</th>\n",
       "      <td>5.328058e-14</td>\n",
       "      <td>-1.618466e-14</td>\n",
       "      <td>5.677942e-14</td>\n",
       "      <td>-1.714096e-14</td>\n",
       "      <td>-2.459830e-14</td>\n",
       "      <td>1.799664e-14</td>\n",
       "      <td>-1.608830e-14</td>\n",
       "      <td>-2.573978e-15</td>\n",
       "      <td>-6.939575e-17</td>\n",
       "      <td>-2.385724e-16</td>\n",
       "      <td>...</td>\n",
       "      <td>5.388161e-15</td>\n",
       "      <td>-5.453636e-15</td>\n",
       "      <td>-1.746697e-15</td>\n",
       "      <td>-7.494721e-16</td>\n",
       "      <td>-3.008099e-15</td>\n",
       "      <td>6.227401e-16</td>\n",
       "      <td>-3.143143e-15</td>\n",
       "      <td>-5.893955e-15</td>\n",
       "      <td>-8.021108e-16</td>\n",
       "      <td>2.040080e-15</td>\n",
       "    </tr>\n",
       "    <tr>\n",
       "      <th>std</th>\n",
       "      <td>1.819019e+00</td>\n",
       "      <td>1.402879e+00</td>\n",
       "      <td>1.322068e+00</td>\n",
       "      <td>1.993253e+00</td>\n",
       "      <td>1.068612e+00</td>\n",
       "      <td>1.048060e+00</td>\n",
       "      <td>1.576344e+00</td>\n",
       "      <td>1.044936e+00</td>\n",
       "      <td>2.533372e+00</td>\n",
       "      <td>2.106282e+00</td>\n",
       "      <td>...</td>\n",
       "      <td>2.371221e+00</td>\n",
       "      <td>1.809497e+00</td>\n",
       "      <td>1.556067e+00</td>\n",
       "      <td>1.548067e+00</td>\n",
       "      <td>1.332025e+00</td>\n",
       "      <td>1.094759e+00</td>\n",
       "      <td>2.073546e+00</td>\n",
       "      <td>1.170186e+00</td>\n",
       "      <td>1.059653e+00</td>\n",
       "      <td>1.011326e+00</td>\n",
       "    </tr>\n",
       "    <tr>\n",
       "      <th>min</th>\n",
       "      <td>-1.021739e+00</td>\n",
       "      <td>-1.278528e+00</td>\n",
       "      <td>-3.088088e+00</td>\n",
       "      <td>-1.544900e+00</td>\n",
       "      <td>-2.274686e+00</td>\n",
       "      <td>-1.861291e+00</td>\n",
       "      <td>-3.562895e+00</td>\n",
       "      <td>-2.066039e+00</td>\n",
       "      <td>-6.891618e+00</td>\n",
       "      <td>-8.688445e+00</td>\n",
       "      <td>...</td>\n",
       "      <td>-3.633650e+00</td>\n",
       "      <td>-7.138594e+00</td>\n",
       "      <td>-9.107695e+00</td>\n",
       "      <td>-3.457613e+00</td>\n",
       "      <td>-3.746410e+00</td>\n",
       "      <td>-2.476860e+00</td>\n",
       "      <td>-5.075952e+00</td>\n",
       "      <td>-4.268864e+00</td>\n",
       "      <td>-3.744926e+00</td>\n",
       "      <td>-4.730047e+00</td>\n",
       "    </tr>\n",
       "    <tr>\n",
       "      <th>25%</th>\n",
       "      <td>-8.717210e-01</td>\n",
       "      <td>-4.080618e-01</td>\n",
       "      <td>-4.336863e-02</td>\n",
       "      <td>-1.544900e+00</td>\n",
       "      <td>2.567793e-02</td>\n",
       "      <td>4.654036e-04</td>\n",
       "      <td>-1.138788e+00</td>\n",
       "      <td>-7.400212e-01</td>\n",
       "      <td>-1.794955e+00</td>\n",
       "      <td>-1.450111e+00</td>\n",
       "      <td>...</td>\n",
       "      <td>-1.710498e+00</td>\n",
       "      <td>-9.948805e-01</td>\n",
       "      <td>-8.702633e-01</td>\n",
       "      <td>-1.155023e+00</td>\n",
       "      <td>-9.897125e-01</td>\n",
       "      <td>-7.091823e-01</td>\n",
       "      <td>-1.544277e+00</td>\n",
       "      <td>-8.296921e-01</td>\n",
       "      <td>-7.042784e-01</td>\n",
       "      <td>-6.338789e-01</td>\n",
       "    </tr>\n",
       "    <tr>\n",
       "      <th>50%</th>\n",
       "      <td>-8.561752e-01</td>\n",
       "      <td>-2.647735e-01</td>\n",
       "      <td>2.010459e-02</td>\n",
       "      <td>-1.544900e+00</td>\n",
       "      <td>2.567793e-02</td>\n",
       "      <td>4.654036e-04</td>\n",
       "      <td>-8.838513e-02</td>\n",
       "      <td>-8.133057e-02</td>\n",
       "      <td>-1.191471e-01</td>\n",
       "      <td>-1.207499e-02</td>\n",
       "      <td>...</td>\n",
       "      <td>-5.238986e-01</td>\n",
       "      <td>-1.114675e-01</td>\n",
       "      <td>-4.890646e-02</td>\n",
       "      <td>-1.630554e-01</td>\n",
       "      <td>-1.700714e-01</td>\n",
       "      <td>-2.377232e-01</td>\n",
       "      <td>-1.259882e-01</td>\n",
       "      <td>-8.535548e-02</td>\n",
       "      <td>-3.488615e-02</td>\n",
       "      <td>2.913024e-02</td>\n",
       "    </tr>\n",
       "    <tr>\n",
       "      <th>75%</th>\n",
       "      <td>-7.061573e-01</td>\n",
       "      <td>-2.100445e-01</td>\n",
       "      <td>3.334971e-02</td>\n",
       "      <td>2.215407e+00</td>\n",
       "      <td>4.295478e-02</td>\n",
       "      <td>4.654036e-04</td>\n",
       "      <td>9.814032e-01</td>\n",
       "      <td>7.065291e-01</td>\n",
       "      <td>1.661311e+00</td>\n",
       "      <td>1.385273e+00</td>\n",
       "      <td>...</td>\n",
       "      <td>1.126945e+00</td>\n",
       "      <td>9.018429e-01</td>\n",
       "      <td>9.494105e-01</td>\n",
       "      <td>1.010578e+00</td>\n",
       "      <td>8.646446e-01</td>\n",
       "      <td>4.129933e-01</td>\n",
       "      <td>1.374827e+00</td>\n",
       "      <td>7.329491e-01</td>\n",
       "      <td>6.783288e-01</td>\n",
       "      <td>6.795632e-01</td>\n",
       "    </tr>\n",
       "    <tr>\n",
       "      <th>max</th>\n",
       "      <td>5.505685e+00</td>\n",
       "      <td>7.189211e+00</td>\n",
       "      <td>6.810481e+00</td>\n",
       "      <td>3.967850e+00</td>\n",
       "      <td>2.394052e+00</td>\n",
       "      <td>3.710921e+00</td>\n",
       "      <td>5.545087e+00</td>\n",
       "      <td>6.073749e+00</td>\n",
       "      <td>1.341376e+01</td>\n",
       "      <td>1.098755e+01</td>\n",
       "      <td>...</td>\n",
       "      <td>1.480162e+01</td>\n",
       "      <td>9.450945e+00</td>\n",
       "      <td>9.142512e+00</td>\n",
       "      <td>5.860262e+00</td>\n",
       "      <td>5.477970e+00</td>\n",
       "      <td>4.623180e+00</td>\n",
       "      <td>6.616996e+00</td>\n",
       "      <td>8.069240e+00</td>\n",
       "      <td>6.276228e+00</td>\n",
       "      <td>6.197803e+00</td>\n",
       "    </tr>\n",
       "  </tbody>\n",
       "</table>\n",
       "<p>8 rows × 53 columns</p>\n",
       "</div>"
      ],
      "text/plain": [
       "         sec_1_cp_1    sec_1_cp_2    sec_1_cp_3    sec_2_cp_1    sec_2_cp_2  \\\n",
       "count  5.606260e+05  5.606260e+05  5.606260e+05  5.606260e+05  5.606260e+05   \n",
       "mean   5.328058e-14 -1.618466e-14  5.677942e-14 -1.714096e-14 -2.459830e-14   \n",
       "std    1.819019e+00  1.402879e+00  1.322068e+00  1.993253e+00  1.068612e+00   \n",
       "min   -1.021739e+00 -1.278528e+00 -3.088088e+00 -1.544900e+00 -2.274686e+00   \n",
       "25%   -8.717210e-01 -4.080618e-01 -4.336863e-02 -1.544900e+00  2.567793e-02   \n",
       "50%   -8.561752e-01 -2.647735e-01  2.010459e-02 -1.544900e+00  2.567793e-02   \n",
       "75%   -7.061573e-01 -2.100445e-01  3.334971e-02  2.215407e+00  4.295478e-02   \n",
       "max    5.505685e+00  7.189211e+00  6.810481e+00  3.967850e+00  2.394052e+00   \n",
       "\n",
       "         sec_2_cp_3    sec_3_cp_1    sec_3_cp_2    sec_4_cp_1    sec_4_cp_2  \\\n",
       "count  5.606260e+05  5.606260e+05  5.606260e+05  5.606260e+05  5.606260e+05   \n",
       "mean   1.799664e-14 -1.608830e-14 -2.573978e-15 -6.939575e-17 -2.385724e-16   \n",
       "std    1.048060e+00  1.576344e+00  1.044936e+00  2.533372e+00  2.106282e+00   \n",
       "min   -1.861291e+00 -3.562895e+00 -2.066039e+00 -6.891618e+00 -8.688445e+00   \n",
       "25%    4.654036e-04 -1.138788e+00 -7.400212e-01 -1.794955e+00 -1.450111e+00   \n",
       "50%    4.654036e-04 -8.838513e-02 -8.133057e-02 -1.191471e-01 -1.207499e-02   \n",
       "75%    4.654036e-04  9.814032e-01  7.065291e-01  1.661311e+00  1.385273e+00   \n",
       "max    3.710921e+00  5.545087e+00  6.073749e+00  1.341376e+01  1.098755e+01   \n",
       "\n",
       "       ...    sec_9_cp_1    sec_9_cp_2    sec_9_cp_3  sec_10_1_cp_1  \\\n",
       "count  ...  5.606260e+05  5.606260e+05  5.606260e+05   5.606260e+05   \n",
       "mean   ...  5.388161e-15 -5.453636e-15 -1.746697e-15  -7.494721e-16   \n",
       "std    ...  2.371221e+00  1.809497e+00  1.556067e+00   1.548067e+00   \n",
       "min    ... -3.633650e+00 -7.138594e+00 -9.107695e+00  -3.457613e+00   \n",
       "25%    ... -1.710498e+00 -9.948805e-01 -8.702633e-01  -1.155023e+00   \n",
       "50%    ... -5.238986e-01 -1.114675e-01 -4.890646e-02  -1.630554e-01   \n",
       "75%    ...  1.126945e+00  9.018429e-01  9.494105e-01   1.010578e+00   \n",
       "max    ...  1.480162e+01  9.450945e+00  9.142512e+00   5.860262e+00   \n",
       "\n",
       "       sec_10_1_cp_2  sec_10_1_cp_3  sec_10_2_cp_1  sec_10_2_cp_2  \\\n",
       "count   5.606260e+05   5.606260e+05   5.606260e+05   5.606260e+05   \n",
       "mean   -3.008099e-15   6.227401e-16  -3.143143e-15  -5.893955e-15   \n",
       "std     1.332025e+00   1.094759e+00   2.073546e+00   1.170186e+00   \n",
       "min    -3.746410e+00  -2.476860e+00  -5.075952e+00  -4.268864e+00   \n",
       "25%    -9.897125e-01  -7.091823e-01  -1.544277e+00  -8.296921e-01   \n",
       "50%    -1.700714e-01  -2.377232e-01  -1.259882e-01  -8.535548e-02   \n",
       "75%     8.646446e-01   4.129933e-01   1.374827e+00   7.329491e-01   \n",
       "max     5.477970e+00   4.623180e+00   6.616996e+00   8.069240e+00   \n",
       "\n",
       "       sec_10_2_cp_3  sec_10_2_cp_4  \n",
       "count   5.606260e+05   5.606260e+05  \n",
       "mean   -8.021108e-16   2.040080e-15  \n",
       "std     1.059653e+00   1.011326e+00  \n",
       "min    -3.744926e+00  -4.730047e+00  \n",
       "25%    -7.042784e-01  -6.338789e-01  \n",
       "50%    -3.488615e-02   2.913024e-02  \n",
       "75%     6.783288e-01   6.795632e-01  \n",
       "max     6.276228e+00   6.197803e+00  \n",
       "\n",
       "[8 rows x 53 columns]"
      ]
     },
     "execution_count": 6,
     "metadata": {},
     "output_type": "execute_result"
    }
   ],
   "source": [
    "cpa_reg.describe()"
   ]
  },
  {
   "cell_type": "markdown",
   "metadata": {},
   "source": [
    "#### Regresión Lineal usando la variable hmat"
   ]
  },
  {
   "cell_type": "code",
   "execution_count": 7,
   "metadata": {},
   "outputs": [],
   "source": [
    "hmat = df['hmat'] ###Variable dependiente o de respuesta"
   ]
  },
  {
   "cell_type": "code",
   "execution_count": 8,
   "metadata": {},
   "outputs": [
    {
     "data": {
      "text/plain": [
       "-0.81255    28826\n",
       "-0.90552    28355\n",
       "-0.72212    27861\n",
       "-0.63382    27144\n",
       "-1.00146    26945\n",
       "            ...  \n",
       " 3.26010        4\n",
       "-4.33125        4\n",
       "-5.52843        3\n",
       " 4.46448        2\n",
       " 2.77086        1\n",
       "Name: hmat, Length: 110, dtype: int64"
      ]
     },
     "execution_count": 8,
     "metadata": {},
     "output_type": "execute_result"
    }
   ],
   "source": [
    "hmat.value_counts(dropna=False)"
   ]
  },
  {
   "cell_type": "code",
   "execution_count": 9,
   "metadata": {},
   "outputs": [
    {
     "data": {
      "text/plain": [
       "<matplotlib.axes._subplots.AxesSubplot at 0x27338de3d88>"
      ]
     },
     "execution_count": 9,
     "metadata": {},
     "output_type": "execute_result"
    },
    {
     "data": {
      "image/png": "[encoded data removed]",
      "text/plain": [
       "<Figure size 1440x432 with 1 Axes>"
      ]
     },
     "metadata": {
      "needs_background": "light"
     },
     "output_type": "display_data"
    }
   ],
   "source": [
    "df[['hmat']].plot(alpha=0.5,figsize=(20,6))"
   ]
  },
  {
   "cell_type": "code",
   "execution_count": 10,
   "metadata": {},
   "outputs": [],
   "source": [
    "from sklearn.linear_model import LinearRegression\n",
    "from sklearn.model_selection import cross_val_predict\n",
    "from sklearn.metrics import mean_squared_error, r2_score"
   ]
  },
  {
   "cell_type": "code",
   "execution_count": 11,
   "metadata": {},
   "outputs": [
    {
     "data": {
      "text/plain": [
       "LinearRegression(copy_X=True, fit_intercept=True, n_jobs=None, normalize=False)"
      ]
     },
     "execution_count": 11,
     "metadata": {},
     "output_type": "execute_result"
    }
   ],
   "source": [
    "model = LinearRegression(fit_intercept=True)\n",
    "model.fit(cpa_reg,hmat)"
   ]
  },
  {
   "cell_type": "code",
   "execution_count": 12,
   "metadata": {},
   "outputs": [],
   "source": [
    "df['predicted'] = model.predict(cpa_reg)"
   ]
  },
  {
   "cell_type": "code",
   "execution_count": 13,
   "metadata": {},
   "outputs": [
    {
     "data": {
      "text/plain": [
       "-0.379421    4\n",
       "-0.399176    4\n",
       "-0.292055    2\n",
       "-0.336047    2\n",
       "-0.022054    2\n",
       "            ..\n",
       "-0.278850    1\n",
       " 0.318833    1\n",
       "-0.581802    1\n",
       "-0.172262    1\n",
       "-0.374188    1\n",
       "Name: predicted, Length: 560601, dtype: int64"
      ]
     },
     "execution_count": 13,
     "metadata": {},
     "output_type": "execute_result"
    }
   ],
   "source": [
    "df['predicted'].value_counts(dropna=False)"
   ]
  },
  {
   "cell_type": "code",
   "execution_count": 14,
   "metadata": {},
   "outputs": [],
   "source": [
    "# Cross-validation\n",
    "df['y_cv_mat'] = cross_val_predict(model, cpa_reg, hmat, cv=10)"
   ]
  },
  {
   "cell_type": "code",
   "execution_count": 15,
   "metadata": {},
   "outputs": [
    {
     "data": {
      "text/plain": [
       "0.22717742639318383"
      ]
     },
     "execution_count": 15,
     "metadata": {},
     "output_type": "execute_result"
    }
   ],
   "source": [
    "r2_score(hmat, df['predicted']) #Regresa el coeficiente de determinación de la R^2 de predicción"
   ]
  },
  {
   "cell_type": "code",
   "execution_count": 16,
   "metadata": {},
   "outputs": [
    {
     "data": {
      "text/plain": [
       "0.21991739797312027"
      ]
     },
     "execution_count": 16,
     "metadata": {},
     "output_type": "execute_result"
    }
   ],
   "source": [
    "r2_score(hmat, df['y_cv_mat']) #Regresa el coeficiente de determinación de la R^2 usando cross-validation"
   ]
  },
  {
   "cell_type": "code",
   "execution_count": 17,
   "metadata": {},
   "outputs": [
    {
     "data": {
      "text/plain": [
       "0.5868586720372392"
      ]
     },
     "execution_count": 17,
     "metadata": {},
     "output_type": "execute_result"
    }
   ],
   "source": [
    "mean_squared_error(hmat, df['predicted']) ##Error cuadrático medio de la predicción"
   ]
  },
  {
   "cell_type": "code",
   "execution_count": 18,
   "metadata": {},
   "outputs": [
    {
     "data": {
      "text/plain": [
       "0.5923717235228688"
      ]
     },
     "execution_count": 18,
     "metadata": {},
     "output_type": "execute_result"
    }
   ],
   "source": [
    "mean_squared_error(hmat, df['y_cv_mat']) ###Error cuadrático medio usando validación cruzada"
   ]
  },
  {
   "cell_type": "code",
   "execution_count": 19,
   "metadata": {},
   "outputs": [
    {
     "name": "stdout",
     "output_type": "stream",
     "text": [
      "-0.2981667400013557\n",
      "[-0.01190272 -0.01887814  0.00219741  0.01254278 -0.0048143   0.01765431\n",
      "  0.01901522 -0.00601373 -0.01061144 -0.00850038  0.06276586  0.03093015\n",
      " -0.01969719 -0.03043807  0.02631438 -0.05141571  0.03155708 -0.04235083\n",
      "  0.03779334  0.01534616  0.00566658  0.04411827  0.0417062  -0.12130095\n",
      " -0.02039089  0.01750791  0.02276475 -0.00084806  0.04654403 -0.01104434\n",
      " -0.11540696 -0.01012403 -0.03269764 -0.0650931  -0.02840306 -0.01232377\n",
      " -0.00057322  0.00447464 -0.02101434 -0.03734835 -0.00792522  0.02406489\n",
      "  0.02865038 -0.00359002  0.00551921  0.00774705  0.02249838  0.0471961\n",
      " -0.01353739 -0.01005636  0.0332297   0.00415977 -0.00482654]\n"
     ]
    }
   ],
   "source": [
    "print(model.intercept_)\n",
    "print(model.coef_)"
   ]
  },
  {
   "cell_type": "code",
   "execution_count": 20,
   "metadata": {},
   "outputs": [
    {
     "data": {
      "text/plain": [
       "<matplotlib.axes._subplots.AxesSubplot at 0x2736e3ce848>"
      ]
     },
     "execution_count": 20,
     "metadata": {},
     "output_type": "execute_result"
    },
    {
     "data": {
      "image/png": "[encoded data removed]",
      "text/plain": [
       "<Figure size 1440x432 with 1 Axes>"
      ]
     },
     "metadata": {
      "needs_background": "light"
     },
     "output_type": "display_data"
    }
   ],
   "source": [
    "df[['hmat', 'predicted']].plot(alpha=0.5,figsize=(20,6))"
   ]
  },
  {
   "cell_type": "code",
   "execution_count": 21,
   "metadata": {},
   "outputs": [
    {
     "data": {
      "text/plain": [
       "<matplotlib.axes._subplots.AxesSubplot at 0x2733966dc08>"
      ]
     },
     "execution_count": 21,
     "metadata": {},
     "output_type": "execute_result"
    },
    {
     "data": {
      "image/png": "[encoded data removed]",
      "text/plain": [
       "<Figure size 1440x432 with 1 Axes>"
      ]
     },
     "metadata": {
      "needs_background": "light"
     },
     "output_type": "display_data"
    }
   ],
   "source": [
    "df[['hmat', 'y_cv_mat']].plot(alpha=0.5,figsize=(20,6))"
   ]
  },
  {
   "cell_type": "markdown",
   "metadata": {},
   "source": [
    "#### Regresión Lineal usando la variable hlec"
   ]
  },
  {
   "cell_type": "code",
   "execution_count": 22,
   "metadata": {},
   "outputs": [],
   "source": [
    "hlec = df['hlec'] ###Variable dependiente o de respuesta"
   ]
  },
  {
   "cell_type": "code",
   "execution_count": 23,
   "metadata": {},
   "outputs": [
    {
     "data": {
      "text/plain": [
       "LinearRegression(copy_X=True, fit_intercept=True, n_jobs=None, normalize=False)"
      ]
     },
     "execution_count": 23,
     "metadata": {},
     "output_type": "execute_result"
    }
   ],
   "source": [
    "model = LinearRegression(fit_intercept=True)\n",
    "model.fit(cpa_reg,hlec)"
   ]
  },
  {
   "cell_type": "code",
   "execution_count": 24,
   "metadata": {},
   "outputs": [],
   "source": [
    "df['predicted'] = model.predict(cpa_reg)"
   ]
  },
  {
   "cell_type": "code",
   "execution_count": 25,
   "metadata": {},
   "outputs": [
    {
     "data": {
      "text/plain": [
       " 0.268015    4\n",
       " 0.213114    4\n",
       " 0.041846    2\n",
       " 0.374882    2\n",
       "-0.003860    2\n",
       "            ..\n",
       " 0.736358    1\n",
       " 0.075484    1\n",
       " 0.662927    1\n",
       " 0.546760    1\n",
       "-0.442621    1\n",
       "Name: predicted, Length: 560601, dtype: int64"
      ]
     },
     "execution_count": 25,
     "metadata": {},
     "output_type": "execute_result"
    }
   ],
   "source": [
    "df['predicted'].value_counts(dropna=False)"
   ]
  },
  {
   "cell_type": "code",
   "execution_count": 26,
   "metadata": {},
   "outputs": [],
   "source": [
    "hlec = df['hlec'] ###Variable dependiente o de respuesta"
   ]
  },
  {
   "cell_type": "code",
   "execution_count": 27,
   "metadata": {},
   "outputs": [],
   "source": [
    "# Cross-validation\n",
    "df['y_cv_lec'] = cross_val_predict(model, cpa_reg, hlec, cv=10)"
   ]
  },
  {
   "cell_type": "code",
   "execution_count": 28,
   "metadata": {},
   "outputs": [
    {
     "data": {
      "text/plain": [
       "0.29492328591155825"
      ]
     },
     "execution_count": 28,
     "metadata": {},
     "output_type": "execute_result"
    }
   ],
   "source": [
    "r2_score(hlec, df['predicted']) #Regresa el coeficiente de determinación de la R^2 de predicción"
   ]
  },
  {
   "cell_type": "code",
   "execution_count": 29,
   "metadata": {},
   "outputs": [
    {
     "data": {
      "text/plain": [
       "0.2869967903539964"
      ]
     },
     "execution_count": 29,
     "metadata": {},
     "output_type": "execute_result"
    }
   ],
   "source": [
    "r2_score(hlec, df['y_cv_lec']) #Regresa el coeficiente de determinación de la R^2 usando cross-validation"
   ]
  },
  {
   "cell_type": "code",
   "execution_count": 30,
   "metadata": {},
   "outputs": [
    {
     "data": {
      "text/plain": [
       "0.49662222439179055"
      ]
     },
     "execution_count": 30,
     "metadata": {},
     "output_type": "execute_result"
    }
   ],
   "source": [
    "mean_squared_error(hlec, df['predicted']) ##Error cuadrático medio de la predicción"
   ]
  },
  {
   "cell_type": "code",
   "execution_count": 31,
   "metadata": {},
   "outputs": [
    {
     "data": {
      "text/plain": [
       "0.5022052677355454"
      ]
     },
     "execution_count": 31,
     "metadata": {},
     "output_type": "execute_result"
    }
   ],
   "source": [
    "mean_squared_error(hlec, df['y_cv_lec']) ###Error cuadrático medio usando validación cruzada"
   ]
  },
  {
   "cell_type": "code",
   "execution_count": 32,
   "metadata": {},
   "outputs": [
    {
     "name": "stdout",
     "output_type": "stream",
     "text": [
      "0.2980638124168341\n",
      "[-0.01683887 -0.01679111 -0.00367666 -0.00371108 -0.00683929  0.02048244\n",
      "  0.00534735 -0.02898815 -0.01601562 -0.03273295  0.03459597  0.01390016\n",
      " -0.01013792 -0.04904725  0.00658834 -0.08003056  0.05962165 -0.05755322\n",
      "  0.06007613  0.01083826 -0.02058272  0.0464183   0.02275333 -0.11650581\n",
      " -0.0261106   0.01019679  0.01448819  0.00482977  0.03643772 -0.02751713\n",
      " -0.07903117 -0.04213195 -0.00240795 -0.03895899 -0.02321392 -0.01611005\n",
      "  0.00527629 -0.02206813 -0.00357602 -0.0590956  -0.00634653  0.03289328\n",
      "  0.00406118 -0.00245072 -0.00109301  0.02032554  0.01952671  0.05241492\n",
      " -0.00019341 -0.01099261  0.01990512  0.00672399 -0.01345337]\n"
     ]
    }
   ],
   "source": [
    "print(model.intercept_)\n",
    "print(model.coef_)"
   ]
  },
  {
   "cell_type": "code",
   "execution_count": 33,
   "metadata": {},
   "outputs": [
    {
     "data": {
      "text/plain": [
       "<matplotlib.axes._subplots.AxesSubplot at 0x273798c8648>"
      ]
     },
     "execution_count": 33,
     "metadata": {},
     "output_type": "execute_result"
    },
    {
     "data": {
      "image/png": "[encoded data removed]",
      "text/plain": [
       "<Figure size 1440x432 with 1 Axes>"
      ]
     },
     "metadata": {
      "needs_background": "light"
     },
     "output_type": "display_data"
    }
   ],
   "source": [
    "df[['hlec', 'predicted']].plot(alpha=0.5,figsize=(20,6))"
   ]
  },
  {
   "cell_type": "code",
   "execution_count": 34,
   "metadata": {},
   "outputs": [
    {
     "data": {
      "text/plain": [
       "<matplotlib.axes._subplots.AxesSubplot at 0x27338ed6a88>"
      ]
     },
     "execution_count": 34,
     "metadata": {},
     "output_type": "execute_result"
    },
    {
     "data": {
      "image/png": "[encoded data removed]",
      "text/plain": [
       "<Figure size 1440x432 with 1 Axes>"
      ]
     },
     "metadata": {
      "needs_background": "light"
     },
     "output_type": "display_data"
    }
   ],
   "source": [
    "df[['hlec', 'y_cv_lec']].plot(alpha=0.5,figsize=(20,6))"
   ]
  },
  {
   "cell_type": "markdown",
   "metadata": {},
   "source": [
    "### K - Means\n",
    "\n",
    "- Se utiliza este algoritmo para el análisis de conglomerados. "
   ]
  },
  {
   "cell_type": "code",
   "execution_count": 35,
   "metadata": {},
   "outputs": [],
   "source": [
    "secciones = pd.read_csv('../../results/data_results/secciones.csv') #### Variables independientes o explicativas"
   ]
  },
  {
   "cell_type": "code",
   "execution_count": 36,
   "metadata": {},
   "outputs": [
    {
     "data": {
      "text/plain": [
       "(560626, 182)"
      ]
     },
     "execution_count": 36,
     "metadata": {},
     "output_type": "execute_result"
    }
   ],
   "source": [
    "secciones.shape ##182 columnas que representan 182 preguntas"
   ]
  },
  {
   "cell_type": "code",
   "execution_count": 37,
   "metadata": {},
   "outputs": [],
   "source": [
    "### Se cargan las funciones\n",
    "import sklearn as sk\n",
    "from sklearn import preprocessing\n",
    "from sklearn.cluster import KMeans\n",
    "from sklearn.decomposition import PCA\n",
    "from sklearn.preprocessing import StandardScaler"
   ]
  },
  {
   "cell_type": "code",
   "execution_count": 38,
   "metadata": {},
   "outputs": [],
   "source": [
    "####Se escalan los datos.\n",
    "scaler = preprocessing.StandardScaler()\n",
    "\n",
    "secciones_transf = scaler.fit_transform(secciones)"
   ]
  },
  {
   "cell_type": "code",
   "execution_count": 39,
   "metadata": {},
   "outputs": [],
   "source": [
    "####Se obtienen los atributos que conforman la función componentes_principales \n",
    "pca, varianza_explicada, componentesprincipales, val_sing, pca.components_, eigenvalues = PCA_from_sklearn.componentes_principales(secciones_transf)"
   ]
  },
  {
   "cell_type": "code",
   "execution_count": 40,
   "metadata": {},
   "outputs": [],
   "source": [
    "componentes = pd.DataFrame(pca.components_.T, index=secciones.columns)"
   ]
  },
  {
   "cell_type": "code",
   "execution_count": 41,
   "metadata": {},
   "outputs": [
    {
     "data": {
      "text/html": [
       "<div>\n",
       "<style scoped>\n",
       "    .dataframe tbody tr th:only-of-type {\n",
       "        vertical-align: middle;\n",
       "    }\n",
       "\n",
       "    .dataframe tbody tr th {\n",
       "        vertical-align: top;\n",
       "    }\n",
       "\n",
       "    .dataframe thead th {\n",
       "        text-align: right;\n",
       "    }\n",
       "</style>\n",
       "<table border=\"1\" class=\"dataframe\">\n",
       "  <thead>\n",
       "    <tr style=\"text-align: right;\">\n",
       "      <th></th>\n",
       "      <th>0</th>\n",
       "      <th>1</th>\n",
       "      <th>2</th>\n",
       "      <th>3</th>\n",
       "      <th>4</th>\n",
       "      <th>5</th>\n",
       "      <th>6</th>\n",
       "      <th>7</th>\n",
       "      <th>8</th>\n",
       "      <th>9</th>\n",
       "      <th>...</th>\n",
       "      <th>41</th>\n",
       "      <th>42</th>\n",
       "      <th>43</th>\n",
       "      <th>44</th>\n",
       "      <th>45</th>\n",
       "      <th>46</th>\n",
       "      <th>47</th>\n",
       "      <th>48</th>\n",
       "      <th>49</th>\n",
       "      <th>50</th>\n",
       "    </tr>\n",
       "  </thead>\n",
       "  <tbody>\n",
       "    <tr>\n",
       "      <th>p1</th>\n",
       "      <td>0.022862</td>\n",
       "      <td>-0.004443</td>\n",
       "      <td>0.006946</td>\n",
       "      <td>0.038970</td>\n",
       "      <td>0.203431</td>\n",
       "      <td>0.082588</td>\n",
       "      <td>0.003991</td>\n",
       "      <td>-0.002017</td>\n",
       "      <td>0.094480</td>\n",
       "      <td>-0.063037</td>\n",
       "      <td>...</td>\n",
       "      <td>0.029306</td>\n",
       "      <td>0.038845</td>\n",
       "      <td>-0.057165</td>\n",
       "      <td>0.037956</td>\n",
       "      <td>-0.029691</td>\n",
       "      <td>-0.052630</td>\n",
       "      <td>0.053597</td>\n",
       "      <td>-0.002444</td>\n",
       "      <td>0.005159</td>\n",
       "      <td>-0.020902</td>\n",
       "    </tr>\n",
       "    <tr>\n",
       "      <th>p2</th>\n",
       "      <td>0.022654</td>\n",
       "      <td>-0.031376</td>\n",
       "      <td>0.010577</td>\n",
       "      <td>0.033361</td>\n",
       "      <td>0.085657</td>\n",
       "      <td>-0.003010</td>\n",
       "      <td>-0.010225</td>\n",
       "      <td>0.023393</td>\n",
       "      <td>0.048647</td>\n",
       "      <td>-0.078342</td>\n",
       "      <td>...</td>\n",
       "      <td>-0.088962</td>\n",
       "      <td>0.071134</td>\n",
       "      <td>-0.008713</td>\n",
       "      <td>0.153424</td>\n",
       "      <td>-0.107199</td>\n",
       "      <td>-0.044720</td>\n",
       "      <td>-0.031048</td>\n",
       "      <td>0.159078</td>\n",
       "      <td>-0.019917</td>\n",
       "      <td>0.088417</td>\n",
       "    </tr>\n",
       "    <tr>\n",
       "      <th>p3_A</th>\n",
       "      <td>-0.018898</td>\n",
       "      <td>0.015495</td>\n",
       "      <td>-0.012637</td>\n",
       "      <td>-0.021723</td>\n",
       "      <td>-0.038884</td>\n",
       "      <td>-0.008613</td>\n",
       "      <td>0.021359</td>\n",
       "      <td>-0.055049</td>\n",
       "      <td>-0.072775</td>\n",
       "      <td>0.077313</td>\n",
       "      <td>...</td>\n",
       "      <td>0.005769</td>\n",
       "      <td>0.029286</td>\n",
       "      <td>-0.040516</td>\n",
       "      <td>0.026258</td>\n",
       "      <td>-0.066397</td>\n",
       "      <td>-0.024153</td>\n",
       "      <td>-0.033014</td>\n",
       "      <td>0.037851</td>\n",
       "      <td>-0.007682</td>\n",
       "      <td>0.047719</td>\n",
       "    </tr>\n",
       "    <tr>\n",
       "      <th>p3_B</th>\n",
       "      <td>0.015631</td>\n",
       "      <td>-0.014244</td>\n",
       "      <td>0.009249</td>\n",
       "      <td>0.020929</td>\n",
       "      <td>0.030560</td>\n",
       "      <td>0.009831</td>\n",
       "      <td>-0.031594</td>\n",
       "      <td>0.049750</td>\n",
       "      <td>0.065280</td>\n",
       "      <td>-0.080338</td>\n",
       "      <td>...</td>\n",
       "      <td>-0.051167</td>\n",
       "      <td>-0.021316</td>\n",
       "      <td>-0.062558</td>\n",
       "      <td>-0.138745</td>\n",
       "      <td>-0.001269</td>\n",
       "      <td>0.044978</td>\n",
       "      <td>-0.007296</td>\n",
       "      <td>0.103969</td>\n",
       "      <td>-0.091845</td>\n",
       "      <td>0.042860</td>\n",
       "    </tr>\n",
       "    <tr>\n",
       "      <th>p3_C</th>\n",
       "      <td>0.009939</td>\n",
       "      <td>-0.002157</td>\n",
       "      <td>0.010293</td>\n",
       "      <td>0.007458</td>\n",
       "      <td>0.025871</td>\n",
       "      <td>-0.000636</td>\n",
       "      <td>0.011045</td>\n",
       "      <td>0.018974</td>\n",
       "      <td>0.033060</td>\n",
       "      <td>-0.012620</td>\n",
       "      <td>...</td>\n",
       "      <td>0.124189</td>\n",
       "      <td>-0.023704</td>\n",
       "      <td>0.288634</td>\n",
       "      <td>0.311162</td>\n",
       "      <td>0.188854</td>\n",
       "      <td>-0.056956</td>\n",
       "      <td>0.114832</td>\n",
       "      <td>-0.398273</td>\n",
       "      <td>0.281185</td>\n",
       "      <td>-0.257136</td>\n",
       "    </tr>\n",
       "    <tr>\n",
       "      <th>...</th>\n",
       "      <td>...</td>\n",
       "      <td>...</td>\n",
       "      <td>...</td>\n",
       "      <td>...</td>\n",
       "      <td>...</td>\n",
       "      <td>...</td>\n",
       "      <td>...</td>\n",
       "      <td>...</td>\n",
       "      <td>...</td>\n",
       "      <td>...</td>\n",
       "      <td>...</td>\n",
       "      <td>...</td>\n",
       "      <td>...</td>\n",
       "      <td>...</td>\n",
       "      <td>...</td>\n",
       "      <td>...</td>\n",
       "      <td>...</td>\n",
       "      <td>...</td>\n",
       "      <td>...</td>\n",
       "      <td>...</td>\n",
       "      <td>...</td>\n",
       "    </tr>\n",
       "    <tr>\n",
       "      <th>p150</th>\n",
       "      <td>0.046506</td>\n",
       "      <td>-0.183581</td>\n",
       "      <td>0.026222</td>\n",
       "      <td>0.087230</td>\n",
       "      <td>-0.051306</td>\n",
       "      <td>-0.075408</td>\n",
       "      <td>0.037437</td>\n",
       "      <td>-0.024480</td>\n",
       "      <td>-0.016436</td>\n",
       "      <td>-0.101569</td>\n",
       "      <td>...</td>\n",
       "      <td>0.031535</td>\n",
       "      <td>0.012566</td>\n",
       "      <td>-0.032599</td>\n",
       "      <td>0.021902</td>\n",
       "      <td>0.009101</td>\n",
       "      <td>-0.000630</td>\n",
       "      <td>0.116302</td>\n",
       "      <td>0.015355</td>\n",
       "      <td>0.025634</td>\n",
       "      <td>-0.052265</td>\n",
       "    </tr>\n",
       "    <tr>\n",
       "      <th>p151</th>\n",
       "      <td>-0.032276</td>\n",
       "      <td>0.116979</td>\n",
       "      <td>0.000368</td>\n",
       "      <td>-0.079539</td>\n",
       "      <td>0.082518</td>\n",
       "      <td>0.090940</td>\n",
       "      <td>0.043779</td>\n",
       "      <td>-0.002683</td>\n",
       "      <td>-0.046925</td>\n",
       "      <td>0.110473</td>\n",
       "      <td>...</td>\n",
       "      <td>0.074810</td>\n",
       "      <td>0.013199</td>\n",
       "      <td>-0.065810</td>\n",
       "      <td>0.033189</td>\n",
       "      <td>0.096348</td>\n",
       "      <td>0.002952</td>\n",
       "      <td>0.060306</td>\n",
       "      <td>-0.088532</td>\n",
       "      <td>0.024974</td>\n",
       "      <td>-0.068052</td>\n",
       "    </tr>\n",
       "    <tr>\n",
       "      <th>p152</th>\n",
       "      <td>-0.060556</td>\n",
       "      <td>0.188038</td>\n",
       "      <td>-0.012388</td>\n",
       "      <td>-0.082108</td>\n",
       "      <td>0.072673</td>\n",
       "      <td>0.080554</td>\n",
       "      <td>0.051739</td>\n",
       "      <td>0.011662</td>\n",
       "      <td>-0.046535</td>\n",
       "      <td>0.087723</td>\n",
       "      <td>...</td>\n",
       "      <td>0.052182</td>\n",
       "      <td>-0.018970</td>\n",
       "      <td>-0.026598</td>\n",
       "      <td>0.020444</td>\n",
       "      <td>0.038061</td>\n",
       "      <td>0.013101</td>\n",
       "      <td>-0.031159</td>\n",
       "      <td>-0.026220</td>\n",
       "      <td>0.010964</td>\n",
       "      <td>-0.000666</td>\n",
       "    </tr>\n",
       "    <tr>\n",
       "      <th>p153</th>\n",
       "      <td>-0.042978</td>\n",
       "      <td>0.145868</td>\n",
       "      <td>-0.009289</td>\n",
       "      <td>-0.102637</td>\n",
       "      <td>0.064400</td>\n",
       "      <td>0.105805</td>\n",
       "      <td>-0.014754</td>\n",
       "      <td>-0.022515</td>\n",
       "      <td>-0.072013</td>\n",
       "      <td>0.145614</td>\n",
       "      <td>...</td>\n",
       "      <td>0.049683</td>\n",
       "      <td>-0.004978</td>\n",
       "      <td>-0.074427</td>\n",
       "      <td>0.010934</td>\n",
       "      <td>0.074532</td>\n",
       "      <td>0.014387</td>\n",
       "      <td>0.064467</td>\n",
       "      <td>-0.076968</td>\n",
       "      <td>0.015095</td>\n",
       "      <td>-0.065164</td>\n",
       "    </tr>\n",
       "    <tr>\n",
       "      <th>p154</th>\n",
       "      <td>-0.043453</td>\n",
       "      <td>0.158196</td>\n",
       "      <td>-0.008747</td>\n",
       "      <td>-0.088344</td>\n",
       "      <td>0.105006</td>\n",
       "      <td>0.096348</td>\n",
       "      <td>0.026100</td>\n",
       "      <td>-0.032784</td>\n",
       "      <td>-0.053798</td>\n",
       "      <td>0.082281</td>\n",
       "      <td>...</td>\n",
       "      <td>0.078637</td>\n",
       "      <td>-0.051196</td>\n",
       "      <td>-0.054942</td>\n",
       "      <td>0.009819</td>\n",
       "      <td>0.038929</td>\n",
       "      <td>0.010792</td>\n",
       "      <td>0.010752</td>\n",
       "      <td>-0.018936</td>\n",
       "      <td>0.012138</td>\n",
       "      <td>-0.024814</td>\n",
       "    </tr>\n",
       "  </tbody>\n",
       "</table>\n",
       "<p>182 rows × 51 columns</p>\n",
       "</div>"
      ],
      "text/plain": [
       "            0         1         2         3         4         5         6   \\\n",
       "p1    0.022862 -0.004443  0.006946  0.038970  0.203431  0.082588  0.003991   \n",
       "p2    0.022654 -0.031376  0.010577  0.033361  0.085657 -0.003010 -0.010225   \n",
       "p3_A -0.018898  0.015495 -0.012637 -0.021723 -0.038884 -0.008613  0.021359   \n",
       "p3_B  0.015631 -0.014244  0.009249  0.020929  0.030560  0.009831 -0.031594   \n",
       "p3_C  0.009939 -0.002157  0.010293  0.007458  0.025871 -0.000636  0.011045   \n",
       "...        ...       ...       ...       ...       ...       ...       ...   \n",
       "p150  0.046506 -0.183581  0.026222  0.087230 -0.051306 -0.075408  0.037437   \n",
       "p151 -0.032276  0.116979  0.000368 -0.079539  0.082518  0.090940  0.043779   \n",
       "p152 -0.060556  0.188038 -0.012388 -0.082108  0.072673  0.080554  0.051739   \n",
       "p153 -0.042978  0.145868 -0.009289 -0.102637  0.064400  0.105805 -0.014754   \n",
       "p154 -0.043453  0.158196 -0.008747 -0.088344  0.105006  0.096348  0.026100   \n",
       "\n",
       "            7         8         9   ...        41        42        43  \\\n",
       "p1   -0.002017  0.094480 -0.063037  ...  0.029306  0.038845 -0.057165   \n",
       "p2    0.023393  0.048647 -0.078342  ... -0.088962  0.071134 -0.008713   \n",
       "p3_A -0.055049 -0.072775  0.077313  ...  0.005769  0.029286 -0.040516   \n",
       "p3_B  0.049750  0.065280 -0.080338  ... -0.051167 -0.021316 -0.062558   \n",
       "p3_C  0.018974  0.033060 -0.012620  ...  0.124189 -0.023704  0.288634   \n",
       "...        ...       ...       ...  ...       ...       ...       ...   \n",
       "p150 -0.024480 -0.016436 -0.101569  ...  0.031535  0.012566 -0.032599   \n",
       "p151 -0.002683 -0.046925  0.110473  ...  0.074810  0.013199 -0.065810   \n",
       "p152  0.011662 -0.046535  0.087723  ...  0.052182 -0.018970 -0.026598   \n",
       "p153 -0.022515 -0.072013  0.145614  ...  0.049683 -0.004978 -0.074427   \n",
       "p154 -0.032784 -0.053798  0.082281  ...  0.078637 -0.051196 -0.054942   \n",
       "\n",
       "            44        45        46        47        48        49        50  \n",
       "p1    0.037956 -0.029691 -0.052630  0.053597 -0.002444  0.005159 -0.020902  \n",
       "p2    0.153424 -0.107199 -0.044720 -0.031048  0.159078 -0.019917  0.088417  \n",
       "p3_A  0.026258 -0.066397 -0.024153 -0.033014  0.037851 -0.007682  0.047719  \n",
       "p3_B -0.138745 -0.001269  0.044978 -0.007296  0.103969 -0.091845  0.042860  \n",
       "p3_C  0.311162  0.188854 -0.056956  0.114832 -0.398273  0.281185 -0.257136  \n",
       "...        ...       ...       ...       ...       ...       ...       ...  \n",
       "p150  0.021902  0.009101 -0.000630  0.116302  0.015355  0.025634 -0.052265  \n",
       "p151  0.033189  0.096348  0.002952  0.060306 -0.088532  0.024974 -0.068052  \n",
       "p152  0.020444  0.038061  0.013101 -0.031159 -0.026220  0.010964 -0.000666  \n",
       "p153  0.010934  0.074532  0.014387  0.064467 -0.076968  0.015095 -0.065164  \n",
       "p154  0.009819  0.038929  0.010792  0.010752 -0.018936  0.012138 -0.024814  \n",
       "\n",
       "[182 rows x 51 columns]"
      ]
     },
     "execution_count": 41,
     "metadata": {},
     "output_type": "execute_result"
    }
   ],
   "source": [
    "####Se eligieron 51 componentes principales, por lo que a continuación se muestran los ejes principales que representan las direcciones de máxima varianza en los datos\n",
    "componentes"
   ]
  },
  {
   "cell_type": "code",
   "execution_count": 42,
   "metadata": {},
   "outputs": [
    {
     "data": {
      "text/plain": [
       "array([0.06861742, 0.05235841, 0.03664514, 0.02799373, 0.02348827,\n",
       "       0.02097524, 0.0193528 , 0.01606884, 0.01479487, 0.01365788,\n",
       "       0.01295298, 0.01251693, 0.01193779, 0.01178882, 0.01129784,\n",
       "       0.01040401, 0.01020156, 0.00980334, 0.00937093, 0.00909077,\n",
       "       0.00884647, 0.00833641, 0.00829811, 0.00809061, 0.00780512,\n",
       "       0.00746125, 0.0072583 , 0.0069585 , 0.00688668, 0.00686441,\n",
       "       0.00668339, 0.00646301, 0.00641225, 0.00633612, 0.00628751,\n",
       "       0.00624047, 0.00612646, 0.00610336, 0.00599388, 0.00594196,\n",
       "       0.00589024, 0.00579091, 0.00576721, 0.00573727, 0.00569002,\n",
       "       0.00564933, 0.00557981, 0.00557111, 0.00551833, 0.00551252,\n",
       "       0.00549963])"
      ]
     },
     "execution_count": 42,
     "metadata": {},
     "output_type": "execute_result"
    }
   ],
   "source": [
    "varianza_explicada"
   ]
  },
  {
   "cell_type": "code",
   "execution_count": 43,
   "metadata": {},
   "outputs": [
    {
     "data": {
      "text/plain": [
       "array([12.48839263,  9.52924759,  6.66942697,  5.09486759,  4.27487232,\n",
       "        3.81750108,  3.52221508,  2.92453378,  2.69267186,  2.48573904,\n",
       "        2.35744584,  2.27808594,  2.17268108,  2.14556853,  2.0562111 ,\n",
       "        1.8935335 ,  1.85668662,  1.78421057,  1.70551141,  1.65452331,\n",
       "        1.61006027,  1.51722985,  1.51025845,  1.47249298,  1.42053357,\n",
       "        1.35795006,  1.32101233,  1.26644975,  1.25337764,  1.24932402,\n",
       "        1.21637888,  1.17627069,  1.16703222,  1.15317596,  1.14432815,\n",
       "        1.13576816,  1.115017  ,  1.11081389,  1.0908884 ,  1.0814381 ,\n",
       "        1.07202595,  1.05394738,  1.04963346,  1.04418588,  1.03558485,\n",
       "        1.02818078,  1.01552659,  1.0139444 ,  1.00433725,  1.00328067,\n",
       "        1.00093423])"
      ]
     },
     "execution_count": 43,
     "metadata": {},
     "output_type": "execute_result"
    }
   ],
   "source": [
    "eigenvalues"
   ]
  },
  {
   "cell_type": "markdown",
   "metadata": {},
   "source": [
    "- De acuerdo a los criterios de varianza explicada y de eigenvalues mayores a 1, se sugieren 51 componentes principales, lo que significa 51 dimensiones, sin embargo se reducirá a dos dimensiones para utilizar el método de K-Means"
   ]
  },
  {
   "cell_type": "code",
   "execution_count": 44,
   "metadata": {},
   "outputs": [
    {
     "data": {
      "text/html": [
       "<div>\n",
       "<style scoped>\n",
       "    .dataframe tbody tr th:only-of-type {\n",
       "        vertical-align: middle;\n",
       "    }\n",
       "\n",
       "    .dataframe tbody tr th {\n",
       "        vertical-align: top;\n",
       "    }\n",
       "\n",
       "    .dataframe thead th {\n",
       "        text-align: right;\n",
       "    }\n",
       "</style>\n",
       "<table border=\"1\" class=\"dataframe\">\n",
       "  <thead>\n",
       "    <tr style=\"text-align: right;\">\n",
       "      <th></th>\n",
       "      <th>principal_component_1</th>\n",
       "      <th>principal_component_2</th>\n",
       "    </tr>\n",
       "  </thead>\n",
       "  <tbody>\n",
       "    <tr>\n",
       "      <th>p1</th>\n",
       "      <td>0.022862</td>\n",
       "      <td>-0.004443</td>\n",
       "    </tr>\n",
       "    <tr>\n",
       "      <th>p2</th>\n",
       "      <td>0.022654</td>\n",
       "      <td>-0.031376</td>\n",
       "    </tr>\n",
       "    <tr>\n",
       "      <th>p3_A</th>\n",
       "      <td>-0.018898</td>\n",
       "      <td>0.015495</td>\n",
       "    </tr>\n",
       "    <tr>\n",
       "      <th>p3_B</th>\n",
       "      <td>0.015631</td>\n",
       "      <td>-0.014244</td>\n",
       "    </tr>\n",
       "    <tr>\n",
       "      <th>p3_C</th>\n",
       "      <td>0.009939</td>\n",
       "      <td>-0.002157</td>\n",
       "    </tr>\n",
       "    <tr>\n",
       "      <th>...</th>\n",
       "      <td>...</td>\n",
       "      <td>...</td>\n",
       "    </tr>\n",
       "    <tr>\n",
       "      <th>p150</th>\n",
       "      <td>0.046506</td>\n",
       "      <td>-0.183581</td>\n",
       "    </tr>\n",
       "    <tr>\n",
       "      <th>p151</th>\n",
       "      <td>-0.032276</td>\n",
       "      <td>0.116979</td>\n",
       "    </tr>\n",
       "    <tr>\n",
       "      <th>p152</th>\n",
       "      <td>-0.060556</td>\n",
       "      <td>0.188038</td>\n",
       "    </tr>\n",
       "    <tr>\n",
       "      <th>p153</th>\n",
       "      <td>-0.042978</td>\n",
       "      <td>0.145868</td>\n",
       "    </tr>\n",
       "    <tr>\n",
       "      <th>p154</th>\n",
       "      <td>-0.043453</td>\n",
       "      <td>0.158196</td>\n",
       "    </tr>\n",
       "  </tbody>\n",
       "</table>\n",
       "<p>182 rows × 2 columns</p>\n",
       "</div>"
      ],
      "text/plain": [
       "      principal_component_1  principal_component_2\n",
       "p1                 0.022862              -0.004443\n",
       "p2                 0.022654              -0.031376\n",
       "p3_A              -0.018898               0.015495\n",
       "p3_B               0.015631              -0.014244\n",
       "p3_C               0.009939              -0.002157\n",
       "...                     ...                    ...\n",
       "p150               0.046506              -0.183581\n",
       "p151              -0.032276               0.116979\n",
       "p152              -0.060556               0.188038\n",
       "p153              -0.042978               0.145868\n",
       "p154              -0.043453               0.158196\n",
       "\n",
       "[182 rows x 2 columns]"
      ]
     },
     "execution_count": 44,
     "metadata": {},
     "output_type": "execute_result"
    }
   ],
   "source": [
    "####Se eligieron dos componentes principales, por lo que a continuación se muestran los ejes principales que representan las direcciones de máxima varianza en los datos\n",
    "componentes = componentes.loc[:, [0,1]]\n",
    "componentes = componentes.rename(columns={'index': 'preguntas', 0:'principal_component_1', 1:'principal_component_2'})\n",
    "componentes"
   ]
  },
  {
   "cell_type": "code",
   "execution_count": 45,
   "metadata": {},
   "outputs": [],
   "source": [
    "##Se convierte a valor absoluto el dataframe para poder explicar qué preguntas se asocian a cada componente.\n",
    "componentes = componentes.abs()"
   ]
  },
  {
   "cell_type": "code",
   "execution_count": 46,
   "metadata": {},
   "outputs": [
    {
     "data": {
      "text/html": [
       "<div>\n",
       "<style scoped>\n",
       "    .dataframe tbody tr th:only-of-type {\n",
       "        vertical-align: middle;\n",
       "    }\n",
       "\n",
       "    .dataframe tbody tr th {\n",
       "        vertical-align: top;\n",
       "    }\n",
       "\n",
       "    .dataframe thead th {\n",
       "        text-align: right;\n",
       "    }\n",
       "</style>\n",
       "<table border=\"1\" class=\"dataframe\">\n",
       "  <thead>\n",
       "    <tr style=\"text-align: right;\">\n",
       "      <th></th>\n",
       "      <th>principal_component_1</th>\n",
       "      <th>principal_component_2</th>\n",
       "    </tr>\n",
       "  </thead>\n",
       "  <tbody>\n",
       "    <tr>\n",
       "      <th>p107</th>\n",
       "      <td>0.168460</td>\n",
       "      <td>0.037471</td>\n",
       "    </tr>\n",
       "    <tr>\n",
       "      <th>p100</th>\n",
       "      <td>0.161344</td>\n",
       "      <td>0.087089</td>\n",
       "    </tr>\n",
       "    <tr>\n",
       "      <th>p99</th>\n",
       "      <td>0.161069</td>\n",
       "      <td>0.087752</td>\n",
       "    </tr>\n",
       "  </tbody>\n",
       "</table>\n",
       "</div>"
      ],
      "text/plain": [
       "      principal_component_1  principal_component_2\n",
       "p107               0.168460               0.037471\n",
       "p100               0.161344               0.087089\n",
       "p99                0.161069               0.087752"
      ]
     },
     "execution_count": 46,
     "metadata": {},
     "output_type": "execute_result"
    }
   ],
   "source": [
    "##Ordenamos para obtener las 3 primeras preguntas asociadas al primer componente principal\n",
    "componentes.sort_values('principal_component_1',ascending=False).head(3) "
   ]
  },
  {
   "cell_type": "markdown",
   "metadata": {},
   "source": [
    "Por lo tanto, las preguntas 107, 100 y 99 se asocian más al primer componente principal y que se refieren a lo siguiente:\n",
    "- p107 ¿Con qué frecuencia tu(s) maestro(s) de matemáticas relaciona(n) tus conocimientos previos con los nuevos?\n",
    "- p100 ¿Con qué frecuencia tu(s) maestro(s) de matemáticas presenta(n) los temas de manera ordenada?\n",
    "- p99 ¿Con qué frecuencia tu(s) maestro(s) de matemáticas resuelve(n)  dudas  y preguntas en clase? "
   ]
  },
  {
   "cell_type": "code",
   "execution_count": 47,
   "metadata": {},
   "outputs": [
    {
     "data": {
      "text/html": [
       "<div>\n",
       "<style scoped>\n",
       "    .dataframe tbody tr th:only-of-type {\n",
       "        vertical-align: middle;\n",
       "    }\n",
       "\n",
       "    .dataframe tbody tr th {\n",
       "        vertical-align: top;\n",
       "    }\n",
       "\n",
       "    .dataframe thead th {\n",
       "        text-align: right;\n",
       "    }\n",
       "</style>\n",
       "<table border=\"1\" class=\"dataframe\">\n",
       "  <thead>\n",
       "    <tr style=\"text-align: right;\">\n",
       "      <th></th>\n",
       "      <th>principal_component_1</th>\n",
       "      <th>principal_component_2</th>\n",
       "    </tr>\n",
       "  </thead>\n",
       "  <tbody>\n",
       "    <tr>\n",
       "      <th>p138</th>\n",
       "      <td>0.066462</td>\n",
       "      <td>0.189885</td>\n",
       "    </tr>\n",
       "    <tr>\n",
       "      <th>p152</th>\n",
       "      <td>0.060556</td>\n",
       "      <td>0.188038</td>\n",
       "    </tr>\n",
       "    <tr>\n",
       "      <th>p139</th>\n",
       "      <td>0.068197</td>\n",
       "      <td>0.186720</td>\n",
       "    </tr>\n",
       "  </tbody>\n",
       "</table>\n",
       "</div>"
      ],
      "text/plain": [
       "      principal_component_1  principal_component_2\n",
       "p138               0.066462               0.189885\n",
       "p152               0.060556               0.188038\n",
       "p139               0.068197               0.186720"
      ]
     },
     "execution_count": 47,
     "metadata": {},
     "output_type": "execute_result"
    }
   ],
   "source": [
    "##Ordenamos para obtener las 3 primeras preguntas asociadas al segundo componente principal\n",
    "componentes.sort_values('principal_component_2',ascending=False).head(3) "
   ]
  },
  {
   "cell_type": "markdown",
   "metadata": {},
   "source": [
    "Por lo tanto, las preguntas 138, 152 y 139 se asocian más al segundo componente principal y que se refieren a lo siguiente:\n",
    "- p138 ¿Cuál es el nivel de estudios alcanzado por tu madre (contesta aunque ya haya fallecido)? \n",
    "- p152 Señala cuántas computadoras hay en tu casa.\n",
    "- p139 ¿Cuál es el nivel de estudios alcanzado por tu padre (contesta aunque ya haya fallecido)? "
   ]
  },
  {
   "cell_type": "code",
   "execution_count": 48,
   "metadata": {},
   "outputs": [
    {
     "data": {
      "text/plain": [
       "principal_component_1    p107\n",
       "principal_component_2    p138\n",
       "dtype: object"
      ]
     },
     "execution_count": 48,
     "metadata": {},
     "output_type": "execute_result"
    }
   ],
   "source": [
    "##Se obtienen las preguntas que en valor absoluto se asocian más a cada componente.\n",
    "componentes.idxmax(axis=0)"
   ]
  },
  {
   "cell_type": "markdown",
   "metadata": {},
   "source": [
    "- Se obtienen los componentes principales que son los que se usaran en K-Means."
   ]
  },
  {
   "cell_type": "code",
   "execution_count": 49,
   "metadata": {},
   "outputs": [],
   "source": [
    "componentesprincipales = pd.DataFrame(componentesprincipales)\n",
    "componentesprincipales_secciones = componentesprincipales.loc[:, [0, 1]]"
   ]
  },
  {
   "cell_type": "code",
   "execution_count": 50,
   "metadata": {},
   "outputs": [
    {
     "data": {
      "text/html": [
       "<div>\n",
       "<style scoped>\n",
       "    .dataframe tbody tr th:only-of-type {\n",
       "        vertical-align: middle;\n",
       "    }\n",
       "\n",
       "    .dataframe tbody tr th {\n",
       "        vertical-align: top;\n",
       "    }\n",
       "\n",
       "    .dataframe thead th {\n",
       "        text-align: right;\n",
       "    }\n",
       "</style>\n",
       "<table border=\"1\" class=\"dataframe\">\n",
       "  <thead>\n",
       "    <tr style=\"text-align: right;\">\n",
       "      <th></th>\n",
       "      <th>principal_component_1</th>\n",
       "      <th>principal_component_2</th>\n",
       "    </tr>\n",
       "  </thead>\n",
       "  <tbody>\n",
       "    <tr>\n",
       "      <th>0</th>\n",
       "      <td>-2.100914</td>\n",
       "      <td>-3.998240</td>\n",
       "    </tr>\n",
       "    <tr>\n",
       "      <th>1</th>\n",
       "      <td>2.311979</td>\n",
       "      <td>3.142358</td>\n",
       "    </tr>\n",
       "    <tr>\n",
       "      <th>2</th>\n",
       "      <td>1.602422</td>\n",
       "      <td>1.247602</td>\n",
       "    </tr>\n",
       "    <tr>\n",
       "      <th>3</th>\n",
       "      <td>5.036082</td>\n",
       "      <td>0.109165</td>\n",
       "    </tr>\n",
       "    <tr>\n",
       "      <th>4</th>\n",
       "      <td>0.846103</td>\n",
       "      <td>0.157318</td>\n",
       "    </tr>\n",
       "    <tr>\n",
       "      <th>...</th>\n",
       "      <td>...</td>\n",
       "      <td>...</td>\n",
       "    </tr>\n",
       "    <tr>\n",
       "      <th>560621</th>\n",
       "      <td>3.611869</td>\n",
       "      <td>-1.515948</td>\n",
       "    </tr>\n",
       "    <tr>\n",
       "      <th>560622</th>\n",
       "      <td>1.447360</td>\n",
       "      <td>-2.263239</td>\n",
       "    </tr>\n",
       "    <tr>\n",
       "      <th>560623</th>\n",
       "      <td>-0.911722</td>\n",
       "      <td>6.099792</td>\n",
       "    </tr>\n",
       "    <tr>\n",
       "      <th>560624</th>\n",
       "      <td>0.918641</td>\n",
       "      <td>4.354072</td>\n",
       "    </tr>\n",
       "    <tr>\n",
       "      <th>560625</th>\n",
       "      <td>-4.236517</td>\n",
       "      <td>-2.120357</td>\n",
       "    </tr>\n",
       "  </tbody>\n",
       "</table>\n",
       "<p>560626 rows × 2 columns</p>\n",
       "</div>"
      ],
      "text/plain": [
       "        principal_component_1  principal_component_2\n",
       "0                   -2.100914              -3.998240\n",
       "1                    2.311979               3.142358\n",
       "2                    1.602422               1.247602\n",
       "3                    5.036082               0.109165\n",
       "4                    0.846103               0.157318\n",
       "...                       ...                    ...\n",
       "560621               3.611869              -1.515948\n",
       "560622               1.447360              -2.263239\n",
       "560623              -0.911722               6.099792\n",
       "560624               0.918641               4.354072\n",
       "560625              -4.236517              -2.120357\n",
       "\n",
       "[560626 rows x 2 columns]"
      ]
     },
     "execution_count": 50,
     "metadata": {},
     "output_type": "execute_result"
    }
   ],
   "source": [
    "componentesprincipales_secciones = componentesprincipales_secciones.rename(columns={'index': 'preguntas', 0:'principal_component_1', 1:'principal_component_2'})\n",
    "componentesprincipales_secciones"
   ]
  },
  {
   "cell_type": "markdown",
   "metadata": {},
   "source": [
    "- Gráfica que muestra los dos componentes principales."
   ]
  },
  {
   "cell_type": "code",
   "execution_count": 51,
   "metadata": {},
   "outputs": [
    {
     "data": {
      "text/plain": [
       "Text(0, 0.5, 'Componente 2')"
      ]
     },
     "execution_count": 51,
     "metadata": {},
     "output_type": "execute_result"
    },
    {
     "data": {
      "image/png": "[encoded data removed]",
      "text/plain": [
       "<Figure size 432x288 with 1 Axes>"
      ]
     },
     "metadata": {
      "needs_background": "light"
     },
     "output_type": "display_data"
    }
   ],
   "source": [
    "plt.scatter(data=componentesprincipales_secciones, x='principal_component_1', y='principal_component_2')\n",
    "plt.xlabel('Componente 1')\n",
    "plt.ylabel('Componente 2')"
   ]
  },
  {
   "cell_type": "markdown",
   "metadata": {},
   "source": [
    "- Se obtiene el número de clusters óptimos a partir del punto de corte de la siguiente gráfica, el método que se uso fue el de Elbow. Sin embargo este proceso se tarda mucho y además nos arroja dos puntos de corte (2 y 3), por lo que se decidió paralelizar usando Dask."
   ]
  },
  {
   "cell_type": "code",
   "execution_count": 52,
   "metadata": {},
   "outputs": [
    {
     "data": {
      "image/png": "[encoded data removed]",
      "text/plain": [
       "<Figure size 432x288 with 1 Axes>"
      ]
     },
     "metadata": {
      "needs_background": "light"
     },
     "output_type": "display_data"
    }
   ],
   "source": [
    "wcss = []\n",
    "for i in range(1, 11):\n",
    "    kmeans = KMeans(n_clusters = i, init = 'k-means++', random_state = 42)\n",
    "    kmeans.fit(componentesprincipales_secciones)\n",
    "    wcss.append(kmeans.inertia_)\n",
    "\n",
    "# Gráfica de la suma de las distancias al cuadrado\n",
    "plt.plot(range(1, 11), wcss)\n",
    "plt.xlabel('Número de clusters')\n",
    "plt.ylabel('Suma de las distancias al cuadrado')\n",
    "plt.show()"
   ]
  },
  {
   "cell_type": "markdown",
   "metadata": {},
   "source": [
    "#### Cómputo en paralelo usando Dask"
   ]
  },
  {
   "cell_type": "code",
   "execution_count": 53,
   "metadata": {},
   "outputs": [],
   "source": [
    "from dask.distributed import Client, progress\n",
    "import dask_ml.cluster"
   ]
  },
  {
   "cell_type": "code",
   "execution_count": 54,
   "metadata": {},
   "outputs": [
    {
     "data": {
      "text/html": [
       "<table style=\"border: 2px solid white;\">\n",
       "<tr>\n",
       "<td style=\"vertical-align: top; border: 0px solid white\">\n",
       "<h3 style=\"text-align: left;\">Client</h3>\n",
       "<ul style=\"text-align: left; list-style: none; margin: 0; padding: 0;\">\n",
       "  <li><b>Scheduler: </b>tcp://127.0.0.1:59544</li>\n",
       "  <li><b>Dashboard: </b><a href='http://127.0.0.1:8787/status' target='_blank'>http://127.0.0.1:8787/status</a>\n",
       "</ul>\n",
       "</td>\n",
       "<td style=\"vertical-align: top; border: 0px solid white\">\n",
       "<h3 style=\"text-align: left;\">Cluster</h3>\n",
       "<ul style=\"text-align: left; list-style:none; margin: 0; padding: 0;\">\n",
       "  <li><b>Workers: </b>4</li>\n",
       "  <li><b>Cores: </b>12</li>\n",
       "  <li><b>Memory: </b>17.02 GB</li>\n",
       "</ul>\n",
       "</td>\n",
       "</tr>\n",
       "</table>"
      ],
      "text/plain": [
       "<Client: 'tcp://127.0.0.1:59544' processes=4 threads=12, memory=17.02 GB>"
      ]
     },
     "execution_count": 54,
     "metadata": {},
     "output_type": "execute_result"
    }
   ],
   "source": [
    "client = Client()\n",
    "client"
   ]
  },
  {
   "cell_type": "markdown",
   "metadata": {},
   "source": [
    "- Al dar click en el dashboard de arriba se muestra la página de status mediante bokeh, en el puerto 8787. A continuación se presenta el apartado de workers:"
   ]
  },
  {
   "cell_type": "code",
   "execution_count": 58,
   "metadata": {},
   "outputs": [
    {
     "data": {
      "image/png": "[encoded data removed]",
      "text/plain": [
       "<IPython.core.display.Image object>"
      ]
     },
     "metadata": {},
     "output_type": "display_data"
    }
   ],
   "source": [
    "from IPython.display import Image, display\n",
    "display(Image(filename='../../docs/images/dask_workers.png', embed=True))"
   ]
  },
  {
   "cell_type": "markdown",
   "metadata": {},
   "source": [
    "- Se obtiene el número de cluster óptimos paralelizando mediante Dask."
   ]
  },
  {
   "cell_type": "code",
   "execution_count": 55,
   "metadata": {},
   "outputs": [
    {
     "data": {
      "image/png": "[encoded data removed]",
      "text/plain": [
       "<Figure size 432x288 with 1 Axes>"
      ]
     },
     "metadata": {
      "needs_background": "light"
     },
     "output_type": "display_data"
    }
   ],
   "source": [
    "wcss = []\n",
    "for i in range(1, 11):\n",
    "    kmeans = dask_ml.cluster.KMeans(n_clusters = i, init = 'k-means++', random_state = 42)\n",
    "    kmeans.fit(componentesprincipales_secciones)\n",
    "    wcss.append(kmeans.inertia_)\n",
    "\n",
    "# Gráfica de la suma de las distancias al cuadrado\n",
    "plt.plot(range(1, 11), wcss)\n",
    "plt.xlabel('Número de clusters')\n",
    "plt.ylabel('Suma de las distancias al cuadrado')\n",
    "plt.show()"
   ]
  },
  {
   "cell_type": "markdown",
   "metadata": {},
   "source": [
    "- En la gráfica se observa que el número de clusters óptimos es de 2, así que se usaremos K- Means para dos clusters y también se paraleliza. "
   ]
  },
  {
   "cell_type": "code",
   "execution_count": 56,
   "metadata": {},
   "outputs": [],
   "source": [
    "kmeans = dask_ml.cluster.KMeans(n_clusters = 2, init = 'k-means++', random_state = 42)\n",
    "k_means = kmeans.fit(componentesprincipales_secciones)\n",
    "centers = kmeans.cluster_centers_ ###centroides de los clusters\n",
    "labels = kmeans.labels_"
   ]
  },
  {
   "cell_type": "code",
   "execution_count": 57,
   "metadata": {},
   "outputs": [
    {
     "data": {
      "text/plain": [
       "Text(0, 0.5, 'Componente 2 \\n (p138, p152, p139)')"
      ]
     },
     "execution_count": 57,
     "metadata": {},
     "output_type": "execute_result"
    },
    {
     "data": {
      "image/png": "[encoded data removed]",
      "text/plain": [
       "<Figure size 432x288 with 1 Axes>"
      ]
     },
     "metadata": {
      "needs_background": "light"
     },
     "output_type": "display_data"
    }
   ],
   "source": [
    "plt.scatter(data=componentesprincipales_secciones, x='principal_component_1', y='principal_component_2', c=labels)\n",
    "plt.scatter(centers[:, 0], centers[:, 1], c='red', s=200, alpha=0.5)\n",
    "plt.xlabel('Componente 1 \\n (p107, p100, p99)')\n",
    "plt.ylabel('Componente 2 \\n (p138, p152, p139)')"
   ]
  },
  {
   "cell_type": "markdown",
   "metadata": {},
   "source": [
    "##### Referencias:"
   ]
  },
  {
   "cell_type": "markdown",
   "metadata": {},
   "source": [
    "- Palacios M. Erick, Notas de MNO 2020, [Cómputo en paralelo - Dask](https://github.com/ITAM-DS/analisis-numerico-computo-cientifico/blob/master/temas/II.computo_paralelo/2.2.Python_dask.ipynb)\n",
    "- Tipología_manejo_agrícola por [Irene Ramos](https://github.com/iramosp/tesis-paisajes/blob/master/Tipologia_manejo_agricola.ipynb)"
   ]
  }
 ],
 "metadata": {
  "kernelspec": {
   "display_name": "Python 3",
   "language": "python",
   "name": "python3"
  },
  "language_info": {
   "codemirror_mode": {
    "name": "ipython",
    "version": 3
   },
   "file_extension": ".py",
   "mimetype": "text/x-python",
   "name": "python",
   "nbconvert_exporter": "python",
   "pygments_lexer": "ipython3",
   "version": "3.7.4"
  }
 },
 "nbformat": 4,
 "nbformat_minor": 4
}
