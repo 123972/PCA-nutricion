{
 "cells": [
  {
   "cell_type": "code",
   "execution_count": 1,
   "metadata": {},
   "outputs": [],
   "source": [
    "# Leer todas las funciones del algoritmo QR del examen pasado\n",
    "# La función creada para este proyecto se llama eigenvalores_QR, se encuentra en la siguiente sección"
   ]
  },
  {
   "cell_type": "code",
   "execution_count": 2,
   "metadata": {},
   "outputs": [],
   "source": [
    "import numpy as np\n",
    "import copy\n",
    "import codecs\n",
    "import sys\n",
    "from scipy.linalg import solve_triangular\n",
    "\n",
    "def busca_ayuda(cadena):\n",
    "    \"\"\"\n",
    "    Función que devuelve el texto de ayuda correspondiente a la función\n",
    "    que se pase como parámetro, obtenida de un unico archivo .txt\n",
    "    donde están documentadas las \"ayudas\" de todas las funciones asociadas\n",
    "    a la factorización QR (contenidas en este .py)\n",
    "    \n",
    "    params: cadena  nombre de la función de la que se desea obtener ayuda\n",
    "                    \n",
    "    return: help    ayuda de la función buscada en forma de texto\n",
    "    \n",
    "    \"\"\"\n",
    "    l=len(cadena)\n",
    "    help=codecs.open('Help_funciones_factorizacion_QR.txt', \"r\", \"utf-8\").read()\n",
    "    p_inicio=help.find(\"****i****\" + cadena)\n",
    "    p_final=help.find(\"****f****\" + cadena)\n",
    "    help=help[(p_inicio+9+l):p_final]\n",
    "    return help\n",
    "\n",
    "\n",
    "\n",
    "\n",
    "\n",
    "\n",
    "def crear_matriz_aleatoria(renglones,columnas,maximo_valor,minimo_valor,entero=False):\n",
    "    \"\"\"\n",
    "    Función de apoyo para genear matrices aleatorias\n",
    "    params: renglones       no. de renglones de la matriz\n",
    "            columnas        no. de columnas de la matriz\n",
    "            maximo_valor    valor máximo de las entradas de la matriz\n",
    "            minimo_valor    valor mínimo de las entradas de la matriz\n",
    "            entero          Indica si las entradas serán enteras (True) o no\n",
    "            \n",
    "    return: M               Matriz con numeros al azar\n",
    "    \"\"\"\n",
    "    \n",
    "    #Se checa que los parámetros sean congruentes con la funcionalidad\n",
    "    if isinstance(renglones, int)==False or isinstance(columnas, int)==False:\n",
    "        sys.exit('Los parámetros de renglones y columnas deben ser enteros positivos')\n",
    "    elif renglones<=0 or columnas<=0:\n",
    "        sys.exit('Los parámetros de renglones y columnas deben ser enteros positivos')            \n",
    "    if isinstance(maximo_valor, (int, float))==False or isinstance(minimo_valor, (int, float))==False:\n",
    "        sys.exit('Los parámetros maximo_valor y minimo_valor deben ser numericos')\n",
    "\n",
    "    #Se inicializa una matriz llena de ceros con las dimensiones deseadas (mxn)\n",
    "    M=np.zeros((renglones, columnas))\n",
    "    for i in range(renglones):\n",
    "        for j in range(columnas):\n",
    "            #Si entero es verdadero se obtiene el maximo entero menor o igual a 1 (//1)\n",
    "            if entero:\n",
    "                M[i][j]=(np.random.rand(1)*(maximo_valor+1-minimo_valor)+minimo_valor)//1\n",
    "            else:\n",
    "                M[i][j]=np.random.rand(1)*(maximo_valor-minimo_valor)+minimo_valor\n",
    "    return M\n",
    "\n",
    "#crear_matriz_aleatoria.__doc__ =busca_ayuda(\"crear_matriz_aleatoria\")\n",
    "\n",
    "\n",
    "\n",
    "\n",
    "\n",
    "\n",
    "def house(x):\n",
    "    \"\"\"\n",
    "    Función que calcula vector de householder\n",
    "    \n",
    "    params: x       vector al que se le hará la reflexión householder\n",
    "                    \n",
    "    return: Beta    factor para obtener matriz de reflexión householder Rf\n",
    "            v       vector de householder\n",
    "    \"\"\"\n",
    "    \n",
    "    #Se checa que los parámetros sean congruentes con la funcionalidad\n",
    "    if type(x) is not np.ndarray:\n",
    "        sys.exit('x debe ser de tipo numpy.ndarray')\n",
    "    \n",
    "    #longitud del vector x=(x_0,x_1,x_2,...,x_(m-1))\n",
    "    m=len(x)\n",
    "    norm_2_m=x[1:m].dot(np.transpose(x[1:m]))\n",
    "    #Se hace v=x=(1,x_1,x_2,...,x_(m-1))\n",
    "    v=np.concatenate((1,x[1:m]), axis=None)\n",
    "    Beta=0\n",
    "    #con las siguientes condiciones se checa si x es múltiplo del vector canónico e_1 \n",
    "    #y el signo de x[0]\n",
    "    if (norm_2_m==0 and x[0]>=0):\n",
    "        Beta=0\n",
    "    elif (norm_2_m==0 and x[0]<0):\n",
    "        Beta=2\n",
    "    else:\n",
    "        norm_x=np.sqrt(pow(x[0],2)+norm_2_m)\n",
    "        if (x[0]<=0):\n",
    "            v[0]=x[0]-norm_x\n",
    "        else:\n",
    "            v[0]=-norm_2_m/(x[0]+norm_x)\n",
    "        Beta=2*pow(v[0],2)/(norm_2_m+pow(v[0],2))\n",
    "        v=v/v[0]\n",
    "    return Beta, v\n",
    "\n",
    "#house.__doc__ =busca_ayuda(\"house\")\n",
    "\n",
    "\n",
    "\n",
    "\n",
    "\n",
    "\n",
    "def matriz_auxiliar_Arv(A,ind_singular=False):\n",
    "    \"\"\"\n",
    "    Función que genera una matriz que contiene los elementos r distintos de cero de la \n",
    "    matriz R y las entradas de los vectores householder v (excepto la primera), con los \n",
    "    cuales se puede calcular la matriz Q. Ambas matrices componentes de la factorización QR\n",
    "    \n",
    "    params: A      Matriz (mxn) de la que se desea obtner factorización QR\n",
    "            \n",
    "    return: Arv    Matriz (mxn) que incluye las componentes distintas de cero de la matriz R \n",
    "                   y los vectores householder con los que se puede obtener la matriz Q, y \n",
    "                   con ello la factorización QR\n",
    "    \"\"\"\n",
    "    \n",
    "    #Se checa que los parámetros sean congruentes con la funcionalidad\n",
    "    if type(A) is not np.ndarray:\n",
    "        sys.exit('A debe ser de tipo numpy.ndarray')\n",
    "    m,n=A.shape\n",
    "    if m<n:\n",
    "        sys.exit('EL numero de renglones de A debe ser mayor o igual al no. de columnas')\n",
    "    \n",
    "    #m contiene el numero de renglones y n el de columnas\n",
    "    m,n=A.shape\n",
    "    #se crea una matriz con los valores de A\n",
    "    Arv=copy.copy(A)\n",
    "    \n",
    "    #si no se pide que se cheque que la matriz es singular, se obtendrá la matriz R\n",
    "    #aún si esta es singula (que exista algún elemento de la diagonal que sea 0\n",
    "    if ind_singular==False:\n",
    "        for j in range(n):\n",
    "            beta, v=house(Arv[j:m,j])\n",
    "            #Con esta multiplicación se van generando las componentes r de la matriz R\n",
    "            Arv[j:m,j:n]=Arv[j:m,j:n]-beta*np.outer(v,(np.transpose(v)@Arv[j:m,j:n]))\n",
    "            #se guarda en cada columnas los valores de v d, excepto la primer componente (que vale 1)\n",
    "            Arv[(j+1):m,j]=v[1:(m-j)]\n",
    "    else:\n",
    "        for j in range(n):\n",
    "            beta, v=house(Arv[j:m,j])\n",
    "            Arv[j:m,j:n]=Arv[j:m,j:n]-beta*np.outer(v,(np.transpose(v)@Arv[j:m,j:n]))\n",
    "            #Si se detecta que alguna entrada de la diagonal (elemento de la maatriz R)\n",
    "            #es cero, se devuelve un valor nulo (None), y para el cálculo de Arv\n",
    "            #No se condiciona sobre si alcanza el valor de cero, sino más bien\n",
    "            #si está lo suficientemente cercano, pues dados los errores por redondeo\n",
    "            #no siempre se alcanza el cero aunque teóricamente sí lo sea, pero el\n",
    "            #algoritmos arroja un valor cercano a cero\n",
    "            if Arv[j,j]<10**(-14) and Arv[j,j]>-10**(-14):\n",
    "                return None\n",
    "            Arv[(j+1):m,j]=v[1:(m-j)]\n",
    "    return Arv\n",
    "\n",
    "#matriz_auxiliar_Arv.__doc__ =busca_ayuda(\"matriz_auxiliar_Arv\")\n",
    "\n",
    "\n",
    "\n",
    "\n",
    "\n",
    "\n",
    "def matriz_Q_R(A,ind_singular=False):\n",
    "    \"\"\"\n",
    "    Función que devuelve la matriz R y Q de la factorización QR de una matriz A\n",
    "    \n",
    "    params: A    Matriz (mxn)\n",
    "    return: Q    Matriz Q (mxm) de la factorización A=QR\n",
    "            R    Matriz Q (mxm) de la factorización A=QR\n",
    "    \"\"\"\n",
    "    \n",
    "    #Se checa que los parámetros sean congruentes con la funcionalidad\n",
    "    if type(A) is not np.ndarray:\n",
    "        sys.exit('A debe ser de tipo numpy.ndarray')\n",
    "    elif A.shape[0]<A.shape[1]:\n",
    "        sys.exit('El numero de renglones de A tiene que ser igual o mayor al no. de columnas')\n",
    "    \n",
    "    #si ind_singular es True, entonces no se devuelve la matriz R ni Q\n",
    "    #esto se plantea así como un sistema de contról, para evitar comprobar que las matrices\n",
    "    #sean singulares (y no tengan una única solución) mediante el determinante, que\n",
    "    #involucra un alto costo computacional para matrices de tamaño representativo\n",
    "    Arv=matriz_auxiliar_Arv(A,ind_singular)\n",
    "\n",
    "    if Arv is None:\n",
    "        return None, None\n",
    "    else:\n",
    "        m,n=A.shape\n",
    "        Q=np.eye(m)\n",
    "        R=copy.copy(A)\n",
    "        for j in range(n):\n",
    "            Qj=Q_j(Arv,j+1)\n",
    "            Q=Q@Qj\n",
    "            R=Q_j(Arv,j+1)@R\n",
    "        return Q,R\n",
    "\n",
    "#matriz_Q_R.__doc__ =busca_ayuda(\"matriz_Q_R\")\n",
    "\n",
    "\n",
    "\n",
    "\n",
    "\n",
    "\n",
    "def Q_j(Arv,j):\n",
    "    \"\"\"\n",
    "    Función que calcula la matriz Qj (en el proceso de obtención de factorización QR se van \n",
    "    obteniendo n Qj's, que si se multiplican todas da por resultado Q=Q_1*Q_2*...*Q_n)\n",
    "                            \n",
    "    params: Arv   Matriz (mxn) con la info escencial\n",
    "            j     indica el índice de la matriz Q_j\n",
    "    return: Qj    Matriz Q de la j-esima iteración del proceso iterativo de factorización QR\n",
    "    \"\"\"\n",
    "    \n",
    "    #Se checa que los parámetros sean congruentes con la funcionalidad\n",
    "    if type(Arv) is not np.ndarray:\n",
    "        sys.exit('Arv debe ser de tipo numpy.ndarray')\n",
    "    elif Arv.shape[0]<Arv.shape[1]:\n",
    "        sys.exit('El numero de renglones de Arv tiene que ser igual o mayor al no. de columnas')\n",
    "    if isinstance(j, int)==False:\n",
    "        sys.exit('El parámetro j deber ser un entero')\n",
    "    elif 1>j or j>Arv.shape[1]:\n",
    "        sys.exit('El parámetro j debe estar en el rango [1,no. columnas de Arv]')\n",
    "    \n",
    "    m,n=Arv.shape\n",
    "    Qj=np.eye(m)\n",
    "    #Para construir Q_j requerimos usar el vector v contenido en Arv contenido\n",
    "    #en la j-1 columna (considerando que en Python la primer columna es la cero)\n",
    "    v=np.concatenate((1,Arv[j:m,(j-1)]), axis=None)\n",
    "    beta=2/(1+Arv[j:m,(j-1)].dot(Arv[j:m,(j-1)]))\n",
    "    Qj[(j-1):m,(j-1):m]=np.eye(m-(j-1))-beta*np.outer(v,v)\n",
    "    return Qj\n",
    "\n",
    "#Q_j.__doc__ =busca_ayuda(\"Q_j\")\n",
    "\n",
    "\n",
    "\n",
    "\n",
    "\n",
    "\n",
    "def Solucion_SEL_QR_nxn(A,b):\n",
    "    \"\"\"\n",
    "    Función que obtiene la solución de un sistema de ecuaciones lineales (SEL) con n ecuaciones y n incognitas\n",
    "            \n",
    "    params: A   Matriz (nxn) que representa los coeficientas de las ecuaciones\n",
    "            b   vector (nx1) constantes del sistema\n",
    "    return: x   vector que satisface (Ax=b)\n",
    "    \"\"\"\n",
    "\n",
    "    #Se checa que los parámetros sean congruentes con la funcionalidad\n",
    "    if type(A) is not np.ndarray or type(b) is not np.ndarray: #esto implica que A y b tienen más de 1 elemento\n",
    "        sys.exit('A y b deben ser de tipo numpy.ndarray')\n",
    "    m,n = A.shape\n",
    "    if m<n:\n",
    "        sys.exit('EL numero de renglones de A debe ser mayor o igual al no. de columnas')\n",
    "    elif b.shape[0]!= m:\n",
    "        sys.exit('b debe representar un vector columna (mx1), m=no. renglones de A')\n",
    "    else:\n",
    "        try:\n",
    "            flag=b.shape[1]\n",
    "        except Exception:\n",
    "            flag=1\n",
    "        if flag!=1:\n",
    "            sys.exit(\"b debe representar un vector de m renglones y 1 columna\")\n",
    "\n",
    "    #Si la matriz A es singular, Q y R serán igual a None\n",
    "    Q,R=matriz_Q_R(A,1)\n",
    "    if Q is None:\n",
    "        sys.exit('La matriz A asociada al sistema de ecuaciones es singular')\n",
    "    b_prima=np.transpose(Q)@b\n",
    "    x=solve_triangular(R, b_prima,lower=False)\n",
    "    return x\n",
    "\n",
    "#Solucion_SEL_QR_nxn.__doc__ =busca_ayuda(\"Solucion_SEL_QR_nxn\")\n",
    "\n",
    "\n",
    "\n",
    "\n",
    "\n",
    "def crear_bloques(A, b, m1=False, n1=False):\n",
    "    \"\"\"\n",
    "    Esta es la función para la creación de bloques usando un arreglo de numpy\n",
    "    \n",
    "    params: A   Matriz (mxn) que representa los coeficientas de las ecuaciones\n",
    "            b   vector (mx1) constantes del sistema\n",
    "            n1  Numero de renglones que tendrá el 1er bloque\n",
    "            m1  Numero de columnas que tendrá el 1er bloque\n",
    "    \n",
    "    return: A11 Fraccion de la matriz dividida\n",
    "            A12 Fraccion de la matriz dividida\n",
    "            A12 Fraccion de la matriz dividida\n",
    "            A12 Fraccion de la matriz dividida\n",
    "            b1  Fraccion del vector dividido\n",
    "            b2  Fraccion del vector dividido\n",
    "    \"\"\"\n",
    "\n",
    "    #Se checa que los parámetros sean congruentes con la funcionalidad\n",
    "    if type(A) is not np.ndarray or type(b) is not np.ndarray: #esto implica que A y b tienen más de 1 elemento\n",
    "        sys.exit('A y b deben ser de tipo numpy.ndarray')\n",
    "    m,n = A.shape\n",
    "    if m<n:\n",
    "        sys.exit('EL numero de renglones de A debe ser mayor o igual al no. de columnas')\n",
    "    elif b.shape[0]!= m:\n",
    "        sys.exit('b debe representar un vector columna (mx1), m=no. renglones de A')\n",
    "    else:\n",
    "        try:\n",
    "            flag=b.shape[1]\n",
    "        except Exception:\n",
    "            flag=1\n",
    "        if flag!=1:\n",
    "            sys.exit(\"b debe representar un vector de m renglones y 1 columna\")    \n",
    "    \n",
    "    if m1==False:\n",
    "        m1=m//2\n",
    "    if n1==False:\n",
    "        n1=n//2\n",
    "    \n",
    "    b1 = b[:m1]\n",
    "    b2 = b[m1:m]\n",
    "    A11 = A[:m1,:n1]\n",
    "    A21 = A[m1:m,:n1]\n",
    "    A12 = A[:m1,n1:n]\n",
    "    A22 = A[m1:m,n1:n]\n",
    "\n",
    "    return A11,A21,A12,A22,b1,b2\n",
    "\n",
    "#crear_bloques.__doc__ =busca_ayuda(\"crear_bloques\")\n",
    "\n",
    "\n",
    "\n",
    "\n",
    "\n",
    "\n",
    "def eliminacion_bloques(A,b, m1=False, n1=False):\n",
    "    \"\"\"\n",
    "    Función que obtiene la solución de un sistema de ecuaciones lineala (SEL) con n ecuaciones y n incognitas\n",
    "            \n",
    "    params: A   Matriz (mxn) que representa los coeficientas de las ecuaciones\n",
    "            b   vector (mx1) constantes del sistema\n",
    "    \n",
    "    return: x1 Solucion al 1er sistema de ecuaciones obtenido con la división por bloques\n",
    "            x2 Solucion al 2do sistema de ecuaciones obtenido con la división por bloques\n",
    "    \"\"\"\n",
    "    \n",
    "    #Se checa que los parámetros sean congruentes con la funcionalidad\n",
    "    if type(A) is not np.ndarray or type(b) is not np.ndarray: #esto implica que A y b tienen más de 1 elemento\n",
    "        sys.exit('A y b deben ser de tipo numpy.ndarray')\n",
    "    m,n = A.shape\n",
    "    if m<n:\n",
    "        sys.exit('EL numero de renglones de A debe ser mayor o igual al no. de columnas')\n",
    "        \n",
    "    elif b.shape[0]!= m:\n",
    "        sys.exit('b debe representar un vector columna (mx1), m=no. renglones de A')\n",
    "    else:\n",
    "        try:\n",
    "            flag=b.shape[1]\n",
    "        except Exception:\n",
    "            flag=1\n",
    "        if flag!=1:\n",
    "            sys.exit(\"b debe representar un vector de m renglones y 1 columna\")\n",
    "    \n",
    "    if m1==False:\n",
    "        m1=m//2\n",
    "    if n1==False:\n",
    "        n1=n//2\n",
    "\n",
    "    if m != n:\n",
    "        sys.exit('A debe ser cuadrada')\n",
    "\n",
    "#     if np.linalg.det(A)==0:\n",
    "#         sys.exit('A debe ser no singular')\n",
    "\n",
    "    A11,A21,A12,A22,b1,b2=crear_bloques(A,b,m1,n1)\n",
    "\n",
    "    # 1. Calcular Y=A11^{-1}A12 y y=A11^{-1}b1 teniendo cuidado en no calcular la inversa sino un sistema de ecuaciones lineales\n",
    "    #if np.linalg.det(A11)==0:\n",
    "    #    sys.exit('A11 debe ser no singular')\n",
    "    y=Solucion_SEL_QR_nxn(A11,b1)\n",
    "    \n",
    "    Y=np.zeros((n1,n-n1))\n",
    "    for j in range(n-n1):\n",
    "        Y[:,j]=Solucion_SEL_QR_nxn(A11,A12[:,j])\n",
    "    \n",
    "    # 2. Calcular el complemento de Schur del bloque A11 en A. Calcular b_hat\n",
    "    S=A22-A21@Y\n",
    "    b_h=b2-A21@y\n",
    "\n",
    "    # 3. Resolver Sx2 = b_hat\n",
    "    x2=Solucion_SEL_QR_nxn(S,b_h)\n",
    "\n",
    "    # 4. Resolver A11x1 = b1-A12x2\n",
    "    x1=Solucion_SEL_QR_nxn(A11,b1-A12@x2)\n",
    "\n",
    "    return np.concatenate((x1,x2), axis=0)\n",
    "\n",
    "#eliminacion_bloques.__doc__ =busca_ayuda(\"eliminacion_bloques\")"
   ]
  },
  {
   "cell_type": "code",
   "execution_count": null,
   "metadata": {},
   "outputs": [],
   "source": []
  },
  {
   "cell_type": "markdown",
   "metadata": {},
   "source": [
    "### Pruebas"
   ]
  },
  {
   "cell_type": "code",
   "execution_count": null,
   "metadata": {},
   "outputs": [],
   "source": []
  },
  {
   "cell_type": "code",
   "execution_count": 3,
   "metadata": {},
   "outputs": [
    {
     "data": {
      "text/plain": [
       "array([[5.1, 3.5, 1.4, 0.2],\n",
       "       [4.9, 3. , 1.4, 0.2],\n",
       "       [4.7, 3.2, 1.3, 0.2],\n",
       "       [4.6, 3.1, 1.5, 0.2],\n",
       "       [5. , 3.6, 1.4, 0.2],\n",
       "       [5.4, 3.9, 1.7, 0.4],\n",
       "       [4.6, 3.4, 1.4, 0.3],\n",
       "       [5. , 3.4, 1.5, 0.2],\n",
       "       [4.4, 2.9, 1.4, 0.2],\n",
       "       [4.9, 3.1, 1.5, 0.1],\n",
       "       [5.4, 3.7, 1.5, 0.2],\n",
       "       [4.8, 3.4, 1.6, 0.2],\n",
       "       [4.8, 3. , 1.4, 0.1],\n",
       "       [4.3, 3. , 1.1, 0.1],\n",
       "       [5.8, 4. , 1.2, 0.2],\n",
       "       [5.7, 4.4, 1.5, 0.4],\n",
       "       [5.4, 3.9, 1.3, 0.4],\n",
       "       [5.1, 3.5, 1.4, 0.3],\n",
       "       [5.7, 3.8, 1.7, 0.3],\n",
       "       [5.1, 3.8, 1.5, 0.3],\n",
       "       [5.4, 3.4, 1.7, 0.2],\n",
       "       [5.1, 3.7, 1.5, 0.4],\n",
       "       [4.6, 3.6, 1. , 0.2],\n",
       "       [5.1, 3.3, 1.7, 0.5],\n",
       "       [4.8, 3.4, 1.9, 0.2],\n",
       "       [5. , 3. , 1.6, 0.2],\n",
       "       [5. , 3.4, 1.6, 0.4],\n",
       "       [5.2, 3.5, 1.5, 0.2],\n",
       "       [5.2, 3.4, 1.4, 0.2],\n",
       "       [4.7, 3.2, 1.6, 0.2],\n",
       "       [4.8, 3.1, 1.6, 0.2],\n",
       "       [5.4, 3.4, 1.5, 0.4],\n",
       "       [5.2, 4.1, 1.5, 0.1],\n",
       "       [5.5, 4.2, 1.4, 0.2],\n",
       "       [4.9, 3.1, 1.5, 0.2],\n",
       "       [5. , 3.2, 1.2, 0.2],\n",
       "       [5.5, 3.5, 1.3, 0.2],\n",
       "       [4.9, 3.6, 1.4, 0.1],\n",
       "       [4.4, 3. , 1.3, 0.2],\n",
       "       [5.1, 3.4, 1.5, 0.2],\n",
       "       [5. , 3.5, 1.3, 0.3],\n",
       "       [4.5, 2.3, 1.3, 0.3],\n",
       "       [4.4, 3.2, 1.3, 0.2],\n",
       "       [5. , 3.5, 1.6, 0.6],\n",
       "       [5.1, 3.8, 1.9, 0.4],\n",
       "       [4.8, 3. , 1.4, 0.3],\n",
       "       [5.1, 3.8, 1.6, 0.2],\n",
       "       [4.6, 3.2, 1.4, 0.2],\n",
       "       [5.3, 3.7, 1.5, 0.2],\n",
       "       [5. , 3.3, 1.4, 0.2],\n",
       "       [7. , 3.2, 4.7, 1.4],\n",
       "       [6.4, 3.2, 4.5, 1.5],\n",
       "       [6.9, 3.1, 4.9, 1.5],\n",
       "       [5.5, 2.3, 4. , 1.3],\n",
       "       [6.5, 2.8, 4.6, 1.5],\n",
       "       [5.7, 2.8, 4.5, 1.3],\n",
       "       [6.3, 3.3, 4.7, 1.6],\n",
       "       [4.9, 2.4, 3.3, 1. ],\n",
       "       [6.6, 2.9, 4.6, 1.3],\n",
       "       [5.2, 2.7, 3.9, 1.4],\n",
       "       [5. , 2. , 3.5, 1. ],\n",
       "       [5.9, 3. , 4.2, 1.5],\n",
       "       [6. , 2.2, 4. , 1. ],\n",
       "       [6.1, 2.9, 4.7, 1.4],\n",
       "       [5.6, 2.9, 3.6, 1.3],\n",
       "       [6.7, 3.1, 4.4, 1.4],\n",
       "       [5.6, 3. , 4.5, 1.5],\n",
       "       [5.8, 2.7, 4.1, 1. ],\n",
       "       [6.2, 2.2, 4.5, 1.5],\n",
       "       [5.6, 2.5, 3.9, 1.1],\n",
       "       [5.9, 3.2, 4.8, 1.8],\n",
       "       [6.1, 2.8, 4. , 1.3],\n",
       "       [6.3, 2.5, 4.9, 1.5],\n",
       "       [6.1, 2.8, 4.7, 1.2],\n",
       "       [6.4, 2.9, 4.3, 1.3],\n",
       "       [6.6, 3. , 4.4, 1.4],\n",
       "       [6.8, 2.8, 4.8, 1.4],\n",
       "       [6.7, 3. , 5. , 1.7],\n",
       "       [6. , 2.9, 4.5, 1.5],\n",
       "       [5.7, 2.6, 3.5, 1. ],\n",
       "       [5.5, 2.4, 3.8, 1.1],\n",
       "       [5.5, 2.4, 3.7, 1. ],\n",
       "       [5.8, 2.7, 3.9, 1.2],\n",
       "       [6. , 2.7, 5.1, 1.6],\n",
       "       [5.4, 3. , 4.5, 1.5],\n",
       "       [6. , 3.4, 4.5, 1.6],\n",
       "       [6.7, 3.1, 4.7, 1.5],\n",
       "       [6.3, 2.3, 4.4, 1.3],\n",
       "       [5.6, 3. , 4.1, 1.3],\n",
       "       [5.5, 2.5, 4. , 1.3],\n",
       "       [5.5, 2.6, 4.4, 1.2],\n",
       "       [6.1, 3. , 4.6, 1.4],\n",
       "       [5.8, 2.6, 4. , 1.2],\n",
       "       [5. , 2.3, 3.3, 1. ],\n",
       "       [5.6, 2.7, 4.2, 1.3],\n",
       "       [5.7, 3. , 4.2, 1.2],\n",
       "       [5.7, 2.9, 4.2, 1.3],\n",
       "       [6.2, 2.9, 4.3, 1.3],\n",
       "       [5.1, 2.5, 3. , 1.1],\n",
       "       [5.7, 2.8, 4.1, 1.3],\n",
       "       [6.3, 3.3, 6. , 2.5],\n",
       "       [5.8, 2.7, 5.1, 1.9],\n",
       "       [7.1, 3. , 5.9, 2.1],\n",
       "       [6.3, 2.9, 5.6, 1.8],\n",
       "       [6.5, 3. , 5.8, 2.2],\n",
       "       [7.6, 3. , 6.6, 2.1],\n",
       "       [4.9, 2.5, 4.5, 1.7],\n",
       "       [7.3, 2.9, 6.3, 1.8],\n",
       "       [6.7, 2.5, 5.8, 1.8],\n",
       "       [7.2, 3.6, 6.1, 2.5],\n",
       "       [6.5, 3.2, 5.1, 2. ],\n",
       "       [6.4, 2.7, 5.3, 1.9],\n",
       "       [6.8, 3. , 5.5, 2.1],\n",
       "       [5.7, 2.5, 5. , 2. ],\n",
       "       [5.8, 2.8, 5.1, 2.4],\n",
       "       [6.4, 3.2, 5.3, 2.3],\n",
       "       [6.5, 3. , 5.5, 1.8],\n",
       "       [7.7, 3.8, 6.7, 2.2],\n",
       "       [7.7, 2.6, 6.9, 2.3],\n",
       "       [6. , 2.2, 5. , 1.5],\n",
       "       [6.9, 3.2, 5.7, 2.3],\n",
       "       [5.6, 2.8, 4.9, 2. ],\n",
       "       [7.7, 2.8, 6.7, 2. ],\n",
       "       [6.3, 2.7, 4.9, 1.8],\n",
       "       [6.7, 3.3, 5.7, 2.1],\n",
       "       [7.2, 3.2, 6. , 1.8],\n",
       "       [6.2, 2.8, 4.8, 1.8],\n",
       "       [6.1, 3. , 4.9, 1.8],\n",
       "       [6.4, 2.8, 5.6, 2.1],\n",
       "       [7.2, 3. , 5.8, 1.6],\n",
       "       [7.4, 2.8, 6.1, 1.9],\n",
       "       [7.9, 3.8, 6.4, 2. ],\n",
       "       [6.4, 2.8, 5.6, 2.2],\n",
       "       [6.3, 2.8, 5.1, 1.5],\n",
       "       [6.1, 2.6, 5.6, 1.4],\n",
       "       [7.7, 3. , 6.1, 2.3],\n",
       "       [6.3, 3.4, 5.6, 2.4],\n",
       "       [6.4, 3.1, 5.5, 1.8],\n",
       "       [6. , 3. , 4.8, 1.8],\n",
       "       [6.9, 3.1, 5.4, 2.1],\n",
       "       [6.7, 3.1, 5.6, 2.4],\n",
       "       [6.9, 3.1, 5.1, 2.3],\n",
       "       [5.8, 2.7, 5.1, 1.9],\n",
       "       [6.8, 3.2, 5.9, 2.3],\n",
       "       [6.7, 3.3, 5.7, 2.5],\n",
       "       [6.7, 3. , 5.2, 2.3],\n",
       "       [6.3, 2.5, 5. , 1.9],\n",
       "       [6.5, 3. , 5.2, 2. ],\n",
       "       [6.2, 3.4, 5.4, 2.3],\n",
       "       [5.9, 3. , 5.1, 1.8]])"
      ]
     },
     "execution_count": 3,
     "metadata": {},
     "output_type": "execute_result"
    }
   ],
   "source": [
    "# Leer el conjunto de datos Iris\n",
    "from sklearn import datasets\n",
    "iris = datasets.load_iris()\n",
    "# dado que esta guardado como un objeto tipo lista, conservar sólo los datos\n",
    "datos_iris = iris['data']\n",
    "datos_iris"
   ]
  },
  {
   "cell_type": "code",
   "execution_count": 4,
   "metadata": {},
   "outputs": [],
   "source": [
    "mean_vec = np.mean(datos_iris, axis=0)"
   ]
  },
  {
   "cell_type": "markdown",
   "metadata": {},
   "source": [
    "### Sacar SVD solo para comparar. Calcular sobre la matriz de datos originales centrados (sobre esta matriz se debe hacer svd)\n"
   ]
  },
  {
   "cell_type": "code",
   "execution_count": 5,
   "metadata": {},
   "outputs": [],
   "source": [
    "u, s, vh = np.linalg.svd(datos_iris - mean_vec, full_matrices=False)"
   ]
  },
  {
   "cell_type": "code",
   "execution_count": 6,
   "metadata": {},
   "outputs": [
    {
     "name": "stdout",
     "output_type": "stream",
     "text": [
      "------------------------------------------------\n",
      "[25.09996044  6.01314738  3.41368064  1.88452351]\n",
      "------------------------------------------------\n",
      "[[ 0.36138659 -0.08452251  0.85667061  0.3582892 ]\n",
      " [-0.65658877 -0.73016143  0.17337266  0.07548102]\n",
      " [ 0.58202985 -0.59791083 -0.07623608 -0.54583143]\n",
      " [ 0.31548719 -0.3197231  -0.47983899  0.75365743]]\n"
     ]
    }
   ],
   "source": [
    "#print(u)\n",
    "print(\"------------------------------------------------\")\n",
    "print(s)\n",
    "print(\"------------------------------------------------\")\n",
    "print(vh)"
   ]
  },
  {
   "cell_type": "code",
   "execution_count": null,
   "metadata": {},
   "outputs": [],
   "source": []
  },
  {
   "cell_type": "markdown",
   "metadata": {},
   "source": [
    "## Funcion creada para este proyecto final"
   ]
  },
  {
   "cell_type": "markdown",
   "metadata": {},
   "source": [
    "Función que ocupa algoritm QR para calcular los eigenvectores de una matriz"
   ]
  },
  {
   "cell_type": "code",
   "execution_count": 7,
   "metadata": {},
   "outputs": [],
   "source": [
    "def eigenvectores_eigenvalores_QR(data,niter,tolerancia = 10**-8):\n",
    "    \"\"\"\n",
    "    Función para obtener los eigenvectores y eigenvalores de la matriz de covarianzas\n",
    "    params: A\t\t\tmatriz de datos\n",
    "            niter: número de iteraciones máximas \n",
    "    \n",
    "    \n",
    "    return:     eigenvalores \n",
    "                eigenvalores \n",
    "                \n",
    "    Depende de las funciones ue calculan la factorización QR\n",
    "    \"\"\"\n",
    "\n",
    "    # Notar que crear la matriz de covarianzas por variables, se hace transpuesta(X) %*% X \n",
    "    # La matriz inicial será la matriz de covarianzas\n",
    "    n = data.shape[0]\n",
    "    A= np.array(data)\n",
    "    \n",
    "    mean_vec = np.mean(A, axis=0)\n",
    "    #A_centered = A - A.mean(axis=0)\n",
    "    \n",
    "    #cov_mat = (A_centered - mean_vec).T.dot((A_centered - mean_vec)) / (n-1)\n",
    "    cov_mat = (A - mean_vec).T.dot((A - mean_vec)) / (A.shape[0]-1)\n",
    "    #C = ((np.array(A).T)@(np.array(A))) / (n-1)\n",
    "    #A_centered = A - A.mean(axis=0)\n",
    "    \n",
    "    matriz_cov = cov_mat   \n",
    "    A0 = cov_mat.copy()\n",
    "    \n",
    "    # La matriz de covarianza ya es simetrica, no necesitamos rellenar columnas de ceros\n",
    "    # Completamos la matriz A con columnas de ceros para que sea cuadrada\n",
    "    #n, p = A.shape\n",
    "    #columnas = n - p\n",
    "    #ceros = np.zeros((n,columnas))\n",
    "    \n",
    "    # Matriz inicial\n",
    "    #A0 = np.append(A, ceros, axis = 1)\n",
    "    # Factorización inicial\n",
    "    Qk,Rk =matriz_Q_R(A0)\n",
    "    \n",
    "    # Hacer una copia de la matriz Q inicial\n",
    "    Q = Qk.copy()\n",
    "    \n",
    "    valor = 10\n",
    "    \n",
    "    #iniciamos ciclo\n",
    "    for i in range(niter):\n",
    "        \n",
    "        #Definimos la nueva Ak+1\n",
    "        Ak = Rk@Qk\n",
    "        #calculamos la factorización QR sobre la nueva Ak\n",
    "        Qk,Rk =matriz_Q_R(Ak)\n",
    "        \n",
    "        # Se usan los valores distintos de la diagonal para corroborar la tolerancia deseada\n",
    "        valor = np.sum(np.abs(Qk)) - np.trace(np.abs(Qk))\n",
    "        \n",
    "        \n",
    "        # Detener si se logra la tolerancia deseada\n",
    "        # Notar que en esta primera prueba no se está actualizando  el valor que checa la tolerancia\n",
    "        if (valor<tolerancia):\n",
    "            print(\"se alcanzo la torelacia deseada\")\n",
    "            break\n",
    "    \n",
    "    #se acaba el for\n",
    "    \n",
    "    #La diagonal de Ak nos regresa los eigenvalores\n",
    "    eigenvalores = np.diagonal(Ak)\n",
    "        \n",
    "    return eigenvalores, Q"
   ]
  },
  {
   "cell_type": "code",
   "execution_count": 8,
   "metadata": {},
   "outputs": [
    {
     "name": "stdout",
     "output_type": "stream",
     "text": [
      "se alcanzo la torelacia deseada\n"
     ]
    }
   ],
   "source": [
    "# De momento la función regresa los eigenvalores y la última matriz Q, esta matriz podría no pedirse, ahorita está de más\n",
    "# sólo era para revisar que valores tiene\n",
    "E1, Q1 = eigenvectores_eigenvalores_QR(datos_iris,120)"
   ]
  },
  {
   "cell_type": "code",
   "execution_count": 9,
   "metadata": {},
   "outputs": [
    {
     "name": "stdout",
     "output_type": "stream",
     "text": [
      "[4.22824171 0.24267075 0.0782095  0.02383509]\n",
      "----------------------------------------------\n",
      "[[ 0.44612248  0.5011469  -0.72000481  0.17725574]\n",
      " [-0.0276082   0.83426186  0.51665264 -0.1905649 ]\n",
      " [ 0.82908872 -0.22692966  0.24542048 -0.44820041]\n",
      " [ 0.33589345 -0.0369034   0.39297826  0.85520864]]\n"
     ]
    }
   ],
   "source": [
    "print(E1)\n",
    "print(\"----------------------------------------------\")\n",
    "print(Q1)\n"
   ]
  },
  {
   "cell_type": "code",
   "execution_count": 10,
   "metadata": {},
   "outputs": [
    {
     "data": {
      "text/plain": [
       "array([0.92461872, 0.05306648, 0.01710261, 0.00521218])"
      ]
     },
     "execution_count": 10,
     "metadata": {},
     "output_type": "execute_result"
    }
   ],
   "source": [
    "E1/sum(E1)"
   ]
  },
  {
   "cell_type": "markdown",
   "metadata": {},
   "source": [
    "Modificar la función para calcular de forma correcta Q"
   ]
  },
  {
   "cell_type": "code",
   "execution_count": 17,
   "metadata": {},
   "outputs": [],
   "source": [
    "def eigenvectores_eigenvalores_QR2(data,niter,tolerancia = 10**-8):\n",
    "    \"\"\"\n",
    "    Función para obtener los eigenvectores y eigenvalores de la matriz de covarianzas\n",
    "    params: A\t\t\tmatriz de datos\n",
    "            niter: número de iteraciones máximas \n",
    "    \n",
    "    \n",
    "    return:     eigenvalores \n",
    "                eigenvalores \n",
    "                \n",
    "    Depende de las funciones ue calculan la factorización QR\n",
    "    \"\"\"\n",
    "\n",
    "    # Notar que crear la matriz de covarianzas por variables, se hace transpuesta(X) %*% X \n",
    "    # La matriz inicial será la matriz de covarianzas\n",
    "    n = data.shape[0]\n",
    "    A= np.array(data)\n",
    "    \n",
    "    mean_vec = np.mean(A, axis=0)\n",
    "    #A_centered = A - A.mean(axis=0)\n",
    "    \n",
    "    #cov_mat = (A_centered - mean_vec).T.dot((A_centered - mean_vec)) / (n-1)\n",
    "    C = (A - mean_vec).T.dot((A - mean_vec)) / (A.shape[0]-1)\n",
    "    #C = ((np.array(A).T)@(np.array(A))) / (n-1)\n",
    "    #A_centered = A - A.mean(axis=0)\n",
    "      \n",
    "    A0 = C.copy()\n",
    "    \n",
    "    # La matriz de covarianza ya es simetrica, no necesitamos rellenar columnas de ceros\n",
    "    # Completamos la matriz A con columnas de ceros para que sea cuadrada\n",
    "    #n, p = A.shape\n",
    "    #columnas = n - p\n",
    "    #ceros = np.zeros((n,columnas))\n",
    "    \n",
    "    # Matriz inicial\n",
    "    #A0 = np.append(A, ceros, axis = 1)\n",
    "    # Factorización inicial\n",
    "    Qk,Rk =matriz_Q_R(A0)\n",
    "    \n",
    "    # Hacer una copia de la matriz Q inicial\n",
    "    Q = Qk.copy()\n",
    "    \n",
    "    valor = 10\n",
    "    \n",
    "    #iniciamos ciclo\n",
    "    for i in range(niter):\n",
    "        \n",
    "        #Definimos la nueva Ak+1\n",
    "        Ak = Rk@Qk\n",
    "        #calculamos la factorización QR sobre la nueva Ak\n",
    "        Qk,Rk =matriz_Q_R(Ak)\n",
    "        \n",
    "        # Actualizar la matriz Q\n",
    "        Q = Q@Qk\n",
    "        \n",
    "        \n",
    "        # Se usan los valores distintos de la diagonal para corroborar la tolerancia deseada\n",
    "        valor = np.sum(np.abs(Qk)) - np.trace(np.abs(Qk))\n",
    "        \n",
    "        \n",
    "        # Detener si se logra la tolerancia deseada\n",
    "        # Notar que en esta primera prueba no se está actualizando  el valor que checa la tolerancia\n",
    "        if (valor<tolerancia):\n",
    "            print(\"se alcanzo la torelacia deseada\")\n",
    "            break\n",
    "    \n",
    "    #se acaba el for\n",
    "    \n",
    "    #La diagonal de Ak nos regresa los eigenvalores\n",
    "    eigenvalores = np.diagonal(Ak)\n",
    "        \n",
    "    return eigenvalores, Q"
   ]
  },
  {
   "cell_type": "code",
   "execution_count": null,
   "metadata": {},
   "outputs": [],
   "source": []
  },
  {
   "cell_type": "code",
   "execution_count": 18,
   "metadata": {},
   "outputs": [
    {
     "name": "stdout",
     "output_type": "stream",
     "text": [
      "se alcanzo la torelacia deseada\n"
     ]
    }
   ],
   "source": [
    "E2, Q2 = eigenvectores_eigenvalores_QR2(datos_iris,120)"
   ]
  },
  {
   "cell_type": "code",
   "execution_count": 19,
   "metadata": {},
   "outputs": [
    {
     "name": "stdout",
     "output_type": "stream",
     "text": [
      "[4.22824171 0.24267075 0.0782095  0.02383509]\n",
      "----------------------------------------------\n",
      "[[ 0.36138659  0.65658877 -0.58202985  0.31548719]\n",
      " [-0.08452251  0.73016144  0.59791083 -0.3197231 ]\n",
      " [ 0.85667061 -0.17337266  0.07623608 -0.47983899]\n",
      " [ 0.3582892  -0.07548102  0.54583143  0.75365743]]\n"
     ]
    }
   ],
   "source": [
    "print(E2)\n",
    "print(\"----------------------------------------------\")\n",
    "print(Q2)\n"
   ]
  },
  {
   "cell_type": "code",
   "execution_count": 20,
   "metadata": {},
   "outputs": [
    {
     "data": {
      "text/plain": [
       "array([0.92461872, 0.05306648, 0.01710261, 0.00521218])"
      ]
     },
     "execution_count": 20,
     "metadata": {},
     "output_type": "execute_result"
    }
   ],
   "source": [
    "E2/sum(E2)"
   ]
  },
  {
   "cell_type": "code",
   "execution_count": 21,
   "metadata": {},
   "outputs": [
    {
     "data": {
      "text/plain": [
       "array([1.78780279e+01, 5.88890919e-02, 6.11672590e-03, 5.68111657e-04])"
      ]
     },
     "execution_count": 21,
     "metadata": {},
     "output_type": "execute_result"
    }
   ],
   "source": [
    "E2**2"
   ]
  },
  {
   "cell_type": "markdown",
   "metadata": {},
   "source": [
    "Usar numpy para cacular los valores y eigen vectores de una matriz de covarianzas"
   ]
  },
  {
   "cell_type": "code",
   "execution_count": 22,
   "metadata": {},
   "outputs": [
    {
     "data": {
      "text/plain": [
       "array([[ 0.68569351, -0.042434  ,  1.27431544,  0.51627069],\n",
       "       [-0.042434  ,  0.18997942, -0.32965638, -0.12163937],\n",
       "       [ 1.27431544, -0.32965638,  3.11627785,  1.2956094 ],\n",
       "       [ 0.51627069, -0.12163937,  1.2956094 ,  0.58100626]])"
      ]
     },
     "execution_count": 22,
     "metadata": {},
     "output_type": "execute_result"
    }
   ],
   "source": [
    "mean_vec = np.mean(datos_iris, axis=0)\n",
    "\n",
    "# Matriz de covarianzas\n",
    "C = (datos_iris - mean_vec).T.dot((datos_iris - mean_vec)) / (datos_iris.shape[0]-1)\n",
    "C"
   ]
  },
  {
   "cell_type": "code",
   "execution_count": 23,
   "metadata": {},
   "outputs": [],
   "source": [
    "eigenvalores, eigenvectotes= np.linalg.eig(C)"
   ]
  },
  {
   "cell_type": "code",
   "execution_count": 24,
   "metadata": {},
   "outputs": [
    {
     "name": "stdout",
     "output_type": "stream",
     "text": [
      "[4.22824171 0.24267075 0.0782095  0.02383509]\n",
      "----------------------------------------------\n",
      "[[ 0.36138659 -0.65658877 -0.58202985  0.31548719]\n",
      " [-0.08452251 -0.73016143  0.59791083 -0.3197231 ]\n",
      " [ 0.85667061  0.17337266  0.07623608 -0.47983899]\n",
      " [ 0.3582892   0.07548102  0.54583143  0.75365743]]\n"
     ]
    }
   ],
   "source": [
    "print(eigenvalores)\n",
    "print(\"----------------------------------------------\")\n",
    "print(eigenvectotes)"
   ]
  },
  {
   "cell_type": "code",
   "execution_count": null,
   "metadata": {},
   "outputs": [],
   "source": []
  },
  {
   "cell_type": "code",
   "execution_count": 111,
   "metadata": {},
   "outputs": [],
   "source": [
    "def PCA_from_QR(data,niter):\n",
    "    \"\"\"\n",
    "    Función para PCA a partir de los eigenvectores  \n",
    "    params: A:\t\t\tmatriz de datos\n",
    "            niter:      número de iteraciones máximas    \n",
    "    \n",
    "    \n",
    "    return:     componentes\t\tLos coeficientes para calcular los componentes principales (eigenvectores de la matriz de covarianzas)\n",
    "                Z\t\t\tLos datos transformados (componentes principales)\n",
    "                varianza_explicada\tLa varianza explicada por cada componente principal\n",
    "    \n",
    "    Depende de la función: eigenvectores_QR\n",
    "    \"\"\"\n",
    "    \n",
    "\n",
    "    \n",
    "    # Calcular algoritmo QR\n",
    "    E, Q = eigenvectores_eigenvalores_QR2(data,niter)\n",
    "    \n",
    "    \n",
    "    # Los componentes (coeficientes)\n",
    "    componentes = Q.T\n",
    "    \n",
    "    # Los datos transformados (componentes principales)\n",
    "    Z = data@Q\n",
    "    \n",
    "    # La varianza explicada\n",
    "    varianza_explicada = E/np.sum(E)\n",
    "    \n",
    "    # Calcula número de componentes de manera automatica de acuerdo a la variana explicada\n",
    "    # Threshold de 60%\n",
    "    n = data.shape[1] #numero de columnas\n",
    "    varianza_acumulada = varianza_explicada.cumsum()\n",
    "    conteo = (varianza_acumulada)  <  0.6\n",
    "    num_componentes = conteo.sum() + 1\n",
    "    \n",
    "    # regresar 4 objetos\n",
    "    #return E[:num_componentes], componentes[:num_componentes].T, Z[:,:num_componentes], varianza_explicada[:num_componentes]\n",
    "    return E, componentes, Z, varianza_explicada #, varianza_acumulada, num_componentes"
   ]
  },
  {
   "cell_type": "code",
   "execution_count": null,
   "metadata": {},
   "outputs": [],
   "source": []
  },
  {
   "cell_type": "markdown",
   "metadata": {},
   "source": [
    "### Probar Función"
   ]
  },
  {
   "cell_type": "code",
   "execution_count": 112,
   "metadata": {},
   "outputs": [
    {
     "name": "stdout",
     "output_type": "stream",
     "text": [
      "se alcanzo la torelacia deseada\n"
     ]
    }
   ],
   "source": [
    "eigenvalores, coeficientes, Z, varianza_explicada = PCA_from_QR(datos_iris,120)"
   ]
  },
  {
   "cell_type": "code",
   "execution_count": 113,
   "metadata": {},
   "outputs": [
    {
     "data": {
      "text/plain": [
       "array([4.22824171, 0.24267075, 0.0782095 , 0.02383509])"
      ]
     },
     "execution_count": 113,
     "metadata": {},
     "output_type": "execute_result"
    }
   ],
   "source": [
    "eigenvalores"
   ]
  },
  {
   "cell_type": "code",
   "execution_count": 39,
   "metadata": {},
   "outputs": [
    {
     "data": {
      "text/plain": [
       "array([[ 0.36138659],\n",
       "       [-0.08452251],\n",
       "       [ 0.85667061],\n",
       "       [ 0.3582892 ]])"
      ]
     },
     "execution_count": 39,
     "metadata": {},
     "output_type": "execute_result"
    }
   ],
   "source": [
    "coeficientes"
   ]
  },
  {
   "cell_type": "code",
   "execution_count": 40,
   "metadata": {},
   "outputs": [
    {
     "data": {
      "text/plain": [
       "array([[2.81823951],\n",
       "       [2.78822345],\n",
       "       [2.61337456],\n",
       "       [2.75702228],\n",
       "       [2.7736486 ],\n",
       "       [3.2215055 ],\n",
       "       [2.68182738],\n",
       "       [2.87622016],\n",
       "       [2.6159824 ],\n",
       "       [2.82960933],\n",
       "       [2.99541804],\n",
       "       [2.8896099 ],\n",
       "       [2.71625587],\n",
       "       [2.27856139],\n",
       "       [2.85761474],\n",
       "       [3.1163261 ],\n",
       "       [2.87883726],\n",
       "       [2.85406843],\n",
       "       [3.30254481],\n",
       "       [2.91437873],\n",
       "       [3.19210892],\n",
       "       [2.9586599 ],\n",
       "       [2.28642572],\n",
       "       [3.19963195],\n",
       "       [3.14661108],\n",
       "       [2.99569623],\n",
       "       [3.03354506],\n",
       "       [2.94004523],\n",
       "       [2.86283042],\n",
       "       [2.87037575],\n",
       "       [2.91496666],\n",
       "       [3.09243264],\n",
       "       [2.8535028 ],\n",
       "       [2.90362838],\n",
       "       [2.86543825],\n",
       "       [2.63612348],\n",
       "       [2.87712708],\n",
       "       [2.70168102],\n",
       "       [2.52186309],\n",
       "       [2.91235882],\n",
       "       [2.73226271],\n",
       "       [2.65299643],\n",
       "       [2.50495859],\n",
       "       [3.09675065],\n",
       "       [3.29287589],\n",
       "       [2.78791371],\n",
       "       [2.96421687],\n",
       "       [2.66290296],\n",
       "       [2.95927938],\n",
       "       [2.79900535],\n",
       "       [6.78719082],\n",
       "       [6.43485366],\n",
       "       [6.96666745],\n",
       "       [5.68568285],\n",
       "       [6.59046839],\n",
       "       [6.14403422],\n",
       "       [6.5974258 ],\n",
       "       [4.75324246],\n",
       "       [6.54649696],\n",
       "       [5.49361973],\n",
       "       [4.99452425],\n",
       "       [6.01406369],\n",
       "       [5.76734164],\n",
       "       [6.48729964],\n",
       "       [5.32843976],\n",
       "       [6.43022591],\n",
       "       [6.16264889],\n",
       "       [5.73847013],\n",
       "       [6.44709886],\n",
       "       [5.54759211],\n",
       "       [6.61864831],\n",
       "       [5.86025355],\n",
       "       [6.80054901],\n",
       "       [6.42409406],\n",
       "       [6.21721846],\n",
       "       [6.40253951],\n",
       "       [6.83438957],\n",
       "       [7.06016729],\n",
       "       [6.31565578],\n",
       "       [5.19678135],\n",
       "       [5.43423864],\n",
       "       [5.31274266],\n",
       "       [5.63879384],\n",
       "       [6.88239157],\n",
       "       [6.09037158],\n",
       "       [6.30922345],\n",
       "       [6.72305602],\n",
       "       [6.31746037],\n",
       "       [5.74832281],\n",
       "       [5.66877835],\n",
       "       [5.96716542],\n",
       "       [6.39318033],\n",
       "       [5.73291316],\n",
       "       [4.79783337],\n",
       "       [5.85934663],\n",
       "       [5.83429961],\n",
       "       [5.87858078],\n",
       "       [6.14494114],\n",
       "       [4.59589527],\n",
       "       [5.80136597],\n",
       "       [8.03355786],\n",
       "       [6.91760101],\n",
       "       [8.11904115],\n",
       "       [7.47389619],\n",
       "       [7.85237105],\n",
       "       [8.89940387],\n",
       "       [6.02359738],\n",
       "       [8.4349522 ],\n",
       "       [7.82359395],\n",
       "       [8.4191161 ],\n",
       "       [7.16413929],\n",
       "       [7.30576709],\n",
       "       [7.66795693],\n",
       "       [6.84852871],\n",
       "       [7.08829336],\n",
       "       [7.40682151],\n",
       "       [7.45205419],\n",
       "       [8.9894205 ],\n",
       "       [9.29801055],\n",
       "       [6.80315685],\n",
       "       [7.93018305],\n",
       "       [6.70136624],\n",
       "       [9.00228517],\n",
       "       [6.89113126],\n",
       "       [7.77779564],\n",
       "       [8.11645561],\n",
       "       [6.76087329],\n",
       "       [6.79349719],\n",
       "       [7.62597386],\n",
       "       [7.89036815],\n",
       "       [8.34403791],\n",
       "       [8.73303879],\n",
       "       [7.66180278],\n",
       "       [6.94652637],\n",
       "       [7.28365994],\n",
       "       [8.57886506],\n",
       "       [7.64660845],\n",
       "       [7.40746328],\n",
       "       [6.67169147],\n",
       "       [7.60997628],\n",
       "       [7.81651984],\n",
       "       [7.42463293],\n",
       "       [6.91760101],\n",
       "       [8.06537851],\n",
       "       [7.92111132],\n",
       "       [7.44647493],\n",
       "       [7.02953175],\n",
       "       [7.26671085],\n",
       "       [7.40330675],\n",
       "       [6.89255399]])"
      ]
     },
     "execution_count": 40,
     "metadata": {},
     "output_type": "execute_result"
    }
   ],
   "source": [
    "Z"
   ]
  },
  {
   "cell_type": "code",
   "execution_count": 41,
   "metadata": {},
   "outputs": [
    {
     "data": {
      "text/plain": [
       "array([0.92461872])"
      ]
     },
     "execution_count": 41,
     "metadata": {},
     "output_type": "execute_result"
    }
   ],
   "source": [
    "varianza_explicada"
   ]
  },
  {
   "cell_type": "code",
   "execution_count": null,
   "metadata": {},
   "outputs": [],
   "source": []
  },
  {
   "cell_type": "markdown",
   "metadata": {},
   "source": [
    "Calcular los componentes principales a partir de los 'loadings' obtenidos"
   ]
  },
  {
   "cell_type": "code",
   "execution_count": 48,
   "metadata": {},
   "outputs": [],
   "source": [
    "mean_vec = np.mean(datos_iris, axis=0)\n",
    "\n",
    "# datos centrados\n",
    "datos_centrados = (datos_iris - mean_vec)"
   ]
  },
  {
   "cell_type": "code",
   "execution_count": 49,
   "metadata": {},
   "outputs": [
    {
     "name": "stdout",
     "output_type": "stream",
     "text": [
      "[[5.1 3.5 1.4 0.2]\n",
      " [4.9 3.  1.4 0.2]\n",
      " [4.7 3.2 1.3 0.2]\n",
      " [4.6 3.1 1.5 0.2]\n",
      " [5.  3.6 1.4 0.2]]\n",
      "--------------------------------------------------------------------------\n",
      "[5.84333333 3.05733333 3.758      1.19933333]\n",
      "--------------------------------------------------------------------------\n",
      "[[-0.74333333  0.44266667 -2.358      -0.99933333]\n",
      " [-0.94333333 -0.05733333 -2.358      -0.99933333]\n",
      " [-1.14333333  0.14266667 -2.458      -0.99933333]\n",
      " [-1.24333333  0.04266667 -2.258      -0.99933333]\n",
      " [-0.84333333  0.54266667 -2.358      -0.99933333]]\n"
     ]
    }
   ],
   "source": [
    "print(datos_iris[:5])\n",
    "print('--------------------------------------------------------------------------')\n",
    "print(mean_vec)\n",
    "print('--------------------------------------------------------------------------')\n",
    "print(datos_centrados[:5])"
   ]
  },
  {
   "cell_type": "code",
   "execution_count": 51,
   "metadata": {},
   "outputs": [
    {
     "data": {
      "text/plain": [
       "array([[ 0.36138659],\n",
       "       [-0.08452251],\n",
       "       [ 0.85667061],\n",
       "       [ 0.3582892 ]])"
      ]
     },
     "execution_count": 51,
     "metadata": {},
     "output_type": "execute_result"
    }
   ],
   "source": [
    "coeficientes"
   ]
  },
  {
   "cell_type": "code",
   "execution_count": 52,
   "metadata": {},
   "outputs": [
    {
     "data": {
      "text/plain": [
       "array([[-2.68412563],\n",
       "       [-2.71414169],\n",
       "       [-2.88899057],\n",
       "       [-2.74534286],\n",
       "       [-2.72871654],\n",
       "       [-2.28085963],\n",
       "       [-2.82053775],\n",
       "       [-2.62614497],\n",
       "       [-2.88638273],\n",
       "       [-2.6727558 ],\n",
       "       [-2.50694709],\n",
       "       [-2.61275523],\n",
       "       [-2.78610927],\n",
       "       [-3.22380374],\n",
       "       [-2.64475039],\n",
       "       [-2.38603903],\n",
       "       [-2.62352788],\n",
       "       [-2.64829671],\n",
       "       [-2.19982032],\n",
       "       [-2.5879864 ],\n",
       "       [-2.31025622],\n",
       "       [-2.54370523],\n",
       "       [-3.21593942],\n",
       "       [-2.30273318],\n",
       "       [-2.35575405],\n",
       "       [-2.50666891],\n",
       "       [-2.46882007],\n",
       "       [-2.56231991],\n",
       "       [-2.63953472],\n",
       "       [-2.63198939],\n",
       "       [-2.58739848],\n",
       "       [-2.4099325 ],\n",
       "       [-2.64886233],\n",
       "       [-2.59873675],\n",
       "       [-2.63692688],\n",
       "       [-2.86624165],\n",
       "       [-2.62523805],\n",
       "       [-2.80068412],\n",
       "       [-2.98050204],\n",
       "       [-2.59000631],\n",
       "       [-2.77010243],\n",
       "       [-2.84936871],\n",
       "       [-2.99740655],\n",
       "       [-2.40561449],\n",
       "       [-2.20948924],\n",
       "       [-2.71445143],\n",
       "       [-2.53814826],\n",
       "       [-2.83946217],\n",
       "       [-2.54308575],\n",
       "       [-2.70335978],\n",
       "       [ 1.28482569],\n",
       "       [ 0.93248853],\n",
       "       [ 1.46430232],\n",
       "       [ 0.18331772],\n",
       "       [ 1.08810326],\n",
       "       [ 0.64166908],\n",
       "       [ 1.09506066],\n",
       "       [-0.74912267],\n",
       "       [ 1.04413183],\n",
       "       [-0.0087454 ],\n",
       "       [-0.50784088],\n",
       "       [ 0.51169856],\n",
       "       [ 0.26497651],\n",
       "       [ 0.98493451],\n",
       "       [-0.17392537],\n",
       "       [ 0.92786078],\n",
       "       [ 0.66028376],\n",
       "       [ 0.23610499],\n",
       "       [ 0.94473373],\n",
       "       [ 0.04522698],\n",
       "       [ 1.11628318],\n",
       "       [ 0.35788842],\n",
       "       [ 1.29818388],\n",
       "       [ 0.92172892],\n",
       "       [ 0.71485333],\n",
       "       [ 0.90017437],\n",
       "       [ 1.33202444],\n",
       "       [ 1.55780216],\n",
       "       [ 0.81329065],\n",
       "       [-0.30558378],\n",
       "       [-0.06812649],\n",
       "       [-0.18962247],\n",
       "       [ 0.13642871],\n",
       "       [ 1.38002644],\n",
       "       [ 0.58800644],\n",
       "       [ 0.80685831],\n",
       "       [ 1.22069088],\n",
       "       [ 0.81509524],\n",
       "       [ 0.24595768],\n",
       "       [ 0.16641322],\n",
       "       [ 0.46480029],\n",
       "       [ 0.8908152 ],\n",
       "       [ 0.23054802],\n",
       "       [-0.70453176],\n",
       "       [ 0.35698149],\n",
       "       [ 0.33193448],\n",
       "       [ 0.37621565],\n",
       "       [ 0.64257601],\n",
       "       [-0.90646986],\n",
       "       [ 0.29900084],\n",
       "       [ 2.53119273],\n",
       "       [ 1.41523588],\n",
       "       [ 2.61667602],\n",
       "       [ 1.97153105],\n",
       "       [ 2.35000592],\n",
       "       [ 3.39703874],\n",
       "       [ 0.52123224],\n",
       "       [ 2.93258707],\n",
       "       [ 2.32122882],\n",
       "       [ 2.91675097],\n",
       "       [ 1.66177415],\n",
       "       [ 1.80340195],\n",
       "       [ 2.1655918 ],\n",
       "       [ 1.34616358],\n",
       "       [ 1.58592822],\n",
       "       [ 1.90445637],\n",
       "       [ 1.94968906],\n",
       "       [ 3.48705536],\n",
       "       [ 3.79564542],\n",
       "       [ 1.30079171],\n",
       "       [ 2.42781791],\n",
       "       [ 1.19900111],\n",
       "       [ 3.49992004],\n",
       "       [ 1.38876613],\n",
       "       [ 2.2754305 ],\n",
       "       [ 2.61409047],\n",
       "       [ 1.25850816],\n",
       "       [ 1.29113206],\n",
       "       [ 2.12360872],\n",
       "       [ 2.38800302],\n",
       "       [ 2.84167278],\n",
       "       [ 3.23067366],\n",
       "       [ 2.15943764],\n",
       "       [ 1.44416124],\n",
       "       [ 1.78129481],\n",
       "       [ 3.07649993],\n",
       "       [ 2.14424331],\n",
       "       [ 1.90509815],\n",
       "       [ 1.16932634],\n",
       "       [ 2.10761114],\n",
       "       [ 2.31415471],\n",
       "       [ 1.9222678 ],\n",
       "       [ 1.41523588],\n",
       "       [ 2.56301338],\n",
       "       [ 2.41874618],\n",
       "       [ 1.94410979],\n",
       "       [ 1.52716661],\n",
       "       [ 1.76434572],\n",
       "       [ 1.90094161],\n",
       "       [ 1.39018886]])"
      ]
     },
     "execution_count": 52,
     "metadata": {},
     "output_type": "execute_result"
    }
   ],
   "source": [
    "datos_centrados@coeficientes"
   ]
  },
  {
   "cell_type": "markdown",
   "metadata": {},
   "source": [
    "### Siguiente prueba. Usar un subconjunto de los datos limpios"
   ]
  },
  {
   "cell_type": "code",
   "execution_count": 53,
   "metadata": {},
   "outputs": [],
   "source": [
    "# importar datos\n",
    "import pandas as pd\n",
    "df = pd.read_csv('/home/leonardo/Documentos/ITAM/MNO/Final-Project-MNO-2020/data/datos_limpios.csv', nrows = 20000)\n",
    "#df = pd.read_csv('/home/leonardo/Documentos/ITAM/MNO/Final-Project-MNO-2020/data/datos_limpios.csv')"
   ]
  },
  {
   "cell_type": "code",
   "execution_count": 54,
   "metadata": {},
   "outputs": [
    {
     "data": {
      "text/html": [
       "<div>\n",
       "<style scoped>\n",
       "    .dataframe tbody tr th:only-of-type {\n",
       "        vertical-align: middle;\n",
       "    }\n",
       "\n",
       "    .dataframe tbody tr th {\n",
       "        vertical-align: top;\n",
       "    }\n",
       "\n",
       "    .dataframe thead th {\n",
       "        text-align: right;\n",
       "    }\n",
       "</style>\n",
       "<table border=\"1\" class=\"dataframe\">\n",
       "  <thead>\n",
       "    <tr style=\"text-align: right;\">\n",
       "      <th></th>\n",
       "      <th>p10</th>\n",
       "      <th>p11</th>\n",
       "      <th>p12</th>\n",
       "      <th>p13</th>\n",
       "      <th>p14</th>\n",
       "    </tr>\n",
       "  </thead>\n",
       "  <tbody>\n",
       "    <tr>\n",
       "      <th>0</th>\n",
       "      <td>2.0</td>\n",
       "      <td>1.0</td>\n",
       "      <td>1.0</td>\n",
       "      <td>2.0</td>\n",
       "      <td>2.0</td>\n",
       "    </tr>\n",
       "    <tr>\n",
       "      <th>1</th>\n",
       "      <td>4.0</td>\n",
       "      <td>3.0</td>\n",
       "      <td>3.0</td>\n",
       "      <td>5.0</td>\n",
       "      <td>6.0</td>\n",
       "    </tr>\n",
       "    <tr>\n",
       "      <th>2</th>\n",
       "      <td>4.0</td>\n",
       "      <td>1.0</td>\n",
       "      <td>2.0</td>\n",
       "      <td>5.0</td>\n",
       "      <td>5.0</td>\n",
       "    </tr>\n",
       "    <tr>\n",
       "      <th>3</th>\n",
       "      <td>2.0</td>\n",
       "      <td>1.0</td>\n",
       "      <td>1.0</td>\n",
       "      <td>3.0</td>\n",
       "      <td>3.0</td>\n",
       "    </tr>\n",
       "    <tr>\n",
       "      <th>4</th>\n",
       "      <td>2.0</td>\n",
       "      <td>2.0</td>\n",
       "      <td>3.0</td>\n",
       "      <td>3.0</td>\n",
       "      <td>4.0</td>\n",
       "    </tr>\n",
       "  </tbody>\n",
       "</table>\n",
       "</div>"
      ],
      "text/plain": [
       "   p10  p11  p12  p13  p14\n",
       "0  2.0  1.0  1.0  2.0  2.0\n",
       "1  4.0  3.0  3.0  5.0  6.0\n",
       "2  4.0  1.0  2.0  5.0  5.0\n",
       "3  2.0  1.0  1.0  3.0  3.0\n",
       "4  2.0  2.0  3.0  3.0  4.0"
      ]
     },
     "execution_count": 54,
     "metadata": {},
     "output_type": "execute_result"
    }
   ],
   "source": [
    "# Conservar variables de la sección 3\n",
    "seccion_3 = df.loc[:, ['p10', 'p11', 'p12', 'p13', 'p14']]\n",
    "seccion_3.head()"
   ]
  },
  {
   "cell_type": "markdown",
   "metadata": {},
   "source": [
    "Probar la funcion que calcula eigenvalores "
   ]
  },
  {
   "cell_type": "code",
   "execution_count": 55,
   "metadata": {},
   "outputs": [
    {
     "name": "stdout",
     "output_type": "stream",
     "text": [
      "se alcanzo la torelacia deseada\n"
     ]
    }
   ],
   "source": [
    "E1, Q1 = eigenvectores_eigenvalores_QR2(seccion_3,120)"
   ]
  },
  {
   "cell_type": "markdown",
   "metadata": {},
   "source": [
    "Probar función que hace PCA"
   ]
  },
  {
   "cell_type": "code",
   "execution_count": 59,
   "metadata": {},
   "outputs": [
    {
     "name": "stdout",
     "output_type": "stream",
     "text": [
      "se alcanzo la torelacia deseada\n"
     ]
    }
   ],
   "source": [
    "eigenvalores, coeficientes, Z, varianza_explicada, var_acum, n = PCA_from_QR(seccion_3,120)"
   ]
  },
  {
   "cell_type": "code",
   "execution_count": 60,
   "metadata": {},
   "outputs": [
    {
     "data": {
      "text/plain": [
       "array([4.70597231, 1.53945229, 0.87015472, 0.52849951, 0.39522596])"
      ]
     },
     "execution_count": 60,
     "metadata": {},
     "output_type": "execute_result"
    }
   ],
   "source": [
    "eigenvalores"
   ]
  },
  {
   "cell_type": "code",
   "execution_count": 61,
   "metadata": {},
   "outputs": [
    {
     "data": {
      "text/plain": [
       "array([[ 0.06558817,  0.28749878,  0.4607722 ,  0.58625881,  0.59752175],\n",
       "       [-0.21036303,  0.49739437,  0.66144939, -0.3307176 , -0.40181689],\n",
       "       [-0.9562346 , -0.02828963, -0.15949514,  0.24365987,  0.00250049],\n",
       "       [ 0.13371182,  0.7579274 , -0.53349033,  0.26588056, -0.22882919],\n",
       "       [ 0.13849954, -0.30771585,  0.2003074 ,  0.64564997, -0.65508923]])"
      ]
     },
     "execution_count": 61,
     "metadata": {},
     "output_type": "execute_result"
    }
   ],
   "source": [
    "coeficientes"
   ]
  },
  {
   "cell_type": "code",
   "execution_count": 62,
   "metadata": {},
   "outputs": [
    {
     "data": {
      "text/html": [
       "<div>\n",
       "<style scoped>\n",
       "    .dataframe tbody tr th:only-of-type {\n",
       "        vertical-align: middle;\n",
       "    }\n",
       "\n",
       "    .dataframe tbody tr th {\n",
       "        vertical-align: top;\n",
       "    }\n",
       "\n",
       "    .dataframe thead th {\n",
       "        text-align: right;\n",
       "    }\n",
       "</style>\n",
       "<table border=\"1\" class=\"dataframe\">\n",
       "  <thead>\n",
       "    <tr style=\"text-align: right;\">\n",
       "      <th></th>\n",
       "      <th>0</th>\n",
       "      <th>1</th>\n",
       "      <th>2</th>\n",
       "      <th>3</th>\n",
       "      <th>4</th>\n",
       "    </tr>\n",
       "  </thead>\n",
       "  <tbody>\n",
       "    <tr>\n",
       "      <th>0</th>\n",
       "      <td>3.247008</td>\n",
       "      <td>-0.726951</td>\n",
       "      <td>-1.607933</td>\n",
       "      <td>0.565963</td>\n",
       "      <td>0.150712</td>\n",
       "    </tr>\n",
       "    <tr>\n",
       "      <th>1</th>\n",
       "      <td>9.023590</td>\n",
       "      <td>-1.429410</td>\n",
       "      <td>-3.154990</td>\n",
       "      <td>1.164586</td>\n",
       "      <td>-0.470513</td>\n",
       "    </tr>\n",
       "    <tr>\n",
       "      <th>2</th>\n",
       "      <td>7.390299</td>\n",
       "      <td>-2.683831</td>\n",
       "      <td>-2.941417</td>\n",
       "      <td>0.411051</td>\n",
       "      <td>0.599701</td>\n",
       "    </tr>\n",
       "    <tr>\n",
       "      <th>3</th>\n",
       "      <td>4.430789</td>\n",
       "      <td>-1.459486</td>\n",
       "      <td>-1.361773</td>\n",
       "      <td>0.603015</td>\n",
       "      <td>0.141273</td>\n",
       "    </tr>\n",
       "    <tr>\n",
       "      <th>4</th>\n",
       "      <td>6.237354</td>\n",
       "      <td>-0.041010</td>\n",
       "      <td>-1.706552</td>\n",
       "      <td>0.065132</td>\n",
       "      <td>-0.420917</td>\n",
       "    </tr>\n",
       "    <tr>\n",
       "      <th>...</th>\n",
       "      <td>...</td>\n",
       "      <td>...</td>\n",
       "      <td>...</td>\n",
       "      <td>...</td>\n",
       "      <td>...</td>\n",
       "    </tr>\n",
       "    <tr>\n",
       "      <th>19995</th>\n",
       "      <td>10.728041</td>\n",
       "      <td>-2.282299</td>\n",
       "      <td>-1.708936</td>\n",
       "      <td>1.333806</td>\n",
       "      <td>0.027198</td>\n",
       "    </tr>\n",
       "    <tr>\n",
       "      <th>19996</th>\n",
       "      <td>10.380644</td>\n",
       "      <td>-1.997890</td>\n",
       "      <td>-3.040036</td>\n",
       "      <td>-0.089780</td>\n",
       "      <td>0.028071</td>\n",
       "    </tr>\n",
       "    <tr>\n",
       "      <th>19997</th>\n",
       "      <td>6.505280</td>\n",
       "      <td>-1.525002</td>\n",
       "      <td>-3.457026</td>\n",
       "      <td>0.637217</td>\n",
       "      <td>-0.999315</td>\n",
       "    </tr>\n",
       "    <tr>\n",
       "      <th>19998</th>\n",
       "      <td>10.358120</td>\n",
       "      <td>-0.601284</td>\n",
       "      <td>-3.099115</td>\n",
       "      <td>1.654904</td>\n",
       "      <td>0.067729</td>\n",
       "    </tr>\n",
       "    <tr>\n",
       "      <th>19999</th>\n",
       "      <td>9.609849</td>\n",
       "      <td>-1.760128</td>\n",
       "      <td>-2.911331</td>\n",
       "      <td>1.430467</td>\n",
       "      <td>0.175137</td>\n",
       "    </tr>\n",
       "  </tbody>\n",
       "</table>\n",
       "<p>20000 rows × 5 columns</p>\n",
       "</div>"
      ],
      "text/plain": [
       "               0         1         2         3         4\n",
       "0       3.247008 -0.726951 -1.607933  0.565963  0.150712\n",
       "1       9.023590 -1.429410 -3.154990  1.164586 -0.470513\n",
       "2       7.390299 -2.683831 -2.941417  0.411051  0.599701\n",
       "3       4.430789 -1.459486 -1.361773  0.603015  0.141273\n",
       "4       6.237354 -0.041010 -1.706552  0.065132 -0.420917\n",
       "...          ...       ...       ...       ...       ...\n",
       "19995  10.728041 -2.282299 -1.708936  1.333806  0.027198\n",
       "19996  10.380644 -1.997890 -3.040036 -0.089780  0.028071\n",
       "19997   6.505280 -1.525002 -3.457026  0.637217 -0.999315\n",
       "19998  10.358120 -0.601284 -3.099115  1.654904  0.067729\n",
       "19999   9.609849 -1.760128 -2.911331  1.430467  0.175137\n",
       "\n",
       "[20000 rows x 5 columns]"
      ]
     },
     "execution_count": 62,
     "metadata": {},
     "output_type": "execute_result"
    }
   ],
   "source": [
    "Z"
   ]
  },
  {
   "cell_type": "code",
   "execution_count": 63,
   "metadata": {},
   "outputs": [
    {
     "data": {
      "text/plain": [
       "array([0.58537056, 0.19149072, 0.10823756, 0.06573945, 0.04916171])"
      ]
     },
     "execution_count": 63,
     "metadata": {},
     "output_type": "execute_result"
    }
   ],
   "source": [
    "varianza_explicada"
   ]
  },
  {
   "cell_type": "code",
   "execution_count": 64,
   "metadata": {},
   "outputs": [
    {
     "data": {
      "text/plain": [
       "array([0.58537056, 0.77686128, 0.88509884, 0.95083829, 1.        ])"
      ]
     },
     "execution_count": 64,
     "metadata": {},
     "output_type": "execute_result"
    }
   ],
   "source": [
    "var_acum"
   ]
  },
  {
   "cell_type": "code",
   "execution_count": 65,
   "metadata": {},
   "outputs": [
    {
     "data": {
      "text/plain": [
       "2"
      ]
     },
     "execution_count": 65,
     "metadata": {},
     "output_type": "execute_result"
    }
   ],
   "source": [
    "n"
   ]
  },
  {
   "cell_type": "code",
   "execution_count": 81,
   "metadata": {},
   "outputs": [],
   "source": [
    "def PCA_from_QR2(data,niter):\n",
    "    \"\"\"\n",
    "    Función para PCA a partir de los eigenvectores  \n",
    "    params: A:\t\t\tmatriz de datos\n",
    "            niter:      número de iteraciones máximas    \n",
    "    \n",
    "    \n",
    "    return:     componentes\t\tLos coeficientes para calcular los componentes principales (eigenvectores de la matriz de covarianzas)\n",
    "                Z\t\t\tLos datos transformados (componentes principales)\n",
    "                varianza_explicada\tLa varianza explicada por cada componente principal\n",
    "    \n",
    "    Depende de la función: eigenvectores_QR\n",
    "    \"\"\"\n",
    "    \n",
    "\n",
    "    \n",
    "    # Calcular algoritmo QR\n",
    "    E, Q = eigenvectores_eigenvalores_QR2(data,niter)\n",
    "    \n",
    "    \n",
    "    # Los componentes (coeficientes)\n",
    "    componentes = Q.T\n",
    "    \n",
    "    # Los datos transformados (componentes principales)\n",
    "    # Aquí marcaba error al filtrar porque no se reconocia a Z como numpy array\n",
    "    Z = np.array(data)@Q\n",
    "    \n",
    "    # La varianza explicada\n",
    "    varianza_explicada = E/np.sum(E)\n",
    "    \n",
    "    # Calcula número de componentes de manera automatica de acuerdo a la variana explicada\n",
    "    # Threshold de 60%\n",
    "    n = data.shape[1] #numero de columnas\n",
    "    varianza_acumulada = varianza_explicada.cumsum()\n",
    "    conteo = (varianza_acumulada)  <  0.6\n",
    "    num_componentes = conteo.sum() + 1\n",
    "    \n",
    "    # regresar 4 objetos\n",
    "    return E[:num_componentes], componentes[:num_componentes].T, Z[:,:num_componentes], varianza_explicada[:num_componentes], varianza_acumulada, num_componentes\n",
    "    #return E, componentes, Z, varianza_explicada, varianza_acumulada, num_componentes"
   ]
  },
  {
   "cell_type": "code",
   "execution_count": 82,
   "metadata": {},
   "outputs": [
    {
     "name": "stdout",
     "output_type": "stream",
     "text": [
      "se alcanzo la torelacia deseada\n"
     ]
    }
   ],
   "source": [
    "eigenvalores, coeficientes, Z, varianza_explicada, var_acum, n = PCA_from_QR2(seccion_3,120)"
   ]
  },
  {
   "cell_type": "code",
   "execution_count": null,
   "metadata": {},
   "outputs": [],
   "source": []
  },
  {
   "cell_type": "code",
   "execution_count": 83,
   "metadata": {},
   "outputs": [
    {
     "data": {
      "text/plain": [
       "array([4.70597231, 1.53945229])"
      ]
     },
     "execution_count": 83,
     "metadata": {},
     "output_type": "execute_result"
    }
   ],
   "source": [
    "eigenvalores"
   ]
  },
  {
   "cell_type": "code",
   "execution_count": 84,
   "metadata": {},
   "outputs": [
    {
     "data": {
      "text/plain": [
       "array([[ 0.06558817, -0.21036303],\n",
       "       [ 0.28749878,  0.49739437],\n",
       "       [ 0.4607722 ,  0.66144939],\n",
       "       [ 0.58625881, -0.3307176 ],\n",
       "       [ 0.59752175, -0.40181689]])"
      ]
     },
     "execution_count": 84,
     "metadata": {},
     "output_type": "execute_result"
    }
   ],
   "source": [
    "coeficientes"
   ]
  },
  {
   "cell_type": "code",
   "execution_count": 85,
   "metadata": {},
   "outputs": [
    {
     "data": {
      "text/plain": [
       "array([[ 3.24700842, -0.72695129],\n",
       "       [ 9.02359012, -1.4294102 ],\n",
       "       [ 7.39029862, -2.68383144],\n",
       "       ...,\n",
       "       [ 6.50527979, -1.52500186],\n",
       "       [10.35811991, -0.60128405],\n",
       "       [ 9.60984893, -1.7601278 ]])"
      ]
     },
     "execution_count": 85,
     "metadata": {},
     "output_type": "execute_result"
    }
   ],
   "source": [
    "Z"
   ]
  },
  {
   "cell_type": "code",
   "execution_count": 86,
   "metadata": {},
   "outputs": [
    {
     "data": {
      "text/plain": [
       "array([0.58537056, 0.19149072])"
      ]
     },
     "execution_count": 86,
     "metadata": {},
     "output_type": "execute_result"
    }
   ],
   "source": [
    "varianza_explicada"
   ]
  },
  {
   "cell_type": "code",
   "execution_count": 87,
   "metadata": {},
   "outputs": [
    {
     "data": {
      "text/plain": [
       "array([0.58537056, 0.77686128, 0.88509884, 0.95083829, 1.        ])"
      ]
     },
     "execution_count": 87,
     "metadata": {},
     "output_type": "execute_result"
    }
   ],
   "source": [
    "var_acum"
   ]
  },
  {
   "cell_type": "code",
   "execution_count": 88,
   "metadata": {},
   "outputs": [
    {
     "data": {
      "text/plain": [
       "2"
      ]
     },
     "execution_count": 88,
     "metadata": {},
     "output_type": "execute_result"
    }
   ],
   "source": [
    "n"
   ]
  },
  {
   "cell_type": "code",
   "execution_count": null,
   "metadata": {},
   "outputs": [],
   "source": []
  },
  {
   "cell_type": "markdown",
   "metadata": {},
   "source": [
    "## Afinar funciones"
   ]
  },
  {
   "cell_type": "markdown",
   "metadata": {},
   "source": [
    "No sacar la matriz de covarianzas en esta función"
   ]
  },
  {
   "cell_type": "code",
   "execution_count": 93,
   "metadata": {},
   "outputs": [],
   "source": [
    "def eigenvectores_eigenvalores_QR_vf(data,niter,tolerancia = 10**-8):\n",
    "    \"\"\"\n",
    "    Función para obtener los eigenvectores y eigenvalores de una matriz cualquiera\n",
    "    params: data\t\t\tmatriz de datos\n",
    "            niter: número de iteraciones máximas \n",
    "    \n",
    "    \n",
    "    return:     eigenvalores \n",
    "                eigenvalores \n",
    "                \n",
    "    Depende de las funciones ue calculan la factorización QR\n",
    "    \"\"\"\n",
    "\n",
    "    # convertir a array\n",
    "    A = np.array(data)\n",
    "    \n",
    "    # La matriz de covarianza ya es simetrica, no necesitamos rellenar columnas de ceros\n",
    "    # Completamos la matriz A con columnas de ceros para que sea cuadrada\n",
    "    n, p = A.shape\n",
    "    columnas = n - p\n",
    "    ceros = np.zeros((n,columnas))\n",
    "    \n",
    "    # Matriz inicial\n",
    "    A0 = np.append(A, ceros, axis = 1)\n",
    "    # Factorización inicial\n",
    "    Qk,Rk =matriz_Q_R(A0)\n",
    "    \n",
    "    # Hacer una copia de la matriz Q inicial\n",
    "    Q = Qk.copy()\n",
    "    \n",
    "    valor = 10\n",
    "    \n",
    "    #iniciamos ciclo\n",
    "    for i in range(niter):\n",
    "        \n",
    "        #Definimos la nueva Ak+1\n",
    "        Ak = Rk@Qk\n",
    "        #calculamos la factorización QR sobre la nueva Ak\n",
    "        Qk,Rk =matriz_Q_R(Ak)\n",
    "        \n",
    "        # Actualizar la matriz Q\n",
    "        Q = Q@Qk\n",
    "        \n",
    "        \n",
    "        # Se usan los valores distintos de la diagonal para corroborar la tolerancia deseada\n",
    "        valor = np.sum(np.abs(Qk)) - np.trace(np.abs(Qk))\n",
    "        \n",
    "        \n",
    "        # Detener si se logra la tolerancia deseada\n",
    "        # Notar que en esta primera prueba no se está actualizando  el valor que checa la tolerancia\n",
    "        if (valor<tolerancia):\n",
    "            print(\"se alcanzo la torelacia deseada\")\n",
    "            break\n",
    "    \n",
    "    #se acaba el for\n",
    "    \n",
    "    #La diagonal de Ak nos regresa los eigenvalores\n",
    "    eigenvalores = np.diagonal(Ak)\n",
    "        \n",
    "    return eigenvalores, Q"
   ]
  },
  {
   "cell_type": "markdown",
   "metadata": {},
   "source": [
    "Probar con una matriz no simetrica"
   ]
  },
  {
   "cell_type": "code",
   "execution_count": 114,
   "metadata": {},
   "outputs": [],
   "source": [
    "e, q = eigenvectores_eigenvalores_QR_vf(datos_iris,10)"
   ]
  },
  {
   "cell_type": "code",
   "execution_count": 115,
   "metadata": {
    "scrolled": true
   },
   "outputs": [
    {
     "name": "stdout",
     "output_type": "stream",
     "text": [
      "[ 9.83727522e+00 -2.50616177e-01  5.22065754e-02 -3.88656187e-02\n",
      " -1.28154255e-28]\n",
      "--------------------------------------------------------------------------\n",
      "[[ 5.91447560e-02  1.22776067e-01 -4.31753192e-02  1.29168997e-02\n",
      "  -1.65021301e-01  4.31296508e-02 -2.11293277e-01 -1.90279866e-01\n",
      "   2.30726729e-01  2.06292404e-01 -2.09659665e-01 -6.96975994e-02\n",
      "  -4.15914938e-02  1.46616734e-01  6.38124417e-02  3.86459959e-02\n",
      "  -3.54699982e-02  1.11414428e-01 -1.94934436e-01  1.60724899e-01\n",
      "   5.50200399e-02 -1.58450988e-01  4.51076355e-02 -2.28494072e-01\n",
      "   2.24913033e-02  5.41102022e-02  1.02028696e-01 -7.05628950e-03\n",
      "   9.71789702e-02  3.71431779e-02  1.36110111e-01 -8.43499847e-03\n",
      "  -5.06709442e-02  6.74326952e-02  9.10873752e-02  1.35912490e-01\n",
      "  -6.05438049e-02 -1.20039862e-02  2.33805015e-02 -4.77701298e-03\n",
      "   2.68727407e-02 -8.50587684e-02 -2.96412948e-05 -5.43792365e-02\n",
      "  -2.23571751e-02  2.30803156e-02  6.08937207e-02 -1.33549312e-01\n",
      "   5.34621697e-02  1.08224195e-02 -8.51911385e-02 -2.90147158e-02\n",
      "  -1.05597195e-01  3.94620174e-02  4.50817469e-02 -3.68017784e-02\n",
      "  -9.99527414e-02  7.81182825e-02  1.52511877e-02  1.66094219e-02\n",
      "  -5.97174701e-03 -7.35537016e-02  7.37504676e-02  1.26720696e-01\n",
      "  -5.64626646e-02  5.49113391e-02  8.52034098e-02 -6.67262547e-02\n",
      "  -4.25325446e-03  2.75703964e-02  9.88709399e-02 -1.16771131e-01\n",
      "   1.20282770e-01 -7.64134087e-02  2.15763106e-02  7.50161501e-02\n",
      "  -1.01498685e-01 -1.95987216e-02  5.48684979e-02 -2.02753835e-01\n",
      "   2.54012576e-02 -5.08595684e-02 -2.04223593e-02  3.65174216e-02\n",
      "   6.11382295e-02  6.27831174e-02  5.46166117e-02 -1.55096134e-02\n",
      "   1.11741420e-01  4.19536010e-02 -1.66903857e-02 -1.25406343e-01\n",
      "   1.57370501e-02  5.00541544e-02 -5.30894369e-02 -3.22533876e-04\n",
      "  -4.57321645e-02 -1.03518664e-01 -1.50830566e-02 -1.31145624e-01\n",
      "  -2.49231550e-02 -6.28295933e-02  5.15209903e-02  2.89270847e-02\n",
      "  -7.17269795e-02  3.51730059e-02 -5.46691107e-04  2.12158403e-02\n",
      "  -2.83385659e-02  1.39453101e-03  8.62074869e-02 -3.64929242e-02\n",
      "  -9.49452841e-02 -1.54677725e-02  6.84877646e-02 -2.91564732e-02\n",
      "  -6.36748094e-02 -2.40741471e-02 -6.21935798e-02  3.29194173e-02\n",
      "  -6.82931676e-02  6.22093319e-02 -4.34247326e-02  9.92715336e-02\n",
      "  -8.48669612e-02  7.53337735e-02  5.24828806e-02  5.66610329e-03\n",
      "   3.83292894e-02  2.33143865e-02 -2.80536424e-02  2.46931559e-02\n",
      "  -8.07559317e-02 -2.66203813e-02  5.84763082e-02 -4.15763049e-02\n",
      "   6.34014171e-02 -7.63617895e-02  6.18016574e-02  2.49592889e-02\n",
      "   1.17815535e-01 -5.97864191e-03 -8.23491728e-02 -3.61001558e-02\n",
      "   2.87856401e-02  7.82337154e-02  1.63962481e-02 -1.61443927e-02\n",
      "  -2.12512939e-02 -1.86521368e-02]\n",
      " [ 5.51397036e-02  8.15753725e-02 -9.28342541e-02  7.11186859e-02\n",
      "  -2.74054900e-01 -1.16148130e-01  7.55256281e-02  5.04898006e-03\n",
      "  -4.66508485e-02 -8.25678493e-02 -1.28385455e-01 -5.19522065e-02\n",
      "   4.93193472e-02 -3.99703736e-02 -5.52952435e-02 -3.49502982e-02\n",
      "  -2.99667126e-02 -1.89188683e-01 -1.59795864e-02  3.17339900e-02\n",
      "  -1.25428115e-01 -3.31413081e-03  3.72857848e-02  4.28885931e-02\n",
      "   4.88474784e-02  9.28562801e-02  8.09562958e-02 -8.90979102e-02\n",
      "   1.26776359e-01 -1.48041765e-02  1.31822877e-01 -9.21718778e-02\n",
      "  -1.44772586e-01  3.01651780e-03  9.08687072e-04 -6.63380775e-03\n",
      "  -3.36011430e-02 -8.78596207e-03  9.54744855e-02 -1.83211320e-01\n",
      "  -2.16715881e-02  1.68829751e-01  1.79608449e-02 -2.17908897e-02\n",
      "  -1.54705069e-01 -5.13755784e-02 -1.88778594e-02  5.77286330e-02\n",
      "   2.00112555e-02 -7.96522666e-02 -1.80510265e-01  8.98798614e-02\n",
      "   9.31830724e-02 -1.45716496e-02  1.51031358e-01  8.23973791e-02\n",
      "  -6.25325812e-02 -1.49328115e-01 -9.25435336e-02 -1.16194349e-02\n",
      "   4.31238944e-02  5.27429425e-02  1.82969052e-02  7.17198071e-02\n",
      "  -6.90348409e-02  1.74565548e-02 -1.05477668e-01  6.70634214e-03\n",
      "   5.80758429e-02 -5.44616937e-03 -7.18184593e-02 -8.09446631e-02\n",
      "   1.91456495e-02 -8.17982969e-02 -1.23149173e-01 -5.42954574e-02\n",
      "   6.84352397e-02 -6.08380104e-02 -6.83294451e-02 -2.77590729e-02\n",
      "  -3.80995981e-02  1.23460310e-01  4.23202228e-02  5.17709425e-02\n",
      "  -1.11297329e-01  1.47568852e-01 -3.07163411e-02 -6.93643817e-05\n",
      "  -9.58006853e-02  1.60324867e-01  5.58898335e-03 -4.42930856e-03\n",
      "   9.44218753e-02 -1.01923642e-01  9.68070421e-02  1.71337155e-01\n",
      "   1.16186699e-02 -3.91798268e-02  5.28409997e-02  7.17135712e-03\n",
      "  -4.73428954e-03  9.23058198e-02 -8.17840745e-02 -1.11796330e-01\n",
      "   3.53407718e-02 -3.89775085e-03 -4.39111792e-02  6.76920580e-02\n",
      "   2.09360837e-02  4.22474039e-02  3.58487782e-02 -8.36228881e-02\n",
      "   4.21441342e-02 -6.98092208e-02  5.19804787e-02 -4.98905635e-02\n",
      "   6.77061509e-02  1.07340062e-01 -3.74734827e-02 -1.02599090e-01\n",
      "   1.10056729e-01 -7.43113477e-02 -5.04782377e-02  1.65860288e-01\n",
      "  -5.36155390e-02  1.02636907e-01  1.02609096e-01  3.47605169e-02\n",
      "  -7.76473777e-02 -5.92758066e-02  5.88893582e-02  4.89222754e-03\n",
      "   3.70008219e-02  1.30365472e-01  1.83088344e-02 -4.62809275e-02\n",
      "  -3.03956866e-02  7.76494394e-02 -6.42943084e-02  1.97555206e-02\n",
      "  -7.80634424e-02  6.02680954e-02  5.61869007e-02  7.15197056e-02\n",
      "   7.46994050e-03 -8.51978944e-03  1.30764101e-01  2.37146841e-02\n",
      "   3.68626642e-02  6.46846084e-03]]\n"
     ]
    }
   ],
   "source": [
    "print(e[:5])\n",
    "print('--------------------------------------------------------------------------')\n",
    "print(q[:2])"
   ]
  },
  {
   "cell_type": "markdown",
   "metadata": {},
   "source": [
    "probar con una matriz simétrica"
   ]
  },
  {
   "cell_type": "code",
   "execution_count": 116,
   "metadata": {},
   "outputs": [
    {
     "data": {
      "text/plain": [
       "array([[ 0.68569351, -0.042434  ,  1.27431544,  0.51627069],\n",
       "       [-0.042434  ,  0.18997942, -0.32965638, -0.12163937],\n",
       "       [ 1.27431544, -0.32965638,  3.11627785,  1.2956094 ],\n",
       "       [ 0.51627069, -0.12163937,  1.2956094 ,  0.58100626]])"
      ]
     },
     "execution_count": 116,
     "metadata": {},
     "output_type": "execute_result"
    }
   ],
   "source": [
    "mean_vec = np.mean(datos_iris, axis=0)\n",
    "\n",
    "# Matriz de covarianzas\n",
    "C = (datos_iris - mean_vec).T.dot((datos_iris - mean_vec)) / (datos_iris.shape[0]-1)\n",
    "C"
   ]
  },
  {
   "cell_type": "code",
   "execution_count": 117,
   "metadata": {},
   "outputs": [],
   "source": [
    "e, q = eigenvectores_eigenvalores_QR_vf(C,10)"
   ]
  },
  {
   "cell_type": "code",
   "execution_count": 118,
   "metadata": {
    "scrolled": true
   },
   "outputs": [
    {
     "name": "stdout",
     "output_type": "stream",
     "text": [
      "[4.22824171 0.24267075 0.0782095  0.02383509]\n",
      "--------------------------------------------------------------------------\n",
      "[[ 0.36138659  0.65658759 -0.58203167  0.31548631]\n",
      " [-0.08452251  0.73016265  0.59790983 -0.31972219]\n",
      " [ 0.85667061 -0.17337251  0.07623716 -0.47983887]\n",
      " [ 0.3582892  -0.07547991  0.54583044  0.75365826]]\n"
     ]
    }
   ],
   "source": [
    "print(e)\n",
    "print('--------------------------------------------------------------------------')\n",
    "print(q)"
   ]
  },
  {
   "cell_type": "code",
   "execution_count": null,
   "metadata": {},
   "outputs": [],
   "source": []
  },
  {
   "cell_type": "code",
   "execution_count": 144,
   "metadata": {},
   "outputs": [],
   "source": [
    "def PCA_from_QR_vf(data,niter):\n",
    "    \"\"\"\n",
    "    Función para PCA a partir de los eigenvectores  \n",
    "    params: data:\t\t\tmatriz de datos\n",
    "            niter:      número de iteraciones máximas    \n",
    "    \n",
    "    \n",
    "    return:     componentes\t\tLos coeficientes para calcular los componentes principales (eigenvectores de la matriz de covarianzas)\n",
    "                Z\t\t\tLos datos transformados (componentes principales)\n",
    "                varianza_explicada\tLa varianza explicada por cada componente principal\n",
    "    \n",
    "    Depende de la función: eigenvectores_QR\n",
    "    \"\"\"\n",
    "    \n",
    "    # convertir a array\n",
    "    A = np.array(data)\n",
    "    \n",
    "    # Centrar los datos\n",
    "    mean_vec = np.mean(A, axis=0)\n",
    "    datos_centrados = (A - mean_vec)\n",
    "\n",
    "    # Matriz de Covarianzas\n",
    "    #C = (datos_centrados.T@datos_centrados)/(datos_centrados.shape[0]-1)\n",
    "    C = (A - mean_vec).T.dot((A - mean_vec)) / (A.shape[0]-1)\n",
    "    \n",
    "    # Calcular algoritmo QR\n",
    "    E, Q = eigenvectores_eigenvalores_QR_vf(C,niter)\n",
    "    \n",
    "    \n",
    "    # Los componentes (coeficientes)\n",
    "    componentes = Q.T\n",
    "    \n",
    "    # Los datos transformados (componentes principales)\n",
    "    # Aquí marcaba error al filtrar porque no se reconocia a Z como numpy array\n",
    "    Z = datos_centrados@Q\n",
    "    \n",
    "    # La varianza explicada\n",
    "    varianza_explicada = E/np.sum(E)\n",
    "    \n",
    "    # Calcula número de componentes de manera automatica de acuerdo a la variana explicada\n",
    "    # Threshold de 60%\n",
    "    n = data.shape[1] #numero de columnas\n",
    "    varianza_acumulada = varianza_explicada.cumsum()\n",
    "    conteo = (varianza_acumulada)  <  0.6\n",
    "    num_componentes = conteo.sum() + 1\n",
    "    \n",
    "    # regresar 4 objetos\n",
    "    return E[:num_componentes], componentes[:num_componentes].T, Z[:,:num_componentes], varianza_explicada[:num_componentes] #, varianza_acumulada, num_componentes\n",
    "    #return E, componentes, Z, varianza_explicada, varianza_acumulada, num_componentes"
   ]
  },
  {
   "cell_type": "code",
   "execution_count": null,
   "metadata": {},
   "outputs": [],
   "source": []
  },
  {
   "cell_type": "markdown",
   "metadata": {},
   "source": [
    "Probar función"
   ]
  },
  {
   "cell_type": "code",
   "execution_count": 145,
   "metadata": {
    "scrolled": true
   },
   "outputs": [
    {
     "name": "stdout",
     "output_type": "stream",
     "text": [
      "se alcanzo la torelacia deseada\n"
     ]
    }
   ],
   "source": [
    "eigenvalores, coeficientes, Z, varianza_explicada = PCA_from_QR_vf(datos_iris,120)"
   ]
  },
  {
   "cell_type": "code",
   "execution_count": 146,
   "metadata": {},
   "outputs": [
    {
     "data": {
      "text/plain": [
       "array([4.22824171])"
      ]
     },
     "execution_count": 146,
     "metadata": {},
     "output_type": "execute_result"
    }
   ],
   "source": [
    "eigenvalores"
   ]
  },
  {
   "cell_type": "code",
   "execution_count": 147,
   "metadata": {},
   "outputs": [
    {
     "data": {
      "text/plain": [
       "array([[ 0.36138659],\n",
       "       [-0.08452251],\n",
       "       [ 0.85667061],\n",
       "       [ 0.3582892 ]])"
      ]
     },
     "execution_count": 147,
     "metadata": {},
     "output_type": "execute_result"
    }
   ],
   "source": [
    "coeficientes"
   ]
  },
  {
   "cell_type": "code",
   "execution_count": 148,
   "metadata": {},
   "outputs": [
    {
     "data": {
      "text/plain": [
       "array([[-2.68412563],\n",
       "       [-2.71414169],\n",
       "       [-2.88899057],\n",
       "       [-2.74534286],\n",
       "       [-2.72871654],\n",
       "       [-2.28085963],\n",
       "       [-2.82053775],\n",
       "       [-2.62614497],\n",
       "       [-2.88638273],\n",
       "       [-2.6727558 ],\n",
       "       [-2.50694709],\n",
       "       [-2.61275523],\n",
       "       [-2.78610927],\n",
       "       [-3.22380374],\n",
       "       [-2.64475039],\n",
       "       [-2.38603903],\n",
       "       [-2.62352788],\n",
       "       [-2.64829671],\n",
       "       [-2.19982032],\n",
       "       [-2.5879864 ],\n",
       "       [-2.31025622],\n",
       "       [-2.54370523],\n",
       "       [-3.21593942],\n",
       "       [-2.30273318],\n",
       "       [-2.35575405],\n",
       "       [-2.50666891],\n",
       "       [-2.46882007],\n",
       "       [-2.56231991],\n",
       "       [-2.63953472],\n",
       "       [-2.63198939],\n",
       "       [-2.58739848],\n",
       "       [-2.4099325 ],\n",
       "       [-2.64886233],\n",
       "       [-2.59873675],\n",
       "       [-2.63692688],\n",
       "       [-2.86624165],\n",
       "       [-2.62523805],\n",
       "       [-2.80068412],\n",
       "       [-2.98050204],\n",
       "       [-2.59000631],\n",
       "       [-2.77010243],\n",
       "       [-2.84936871],\n",
       "       [-2.99740655],\n",
       "       [-2.40561449],\n",
       "       [-2.20948924],\n",
       "       [-2.71445143],\n",
       "       [-2.53814826],\n",
       "       [-2.83946217],\n",
       "       [-2.54308575],\n",
       "       [-2.70335978],\n",
       "       [ 1.28482569],\n",
       "       [ 0.93248853],\n",
       "       [ 1.46430232],\n",
       "       [ 0.18331772],\n",
       "       [ 1.08810326],\n",
       "       [ 0.64166908],\n",
       "       [ 1.09506066],\n",
       "       [-0.74912267],\n",
       "       [ 1.04413183],\n",
       "       [-0.0087454 ],\n",
       "       [-0.50784088],\n",
       "       [ 0.51169856],\n",
       "       [ 0.26497651],\n",
       "       [ 0.98493451],\n",
       "       [-0.17392537],\n",
       "       [ 0.92786078],\n",
       "       [ 0.66028376],\n",
       "       [ 0.23610499],\n",
       "       [ 0.94473373],\n",
       "       [ 0.04522698],\n",
       "       [ 1.11628318],\n",
       "       [ 0.35788842],\n",
       "       [ 1.29818388],\n",
       "       [ 0.92172892],\n",
       "       [ 0.71485333],\n",
       "       [ 0.90017437],\n",
       "       [ 1.33202444],\n",
       "       [ 1.55780216],\n",
       "       [ 0.81329065],\n",
       "       [-0.30558378],\n",
       "       [-0.06812649],\n",
       "       [-0.18962247],\n",
       "       [ 0.13642871],\n",
       "       [ 1.38002644],\n",
       "       [ 0.58800644],\n",
       "       [ 0.80685831],\n",
       "       [ 1.22069088],\n",
       "       [ 0.81509524],\n",
       "       [ 0.24595768],\n",
       "       [ 0.16641322],\n",
       "       [ 0.46480029],\n",
       "       [ 0.8908152 ],\n",
       "       [ 0.23054802],\n",
       "       [-0.70453176],\n",
       "       [ 0.35698149],\n",
       "       [ 0.33193448],\n",
       "       [ 0.37621565],\n",
       "       [ 0.64257601],\n",
       "       [-0.90646986],\n",
       "       [ 0.29900084],\n",
       "       [ 2.53119273],\n",
       "       [ 1.41523588],\n",
       "       [ 2.61667602],\n",
       "       [ 1.97153105],\n",
       "       [ 2.35000592],\n",
       "       [ 3.39703874],\n",
       "       [ 0.52123224],\n",
       "       [ 2.93258707],\n",
       "       [ 2.32122882],\n",
       "       [ 2.91675097],\n",
       "       [ 1.66177415],\n",
       "       [ 1.80340195],\n",
       "       [ 2.1655918 ],\n",
       "       [ 1.34616358],\n",
       "       [ 1.58592822],\n",
       "       [ 1.90445637],\n",
       "       [ 1.94968906],\n",
       "       [ 3.48705536],\n",
       "       [ 3.79564542],\n",
       "       [ 1.30079171],\n",
       "       [ 2.42781791],\n",
       "       [ 1.19900111],\n",
       "       [ 3.49992004],\n",
       "       [ 1.38876613],\n",
       "       [ 2.2754305 ],\n",
       "       [ 2.61409047],\n",
       "       [ 1.25850816],\n",
       "       [ 1.29113206],\n",
       "       [ 2.12360872],\n",
       "       [ 2.38800302],\n",
       "       [ 2.84167278],\n",
       "       [ 3.23067366],\n",
       "       [ 2.15943764],\n",
       "       [ 1.44416124],\n",
       "       [ 1.78129481],\n",
       "       [ 3.07649993],\n",
       "       [ 2.14424331],\n",
       "       [ 1.90509815],\n",
       "       [ 1.16932634],\n",
       "       [ 2.10761114],\n",
       "       [ 2.31415471],\n",
       "       [ 1.9222678 ],\n",
       "       [ 1.41523588],\n",
       "       [ 2.56301338],\n",
       "       [ 2.41874618],\n",
       "       [ 1.94410979],\n",
       "       [ 1.52716661],\n",
       "       [ 1.76434572],\n",
       "       [ 1.90094161],\n",
       "       [ 1.39018886]])"
      ]
     },
     "execution_count": 148,
     "metadata": {},
     "output_type": "execute_result"
    }
   ],
   "source": [
    "Z"
   ]
  },
  {
   "cell_type": "code",
   "execution_count": 149,
   "metadata": {},
   "outputs": [
    {
     "data": {
      "text/plain": [
       "array([0.92461872])"
      ]
     },
     "execution_count": 149,
     "metadata": {},
     "output_type": "execute_result"
    }
   ],
   "source": [
    "varianza_explicada"
   ]
  },
  {
   "cell_type": "code",
   "execution_count": null,
   "metadata": {},
   "outputs": [],
   "source": []
  },
  {
   "cell_type": "code",
   "execution_count": null,
   "metadata": {},
   "outputs": [],
   "source": []
  },
  {
   "cell_type": "code",
   "execution_count": null,
   "metadata": {},
   "outputs": [],
   "source": []
  },
  {
   "cell_type": "code",
   "execution_count": null,
   "metadata": {},
   "outputs": [],
   "source": []
  },
  {
   "cell_type": "code",
   "execution_count": null,
   "metadata": {},
   "outputs": [],
   "source": []
  }
 ],
 "metadata": {
  "kernelspec": {
   "display_name": "Python 3",
   "language": "python",
   "name": "python3"
  },
  "language_info": {
   "codemirror_mode": {
    "name": "ipython",
    "version": 3
   },
   "file_extension": ".py",
   "mimetype": "text/x-python",
   "name": "python",
   "nbconvert_exporter": "python",
   "pygments_lexer": "ipython3",
   "version": "3.7.3"
  }
 },
 "nbformat": 4,
 "nbformat_minor": 2
}
