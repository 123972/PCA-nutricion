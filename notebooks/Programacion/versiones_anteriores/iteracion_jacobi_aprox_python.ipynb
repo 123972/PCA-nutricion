{
 "cells": [
  {
   "cell_type": "code",
   "execution_count": 1,
   "metadata": {},
   "outputs": [],
   "source": [
    "import numpy as np\n",
    "import pandas as pd"
   ]
  },
  {
   "cell_type": "code",
   "execution_count": 2,
   "metadata": {},
   "outputs": [],
   "source": [
    "# Función para checar ortogonalidad de 2 vectores u, v\n",
    "def verificar_ortogonalidad(u,v,tol = 10**-8):\n",
    "    if np.linalg.norm(u) <= tol or np.linalg.norm(v) <= tol:\n",
    "        resultado = 1\n",
    "    elif ((np.dot(u,v))/(np.linalg.norm(u)*np.linalg.norm(v))) <= tol:\n",
    "        resultado = 1\n",
    "    else:\n",
    "        resultado = 0\n",
    "    return resultado"
   ]
  },
  {
   "cell_type": "code",
   "execution_count": 3,
   "metadata": {},
   "outputs": [
    {
     "name": "stdout",
     "output_type": "stream",
     "text": [
      "[0, 1, 2, 3, 4, 5, 6, 7, 8, 9]\n",
      "[0, -2, -4, -6, -8, -10, -12, -14, -16, -18]\n"
     ]
    }
   ],
   "source": [
    "# Ejemplo de porque a la función anterior se le debe agregar que el producto punto de los vectotres u y v debe ser en valor absoluto\n",
    "\n",
    "# Los siguientes 2 vectores son paraleros, pues uno es múltiplo del otro\n",
    "\n",
    "vector1 = [i for i in range(10)]\n",
    "vector2 = [-2*i for i in range(10)]\n",
    "\n",
    "print(vector1)\n",
    "print(vector2)\n"
   ]
  },
  {
   "cell_type": "code",
   "execution_count": 4,
   "metadata": {},
   "outputs": [
    {
     "data": {
      "text/plain": [
       "-570"
      ]
     },
     "execution_count": 4,
     "metadata": {},
     "output_type": "execute_result"
    }
   ],
   "source": [
    "# El producto punto de los dos vectores anteriores es -570, valor negativo, pero alejado del cero\n",
    "np.dot(vector1,vector2)"
   ]
  },
  {
   "cell_type": "code",
   "execution_count": 5,
   "metadata": {},
   "outputs": [
    {
     "data": {
      "text/plain": [
       "1"
      ]
     },
     "execution_count": 5,
     "metadata": {},
     "output_type": "execute_result"
    }
   ],
   "source": [
    "# No obstante si le aplicamos la función nos arroja que son ortogonales, \n",
    "verificar_ortogonalidad(vector1,vector2)"
   ]
  },
  {
   "cell_type": "code",
   "execution_count": 6,
   "metadata": {},
   "outputs": [],
   "source": [
    "# Función con ajuste en el producto punto\n",
    "# Función para checar ortogonalidad de 2 vectores u, v\n",
    "def verificar_ortogonalidad(u,v,tol = 10**-8):\n",
    "    if np.linalg.norm(u) <= tol or np.linalg.norm(v) <= tol:\n",
    "        resultado = 1 # en vector nulo es ortogonal a cualquier vector, por ello si su norma es menor a la tolerancia, asignaremos que los vectores son ortogonales\n",
    "    elif (np.abs(np.dot(u,v))/(np.linalg.norm(u)*np.linalg.norm(v))) <= tol:\n",
    "        resultado = 1\n",
    "    else:\n",
    "        resultado = 0\n",
    "    return resultado"
   ]
  },
  {
   "cell_type": "code",
   "execution_count": 7,
   "metadata": {},
   "outputs": [
    {
     "data": {
      "text/plain": [
       "0"
      ]
     },
     "execution_count": 7,
     "metadata": {},
     "output_type": "execute_result"
    }
   ],
   "source": [
    "# El resultado regresa cero, pues no son ortogonales\n",
    "verificar_ortogonalidad(vector1,vector2)"
   ]
  },
  {
   "cell_type": "code",
   "execution_count": 8,
   "metadata": {},
   "outputs": [],
   "source": [
    "def signo(x):\n",
    "    if x<0:\n",
    "        sig = -1\n",
    "    else:\n",
    "        sig = 1\n",
    "    return sig"
   ]
  },
  {
   "cell_type": "code",
   "execution_count": 9,
   "metadata": {},
   "outputs": [],
   "source": [
    "# Matriz de datos a utilizar"
   ]
  },
  {
   "cell_type": "code",
   "execution_count": 10,
   "metadata": {},
   "outputs": [
    {
     "data": {
      "text/plain": [
       "array([[-1.76884571,  0.07555227, -1.1306297 , -0.65143017, -0.89311563,\n",
       "        -1.27410098],\n",
       "       [-0.06115443,  0.06451384,  0.41011295, -0.57288249, -0.80133362,\n",
       "         1.31203519],\n",
       "       [ 1.27469887, -1.2143576 ,  0.31371941, -1.44482142, -0.3689613 ,\n",
       "        -0.76922658],\n",
       "       [ 0.3926161 ,  0.05729383,  2.08997884,  0.04197131, -0.04834072,\n",
       "        -0.51315392],\n",
       "       [-0.08458928, -1.21545008, -1.41293073, -1.48691055,  0.38222486,\n",
       "         0.937673  ],\n",
       "       [ 1.77267804,  0.87882801,  0.33171912, -0.30603567,  1.24026615,\n",
       "        -0.21562684],\n",
       "       [ 0.15592948,  0.09805553,  0.83209585,  2.04520542, -0.31681392,\n",
       "        -1.31283291],\n",
       "       [-1.75445746,  0.10209408, -1.36150208,  0.48178488, -0.20832874,\n",
       "        -0.09186351],\n",
       "       [ 0.70268816,  0.10365506,  0.62123638,  0.95411497,  2.03781352,\n",
       "        -0.48445122]])"
      ]
     },
     "execution_count": 10,
     "metadata": {},
     "output_type": "execute_result"
    }
   ],
   "source": [
    "np.random.seed(2020)\n",
    "A = np.random.randn(9, 6)\n",
    "A"
   ]
  },
  {
   "cell_type": "code",
   "execution_count": 11,
   "metadata": {},
   "outputs": [
    {
     "name": "stdout",
     "output_type": "stream",
     "text": [
      "6\n",
      "9\n",
      "15.0\n"
     ]
    }
   ],
   "source": [
    "#dimensiones de A\n",
    "n = A.shape[1] #numero de columnas\n",
    "m = A.shape[0] #numero de filas\n",
    "nmax =n*(n-1)/2\n",
    "    \n",
    "    #inicializa valores del ciclo\n",
    "ak = A\n",
    "vk = np.identity(n, dtype = float) \n",
    "sig = ''\n",
    "uk = ak\n",
    "num_col_ortogonal = 0\n",
    "k = 0\n",
    "stop = False\n",
    "\n",
    "    \n",
    "print(n)\n",
    "print(m)\n",
    "print(nmax)"
   ]
  },
  {
   "cell_type": "code",
   "execution_count": 12,
   "metadata": {},
   "outputs": [],
   "source": [
    "maxsweep = 1\n",
    "TOL = 10^-8"
   ]
  },
  {
   "cell_type": "markdown",
   "metadata": {},
   "source": [
    "## Primera iteración"
   ]
  },
  {
   "cell_type": "code",
   "execution_count": 13,
   "metadata": {},
   "outputs": [],
   "source": [
    "i = 0\n",
    "j = 1"
   ]
  },
  {
   "cell_type": "code",
   "execution_count": 14,
   "metadata": {},
   "outputs": [
    {
     "name": "stdout",
     "output_type": "stream",
     "text": [
      "[-1.76884571 -0.06115443  1.27469887  0.3926161  -0.08458928  1.77267804\n",
      "  0.15592948 -1.75445746  0.70268816]\n",
      "[ 0.07555227  0.06451384 -1.2143576   0.05729383 -1.21545008  0.87882801\n",
      "  0.09805553  0.10209408  0.10365506]\n"
     ]
    }
   ],
   "source": [
    "# columnas  a utilizar\n",
    "col_i = ak[:,i]\n",
    "col_j = ak[:,j]\n",
    "\n",
    "print(col_i)\n",
    "print(col_j)"
   ]
  },
  {
   "cell_type": "code",
   "execution_count": 15,
   "metadata": {},
   "outputs": [
    {
     "data": {
      "text/plain": [
       "0"
      ]
     },
     "execution_count": 15,
     "metadata": {},
     "output_type": "execute_result"
    }
   ],
   "source": [
    "# checar ortogonalidad\n",
    "ort = verificar_ortogonalidad(col_i,col_j,TOL)\n",
    "ort"
   ]
  },
  {
   "cell_type": "code",
   "execution_count": 16,
   "metadata": {},
   "outputs": [
    {
     "name": "stdout",
     "output_type": "stream",
     "text": [
      "11.657308047401893\n",
      "3.768257188844304\n",
      "-0.09333103452132008\n"
     ]
    }
   ],
   "source": [
    "#calcula coeficientes \n",
    "a = np.dot(col_i,col_i)\n",
    "b = np.dot(col_j,col_j)\n",
    "c = np.dot(col_i,col_j)\n",
    "\n",
    "print(a)\n",
    "print(b)\n",
    "print(c)"
   ]
  },
  {
   "cell_type": "code",
   "execution_count": 17,
   "metadata": {},
   "outputs": [
    {
     "name": "stdout",
     "output_type": "stream",
     "text": [
      "42.26381341972296\n",
      "0.011828796299667356\n",
      "0.9999300471298412\n",
      "0.011827968841415671\n"
     ]
    }
   ],
   "source": [
    "#calcula la rotacion givens que diagonaliza\n",
    "epsilon = (b-a)/(2*c)\n",
    "t = signo(epsilon)/(abs(epsilon)+np.sqrt(1+epsilon**2))\n",
    "cs = 1/np.sqrt(1+t**2)\n",
    "sn = cs*t\n",
    "\n",
    "print(epsilon)\n",
    "print(t)\n",
    "print(cs)\n",
    "print(sn)"
   ]
  },
  {
   "cell_type": "code",
   "execution_count": null,
   "metadata": {},
   "outputs": [],
   "source": []
  },
  {
   "cell_type": "code",
   "execution_count": 18,
   "metadata": {},
   "outputs": [
    {
     "name": "stdout",
     "output_type": "stream",
     "text": [
      "[-1.76884571 -0.06115443  1.27469887  0.3926161  -0.08458928  1.77267804\n",
      "  0.15592948 -1.75445746  0.70268816]\n",
      "[-1.7696156  -0.06191322  1.28897309  0.39191097 -0.07020706  1.76215929\n",
      "  0.15475878 -1.7555423   0.70141298]\n",
      "[ 0.05462513  0.063786   -1.19919556  0.06193368 -1.21636558  0.89973371\n",
      "  0.099893    0.08133527  0.11195918]\n"
     ]
    }
   ],
   "source": [
    "#actualiza las columnas de la matriz ak\n",
    "temp1 = ak[:,i].copy()\n",
    "ak[:,i] = cs*temp1-sn*ak[:,j]                    \n",
    "ak[:,j] = sn*temp1+cs*ak[:,j]\n",
    "\n",
    "print(temp1)\n",
    "print(ak[:,i])\n",
    "print(ak[:,j])"
   ]
  },
  {
   "cell_type": "code",
   "execution_count": 19,
   "metadata": {},
   "outputs": [
    {
     "name": "stdout",
     "output_type": "stream",
     "text": [
      "[1. 0. 0. 0. 0. 0.]\n",
      "[ 0.99993005 -0.01182797  0.          0.          0.          0.        ]\n",
      "[0.01182797 0.99993005 0.         0.         0.         0.        ]\n"
     ]
    }
   ],
   "source": [
    "#actualiza las columnas de la matriz vk\n",
    "temp2 = vk[:,i].copy() \n",
    "vk[:,i] = cs*temp2-sn*vk[:,j]\n",
    "vk[:,j] = sn*temp2+cs*vk[:,j]             \n",
    "\n",
    "print(temp2)\n",
    "print(vk[:,i])\n",
    "print(vk[:,j])"
   ]
  },
  {
   "cell_type": "code",
   "execution_count": 20,
   "metadata": {},
   "outputs": [
    {
     "data": {
      "text/plain": [
       "array([3.41444169, 1.94091556, 3.30928459, 3.23600126, 2.74937669,\n",
       "       2.66311732])"
      ]
     },
     "execution_count": 20,
     "metadata": {},
     "output_type": "execute_result"
    }
   ],
   "source": [
    "#Obtener sigma\n",
    "sig = np.linalg.norm(ak, axis=0)\n",
    "sig"
   ]
  },
  {
   "cell_type": "markdown",
   "metadata": {},
   "source": [
    "## Segunda iteración"
   ]
  },
  {
   "cell_type": "code",
   "execution_count": 21,
   "metadata": {},
   "outputs": [],
   "source": [
    "i = 1\n",
    "j = 2"
   ]
  },
  {
   "cell_type": "code",
   "execution_count": 22,
   "metadata": {},
   "outputs": [
    {
     "name": "stdout",
     "output_type": "stream",
     "text": [
      "[ 0.05462513  0.063786   -1.19919556  0.06193368 -1.21636558  0.89973371\n",
      "  0.099893    0.08133527  0.11195918]\n",
      "[-1.1306297   0.41011295  0.31371941  2.08997884 -1.41293073  0.33171912\n",
      "  0.83209585 -1.36150208  0.62123638]\n"
     ]
    }
   ],
   "source": [
    "# columnas  a utilizar\n",
    "col_i = ak[:,i]\n",
    "col_j = ak[:,j]\n",
    "\n",
    "print(col_i)\n",
    "print(col_j)"
   ]
  },
  {
   "cell_type": "code",
   "execution_count": 23,
   "metadata": {},
   "outputs": [
    {
     "data": {
      "text/plain": [
       "0"
      ]
     },
     "execution_count": 23,
     "metadata": {},
     "output_type": "execute_result"
    }
   ],
   "source": [
    "# checar ortogonalidad\n",
    "ort = verificar_ortogonalidad(col_i,col_j,TOL)\n",
    "ort"
   ]
  },
  {
   "cell_type": "code",
   "execution_count": 24,
   "metadata": {},
   "outputs": [
    {
     "name": "stdout",
     "output_type": "stream",
     "text": [
      "3.767153195048514\n",
      "10.951364468694926\n",
      "1.7766625299023269\n"
     ]
    }
   ],
   "source": [
    "#calcula coeficientes \n",
    "a = np.dot(col_i,col_i)\n",
    "b = np.dot(col_j,col_j)\n",
    "c = np.dot(col_i,col_j)\n",
    "\n",
    "print(a)\n",
    "print(b)\n",
    "print(c)"
   ]
  },
  {
   "cell_type": "code",
   "execution_count": 25,
   "metadata": {},
   "outputs": [
    {
     "name": "stdout",
     "output_type": "stream",
     "text": [
      "2.0218277677194463\n",
      "0.2337846817765657\n",
      "0.9737438660317072\n",
      "0.22764639985210547\n"
     ]
    }
   ],
   "source": [
    "#calcula la rotacion givens que diagonaliza\n",
    "epsilon = (b-a)/(2*c)\n",
    "t = signo(epsilon)/(abs(epsilon)+np.sqrt(1+epsilon**2))\n",
    "cs = 1/np.sqrt(1+t**2)\n",
    "sn = cs*t\n",
    "\n",
    "print(epsilon)\n",
    "print(t)\n",
    "print(cs)\n",
    "print(sn)"
   ]
  },
  {
   "cell_type": "code",
   "execution_count": null,
   "metadata": {},
   "outputs": [],
   "source": []
  },
  {
   "cell_type": "code",
   "execution_count": 26,
   "metadata": {},
   "outputs": [
    {
     "name": "stdout",
     "output_type": "stream",
     "text": [
      "[ 0.05462513  0.063786   -1.19919556  0.06193368 -1.21636558  0.89973371\n",
      "  0.099893    0.08133527  0.11195918]\n",
      "[ 0.31057467 -0.03124951 -1.23912641 -0.41546862 -0.86277992  0.80059552\n",
      " -0.09215343  0.38914077 -0.03240266]\n",
      "[-1.08850852  0.41386562  0.0324898   2.04920305 -1.65273388  0.5278306\n",
      "  0.83298851 -1.30723862  0.63041222]\n"
     ]
    }
   ],
   "source": [
    "#actualiza las columnas de la matriz ak\n",
    "temp1 = ak[:,i].copy()\n",
    "ak[:,i] = cs*temp1-sn*ak[:,j]                    \n",
    "ak[:,j] = sn*temp1+cs*ak[:,j]\n",
    "\n",
    "print(temp1)\n",
    "print(ak[:,i])\n",
    "print(ak[:,j])"
   ]
  },
  {
   "cell_type": "code",
   "execution_count": 27,
   "metadata": {},
   "outputs": [
    {
     "name": "stdout",
     "output_type": "stream",
     "text": [
      "[0.01182797 0.99993005 0.         0.         0.         0.        ]\n",
      "[ 0.01151741  0.97367575 -0.2276464   0.          0.          0.        ]\n",
      "[0.00269259 0.22763048 0.97374387 0.         0.         0.        ]\n"
     ]
    }
   ],
   "source": [
    "#actualiza las columnas de la matriz vk\n",
    "temp2 = vk[:,i].copy()\n",
    "vk[:,i] = cs*temp2-sn*vk[:,j]\n",
    "vk[:,j] = sn*temp2+cs*vk[:,j]             \n",
    "\n",
    "print(temp2)\n",
    "print(vk[:,i])\n",
    "print(vk[:,j])"
   ]
  },
  {
   "cell_type": "code",
   "execution_count": 28,
   "metadata": {},
   "outputs": [
    {
     "data": {
      "text/plain": [
       "array([3.41444169, 1.83079128, 3.3714568 , 3.23600126, 2.74937669,\n",
       "       2.66311732])"
      ]
     },
     "execution_count": 28,
     "metadata": {},
     "output_type": "execute_result"
    }
   ],
   "source": [
    "#Obtener sigma\n",
    "sig = np.linalg.norm(ak, axis=0)\n",
    "sig"
   ]
  },
  {
   "cell_type": "markdown",
   "metadata": {},
   "source": [
    "## Tercera iteración"
   ]
  },
  {
   "cell_type": "code",
   "execution_count": 29,
   "metadata": {},
   "outputs": [],
   "source": [
    "i = 2\n",
    "j = 3"
   ]
  },
  {
   "cell_type": "code",
   "execution_count": 30,
   "metadata": {},
   "outputs": [
    {
     "name": "stdout",
     "output_type": "stream",
     "text": [
      "[-1.08850852  0.41386562  0.0324898   2.04920305 -1.65273388  0.5278306\n",
      "  0.83298851 -1.30723862  0.63041222]\n",
      "[-0.65143017 -0.57288249 -1.44482142  0.04197131 -1.48691055 -0.30603567\n",
      "  2.04520542  0.48178488  0.95411497]\n"
     ]
    }
   ],
   "source": [
    "# columnas  a utilizar\n",
    "col_i = ak[:,i]\n",
    "col_j = ak[:,j]\n",
    "\n",
    "print(col_i)\n",
    "print(col_j)"
   ]
  },
  {
   "cell_type": "code",
   "execution_count": 31,
   "metadata": {},
   "outputs": [
    {
     "data": {
      "text/plain": [
       "0"
      ]
     },
     "execution_count": 31,
     "metadata": {},
     "output_type": "execute_result"
    }
   ],
   "source": [
    "# checar ortogonalidad\n",
    "ort = verificar_ortogonalidad(col_i,col_j,TOL)\n",
    "ort"
   ]
  },
  {
   "cell_type": "code",
   "execution_count": 32,
   "metadata": {},
   "outputs": [
    {
     "name": "stdout",
     "output_type": "stream",
     "text": [
      "11.366720952872488\n",
      "10.471704181649763\n",
      "4.482299702560203\n"
     ]
    }
   ],
   "source": [
    "#calcula coeficientes \n",
    "a = np.dot(col_i,col_i)\n",
    "b = np.dot(col_j,col_j)\n",
    "c = np.dot(col_i,col_j)\n",
    "\n",
    "print(a)\n",
    "print(b)\n",
    "print(c)"
   ]
  },
  {
   "cell_type": "code",
   "execution_count": 33,
   "metadata": {},
   "outputs": [
    {
     "name": "stdout",
     "output_type": "stream",
     "text": [
      "-0.09983901463700748\n",
      "-0.9051325415991323\n",
      "0.7413990540902834\n",
      "-0.6710644101679307\n"
     ]
    }
   ],
   "source": [
    "#calcula la rotacion givens que diagonaliza\n",
    "epsilon = (b-a)/(2*c)\n",
    "t = signo(epsilon)/(abs(epsilon)+np.sqrt(1+epsilon**2))\n",
    "cs = 1/np.sqrt(1+t**2)\n",
    "sn = cs*t\n",
    "\n",
    "print(epsilon)\n",
    "print(t)\n",
    "print(cs)\n",
    "print(sn)"
   ]
  },
  {
   "cell_type": "code",
   "execution_count": null,
   "metadata": {},
   "outputs": [],
   "source": []
  },
  {
   "cell_type": "code",
   "execution_count": 34,
   "metadata": {},
   "outputs": [
    {
     "name": "stdout",
     "output_type": "stream",
     "text": [
      "[-1.08850852  0.41386562  0.0324898   2.04920305 -1.65273388  0.5278306\n",
      "  0.83298851 -1.30723862  0.63041222]\n",
      "[-1.24417079 -0.07760147 -0.94548033  1.54744266 -2.22314809  0.18596347\n",
      "  1.99004146 -0.64587679  1.10765962]\n",
      "[ 0.24748962 -0.70246503 -1.09299198 -1.34402975  0.00669681 -0.58110288\n",
      "  0.95732442  1.23443616  0.28433273]\n"
     ]
    }
   ],
   "source": [
    "#actualiza las columnas de la matriz ak\n",
    "temp1 = ak[:,i].copy()\n",
    "ak[:,i] = cs*temp1-sn*ak[:,j]                    \n",
    "ak[:,j] = sn*temp1+cs*ak[:,j]\n",
    "\n",
    "print(temp1)\n",
    "print(ak[:,i])\n",
    "print(ak[:,j])"
   ]
  },
  {
   "cell_type": "code",
   "execution_count": 35,
   "metadata": {},
   "outputs": [
    {
     "name": "stdout",
     "output_type": "stream",
     "text": [
      "[0.00269259 0.22763048 0.97374387 0.         0.         0.        ]\n",
      "[0.00199629 0.16876502 0.72193278 0.67106441 0.         0.        ]\n",
      "[-0.0018069  -0.15275471 -0.65344485  0.74139905  0.          0.        ]\n"
     ]
    }
   ],
   "source": [
    "#actualiza las columnas de la matriz vk\n",
    "temp2 = vk[:,i].copy() \n",
    "vk[:,i] = cs*temp2-sn*vk[:,j]\n",
    "vk[:,j] = sn*temp2+cs*vk[:,j]             \n",
    "\n",
    "print(temp2)\n",
    "print(vk[:,i])\n",
    "print(vk[:,j])"
   ]
  },
  {
   "cell_type": "code",
   "execution_count": 36,
   "metadata": {},
   "outputs": [
    {
     "data": {
      "text/plain": [
       "array([3.41444169, 1.83079128, 3.92731413, 2.53271176, 2.74937669,\n",
       "       2.66311732])"
      ]
     },
     "execution_count": 36,
     "metadata": {},
     "output_type": "execute_result"
    }
   ],
   "source": [
    "#Obtener sigma\n",
    "sig = np.linalg.norm(ak, axis=0)\n",
    "sig"
   ]
  },
  {
   "cell_type": "code",
   "execution_count": null,
   "metadata": {},
   "outputs": [],
   "source": []
  },
  {
   "cell_type": "code",
   "execution_count": null,
   "metadata": {},
   "outputs": [],
   "source": []
  },
  {
   "cell_type": "code",
   "execution_count": 37,
   "metadata": {},
   "outputs": [],
   "source": [
    "# Prueba de temp, se actualiza al mismo tiempo que vk"
   ]
  },
  {
   "cell_type": "code",
   "execution_count": 100,
   "metadata": {},
   "outputs": [],
   "source": [
    "temp = vk[:,i] "
   ]
  },
  {
   "cell_type": "code",
   "execution_count": null,
   "metadata": {},
   "outputs": [],
   "source": []
  },
  {
   "cell_type": "code",
   "execution_count": 38,
   "metadata": {},
   "outputs": [
    {
     "name": "stdout",
     "output_type": "stream",
     "text": [
      "[ 0.00188058  0.15897207  0.66148021 -0.69658666  0.          0.        ]\n",
      "[[ 0.99993005  0.01151676  0.00188058  0.00130999  0.          0.        ]\n",
      " [-0.01182797  0.97355234  0.15897207  0.11073782  0.          0.        ]]\n"
     ]
    }
   ],
   "source": [
    "print(temp)\n",
    "print(vk[:i])"
   ]
  },
  {
   "cell_type": "code",
   "execution_count": 47,
   "metadata": {},
   "outputs": [],
   "source": [
    "vk[:,i] = 10* vk[:,i]"
   ]
  },
  {
   "cell_type": "code",
   "execution_count": 48,
   "metadata": {},
   "outputs": [
    {
     "name": "stdout",
     "output_type": "stream",
     "text": [
      "[   1.8805798   158.97207008  661.48020658 -696.58666329    0.\n",
      "    0.        ]\n",
      "[   1.8805798   158.97207008  661.48020658 -696.58666329    0.\n",
      "    0.        ]\n"
     ]
    }
   ],
   "source": [
    "print(temp)\n",
    "print(vk[:,i])"
   ]
  },
  {
   "cell_type": "code",
   "execution_count": null,
   "metadata": {},
   "outputs": [],
   "source": [
    "# Prueba de temp, se actualiza al mismo tiempo que vk"
   ]
  },
  {
   "cell_type": "code",
   "execution_count": 53,
   "metadata": {},
   "outputs": [
    {
     "data": {
      "text/plain": [
       "array([   1.8805798 ,  158.97207008,  661.48020658, -696.58666329,\n",
       "          0.        ,    0.        ])"
      ]
     },
     "execution_count": 53,
     "metadata": {},
     "output_type": "execute_result"
    }
   ],
   "source": [
    "temp = vk[:,i].copy()\n",
    "temp"
   ]
  },
  {
   "cell_type": "code",
   "execution_count": 55,
   "metadata": {},
   "outputs": [
    {
     "name": "stdout",
     "output_type": "stream",
     "text": [
      "[   1.8805798   158.97207008  661.48020658 -696.58666329    0.\n",
      "    0.        ]\n",
      "[   1.8805798   158.97207008  661.48020658 -696.58666329    0.\n",
      "    0.        ]\n"
     ]
    }
   ],
   "source": [
    "print(temp)\n",
    "print(vk[:,i])"
   ]
  },
  {
   "cell_type": "code",
   "execution_count": 61,
   "metadata": {},
   "outputs": [],
   "source": [
    "vk[:,i] = 10* vk[:,i]"
   ]
  },
  {
   "cell_type": "code",
   "execution_count": 62,
   "metadata": {},
   "outputs": [
    {
     "name": "stdout",
     "output_type": "stream",
     "text": [
      "[   1.8805798   158.97207008  661.48020658 -696.58666329    0.\n",
      "    0.        ]\n",
      "[   1880.57980466  158972.07007911  661480.20658413 -696586.66328578\n",
      "       0.               0.        ]\n"
     ]
    }
   ],
   "source": [
    "print(temp)\n",
    "print(vk[:,i])"
   ]
  },
  {
   "cell_type": "code",
   "execution_count": null,
   "metadata": {},
   "outputs": [],
   "source": []
  },
  {
   "cell_type": "code",
   "execution_count": null,
   "metadata": {},
   "outputs": [],
   "source": []
  }
 ],
 "metadata": {
  "kernelspec": {
   "display_name": "Python 3",
   "language": "python",
   "name": "python3"
  },
  "language_info": {
   "codemirror_mode": {
    "name": "ipython",
    "version": 3
   },
   "file_extension": ".py",
   "mimetype": "text/x-python",
   "name": "python",
   "nbconvert_exporter": "python",
   "pygments_lexer": "ipython3",
   "version": "3.7.3"
  }
 },
 "nbformat": 4,
 "nbformat_minor": 2
}
