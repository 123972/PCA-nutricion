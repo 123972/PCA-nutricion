{
 "cells": [
  {
   "cell_type": "code",
   "execution_count": 57,
   "metadata": {},
   "outputs": [],
   "source": [
    "# Leer todas las funciones del algoritmo QR del examen pasado\n",
    "# La función creada para este proyecto se llama eigenvalores_QR, se encuentra en la siguiente sección"
   ]
  },
  {
   "cell_type": "code",
   "execution_count": 58,
   "metadata": {},
   "outputs": [],
   "source": [
    "import numpy as np\n",
    "import copy\n",
    "import codecs\n",
    "import sys\n",
    "from scipy.linalg import solve_triangular\n",
    "\n",
    "def busca_ayuda(cadena):\n",
    "    \"\"\"\n",
    "    Función que devuelve el texto de ayuda correspondiente a la función\n",
    "    que se pase como parámetro, obtenida de un unico archivo .txt\n",
    "    donde están documentadas las \"ayudas\" de todas las funciones asociadas\n",
    "    a la factorización QR (contenidas en este .py)\n",
    "    \n",
    "    params: cadena  nombre de la función de la que se desea obtener ayuda\n",
    "                    \n",
    "    return: help    ayuda de la función buscada en forma de texto\n",
    "    \n",
    "    \"\"\"\n",
    "    l=len(cadena)\n",
    "    help=codecs.open('Help_funciones_factorizacion_QR.txt', \"r\", \"utf-8\").read()\n",
    "    p_inicio=help.find(\"****i****\" + cadena)\n",
    "    p_final=help.find(\"****f****\" + cadena)\n",
    "    help=help[(p_inicio+9+l):p_final]\n",
    "    return help\n",
    "\n",
    "\n",
    "\n",
    "\n",
    "\n",
    "\n",
    "def crear_matriz_aleatoria(renglones,columnas,maximo_valor,minimo_valor,entero=False):\n",
    "    \"\"\"\n",
    "    Función de apoyo para genear matrices aleatorias\n",
    "    params: renglones       no. de renglones de la matriz\n",
    "            columnas        no. de columnas de la matriz\n",
    "            maximo_valor    valor máximo de las entradas de la matriz\n",
    "            minimo_valor    valor mínimo de las entradas de la matriz\n",
    "            entero          Indica si las entradas serán enteras (True) o no\n",
    "            \n",
    "    return: M               Matriz con numeros al azar\n",
    "    \"\"\"\n",
    "    \n",
    "    #Se checa que los parámetros sean congruentes con la funcionalidad\n",
    "    if isinstance(renglones, int)==False or isinstance(columnas, int)==False:\n",
    "        sys.exit('Los parámetros de renglones y columnas deben ser enteros positivos')\n",
    "    elif renglones<=0 or columnas<=0:\n",
    "        sys.exit('Los parámetros de renglones y columnas deben ser enteros positivos')            \n",
    "    if isinstance(maximo_valor, (int, float))==False or isinstance(minimo_valor, (int, float))==False:\n",
    "        sys.exit('Los parámetros maximo_valor y minimo_valor deben ser numericos')\n",
    "\n",
    "    #Se inicializa una matriz llena de ceros con las dimensiones deseadas (mxn)\n",
    "    M=np.zeros((renglones, columnas))\n",
    "    for i in range(renglones):\n",
    "        for j in range(columnas):\n",
    "            #Si entero es verdadero se obtiene el maximo entero menor o igual a 1 (//1)\n",
    "            if entero:\n",
    "                M[i][j]=(np.random.rand(1)*(maximo_valor+1-minimo_valor)+minimo_valor)//1\n",
    "            else:\n",
    "                M[i][j]=np.random.rand(1)*(maximo_valor-minimo_valor)+minimo_valor\n",
    "    return M\n",
    "\n",
    "#crear_matriz_aleatoria.__doc__ =busca_ayuda(\"crear_matriz_aleatoria\")\n",
    "\n",
    "\n",
    "\n",
    "\n",
    "\n",
    "\n",
    "def house(x):\n",
    "    \"\"\"\n",
    "    Función que calcula vector de householder\n",
    "    \n",
    "    params: x       vector al que se le hará la reflexión householder\n",
    "                    \n",
    "    return: Beta    factor para obtener matriz de reflexión householder Rf\n",
    "            v       vector de householder\n",
    "    \"\"\"\n",
    "    \n",
    "    #Se checa que los parámetros sean congruentes con la funcionalidad\n",
    "    if type(x) is not np.ndarray:\n",
    "        sys.exit('x debe ser de tipo numpy.ndarray')\n",
    "    \n",
    "    #longitud del vector x=(x_0,x_1,x_2,...,x_(m-1))\n",
    "    m=len(x)\n",
    "    norm_2_m=x[1:m].dot(np.transpose(x[1:m]))\n",
    "    #Se hace v=x=(1,x_1,x_2,...,x_(m-1))\n",
    "    v=np.concatenate((1,x[1:m]), axis=None)\n",
    "    Beta=0\n",
    "    #con las siguientes condiciones se checa si x es múltiplo del vector canónico e_1 \n",
    "    #y el signo de x[0]\n",
    "    if (norm_2_m==0 and x[0]>=0):\n",
    "        Beta=0\n",
    "    elif (norm_2_m==0 and x[0]<0):\n",
    "        Beta=2\n",
    "    else:\n",
    "        norm_x=np.sqrt(pow(x[0],2)+norm_2_m)\n",
    "        if (x[0]<=0):\n",
    "            v[0]=x[0]-norm_x\n",
    "        else:\n",
    "            v[0]=-norm_2_m/(x[0]+norm_x)\n",
    "        Beta=2*pow(v[0],2)/(norm_2_m+pow(v[0],2))\n",
    "        v=v/v[0]\n",
    "    return Beta, v\n",
    "\n",
    "#house.__doc__ =busca_ayuda(\"house\")\n",
    "\n",
    "\n",
    "\n",
    "\n",
    "\n",
    "\n",
    "def matriz_auxiliar_Arv(A,ind_singular=False):\n",
    "    \"\"\"\n",
    "    Función que genera una matriz que contiene los elementos r distintos de cero de la \n",
    "    matriz R y las entradas de los vectores householder v (excepto la primera), con los \n",
    "    cuales se puede calcular la matriz Q. Ambas matrices componentes de la factorización QR\n",
    "    \n",
    "    params: A      Matriz (mxn) de la que se desea obtner factorización QR\n",
    "            \n",
    "    return: Arv    Matriz (mxn) que incluye las componentes distintas de cero de la matriz R \n",
    "                   y los vectores householder con los que se puede obtener la matriz Q, y \n",
    "                   con ello la factorización QR\n",
    "    \"\"\"\n",
    "    \n",
    "    #Se checa que los parámetros sean congruentes con la funcionalidad\n",
    "    if type(A) is not np.ndarray:\n",
    "        sys.exit('A debe ser de tipo numpy.ndarray')\n",
    "    m,n=A.shape\n",
    "    if m<n:\n",
    "        sys.exit('EL numero de renglones de A debe ser mayor o igual al no. de columnas')\n",
    "    \n",
    "    #m contiene el numero de renglones y n el de columnas\n",
    "    m,n=A.shape\n",
    "    #se crea una matriz con los valores de A\n",
    "    Arv=copy.copy(A)\n",
    "    \n",
    "    #si no se pide que se cheque que la matriz es singular, se obtendrá la matriz R\n",
    "    #aún si esta es singula (que exista algún elemento de la diagonal que sea 0\n",
    "    if ind_singular==False:\n",
    "        for j in range(n):\n",
    "            beta, v=house(Arv[j:m,j])\n",
    "            #Con esta multiplicación se van generando las componentes r de la matriz R\n",
    "            Arv[j:m,j:n]=Arv[j:m,j:n]-beta*np.outer(v,(np.transpose(v)@Arv[j:m,j:n]))\n",
    "            #se guarda en cada columnas los valores de v d, excepto la primer componente (que vale 1)\n",
    "            Arv[(j+1):m,j]=v[1:(m-j)]\n",
    "    else:\n",
    "        for j in range(n):\n",
    "            beta, v=house(Arv[j:m,j])\n",
    "            Arv[j:m,j:n]=Arv[j:m,j:n]-beta*np.outer(v,(np.transpose(v)@Arv[j:m,j:n]))\n",
    "            #Si se detecta que alguna entrada de la diagonal (elemento de la maatriz R)\n",
    "            #es cero, se devuelve un valor nulo (None), y para el cálculo de Arv\n",
    "            #No se condiciona sobre si alcanza el valor de cero, sino más bien\n",
    "            #si está lo suficientemente cercano, pues dados los errores por redondeo\n",
    "            #no siempre se alcanza el cero aunque teóricamente sí lo sea, pero el\n",
    "            #algoritmos arroja un valor cercano a cero\n",
    "            if Arv[j,j]<10**(-14) and Arv[j,j]>-10**(-14):\n",
    "                return None\n",
    "            Arv[(j+1):m,j]=v[1:(m-j)]\n",
    "    return Arv\n",
    "\n",
    "#matriz_auxiliar_Arv.__doc__ =busca_ayuda(\"matriz_auxiliar_Arv\")\n",
    "\n",
    "\n",
    "\n",
    "\n",
    "\n",
    "\n",
    "def matriz_Q_R(A,ind_singular=False):\n",
    "    \"\"\"\n",
    "    Función que devuelve la matriz R y Q de la factorización QR de una matriz A\n",
    "    \n",
    "    params: A    Matriz (mxn)\n",
    "    return: Q    Matriz Q (mxm) de la factorización A=QR\n",
    "            R    Matriz Q (mxm) de la factorización A=QR\n",
    "    \"\"\"\n",
    "    \n",
    "    #Se checa que los parámetros sean congruentes con la funcionalidad\n",
    "    if type(A) is not np.ndarray:\n",
    "        sys.exit('A debe ser de tipo numpy.ndarray')\n",
    "    elif A.shape[0]<A.shape[1]:\n",
    "        sys.exit('El numero de renglones de A tiene que ser igual o mayor al no. de columnas')\n",
    "    \n",
    "    #si ind_singular es True, entonces no se devuelve la matriz R ni Q\n",
    "    #esto se plantea así como un sistema de contról, para evitar comprobar que las matrices\n",
    "    #sean singulares (y no tengan una única solución) mediante el determinante, que\n",
    "    #involucra un alto costo computacional para matrices de tamaño representativo\n",
    "    Arv=matriz_auxiliar_Arv(A,ind_singular)\n",
    "\n",
    "    if Arv is None:\n",
    "        return None, None\n",
    "    else:\n",
    "        m,n=A.shape\n",
    "        Q=np.eye(m)\n",
    "        R=copy.copy(A)\n",
    "        for j in range(n):\n",
    "            Qj=Q_j(Arv,j+1)\n",
    "            Q=Q@Qj\n",
    "            R=Q_j(Arv,j+1)@R\n",
    "        return Q,R\n",
    "\n",
    "#matriz_Q_R.__doc__ =busca_ayuda(\"matriz_Q_R\")\n",
    "\n",
    "\n",
    "\n",
    "\n",
    "\n",
    "\n",
    "def Q_j(Arv,j):\n",
    "    \"\"\"\n",
    "    Función que calcula la matriz Qj (en el proceso de obtención de factorización QR se van \n",
    "    obteniendo n Qj's, que si se multiplican todas da por resultado Q=Q_1*Q_2*...*Q_n)\n",
    "                            \n",
    "    params: Arv   Matriz (mxn) con la info escencial\n",
    "            j     indica el índice de la matriz Q_j\n",
    "    return: Qj    Matriz Q de la j-esima iteración del proceso iterativo de factorización QR\n",
    "    \"\"\"\n",
    "    \n",
    "    #Se checa que los parámetros sean congruentes con la funcionalidad\n",
    "    if type(Arv) is not np.ndarray:\n",
    "        sys.exit('Arv debe ser de tipo numpy.ndarray')\n",
    "    elif Arv.shape[0]<Arv.shape[1]:\n",
    "        sys.exit('El numero de renglones de Arv tiene que ser igual o mayor al no. de columnas')\n",
    "    if isinstance(j, int)==False:\n",
    "        sys.exit('El parámetro j deber ser un entero')\n",
    "    elif 1>j or j>Arv.shape[1]:\n",
    "        sys.exit('El parámetro j debe estar en el rango [1,no. columnas de Arv]')\n",
    "    \n",
    "    m,n=Arv.shape\n",
    "    Qj=np.eye(m)\n",
    "    #Para construir Q_j requerimos usar el vector v contenido en Arv contenido\n",
    "    #en la j-1 columna (considerando que en Python la primer columna es la cero)\n",
    "    v=np.concatenate((1,Arv[j:m,(j-1)]), axis=None)\n",
    "    beta=2/(1+Arv[j:m,(j-1)].dot(Arv[j:m,(j-1)]))\n",
    "    Qj[(j-1):m,(j-1):m]=np.eye(m-(j-1))-beta*np.outer(v,v)\n",
    "    return Qj\n",
    "\n",
    "#Q_j.__doc__ =busca_ayuda(\"Q_j\")\n",
    "\n",
    "\n",
    "\n",
    "\n",
    "\n",
    "\n",
    "def Solucion_SEL_QR_nxn(A,b):\n",
    "    \"\"\"\n",
    "    Función que obtiene la solución de un sistema de ecuaciones lineales (SEL) con n ecuaciones y n incognitas\n",
    "            \n",
    "    params: A   Matriz (nxn) que representa los coeficientas de las ecuaciones\n",
    "            b   vector (nx1) constantes del sistema\n",
    "    return: x   vector que satisface (Ax=b)\n",
    "    \"\"\"\n",
    "\n",
    "    #Se checa que los parámetros sean congruentes con la funcionalidad\n",
    "    if type(A) is not np.ndarray or type(b) is not np.ndarray: #esto implica que A y b tienen más de 1 elemento\n",
    "        sys.exit('A y b deben ser de tipo numpy.ndarray')\n",
    "    m,n = A.shape\n",
    "    if m<n:\n",
    "        sys.exit('EL numero de renglones de A debe ser mayor o igual al no. de columnas')\n",
    "    elif b.shape[0]!= m:\n",
    "        sys.exit('b debe representar un vector columna (mx1), m=no. renglones de A')\n",
    "    else:\n",
    "        try:\n",
    "            flag=b.shape[1]\n",
    "        except Exception:\n",
    "            flag=1\n",
    "        if flag!=1:\n",
    "            sys.exit(\"b debe representar un vector de m renglones y 1 columna\")\n",
    "\n",
    "    #Si la matriz A es singular, Q y R serán igual a None\n",
    "    Q,R=matriz_Q_R(A,1)\n",
    "    if Q is None:\n",
    "        sys.exit('La matriz A asociada al sistema de ecuaciones es singular')\n",
    "    b_prima=np.transpose(Q)@b\n",
    "    x=solve_triangular(R, b_prima,lower=False)\n",
    "    return x\n",
    "\n",
    "#Solucion_SEL_QR_nxn.__doc__ =busca_ayuda(\"Solucion_SEL_QR_nxn\")\n",
    "\n",
    "\n",
    "\n",
    "\n",
    "\n",
    "def crear_bloques(A, b, m1=False, n1=False):\n",
    "    \"\"\"\n",
    "    Esta es la función para la creación de bloques usando un arreglo de numpy\n",
    "    \n",
    "    params: A   Matriz (mxn) que representa los coeficientas de las ecuaciones\n",
    "            b   vector (mx1) constantes del sistema\n",
    "            n1  Numero de renglones que tendrá el 1er bloque\n",
    "            m1  Numero de columnas que tendrá el 1er bloque\n",
    "    \n",
    "    return: A11 Fraccion de la matriz dividida\n",
    "            A12 Fraccion de la matriz dividida\n",
    "            A12 Fraccion de la matriz dividida\n",
    "            A12 Fraccion de la matriz dividida\n",
    "            b1  Fraccion del vector dividido\n",
    "            b2  Fraccion del vector dividido\n",
    "    \"\"\"\n",
    "\n",
    "    #Se checa que los parámetros sean congruentes con la funcionalidad\n",
    "    if type(A) is not np.ndarray or type(b) is not np.ndarray: #esto implica que A y b tienen más de 1 elemento\n",
    "        sys.exit('A y b deben ser de tipo numpy.ndarray')\n",
    "    m,n = A.shape\n",
    "    if m<n:\n",
    "        sys.exit('EL numero de renglones de A debe ser mayor o igual al no. de columnas')\n",
    "    elif b.shape[0]!= m:\n",
    "        sys.exit('b debe representar un vector columna (mx1), m=no. renglones de A')\n",
    "    else:\n",
    "        try:\n",
    "            flag=b.shape[1]\n",
    "        except Exception:\n",
    "            flag=1\n",
    "        if flag!=1:\n",
    "            sys.exit(\"b debe representar un vector de m renglones y 1 columna\")    \n",
    "    \n",
    "    if m1==False:\n",
    "        m1=m//2\n",
    "    if n1==False:\n",
    "        n1=n//2\n",
    "    \n",
    "    b1 = b[:m1]\n",
    "    b2 = b[m1:m]\n",
    "    A11 = A[:m1,:n1]\n",
    "    A21 = A[m1:m,:n1]\n",
    "    A12 = A[:m1,n1:n]\n",
    "    A22 = A[m1:m,n1:n]\n",
    "\n",
    "    return A11,A21,A12,A22,b1,b2\n",
    "\n",
    "#crear_bloques.__doc__ =busca_ayuda(\"crear_bloques\")\n",
    "\n",
    "\n",
    "\n",
    "\n",
    "\n",
    "\n",
    "def eliminacion_bloques(A,b, m1=False, n1=False):\n",
    "    \"\"\"\n",
    "    Función que obtiene la solución de un sistema de ecuaciones lineala (SEL) con n ecuaciones y n incognitas\n",
    "            \n",
    "    params: A   Matriz (mxn) que representa los coeficientas de las ecuaciones\n",
    "            b   vector (mx1) constantes del sistema\n",
    "    \n",
    "    return: x1 Solucion al 1er sistema de ecuaciones obtenido con la división por bloques\n",
    "            x2 Solucion al 2do sistema de ecuaciones obtenido con la división por bloques\n",
    "    \"\"\"\n",
    "    \n",
    "    #Se checa que los parámetros sean congruentes con la funcionalidad\n",
    "    if type(A) is not np.ndarray or type(b) is not np.ndarray: #esto implica que A y b tienen más de 1 elemento\n",
    "        sys.exit('A y b deben ser de tipo numpy.ndarray')\n",
    "    m,n = A.shape\n",
    "    if m<n:\n",
    "        sys.exit('EL numero de renglones de A debe ser mayor o igual al no. de columnas')\n",
    "        \n",
    "    elif b.shape[0]!= m:\n",
    "        sys.exit('b debe representar un vector columna (mx1), m=no. renglones de A')\n",
    "    else:\n",
    "        try:\n",
    "            flag=b.shape[1]\n",
    "        except Exception:\n",
    "            flag=1\n",
    "        if flag!=1:\n",
    "            sys.exit(\"b debe representar un vector de m renglones y 1 columna\")\n",
    "    \n",
    "    if m1==False:\n",
    "        m1=m//2\n",
    "    if n1==False:\n",
    "        n1=n//2\n",
    "\n",
    "    if m != n:\n",
    "        sys.exit('A debe ser cuadrada')\n",
    "\n",
    "#     if np.linalg.det(A)==0:\n",
    "#         sys.exit('A debe ser no singular')\n",
    "\n",
    "    A11,A21,A12,A22,b1,b2=crear_bloques(A,b,m1,n1)\n",
    "\n",
    "    # 1. Calcular Y=A11^{-1}A12 y y=A11^{-1}b1 teniendo cuidado en no calcular la inversa sino un sistema de ecuaciones lineales\n",
    "    #if np.linalg.det(A11)==0:\n",
    "    #    sys.exit('A11 debe ser no singular')\n",
    "    y=Solucion_SEL_QR_nxn(A11,b1)\n",
    "    \n",
    "    Y=np.zeros((n1,n-n1))\n",
    "    for j in range(n-n1):\n",
    "        Y[:,j]=Solucion_SEL_QR_nxn(A11,A12[:,j])\n",
    "    \n",
    "    # 2. Calcular el complemento de Schur del bloque A11 en A. Calcular b_hat\n",
    "    S=A22-A21@Y\n",
    "    b_h=b2-A21@y\n",
    "\n",
    "    # 3. Resolver Sx2 = b_hat\n",
    "    x2=Solucion_SEL_QR_nxn(S,b_h)\n",
    "\n",
    "    # 4. Resolver A11x1 = b1-A12x2\n",
    "    x1=Solucion_SEL_QR_nxn(A11,b1-A12@x2)\n",
    "\n",
    "    return np.concatenate((x1,x2), axis=0)\n",
    "\n",
    "#eliminacion_bloques.__doc__ =busca_ayuda(\"eliminacion_bloques\")"
   ]
  },
  {
   "cell_type": "code",
   "execution_count": null,
   "metadata": {},
   "outputs": [],
   "source": []
  },
  {
   "cell_type": "markdown",
   "metadata": {},
   "source": [
    "## Funcion creada para este proyecto final"
   ]
  },
  {
   "cell_type": "markdown",
   "metadata": {},
   "source": [
    "Función que ocupa algoritm QA para calcular los eigenvectores de una matriz"
   ]
  },
  {
   "cell_type": "code",
   "execution_count": 59,
   "metadata": {},
   "outputs": [],
   "source": [
    "def eigenvalores_QR(A,niter,tolerancia = 10**-8):\n",
    "\n",
    "    \n",
    "    # Completamos la matriz A con columnas de ceros para que sea cuadrada\n",
    "    n, p = A.shape\n",
    "    columnas = n - p\n",
    "    ceros = np.zeros((n,columnas))\n",
    "    \n",
    "    # Matriz inicial\n",
    "    A0 = np.append(A, ceros, axis = 1)\n",
    "    # Factorización inicial\n",
    "    Qk,Rk =matriz_Q_R(A0)\n",
    "    \n",
    "    valor = 10\n",
    "    \n",
    "    #iniciamos ciclo\n",
    "    for i in range(niter):\n",
    "        \n",
    "        #Definimos la nueva Ak+1\n",
    "        Ak = Rk@Qk\n",
    "        #calculamos la factorización QR sobre la nueva Ak\n",
    "        Qk,Rk =matriz_Q_R(Ak)\n",
    "        \n",
    "        # La diagonal de Qk se utilza para la tolerancia\n",
    "        diagonal_tolerancia = np.diagonal(Qk)\n",
    "        \n",
    "        \n",
    "        \n",
    "        # Detener si se logra la tolerancia deseada\n",
    "        # Notar que en esta primera prueba no se está actualizando  el valor que checa la tolerancia\n",
    "        if (valor<tolerancia):\n",
    "            break\n",
    "    \n",
    "    #se acaba el for\n",
    "    \n",
    "    #La diagonal de Ak nos regresa los eigenvalores\n",
    "    eigenvalores = np.diagonal(Ak)\n",
    "        \n",
    "    return eigenvalores, Qk"
   ]
  },
  {
   "cell_type": "markdown",
   "metadata": {},
   "source": [
    "### Pruebas"
   ]
  },
  {
   "cell_type": "code",
   "execution_count": 60,
   "metadata": {},
   "outputs": [
    {
     "data": {
      "text/plain": [
       "array([[5.1, 3.5, 1.4, 0.2],\n",
       "       [4.9, 3. , 1.4, 0.2],\n",
       "       [4.7, 3.2, 1.3, 0.2],\n",
       "       [4.6, 3.1, 1.5, 0.2],\n",
       "       [5. , 3.6, 1.4, 0.2],\n",
       "       [5.4, 3.9, 1.7, 0.4],\n",
       "       [4.6, 3.4, 1.4, 0.3],\n",
       "       [5. , 3.4, 1.5, 0.2],\n",
       "       [4.4, 2.9, 1.4, 0.2],\n",
       "       [4.9, 3.1, 1.5, 0.1],\n",
       "       [5.4, 3.7, 1.5, 0.2],\n",
       "       [4.8, 3.4, 1.6, 0.2],\n",
       "       [4.8, 3. , 1.4, 0.1],\n",
       "       [4.3, 3. , 1.1, 0.1],\n",
       "       [5.8, 4. , 1.2, 0.2],\n",
       "       [5.7, 4.4, 1.5, 0.4],\n",
       "       [5.4, 3.9, 1.3, 0.4],\n",
       "       [5.1, 3.5, 1.4, 0.3],\n",
       "       [5.7, 3.8, 1.7, 0.3],\n",
       "       [5.1, 3.8, 1.5, 0.3],\n",
       "       [5.4, 3.4, 1.7, 0.2],\n",
       "       [5.1, 3.7, 1.5, 0.4],\n",
       "       [4.6, 3.6, 1. , 0.2],\n",
       "       [5.1, 3.3, 1.7, 0.5],\n",
       "       [4.8, 3.4, 1.9, 0.2],\n",
       "       [5. , 3. , 1.6, 0.2],\n",
       "       [5. , 3.4, 1.6, 0.4],\n",
       "       [5.2, 3.5, 1.5, 0.2],\n",
       "       [5.2, 3.4, 1.4, 0.2],\n",
       "       [4.7, 3.2, 1.6, 0.2],\n",
       "       [4.8, 3.1, 1.6, 0.2],\n",
       "       [5.4, 3.4, 1.5, 0.4],\n",
       "       [5.2, 4.1, 1.5, 0.1],\n",
       "       [5.5, 4.2, 1.4, 0.2],\n",
       "       [4.9, 3.1, 1.5, 0.2],\n",
       "       [5. , 3.2, 1.2, 0.2],\n",
       "       [5.5, 3.5, 1.3, 0.2],\n",
       "       [4.9, 3.6, 1.4, 0.1],\n",
       "       [4.4, 3. , 1.3, 0.2],\n",
       "       [5.1, 3.4, 1.5, 0.2],\n",
       "       [5. , 3.5, 1.3, 0.3],\n",
       "       [4.5, 2.3, 1.3, 0.3],\n",
       "       [4.4, 3.2, 1.3, 0.2],\n",
       "       [5. , 3.5, 1.6, 0.6],\n",
       "       [5.1, 3.8, 1.9, 0.4],\n",
       "       [4.8, 3. , 1.4, 0.3],\n",
       "       [5.1, 3.8, 1.6, 0.2],\n",
       "       [4.6, 3.2, 1.4, 0.2],\n",
       "       [5.3, 3.7, 1.5, 0.2],\n",
       "       [5. , 3.3, 1.4, 0.2],\n",
       "       [7. , 3.2, 4.7, 1.4],\n",
       "       [6.4, 3.2, 4.5, 1.5],\n",
       "       [6.9, 3.1, 4.9, 1.5],\n",
       "       [5.5, 2.3, 4. , 1.3],\n",
       "       [6.5, 2.8, 4.6, 1.5],\n",
       "       [5.7, 2.8, 4.5, 1.3],\n",
       "       [6.3, 3.3, 4.7, 1.6],\n",
       "       [4.9, 2.4, 3.3, 1. ],\n",
       "       [6.6, 2.9, 4.6, 1.3],\n",
       "       [5.2, 2.7, 3.9, 1.4],\n",
       "       [5. , 2. , 3.5, 1. ],\n",
       "       [5.9, 3. , 4.2, 1.5],\n",
       "       [6. , 2.2, 4. , 1. ],\n",
       "       [6.1, 2.9, 4.7, 1.4],\n",
       "       [5.6, 2.9, 3.6, 1.3],\n",
       "       [6.7, 3.1, 4.4, 1.4],\n",
       "       [5.6, 3. , 4.5, 1.5],\n",
       "       [5.8, 2.7, 4.1, 1. ],\n",
       "       [6.2, 2.2, 4.5, 1.5],\n",
       "       [5.6, 2.5, 3.9, 1.1],\n",
       "       [5.9, 3.2, 4.8, 1.8],\n",
       "       [6.1, 2.8, 4. , 1.3],\n",
       "       [6.3, 2.5, 4.9, 1.5],\n",
       "       [6.1, 2.8, 4.7, 1.2],\n",
       "       [6.4, 2.9, 4.3, 1.3],\n",
       "       [6.6, 3. , 4.4, 1.4],\n",
       "       [6.8, 2.8, 4.8, 1.4],\n",
       "       [6.7, 3. , 5. , 1.7],\n",
       "       [6. , 2.9, 4.5, 1.5],\n",
       "       [5.7, 2.6, 3.5, 1. ],\n",
       "       [5.5, 2.4, 3.8, 1.1],\n",
       "       [5.5, 2.4, 3.7, 1. ],\n",
       "       [5.8, 2.7, 3.9, 1.2],\n",
       "       [6. , 2.7, 5.1, 1.6],\n",
       "       [5.4, 3. , 4.5, 1.5],\n",
       "       [6. , 3.4, 4.5, 1.6],\n",
       "       [6.7, 3.1, 4.7, 1.5],\n",
       "       [6.3, 2.3, 4.4, 1.3],\n",
       "       [5.6, 3. , 4.1, 1.3],\n",
       "       [5.5, 2.5, 4. , 1.3],\n",
       "       [5.5, 2.6, 4.4, 1.2],\n",
       "       [6.1, 3. , 4.6, 1.4],\n",
       "       [5.8, 2.6, 4. , 1.2],\n",
       "       [5. , 2.3, 3.3, 1. ],\n",
       "       [5.6, 2.7, 4.2, 1.3],\n",
       "       [5.7, 3. , 4.2, 1.2],\n",
       "       [5.7, 2.9, 4.2, 1.3],\n",
       "       [6.2, 2.9, 4.3, 1.3],\n",
       "       [5.1, 2.5, 3. , 1.1],\n",
       "       [5.7, 2.8, 4.1, 1.3],\n",
       "       [6.3, 3.3, 6. , 2.5],\n",
       "       [5.8, 2.7, 5.1, 1.9],\n",
       "       [7.1, 3. , 5.9, 2.1],\n",
       "       [6.3, 2.9, 5.6, 1.8],\n",
       "       [6.5, 3. , 5.8, 2.2],\n",
       "       [7.6, 3. , 6.6, 2.1],\n",
       "       [4.9, 2.5, 4.5, 1.7],\n",
       "       [7.3, 2.9, 6.3, 1.8],\n",
       "       [6.7, 2.5, 5.8, 1.8],\n",
       "       [7.2, 3.6, 6.1, 2.5],\n",
       "       [6.5, 3.2, 5.1, 2. ],\n",
       "       [6.4, 2.7, 5.3, 1.9],\n",
       "       [6.8, 3. , 5.5, 2.1],\n",
       "       [5.7, 2.5, 5. , 2. ],\n",
       "       [5.8, 2.8, 5.1, 2.4],\n",
       "       [6.4, 3.2, 5.3, 2.3],\n",
       "       [6.5, 3. , 5.5, 1.8],\n",
       "       [7.7, 3.8, 6.7, 2.2],\n",
       "       [7.7, 2.6, 6.9, 2.3],\n",
       "       [6. , 2.2, 5. , 1.5],\n",
       "       [6.9, 3.2, 5.7, 2.3],\n",
       "       [5.6, 2.8, 4.9, 2. ],\n",
       "       [7.7, 2.8, 6.7, 2. ],\n",
       "       [6.3, 2.7, 4.9, 1.8],\n",
       "       [6.7, 3.3, 5.7, 2.1],\n",
       "       [7.2, 3.2, 6. , 1.8],\n",
       "       [6.2, 2.8, 4.8, 1.8],\n",
       "       [6.1, 3. , 4.9, 1.8],\n",
       "       [6.4, 2.8, 5.6, 2.1],\n",
       "       [7.2, 3. , 5.8, 1.6],\n",
       "       [7.4, 2.8, 6.1, 1.9],\n",
       "       [7.9, 3.8, 6.4, 2. ],\n",
       "       [6.4, 2.8, 5.6, 2.2],\n",
       "       [6.3, 2.8, 5.1, 1.5],\n",
       "       [6.1, 2.6, 5.6, 1.4],\n",
       "       [7.7, 3. , 6.1, 2.3],\n",
       "       [6.3, 3.4, 5.6, 2.4],\n",
       "       [6.4, 3.1, 5.5, 1.8],\n",
       "       [6. , 3. , 4.8, 1.8],\n",
       "       [6.9, 3.1, 5.4, 2.1],\n",
       "       [6.7, 3.1, 5.6, 2.4],\n",
       "       [6.9, 3.1, 5.1, 2.3],\n",
       "       [5.8, 2.7, 5.1, 1.9],\n",
       "       [6.8, 3.2, 5.9, 2.3],\n",
       "       [6.7, 3.3, 5.7, 2.5],\n",
       "       [6.7, 3. , 5.2, 2.3],\n",
       "       [6.3, 2.5, 5. , 1.9],\n",
       "       [6.5, 3. , 5.2, 2. ],\n",
       "       [6.2, 3.4, 5.4, 2.3],\n",
       "       [5.9, 3. , 5.1, 1.8]])"
      ]
     },
     "execution_count": 60,
     "metadata": {},
     "output_type": "execute_result"
    }
   ],
   "source": [
    "# Leer el conjunto de datos Iris\n",
    "from sklearn import datasets\n",
    "iris = datasets.load_iris()\n",
    "# dado que esta guardado como un objeto tipo lista, conservar sólo los datos\n",
    "A = iris['data']\n",
    "A"
   ]
  },
  {
   "cell_type": "code",
   "execution_count": 61,
   "metadata": {},
   "outputs": [
    {
     "data": {
      "text/plain": [
       "(4, 4)"
      ]
     },
     "execution_count": 61,
     "metadata": {},
     "output_type": "execute_result"
    }
   ],
   "source": [
    "# Crear la matriz de covarianzas\n",
    "C = A.T@A\n",
    "C.shape"
   ]
  },
  {
   "cell_type": "code",
   "execution_count": 62,
   "metadata": {},
   "outputs": [
    {
     "data": {
      "text/plain": [
       "array([[5223.85, 2673.43, 3483.76, 1128.14],\n",
       "       [2673.43, 1430.4 , 1674.3 ,  531.89],\n",
       "       [3483.76, 1674.3 , 2582.71,  869.11],\n",
       "       [1128.14,  531.89,  869.11,  302.33]])"
      ]
     },
     "execution_count": 62,
     "metadata": {},
     "output_type": "execute_result"
    }
   ],
   "source": [
    "C"
   ]
  },
  {
   "cell_type": "markdown",
   "metadata": {},
   "source": [
    "Calculo de eigenvales y eigenvectores de numpy"
   ]
  },
  {
   "cell_type": "code",
   "execution_count": 63,
   "metadata": {},
   "outputs": [],
   "source": [
    "eigenvalores, eigenvectotes= np.linalg.eig(C)"
   ]
  },
  {
   "cell_type": "code",
   "execution_count": 64,
   "metadata": {},
   "outputs": [
    {
     "name": "stdout",
     "output_type": "stream",
     "text": [
      "[9.20830507e+03 3.15454317e+02 1.19780429e+01 3.55257020e+00]\n",
      "----------------------------------------------\n",
      "[[ 0.75110816  0.2841749   0.50215472  0.32081425]\n",
      " [ 0.38008617  0.5467445  -0.67524332 -0.31725607]\n",
      " [ 0.51300886 -0.70866455 -0.05916621 -0.48074507]\n",
      " [ 0.16790754 -0.34367081 -0.53701625  0.75187165]]\n"
     ]
    }
   ],
   "source": [
    "print(eigenvalores)\n",
    "print(\"----------------------------------------------\")\n",
    "print(eigenvectotes)"
   ]
  },
  {
   "cell_type": "markdown",
   "metadata": {},
   "source": [
    "Probar nuestra función"
   ]
  },
  {
   "cell_type": "code",
   "execution_count": 65,
   "metadata": {},
   "outputs": [],
   "source": [
    "# De momento la función regresa los eigenvalores y la última matriz Q, esta matriz podría no pedirse, ahorita está de más\n",
    "# sólo era para revisar que valores tiene\n",
    "E1, Q1 = eigenvalores_QR(C,3)"
   ]
  },
  {
   "cell_type": "code",
   "execution_count": 66,
   "metadata": {},
   "outputs": [
    {
     "name": "stdout",
     "output_type": "stream",
     "text": [
      "[9.20830507e+03 3.15454314e+02 1.19751231e+01 3.55549484e+00]\n",
      "----------------------------------------------\n",
      "[[ 1.00000000e+00  1.46897657e-05 -1.54010536e-09  1.62871103e-11]\n",
      " [-1.46897654e-05  9.99999993e-01  1.21478568e-04 -1.00951639e-06]\n",
      " [ 3.32471934e-09 -1.21481366e-04  9.99914117e-01 -1.31051054e-02]\n",
      " [ 1.24551977e-11 -5.82559753e-07  1.31051054e-02  9.99914124e-01]]\n"
     ]
    }
   ],
   "source": [
    "print(E1)\n",
    "print(\"----------------------------------------------\")\n",
    "print(Q1)"
   ]
  },
  {
   "cell_type": "markdown",
   "metadata": {},
   "source": [
    "Notar que son los mismos valores (en distinto orden que la solución de numpy)"
   ]
  },
  {
   "cell_type": "markdown",
   "metadata": {},
   "source": [
    "Importante. Los eigenvalores corresponden a la matriz de datos, a diferencia de la SVD, donde la matriz diagonal de la descomposición contiene los eigenvalores de la matriz de covarianzas / correlaciones  (validar la matriz utilizada)"
   ]
  },
  {
   "cell_type": "markdown",
   "metadata": {},
   "source": [
    "Tomando en cuenta lo anterior, se puede usar la función eigenvalores_QR para calcular los eigenvalores de la matriz A por A transpuesta que corresponde a la matriz de covarianzas"
   ]
  },
  {
   "cell_type": "markdown",
   "metadata": {},
   "source": [
    "Obtener la SVD usando numpy "
   ]
  },
  {
   "cell_type": "code",
   "execution_count": 67,
   "metadata": {},
   "outputs": [],
   "source": [
    "u, s, vh = np.linalg.svd(C, full_matrices=False)\n"
   ]
  },
  {
   "cell_type": "code",
   "execution_count": 68,
   "metadata": {},
   "outputs": [
    {
     "name": "stdout",
     "output_type": "stream",
     "text": [
      "[[-0.75110816 -0.2841749   0.50215472  0.32081425]\n",
      " [-0.38008617 -0.5467445  -0.67524332 -0.31725607]\n",
      " [-0.51300886  0.70866455 -0.05916621 -0.48074507]\n",
      " [-0.16790754  0.34367081 -0.53701625  0.75187165]]\n",
      "------------------------------------------------\n",
      "[9.20830507e+03 3.15454317e+02 1.19780429e+01 3.55257020e+00]\n",
      "------------------------------------------------\n",
      "[[-0.75110816 -0.38008617 -0.51300886 -0.16790754]\n",
      " [-0.2841749  -0.5467445   0.70866455  0.34367081]\n",
      " [ 0.50215472 -0.67524332 -0.05916621 -0.53701625]\n",
      " [ 0.32081425 -0.31725607 -0.48074507  0.75187165]]\n"
     ]
    }
   ],
   "source": [
    "print(u)\n",
    "print(\"------------------------------------------------\")\n",
    "print(s)\n",
    "print(\"------------------------------------------------\")\n",
    "print(vh)"
   ]
  },
  {
   "cell_type": "markdown",
   "metadata": {},
   "source": [
    "Usar la función eigenvalores_QR para calcular los eigenvalores de la matriz de covarianzas"
   ]
  },
  {
   "cell_type": "code",
   "execution_count": 69,
   "metadata": {},
   "outputs": [],
   "source": [
    "E2, Q2 = eigenvalores_QR(C,5)"
   ]
  },
  {
   "cell_type": "code",
   "execution_count": 70,
   "metadata": {},
   "outputs": [
    {
     "name": "stdout",
     "output_type": "stream",
     "text": [
      "[9.20830507e+03 3.15454317e+02 1.19780203e+01 3.55259284e+00]\n",
      "----------------------------------------------\n",
      "[[ 1.00000000e+00  1.72396490e-08 -2.60573949e-15  2.42424529e-18]\n",
      " [-1.72396490e-08  1.00000000e+00  1.75134648e-07 -1.28036074e-10]\n",
      " [ 5.62500096e-15 -1.75134679e-07  9.99999335e-01 -1.15301648e-03]\n",
      " [ 1.85417778e-18 -7.38971470e-11  1.15301648e-03  9.99999335e-01]]\n",
      "----------------------------------------------\n"
     ]
    }
   ],
   "source": [
    "print(E2)\n",
    "print(\"----------------------------------------------\")\n",
    "print(Q2)\n",
    "print(\"----------------------------------------------\")"
   ]
  },
  {
   "cell_type": "markdown",
   "metadata": {},
   "source": [
    "Notar que sí sacamos raíz de los eigenvalores de la matriz de covarianzas, obtenemos los mismos valores que los arrojados por la SVD de numpy"
   ]
  },
  {
   "cell_type": "markdown",
   "metadata": {},
   "source": [
    "### Pasos pendientes"
   ]
  },
  {
   "cell_type": "markdown",
   "metadata": {},
   "source": [
    "1. Agregar un nivel de tolerancia para detener la función eigenvalores_QR si converge antes del número máximo de iteraciones, quiza también agregar una condición o algo para evitar el overfow\n",
    "2. Probar con datos más grandes para checar que no truene"
   ]
  },
  {
   "cell_type": "code",
   "execution_count": null,
   "metadata": {},
   "outputs": [],
   "source": []
  },
  {
   "cell_type": "markdown",
   "metadata": {},
   "source": [
    "### Solución by Eli R. "
   ]
  },
  {
   "cell_type": "markdown",
   "metadata": {},
   "source": [
    "La primera matriz Q de descomponer la matriz de covarianzas contieene los eigen vectores"
   ]
  },
  {
   "cell_type": "code",
   "execution_count": 73,
   "metadata": {},
   "outputs": [],
   "source": [
    "# Ejecuta función\n",
    "Q,R =matriz_Q_R(C)"
   ]
  },
  {
   "cell_type": "code",
   "execution_count": 74,
   "metadata": {},
   "outputs": [
    {
     "name": "stdout",
     "output_type": "stream",
     "text": [
      "[[5223.85 2673.43 3483.76 1128.14]\n",
      " [2673.43 1430.4  1674.3   531.89]\n",
      " [3483.76 1674.3  2582.71  869.11]\n",
      " [1128.14  531.89  869.11  302.33]]\n"
     ]
    }
   ],
   "source": [
    "# matrix = Q*R\n",
    "print(Q@R)"
   ]
  },
  {
   "cell_type": "code",
   "execution_count": 75,
   "metadata": {},
   "outputs": [
    {
     "data": {
      "text/plain": [
       "array([[ 0.7552172 ,  0.22530555, -0.57917877,  0.20841388],\n",
       "       [ 0.38650044,  0.60284208,  0.6761784 , -0.17315197],\n",
       "       [ 0.50365065, -0.70083958,  0.22057651, -0.45442921],\n",
       "       [ 0.16309632, -0.30764057,  0.3983475 ,  0.848573  ]])"
      ]
     },
     "execution_count": 75,
     "metadata": {},
     "output_type": "execute_result"
    }
   ],
   "source": [
    "# Esta Q es la que nos interesa !\n",
    "# La primera Q\n",
    "Q"
   ]
  },
  {
   "cell_type": "code",
   "execution_count": null,
   "metadata": {},
   "outputs": [],
   "source": []
  },
  {
   "cell_type": "code",
   "execution_count": null,
   "metadata": {},
   "outputs": [],
   "source": []
  }
 ],
 "metadata": {
  "kernelspec": {
   "display_name": "Python 3",
   "language": "python",
   "name": "python3"
  },
  "language_info": {
   "codemirror_mode": {
    "name": "ipython",
    "version": 3
   },
   "file_extension": ".py",
   "mimetype": "text/x-python",
   "name": "python",
   "nbconvert_exporter": "python",
   "pygments_lexer": "ipython3",
   "version": "3.7.3"
  }
 },
 "nbformat": 4,
 "nbformat_minor": 2
}
