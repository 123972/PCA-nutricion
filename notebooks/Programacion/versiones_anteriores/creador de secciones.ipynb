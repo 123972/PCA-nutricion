{
 "cells": [
  {
   "cell_type": "code",
   "execution_count": 2,
   "metadata": {},
   "outputs": [],
   "source": [
    "# Importamos el módulo con nuestras funciones\n",
    "import sys\n",
    "sys.path.append('./../../')\n",
    "\n",
    "# OPTIONAL: Load the \"autoreload\" extension so that code can change\n",
    "%load_ext autoreload\n",
    "\n",
    "#Own Library modules\n",
    "import src\n",
    "# OPTIONAL: always reload modules so that as you change code in src, it gets loaded\n",
    "%autoreload 2\n"
   ]
  },
  {
   "cell_type": "code",
   "execution_count": 7,
   "metadata": {},
   "outputs": [],
   "source": [
    "import pandas as pd\n",
    "import numpy as np"
   ]
  },
  {
   "cell_type": "code",
   "execution_count": 8,
   "metadata": {},
   "outputs": [],
   "source": [
    "df = pd.read_csv('../../data/datos_limpios.csv', encoding = \"L1\")"
   ]
  },
  {
   "cell_type": "code",
   "execution_count": 9,
   "metadata": {},
   "outputs": [
    {
     "data": {
      "text/html": [
       "<div>\n",
       "<style scoped>\n",
       "    .dataframe tbody tr th:only-of-type {\n",
       "        vertical-align: middle;\n",
       "    }\n",
       "\n",
       "    .dataframe tbody tr th {\n",
       "        vertical-align: top;\n",
       "    }\n",
       "\n",
       "    .dataframe thead th {\n",
       "        text-align: right;\n",
       "    }\n",
       "</style>\n",
       "<table border=\"1\" class=\"dataframe\">\n",
       "  <thead>\n",
       "    <tr style=\"text-align: right;\">\n",
       "      <th></th>\n",
       "      <th>nofolio</th>\n",
       "      <th>genero</th>\n",
       "      <th>ent</th>\n",
       "      <th>nom_ent</th>\n",
       "      <th>cct</th>\n",
       "      <th>modalidad</th>\n",
       "      <th>sost</th>\n",
       "      <th>subsist</th>\n",
       "      <th>hlec</th>\n",
       "      <th>nvl_esp</th>\n",
       "      <th>...</th>\n",
       "      <th>p138_E</th>\n",
       "      <th>p138_F</th>\n",
       "      <th>p138_G</th>\n",
       "      <th>p139_A</th>\n",
       "      <th>p139_B</th>\n",
       "      <th>p139_C</th>\n",
       "      <th>p139_D</th>\n",
       "      <th>p139_E</th>\n",
       "      <th>p139_F</th>\n",
       "      <th>p139_G</th>\n",
       "    </tr>\n",
       "  </thead>\n",
       "  <tbody>\n",
       "    <tr>\n",
       "      <th>0</th>\n",
       "      <td>010000023B16</td>\n",
       "      <td>M</td>\n",
       "      <td>1</td>\n",
       "      <td>aguascalientes</td>\n",
       "      <td>01DBH0004I</td>\n",
       "      <td>bachillerato_general</td>\n",
       "      <td>federal</td>\n",
       "      <td>colbach/otros_federales</td>\n",
       "      <td>-0.76369</td>\n",
       "      <td>I</td>\n",
       "      <td>...</td>\n",
       "      <td>0</td>\n",
       "      <td>0</td>\n",
       "      <td>0</td>\n",
       "      <td>0</td>\n",
       "      <td>0</td>\n",
       "      <td>1</td>\n",
       "      <td>0</td>\n",
       "      <td>0</td>\n",
       "      <td>0</td>\n",
       "      <td>0</td>\n",
       "    </tr>\n",
       "    <tr>\n",
       "      <th>1</th>\n",
       "      <td>010000037B16</td>\n",
       "      <td>H</td>\n",
       "      <td>1</td>\n",
       "      <td>aguascalientes</td>\n",
       "      <td>01DBH0004I</td>\n",
       "      <td>bachillerato_general</td>\n",
       "      <td>federal</td>\n",
       "      <td>colbach/otros_federales</td>\n",
       "      <td>0.97389</td>\n",
       "      <td>III</td>\n",
       "      <td>...</td>\n",
       "      <td>0</td>\n",
       "      <td>0</td>\n",
       "      <td>1</td>\n",
       "      <td>0</td>\n",
       "      <td>0</td>\n",
       "      <td>0</td>\n",
       "      <td>1</td>\n",
       "      <td>0</td>\n",
       "      <td>0</td>\n",
       "      <td>0</td>\n",
       "    </tr>\n",
       "    <tr>\n",
       "      <th>2</th>\n",
       "      <td>010000008B16</td>\n",
       "      <td>M</td>\n",
       "      <td>1</td>\n",
       "      <td>aguascalientes</td>\n",
       "      <td>01DBH0004I</td>\n",
       "      <td>bachillerato_general</td>\n",
       "      <td>federal</td>\n",
       "      <td>colbach/otros_federales</td>\n",
       "      <td>0.26655</td>\n",
       "      <td>II</td>\n",
       "      <td>...</td>\n",
       "      <td>0</td>\n",
       "      <td>0</td>\n",
       "      <td>0</td>\n",
       "      <td>0</td>\n",
       "      <td>0</td>\n",
       "      <td>0</td>\n",
       "      <td>1</td>\n",
       "      <td>0</td>\n",
       "      <td>0</td>\n",
       "      <td>0</td>\n",
       "    </tr>\n",
       "    <tr>\n",
       "      <th>3</th>\n",
       "      <td>010000035B16</td>\n",
       "      <td>H</td>\n",
       "      <td>1</td>\n",
       "      <td>aguascalientes</td>\n",
       "      <td>01DBH0004I</td>\n",
       "      <td>bachillerato_general</td>\n",
       "      <td>federal</td>\n",
       "      <td>colbach/otros_federales</td>\n",
       "      <td>0.36393</td>\n",
       "      <td>II</td>\n",
       "      <td>...</td>\n",
       "      <td>1</td>\n",
       "      <td>0</td>\n",
       "      <td>0</td>\n",
       "      <td>0</td>\n",
       "      <td>0</td>\n",
       "      <td>0</td>\n",
       "      <td>1</td>\n",
       "      <td>0</td>\n",
       "      <td>0</td>\n",
       "      <td>0</td>\n",
       "    </tr>\n",
       "    <tr>\n",
       "      <th>4</th>\n",
       "      <td>010000032B16</td>\n",
       "      <td>H</td>\n",
       "      <td>1</td>\n",
       "      <td>aguascalientes</td>\n",
       "      <td>01DBH0004I</td>\n",
       "      <td>bachillerato_general</td>\n",
       "      <td>federal</td>\n",
       "      <td>colbach/otros_federales</td>\n",
       "      <td>0.97389</td>\n",
       "      <td>III</td>\n",
       "      <td>...</td>\n",
       "      <td>0</td>\n",
       "      <td>0</td>\n",
       "      <td>0</td>\n",
       "      <td>0</td>\n",
       "      <td>0</td>\n",
       "      <td>1</td>\n",
       "      <td>0</td>\n",
       "      <td>0</td>\n",
       "      <td>0</td>\n",
       "      <td>0</td>\n",
       "    </tr>\n",
       "  </tbody>\n",
       "</table>\n",
       "<p>5 rows × 272 columns</p>\n",
       "</div>"
      ],
      "text/plain": [
       "        nofolio genero  ent         nom_ent         cct             modalidad  \\\n",
       "0  010000023B16      M    1  aguascalientes  01DBH0004I  bachillerato_general   \n",
       "1  010000037B16      H    1  aguascalientes  01DBH0004I  bachillerato_general   \n",
       "2  010000008B16      M    1  aguascalientes  01DBH0004I  bachillerato_general   \n",
       "3  010000035B16      H    1  aguascalientes  01DBH0004I  bachillerato_general   \n",
       "4  010000032B16      H    1  aguascalientes  01DBH0004I  bachillerato_general   \n",
       "\n",
       "      sost                  subsist     hlec nvl_esp  ...  p138_E p138_F  \\\n",
       "0  federal  colbach/otros_federales -0.76369       I  ...       0      0   \n",
       "1  federal  colbach/otros_federales  0.97389     III  ...       0      0   \n",
       "2  federal  colbach/otros_federales  0.26655      II  ...       0      0   \n",
       "3  federal  colbach/otros_federales  0.36393      II  ...       1      0   \n",
       "4  federal  colbach/otros_federales  0.97389     III  ...       0      0   \n",
       "\n",
       "   p138_G  p139_A  p139_B  p139_C  p139_D  p139_E  p139_F  p139_G  \n",
       "0       0       0       0       1       0       0       0       0  \n",
       "1       1       0       0       0       1       0       0       0  \n",
       "2       0       0       0       0       1       0       0       0  \n",
       "3       0       0       0       0       1       0       0       0  \n",
       "4       0       0       0       1       0       0       0       0  \n",
       "\n",
       "[5 rows x 272 columns]"
      ]
     },
     "execution_count": 9,
     "metadata": {},
     "output_type": "execute_result"
    }
   ],
   "source": [
    "df.head()"
   ]
  },
  {
   "cell_type": "code",
   "execution_count": 10,
   "metadata": {},
   "outputs": [],
   "source": [
    "np.random.seed(150) ###Se define la semilla para la reproducibilidad de los resultados\n",
    "\n",
    "seccion_3 = df.loc[:, ['p10', 'p11', 'p12', 'p13', 'p14']] ###Se seleccionan las preguntas que conforman esta sección"
   ]
  },
  {
   "cell_type": "code",
   "execution_count": 11,
   "metadata": {},
   "outputs": [],
   "source": [
    "np.random.seed(150) ###Se define la semilla para la reproducibilidad de los resultados\n",
    "seccion_4_1 = df.loc[:, ['p15', 'p16', 'p17', 'p18', 'p19', 'p20', 'p21', 'p22']] ###Se seleccionan las preguntas que conforman esta sección"
   ]
  },
  {
   "cell_type": "code",
   "execution_count": 12,
   "metadata": {},
   "outputs": [],
   "source": [
    "np.random.seed(150) ###Se define la semilla para la reproducibilidad de los resultados\n",
    "\n",
    "seccion_4_2 = df.loc[:, ['p23', 'p24', 'p25', 'p26', 'p27', 'p28', 'p29', 'p30', 'p31', 'p32', 'p33']] ###Se seleccionan las preguntas que conforman esta sección"
   ]
  },
  {
   "cell_type": "code",
   "execution_count": 13,
   "metadata": {},
   "outputs": [],
   "source": [
    "np.random.seed(150) ###Se define la semilla para la reproducibilidad de los resultados\n",
    "\n",
    "seccion_4_3 = df.loc[:, ['p34', 'p35', 'p36', 'p37', 'p38', 'p39', 'p40']\n",
    "                  ] ###Se seleccionan las preguntas que conforman esta sección"
   ]
  },
  {
   "cell_type": "code",
   "execution_count": 14,
   "metadata": {},
   "outputs": [],
   "source": [
    "np.random.seed(150) ###Se define la semilla para la reproducibilidad de los resultados\n",
    "\n",
    "seccion_4_4 = df.loc[:, ['p41', 'p42', 'p43', 'p44', 'p45', 'p46', 'p47', 'p48', 'p49', 'p50',\n",
    "                      'p51', 'p52', 'p53', 'p54', 'p55', 'p56']] ###Se seleccionan las preguntas que conforman esta sección"
   ]
  },
  {
   "cell_type": "code",
   "execution_count": 15,
   "metadata": {},
   "outputs": [],
   "source": [
    "np.random.seed(150) ###Se define la semilla para la reproducibilidad de los resultados\n",
    "\n",
    "seccion_5_1 = df.loc[:, ['p57', 'p58', 'p59', 'p60']] ###Se seleccionan las preguntas que conforman esta sección"
   ]
  },
  {
   "cell_type": "code",
   "execution_count": 16,
   "metadata": {},
   "outputs": [],
   "source": [
    "np.random.seed(150) ###Se define la semilla para la reproducibilidad de los resultados\n",
    "\n",
    "seccion_5_2 = df.loc[:, ['p61', 'p62', 'p63', 'p64']] ###Se seleccionan las preguntas que conforman esta sección"
   ]
  },
  {
   "cell_type": "code",
   "execution_count": 17,
   "metadata": {},
   "outputs": [],
   "source": [
    "np.random.seed(150) ###Se define la semilla para la reproducibilidad de los resultados\n",
    "\n",
    "seccion_7_1 = df.loc[:, ['p67', 'p68', 'p69', 'p70', 'p71']] ###Se seleccionan las preguntas que conforman esta sección"
   ]
  },
  {
   "cell_type": "code",
   "execution_count": 18,
   "metadata": {},
   "outputs": [],
   "source": [
    "np.random.seed(150) ###Se define la semilla para la reproducibilidad de los resultados\n",
    "\n",
    "seccion_7_2 = df.loc[:, ['p72', 'p73', 'p74', 'p75', 'p76', 'p77', 'p78']] ###Se seleccionan las preguntas que conforman esta sección"
   ]
  },
  {
   "cell_type": "code",
   "execution_count": 19,
   "metadata": {},
   "outputs": [],
   "source": [
    "np.random.seed(150) ###Se define la semilla para la reproducibilidad de los resultados\n",
    "\n",
    "seccion_8_1 = df.loc[:, ['p79', 'p80', 'p81', 'p82', 'p83', 'p84']] ###Se seleccionan las preguntas que conforman esta sección"
   ]
  },
  {
   "cell_type": "code",
   "execution_count": 20,
   "metadata": {},
   "outputs": [],
   "source": [
    "np.random.seed(150) ###Se define la semilla para la reproducibilidad de los resultados\n",
    "\n",
    "seccion_8_2 = df.loc[:, ['p85', 'p86', 'p87', 'p88', 'p89']] ###Se seleccionan las preguntas que conforman esta sección"
   ]
  },
  {
   "cell_type": "code",
   "execution_count": 21,
   "metadata": {},
   "outputs": [],
   "source": [
    "np.random.seed(150) ###Se define la semilla para la reproducibilidad de los resultados\n",
    "\n",
    "seccion_8_3 = df.loc[:, ['p90', 'p91', 'p92', 'p93', 'p94', 'p95', 'p96', 'p97', 'p98', 'p99', 'p100', 'p101', 'p102', 'p103', \n",
    "                        'p106', 'p107', 'p108', 'p109', 'p110', 'p111']] ###Se seleccionan las preguntas que conforman esta sección"
   ]
  },
  {
   "cell_type": "code",
   "execution_count": 22,
   "metadata": {},
   "outputs": [],
   "source": [
    "np.random.seed(150) ###Se define la semilla para la reproducibilidad de los resultados\n",
    "\n",
    "seccion_9_1 = df.loc[:, ['p112', 'p113', 'p114', 'p115', 'p116', 'p117']] ###Se seleccionan las preguntas que conforman esta sección"
   ]
  },
  {
   "cell_type": "code",
   "execution_count": 23,
   "metadata": {},
   "outputs": [],
   "source": [
    "np.random.seed(150) ###Se define la semilla para la reproducibilidad de los resultados\n",
    "\n",
    "seccion_9_2 = df.loc[:, ['p119', 'p120', 'p121', 'p122', 'p123', 'p124', 'p125']] ###Se seleccionan las preguntas que conforman esta sección"
   ]
  },
  {
   "cell_type": "code",
   "execution_count": 24,
   "metadata": {},
   "outputs": [],
   "source": [
    "np.random.seed(150) ###Se define la semilla para la reproducibilidad de los resultados\n",
    "\n",
    "seccion_9_3 = df.loc[:, ['p127', 'p128', 'p129', 'p130', 'p131']] ###Se seleccionan las preguntas que conforman esta sección"
   ]
  },
  {
   "cell_type": "code",
   "execution_count": 25,
   "metadata": {},
   "outputs": [],
   "source": [
    "np.random.seed(150) ###Se define la semilla para la reproducibilidad de los resultados\n",
    "\n",
    "seccion_10_1 = df.loc[:, ['p132', 'p133', 'p134', 'p135', 'p136', 'p137', 'p138', 'p139', 'p140', 'p141', 'p142', 'p143', 'p144']\n",
    "                     ] ###Se seleccionan las preguntas que conforman esta sección"
   ]
  },
  {
   "cell_type": "code",
   "execution_count": 26,
   "metadata": {},
   "outputs": [],
   "source": [
    "np.random.seed(150) ###Se define la semilla para la reproducibilidad de los resultados\n",
    "\n",
    "seccion_10_2 = df.loc[:, ['p145', 'p146', 'p147', 'p148', 'p149', 'p150', 'p151', 'p152', 'p153', 'p154']] ###Se seleccionan las preguntas que conforman esta sección"
   ]
  },
  {
   "cell_type": "code",
   "execution_count": 29,
   "metadata": {},
   "outputs": [
    {
     "data": {
      "text/plain": [
       "560626"
      ]
     },
     "execution_count": 29,
     "metadata": {},
     "output_type": "execute_result"
    }
   ],
   "source": [
    "len(df['hlec'])"
   ]
  },
  {
   "cell_type": "code",
   "execution_count": null,
   "metadata": {},
   "outputs": [],
   "source": []
  }
 ],
 "metadata": {
  "kernelspec": {
   "display_name": "Python 3.8.2 64-bit ('venv': venv)",
   "language": "python",
   "name": "python38264bitvenvvenv59d17170ade043dbb2f8c0cc6f3adc0c"
  },
  "language_info": {
   "codemirror_mode": {
    "name": "ipython",
    "version": 3
   },
   "file_extension": ".py",
   "mimetype": "text/x-python",
   "name": "python",
   "nbconvert_exporter": "python",
   "pygments_lexer": "ipython3",
   "version": "3.8.2"
  }
 },
 "nbformat": 4,
 "nbformat_minor": 4
}
