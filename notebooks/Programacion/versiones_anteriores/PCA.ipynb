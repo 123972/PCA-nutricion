{
 "cells": [
  {
   "cell_type": "code",
   "execution_count": 13,
   "metadata": {},
   "outputs": [
    {
     "name": "stdout",
     "output_type": "stream",
     "text": [
      "The autoreload extension is already loaded. To reload it, use:\n",
      "  %reload_ext autoreload\n"
     ]
    }
   ],
   "source": [
    "import sklearn as sk\n",
    "from sklearn import preprocessing\n",
    "import math\n",
    "from sklearn.decomposition import PCA\n",
    "from sklearn.preprocessing import StandardScaler\n",
    "import pandas as pd\n",
    "import numpy as np\n",
    "import mglearn\n",
    "import os\n",
    "import inspect\n",
    "import sys\n",
    "\n",
    "\n",
    "sys.path.append('./../../')\n",
    "\n",
    "# OPTIONAL: Load the \"autoreload\" extension so that code can change\n",
    "%load_ext autoreload\n",
    "\n",
    "#Own Library modules\n",
    "import src.pca\n",
    "\n",
    "# OPTIONAL: always reload modules so that as you change code in src, it gets loaded\n",
    "%autoreload 2\n",
    "\n",
    "from src.pca import PCA_from_sklearn\n",
    "\n",
    "# Importamos la función componentes_principales del archivo .py\n",
    "#import PCA_from_sklearn"
   ]
  },
  {
   "cell_type": "markdown",
   "metadata": {},
   "source": [
    "#### Objetivo:\n",
    "\n",
    "El objetivo de este notebook es utilizar PCA () de scikit-learn para la reducción de dimensionalidad por sección, ya que existen más de 150 variables\n"
   ]
  },
  {
   "cell_type": "code",
   "execution_count": 2,
   "metadata": {},
   "outputs": [],
   "source": [
    "df = pd.read_csv('datos_limpios.csv', encoding = \"L1\")"
   ]
  },
  {
   "cell_type": "markdown",
   "metadata": {},
   "source": [
    "##### Sección 3. Expectativas educativas"
   ]
  },
  {
   "cell_type": "code",
   "execution_count": 3,
   "metadata": {},
   "outputs": [],
   "source": [
    "np.random.seed(150) ###Se define la semilla para la reproducibilidad de los resultados\n",
    "\n",
    "seccion_3 = df.loc[:, ['p10', 'p11', 'p12', 'p13', 'p14']] ###Se seleccionan las preguntas que conforman esta sección"
   ]
  },
  {
   "cell_type": "code",
   "execution_count": 4,
   "metadata": {},
   "outputs": [],
   "source": [
    "####Se escalan los datos.\n",
    "scaler = preprocessing.StandardScaler()\n",
    "\n",
    "seccion_3 = pd.DataFrame(scaler.fit_transform(seccion_3))"
   ]
  },
  {
   "cell_type": "code",
   "execution_count": 5,
   "metadata": {},
   "outputs": [],
   "source": [
    "####Se obtienen los atributos que conforman la función componentes_principales \n",
    "pca, varianza_explicada, componentesprincipales, val_sing, pca.components_, eigenvalues = PCA_from_sklearn.componentes_principales(seccion_3)"
   ]
  },
  {
   "cell_type": "code",
   "execution_count": 6,
   "metadata": {},
   "outputs": [],
   "source": [
    "componentes = pd.DataFrame(pca.components_.T, index=['p10', 'p11', \n",
    "                                                         'p12', 'p13',\n",
    "                                                         'p14', \n",
    "                                                         ])"
   ]
  },
  {
   "cell_type": "code",
   "execution_count": 7,
   "metadata": {},
   "outputs": [
    {
     "data": {
      "text/html": [
       "<div>\n",
       "<style scoped>\n",
       "    .dataframe tbody tr th:only-of-type {\n",
       "        vertical-align: middle;\n",
       "    }\n",
       "\n",
       "    .dataframe tbody tr th {\n",
       "        vertical-align: top;\n",
       "    }\n",
       "\n",
       "    .dataframe thead th {\n",
       "        text-align: right;\n",
       "    }\n",
       "</style>\n",
       "<table border=\"1\" class=\"dataframe\">\n",
       "  <thead>\n",
       "    <tr style=\"text-align: right;\">\n",
       "      <th></th>\n",
       "      <th>principal_component_1</th>\n",
       "      <th>principal_component_2</th>\n",
       "    </tr>\n",
       "  </thead>\n",
       "  <tbody>\n",
       "    <tr>\n",
       "      <th>p10</th>\n",
       "      <td>0.118769</td>\n",
       "      <td>-0.745795</td>\n",
       "    </tr>\n",
       "    <tr>\n",
       "      <th>p11</th>\n",
       "      <td>0.433563</td>\n",
       "      <td>0.450160</td>\n",
       "    </tr>\n",
       "    <tr>\n",
       "      <th>p12</th>\n",
       "      <td>0.487973</td>\n",
       "      <td>0.328743</td>\n",
       "    </tr>\n",
       "    <tr>\n",
       "      <th>p13</th>\n",
       "      <td>0.530490</td>\n",
       "      <td>-0.199727</td>\n",
       "    </tr>\n",
       "    <tr>\n",
       "      <th>p14</th>\n",
       "      <td>0.527617</td>\n",
       "      <td>-0.305260</td>\n",
       "    </tr>\n",
       "  </tbody>\n",
       "</table>\n",
       "</div>"
      ],
      "text/plain": [
       "     principal_component_1  principal_component_2\n",
       "p10               0.118769              -0.745795\n",
       "p11               0.433563               0.450160\n",
       "p12               0.487973               0.328743\n",
       "p13               0.530490              -0.199727\n",
       "p14               0.527617              -0.305260"
      ]
     },
     "execution_count": 7,
     "metadata": {},
     "output_type": "execute_result"
    }
   ],
   "source": [
    "####Se eligieron dos componentes principales, por lo que a continuación se muestran los ejes principales que representan las direcciones de máxima varianza en los datos \n",
    "componentes = componentes.rename(columns={'index': 'preguntas', 0:'principal_component_1', 1:'principal_component_2'})\n",
    "componentes"
   ]
  },
  {
   "cell_type": "code",
   "execution_count": 8,
   "metadata": {},
   "outputs": [
    {
     "data": {
      "text/plain": [
       "array([0.49697126, 0.21837784])"
      ]
     },
     "execution_count": 8,
     "metadata": {},
     "output_type": "execute_result"
    }
   ],
   "source": [
    "####Se obtiene la varianza explicada por cada componente principal\n",
    "varianza_explicada"
   ]
  },
  {
   "cell_type": "markdown",
   "metadata": {},
   "source": [
    "Por lo tanto, las preguntas 13 y 14 se encuentran asociadas al primer componente principal a un porcentaje de varianza explicada de 49.70%, mientras que la pregunta 11 se asocia al componente principal 2 a un porcentaje de varianza explicada de 21.84%."
   ]
  },
  {
   "cell_type": "markdown",
   "metadata": {},
   "source": [
    "- Como se observa los eigenvalues son mayores a 1, siendo está otra medida para escoger el número de componentes, reduciendo así la dimensionalidad."
   ]
  },
  {
   "cell_type": "code",
   "execution_count": 9,
   "metadata": {},
   "outputs": [
    {
     "data": {
      "text/plain": [
       "array([2.48486074, 1.09189113])"
      ]
     },
     "execution_count": 9,
     "metadata": {},
     "output_type": "execute_result"
    }
   ],
   "source": [
    "eigenvalues"
   ]
  },
  {
   "cell_type": "markdown",
   "metadata": {},
   "source": [
    "- Se obtienen los componentes principales que son los que se meteran a la regresión."
   ]
  },
  {
   "cell_type": "code",
   "execution_count": 10,
   "metadata": {},
   "outputs": [
    {
     "data": {
      "text/html": [
       "<div>\n",
       "<style scoped>\n",
       "    .dataframe tbody tr th:only-of-type {\n",
       "        vertical-align: middle;\n",
       "    }\n",
       "\n",
       "    .dataframe tbody tr th {\n",
       "        vertical-align: top;\n",
       "    }\n",
       "\n",
       "    .dataframe thead th {\n",
       "        text-align: right;\n",
       "    }\n",
       "</style>\n",
       "<table border=\"1\" class=\"dataframe\">\n",
       "  <thead>\n",
       "    <tr style=\"text-align: right;\">\n",
       "      <th></th>\n",
       "      <th>0</th>\n",
       "      <th>1</th>\n",
       "    </tr>\n",
       "  </thead>\n",
       "  <tbody>\n",
       "    <tr>\n",
       "      <th>0</th>\n",
       "      <td>-2.751152</td>\n",
       "      <td>1.038033</td>\n",
       "    </tr>\n",
       "    <tr>\n",
       "      <th>1</th>\n",
       "      <td>1.439305</td>\n",
       "      <td>-0.274336</td>\n",
       "    </tr>\n",
       "    <tr>\n",
       "      <th>2</th>\n",
       "      <td>-0.075647</td>\n",
       "      <td>-1.163561</td>\n",
       "    </tr>\n",
       "    <tr>\n",
       "      <th>3</th>\n",
       "      <td>-2.054591</td>\n",
       "      <td>0.706529</td>\n",
       "    </tr>\n",
       "    <tr>\n",
       "      <th>4</th>\n",
       "      <td>-0.592569</td>\n",
       "      <td>1.411202</td>\n",
       "    </tr>\n",
       "    <tr>\n",
       "      <th>...</th>\n",
       "      <td>...</td>\n",
       "      <td>...</td>\n",
       "    </tr>\n",
       "    <tr>\n",
       "      <th>560621</th>\n",
       "      <td>-1.369152</td>\n",
       "      <td>0.309960</td>\n",
       "    </tr>\n",
       "    <tr>\n",
       "      <th>560622</th>\n",
       "      <td>-1.242848</td>\n",
       "      <td>-0.348250</td>\n",
       "    </tr>\n",
       "    <tr>\n",
       "      <th>560623</th>\n",
       "      <td>1.372021</td>\n",
       "      <td>-1.269330</td>\n",
       "    </tr>\n",
       "    <tr>\n",
       "      <th>560624</th>\n",
       "      <td>-1.481507</td>\n",
       "      <td>-0.938306</td>\n",
       "    </tr>\n",
       "    <tr>\n",
       "      <th>560625</th>\n",
       "      <td>-0.546287</td>\n",
       "      <td>-0.679755</td>\n",
       "    </tr>\n",
       "  </tbody>\n",
       "</table>\n",
       "<p>560626 rows × 2 columns</p>\n",
       "</div>"
      ],
      "text/plain": [
       "               0         1\n",
       "0      -2.751152  1.038033\n",
       "1       1.439305 -0.274336\n",
       "2      -0.075647 -1.163561\n",
       "3      -2.054591  0.706529\n",
       "4      -0.592569  1.411202\n",
       "...          ...       ...\n",
       "560621 -1.369152  0.309960\n",
       "560622 -1.242848 -0.348250\n",
       "560623  1.372021 -1.269330\n",
       "560624 -1.481507 -0.938306\n",
       "560625 -0.546287 -0.679755\n",
       "\n",
       "[560626 rows x 2 columns]"
      ]
     },
     "execution_count": 10,
     "metadata": {},
     "output_type": "execute_result"
    }
   ],
   "source": [
    "componentesprincipales_seccion_3 = pd.DataFrame(componentesprincipales)\n",
    "componentesprincipales_seccion_3"
   ]
  },
  {
   "cell_type": "markdown",
   "metadata": {},
   "source": [
    "##### Sección 4. Características personales"
   ]
  },
  {
   "cell_type": "markdown",
   "metadata": {},
   "source": [
    "- 4.1. Indica qué tanto te describe lo siguiente."
   ]
  },
  {
   "cell_type": "code",
   "execution_count": 11,
   "metadata": {},
   "outputs": [],
   "source": [
    "np.random.seed(150) ###Se define la semilla para la reproducibilidad de los resultados\n",
    "seccion_4_1 = df.loc[:, ['p15', 'p16', 'p17', 'p18', 'p19', 'p20', 'p21', 'p22']] ###Se seleccionan las preguntas que conforman esta sección"
   ]
  },
  {
   "cell_type": "code",
   "execution_count": 12,
   "metadata": {},
   "outputs": [],
   "source": [
    "####Se escalan los datos.\n",
    "scaler = preprocessing.StandardScaler()\n",
    "\n",
    "seccion_4_1 = pd.DataFrame(scaler.fit_transform(seccion_4_1))"
   ]
  },
  {
   "cell_type": "code",
   "execution_count": 13,
   "metadata": {},
   "outputs": [],
   "source": [
    "####Se obtienen los atributos que conforman la función componentes_principales \n",
    "pca, varianza_explicada, componentesprincipales, val_sing, pca.components_, eigenvalues = PCA_from_sklearn.componentes_principales(seccion_4_1)"
   ]
  },
  {
   "cell_type": "code",
   "execution_count": 14,
   "metadata": {},
   "outputs": [],
   "source": [
    "componentes = pd.DataFrame(pca.components_.T, index=['p15', 'p16', 'p17', 'p18', 'p19', 'p20', 'p21', 'p22'])"
   ]
  },
  {
   "cell_type": "code",
   "execution_count": 15,
   "metadata": {},
   "outputs": [
    {
     "data": {
      "text/html": [
       "<div>\n",
       "<style scoped>\n",
       "    .dataframe tbody tr th:only-of-type {\n",
       "        vertical-align: middle;\n",
       "    }\n",
       "\n",
       "    .dataframe tbody tr th {\n",
       "        vertical-align: top;\n",
       "    }\n",
       "\n",
       "    .dataframe thead th {\n",
       "        text-align: right;\n",
       "    }\n",
       "</style>\n",
       "<table border=\"1\" class=\"dataframe\">\n",
       "  <thead>\n",
       "    <tr style=\"text-align: right;\">\n",
       "      <th></th>\n",
       "      <th>principal_component_1</th>\n",
       "      <th>principal_component_2</th>\n",
       "      <th>principal_component_3</th>\n",
       "    </tr>\n",
       "  </thead>\n",
       "  <tbody>\n",
       "    <tr>\n",
       "      <th>p15</th>\n",
       "      <td>0.264701</td>\n",
       "      <td>0.378767</td>\n",
       "      <td>0.105304</td>\n",
       "    </tr>\n",
       "    <tr>\n",
       "      <th>p16</th>\n",
       "      <td>-0.173163</td>\n",
       "      <td>0.300260</td>\n",
       "      <td>0.846667</td>\n",
       "    </tr>\n",
       "    <tr>\n",
       "      <th>p17</th>\n",
       "      <td>0.346735</td>\n",
       "      <td>0.324078</td>\n",
       "      <td>0.225066</td>\n",
       "    </tr>\n",
       "    <tr>\n",
       "      <th>p18</th>\n",
       "      <td>-0.440740</td>\n",
       "      <td>0.307729</td>\n",
       "      <td>-0.070533</td>\n",
       "    </tr>\n",
       "    <tr>\n",
       "      <th>p19</th>\n",
       "      <td>0.203013</td>\n",
       "      <td>0.466745</td>\n",
       "      <td>-0.340611</td>\n",
       "    </tr>\n",
       "    <tr>\n",
       "      <th>p20</th>\n",
       "      <td>0.294675</td>\n",
       "      <td>0.451538</td>\n",
       "      <td>-0.230419</td>\n",
       "    </tr>\n",
       "    <tr>\n",
       "      <th>p21</th>\n",
       "      <td>-0.487734</td>\n",
       "      <td>0.219685</td>\n",
       "      <td>-0.144270</td>\n",
       "    </tr>\n",
       "    <tr>\n",
       "      <th>p22</th>\n",
       "      <td>-0.468550</td>\n",
       "      <td>0.310898</td>\n",
       "      <td>-0.162831</td>\n",
       "    </tr>\n",
       "  </tbody>\n",
       "</table>\n",
       "</div>"
      ],
      "text/plain": [
       "     principal_component_1  principal_component_2  principal_component_3\n",
       "p15               0.264701               0.378767               0.105304\n",
       "p16              -0.173163               0.300260               0.846667\n",
       "p17               0.346735               0.324078               0.225066\n",
       "p18              -0.440740               0.307729              -0.070533\n",
       "p19               0.203013               0.466745              -0.340611\n",
       "p20               0.294675               0.451538              -0.230419\n",
       "p21              -0.487734               0.219685              -0.144270\n",
       "p22              -0.468550               0.310898              -0.162831"
      ]
     },
     "execution_count": 15,
     "metadata": {},
     "output_type": "execute_result"
    }
   ],
   "source": [
    "####Se eligieron tres componentes principales, por lo que a continuación se muestran los ejes principales que representan las direcciones de máxima varianza en los datos\n",
    "componentes = componentes.rename(columns={'index': 'preguntas', 0:'principal_component_1', 1:'principal_component_2', 2:'principal_component_3'})\n",
    "componentes"
   ]
  },
  {
   "cell_type": "code",
   "execution_count": 16,
   "metadata": {},
   "outputs": [
    {
     "data": {
      "text/plain": [
       "array([0.28505091, 0.24167855, 0.11123021])"
      ]
     },
     "execution_count": 16,
     "metadata": {},
     "output_type": "execute_result"
    }
   ],
   "source": [
    "####Se obtiene la varianza explicada por cada componente principal\n",
    "varianza_explicada"
   ]
  },
  {
   "cell_type": "markdown",
   "metadata": {},
   "source": [
    "La pregunta 17 se asocia al primer componente principal, la pregunta 19 y la pregunta 20 se encuentran asociadas al segundo componente principal y la pregunta 16 se asocia al tercer componente principal. La varianza explicada para estos componentes es de 28.50%, 24.17% y 11.12% respectivamente."
   ]
  },
  {
   "cell_type": "markdown",
   "metadata": {},
   "source": [
    "- Aquí se puede observar que no todos los eigenvalues son mayores a 1, por lo que esta medida nos dice que nos quedemos con 2 componentes, sin embargo, la media que usamos es la varianza explicada."
   ]
  },
  {
   "cell_type": "code",
   "execution_count": 17,
   "metadata": {},
   "outputs": [
    {
     "data": {
      "text/plain": [
       "array([2.28041137, 1.93343182, 0.88984326])"
      ]
     },
     "execution_count": 17,
     "metadata": {},
     "output_type": "execute_result"
    }
   ],
   "source": [
    "eigenvalues"
   ]
  },
  {
   "cell_type": "markdown",
   "metadata": {},
   "source": [
    "- Se obtienen los componentes principales que son los que se meteran a la regresión."
   ]
  },
  {
   "cell_type": "code",
   "execution_count": 18,
   "metadata": {},
   "outputs": [
    {
     "data": {
      "text/html": [
       "<div>\n",
       "<style scoped>\n",
       "    .dataframe tbody tr th:only-of-type {\n",
       "        vertical-align: middle;\n",
       "    }\n",
       "\n",
       "    .dataframe tbody tr th {\n",
       "        vertical-align: top;\n",
       "    }\n",
       "\n",
       "    .dataframe thead th {\n",
       "        text-align: right;\n",
       "    }\n",
       "</style>\n",
       "<table border=\"1\" class=\"dataframe\">\n",
       "  <thead>\n",
       "    <tr style=\"text-align: right;\">\n",
       "      <th></th>\n",
       "      <th>0</th>\n",
       "      <th>1</th>\n",
       "      <th>2</th>\n",
       "    </tr>\n",
       "  </thead>\n",
       "  <tbody>\n",
       "    <tr>\n",
       "      <th>0</th>\n",
       "      <td>-0.030844</td>\n",
       "      <td>-0.040263</td>\n",
       "      <td>0.652843</td>\n",
       "    </tr>\n",
       "    <tr>\n",
       "      <th>1</th>\n",
       "      <td>0.605189</td>\n",
       "      <td>0.816913</td>\n",
       "      <td>2.242497</td>\n",
       "    </tr>\n",
       "    <tr>\n",
       "      <th>2</th>\n",
       "      <td>-0.737430</td>\n",
       "      <td>1.031727</td>\n",
       "      <td>1.150211</td>\n",
       "    </tr>\n",
       "    <tr>\n",
       "      <th>3</th>\n",
       "      <td>0.832951</td>\n",
       "      <td>0.426113</td>\n",
       "      <td>0.362032</td>\n",
       "    </tr>\n",
       "    <tr>\n",
       "      <th>4</th>\n",
       "      <td>1.640749</td>\n",
       "      <td>-0.793292</td>\n",
       "      <td>0.279120</td>\n",
       "    </tr>\n",
       "    <tr>\n",
       "      <th>...</th>\n",
       "      <td>...</td>\n",
       "      <td>...</td>\n",
       "      <td>...</td>\n",
       "    </tr>\n",
       "    <tr>\n",
       "      <th>560621</th>\n",
       "      <td>1.403816</td>\n",
       "      <td>-0.980054</td>\n",
       "      <td>-0.049580</td>\n",
       "    </tr>\n",
       "    <tr>\n",
       "      <th>560622</th>\n",
       "      <td>1.117009</td>\n",
       "      <td>-0.480046</td>\n",
       "      <td>-0.389970</td>\n",
       "    </tr>\n",
       "    <tr>\n",
       "      <th>560623</th>\n",
       "      <td>-2.038386</td>\n",
       "      <td>1.683265</td>\n",
       "      <td>-0.697210</td>\n",
       "    </tr>\n",
       "    <tr>\n",
       "      <th>560624</th>\n",
       "      <td>0.697905</td>\n",
       "      <td>2.291276</td>\n",
       "      <td>-0.621842</td>\n",
       "    </tr>\n",
       "    <tr>\n",
       "      <th>560625</th>\n",
       "      <td>-0.699533</td>\n",
       "      <td>2.572282</td>\n",
       "      <td>1.000256</td>\n",
       "    </tr>\n",
       "  </tbody>\n",
       "</table>\n",
       "<p>560626 rows × 3 columns</p>\n",
       "</div>"
      ],
      "text/plain": [
       "               0         1         2\n",
       "0      -0.030844 -0.040263  0.652843\n",
       "1       0.605189  0.816913  2.242497\n",
       "2      -0.737430  1.031727  1.150211\n",
       "3       0.832951  0.426113  0.362032\n",
       "4       1.640749 -0.793292  0.279120\n",
       "...          ...       ...       ...\n",
       "560621  1.403816 -0.980054 -0.049580\n",
       "560622  1.117009 -0.480046 -0.389970\n",
       "560623 -2.038386  1.683265 -0.697210\n",
       "560624  0.697905  2.291276 -0.621842\n",
       "560625 -0.699533  2.572282  1.000256\n",
       "\n",
       "[560626 rows x 3 columns]"
      ]
     },
     "execution_count": 18,
     "metadata": {},
     "output_type": "execute_result"
    }
   ],
   "source": [
    "componentesprincipales_seccion_4_1 = pd.DataFrame(componentesprincipales)\n",
    "componentesprincipales_seccion_4_1"
   ]
  },
  {
   "cell_type": "markdown",
   "metadata": {},
   "source": [
    "- 4.2. Indica tu grado de acuerdo con los siguientes enunciados."
   ]
  },
  {
   "cell_type": "code",
   "execution_count": 19,
   "metadata": {},
   "outputs": [],
   "source": [
    "np.random.seed(150) ###Se define la semilla para la reproducibilidad de los resultados\n",
    "\n",
    "seccion_4_2 = df.loc[:, ['p23', 'p24', 'p25', 'p26', 'p27', 'p28', 'p29', 'p30', 'p31', 'p32', 'p33']] ###Se seleccionan las preguntas que conforman esta sección"
   ]
  },
  {
   "cell_type": "code",
   "execution_count": 20,
   "metadata": {},
   "outputs": [],
   "source": [
    "####Se escalan los datos.\n",
    "scaler = preprocessing.StandardScaler()\n",
    "\n",
    "seccion_4_2 = pd.DataFrame(scaler.fit_transform(seccion_4_2))"
   ]
  },
  {
   "cell_type": "code",
   "execution_count": 21,
   "metadata": {},
   "outputs": [],
   "source": [
    "####Se obtienen los atributos que conforman la función componentes_principales \n",
    "pca, varianza_explicada, componentesprincipales, val_sing, pca.components_, eigenvalues = PCA_from_sklearn.componentes_principales(seccion_4_2)"
   ]
  },
  {
   "cell_type": "code",
   "execution_count": 22,
   "metadata": {},
   "outputs": [],
   "source": [
    "componentes = pd.DataFrame(pca.components_.T, index=['p23', 'p24', 'p25', 'p26', 'p27', 'p28', 'p29', 'p30', 'p31', 'p32', 'p33'])"
   ]
  },
  {
   "cell_type": "code",
   "execution_count": 23,
   "metadata": {},
   "outputs": [
    {
     "data": {
      "text/html": [
       "<div>\n",
       "<style scoped>\n",
       "    .dataframe tbody tr th:only-of-type {\n",
       "        vertical-align: middle;\n",
       "    }\n",
       "\n",
       "    .dataframe tbody tr th {\n",
       "        vertical-align: top;\n",
       "    }\n",
       "\n",
       "    .dataframe thead th {\n",
       "        text-align: right;\n",
       "    }\n",
       "</style>\n",
       "<table border=\"1\" class=\"dataframe\">\n",
       "  <thead>\n",
       "    <tr style=\"text-align: right;\">\n",
       "      <th></th>\n",
       "      <th>principal_component_1</th>\n",
       "      <th>principal_component_2</th>\n",
       "      <th>principal_component_3</th>\n",
       "      <th>principal_component_4</th>\n",
       "      <th>principal_component_5</th>\n",
       "    </tr>\n",
       "  </thead>\n",
       "  <tbody>\n",
       "    <tr>\n",
       "      <th>p23</th>\n",
       "      <td>-0.371245</td>\n",
       "      <td>-0.141233</td>\n",
       "      <td>-0.261124</td>\n",
       "      <td>-0.094564</td>\n",
       "      <td>-0.040953</td>\n",
       "    </tr>\n",
       "    <tr>\n",
       "      <th>p24</th>\n",
       "      <td>-0.375638</td>\n",
       "      <td>0.010097</td>\n",
       "      <td>-0.359534</td>\n",
       "      <td>0.009110</td>\n",
       "      <td>-0.094674</td>\n",
       "    </tr>\n",
       "    <tr>\n",
       "      <th>p25</th>\n",
       "      <td>-0.385254</td>\n",
       "      <td>0.031232</td>\n",
       "      <td>-0.083717</td>\n",
       "      <td>0.246011</td>\n",
       "      <td>0.256487</td>\n",
       "    </tr>\n",
       "    <tr>\n",
       "      <th>p26</th>\n",
       "      <td>-0.335045</td>\n",
       "      <td>-0.064105</td>\n",
       "      <td>-0.275946</td>\n",
       "      <td>-0.067090</td>\n",
       "      <td>-0.213339</td>\n",
       "    </tr>\n",
       "    <tr>\n",
       "      <th>p27</th>\n",
       "      <td>-0.376515</td>\n",
       "      <td>0.083793</td>\n",
       "      <td>-0.102070</td>\n",
       "      <td>0.053251</td>\n",
       "      <td>-0.111202</td>\n",
       "    </tr>\n",
       "    <tr>\n",
       "      <th>p28</th>\n",
       "      <td>-0.232810</td>\n",
       "      <td>-0.073033</td>\n",
       "      <td>0.341450</td>\n",
       "      <td>-0.856636</td>\n",
       "      <td>0.180779</td>\n",
       "    </tr>\n",
       "    <tr>\n",
       "      <th>p29</th>\n",
       "      <td>-0.336734</td>\n",
       "      <td>-0.060097</td>\n",
       "      <td>0.216034</td>\n",
       "      <td>0.229667</td>\n",
       "      <td>0.574780</td>\n",
       "    </tr>\n",
       "    <tr>\n",
       "      <th>p30</th>\n",
       "      <td>0.002200</td>\n",
       "      <td>0.675097</td>\n",
       "      <td>-0.094035</td>\n",
       "      <td>-0.057461</td>\n",
       "      <td>0.465976</td>\n",
       "    </tr>\n",
       "    <tr>\n",
       "      <th>p31</th>\n",
       "      <td>-0.324900</td>\n",
       "      <td>0.010834</td>\n",
       "      <td>0.338898</td>\n",
       "      <td>-0.012301</td>\n",
       "      <td>-0.330252</td>\n",
       "    </tr>\n",
       "    <tr>\n",
       "      <th>p32</th>\n",
       "      <td>-0.032640</td>\n",
       "      <td>0.684145</td>\n",
       "      <td>-0.091101</td>\n",
       "      <td>-0.149085</td>\n",
       "      <td>-0.344068</td>\n",
       "    </tr>\n",
       "    <tr>\n",
       "      <th>p33</th>\n",
       "      <td>-0.210743</td>\n",
       "      <td>0.187007</td>\n",
       "      <td>0.643213</td>\n",
       "      <td>0.332963</td>\n",
       "      <td>-0.240954</td>\n",
       "    </tr>\n",
       "  </tbody>\n",
       "</table>\n",
       "</div>"
      ],
      "text/plain": [
       "     principal_component_1  principal_component_2  principal_component_3  \\\n",
       "p23              -0.371245              -0.141233              -0.261124   \n",
       "p24              -0.375638               0.010097              -0.359534   \n",
       "p25              -0.385254               0.031232              -0.083717   \n",
       "p26              -0.335045              -0.064105              -0.275946   \n",
       "p27              -0.376515               0.083793              -0.102070   \n",
       "p28              -0.232810              -0.073033               0.341450   \n",
       "p29              -0.336734              -0.060097               0.216034   \n",
       "p30               0.002200               0.675097              -0.094035   \n",
       "p31              -0.324900               0.010834               0.338898   \n",
       "p32              -0.032640               0.684145              -0.091101   \n",
       "p33              -0.210743               0.187007               0.643213   \n",
       "\n",
       "     principal_component_4  principal_component_5  \n",
       "p23              -0.094564              -0.040953  \n",
       "p24               0.009110              -0.094674  \n",
       "p25               0.246011               0.256487  \n",
       "p26              -0.067090              -0.213339  \n",
       "p27               0.053251              -0.111202  \n",
       "p28              -0.856636               0.180779  \n",
       "p29               0.229667               0.574780  \n",
       "p30              -0.057461               0.465976  \n",
       "p31              -0.012301              -0.330252  \n",
       "p32              -0.149085              -0.344068  \n",
       "p33               0.332963              -0.240954  "
      ]
     },
     "execution_count": 23,
     "metadata": {},
     "output_type": "execute_result"
    }
   ],
   "source": [
    "####Se eligieron cinco componentes principales, por lo que a continuación se muestran los ejes principales que representan las direcciones de máxima varianza en los datos\n",
    "componentes = componentes.rename(columns={'index': 'preguntas', 0:'principal_component_1', 1:'principal_component_2', 2:'principal_component_3', \n",
    "                                         3:'principal_component_4', 4:'principal_component_5'})\n",
    "componentes"
   ]
  },
  {
   "cell_type": "code",
   "execution_count": 24,
   "metadata": {},
   "outputs": [
    {
     "data": {
      "text/plain": [
       "array([0.25432501, 0.11525382, 0.09639745, 0.08056387, 0.07513842])"
      ]
     },
     "execution_count": 24,
     "metadata": {},
     "output_type": "execute_result"
    }
   ],
   "source": [
    "####Se obtiene la varianza explicada por cada componente principal\n",
    "varianza_explicada"
   ]
  },
  {
   "cell_type": "markdown",
   "metadata": {},
   "source": [
    "Por lo tanto, la pregunta 30 se asocia al primer componente principal, el cual para este componente su varianza explicada es de 25.43%. Las preguntas 30 y 32 se asocian al segundo componente principal con un porcentaje de varianza explicada de 11.52%. La pregunta 33 se asocia al tercer componente principal con un 9.64% de varianza explicada y también al cuarto componente principal con una varianza explicada de 8.05%; mientras que la pregunta 29 se asocia al quinto componente principal con un porcentaje de varianza explicada de 7.51%.  "
   ]
  },
  {
   "cell_type": "markdown",
   "metadata": {},
   "source": [
    "- Los eigenvalues nos muestran que no todos lo componentes que se eligieron considerando la varianza explicada son mayores a 1."
   ]
  },
  {
   "cell_type": "code",
   "execution_count": 25,
   "metadata": {},
   "outputs": [
    {
     "data": {
      "text/plain": [
       "array([2.79758012, 1.26779433, 1.06037382, 0.8862042 , 0.82652405])"
      ]
     },
     "execution_count": 25,
     "metadata": {},
     "output_type": "execute_result"
    }
   ],
   "source": [
    "eigenvalues"
   ]
  },
  {
   "cell_type": "markdown",
   "metadata": {},
   "source": [
    "- Se obtienen los componentes principales que son los que se meteran a la regresión."
   ]
  },
  {
   "cell_type": "code",
   "execution_count": 26,
   "metadata": {},
   "outputs": [
    {
     "data": {
      "text/html": [
       "<div>\n",
       "<style scoped>\n",
       "    .dataframe tbody tr th:only-of-type {\n",
       "        vertical-align: middle;\n",
       "    }\n",
       "\n",
       "    .dataframe tbody tr th {\n",
       "        vertical-align: top;\n",
       "    }\n",
       "\n",
       "    .dataframe thead th {\n",
       "        text-align: right;\n",
       "    }\n",
       "</style>\n",
       "<table border=\"1\" class=\"dataframe\">\n",
       "  <thead>\n",
       "    <tr style=\"text-align: right;\">\n",
       "      <th></th>\n",
       "      <th>0</th>\n",
       "      <th>1</th>\n",
       "      <th>2</th>\n",
       "      <th>3</th>\n",
       "      <th>4</th>\n",
       "    </tr>\n",
       "  </thead>\n",
       "  <tbody>\n",
       "    <tr>\n",
       "      <th>0</th>\n",
       "      <td>2.654835</td>\n",
       "      <td>-0.126711</td>\n",
       "      <td>0.992496</td>\n",
       "      <td>-0.340768</td>\n",
       "      <td>1.132157</td>\n",
       "    </tr>\n",
       "    <tr>\n",
       "      <th>1</th>\n",
       "      <td>0.244777</td>\n",
       "      <td>-0.627959</td>\n",
       "      <td>-2.188335</td>\n",
       "      <td>-0.731437</td>\n",
       "      <td>0.291323</td>\n",
       "    </tr>\n",
       "    <tr>\n",
       "      <th>2</th>\n",
       "      <td>0.366210</td>\n",
       "      <td>0.129824</td>\n",
       "      <td>0.785720</td>\n",
       "      <td>1.329208</td>\n",
       "      <td>0.227957</td>\n",
       "    </tr>\n",
       "    <tr>\n",
       "      <th>3</th>\n",
       "      <td>2.503022</td>\n",
       "      <td>-1.133014</td>\n",
       "      <td>-1.519482</td>\n",
       "      <td>0.265603</td>\n",
       "      <td>-0.282153</td>\n",
       "    </tr>\n",
       "    <tr>\n",
       "      <th>4</th>\n",
       "      <td>0.979646</td>\n",
       "      <td>0.587305</td>\n",
       "      <td>-0.811460</td>\n",
       "      <td>-0.286928</td>\n",
       "      <td>0.013899</td>\n",
       "    </tr>\n",
       "    <tr>\n",
       "      <th>...</th>\n",
       "      <td>...</td>\n",
       "      <td>...</td>\n",
       "      <td>...</td>\n",
       "      <td>...</td>\n",
       "      <td>...</td>\n",
       "    </tr>\n",
       "    <tr>\n",
       "      <th>560621</th>\n",
       "      <td>0.599428</td>\n",
       "      <td>-0.152860</td>\n",
       "      <td>-1.541828</td>\n",
       "      <td>0.538943</td>\n",
       "      <td>-1.032911</td>\n",
       "    </tr>\n",
       "    <tr>\n",
       "      <th>560622</th>\n",
       "      <td>2.119818</td>\n",
       "      <td>0.758164</td>\n",
       "      <td>0.625487</td>\n",
       "      <td>-0.482713</td>\n",
       "      <td>-0.541124</td>\n",
       "    </tr>\n",
       "    <tr>\n",
       "      <th>560623</th>\n",
       "      <td>-2.765005</td>\n",
       "      <td>-1.735203</td>\n",
       "      <td>-1.077220</td>\n",
       "      <td>1.814559</td>\n",
       "      <td>0.136786</td>\n",
       "    </tr>\n",
       "    <tr>\n",
       "      <th>560624</th>\n",
       "      <td>-2.023575</td>\n",
       "      <td>-1.555157</td>\n",
       "      <td>1.493046</td>\n",
       "      <td>-0.153962</td>\n",
       "      <td>0.198163</td>\n",
       "    </tr>\n",
       "    <tr>\n",
       "      <th>560625</th>\n",
       "      <td>-1.425262</td>\n",
       "      <td>0.527075</td>\n",
       "      <td>-0.957056</td>\n",
       "      <td>-0.378311</td>\n",
       "      <td>-1.178684</td>\n",
       "    </tr>\n",
       "  </tbody>\n",
       "</table>\n",
       "<p>560626 rows × 5 columns</p>\n",
       "</div>"
      ],
      "text/plain": [
       "               0         1         2         3         4\n",
       "0       2.654835 -0.126711  0.992496 -0.340768  1.132157\n",
       "1       0.244777 -0.627959 -2.188335 -0.731437  0.291323\n",
       "2       0.366210  0.129824  0.785720  1.329208  0.227957\n",
       "3       2.503022 -1.133014 -1.519482  0.265603 -0.282153\n",
       "4       0.979646  0.587305 -0.811460 -0.286928  0.013899\n",
       "...          ...       ...       ...       ...       ...\n",
       "560621  0.599428 -0.152860 -1.541828  0.538943 -1.032911\n",
       "560622  2.119818  0.758164  0.625487 -0.482713 -0.541124\n",
       "560623 -2.765005 -1.735203 -1.077220  1.814559  0.136786\n",
       "560624 -2.023575 -1.555157  1.493046 -0.153962  0.198163\n",
       "560625 -1.425262  0.527075 -0.957056 -0.378311 -1.178684\n",
       "\n",
       "[560626 rows x 5 columns]"
      ]
     },
     "execution_count": 26,
     "metadata": {},
     "output_type": "execute_result"
    }
   ],
   "source": [
    "componentesprincipales_seccion_4_2 = pd.DataFrame(componentesprincipales)\n",
    "componentesprincipales_seccion_4_2"
   ]
  },
  {
   "cell_type": "markdown",
   "metadata": {},
   "source": [
    "- 4.3. En el último mes, ¿con qué frecuencia te sucedió lo siguiente?"
   ]
  },
  {
   "cell_type": "code",
   "execution_count": 27,
   "metadata": {},
   "outputs": [],
   "source": [
    "np.random.seed(150) ###Se define la semilla para la reproducibilidad de los resultados\n",
    "\n",
    "seccion_4_3 = df.loc[:, ['p34', 'p35', 'p36', 'p37', 'p38', 'p39', 'p40']\n",
    "                  ] ###Se seleccionan las preguntas que conforman esta sección"
   ]
  },
  {
   "cell_type": "code",
   "execution_count": 28,
   "metadata": {},
   "outputs": [],
   "source": [
    "####Se escalan los datos.\n",
    "scaler = preprocessing.StandardScaler()\n",
    "\n",
    "seccion_4_3 = pd.DataFrame(scaler.fit_transform(seccion_4_3))"
   ]
  },
  {
   "cell_type": "code",
   "execution_count": 29,
   "metadata": {},
   "outputs": [],
   "source": [
    "####Se obtienen los atributos que conforman la función componentes_principales \n",
    "pca, varianza_explicada, componentesprincipales, val_sing, pca.components_, eigenvalues = PCA_from_sklearn.componentes_principales(seccion_4_3)"
   ]
  },
  {
   "cell_type": "code",
   "execution_count": 30,
   "metadata": {},
   "outputs": [],
   "source": [
    "componentes = pd.DataFrame(pca.components_.T, index=['p34', 'p35', 'p36', 'p37', 'p38', 'p39', 'p40'])"
   ]
  },
  {
   "cell_type": "code",
   "execution_count": 31,
   "metadata": {},
   "outputs": [
    {
     "data": {
      "text/html": [
       "<div>\n",
       "<style scoped>\n",
       "    .dataframe tbody tr th:only-of-type {\n",
       "        vertical-align: middle;\n",
       "    }\n",
       "\n",
       "    .dataframe tbody tr th {\n",
       "        vertical-align: top;\n",
       "    }\n",
       "\n",
       "    .dataframe thead th {\n",
       "        text-align: right;\n",
       "    }\n",
       "</style>\n",
       "<table border=\"1\" class=\"dataframe\">\n",
       "  <thead>\n",
       "    <tr style=\"text-align: right;\">\n",
       "      <th></th>\n",
       "      <th>principal_component_1</th>\n",
       "      <th>principal_component_2</th>\n",
       "      <th>principal_component_3</th>\n",
       "    </tr>\n",
       "  </thead>\n",
       "  <tbody>\n",
       "    <tr>\n",
       "      <th>p34</th>\n",
       "      <td>0.385154</td>\n",
       "      <td>-0.035362</td>\n",
       "      <td>-0.205920</td>\n",
       "    </tr>\n",
       "    <tr>\n",
       "      <th>p35</th>\n",
       "      <td>0.416554</td>\n",
       "      <td>-0.256862</td>\n",
       "      <td>-0.209465</td>\n",
       "    </tr>\n",
       "    <tr>\n",
       "      <th>p36</th>\n",
       "      <td>0.407836</td>\n",
       "      <td>-0.307341</td>\n",
       "      <td>-0.114798</td>\n",
       "    </tr>\n",
       "    <tr>\n",
       "      <th>p37</th>\n",
       "      <td>0.413473</td>\n",
       "      <td>-0.131209</td>\n",
       "      <td>0.021778</td>\n",
       "    </tr>\n",
       "    <tr>\n",
       "      <th>p38</th>\n",
       "      <td>0.415866</td>\n",
       "      <td>-0.122336</td>\n",
       "      <td>0.287020</td>\n",
       "    </tr>\n",
       "    <tr>\n",
       "      <th>p39</th>\n",
       "      <td>0.318163</td>\n",
       "      <td>0.496189</td>\n",
       "      <td>0.715731</td>\n",
       "    </tr>\n",
       "    <tr>\n",
       "      <th>p40</th>\n",
       "      <td>0.258218</td>\n",
       "      <td>0.748283</td>\n",
       "      <td>-0.552646</td>\n",
       "    </tr>\n",
       "  </tbody>\n",
       "</table>\n",
       "</div>"
      ],
      "text/plain": [
       "     principal_component_1  principal_component_2  principal_component_3\n",
       "p34               0.385154              -0.035362              -0.205920\n",
       "p35               0.416554              -0.256862              -0.209465\n",
       "p36               0.407836              -0.307341              -0.114798\n",
       "p37               0.413473              -0.131209               0.021778\n",
       "p38               0.415866              -0.122336               0.287020\n",
       "p39               0.318163               0.496189               0.715731\n",
       "p40               0.258218               0.748283              -0.552646"
      ]
     },
     "execution_count": 31,
     "metadata": {},
     "output_type": "execute_result"
    }
   ],
   "source": [
    "####Se eligieron tres componentes principales, por lo que a continuación se muestran los ejes principales que representan las direcciones de máxima varianza en los datos\n",
    "componentes = componentes.rename(columns={'index': 'preguntas', 0:'principal_component_1', 1:'principal_component_2', 2:'principal_component_3'})\n",
    "componentes"
   ]
  },
  {
   "cell_type": "code",
   "execution_count": 32,
   "metadata": {},
   "outputs": [
    {
     "data": {
      "text/plain": [
       "array([0.4473773 , 0.13501357, 0.10271715])"
      ]
     },
     "execution_count": 32,
     "metadata": {},
     "output_type": "execute_result"
    }
   ],
   "source": [
    "####Se obtiene la varianza explicada por cada componente principal\n",
    "varianza_explicada"
   ]
  },
  {
   "cell_type": "markdown",
   "metadata": {},
   "source": [
    "Las preguntas 35, 37 y 38 se asocial al primer componente principal, el cual para este componente le corresponde una varianza explicada de 44.74%. La pregunta 40 se asocia al segundo componente principal a un porcentaje de varianza explicada de 13.50%, mientras que la pregunta 39 se asocia al tercer componente principal. A este último le corresponde una varianza explicada de 10.27%."
   ]
  },
  {
   "cell_type": "markdown",
   "metadata": {},
   "source": [
    "- Se observa que el eigenvalue asociado al primer componente principal es mayor a 1. "
   ]
  },
  {
   "cell_type": "code",
   "execution_count": 33,
   "metadata": {},
   "outputs": [
    {
     "data": {
      "text/plain": [
       "array([3.13164666, 0.94509666, 0.71902136])"
      ]
     },
     "execution_count": 33,
     "metadata": {},
     "output_type": "execute_result"
    }
   ],
   "source": [
    "eigenvalues"
   ]
  },
  {
   "cell_type": "markdown",
   "metadata": {},
   "source": [
    "- Se obtienen los componentes principales que son los que se meteran a la regresión."
   ]
  },
  {
   "cell_type": "code",
   "execution_count": 34,
   "metadata": {},
   "outputs": [
    {
     "data": {
      "text/html": [
       "<div>\n",
       "<style scoped>\n",
       "    .dataframe tbody tr th:only-of-type {\n",
       "        vertical-align: middle;\n",
       "    }\n",
       "\n",
       "    .dataframe tbody tr th {\n",
       "        vertical-align: top;\n",
       "    }\n",
       "\n",
       "    .dataframe thead th {\n",
       "        text-align: right;\n",
       "    }\n",
       "</style>\n",
       "<table border=\"1\" class=\"dataframe\">\n",
       "  <thead>\n",
       "    <tr style=\"text-align: right;\">\n",
       "      <th></th>\n",
       "      <th>0</th>\n",
       "      <th>1</th>\n",
       "      <th>2</th>\n",
       "    </tr>\n",
       "  </thead>\n",
       "  <tbody>\n",
       "    <tr>\n",
       "      <th>0</th>\n",
       "      <td>-0.281886</td>\n",
       "      <td>-0.954739</td>\n",
       "      <td>0.381717</td>\n",
       "    </tr>\n",
       "    <tr>\n",
       "      <th>1</th>\n",
       "      <td>-1.508087</td>\n",
       "      <td>0.984857</td>\n",
       "      <td>-0.438893</td>\n",
       "    </tr>\n",
       "    <tr>\n",
       "      <th>2</th>\n",
       "      <td>1.129132</td>\n",
       "      <td>0.439207</td>\n",
       "      <td>-1.480781</td>\n",
       "    </tr>\n",
       "    <tr>\n",
       "      <th>3</th>\n",
       "      <td>-1.555394</td>\n",
       "      <td>-0.935657</td>\n",
       "      <td>0.570194</td>\n",
       "    </tr>\n",
       "    <tr>\n",
       "      <th>4</th>\n",
       "      <td>0.263456</td>\n",
       "      <td>0.716205</td>\n",
       "      <td>-0.014434</td>\n",
       "    </tr>\n",
       "    <tr>\n",
       "      <th>...</th>\n",
       "      <td>...</td>\n",
       "      <td>...</td>\n",
       "      <td>...</td>\n",
       "    </tr>\n",
       "    <tr>\n",
       "      <th>560621</th>\n",
       "      <td>2.723442</td>\n",
       "      <td>-0.517490</td>\n",
       "      <td>1.083444</td>\n",
       "    </tr>\n",
       "    <tr>\n",
       "      <th>560622</th>\n",
       "      <td>-0.503595</td>\n",
       "      <td>0.086827</td>\n",
       "      <td>0.214320</td>\n",
       "    </tr>\n",
       "    <tr>\n",
       "      <th>560623</th>\n",
       "      <td>-2.464391</td>\n",
       "      <td>1.173674</td>\n",
       "      <td>-0.539030</td>\n",
       "    </tr>\n",
       "    <tr>\n",
       "      <th>560624</th>\n",
       "      <td>2.345588</td>\n",
       "      <td>-0.731864</td>\n",
       "      <td>0.196930</td>\n",
       "    </tr>\n",
       "    <tr>\n",
       "      <th>560625</th>\n",
       "      <td>1.790942</td>\n",
       "      <td>1.846238</td>\n",
       "      <td>-0.028493</td>\n",
       "    </tr>\n",
       "  </tbody>\n",
       "</table>\n",
       "<p>560626 rows × 3 columns</p>\n",
       "</div>"
      ],
      "text/plain": [
       "               0         1         2\n",
       "0      -0.281886 -0.954739  0.381717\n",
       "1      -1.508087  0.984857 -0.438893\n",
       "2       1.129132  0.439207 -1.480781\n",
       "3      -1.555394 -0.935657  0.570194\n",
       "4       0.263456  0.716205 -0.014434\n",
       "...          ...       ...       ...\n",
       "560621  2.723442 -0.517490  1.083444\n",
       "560622 -0.503595  0.086827  0.214320\n",
       "560623 -2.464391  1.173674 -0.539030\n",
       "560624  2.345588 -0.731864  0.196930\n",
       "560625  1.790942  1.846238 -0.028493\n",
       "\n",
       "[560626 rows x 3 columns]"
      ]
     },
     "execution_count": 34,
     "metadata": {},
     "output_type": "execute_result"
    }
   ],
   "source": [
    "componentesprincipales_seccion_4_3 = pd.DataFrame(componentesprincipales)\n",
    "componentesprincipales_seccion_4_3"
   ]
  },
  {
   "cell_type": "markdown",
   "metadata": {},
   "source": [
    "- 4.4. Cuando tienes que tomar una decisión, ¿con qué frecuencia realizas lo siguiente? "
   ]
  },
  {
   "cell_type": "code",
   "execution_count": 35,
   "metadata": {},
   "outputs": [],
   "source": [
    "np.random.seed(150) ###Se define la semilla para la reproducibilidad de los resultados\n",
    "\n",
    "seccion_4_4 = df.loc[:, ['p41', 'p42', 'p43', 'p44', 'p45', 'p46', 'p47', 'p48', 'p49', 'p50',\n",
    "                      'p51', 'p52', 'p53', 'p54', 'p55', 'p56']] ###Se seleccionan las preguntas que conforman esta sección"
   ]
  },
  {
   "cell_type": "code",
   "execution_count": 36,
   "metadata": {},
   "outputs": [],
   "source": [
    "####Se escalan los datos.\n",
    "scaler = preprocessing.StandardScaler()\n",
    "\n",
    "seccion_4_4 = pd.DataFrame(scaler.fit_transform(seccion_4_4))"
   ]
  },
  {
   "cell_type": "code",
   "execution_count": 37,
   "metadata": {},
   "outputs": [],
   "source": [
    "####Se obtienen los atributos que conforman la función componentes_principales \n",
    "pca, varianza_explicada, componentesprincipales, val_sing, pca.components_, eigenvalues = PCA_from_sklearn.componentes_principales(seccion_4_4)"
   ]
  },
  {
   "cell_type": "code",
   "execution_count": 38,
   "metadata": {},
   "outputs": [],
   "source": [
    "componentes = pd.DataFrame(pca.components_.T, index=['p41', 'p42', 'p43', 'p44', 'p45', 'p46', 'p47', 'p48', 'p49', 'p50',\n",
    "                      'p51', 'p52', 'p53', 'p54', 'p55', 'p56'])"
   ]
  },
  {
   "cell_type": "code",
   "execution_count": 39,
   "metadata": {},
   "outputs": [
    {
     "data": {
      "text/html": [
       "<div>\n",
       "<style scoped>\n",
       "    .dataframe tbody tr th:only-of-type {\n",
       "        vertical-align: middle;\n",
       "    }\n",
       "\n",
       "    .dataframe tbody tr th {\n",
       "        vertical-align: top;\n",
       "    }\n",
       "\n",
       "    .dataframe thead th {\n",
       "        text-align: right;\n",
       "    }\n",
       "</style>\n",
       "<table border=\"1\" class=\"dataframe\">\n",
       "  <thead>\n",
       "    <tr style=\"text-align: right;\">\n",
       "      <th></th>\n",
       "      <th>principal_component_1</th>\n",
       "      <th>principal_component_2</th>\n",
       "      <th>principal_component_3</th>\n",
       "      <th>principal_component_4</th>\n",
       "      <th>principal_component_5</th>\n",
       "      <th>principal_component_6</th>\n",
       "    </tr>\n",
       "  </thead>\n",
       "  <tbody>\n",
       "    <tr>\n",
       "      <th>p41</th>\n",
       "      <td>-0.093297</td>\n",
       "      <td>-0.484718</td>\n",
       "      <td>0.012643</td>\n",
       "      <td>0.183358</td>\n",
       "      <td>-0.002645</td>\n",
       "      <td>-0.041707</td>\n",
       "    </tr>\n",
       "    <tr>\n",
       "      <th>p42</th>\n",
       "      <td>-0.077733</td>\n",
       "      <td>-0.507544</td>\n",
       "      <td>0.007779</td>\n",
       "      <td>0.156653</td>\n",
       "      <td>-0.049447</td>\n",
       "      <td>-0.025999</td>\n",
       "    </tr>\n",
       "    <tr>\n",
       "      <th>p43</th>\n",
       "      <td>-0.082770</td>\n",
       "      <td>-0.474760</td>\n",
       "      <td>0.022953</td>\n",
       "      <td>0.054580</td>\n",
       "      <td>-0.121101</td>\n",
       "      <td>-0.016339</td>\n",
       "    </tr>\n",
       "    <tr>\n",
       "      <th>p44</th>\n",
       "      <td>-0.117975</td>\n",
       "      <td>-0.445595</td>\n",
       "      <td>-0.034594</td>\n",
       "      <td>-0.136049</td>\n",
       "      <td>-0.030603</td>\n",
       "      <td>0.033303</td>\n",
       "    </tr>\n",
       "    <tr>\n",
       "      <th>p45</th>\n",
       "      <td>0.135970</td>\n",
       "      <td>-0.196407</td>\n",
       "      <td>0.144808</td>\n",
       "      <td>-0.847575</td>\n",
       "      <td>-0.034953</td>\n",
       "      <td>0.189708</td>\n",
       "    </tr>\n",
       "    <tr>\n",
       "      <th>p46</th>\n",
       "      <td>0.271874</td>\n",
       "      <td>-0.022436</td>\n",
       "      <td>0.482993</td>\n",
       "      <td>-0.015845</td>\n",
       "      <td>0.132269</td>\n",
       "      <td>-0.285033</td>\n",
       "    </tr>\n",
       "    <tr>\n",
       "      <th>p47</th>\n",
       "      <td>0.288919</td>\n",
       "      <td>-0.025086</td>\n",
       "      <td>0.263688</td>\n",
       "      <td>-0.164243</td>\n",
       "      <td>0.022856</td>\n",
       "      <td>-0.109927</td>\n",
       "    </tr>\n",
       "    <tr>\n",
       "      <th>p48</th>\n",
       "      <td>0.255210</td>\n",
       "      <td>-0.073081</td>\n",
       "      <td>0.487855</td>\n",
       "      <td>0.195977</td>\n",
       "      <td>0.126050</td>\n",
       "      <td>-0.280023</td>\n",
       "    </tr>\n",
       "    <tr>\n",
       "      <th>p49</th>\n",
       "      <td>0.316425</td>\n",
       "      <td>-0.059288</td>\n",
       "      <td>0.168224</td>\n",
       "      <td>0.269850</td>\n",
       "      <td>0.018583</td>\n",
       "      <td>0.366563</td>\n",
       "    </tr>\n",
       "    <tr>\n",
       "      <th>p50</th>\n",
       "      <td>0.322587</td>\n",
       "      <td>-0.081334</td>\n",
       "      <td>-0.028065</td>\n",
       "      <td>0.145915</td>\n",
       "      <td>-0.091086</td>\n",
       "      <td>0.550718</td>\n",
       "    </tr>\n",
       "    <tr>\n",
       "      <th>p51</th>\n",
       "      <td>0.345181</td>\n",
       "      <td>0.017972</td>\n",
       "      <td>-0.024412</td>\n",
       "      <td>0.095464</td>\n",
       "      <td>-0.092499</td>\n",
       "      <td>0.364064</td>\n",
       "    </tr>\n",
       "    <tr>\n",
       "      <th>p52</th>\n",
       "      <td>0.264506</td>\n",
       "      <td>0.000847</td>\n",
       "      <td>-0.188579</td>\n",
       "      <td>-0.161200</td>\n",
       "      <td>-0.268688</td>\n",
       "      <td>-0.110768</td>\n",
       "    </tr>\n",
       "    <tr>\n",
       "      <th>p53</th>\n",
       "      <td>0.333248</td>\n",
       "      <td>-0.063539</td>\n",
       "      <td>-0.279881</td>\n",
       "      <td>0.059511</td>\n",
       "      <td>-0.213005</td>\n",
       "      <td>-0.281006</td>\n",
       "    </tr>\n",
       "    <tr>\n",
       "      <th>p54</th>\n",
       "      <td>0.320647</td>\n",
       "      <td>-0.049802</td>\n",
       "      <td>-0.319190</td>\n",
       "      <td>0.020611</td>\n",
       "      <td>-0.170789</td>\n",
       "      <td>-0.319474</td>\n",
       "    </tr>\n",
       "    <tr>\n",
       "      <th>p55</th>\n",
       "      <td>0.303126</td>\n",
       "      <td>-0.073655</td>\n",
       "      <td>-0.311945</td>\n",
       "      <td>-0.020824</td>\n",
       "      <td>0.088994</td>\n",
       "      <td>-0.155171</td>\n",
       "    </tr>\n",
       "    <tr>\n",
       "      <th>p56</th>\n",
       "      <td>0.156269</td>\n",
       "      <td>-0.126684</td>\n",
       "      <td>-0.305778</td>\n",
       "      <td>-0.052205</td>\n",
       "      <td>0.880322</td>\n",
       "      <td>0.030036</td>\n",
       "    </tr>\n",
       "  </tbody>\n",
       "</table>\n",
       "</div>"
      ],
      "text/plain": [
       "     principal_component_1  principal_component_2  principal_component_3  \\\n",
       "p41              -0.093297              -0.484718               0.012643   \n",
       "p42              -0.077733              -0.507544               0.007779   \n",
       "p43              -0.082770              -0.474760               0.022953   \n",
       "p44              -0.117975              -0.445595              -0.034594   \n",
       "p45               0.135970              -0.196407               0.144808   \n",
       "p46               0.271874              -0.022436               0.482993   \n",
       "p47               0.288919              -0.025086               0.263688   \n",
       "p48               0.255210              -0.073081               0.487855   \n",
       "p49               0.316425              -0.059288               0.168224   \n",
       "p50               0.322587              -0.081334              -0.028065   \n",
       "p51               0.345181               0.017972              -0.024412   \n",
       "p52               0.264506               0.000847              -0.188579   \n",
       "p53               0.333248              -0.063539              -0.279881   \n",
       "p54               0.320647              -0.049802              -0.319190   \n",
       "p55               0.303126              -0.073655              -0.311945   \n",
       "p56               0.156269              -0.126684              -0.305778   \n",
       "\n",
       "     principal_component_4  principal_component_5  principal_component_6  \n",
       "p41               0.183358              -0.002645              -0.041707  \n",
       "p42               0.156653              -0.049447              -0.025999  \n",
       "p43               0.054580              -0.121101              -0.016339  \n",
       "p44              -0.136049              -0.030603               0.033303  \n",
       "p45              -0.847575              -0.034953               0.189708  \n",
       "p46              -0.015845               0.132269              -0.285033  \n",
       "p47              -0.164243               0.022856              -0.109927  \n",
       "p48               0.195977               0.126050              -0.280023  \n",
       "p49               0.269850               0.018583               0.366563  \n",
       "p50               0.145915              -0.091086               0.550718  \n",
       "p51               0.095464              -0.092499               0.364064  \n",
       "p52              -0.161200              -0.268688              -0.110768  \n",
       "p53               0.059511              -0.213005              -0.281006  \n",
       "p54               0.020611              -0.170789              -0.319474  \n",
       "p55              -0.020824               0.088994              -0.155171  \n",
       "p56              -0.052205               0.880322               0.030036  "
      ]
     },
     "execution_count": 39,
     "metadata": {},
     "output_type": "execute_result"
    }
   ],
   "source": [
    "####Se eligieron seis componentes principales, por lo que a continuación se muestran los ejes principales que representan las direcciones de máxima varianza en los datos\n",
    "componentes = componentes.rename(columns={'index': 'preguntas', 0:'principal_component_1', 1:'principal_component_2', 2:'principal_component_3', \n",
    "                                         3:'principal_component_4', 4:'principal_component_5', 5:'principal_component_6'})\n",
    "componentes"
   ]
  },
  {
   "cell_type": "code",
   "execution_count": 40,
   "metadata": {},
   "outputs": [
    {
     "data": {
      "text/plain": [
       "array([0.25370117, 0.15133278, 0.07891853, 0.05810544, 0.05522506,\n",
       "       0.05009503])"
      ]
     },
     "execution_count": 40,
     "metadata": {},
     "output_type": "execute_result"
    }
   ],
   "source": [
    "varianza_explicada"
   ]
  },
  {
   "cell_type": "markdown",
   "metadata": {},
   "source": [
    "Para el primer componente principal se asocian las preguntas 51 y 53, la pregunta 51 se asocia al segundo componente principal, la pregunta 46 y 48 se asocial al tercer componente principal, la pregunta 49 se asocia al cuarto componente principal, la pregunta 56 se asocia al quinto componente principal y por último, la pregunta 50 se asocia al sexto componente principal. La varianza explicada para cada uno de los componentes principales es de 25.37%, 15.13%, 7.89%, 5.81%, 5.52% y 5.01%, respectivamente."
   ]
  },
  {
   "cell_type": "markdown",
   "metadata": {},
   "source": [
    "- A continuación se observa que únicamente 3 eigenvalues son mayores a 1."
   ]
  },
  {
   "cell_type": "code",
   "execution_count": 41,
   "metadata": {},
   "outputs": [
    {
     "data": {
      "text/plain": [
       "array([4.05922595, 2.42132877, 1.26269872, 0.92968875, 0.88360258,\n",
       "       0.80152195])"
      ]
     },
     "execution_count": 41,
     "metadata": {},
     "output_type": "execute_result"
    }
   ],
   "source": [
    "eigenvalues"
   ]
  },
  {
   "cell_type": "markdown",
   "metadata": {},
   "source": [
    "- Se obtienen los componentes principales que son los que se meteran a la regresión."
   ]
  },
  {
   "cell_type": "code",
   "execution_count": 42,
   "metadata": {},
   "outputs": [
    {
     "data": {
      "text/html": [
       "<div>\n",
       "<style scoped>\n",
       "    .dataframe tbody tr th:only-of-type {\n",
       "        vertical-align: middle;\n",
       "    }\n",
       "\n",
       "    .dataframe tbody tr th {\n",
       "        vertical-align: top;\n",
       "    }\n",
       "\n",
       "    .dataframe thead th {\n",
       "        text-align: right;\n",
       "    }\n",
       "</style>\n",
       "<table border=\"1\" class=\"dataframe\">\n",
       "  <thead>\n",
       "    <tr style=\"text-align: right;\">\n",
       "      <th></th>\n",
       "      <th>0</th>\n",
       "      <th>1</th>\n",
       "      <th>2</th>\n",
       "      <th>3</th>\n",
       "      <th>4</th>\n",
       "      <th>5</th>\n",
       "    </tr>\n",
       "  </thead>\n",
       "  <tbody>\n",
       "    <tr>\n",
       "      <th>0</th>\n",
       "      <td>-0.751822</td>\n",
       "      <td>-0.670241</td>\n",
       "      <td>-0.712069</td>\n",
       "      <td>-0.392792</td>\n",
       "      <td>-0.014749</td>\n",
       "      <td>-0.624745</td>\n",
       "    </tr>\n",
       "    <tr>\n",
       "      <th>1</th>\n",
       "      <td>-0.018447</td>\n",
       "      <td>-0.246731</td>\n",
       "      <td>0.443421</td>\n",
       "      <td>-0.358973</td>\n",
       "      <td>-0.420004</td>\n",
       "      <td>0.503786</td>\n",
       "    </tr>\n",
       "    <tr>\n",
       "      <th>2</th>\n",
       "      <td>0.637087</td>\n",
       "      <td>1.068688</td>\n",
       "      <td>0.809777</td>\n",
       "      <td>0.075249</td>\n",
       "      <td>-0.299770</td>\n",
       "      <td>-1.898115</td>\n",
       "    </tr>\n",
       "    <tr>\n",
       "      <th>3</th>\n",
       "      <td>-0.579509</td>\n",
       "      <td>1.381914</td>\n",
       "      <td>1.186150</td>\n",
       "      <td>0.820790</td>\n",
       "      <td>0.421591</td>\n",
       "      <td>0.235735</td>\n",
       "    </tr>\n",
       "    <tr>\n",
       "      <th>4</th>\n",
       "      <td>0.590726</td>\n",
       "      <td>-0.127315</td>\n",
       "      <td>0.604520</td>\n",
       "      <td>0.661742</td>\n",
       "      <td>-0.451740</td>\n",
       "      <td>-0.434929</td>\n",
       "    </tr>\n",
       "    <tr>\n",
       "      <th>...</th>\n",
       "      <td>...</td>\n",
       "      <td>...</td>\n",
       "      <td>...</td>\n",
       "      <td>...</td>\n",
       "      <td>...</td>\n",
       "      <td>...</td>\n",
       "    </tr>\n",
       "    <tr>\n",
       "      <th>560621</th>\n",
       "      <td>2.729790</td>\n",
       "      <td>1.187233</td>\n",
       "      <td>0.723093</td>\n",
       "      <td>-0.940091</td>\n",
       "      <td>-0.496617</td>\n",
       "      <td>-1.257455</td>\n",
       "    </tr>\n",
       "    <tr>\n",
       "      <th>560622</th>\n",
       "      <td>0.281670</td>\n",
       "      <td>1.509833</td>\n",
       "      <td>-0.115315</td>\n",
       "      <td>0.135614</td>\n",
       "      <td>0.795303</td>\n",
       "      <td>0.666997</td>\n",
       "    </tr>\n",
       "    <tr>\n",
       "      <th>560623</th>\n",
       "      <td>-0.842480</td>\n",
       "      <td>-1.880479</td>\n",
       "      <td>1.798957</td>\n",
       "      <td>1.343685</td>\n",
       "      <td>-0.847550</td>\n",
       "      <td>-1.893355</td>\n",
       "    </tr>\n",
       "    <tr>\n",
       "      <th>560624</th>\n",
       "      <td>0.030541</td>\n",
       "      <td>0.822774</td>\n",
       "      <td>-0.904205</td>\n",
       "      <td>-0.614341</td>\n",
       "      <td>0.800378</td>\n",
       "      <td>1.942547</td>\n",
       "    </tr>\n",
       "    <tr>\n",
       "      <th>560625</th>\n",
       "      <td>-1.184392</td>\n",
       "      <td>-1.002625</td>\n",
       "      <td>2.217696</td>\n",
       "      <td>1.246987</td>\n",
       "      <td>-0.830297</td>\n",
       "      <td>0.444196</td>\n",
       "    </tr>\n",
       "  </tbody>\n",
       "</table>\n",
       "<p>560626 rows × 6 columns</p>\n",
       "</div>"
      ],
      "text/plain": [
       "               0         1         2         3         4         5\n",
       "0      -0.751822 -0.670241 -0.712069 -0.392792 -0.014749 -0.624745\n",
       "1      -0.018447 -0.246731  0.443421 -0.358973 -0.420004  0.503786\n",
       "2       0.637087  1.068688  0.809777  0.075249 -0.299770 -1.898115\n",
       "3      -0.579509  1.381914  1.186150  0.820790  0.421591  0.235735\n",
       "4       0.590726 -0.127315  0.604520  0.661742 -0.451740 -0.434929\n",
       "...          ...       ...       ...       ...       ...       ...\n",
       "560621  2.729790  1.187233  0.723093 -0.940091 -0.496617 -1.257455\n",
       "560622  0.281670  1.509833 -0.115315  0.135614  0.795303  0.666997\n",
       "560623 -0.842480 -1.880479  1.798957  1.343685 -0.847550 -1.893355\n",
       "560624  0.030541  0.822774 -0.904205 -0.614341  0.800378  1.942547\n",
       "560625 -1.184392 -1.002625  2.217696  1.246987 -0.830297  0.444196\n",
       "\n",
       "[560626 rows x 6 columns]"
      ]
     },
     "execution_count": 42,
     "metadata": {},
     "output_type": "execute_result"
    }
   ],
   "source": [
    "componentesprincipales_seccion_4_4 = pd.DataFrame(componentesprincipales)\n",
    "componentesprincipales_seccion_4_4"
   ]
  },
  {
   "cell_type": "markdown",
   "metadata": {},
   "source": [
    "##### Sección 5. Inglés y cómputo."
   ]
  },
  {
   "cell_type": "markdown",
   "metadata": {},
   "source": [
    "- 5.1. Califica tu nivel de habilidad para leer en inglés."
   ]
  },
  {
   "cell_type": "code",
   "execution_count": 43,
   "metadata": {},
   "outputs": [],
   "source": [
    "np.random.seed(150) ###Se define la semilla para la reproducibilidad de los resultados\n",
    "\n",
    "seccion_5_1 = df.loc[:, ['p57', 'p58', 'p59', 'p60']] ###Se seleccionan las preguntas que conforman esta sección"
   ]
  },
  {
   "cell_type": "code",
   "execution_count": 44,
   "metadata": {},
   "outputs": [],
   "source": [
    "####Se escalan los datos.\n",
    "scaler = preprocessing.StandardScaler()\n",
    "\n",
    "seccion_5_1 = pd.DataFrame(scaler.fit_transform(seccion_5_1))"
   ]
  },
  {
   "cell_type": "code",
   "execution_count": 45,
   "metadata": {},
   "outputs": [],
   "source": [
    "####Se obtienen los atributos que conforman la función componentes_principales \n",
    "pca, varianza_explicada, componentesprincipales, val_sing, pca.components_, eigenvalues = PCA_from_sklearn.componentes_principales(seccion_5_1)"
   ]
  },
  {
   "cell_type": "code",
   "execution_count": 46,
   "metadata": {},
   "outputs": [],
   "source": [
    "componentes = pd.DataFrame(pca.components_.T, index=['p57', 'p58', 'p59', 'p60'])"
   ]
  },
  {
   "cell_type": "code",
   "execution_count": 47,
   "metadata": {},
   "outputs": [
    {
     "data": {
      "text/html": [
       "<div>\n",
       "<style scoped>\n",
       "    .dataframe tbody tr th:only-of-type {\n",
       "        vertical-align: middle;\n",
       "    }\n",
       "\n",
       "    .dataframe tbody tr th {\n",
       "        vertical-align: top;\n",
       "    }\n",
       "\n",
       "    .dataframe thead th {\n",
       "        text-align: right;\n",
       "    }\n",
       "</style>\n",
       "<table border=\"1\" class=\"dataframe\">\n",
       "  <thead>\n",
       "    <tr style=\"text-align: right;\">\n",
       "      <th></th>\n",
       "      <th>principal_component_1</th>\n",
       "    </tr>\n",
       "  </thead>\n",
       "  <tbody>\n",
       "    <tr>\n",
       "      <th>p57</th>\n",
       "      <td>0.506117</td>\n",
       "    </tr>\n",
       "    <tr>\n",
       "      <th>p58</th>\n",
       "      <td>0.517654</td>\n",
       "    </tr>\n",
       "    <tr>\n",
       "      <th>p59</th>\n",
       "      <td>0.488779</td>\n",
       "    </tr>\n",
       "    <tr>\n",
       "      <th>p60</th>\n",
       "      <td>0.486801</td>\n",
       "    </tr>\n",
       "  </tbody>\n",
       "</table>\n",
       "</div>"
      ],
      "text/plain": [
       "     principal_component_1\n",
       "p57               0.506117\n",
       "p58               0.517654\n",
       "p59               0.488779\n",
       "p60               0.486801"
      ]
     },
     "execution_count": 47,
     "metadata": {},
     "output_type": "execute_result"
    }
   ],
   "source": [
    "####Se eligieron un componente principal, por lo que a continuación se muestran los ejes principales que representan las direcciones de máxima varianza en los datos\n",
    "componentes = componentes.rename(columns={'index': 'preguntas', 0:'principal_component_1', 1:'principal_component_2'})\n",
    "componentes"
   ]
  },
  {
   "cell_type": "code",
   "execution_count": 48,
   "metadata": {},
   "outputs": [
    {
     "data": {
      "text/plain": [
       "array([0.74731825])"
      ]
     },
     "execution_count": 48,
     "metadata": {},
     "output_type": "execute_result"
    }
   ],
   "source": [
    "varianza_explicada"
   ]
  },
  {
   "cell_type": "markdown",
   "metadata": {},
   "source": [
    "Para el primer componente principal se asocian la preguntas 57 y 58. El porcentaje de varianza explicada para el primer componentes es de 74.73%."
   ]
  },
  {
   "cell_type": "markdown",
   "metadata": {},
   "source": [
    "- El eigenvalue asociado a este componente principal es mayor a 1."
   ]
  },
  {
   "cell_type": "code",
   "execution_count": 49,
   "metadata": {},
   "outputs": [
    {
     "data": {
      "text/plain": [
       "array([2.98927833])"
      ]
     },
     "execution_count": 49,
     "metadata": {},
     "output_type": "execute_result"
    }
   ],
   "source": [
    "eigenvalues"
   ]
  },
  {
   "cell_type": "markdown",
   "metadata": {},
   "source": [
    "- Se obtienen los componentes principales que son los que se meteran a la regresión."
   ]
  },
  {
   "cell_type": "code",
   "execution_count": 50,
   "metadata": {},
   "outputs": [
    {
     "data": {
      "text/html": [
       "<div>\n",
       "<style scoped>\n",
       "    .dataframe tbody tr th:only-of-type {\n",
       "        vertical-align: middle;\n",
       "    }\n",
       "\n",
       "    .dataframe tbody tr th {\n",
       "        vertical-align: top;\n",
       "    }\n",
       "\n",
       "    .dataframe thead th {\n",
       "        text-align: right;\n",
       "    }\n",
       "</style>\n",
       "<table border=\"1\" class=\"dataframe\">\n",
       "  <thead>\n",
       "    <tr style=\"text-align: right;\">\n",
       "      <th></th>\n",
       "      <th>0</th>\n",
       "    </tr>\n",
       "  </thead>\n",
       "  <tbody>\n",
       "    <tr>\n",
       "      <th>0</th>\n",
       "      <td>-3.012403</td>\n",
       "    </tr>\n",
       "    <tr>\n",
       "      <th>1</th>\n",
       "      <td>1.329468</td>\n",
       "    </tr>\n",
       "    <tr>\n",
       "      <th>2</th>\n",
       "      <td>-1.121389</td>\n",
       "    </tr>\n",
       "    <tr>\n",
       "      <th>3</th>\n",
       "      <td>-1.763936</td>\n",
       "    </tr>\n",
       "    <tr>\n",
       "      <th>4</th>\n",
       "      <td>-0.536424</td>\n",
       "    </tr>\n",
       "    <tr>\n",
       "      <th>...</th>\n",
       "      <td>...</td>\n",
       "    </tr>\n",
       "    <tr>\n",
       "      <th>560621</th>\n",
       "      <td>-2.402316</td>\n",
       "    </tr>\n",
       "    <tr>\n",
       "      <th>560622</th>\n",
       "      <td>-0.536424</td>\n",
       "    </tr>\n",
       "    <tr>\n",
       "      <th>560623</th>\n",
       "      <td>3.805447</td>\n",
       "    </tr>\n",
       "    <tr>\n",
       "      <th>560624</th>\n",
       "      <td>1.967849</td>\n",
       "    </tr>\n",
       "    <tr>\n",
       "      <th>560625</th>\n",
       "      <td>-2.402316</td>\n",
       "    </tr>\n",
       "  </tbody>\n",
       "</table>\n",
       "<p>560626 rows × 1 columns</p>\n",
       "</div>"
      ],
      "text/plain": [
       "               0\n",
       "0      -3.012403\n",
       "1       1.329468\n",
       "2      -1.121389\n",
       "3      -1.763936\n",
       "4      -0.536424\n",
       "...          ...\n",
       "560621 -2.402316\n",
       "560622 -0.536424\n",
       "560623  3.805447\n",
       "560624  1.967849\n",
       "560625 -2.402316\n",
       "\n",
       "[560626 rows x 1 columns]"
      ]
     },
     "execution_count": 50,
     "metadata": {},
     "output_type": "execute_result"
    }
   ],
   "source": [
    "componentesprincipales_seccion_5_1 = pd.DataFrame(componentesprincipales)\n",
    "componentesprincipales_seccion_5_1"
   ]
  },
  {
   "cell_type": "markdown",
   "metadata": {},
   "source": [
    "- 5.2. Con qué frecuencia realizas las siguientes actividades en la computadora"
   ]
  },
  {
   "cell_type": "code",
   "execution_count": 51,
   "metadata": {},
   "outputs": [],
   "source": [
    "np.random.seed(150) ###Se define la semilla para la reproducibilidad de los resultados\n",
    "\n",
    "seccion_5_2 = df.loc[:, ['p61', 'p62', 'p63', 'p64']] ###Se seleccionan las preguntas que conforman esta sección"
   ]
  },
  {
   "cell_type": "code",
   "execution_count": 52,
   "metadata": {},
   "outputs": [],
   "source": [
    "####Se escalan los datos.\n",
    "scaler = preprocessing.StandardScaler()\n",
    "\n",
    "seccion_5_2 = pd.DataFrame(scaler.fit_transform(seccion_5_2))"
   ]
  },
  {
   "cell_type": "code",
   "execution_count": 53,
   "metadata": {},
   "outputs": [],
   "source": [
    "####Se obtienen los atributos que conforman la función componentes_principales \n",
    "pca, varianza_explicada, componentesprincipales, val_sing, pca.components_, eigenvalues = PCA_from_sklearn.componentes_principales(seccion_5_2)"
   ]
  },
  {
   "cell_type": "code",
   "execution_count": 54,
   "metadata": {},
   "outputs": [],
   "source": [
    "componentes = pd.DataFrame(pca.components_.T, index=['p61', 'p62', 'p63', 'p64'])"
   ]
  },
  {
   "cell_type": "code",
   "execution_count": 55,
   "metadata": {},
   "outputs": [
    {
     "data": {
      "text/html": [
       "<div>\n",
       "<style scoped>\n",
       "    .dataframe tbody tr th:only-of-type {\n",
       "        vertical-align: middle;\n",
       "    }\n",
       "\n",
       "    .dataframe tbody tr th {\n",
       "        vertical-align: top;\n",
       "    }\n",
       "\n",
       "    .dataframe thead th {\n",
       "        text-align: right;\n",
       "    }\n",
       "</style>\n",
       "<table border=\"1\" class=\"dataframe\">\n",
       "  <thead>\n",
       "    <tr style=\"text-align: right;\">\n",
       "      <th></th>\n",
       "      <th>principal_component_1</th>\n",
       "      <th>principal_component_2</th>\n",
       "    </tr>\n",
       "  </thead>\n",
       "  <tbody>\n",
       "    <tr>\n",
       "      <th>p61</th>\n",
       "      <td>0.450106</td>\n",
       "      <td>-0.719827</td>\n",
       "    </tr>\n",
       "    <tr>\n",
       "      <th>p62</th>\n",
       "      <td>0.548978</td>\n",
       "      <td>-0.023552</td>\n",
       "    </tr>\n",
       "    <tr>\n",
       "      <th>p63</th>\n",
       "      <td>0.536229</td>\n",
       "      <td>0.038504</td>\n",
       "    </tr>\n",
       "    <tr>\n",
       "      <th>p64</th>\n",
       "      <td>0.456602</td>\n",
       "      <td>0.692684</td>\n",
       "    </tr>\n",
       "  </tbody>\n",
       "</table>\n",
       "</div>"
      ],
      "text/plain": [
       "     principal_component_1  principal_component_2\n",
       "p61               0.450106              -0.719827\n",
       "p62               0.548978              -0.023552\n",
       "p63               0.536229               0.038504\n",
       "p64               0.456602               0.692684"
      ]
     },
     "execution_count": 55,
     "metadata": {},
     "output_type": "execute_result"
    }
   ],
   "source": [
    "####Se eligieron dos componentes principales, por lo que a continuación se muestran los ejes principales que representan las direcciones de máxima varianza en los datos\n",
    "componentes = componentes.rename(columns={'index': 'preguntas', 0:'principal_component_1', 1:'principal_component_2'})\n",
    "componentes"
   ]
  },
  {
   "cell_type": "code",
   "execution_count": 56,
   "metadata": {},
   "outputs": [
    {
     "data": {
      "text/plain": [
       "array([0.59243727, 0.19244308])"
      ]
     },
     "execution_count": 56,
     "metadata": {},
     "output_type": "execute_result"
    }
   ],
   "source": [
    "varianza_explicada"
   ]
  },
  {
   "cell_type": "markdown",
   "metadata": {},
   "source": [
    "Para el primer componente principal se asocia la pregunta 62 y 63, mientras que para el segundo componente principal se asocia la pregunta 64. El porcentaje de varianza explicada para el primer componentes es de 59.24% y para el segundo componente principal es de 19.24%."
   ]
  },
  {
   "cell_type": "markdown",
   "metadata": {},
   "source": [
    "- Se observa que únicamente el primer eigenvalue asociado al primer componente principal es mayor a 1."
   ]
  },
  {
   "cell_type": "code",
   "execution_count": 57,
   "metadata": {},
   "outputs": [
    {
     "data": {
      "text/plain": [
       "array([2.36975333, 0.76977369])"
      ]
     },
     "execution_count": 57,
     "metadata": {},
     "output_type": "execute_result"
    }
   ],
   "source": [
    "eigenvalues"
   ]
  },
  {
   "cell_type": "markdown",
   "metadata": {},
   "source": [
    "- Se obtienen los componentes principales que son los que se meteran a la regresión."
   ]
  },
  {
   "cell_type": "code",
   "execution_count": 58,
   "metadata": {},
   "outputs": [
    {
     "data": {
      "text/html": [
       "<div>\n",
       "<style scoped>\n",
       "    .dataframe tbody tr th:only-of-type {\n",
       "        vertical-align: middle;\n",
       "    }\n",
       "\n",
       "    .dataframe tbody tr th {\n",
       "        vertical-align: top;\n",
       "    }\n",
       "\n",
       "    .dataframe thead th {\n",
       "        text-align: right;\n",
       "    }\n",
       "</style>\n",
       "<table border=\"1\" class=\"dataframe\">\n",
       "  <thead>\n",
       "    <tr style=\"text-align: right;\">\n",
       "      <th></th>\n",
       "      <th>0</th>\n",
       "      <th>1</th>\n",
       "    </tr>\n",
       "  </thead>\n",
       "  <tbody>\n",
       "    <tr>\n",
       "      <th>0</th>\n",
       "      <td>-0.686659</td>\n",
       "      <td>-1.686094</td>\n",
       "    </tr>\n",
       "    <tr>\n",
       "      <th>1</th>\n",
       "      <td>-0.710620</td>\n",
       "      <td>-0.395172</td>\n",
       "    </tr>\n",
       "    <tr>\n",
       "      <th>2</th>\n",
       "      <td>-0.596293</td>\n",
       "      <td>-1.027102</td>\n",
       "    </tr>\n",
       "    <tr>\n",
       "      <th>3</th>\n",
       "      <td>-0.696755</td>\n",
       "      <td>0.317548</td>\n",
       "    </tr>\n",
       "    <tr>\n",
       "      <th>4</th>\n",
       "      <td>-2.404186</td>\n",
       "      <td>0.325751</td>\n",
       "    </tr>\n",
       "    <tr>\n",
       "      <th>...</th>\n",
       "      <td>...</td>\n",
       "      <td>...</td>\n",
       "    </tr>\n",
       "    <tr>\n",
       "      <th>560621</th>\n",
       "      <td>-1.461989</td>\n",
       "      <td>-0.377540</td>\n",
       "    </tr>\n",
       "    <tr>\n",
       "      <th>560622</th>\n",
       "      <td>-1.022208</td>\n",
       "      <td>-0.345961</td>\n",
       "    </tr>\n",
       "    <tr>\n",
       "      <th>560623</th>\n",
       "      <td>-0.596293</td>\n",
       "      <td>-1.027102</td>\n",
       "    </tr>\n",
       "    <tr>\n",
       "      <th>560624</th>\n",
       "      <td>0.785685</td>\n",
       "      <td>-1.698813</td>\n",
       "    </tr>\n",
       "    <tr>\n",
       "      <th>560625</th>\n",
       "      <td>0.245442</td>\n",
       "      <td>-0.385742</td>\n",
       "    </tr>\n",
       "  </tbody>\n",
       "</table>\n",
       "<p>560626 rows × 2 columns</p>\n",
       "</div>"
      ],
      "text/plain": [
       "               0         1\n",
       "0      -0.686659 -1.686094\n",
       "1      -0.710620 -0.395172\n",
       "2      -0.596293 -1.027102\n",
       "3      -0.696755  0.317548\n",
       "4      -2.404186  0.325751\n",
       "...          ...       ...\n",
       "560621 -1.461989 -0.377540\n",
       "560622 -1.022208 -0.345961\n",
       "560623 -0.596293 -1.027102\n",
       "560624  0.785685 -1.698813\n",
       "560625  0.245442 -0.385742\n",
       "\n",
       "[560626 rows x 2 columns]"
      ]
     },
     "execution_count": 58,
     "metadata": {},
     "output_type": "execute_result"
    }
   ],
   "source": [
    "componentesprincipales_seccion_5_2 = pd.DataFrame(componentesprincipales)\n",
    "componentesprincipales_seccion_5_2"
   ]
  },
  {
   "cell_type": "markdown",
   "metadata": {},
   "source": [
    "##### Sección 7. Trayectoria académica"
   ]
  },
  {
   "cell_type": "markdown",
   "metadata": {},
   "source": [
    "- 7.1. Primaria y secundaria"
   ]
  },
  {
   "cell_type": "code",
   "execution_count": 59,
   "metadata": {},
   "outputs": [],
   "source": [
    "np.random.seed(150) ###Se define la semilla para la reproducibilidad de los resultados\n",
    "\n",
    "seccion_7_1 = df.loc[:, ['p67', 'p68', 'p69', 'p70', 'p71']] ###Se seleccionan las preguntas que conforman esta sección"
   ]
  },
  {
   "cell_type": "code",
   "execution_count": 60,
   "metadata": {},
   "outputs": [],
   "source": [
    "####Se escalan los datos.\n",
    "scaler = preprocessing.StandardScaler()\n",
    "\n",
    "seccion_7_1 = pd.DataFrame(scaler.fit_transform(seccion_7_1))"
   ]
  },
  {
   "cell_type": "code",
   "execution_count": 61,
   "metadata": {},
   "outputs": [],
   "source": [
    "####Se obtienen los atributos que conforman la función componentes_principales \n",
    "pca, varianza_explicada, componentesprincipales, val_sing, pca.components_, eigenvalues = PCA_from_sklearn.componentes_principales(seccion_7_1)"
   ]
  },
  {
   "cell_type": "code",
   "execution_count": 62,
   "metadata": {},
   "outputs": [],
   "source": [
    "componentes = pd.DataFrame(pca.components_.T, index=['p67', 'p68', 'p69', 'p70', 'p71'])"
   ]
  },
  {
   "cell_type": "code",
   "execution_count": 63,
   "metadata": {},
   "outputs": [
    {
     "data": {
      "text/html": [
       "<div>\n",
       "<style scoped>\n",
       "    .dataframe tbody tr th:only-of-type {\n",
       "        vertical-align: middle;\n",
       "    }\n",
       "\n",
       "    .dataframe tbody tr th {\n",
       "        vertical-align: top;\n",
       "    }\n",
       "\n",
       "    .dataframe thead th {\n",
       "        text-align: right;\n",
       "    }\n",
       "</style>\n",
       "<table border=\"1\" class=\"dataframe\">\n",
       "  <thead>\n",
       "    <tr style=\"text-align: right;\">\n",
       "      <th></th>\n",
       "      <th>principal_component_1</th>\n",
       "      <th>principal_component_2</th>\n",
       "      <th>principal_component_3</th>\n",
       "    </tr>\n",
       "  </thead>\n",
       "  <tbody>\n",
       "    <tr>\n",
       "      <th>p67</th>\n",
       "      <td>0.045094</td>\n",
       "      <td>0.748319</td>\n",
       "      <td>0.259472</td>\n",
       "    </tr>\n",
       "    <tr>\n",
       "      <th>p68</th>\n",
       "      <td>-0.665152</td>\n",
       "      <td>-0.071458</td>\n",
       "      <td>0.201885</td>\n",
       "    </tr>\n",
       "    <tr>\n",
       "      <th>p69</th>\n",
       "      <td>0.241351</td>\n",
       "      <td>-0.647058</td>\n",
       "      <td>0.378957</td>\n",
       "    </tr>\n",
       "    <tr>\n",
       "      <th>p70</th>\n",
       "      <td>0.298964</td>\n",
       "      <td>0.108741</td>\n",
       "      <td>0.801152</td>\n",
       "    </tr>\n",
       "    <tr>\n",
       "      <th>p71</th>\n",
       "      <td>-0.638678</td>\n",
       "      <td>-0.066361</td>\n",
       "      <td>0.326289</td>\n",
       "    </tr>\n",
       "  </tbody>\n",
       "</table>\n",
       "</div>"
      ],
      "text/plain": [
       "     principal_component_1  principal_component_2  principal_component_3\n",
       "p67               0.045094               0.748319               0.259472\n",
       "p68              -0.665152              -0.071458               0.201885\n",
       "p69               0.241351              -0.647058               0.378957\n",
       "p70               0.298964               0.108741               0.801152\n",
       "p71              -0.638678              -0.066361               0.326289"
      ]
     },
     "execution_count": 63,
     "metadata": {},
     "output_type": "execute_result"
    }
   ],
   "source": [
    "####Se eligieron tres componentes principales, por lo que a continuación se muestran los ejes principales que representan las direcciones de máxima varianza en los datos\n",
    "componentes = componentes.rename(columns={'index': 'preguntas', 0:'principal_component_1', 1:'principal_component_2', 2:'principal_component_3'})\n",
    "componentes"
   ]
  },
  {
   "cell_type": "code",
   "execution_count": 64,
   "metadata": {},
   "outputs": [
    {
     "data": {
      "text/plain": [
       "array([0.33720904, 0.2575904 , 0.21631804])"
      ]
     },
     "execution_count": 64,
     "metadata": {},
     "output_type": "execute_result"
    }
   ],
   "source": [
    "varianza_explicada"
   ]
  },
  {
   "cell_type": "markdown",
   "metadata": {},
   "source": [
    "Para el primer componente principal se asocian las preguntas 69 y 70, para el segundo componente principal se asocia la pregunta 67 y para el tercer componente principal se asocia la pregunta 70. La varianza explicada para cada uno de los componentes principales es de 33.72%, 25.76% y 21.63%, respectivamente."
   ]
  },
  {
   "cell_type": "markdown",
   "metadata": {},
   "source": [
    "- Se observa que los tres eigenvalues asociados a los componentes principales son mayores a 1."
   ]
  },
  {
   "cell_type": "code",
   "execution_count": 65,
   "metadata": {},
   "outputs": [
    {
     "data": {
      "text/plain": [
       "array([1.68604821, 1.28795431, 1.08159214])"
      ]
     },
     "execution_count": 65,
     "metadata": {},
     "output_type": "execute_result"
    }
   ],
   "source": [
    "eigenvalues"
   ]
  },
  {
   "cell_type": "markdown",
   "metadata": {},
   "source": [
    "- Se obtienen los componentes principales que son los que se meteran a la regresión."
   ]
  },
  {
   "cell_type": "code",
   "execution_count": 66,
   "metadata": {},
   "outputs": [
    {
     "data": {
      "text/html": [
       "<div>\n",
       "<style scoped>\n",
       "    .dataframe tbody tr th:only-of-type {\n",
       "        vertical-align: middle;\n",
       "    }\n",
       "\n",
       "    .dataframe tbody tr th {\n",
       "        vertical-align: top;\n",
       "    }\n",
       "\n",
       "    .dataframe thead th {\n",
       "        text-align: right;\n",
       "    }\n",
       "</style>\n",
       "<table border=\"1\" class=\"dataframe\">\n",
       "  <thead>\n",
       "    <tr style=\"text-align: right;\">\n",
       "      <th></th>\n",
       "      <th>0</th>\n",
       "      <th>1</th>\n",
       "      <th>2</th>\n",
       "    </tr>\n",
       "  </thead>\n",
       "  <tbody>\n",
       "    <tr>\n",
       "      <th>0</th>\n",
       "      <td>0.409965</td>\n",
       "      <td>-0.826329</td>\n",
       "      <td>-0.947670</td>\n",
       "    </tr>\n",
       "    <tr>\n",
       "      <th>1</th>\n",
       "      <td>2.012770</td>\n",
       "      <td>-0.580627</td>\n",
       "      <td>-0.723277</td>\n",
       "    </tr>\n",
       "    <tr>\n",
       "      <th>2</th>\n",
       "      <td>-0.593213</td>\n",
       "      <td>-0.855984</td>\n",
       "      <td>0.338505</td>\n",
       "    </tr>\n",
       "    <tr>\n",
       "      <th>3</th>\n",
       "      <td>2.147287</td>\n",
       "      <td>-0.642757</td>\n",
       "      <td>-1.655524</td>\n",
       "    </tr>\n",
       "    <tr>\n",
       "      <th>4</th>\n",
       "      <td>-0.458696</td>\n",
       "      <td>-0.918114</td>\n",
       "      <td>-0.593742</td>\n",
       "    </tr>\n",
       "    <tr>\n",
       "      <th>...</th>\n",
       "      <td>...</td>\n",
       "      <td>...</td>\n",
       "      <td>...</td>\n",
       "    </tr>\n",
       "    <tr>\n",
       "      <th>560621</th>\n",
       "      <td>-0.294408</td>\n",
       "      <td>-0.747300</td>\n",
       "      <td>1.139232</td>\n",
       "    </tr>\n",
       "    <tr>\n",
       "      <th>560622</th>\n",
       "      <td>0.138915</td>\n",
       "      <td>-0.700748</td>\n",
       "      <td>1.007711</td>\n",
       "    </tr>\n",
       "    <tr>\n",
       "      <th>560623</th>\n",
       "      <td>-1.987769</td>\n",
       "      <td>2.463065</td>\n",
       "      <td>-0.907243</td>\n",
       "    </tr>\n",
       "    <tr>\n",
       "      <th>560624</th>\n",
       "      <td>-0.460711</td>\n",
       "      <td>-0.916795</td>\n",
       "      <td>-0.502857</td>\n",
       "    </tr>\n",
       "    <tr>\n",
       "      <th>560625</th>\n",
       "      <td>2.193462</td>\n",
       "      <td>0.088737</td>\n",
       "      <td>-1.492313</td>\n",
       "    </tr>\n",
       "  </tbody>\n",
       "</table>\n",
       "<p>560626 rows × 3 columns</p>\n",
       "</div>"
      ],
      "text/plain": [
       "               0         1         2\n",
       "0       0.409965 -0.826329 -0.947670\n",
       "1       2.012770 -0.580627 -0.723277\n",
       "2      -0.593213 -0.855984  0.338505\n",
       "3       2.147287 -0.642757 -1.655524\n",
       "4      -0.458696 -0.918114 -0.593742\n",
       "...          ...       ...       ...\n",
       "560621 -0.294408 -0.747300  1.139232\n",
       "560622  0.138915 -0.700748  1.007711\n",
       "560623 -1.987769  2.463065 -0.907243\n",
       "560624 -0.460711 -0.916795 -0.502857\n",
       "560625  2.193462  0.088737 -1.492313\n",
       "\n",
       "[560626 rows x 3 columns]"
      ]
     },
     "execution_count": 66,
     "metadata": {},
     "output_type": "execute_result"
    }
   ],
   "source": [
    "componentesprincipales_seccion_7_1 = pd.DataFrame(componentesprincipales)\n",
    "componentesprincipales_seccion_7_1"
   ]
  },
  {
   "cell_type": "markdown",
   "metadata": {},
   "source": [
    "- 7.2. Educación media superior (Bachillerato)"
   ]
  },
  {
   "cell_type": "code",
   "execution_count": 67,
   "metadata": {},
   "outputs": [],
   "source": [
    "np.random.seed(150) ###Se define la semilla para la reproducibilidad de los resultados\n",
    "\n",
    "seccion_7_2 = df.loc[:, ['p72', 'p73', 'p74', 'p75', 'p76', 'p77', 'p78']] ###Se seleccionan las preguntas que conforman esta sección"
   ]
  },
  {
   "cell_type": "code",
   "execution_count": 68,
   "metadata": {},
   "outputs": [],
   "source": [
    "####Se escalan los datos.\n",
    "scaler = preprocessing.StandardScaler()\n",
    "\n",
    "seccion_7_2 = pd.DataFrame(scaler.fit_transform(seccion_7_2))"
   ]
  },
  {
   "cell_type": "code",
   "execution_count": 69,
   "metadata": {},
   "outputs": [],
   "source": [
    "####Se obtienen los atributos que conforman la función componentes_principales \n",
    "pca, varianza_explicada, componentesprincipales, val_sing, pca.components_, eigenvalues = PCA_from_sklearn.componentes_principales(seccion_7_2)"
   ]
  },
  {
   "cell_type": "code",
   "execution_count": null,
   "metadata": {},
   "outputs": [],
   "source": []
  }
 ],
 "metadata": {
  "kernelspec": {
   "display_name": "Python 3.8.2 64-bit ('venv': venv)",
   "language": "python",
   "name": "python38264bitvenvvenv59d17170ade043dbb2f8c0cc6f3adc0c"
  },
  "language_info": {
   "codemirror_mode": {
    "name": "ipython",
    "version": 3
   },
   "file_extension": ".py",
   "mimetype": "text/x-python",
   "name": "python",
   "nbconvert_exporter": "python",
   "pygments_lexer": "ipython3",
   "version": "3.8.2"
  }
 },
 "nbformat": 4,
 "nbformat_minor": 4
}
