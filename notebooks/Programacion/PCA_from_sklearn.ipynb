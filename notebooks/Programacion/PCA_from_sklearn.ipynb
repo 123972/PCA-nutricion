{
 "cells": [
  {
   "cell_type": "code",
   "execution_count": 1,
   "metadata": {},
   "outputs": [],
   "source": [
    "import sklearn as sk\n",
    "from sklearn import preprocessing\n",
    "import math\n",
    "from sklearn.decomposition import PCA\n",
    "from sklearn.preprocessing import StandardScaler\n",
    "import pandas as pd\n",
    "import numpy as np\n",
    "import matplotlib.pyplot as plt\n",
    "import os\n",
    "import inspect\n",
    "import sys\n",
    "\n",
    "\n",
    "sys.path.append('./../../')\n",
    "\n",
    "# OPTIONAL: Load the \"autoreload\" extension so that code can change\n",
    "%load_ext autoreload\n",
    "\n",
    "#Own Library modules\n",
    "import src.pca\n",
    "\n",
    "# OPTIONAL: always reload modules so that as you change code in src, it gets loaded\n",
    "%autoreload 2\n",
    "\n",
    "from src.pca import PCA_from_sklearn"
   ]
  },
  {
   "cell_type": "markdown",
   "metadata": {},
   "source": [
    "#### Objetivo:\n",
    "\n",
    "El objetivo de este notebook es utilizar PCA de scikit-learn para la reducción de dimensionalidad del conjunto de variables.\n"
   ]
  },
  {
   "cell_type": "code",
   "execution_count": 2,
   "metadata": {},
   "outputs": [],
   "source": [
    "df = pd.read_csv('../../data/nndb_flat.csv', encoding = \"L1\")"
   ]
  },
  {
   "cell_type": "code",
   "execution_count": 3,
   "metadata": {},
   "outputs": [
    {
     "name": "stdout",
     "output_type": "stream",
     "text": [
      "<class 'pandas.core.frame.DataFrame'>\n",
      "RangeIndex: 8618 entries, 0 to 8617\n",
      "Data columns (total 45 columns):\n",
      " #   Column            Non-Null Count  Dtype  \n",
      "---  ------            --------------  -----  \n",
      " 0   ID                8618 non-null   int64  \n",
      " 1   FoodGroup         8618 non-null   object \n",
      " 2   ShortDescrip      8618 non-null   object \n",
      " 3   Descrip           8618 non-null   object \n",
      " 4   CommonName        1063 non-null   object \n",
      " 5   MfgName           1560 non-null   object \n",
      " 6   ScientificName    732 non-null    object \n",
      " 7   Energy_kcal       8618 non-null   int64  \n",
      " 8   Protein_g         8618 non-null   float64\n",
      " 9   Fat_g             8618 non-null   float64\n",
      " 10  Carb_g            8618 non-null   float64\n",
      " 11  Sugar_g           8618 non-null   float64\n",
      " 12  Fiber_g           8618 non-null   float64\n",
      " 13  VitA_mcg          8618 non-null   int64  \n",
      " 14  VitB6_mg          8618 non-null   float64\n",
      " 15  VitB12_mcg        8618 non-null   float64\n",
      " 16  VitC_mg           8618 non-null   float64\n",
      " 17  VitE_mg           8618 non-null   float64\n",
      " 18  Folate_mcg        8618 non-null   int64  \n",
      " 19  Niacin_mg         8618 non-null   float64\n",
      " 20  Riboflavin_mg     8618 non-null   float64\n",
      " 21  Thiamin_mg        8618 non-null   float64\n",
      " 22  Calcium_mg        8618 non-null   int64  \n",
      " 23  Copper_mcg        8618 non-null   float64\n",
      " 24  Iron_mg           8618 non-null   float64\n",
      " 25  Magnesium_mg      8618 non-null   int64  \n",
      " 26  Manganese_mg      8618 non-null   float64\n",
      " 27  Phosphorus_mg     8618 non-null   int64  \n",
      " 28  Selenium_mcg      8618 non-null   float64\n",
      " 29  Zinc_mg           8618 non-null   float64\n",
      " 30  VitA_USRDA        8618 non-null   float64\n",
      " 31  VitB6_USRDA       8618 non-null   float64\n",
      " 32  VitB12_USRDA      8618 non-null   float64\n",
      " 33  VitC_USRDA        8618 non-null   float64\n",
      " 34  VitE_USRDA        8618 non-null   float64\n",
      " 35  Folate_USRDA      8618 non-null   float64\n",
      " 36  Niacin_USRDA      8618 non-null   float64\n",
      " 37  Riboflavin_USRDA  8618 non-null   float64\n",
      " 38  Thiamin_USRDA     8618 non-null   float64\n",
      " 39  Calcium_USRDA     8618 non-null   float64\n",
      " 40  Copper_USRDA      8618 non-null   float64\n",
      " 41  Magnesium_USRDA   8618 non-null   float64\n",
      " 42  Phosphorus_USRDA  8618 non-null   float64\n",
      " 43  Selenium_USRDA    8618 non-null   float64\n",
      " 44  Zinc_USRDA        8618 non-null   float64\n",
      "dtypes: float64(32), int64(7), object(6)\n",
      "memory usage: 3.0+ MB\n"
     ]
    }
   ],
   "source": [
    "df.info()"
   ]
  },
  {
   "cell_type": "code",
   "execution_count": 4,
   "metadata": {},
   "outputs": [],
   "source": [
    "np.random.seed(150) ###Se define la semilla para la reproducibilidad de los resultados\n",
    "df = df.iloc[:, 7:30] ###Se seleccionan las variables que usamos para PCA"
   ]
  },
  {
   "cell_type": "code",
   "execution_count": 5,
   "metadata": {},
   "outputs": [
    {
     "name": "stdout",
     "output_type": "stream",
     "text": [
      "<class 'pandas.core.frame.DataFrame'>\n",
      "RangeIndex: 8618 entries, 0 to 8617\n",
      "Data columns (total 23 columns):\n",
      " #   Column         Non-Null Count  Dtype  \n",
      "---  ------         --------------  -----  \n",
      " 0   Energy_kcal    8618 non-null   int64  \n",
      " 1   Protein_g      8618 non-null   float64\n",
      " 2   Fat_g          8618 non-null   float64\n",
      " 3   Carb_g         8618 non-null   float64\n",
      " 4   Sugar_g        8618 non-null   float64\n",
      " 5   Fiber_g        8618 non-null   float64\n",
      " 6   VitA_mcg       8618 non-null   int64  \n",
      " 7   VitB6_mg       8618 non-null   float64\n",
      " 8   VitB12_mcg     8618 non-null   float64\n",
      " 9   VitC_mg        8618 non-null   float64\n",
      " 10  VitE_mg        8618 non-null   float64\n",
      " 11  Folate_mcg     8618 non-null   int64  \n",
      " 12  Niacin_mg      8618 non-null   float64\n",
      " 13  Riboflavin_mg  8618 non-null   float64\n",
      " 14  Thiamin_mg     8618 non-null   float64\n",
      " 15  Calcium_mg     8618 non-null   int64  \n",
      " 16  Copper_mcg     8618 non-null   float64\n",
      " 17  Iron_mg        8618 non-null   float64\n",
      " 18  Magnesium_mg   8618 non-null   int64  \n",
      " 19  Manganese_mg   8618 non-null   float64\n",
      " 20  Phosphorus_mg  8618 non-null   int64  \n",
      " 21  Selenium_mcg   8618 non-null   float64\n",
      " 22  Zinc_mg        8618 non-null   float64\n",
      "dtypes: float64(17), int64(6)\n",
      "memory usage: 1.5 MB\n"
     ]
    }
   ],
   "source": [
    "df.info()"
   ]
  },
  {
   "cell_type": "code",
   "execution_count": 6,
   "metadata": {},
   "outputs": [],
   "source": [
    "####Se escalan los datos.\n",
    "scaler = preprocessing.StandardScaler()\n",
    "\n",
    "df_1 = scaler.fit_transform(df)"
   ]
  },
  {
   "cell_type": "code",
   "execution_count": 7,
   "metadata": {},
   "outputs": [],
   "source": [
    "####Se obtienen los atributos que conforman la función componentes_principales \n",
    "pca, varianza_explicada, var_exp_ratio, componentesprincipales, val_sing, pca.components_, eigenvalues = PCA_from_sklearn.componentes_principales(df_1)"
   ]
  },
  {
   "cell_type": "code",
   "execution_count": 8,
   "metadata": {},
   "outputs": [
    {
     "data": {
      "text/html": [
       "<div>\n",
       "<style scoped>\n",
       "    .dataframe tbody tr th:only-of-type {\n",
       "        vertical-align: middle;\n",
       "    }\n",
       "\n",
       "    .dataframe tbody tr th {\n",
       "        vertical-align: top;\n",
       "    }\n",
       "\n",
       "    .dataframe thead th {\n",
       "        text-align: right;\n",
       "    }\n",
       "</style>\n",
       "<table border=\"1\" class=\"dataframe\">\n",
       "  <thead>\n",
       "    <tr style=\"text-align: right;\">\n",
       "      <th></th>\n",
       "      <th>principal_component_1</th>\n",
       "      <th>principal_component_2</th>\n",
       "      <th>principal_component_3</th>\n",
       "      <th>principal_component_4</th>\n",
       "      <th>principal_component_5</th>\n",
       "      <th>principal_component_6</th>\n",
       "      <th>principal_component_7</th>\n",
       "      <th>principal_component_8</th>\n",
       "      <th>principal_component_9</th>\n",
       "      <th>principal_component_10</th>\n",
       "    </tr>\n",
       "  </thead>\n",
       "  <tbody>\n",
       "    <tr>\n",
       "      <th>Energy_kcal</th>\n",
       "      <td>0.157814</td>\n",
       "      <td>-0.273449</td>\n",
       "      <td>-0.462006</td>\n",
       "      <td>0.052280</td>\n",
       "      <td>-0.293596</td>\n",
       "      <td>-0.132865</td>\n",
       "      <td>0.066823</td>\n",
       "      <td>0.074407</td>\n",
       "      <td>0.041548</td>\n",
       "      <td>0.141091</td>\n",
       "    </tr>\n",
       "    <tr>\n",
       "      <th>Protein_g</th>\n",
       "      <td>0.140620</td>\n",
       "      <td>0.343397</td>\n",
       "      <td>-0.213567</td>\n",
       "      <td>-0.311112</td>\n",
       "      <td>0.013176</td>\n",
       "      <td>-0.141469</td>\n",
       "      <td>0.006299</td>\n",
       "      <td>0.116309</td>\n",
       "      <td>0.148471</td>\n",
       "      <td>0.018356</td>\n",
       "    </tr>\n",
       "    <tr>\n",
       "      <th>Fat_g</th>\n",
       "      <td>0.033008</td>\n",
       "      <td>-0.111670</td>\n",
       "      <td>-0.534051</td>\n",
       "      <td>0.026520</td>\n",
       "      <td>-0.394450</td>\n",
       "      <td>0.116492</td>\n",
       "      <td>0.045318</td>\n",
       "      <td>-0.049585</td>\n",
       "      <td>-0.091602</td>\n",
       "      <td>0.200694</td>\n",
       "    </tr>\n",
       "    <tr>\n",
       "      <th>Carb_g</th>\n",
       "      <td>0.169685</td>\n",
       "      <td>-0.443416</td>\n",
       "      <td>0.049822</td>\n",
       "      <td>0.174108</td>\n",
       "      <td>0.082723</td>\n",
       "      <td>-0.279369</td>\n",
       "      <td>0.022079</td>\n",
       "      <td>0.155082</td>\n",
       "      <td>0.117823</td>\n",
       "      <td>-0.043978</td>\n",
       "    </tr>\n",
       "    <tr>\n",
       "      <th>Sugar_g</th>\n",
       "      <td>0.076323</td>\n",
       "      <td>-0.358769</td>\n",
       "      <td>0.055247</td>\n",
       "      <td>0.217373</td>\n",
       "      <td>-0.048421</td>\n",
       "      <td>-0.337022</td>\n",
       "      <td>0.298613</td>\n",
       "      <td>0.143511</td>\n",
       "      <td>0.151122</td>\n",
       "      <td>-0.388018</td>\n",
       "    </tr>\n",
       "    <tr>\n",
       "      <th>Fiber_g</th>\n",
       "      <td>0.181570</td>\n",
       "      <td>-0.257733</td>\n",
       "      <td>-0.040397</td>\n",
       "      <td>0.042130</td>\n",
       "      <td>0.332161</td>\n",
       "      <td>0.134870</td>\n",
       "      <td>-0.414733</td>\n",
       "      <td>0.187809</td>\n",
       "      <td>-0.065757</td>\n",
       "      <td>0.086563</td>\n",
       "    </tr>\n",
       "    <tr>\n",
       "      <th>VitA_mcg</th>\n",
       "      <td>0.133519</td>\n",
       "      <td>0.236470</td>\n",
       "      <td>-0.021929</td>\n",
       "      <td>0.530395</td>\n",
       "      <td>0.008137</td>\n",
       "      <td>0.039028</td>\n",
       "      <td>0.101341</td>\n",
       "      <td>-0.046231</td>\n",
       "      <td>-0.021982</td>\n",
       "      <td>0.118087</td>\n",
       "    </tr>\n",
       "    <tr>\n",
       "      <th>VitB6_mg</th>\n",
       "      <td>0.315663</td>\n",
       "      <td>0.021129</td>\n",
       "      <td>0.174648</td>\n",
       "      <td>-0.114372</td>\n",
       "      <td>-0.133747</td>\n",
       "      <td>0.200525</td>\n",
       "      <td>0.024691</td>\n",
       "      <td>0.083253</td>\n",
       "      <td>0.022972</td>\n",
       "      <td>-0.198085</td>\n",
       "    </tr>\n",
       "    <tr>\n",
       "      <th>VitB12_mcg</th>\n",
       "      <td>0.177985</td>\n",
       "      <td>0.355045</td>\n",
       "      <td>-0.012760</td>\n",
       "      <td>0.346550</td>\n",
       "      <td>-0.058857</td>\n",
       "      <td>-0.123150</td>\n",
       "      <td>0.056077</td>\n",
       "      <td>0.004506</td>\n",
       "      <td>-0.132134</td>\n",
       "      <td>-0.133190</td>\n",
       "    </tr>\n",
       "    <tr>\n",
       "      <th>VitC_mg</th>\n",
       "      <td>0.087639</td>\n",
       "      <td>-0.038525</td>\n",
       "      <td>0.162303</td>\n",
       "      <td>0.047584</td>\n",
       "      <td>0.024713</td>\n",
       "      <td>0.545219</td>\n",
       "      <td>0.451276</td>\n",
       "      <td>0.515944</td>\n",
       "      <td>0.085537</td>\n",
       "      <td>0.155506</td>\n",
       "    </tr>\n",
       "    <tr>\n",
       "      <th>VitE_mg</th>\n",
       "      <td>0.137122</td>\n",
       "      <td>-0.106372</td>\n",
       "      <td>-0.207331</td>\n",
       "      <td>0.026174</td>\n",
       "      <td>-0.238019</td>\n",
       "      <td>0.475300</td>\n",
       "      <td>-0.125438</td>\n",
       "      <td>-0.148563</td>\n",
       "      <td>-0.061848</td>\n",
       "      <td>-0.424221</td>\n",
       "    </tr>\n",
       "    <tr>\n",
       "      <th>Folate_mcg</th>\n",
       "      <td>0.284102</td>\n",
       "      <td>-0.097093</td>\n",
       "      <td>0.230985</td>\n",
       "      <td>-0.032481</td>\n",
       "      <td>-0.137697</td>\n",
       "      <td>-0.054688</td>\n",
       "      <td>-0.130939</td>\n",
       "      <td>-0.162197</td>\n",
       "      <td>-0.064147</td>\n",
       "      <td>0.017561</td>\n",
       "    </tr>\n",
       "    <tr>\n",
       "      <th>Niacin_mg</th>\n",
       "      <td>0.337779</td>\n",
       "      <td>0.084801</td>\n",
       "      <td>0.164885</td>\n",
       "      <td>-0.156394</td>\n",
       "      <td>-0.203433</td>\n",
       "      <td>0.026277</td>\n",
       "      <td>0.045698</td>\n",
       "      <td>0.010535</td>\n",
       "      <td>0.120922</td>\n",
       "      <td>0.088229</td>\n",
       "    </tr>\n",
       "    <tr>\n",
       "      <th>Riboflavin_mg</th>\n",
       "      <td>0.341325</td>\n",
       "      <td>0.073471</td>\n",
       "      <td>0.192098</td>\n",
       "      <td>0.046996</td>\n",
       "      <td>-0.153460</td>\n",
       "      <td>-0.050758</td>\n",
       "      <td>0.141794</td>\n",
       "      <td>-0.044697</td>\n",
       "      <td>-0.044924</td>\n",
       "      <td>0.195181</td>\n",
       "    </tr>\n",
       "    <tr>\n",
       "      <th>Thiamin_mg</th>\n",
       "      <td>0.272453</td>\n",
       "      <td>-0.075150</td>\n",
       "      <td>0.184351</td>\n",
       "      <td>-0.103518</td>\n",
       "      <td>-0.161520</td>\n",
       "      <td>-0.130000</td>\n",
       "      <td>-0.071844</td>\n",
       "      <td>-0.190469</td>\n",
       "      <td>0.026710</td>\n",
       "      <td>0.438447</td>\n",
       "    </tr>\n",
       "    <tr>\n",
       "      <th>Calcium_mg</th>\n",
       "      <td>0.168112</td>\n",
       "      <td>-0.105173</td>\n",
       "      <td>-0.128139</td>\n",
       "      <td>-0.099340</td>\n",
       "      <td>0.388692</td>\n",
       "      <td>0.070532</td>\n",
       "      <td>0.462817</td>\n",
       "      <td>-0.367007</td>\n",
       "      <td>-0.135905</td>\n",
       "      <td>-0.080237</td>\n",
       "    </tr>\n",
       "    <tr>\n",
       "      <th>Copper_mcg</th>\n",
       "      <td>0.180806</td>\n",
       "      <td>0.212669</td>\n",
       "      <td>-0.152263</td>\n",
       "      <td>0.389929</td>\n",
       "      <td>0.161241</td>\n",
       "      <td>-0.086214</td>\n",
       "      <td>-0.119212</td>\n",
       "      <td>0.187934</td>\n",
       "      <td>-0.361729</td>\n",
       "      <td>0.047052</td>\n",
       "    </tr>\n",
       "    <tr>\n",
       "      <th>Iron_mg</th>\n",
       "      <td>0.299857</td>\n",
       "      <td>-0.093812</td>\n",
       "      <td>0.087109</td>\n",
       "      <td>-0.059443</td>\n",
       "      <td>0.097110</td>\n",
       "      <td>-0.030539</td>\n",
       "      <td>-0.133322</td>\n",
       "      <td>-0.107595</td>\n",
       "      <td>-0.108805</td>\n",
       "      <td>-0.083207</td>\n",
       "    </tr>\n",
       "    <tr>\n",
       "      <th>Magnesium_mg</th>\n",
       "      <td>0.241348</td>\n",
       "      <td>-0.103361</td>\n",
       "      <td>-0.201225</td>\n",
       "      <td>-0.071805</td>\n",
       "      <td>0.352742</td>\n",
       "      <td>0.140120</td>\n",
       "      <td>-0.269604</td>\n",
       "      <td>0.191569</td>\n",
       "      <td>0.031516</td>\n",
       "      <td>0.110724</td>\n",
       "    </tr>\n",
       "    <tr>\n",
       "      <th>Manganese_mg</th>\n",
       "      <td>0.093567</td>\n",
       "      <td>0.088783</td>\n",
       "      <td>-0.072630</td>\n",
       "      <td>0.311369</td>\n",
       "      <td>0.125600</td>\n",
       "      <td>0.182527</td>\n",
       "      <td>-0.136507</td>\n",
       "      <td>-0.345946</td>\n",
       "      <td>0.757057</td>\n",
       "      <td>-0.018191</td>\n",
       "    </tr>\n",
       "    <tr>\n",
       "      <th>Phosphorus_mg</th>\n",
       "      <td>0.199403</td>\n",
       "      <td>0.087448</td>\n",
       "      <td>-0.274814</td>\n",
       "      <td>-0.207871</td>\n",
       "      <td>0.344929</td>\n",
       "      <td>-0.083792</td>\n",
       "      <td>0.323521</td>\n",
       "      <td>-0.170259</td>\n",
       "      <td>-0.012560</td>\n",
       "      <td>0.061650</td>\n",
       "    </tr>\n",
       "    <tr>\n",
       "      <th>Selenium_mcg</th>\n",
       "      <td>0.092319</td>\n",
       "      <td>0.239322</td>\n",
       "      <td>-0.163361</td>\n",
       "      <td>-0.161623</td>\n",
       "      <td>-0.005049</td>\n",
       "      <td>-0.243773</td>\n",
       "      <td>-0.021893</td>\n",
       "      <td>0.410363</td>\n",
       "      <td>0.358349</td>\n",
       "      <td>-0.075574</td>\n",
       "    </tr>\n",
       "    <tr>\n",
       "      <th>Zinc_mg</th>\n",
       "      <td>0.243551</td>\n",
       "      <td>0.177798</td>\n",
       "      <td>-0.038639</td>\n",
       "      <td>-0.166322</td>\n",
       "      <td>-0.064319</td>\n",
       "      <td>-0.054538</td>\n",
       "      <td>-0.105925</td>\n",
       "      <td>0.033953</td>\n",
       "      <td>-0.108892</td>\n",
       "      <td>-0.477832</td>\n",
       "    </tr>\n",
       "  </tbody>\n",
       "</table>\n",
       "</div>"
      ],
      "text/plain": [
       "               principal_component_1  principal_component_2  \\\n",
       "Energy_kcal                 0.157814              -0.273449   \n",
       "Protein_g                   0.140620               0.343397   \n",
       "Fat_g                       0.033008              -0.111670   \n",
       "Carb_g                      0.169685              -0.443416   \n",
       "Sugar_g                     0.076323              -0.358769   \n",
       "Fiber_g                     0.181570              -0.257733   \n",
       "VitA_mcg                    0.133519               0.236470   \n",
       "VitB6_mg                    0.315663               0.021129   \n",
       "VitB12_mcg                  0.177985               0.355045   \n",
       "VitC_mg                     0.087639              -0.038525   \n",
       "VitE_mg                     0.137122              -0.106372   \n",
       "Folate_mcg                  0.284102              -0.097093   \n",
       "Niacin_mg                   0.337779               0.084801   \n",
       "Riboflavin_mg               0.341325               0.073471   \n",
       "Thiamin_mg                  0.272453              -0.075150   \n",
       "Calcium_mg                  0.168112              -0.105173   \n",
       "Copper_mcg                  0.180806               0.212669   \n",
       "Iron_mg                     0.299857              -0.093812   \n",
       "Magnesium_mg                0.241348              -0.103361   \n",
       "Manganese_mg                0.093567               0.088783   \n",
       "Phosphorus_mg               0.199403               0.087448   \n",
       "Selenium_mcg                0.092319               0.239322   \n",
       "Zinc_mg                     0.243551               0.177798   \n",
       "\n",
       "               principal_component_3  principal_component_4  \\\n",
       "Energy_kcal                -0.462006               0.052280   \n",
       "Protein_g                  -0.213567              -0.311112   \n",
       "Fat_g                      -0.534051               0.026520   \n",
       "Carb_g                      0.049822               0.174108   \n",
       "Sugar_g                     0.055247               0.217373   \n",
       "Fiber_g                    -0.040397               0.042130   \n",
       "VitA_mcg                   -0.021929               0.530395   \n",
       "VitB6_mg                    0.174648              -0.114372   \n",
       "VitB12_mcg                 -0.012760               0.346550   \n",
       "VitC_mg                     0.162303               0.047584   \n",
       "VitE_mg                    -0.207331               0.026174   \n",
       "Folate_mcg                  0.230985              -0.032481   \n",
       "Niacin_mg                   0.164885              -0.156394   \n",
       "Riboflavin_mg               0.192098               0.046996   \n",
       "Thiamin_mg                  0.184351              -0.103518   \n",
       "Calcium_mg                 -0.128139              -0.099340   \n",
       "Copper_mcg                 -0.152263               0.389929   \n",
       "Iron_mg                     0.087109              -0.059443   \n",
       "Magnesium_mg               -0.201225              -0.071805   \n",
       "Manganese_mg               -0.072630               0.311369   \n",
       "Phosphorus_mg              -0.274814              -0.207871   \n",
       "Selenium_mcg               -0.163361              -0.161623   \n",
       "Zinc_mg                    -0.038639              -0.166322   \n",
       "\n",
       "               principal_component_5  principal_component_6  \\\n",
       "Energy_kcal                -0.293596              -0.132865   \n",
       "Protein_g                   0.013176              -0.141469   \n",
       "Fat_g                      -0.394450               0.116492   \n",
       "Carb_g                      0.082723              -0.279369   \n",
       "Sugar_g                    -0.048421              -0.337022   \n",
       "Fiber_g                     0.332161               0.134870   \n",
       "VitA_mcg                    0.008137               0.039028   \n",
       "VitB6_mg                   -0.133747               0.200525   \n",
       "VitB12_mcg                 -0.058857              -0.123150   \n",
       "VitC_mg                     0.024713               0.545219   \n",
       "VitE_mg                    -0.238019               0.475300   \n",
       "Folate_mcg                 -0.137697              -0.054688   \n",
       "Niacin_mg                  -0.203433               0.026277   \n",
       "Riboflavin_mg              -0.153460              -0.050758   \n",
       "Thiamin_mg                 -0.161520              -0.130000   \n",
       "Calcium_mg                  0.388692               0.070532   \n",
       "Copper_mcg                  0.161241              -0.086214   \n",
       "Iron_mg                     0.097110              -0.030539   \n",
       "Magnesium_mg                0.352742               0.140120   \n",
       "Manganese_mg                0.125600               0.182527   \n",
       "Phosphorus_mg               0.344929              -0.083792   \n",
       "Selenium_mcg               -0.005049              -0.243773   \n",
       "Zinc_mg                    -0.064319              -0.054538   \n",
       "\n",
       "               principal_component_7  principal_component_8  \\\n",
       "Energy_kcal                 0.066823               0.074407   \n",
       "Protein_g                   0.006299               0.116309   \n",
       "Fat_g                       0.045318              -0.049585   \n",
       "Carb_g                      0.022079               0.155082   \n",
       "Sugar_g                     0.298613               0.143511   \n",
       "Fiber_g                    -0.414733               0.187809   \n",
       "VitA_mcg                    0.101341              -0.046231   \n",
       "VitB6_mg                    0.024691               0.083253   \n",
       "VitB12_mcg                  0.056077               0.004506   \n",
       "VitC_mg                     0.451276               0.515944   \n",
       "VitE_mg                    -0.125438              -0.148563   \n",
       "Folate_mcg                 -0.130939              -0.162197   \n",
       "Niacin_mg                   0.045698               0.010535   \n",
       "Riboflavin_mg               0.141794              -0.044697   \n",
       "Thiamin_mg                 -0.071844              -0.190469   \n",
       "Calcium_mg                  0.462817              -0.367007   \n",
       "Copper_mcg                 -0.119212               0.187934   \n",
       "Iron_mg                    -0.133322              -0.107595   \n",
       "Magnesium_mg               -0.269604               0.191569   \n",
       "Manganese_mg               -0.136507              -0.345946   \n",
       "Phosphorus_mg               0.323521              -0.170259   \n",
       "Selenium_mcg               -0.021893               0.410363   \n",
       "Zinc_mg                    -0.105925               0.033953   \n",
       "\n",
       "               principal_component_9  principal_component_10  \n",
       "Energy_kcal                 0.041548                0.141091  \n",
       "Protein_g                   0.148471                0.018356  \n",
       "Fat_g                      -0.091602                0.200694  \n",
       "Carb_g                      0.117823               -0.043978  \n",
       "Sugar_g                     0.151122               -0.388018  \n",
       "Fiber_g                    -0.065757                0.086563  \n",
       "VitA_mcg                   -0.021982                0.118087  \n",
       "VitB6_mg                    0.022972               -0.198085  \n",
       "VitB12_mcg                 -0.132134               -0.133190  \n",
       "VitC_mg                     0.085537                0.155506  \n",
       "VitE_mg                    -0.061848               -0.424221  \n",
       "Folate_mcg                 -0.064147                0.017561  \n",
       "Niacin_mg                   0.120922                0.088229  \n",
       "Riboflavin_mg              -0.044924                0.195181  \n",
       "Thiamin_mg                  0.026710                0.438447  \n",
       "Calcium_mg                 -0.135905               -0.080237  \n",
       "Copper_mcg                 -0.361729                0.047052  \n",
       "Iron_mg                    -0.108805               -0.083207  \n",
       "Magnesium_mg                0.031516                0.110724  \n",
       "Manganese_mg                0.757057               -0.018191  \n",
       "Phosphorus_mg              -0.012560                0.061650  \n",
       "Selenium_mcg                0.358349               -0.075574  \n",
       "Zinc_mg                    -0.108892               -0.477832  "
      ]
     },
     "execution_count": 8,
     "metadata": {},
     "output_type": "execute_result"
    }
   ],
   "source": [
    "####Se eligieron nueve componentes principales con el criterio del porcentaje de varianza explicada de 80%, por lo que a continuación se muestran los ejes principales que representan las direcciones de máxima varianza en los datos\n",
    "componentes = pd.DataFrame(pca.components_.T, index=df.columns)\n",
    "componentes = componentes.rename(columns={0:'principal_component_1', 1:'principal_component_2', 2:'principal_component_3', 3:'principal_component_4', 4:'principal_component_5',\n",
    "                                         5:'principal_component_6', 6:'principal_component_7', 7:'principal_component_8', 8:'principal_component_9', 9:'principal_component_10'})\n",
    "componentes"
   ]
  },
  {
   "cell_type": "code",
   "execution_count": 9,
   "metadata": {},
   "outputs": [
    {
     "data": {
      "text/plain": [
       "[<matplotlib.lines.Line2D at 0x22cb98fa988>]"
      ]
     },
     "execution_count": 9,
     "metadata": {},
     "output_type": "execute_result"
    },
    {
     "data": {
      "image/png": "[encoded data removed]",
      "text/plain": [
       "<Figure size 432x288 with 1 Axes>"
      ]
     },
     "metadata": {
      "needs_background": "light"
     },
     "output_type": "display_data"
    }
   ],
   "source": [
    "#Se obtiene la gráfica del porcentaje de varianza explicada\n",
    "plt.plot(var_exp_ratio)"
   ]
  },
  {
   "cell_type": "code",
   "execution_count": 10,
   "metadata": {},
   "outputs": [
    {
     "name": "stdout",
     "output_type": "stream",
     "text": [
      "[0.23692547 0.11384602 0.08834337 0.08170137 0.07111615 0.04958133\n",
      " 0.04612466 0.0402719  0.03747905 0.03585593]\n",
      "0.8012452557366838\n"
     ]
    }
   ],
   "source": [
    "##Se obtiene la varianza explicada para cada componente principal (10) y la suma de dichos valores debe dar 80% que es el criterio seleccionado.\n",
    "print(varianza_explicada)\n",
    "print(varianza_explicada.sum()) "
   ]
  },
  {
   "cell_type": "code",
   "execution_count": 11,
   "metadata": {},
   "outputs": [
    {
     "name": "stdout",
     "output_type": "stream",
     "text": [
      "[2.36925468e-01 1.13846015e-01 8.83433734e-02 8.17013669e-02\n",
      " 7.11161480e-02 4.95813332e-02 4.61246638e-02 4.02719041e-02\n",
      " 3.74790508e-02 3.58559322e-02 3.17927198e-02 2.59519549e-02\n",
      " 2.21153503e-02 2.04113766e-02 1.77385355e-02 1.46927827e-02\n",
      " 1.43290735e-02 1.39668837e-02 1.11392349e-02 1.03538827e-02\n",
      " 9.18082227e-03 6.91711649e-03 1.65010749e-04]\n",
      "0.8012452557366838\n"
     ]
    }
   ],
   "source": [
    "print(var_exp_ratio) ##Ratio de varianza explicada \n",
    "print(var_exp_ratio[:10].sum())"
   ]
  },
  {
   "cell_type": "code",
   "execution_count": 12,
   "metadata": {},
   "outputs": [
    {
     "data": {
      "text/plain": [
       "array([5.44991815, 2.61876222, 2.03213339, 1.87934951, 1.63586122,\n",
       "       1.140503  , 1.06099038, 0.92636129, 0.8621182 , 0.82478215])"
      ]
     },
     "execution_count": 12,
     "metadata": {},
     "output_type": "execute_result"
    }
   ],
   "source": [
    "##Se obtienen los eigenvalues\n",
    "eigenvalues"
   ]
  },
  {
   "cell_type": "markdown",
   "metadata": {},
   "source": [
    "- Con el criterio de eigenvalues se observa que no todos son mayores a 1, por lo que esta medida nos dice que nos quedemos con 7 componentes y son los que usaremos para análisis posteriores."
   ]
  },
  {
   "cell_type": "code",
   "execution_count": 13,
   "metadata": {},
   "outputs": [],
   "source": [
    "componentes = componentes.loc[:,['principal_component_1', 'principal_component_2', 'principal_component_3', 'principal_component_4',\n",
    "                                'principal_component_5', 'principal_component_6', 'principal_component_7']]"
   ]
  },
  {
   "cell_type": "code",
   "execution_count": 14,
   "metadata": {},
   "outputs": [],
   "source": [
    "componentesprincipales = pd.DataFrame(componentesprincipales)\n",
    "componentesprincipales_analisis_post = componentesprincipales.loc[:, [0, 1, 2, 3, 4, 5, 6]]"
   ]
  },
  {
   "cell_type": "code",
   "execution_count": 15,
   "metadata": {},
   "outputs": [],
   "source": [
    "componentesprincipales_analisis_post = componentesprincipales_analisis_post.rename(columns = {0:'principal_component_1', 1:'principal_component_2', \n",
    "                                                                                              2:'principal_component_3', 3:'principal_component_4',\n",
    "                                                                                              4:'principal_component_5', 5:'principal_component_6', \n",
    "                                                                                              6:'principal_component_7'})"
   ]
  },
  {
   "cell_type": "code",
   "execution_count": 16,
   "metadata": {},
   "outputs": [],
   "source": [
    "##Se convierte a valor absoluto el dataframe para poder explicar qué preguntas se asocian a cada componente.\n",
    "componentes = componentes.abs()"
   ]
  },
  {
   "cell_type": "markdown",
   "metadata": {},
   "source": [
    "#### Interpretación de los componentes"
   ]
  },
  {
   "cell_type": "markdown",
   "metadata": {},
   "source": [
    "- Primer componente principal"
   ]
  },
  {
   "cell_type": "code",
   "execution_count": 17,
   "metadata": {},
   "outputs": [
    {
     "data": {
      "text/plain": [
       "Riboflavin_mg    0.341325\n",
       "Niacin_mg        0.337779\n",
       "VitB6_mg         0.315663\n",
       "Iron_mg          0.299857\n",
       "Folate_mcg       0.284102\n",
       "Thiamin_mg       0.272453\n",
       "Zinc_mg          0.243551\n",
       "Magnesium_mg     0.241348\n",
       "Phosphorus_mg    0.199403\n",
       "Fiber_g          0.181570\n",
       "Copper_mcg       0.180806\n",
       "VitB12_mcg       0.177985\n",
       "Carb_g           0.169685\n",
       "Calcium_mg       0.168112\n",
       "Energy_kcal      0.157814\n",
       "Protein_g        0.140620\n",
       "VitE_mg          0.137122\n",
       "VitA_mcg         0.133519\n",
       "Manganese_mg     0.093567\n",
       "Selenium_mcg     0.092319\n",
       "VitC_mg          0.087639\n",
       "Sugar_g          0.076323\n",
       "Fat_g            0.033008\n",
       "Name: principal_component_1, dtype: float64"
      ]
     },
     "execution_count": 17,
     "metadata": {},
     "output_type": "execute_result"
    }
   ],
   "source": [
    "principal_component_1 = pd.Series(componentes['principal_component_1'])\n",
    "principal_component_1.sort_values(ascending=False)"
   ]
  },
  {
   "cell_type": "markdown",
   "metadata": {},
   "source": [
    "Para el primer componente principal se asocian la vitamina _Riboflavin_ o vitamina B2, _Niacin_ o vitamina B3 y la vitamina B6. El porcentaje de varianza explicada de este componente es de 23.69%.   "
   ]
  },
  {
   "cell_type": "markdown",
   "metadata": {},
   "source": [
    "- Segundo componente principal"
   ]
  },
  {
   "cell_type": "code",
   "execution_count": 18,
   "metadata": {},
   "outputs": [
    {
     "data": {
      "text/plain": [
       "Carb_g           0.443416\n",
       "Sugar_g          0.358769\n",
       "VitB12_mcg       0.355045\n",
       "Protein_g        0.343397\n",
       "Energy_kcal      0.273449\n",
       "Fiber_g          0.257733\n",
       "Selenium_mcg     0.239322\n",
       "VitA_mcg         0.236470\n",
       "Copper_mcg       0.212669\n",
       "Zinc_mg          0.177798\n",
       "Fat_g            0.111670\n",
       "VitE_mg          0.106372\n",
       "Calcium_mg       0.105173\n",
       "Magnesium_mg     0.103361\n",
       "Folate_mcg       0.097093\n",
       "Iron_mg          0.093812\n",
       "Manganese_mg     0.088783\n",
       "Phosphorus_mg    0.087448\n",
       "Niacin_mg        0.084801\n",
       "Thiamin_mg       0.075150\n",
       "Riboflavin_mg    0.073471\n",
       "VitC_mg          0.038525\n",
       "VitB6_mg         0.021129\n",
       "Name: principal_component_2, dtype: float64"
      ]
     },
     "execution_count": 18,
     "metadata": {},
     "output_type": "execute_result"
    }
   ],
   "source": [
    "principal_component_2 = pd.Series(componentes['principal_component_2'])\n",
    "principal_component_2.sort_values(ascending=False)"
   ]
  },
  {
   "cell_type": "markdown",
   "metadata": {},
   "source": [
    "Para el segundo componente principal se asocian los carbohidratos, el azúcar y la vitamina B12. El porcentaje de varianza explicada de este componente principal es de 11.38%. "
   ]
  },
  {
   "cell_type": "markdown",
   "metadata": {},
   "source": [
    "- Tercer componente principal"
   ]
  },
  {
   "cell_type": "code",
   "execution_count": 19,
   "metadata": {},
   "outputs": [
    {
     "data": {
      "text/plain": [
       "Fat_g            0.534051\n",
       "Energy_kcal      0.462006\n",
       "Phosphorus_mg    0.274814\n",
       "Folate_mcg       0.230985\n",
       "Protein_g        0.213567\n",
       "VitE_mg          0.207331\n",
       "Magnesium_mg     0.201225\n",
       "Riboflavin_mg    0.192098\n",
       "Thiamin_mg       0.184351\n",
       "VitB6_mg         0.174648\n",
       "Niacin_mg        0.164885\n",
       "Selenium_mcg     0.163361\n",
       "VitC_mg          0.162303\n",
       "Copper_mcg       0.152263\n",
       "Calcium_mg       0.128139\n",
       "Iron_mg          0.087109\n",
       "Manganese_mg     0.072630\n",
       "Sugar_g          0.055247\n",
       "Carb_g           0.049822\n",
       "Fiber_g          0.040397\n",
       "Zinc_mg          0.038639\n",
       "VitA_mcg         0.021929\n",
       "VitB12_mcg       0.012760\n",
       "Name: principal_component_3, dtype: float64"
      ]
     },
     "execution_count": 19,
     "metadata": {},
     "output_type": "execute_result"
    }
   ],
   "source": [
    "principal_component_3 = pd.Series(componentes['principal_component_3'])\n",
    "principal_component_3.sort_values(ascending=False)"
   ]
  },
  {
   "cell_type": "markdown",
   "metadata": {},
   "source": [
    "Para el tercer componente principal se asocian _Fat-soluble vitamins_ (vitaminas solubles en grasa), _Energy kcal_ y el Fósforo. El porcentaje de varianza explicada de este componente principal es de 8.83%.   "
   ]
  },
  {
   "cell_type": "markdown",
   "metadata": {},
   "source": [
    "- Cuarto componente principal"
   ]
  },
  {
   "cell_type": "code",
   "execution_count": 20,
   "metadata": {},
   "outputs": [
    {
     "data": {
      "text/plain": [
       "VitA_mcg         0.530395\n",
       "Copper_mcg       0.389929\n",
       "VitB12_mcg       0.346550\n",
       "Manganese_mg     0.311369\n",
       "Protein_g        0.311112\n",
       "Sugar_g          0.217373\n",
       "Phosphorus_mg    0.207871\n",
       "Carb_g           0.174108\n",
       "Zinc_mg          0.166322\n",
       "Selenium_mcg     0.161623\n",
       "Niacin_mg        0.156394\n",
       "VitB6_mg         0.114372\n",
       "Thiamin_mg       0.103518\n",
       "Calcium_mg       0.099340\n",
       "Magnesium_mg     0.071805\n",
       "Iron_mg          0.059443\n",
       "Energy_kcal      0.052280\n",
       "VitC_mg          0.047584\n",
       "Riboflavin_mg    0.046996\n",
       "Fiber_g          0.042130\n",
       "Folate_mcg       0.032481\n",
       "Fat_g            0.026520\n",
       "VitE_mg          0.026174\n",
       "Name: principal_component_4, dtype: float64"
      ]
     },
     "execution_count": 20,
     "metadata": {},
     "output_type": "execute_result"
    }
   ],
   "source": [
    "principal_component_4 = pd.Series(componentes['principal_component_4'])\n",
    "principal_component_4.sort_values(ascending=False)"
   ]
  },
  {
   "cell_type": "markdown",
   "metadata": {},
   "source": [
    "Para el cuarto componente principal se asocian vitamina A, _Copper_ (mineral) y la vitamina B12. El porcentaje de varianza explicada de este componente es de 8.17%"
   ]
  },
  {
   "cell_type": "markdown",
   "metadata": {},
   "source": [
    "- Quinto componente principal"
   ]
  },
  {
   "cell_type": "code",
   "execution_count": 21,
   "metadata": {},
   "outputs": [
    {
     "data": {
      "text/plain": [
       "Fat_g            0.394450\n",
       "Calcium_mg       0.388692\n",
       "Magnesium_mg     0.352742\n",
       "Phosphorus_mg    0.344929\n",
       "Fiber_g          0.332161\n",
       "Energy_kcal      0.293596\n",
       "VitE_mg          0.238019\n",
       "Niacin_mg        0.203433\n",
       "Thiamin_mg       0.161520\n",
       "Copper_mcg       0.161241\n",
       "Riboflavin_mg    0.153460\n",
       "Folate_mcg       0.137697\n",
       "VitB6_mg         0.133747\n",
       "Manganese_mg     0.125600\n",
       "Iron_mg          0.097110\n",
       "Carb_g           0.082723\n",
       "Zinc_mg          0.064319\n",
       "VitB12_mcg       0.058857\n",
       "Sugar_g          0.048421\n",
       "VitC_mg          0.024713\n",
       "Protein_g        0.013176\n",
       "VitA_mcg         0.008137\n",
       "Selenium_mcg     0.005049\n",
       "Name: principal_component_5, dtype: float64"
      ]
     },
     "execution_count": 21,
     "metadata": {},
     "output_type": "execute_result"
    }
   ],
   "source": [
    "principal_component_5 = pd.Series(componentes['principal_component_5'])\n",
    "principal_component_5.sort_values(ascending=False)"
   ]
  },
  {
   "cell_type": "markdown",
   "metadata": {},
   "source": [
    "Para el quinto componente principal se asocian _Fat-soluble vitamins_ (vitaminas solubles en grasa), el calcio y el magnesio. El porcentaje de varianza explicada para este componente principal es de 7.11%. "
   ]
  },
  {
   "cell_type": "markdown",
   "metadata": {},
   "source": [
    "- Sexto componente principal"
   ]
  },
  {
   "cell_type": "code",
   "execution_count": 22,
   "metadata": {},
   "outputs": [
    {
     "data": {
      "text/plain": [
       "VitC_mg          0.545219\n",
       "VitE_mg          0.475300\n",
       "Sugar_g          0.337022\n",
       "Carb_g           0.279369\n",
       "Selenium_mcg     0.243773\n",
       "VitB6_mg         0.200525\n",
       "Manganese_mg     0.182527\n",
       "Protein_g        0.141469\n",
       "Magnesium_mg     0.140120\n",
       "Fiber_g          0.134870\n",
       "Energy_kcal      0.132865\n",
       "Thiamin_mg       0.130000\n",
       "VitB12_mcg       0.123150\n",
       "Fat_g            0.116492\n",
       "Copper_mcg       0.086214\n",
       "Phosphorus_mg    0.083792\n",
       "Calcium_mg       0.070532\n",
       "Folate_mcg       0.054688\n",
       "Zinc_mg          0.054538\n",
       "Riboflavin_mg    0.050758\n",
       "VitA_mcg         0.039028\n",
       "Iron_mg          0.030539\n",
       "Niacin_mg        0.026277\n",
       "Name: principal_component_6, dtype: float64"
      ]
     },
     "execution_count": 22,
     "metadata": {},
     "output_type": "execute_result"
    }
   ],
   "source": [
    "principal_component_6 = pd.Series(componentes['principal_component_6'])\n",
    "principal_component_6.sort_values(ascending=False)"
   ]
  },
  {
   "cell_type": "markdown",
   "metadata": {},
   "source": [
    "Para el sexto componente principal se asocian la vitamina C, E y el azúcar. El porcentaje de varianza explicada para este componente es de 4.96%."
   ]
  },
  {
   "cell_type": "markdown",
   "metadata": {},
   "source": [
    "- Séptimo componente principal"
   ]
  },
  {
   "cell_type": "code",
   "execution_count": 23,
   "metadata": {},
   "outputs": [
    {
     "data": {
      "text/plain": [
       "Calcium_mg       0.462817\n",
       "VitC_mg          0.451276\n",
       "Fiber_g          0.414733\n",
       "Phosphorus_mg    0.323521\n",
       "Sugar_g          0.298613\n",
       "Magnesium_mg     0.269604\n",
       "Riboflavin_mg    0.141794\n",
       "Manganese_mg     0.136507\n",
       "Iron_mg          0.133322\n",
       "Folate_mcg       0.130939\n",
       "VitE_mg          0.125438\n",
       "Copper_mcg       0.119212\n",
       "Zinc_mg          0.105925\n",
       "VitA_mcg         0.101341\n",
       "Thiamin_mg       0.071844\n",
       "Energy_kcal      0.066823\n",
       "VitB12_mcg       0.056077\n",
       "Niacin_mg        0.045698\n",
       "Fat_g            0.045318\n",
       "VitB6_mg         0.024691\n",
       "Carb_g           0.022079\n",
       "Selenium_mcg     0.021893\n",
       "Protein_g        0.006299\n",
       "Name: principal_component_7, dtype: float64"
      ]
     },
     "execution_count": 23,
     "metadata": {},
     "output_type": "execute_result"
    }
   ],
   "source": [
    "principal_component_7 = pd.Series(componentes['principal_component_7'])\n",
    "principal_component_7.sort_values(ascending=False)"
   ]
  },
  {
   "cell_type": "markdown",
   "metadata": {},
   "source": [
    "Para el séptimo componente principal se asocian el calcio, la vitamina C y la fibra. El porcentaje de varianza explicada para este componente es de 4.61%."
   ]
  },
  {
   "cell_type": "code",
   "execution_count": 24,
   "metadata": {},
   "outputs": [],
   "source": [
    "componentesprincipales_analisis_post.to_csv('../../results/data_results/componentesprincipales_analisis_post.csv', index=False)"
   ]
  }
 ],
 "metadata": {
  "kernelspec": {
   "display_name": "Python 3",
   "language": "python",
   "name": "python3"
  },
  "language_info": {
   "codemirror_mode": {
    "name": "ipython",
    "version": 3
   },
   "file_extension": ".py",
   "mimetype": "text/x-python",
   "name": "python",
   "nbconvert_exporter": "python",
   "pygments_lexer": "ipython3",
   "version": "3.7.4"
  }
 },
 "nbformat": 4,
 "nbformat_minor": 4
}
