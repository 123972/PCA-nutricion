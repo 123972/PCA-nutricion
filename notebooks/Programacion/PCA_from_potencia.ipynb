{
 "cells": [
  {
   "cell_type": "code",
   "execution_count": 16,
   "metadata": {},
   "outputs": [],
   "source": [
    "import numpy as np\n",
    "import pandas as pd\n",
    "\n",
    "from sklearn.preprocessing import StandardScaler\n",
    "from sklearn import preprocessing\n",
    "from sklearn.decomposition import PCA\n",
    "\n",
    "import sys\n",
    "sys.path.append('./../../')\n",
    "\n",
    "from src.test_algorithms.err_relativo import err_relativo"
   ]
  },
  {
   "cell_type": "markdown",
   "metadata": {
    "colab_type": "text",
    "id": "Xx8sqdBs6TDE"
   },
   "source": [
    "# Método de la Potencia"
   ]
  },
  {
   "cell_type": "markdown",
   "metadata": {
    "colab_type": "text",
    "id": "Xx8sqdBs6TDE"
   },
   "source": [
    "En muchas aplicaciones del mundo real de la ciencia y la ingeniería, se requiere encontrar numéricamente el valor Eigen más grande o dominante y el Eigenvector correspondiente. Existen diferentes como el método de la potencia que sigue un enfoque iterativo y conforma un algoritmo simple.\n",
    "\n",
    "El siguiente algoritmo busca desarrollar los pasos necesario para el método de la potencia y así después pues ser implementado como otro método alternativo a los demás que se tienen en el proyecto.\n",
    "\n",
    "Dada una matriz $A$ diagonalizable, el algoritmo de la potencia genera un número $\\lambda$ que es el eigenvalor más grande (en valor asoluto) de $A$, y un vector no nulo $v$, que es el eigenvector correspondiente a $\\lambda$, es decir, son tales que $Av = \\lambda v$.\n",
    "\n",
    "El método de la potencia comienza con un vector $b_0$, que puede ser un vector aleatoio, o bien una aproximación al eigenvector dominante. La relación de recurrencia que describe al método es:\n",
    "$$b_{k+1}= \\frac{Ab_k}{\\|Ab_k\\|}$$\n",
    "Por lo que, en cada iteración, el vector $b_k$ es multiplicado por la matriz $A$ y luego normalizado.\n",
    "\n",
    "Buscamos una sucesión $(b_k)$ que converja a un eigenvector Para asegurar la convergencia, necesitan cumplirse las siguientes condiciones:\n",
    "\n",
    "- $A$ tiene un eigenvalor estrictamente mayor en magnitud respecto a sus otros eigenvalores\n",
    "- El vector de inicio $b_0$ tiene una componente distinta de cero en la dirección de un eigenvector asociado con el eigenvalor dominante.\n",
    "\n",
    "Además, bajo las dos supoosiciones anteriores, la sucesión $(\\mu_k)$ definida por:\n",
    "$$\\mu_k = \\frac{b_k^TAb_k}{b_k^Tb_k}$$\n",
    "converge al eigenvalor dominante. \n"
   ]
  },
  {
   "cell_type": "code",
   "execution_count": 17,
   "metadata": {
    "colab_type": "text",
    "id": "Xx8sqdBs6TDE"
   },
   "outputs": [],
   "source": [
    "df = pd.read_csv('../../data/nndb_flat.csv', encoding = \"UTF-8\")"
   ]
  },
  {
   "cell_type": "code",
   "execution_count": 18,
   "metadata": {
    "colab_type": "text",
    "id": "Xx8sqdBs6TDE"
   },
   "outputs": [],
   "source": [
    "df.drop(df.columns[df.columns.str.contains('_USRDA')].values, \n",
    "        inplace=True, axis=1)\n",
    "df = df.drop(columns=['ID','FoodGroup','ShortDescrip','Descrip','CommonName','MfgName','ScientificName'])"
   ]
  },
  {
   "cell_type": "code",
   "execution_count": 19,
   "metadata": {
    "colab_type": "text",
    "id": "Xx8sqdBs6TDE"
   },
   "outputs": [],
   "source": [
    "####Se estandarizan los datos.\n",
    "scaler = preprocessing.StandardScaler()\n",
    "X = scaler.fit_transform(df)"
   ]
  },
  {
   "cell_type": "code",
   "execution_count": 20,
   "metadata": {
    "scrolled": true
   },
   "outputs": [
    {
     "data": {
      "text/plain": [
       "array([[ 2.89623357, -1.01174721,  4.44128945, ..., -0.64991809,\n",
       "        -0.41055694, -0.55991833],\n",
       "       [ 2.89623357, -1.01174721,  4.44128945, ..., -0.65484222,\n",
       "        -0.41055694, -0.57183012],\n",
       "       [ 3.83495634, -1.06577576,  5.59915265, ..., -0.75332487,\n",
       "        -0.44590424, -0.58374191],\n",
       "       ...,\n",
       "       [ 0.25127886, -1.0923161 , -0.67108312, ..., -0.72870421,\n",
       "        -0.42116113, -0.53013886],\n",
       "       [-0.80552224,  0.43375349, -0.58284096, ...,  0.57126681,\n",
       "         0.52261173, -0.28892514],\n",
       "       [-0.81142615,  0.78446513, -0.63956806, ...,  0.11824661,\n",
       "         0.14793037, -0.28892514]])"
      ]
     },
     "execution_count": 20,
     "metadata": {},
     "output_type": "execute_result"
    }
   ],
   "source": [
    "X"
   ]
  },
  {
   "cell_type": "code",
   "execution_count": 21,
   "metadata": {
    "colab_type": "text",
    "id": "Xx8sqdBs6TDE"
   },
   "outputs": [
    {
     "name": "stdout",
     "output_type": "stream",
     "text": [
      "Matriz de Covarianzas\n",
      "[[ 1.00000000e+00  1.10302026e-01  8.06794721e-01  4.87096292e-01\n",
      "   3.13151419e-01  1.97337706e-01  2.63288685e-02  1.21872046e-01\n",
      "  -1.22922092e-02 -3.34948126e-02  3.03701016e-01  1.45936327e-01\n",
      "   1.74991200e-01  1.55830467e-01  1.87438795e-01  1.23571027e-01\n",
      "   9.95128814e-02  1.95564305e-01  2.55879578e-01  3.76210142e-02\n",
      "   1.95180646e-01  5.66727437e-02  1.12766353e-01]\n",
      " [ 1.10302026e-01  1.00000000e+00  5.47153843e-02 -3.01973931e-01\n",
      "  -2.66169540e-01 -7.27774043e-02  2.64827958e-02  2.28485319e-01\n",
      "   2.45423401e-01 -6.64555794e-02 -2.94814592e-02  8.93927218e-03\n",
      "   3.76939299e-01  2.02479732e-01  9.83597137e-02  4.68882866e-02\n",
      "   1.58899609e-01  1.26375330e-01  2.18610589e-01  3.97424386e-02\n",
      "   4.44607605e-01  3.78369173e-01  4.16315378e-01]\n",
      " [ 8.06794721e-01  5.47153843e-02  1.00000000e+00 -5.41161330e-02\n",
      "  -1.96205883e-03 -2.88420113e-02  2.43786763e-02 -4.69495534e-02\n",
      "  -2.07856488e-02 -5.99934668e-02  3.38008279e-01 -5.80492134e-02\n",
      "  -2.26710652e-02 -3.62859684e-02 -5.78544773e-03  1.50391530e-02\n",
      "   4.27649934e-02 -4.04084561e-02  7.07807656e-02 -5.91718208e-04\n",
      "   6.60864430e-02  3.75591448e-02  2.82635223e-02]\n",
      " [ 4.87096292e-01 -3.01973931e-01 -5.41161330e-02  1.00000000e+00\n",
      "   6.15344145e-01  4.58191916e-01  1.87085418e-03  1.95571216e-01\n",
      "  -9.46355552e-02  7.67454754e-02  7.02981974e-02  3.25169624e-01\n",
      "   1.73284864e-01  2.32407614e-01  2.81808814e-01  1.89106385e-01\n",
      "   6.21056997e-02  3.50463148e-01  2.87207132e-01  5.55701173e-02\n",
      "   7.31804607e-02 -1.14599537e-01 -1.21868867e-02]\n",
      " [ 3.13151419e-01 -2.66169540e-01 -1.96205883e-03  6.15344145e-01\n",
      "   1.00000000e+00  1.15916279e-01  1.01432834e-02  8.87674754e-02\n",
      "  -5.04503156e-02  6.41524224e-02  6.60570698e-02  1.61256731e-01\n",
      "   3.43783944e-02  1.25224873e-01  9.77509609e-02  1.29539960e-01\n",
      "  -5.83653356e-03  1.17765255e-01  4.13082062e-02  1.08710310e-02\n",
      "  -4.97840291e-02 -1.23707643e-01 -2.19906997e-02]\n",
      " [ 1.97337706e-01 -7.27774043e-02 -2.88420113e-02  4.58191916e-01\n",
      "   1.15916279e-01  1.00000000e+00  5.91023341e-03  2.42804169e-01\n",
      "  -5.20450341e-02  8.18517152e-02  1.60153977e-01  2.49075449e-01\n",
      "   1.35257427e-01  1.57702933e-01  2.05210762e-01  2.32285756e-01\n",
      "   1.85043886e-01  3.86710308e-01  5.42037535e-01  1.01661133e-01\n",
      "   1.58422395e-01 -3.58972326e-02  8.51538212e-02]\n",
      " [ 2.63288685e-02  2.64827958e-02  2.43786763e-02  1.87085418e-03\n",
      "   1.01432834e-02  5.91023341e-03  1.00000000e+00  1.36604595e-01\n",
      "   5.81003803e-01  1.11278956e-01  4.41288743e-02  1.08517157e-01\n",
      "   1.51678952e-01  3.25709472e-01  5.29206431e-02  3.48223121e-02\n",
      "   5.69944693e-01  1.03474522e-01  2.45720660e-02  3.69992929e-01\n",
      "   5.58137929e-02  4.80433015e-02  7.05413340e-02]\n",
      " [ 1.21872046e-01  2.28485319e-01 -4.69495534e-02  1.95571216e-01\n",
      "   8.87674754e-02  2.42804169e-01  1.36604595e-01  1.00000000e+00\n",
      "   2.64324918e-01  2.71304935e-01  2.86065218e-01  5.50087209e-01\n",
      "   7.14142544e-01  5.81677587e-01  4.17011421e-01  1.77268054e-01\n",
      "   1.16326489e-01  4.77905110e-01  2.93168520e-01  6.68756089e-02\n",
      "   2.13395341e-01  1.09003728e-01  4.47143168e-01]\n",
      " [-1.22922092e-02  2.45423401e-01 -2.07856488e-02 -9.46355552e-02\n",
      "  -5.04503156e-02 -5.20450341e-02  5.81003803e-01  2.64324918e-01\n",
      "   1.00000000e+00  7.26441798e-03  6.06177145e-02  1.58482724e-01\n",
      "   2.79032632e-01  4.36182322e-01  9.96012080e-02  1.17148659e-02\n",
      "   5.70641905e-01  1.77333563e-01  4.12416923e-03  2.42111568e-01\n",
      "   1.48774033e-01  2.15308049e-01  2.98136090e-01]\n",
      " [-3.34948126e-02 -6.64555794e-02 -5.99934668e-02  7.67454754e-02\n",
      "   6.41524224e-02  8.18517152e-02  1.11278956e-01  2.71304935e-01\n",
      "   7.26441798e-03  1.00000000e+00  6.68854742e-02  7.27968800e-02\n",
      "   2.09106609e-01  2.25927518e-01  5.69870237e-02  1.11825106e-01\n",
      "   2.54599791e-02  7.44168640e-02  1.15221564e-01  1.79418510e-02\n",
      "   1.20001002e-02 -3.52177913e-02  1.84755082e-02]\n",
      " [ 3.03701016e-01 -2.94814592e-02  3.38008279e-01  7.02981974e-02\n",
      "   6.60570698e-02  1.60153977e-01  4.41288743e-02  2.86065218e-01\n",
      "   6.06177145e-02  6.68854742e-02  1.00000000e+00  1.83967876e-01\n",
      "   1.96971511e-01  1.57163227e-01  1.19312780e-01  1.09670636e-01\n",
      "   7.45042327e-02  1.56331876e-01  1.95205154e-01  1.03335169e-01\n",
      "   6.82506433e-02  1.56248196e-02  1.67093390e-01]\n",
      " [ 1.45936327e-01  8.93927218e-03 -5.80492134e-02  3.25169624e-01\n",
      "   1.61256731e-01  2.49075449e-01  1.08517157e-01  5.50087209e-01\n",
      "   1.58482724e-01  7.27968800e-02  1.83967876e-01  1.00000000e+00\n",
      "   5.35132480e-01  5.70748397e-01  5.38829259e-01  1.49437883e-01\n",
      "   1.21114133e-01  4.74283830e-01  2.42796972e-01  5.83030316e-02\n",
      "   1.21929271e-01  3.48389111e-02  3.19580055e-01]\n",
      " [ 1.74991200e-01  3.76939299e-01 -2.26710652e-02  1.73284864e-01\n",
      "   3.43783944e-02  1.35257427e-01  1.51678952e-01  7.14142544e-01\n",
      "   2.79032632e-01  2.09106609e-01  1.96971511e-01  5.35132480e-01\n",
      "   1.00000000e+00  7.46736175e-01  6.01829145e-01  1.33287416e-01\n",
      "   1.38476605e-01  4.99756505e-01  2.71790132e-01  9.99610067e-02\n",
      "   2.56879493e-01  1.78883641e-01  4.71642037e-01]\n",
      " [ 1.55830467e-01  2.02479732e-01 -3.62859684e-02  2.32407614e-01\n",
      "   1.25224873e-01  1.57702933e-01  3.25709472e-01  5.81677587e-01\n",
      "   4.36182322e-01  2.25927518e-01  1.57163227e-01  5.70748397e-01\n",
      "   7.46736175e-01  1.00000000e+00  6.33719345e-01  2.22164600e-01\n",
      "   3.00762963e-01  5.06237326e-01  2.29216113e-01  1.06821571e-01\n",
      "   2.23967427e-01  1.40741865e-01  3.67610972e-01]\n",
      " [ 1.87438795e-01  9.83597137e-02 -5.78544773e-03  2.81808814e-01\n",
      "   9.77509609e-02  2.05210762e-01  5.29206431e-02  4.17011421e-01\n",
      "   9.96012080e-02  5.69870237e-02  1.19312780e-01  5.38829259e-01\n",
      "   6.01829145e-01  6.33719345e-01  1.00000000e+00  1.35845931e-01\n",
      "   9.96588751e-02  4.03659180e-01  2.44026919e-01  4.82821951e-02\n",
      "   1.74588557e-01  5.56979863e-02  2.49402363e-01]\n",
      " [ 1.23571027e-01  4.68882866e-02  1.50391530e-02  1.89106385e-01\n",
      "   1.29539960e-01  2.32285756e-01  3.48223121e-02  1.77268054e-01\n",
      "   1.17148659e-02  1.11825106e-01  1.09670636e-01  1.49437883e-01\n",
      "   1.33287416e-01  2.22164600e-01  1.35845931e-01  1.00000000e+00\n",
      "   8.32991095e-02  3.45616189e-01  3.12793706e-01  7.09333467e-02\n",
      "   5.68784496e-01  9.42357758e-03  1.40725151e-01]\n",
      " [ 9.95128814e-02  1.58899609e-01  4.27649934e-02  6.21056997e-02\n",
      "  -5.83653356e-03  1.85043886e-01  5.69944693e-01  1.16326489e-01\n",
      "   5.70641905e-01  2.54599791e-02  7.45042327e-02  1.21114133e-01\n",
      "   1.38476605e-01  3.00762963e-01  9.96588751e-02  8.32991095e-02\n",
      "   1.00000000e+00  1.79473410e-01  3.40868981e-01  1.67651703e-01\n",
      "   2.15915061e-01  1.26793391e-01  2.58452122e-01]\n",
      " [ 1.95564305e-01  1.26375330e-01 -4.04084561e-02  3.50463148e-01\n",
      "   1.17765255e-01  3.86710308e-01  1.03474522e-01  4.77905110e-01\n",
      "   1.77333563e-01  7.44168640e-02  1.56331876e-01  4.74283830e-01\n",
      "   4.99756505e-01  5.06237326e-01  4.03659180e-01  3.45616189e-01\n",
      "   1.79473410e-01  1.00000000e+00  4.02234488e-01  9.34051150e-02\n",
      "   2.20666033e-01  6.38579377e-02  3.75261070e-01]\n",
      " [ 2.55879578e-01  2.18610589e-01  7.07807656e-02  2.87207132e-01\n",
      "   4.13082062e-02  5.42037535e-01  2.45720660e-02  2.93168520e-01\n",
      "   4.12416923e-03  1.15221564e-01  1.95205154e-01  2.42796972e-01\n",
      "   2.71790132e-01  2.29216113e-01  2.44026919e-01  3.12793706e-01\n",
      "   3.40868981e-01  4.02234488e-01  1.00000000e+00  1.78296882e-01\n",
      "   4.28767582e-01  1.27088811e-01  2.56185268e-01]\n",
      " [ 3.76210142e-02  3.97424386e-02 -5.91718208e-04  5.55701173e-02\n",
      "   1.08710310e-02  1.01661133e-01  3.69992929e-01  6.68756089e-02\n",
      "   2.42111568e-01  1.79418510e-02  1.03335169e-01  5.83030316e-02\n",
      "   9.99610067e-02  1.06821571e-01  4.82821951e-02  7.09333467e-02\n",
      "   1.67651703e-01  9.34051150e-02  1.78296882e-01  1.00000000e+00\n",
      "   7.80524267e-02  2.24192799e-02  6.52208031e-02]\n",
      " [ 1.95180646e-01  4.44607605e-01  6.60864430e-02  7.31804607e-02\n",
      "  -4.97840291e-02  1.58422395e-01  5.58137929e-02  2.13395341e-01\n",
      "   1.48774033e-01  1.20001002e-02  6.82506433e-02  1.21929271e-01\n",
      "   2.56879493e-01  2.23967427e-01  1.74588557e-01  5.68784496e-01\n",
      "   2.15915061e-01  2.20666033e-01  4.28767582e-01  7.80524267e-02\n",
      "   1.00000000e+00  2.23685568e-01  2.66576940e-01]\n",
      " [ 5.66727437e-02  3.78369173e-01  3.75591448e-02 -1.14599537e-01\n",
      "  -1.23707643e-01 -3.58972326e-02  4.80433015e-02  1.09003728e-01\n",
      "   2.15308049e-01 -3.52177913e-02  1.56248196e-02  3.48389111e-02\n",
      "   1.78883641e-01  1.40741865e-01  5.56979863e-02  9.42357758e-03\n",
      "   1.26793391e-01  6.38579377e-02  1.27088811e-01  2.24192799e-02\n",
      "   2.23685568e-01  1.00000000e+00  2.05298592e-01]\n",
      " [ 1.12766353e-01  4.16315378e-01  2.82635223e-02 -1.21868867e-02\n",
      "  -2.19906997e-02  8.51538212e-02  7.05413340e-02  4.47143168e-01\n",
      "   2.98136090e-01  1.84755082e-02  1.67093390e-01  3.19580055e-01\n",
      "   4.71642037e-01  3.67610972e-01  2.49402363e-01  1.40725151e-01\n",
      "   2.58452122e-01  3.75261070e-01  2.56185268e-01  6.52208031e-02\n",
      "   2.66576940e-01  2.05298592e-01  1.00000000e+00]]\n"
     ]
    }
   ],
   "source": [
    "C = np.dot(X.T, X)/X.shape[0]\n",
    "\n",
    "print('Matriz de Covarianzas')\n",
    "print(C)"
   ]
  },
  {
   "cell_type": "markdown",
   "metadata": {},
   "source": [
    "Definimos la función que implementa el método de la potencia para obtener el eigenvalor dominante y su correspondiente eigenvector:"
   ]
  },
  {
   "cell_type": "code",
   "execution_count": 22,
   "metadata": {
    "colab_type": "text",
    "id": "Xx8sqdBs6TDE"
   },
   "outputs": [],
   "source": [
    "def power_iteration(A, num_simulations: int):\n",
    "    # Ideally choose a random vector\n",
    "    # To decrease the chance that our vector\n",
    "    # Is orthogonal to the eigenvector\n",
    "    b_k = np.random.rand(A.shape[1])\n",
    "\n",
    "    for _ in range(num_simulations):\n",
    "        # calculate the matrix-by-vector product Ab\n",
    "        b_k1 = np.dot(A, b_k)\n",
    "\n",
    "        # calculate the norm\n",
    "        b_k1_norm = np.linalg.norm(b_k1)\n",
    "\n",
    "        # re normalize the vector\n",
    "        b_k = b_k1 / b_k1_norm\n",
    "    \n",
    "    #Obtenemos el eigenvalor correspondiente a b_k con el cociente de Rayleigh\n",
    "    m_k = (b_k.T@A@b_k)/(b_k.T@b_k)\n",
    "    \n",
    "    #Devolvemos el mayor eigenvalor y su correspondiente eigenvector\n",
    "    return m_k,b_k\n",
    "    "
   ]
  },
  {
   "cell_type": "code",
   "execution_count": 23,
   "metadata": {},
   "outputs": [],
   "source": [
    "m_1,b_1 = power_iteration(C,500)"
   ]
  },
  {
   "cell_type": "code",
   "execution_count": 24,
   "metadata": {},
   "outputs": [
    {
     "data": {
      "text/plain": [
       "5.449285764311568"
      ]
     },
     "execution_count": 24,
     "metadata": {},
     "output_type": "execute_result"
    }
   ],
   "source": [
    "#eigenvalor dominante\n",
    "m_1"
   ]
  },
  {
   "cell_type": "code",
   "execution_count": 25,
   "metadata": {},
   "outputs": [
    {
     "data": {
      "text/plain": [
       "array([0.15781363, 0.1406199 , 0.03300812, 0.16968451, 0.07632275,\n",
       "       0.18156988, 0.13351884, 0.31566282, 0.17798456, 0.08763937,\n",
       "       0.13712201, 0.28410233, 0.33777895, 0.34132464, 0.27245318,\n",
       "       0.16811197, 0.18080591, 0.2998569 , 0.24134847, 0.09356749,\n",
       "       0.19940258, 0.0923186 , 0.24355123])"
      ]
     },
     "execution_count": 25,
     "metadata": {},
     "output_type": "execute_result"
    }
   ],
   "source": [
    "#eigenvector correspondiente al eigenvalor dominante\n",
    "b_1"
   ]
  },
  {
   "cell_type": "markdown",
   "metadata": {},
   "source": [
    "Podemos comparar los valores obtenidos con el primer eigenvalor y eigenvector:"
   ]
  },
  {
   "cell_type": "code",
   "execution_count": 26,
   "metadata": {},
   "outputs": [],
   "source": [
    "evalues, evectors = np.linalg.eig(C)"
   ]
  },
  {
   "cell_type": "code",
   "execution_count": 27,
   "metadata": {},
   "outputs": [
    {
     "data": {
      "text/plain": [
       "5.449285764311579"
      ]
     },
     "execution_count": 27,
     "metadata": {},
     "output_type": "execute_result"
    }
   ],
   "source": [
    "evalues[0]"
   ]
  },
  {
   "cell_type": "code",
   "execution_count": 28,
   "metadata": {},
   "outputs": [
    {
     "data": {
      "text/plain": [
       "array([-0.15781363, -0.1406199 , -0.03300812, -0.16968451, -0.07632275,\n",
       "       -0.18156988, -0.13351884, -0.31566282, -0.17798456, -0.08763937,\n",
       "       -0.13712201, -0.28410233, -0.33777895, -0.34132464, -0.27245318,\n",
       "       -0.16811197, -0.18080591, -0.2998569 , -0.24134847, -0.09356749,\n",
       "       -0.19940258, -0.0923186 , -0.24355123])"
      ]
     },
     "execution_count": 28,
     "metadata": {},
     "output_type": "execute_result"
    }
   ],
   "source": [
    "evectors.T[0]"
   ]
  },
  {
   "cell_type": "code",
   "execution_count": 29,
   "metadata": {},
   "outputs": [
    {
     "data": {
      "text/plain": [
       "True"
      ]
     },
     "execution_count": 29,
     "metadata": {},
     "output_type": "execute_result"
    }
   ],
   "source": [
    "np.allclose(m_1,evalues[0])"
   ]
  },
  {
   "cell_type": "code",
   "execution_count": 30,
   "metadata": {},
   "outputs": [
    {
     "data": {
      "text/plain": [
       "True"
      ]
     },
     "execution_count": 30,
     "metadata": {},
     "output_type": "execute_result"
    }
   ],
   "source": [
    "np.allclose(np.abs(b_1),np.abs(evectors.T[0]))"
   ]
  },
  {
   "cell_type": "markdown",
   "metadata": {
    "colab_type": "text",
    "id": "Xx8sqdBs6TDE"
   },
   "source": [
    "## Deflation"
   ]
  },
  {
   "cell_type": "markdown",
   "metadata": {
    "colab_type": "text",
    "id": "Xx8sqdBs6TDE"
   },
   "source": [
    "Con lo anterior, hemos obtenido el eigenvalor de mayor magnitud y su correspondiente eigenvalor. Sin embargo, para hacer el PCA necesitamos los demás eigenvalores. Es aquí donde entra el método de *deflation*. Este consiste en volver a aplicar el método a una matriz actualizada:\n",
    "$$A_{k+1}= A_k - b_kb_k^TA_kb_kb_k^T$$"
   ]
  },
  {
   "cell_type": "markdown",
   "metadata": {
    "colab_type": "text",
    "id": "Xx8sqdBs6TDE"
   },
   "source": [
    "Apliquemos dicha transformación a la matriz de covarianzas $C$ para obtener el segundo eigenvalor de $C$ y su correspondiente eigenvector:"
   ]
  },
  {
   "cell_type": "code",
   "execution_count": 31,
   "metadata": {},
   "outputs": [],
   "source": [
    "C_def = C- np.outer(b_1,b_1)@C@np.outer(b_1,b_1)"
   ]
  },
  {
   "cell_type": "code",
   "execution_count": 32,
   "metadata": {},
   "outputs": [],
   "source": [
    "m_2,b_2 = power_iteration(C_def,100)"
   ]
  },
  {
   "cell_type": "code",
   "execution_count": 33,
   "metadata": {},
   "outputs": [
    {
     "data": {
      "text/plain": [
       "2.6184583526663694"
      ]
     },
     "execution_count": 33,
     "metadata": {},
     "output_type": "execute_result"
    }
   ],
   "source": [
    "m_2"
   ]
  },
  {
   "cell_type": "code",
   "execution_count": 34,
   "metadata": {},
   "outputs": [
    {
     "data": {
      "text/plain": [
       "array([ 0.27344866, -0.34339677,  0.11167035,  0.44341644,  0.35876913,\n",
       "        0.25773287, -0.23647025, -0.02112889, -0.35504461,  0.03852455,\n",
       "        0.10637166,  0.09709328, -0.08480073, -0.07347102,  0.0751503 ,\n",
       "        0.10517259, -0.21266898,  0.09381195,  0.10336119, -0.08878313,\n",
       "       -0.08744763, -0.23932243, -0.17779772])"
      ]
     },
     "execution_count": 34,
     "metadata": {},
     "output_type": "execute_result"
    }
   ],
   "source": [
    "b_2"
   ]
  },
  {
   "cell_type": "markdown",
   "metadata": {},
   "source": [
    "Podemos corroborar que estos valores aproximan el segundo eigenvalor y su correspondiente eigenvector"
   ]
  },
  {
   "cell_type": "code",
   "execution_count": 35,
   "metadata": {},
   "outputs": [
    {
     "data": {
      "text/plain": [
       "2.6184583526663796"
      ]
     },
     "execution_count": 35,
     "metadata": {},
     "output_type": "execute_result"
    }
   ],
   "source": [
    "evalues[1]"
   ]
  },
  {
   "cell_type": "code",
   "execution_count": 36,
   "metadata": {},
   "outputs": [
    {
     "data": {
      "text/plain": [
       "array([-0.27344866,  0.34339677, -0.11167035, -0.44341644, -0.35876913,\n",
       "       -0.25773287,  0.23647025,  0.02112889,  0.35504461, -0.03852455,\n",
       "       -0.10637166, -0.09709328,  0.08480073,  0.07347102, -0.0751503 ,\n",
       "       -0.10517259,  0.21266898, -0.09381195, -0.10336119,  0.08878313,\n",
       "        0.08744763,  0.23932243,  0.17779772])"
      ]
     },
     "execution_count": 36,
     "metadata": {},
     "output_type": "execute_result"
    }
   ],
   "source": [
    "evectors.T[1]"
   ]
  },
  {
   "cell_type": "markdown",
   "metadata": {},
   "source": [
    "Así, creamos una función que combine el método de la potencia y *deflation*:\n"
   ]
  },
  {
   "cell_type": "code",
   "execution_count": 37,
   "metadata": {},
   "outputs": [],
   "source": [
    "def power_deflation(A,iter):\n",
    "    #numero de columnas\n",
    "    n = A.shape[1]\n",
    "    # Inicializamos arrays de ceros\n",
    "    eigenvalues = np.zeros(n)\n",
    "    eigenvectors = np.zeros((n,n))\n",
    "    #Hago una copia de la matriz original\n",
    "    A_def = A.copy()\n",
    "    #Iteramos tantas veces como columnas de la matriz\n",
    "    for i in range(n):\n",
    "        #Aplicamos el método de la potencia\n",
    "        m_def,b_def = power_iteration(A_def,iter)\n",
    "        #Actualizamos los arrays de eigen valores y vectores\n",
    "        eigenvalues[i] = m_def\n",
    "        eigenvectors[:,i]= b_def\n",
    "        # Matriz actualizada\n",
    "        A_def = A_def - np.outer(b_def,b_def)@A_def@np.outer(b_def,b_def)\n",
    "    return eigenvalues, eigenvectors"
   ]
  },
  {
   "cell_type": "code",
   "execution_count": 38,
   "metadata": {},
   "outputs": [],
   "source": [
    "evalues_pow, evectors_pow = power_deflation(C,50)"
   ]
  },
  {
   "cell_type": "markdown",
   "metadata": {},
   "source": [
    "Podemos notar que (salvo por el orden decreciente en que nosotros obtenemos los valores), se trata de una buena aproximación:"
   ]
  },
  {
   "cell_type": "code",
   "execution_count": 39,
   "metadata": {},
   "outputs": [
    {
     "data": {
      "text/plain": [
       "array([5.44928576e+00, 2.61845828e+00, 2.03176806e+00, 1.87927007e+00,\n",
       "       1.63567314e+00, 1.14019627e+00, 1.06104466e+00, 9.26240016e-01,\n",
       "       8.61270808e-01, 8.25488584e-01, 7.31240120e-01, 5.96894949e-01,\n",
       "       5.08500550e-01, 4.69626863e-01, 4.07986317e-01, 3.35848784e-01,\n",
       "       3.29801786e-01, 3.23180047e-01, 2.56191219e-01, 2.38151299e-01,\n",
       "       2.11158953e-01, 1.59093679e-01, 3.79524723e-03])"
      ]
     },
     "execution_count": 39,
     "metadata": {},
     "output_type": "execute_result"
    }
   ],
   "source": [
    "# Lo que obtenemos\n",
    "evalues_pow"
   ]
  },
  {
   "cell_type": "code",
   "execution_count": 40,
   "metadata": {},
   "outputs": [
    {
     "data": {
      "text/plain": [
       "array([5.44928576e+00, 2.61845835e+00, 2.03189759e+00, 1.87913144e+00,\n",
       "       1.63567140e+00, 1.14037066e+00, 1.06086727e+00, 9.26253795e-01,\n",
       "       8.62018168e-01, 8.24686441e-01, 7.31232556e-01, 5.96894964e-01,\n",
       "       5.08653057e-01, 4.69461661e-01, 4.07986316e-01, 3.37934003e-01,\n",
       "       3.29568690e-01, 3.21238326e-01, 2.56202403e-01, 2.38139303e-01,\n",
       "       2.11158912e-01, 1.59093679e-01, 3.79524723e-03])"
      ]
     },
     "execution_count": 40,
     "metadata": {},
     "output_type": "execute_result"
    }
   ],
   "source": [
    "#Lo que esperamos (ordenado de forma decreciente)\n",
    "evalues = np.sort(evalues)[::-1]\n",
    "evalues"
   ]
  },
  {
   "cell_type": "markdown",
   "metadata": {},
   "source": [
    "## PCA"
   ]
  },
  {
   "cell_type": "code",
   "execution_count": 41,
   "metadata": {},
   "outputs": [],
   "source": [
    "###  devuelve el comp-ésimo eigenvalor y su eigenvector\n",
    "def calPCA(sigma, comp):\n",
    "    eig_vals, eig_vecs = power_deflation(sigma,50)\n",
    "    return {'eig_val': eig_vals[comp-1], 'eig_vec': eig_vecs[:,comp-1]}"
   ]
  },
  {
   "cell_type": "code",
   "execution_count": 42,
   "metadata": {},
   "outputs": [
    {
     "data": {
      "text/plain": [
       "22.996844165965722"
      ]
     },
     "execution_count": 42,
     "metadata": {},
     "output_type": "execute_result"
    }
   ],
   "source": [
    "total_var = 0\n",
    "for i in range(X.shape[1]):\n",
    "    total_var = total_var + calPCA(C, i+1)['eig_val']\n",
    "total_var"
   ]
  },
  {
   "cell_type": "code",
   "execution_count": 43,
   "metadata": {},
   "outputs": [
    {
     "data": {
      "text/plain": [
       "23.00016547471999"
      ]
     },
     "execution_count": 43,
     "metadata": {},
     "output_type": "execute_result"
    }
   ],
   "source": [
    "np.sum(evalues_pow)"
   ]
  },
  {
   "cell_type": "code",
   "execution_count": 46,
   "metadata": {
    "colab": {
     "base_uri": "https://localhost:8080/",
     "height": 550
    },
    "colab_type": "code",
    "id": "wy8DD4cgT2b5",
    "outputId": "2d43eec0-f64d-4596-e147-a1894d524b5a"
   },
   "outputs": [],
   "source": [
    "def PCA_from_potencia(X):\n",
    "    prop = 0 #Proporción de varianza explicada\n",
    "    comp = 1 \n",
    "    cur_var = 0\n",
    "    comp_vecs = np.zeros([X.shape[1], X.shape[1]])\n",
    "    \n",
    "    # convertir a array\n",
    "    A = np.array(X)\n",
    "    \n",
    "    # Centrar los datos\n",
    "    mean_vec = np.mean(A, axis=0)\n",
    "    datos_centrados = (A - mean_vec)\n",
    "    \n",
    "    #Calculamos la matriz de covarianzas\n",
    "    cov = np.dot(X.T, X)/X.shape[0]\n",
    "    \n",
    "    #Aplicamos el método de la potencia\n",
    "    evalues_pow, evectors_pow = power_deflation(cov,50)\n",
    "    \n",
    "    # La varianza explicada\n",
    "    varianza_explicada = evalues_pow/np.sum(evalues_pow)\n",
    "    \n",
    "    # Los datos transformados (componentes principales)\n",
    "    Z = datos_centrados@evectors_pow\n",
    "    \n",
    "    \n",
    "    # Calcula número de componentes de manera automatica de acuerdo a la variana explicada\n",
    "    # Threshold de 80%\n",
    "    n = X.shape[1] #numero de columnas\n",
    "    varianza_acumulada = varianza_explicada.cumsum()\n",
    "    conteo = (varianza_acumulada)  <  0.8\n",
    "    num_componentes = conteo.sum() + 1\n",
    "    \n",
    "    return evalues_pow[:num_componentes], evectors_pow[:num_componentes], Z[:,:num_componentes], varianza_explicada[:num_componentes] \n",
    "    "
   ]
  },
  {
   "cell_type": "code",
   "execution_count": 47,
   "metadata": {},
   "outputs": [
    {
     "data": {
      "text/plain": [
       "(array([5.44928576, 2.61845835, 2.03189438, 1.87913487, 1.63567144,\n",
       "        1.14036142, 1.06087647, 0.92445864, 0.8638228 , 0.82455041]),\n",
       " array([[ 1.57813630e-01,  2.73451306e-01,  4.62239418e-01,\n",
       "          5.00964102e-02,  2.93574522e-01,  1.33579181e-01,\n",
       "          6.50994393e-02,  7.88950351e-02,  1.96305449e-02,\n",
       "         -1.35810647e-01, -1.48565131e-01, -1.17149616e-01,\n",
       "          6.32426439e-02,  6.14466536e-02, -3.88280756e-02,\n",
       "         -3.35393990e-02,  2.59279970e-02, -1.20147047e-01,\n",
       "         -7.84001586e-02,  7.57914501e-02, -1.29365504e-01,\n",
       "          3.80913949e-02,  6.78011231e-01],\n",
       "        [ 1.40619902e-01, -3.43395589e-01,  2.12142579e-01,\n",
       "         -3.12170339e-01, -1.30490950e-02,  1.41530242e-01,\n",
       "          4.36727119e-03,  1.39221514e-01,  1.24052861e-01,\n",
       "         -1.10511415e-02, -3.08171327e-01,  1.29483795e-01,\n",
       "          3.02441130e-01, -1.15138485e-01,  1.31510901e-01,\n",
       "          1.12573113e-01,  4.69611544e-01,  1.82747179e-01,\n",
       "         -3.84792463e-02,  2.26149730e-01, -2.55012599e-01,\n",
       "          1.08762935e-01, -1.78929900e-01],\n",
       "        [ 3.30081164e-02,  1.11673399e-01,  5.34166940e-01,\n",
       "          2.40158601e-02,  3.94439013e-01, -1.15997163e-01,\n",
       "          4.67934448e-02, -6.62478989e-02, -9.22914730e-02,\n",
       "         -1.91660731e-01, -6.55280694e-02, -2.01829599e-01,\n",
       "         -9.49022224e-02,  1.11731184e-01, -3.23521681e-02,\n",
       "         -3.67990902e-02, -1.16842061e-01,  2.07215433e-01,\n",
       "          8.83790709e-02, -5.47647848e-02,  1.59136385e-01,\n",
       "         -3.67014493e-02, -5.63279589e-01],\n",
       "        [ 1.69684515e-01,  4.43416178e-01, -4.90272839e-02,\n",
       "          1.74323114e-01, -8.27935965e-02,  2.79592590e-01,\n",
       "          1.84621738e-02,  1.73068423e-01,  9.04138793e-02,\n",
       "          3.79406377e-02, -2.38515017e-02,  2.82310348e-02,\n",
       "          1.13598989e-01, -2.57803304e-04, -9.29854937e-02,\n",
       "         -4.66250204e-02,  1.97190950e-03, -5.14571189e-01,\n",
       "         -2.12418652e-01,  9.18729730e-02, -2.79958116e-01,\n",
       "          6.79219943e-02, -4.35871314e-01],\n",
       "        [ 7.63227455e-02,  3.58768842e-01, -5.42534677e-02,\n",
       "          2.17661171e-01,  4.83319118e-02,  3.40223827e-01,\n",
       "          2.94330494e-01,  1.71748998e-01,  1.44309367e-01,\n",
       "          3.81754590e-01, -5.67570465e-02,  2.28027231e-01,\n",
       "         -3.16126279e-02, -1.13752404e-01,  1.38096648e-01,\n",
       "          6.85997351e-02,  6.61071516e-02,  4.54434604e-01,\n",
       "          2.25547401e-01, -7.84070366e-02,  2.11806534e-01,\n",
       "         -7.92625628e-02,  2.99819669e-03],\n",
       "        [ 1.81569881e-01,  2.57733109e-01,  4.05872386e-02,\n",
       "          4.18114871e-02, -3.32178556e-01, -1.39331306e-01,\n",
       "         -4.13568279e-01,  1.72159889e-01, -1.02935531e-01,\n",
       "         -8.51541974e-02,  4.11859008e-02, -9.94139356e-02,\n",
       "          2.69014738e-01,  3.19507632e-02, -5.35527742e-01,\n",
       "          1.11358492e-01,  2.12717974e-01,  2.69032110e-01,\n",
       "          2.56773602e-02, -4.83138086e-02,  1.92078328e-01,\n",
       "         -6.85494806e-02,  2.73835209e-02],\n",
       "        [ 1.33518842e-01, -2.36470065e-01,  2.43595386e-02,\n",
       "          5.30277245e-01, -8.35346793e-03, -3.79333313e-02,\n",
       "          1.01896974e-01, -5.02807926e-02, -1.99365073e-02,\n",
       "         -1.17972591e-01,  2.40749436e-02, -7.85889354e-02,\n",
       "          1.13084384e-01,  9.69441164e-02,  8.22321374e-02,\n",
       "          6.63404819e-01,  5.20521802e-02, -9.51890179e-02,\n",
       "          1.32748057e-01, -2.79792374e-01, -1.75508693e-01,\n",
       "         -2.83935605e-02, -1.68609466e-03],\n",
       "        [ 3.15662821e-01, -2.11299020e-02, -1.75169049e-01,\n",
       "         -1.13458756e-01,  1.33794032e-01, -2.00246021e-01,\n",
       "          2.68158026e-02,  8.81787952e-02,  1.87062538e-02,\n",
       "          1.98981361e-01, -4.55040269e-02, -9.23391636e-03,\n",
       "          3.77949089e-01,  2.73446251e-01, -5.43403058e-03,\n",
       "          7.56748821e-02, -5.19561922e-01,  6.51847124e-02,\n",
       "          2.63117236e-01,  2.85012524e-01, -3.58789113e-02,\n",
       "          3.13217189e-01,  6.14934549e-03],\n",
       "        [ 1.77984556e-01, -3.55044496e-01,  1.43496645e-02,\n",
       "          3.46503749e-01,  5.87151627e-02,  1.23747128e-01,\n",
       "          5.46547440e-02, -1.59571063e-02, -1.23198923e-01,\n",
       "          1.37324954e-01,  7.03523311e-02, -7.15206573e-02,\n",
       "          2.12355010e-01, -3.76077186e-02, -2.16630962e-01,\n",
       "         -6.12655520e-01, -1.89288339e-03,  8.31448010e-02,\n",
       "          1.59458786e-01, -1.69016058e-01, -2.89424385e-01,\n",
       "         -2.06560613e-01, -3.64660587e-03],\n",
       "        [ 8.76393657e-02,  3.85236309e-02, -1.62083338e-01,\n",
       "          4.83782686e-02, -2.47320657e-02, -5.40315803e-01,\n",
       "          4.56349032e-01,  5.22454380e-01, -1.71591743e-02,\n",
       "         -1.54899657e-01, -1.24851621e-01, -7.66401253e-02,\n",
       "         -2.11529922e-01,  1.10097544e-02, -3.35239147e-02,\n",
       "         -1.32420591e-01,  2.45098399e-01, -7.86297871e-02,\n",
       "          1.04899414e-01,  4.59926763e-02, -2.22664751e-02,\n",
       "         -3.70971744e-02,  5.33693428e-03]]),\n",
       " array([[-1.12177585,  1.18227243,  3.66684956, ..., -0.66537935,\n",
       "         -0.58992211, -1.37344914],\n",
       "        [-1.11468691,  1.18419404,  3.66728405, ..., -0.6642027 ,\n",
       "         -0.60067518, -1.37888909],\n",
       "        [-0.99491941,  1.57360649,  4.70370462, ..., -0.6657142 ,\n",
       "         -0.68751785, -1.69625557],\n",
       "        ...,\n",
       "        [-0.7676707 ,  3.26765093, -0.97635517, ...,  0.91655606,\n",
       "          0.80442362,  1.91024354],\n",
       "        [ 0.35589709, -0.67842972,  0.99987657, ...,  0.66363977,\n",
       "         -0.09931839,  0.08575104],\n",
       "        [-0.8668898 , -1.1984602 , -0.19565872, ..., -0.25531999,\n",
       "         -0.03508672,  0.00553896]]),\n",
       " array([0.23692272, 0.11384469, 0.08834221, 0.08170057, 0.07111532,\n",
       "        0.04958036, 0.04612453, 0.04019339, 0.03755708, 0.0358496 ]))"
      ]
     },
     "execution_count": 47,
     "metadata": {},
     "output_type": "execute_result"
    }
   ],
   "source": [
    "PCA_from_potencia(X)"
   ]
  },
  {
   "cell_type": "markdown",
   "metadata": {},
   "source": [
    "## Referencias\n",
    "- Wikipedia [Power iteration](https://en.wikipedia.org/w/index.php?title=Power_iteration&oldid=957783806) (last visited May 29, 2020)\n",
    "- Mackey, Lester. (2008). Deflation Methods for Sparse PCA. Advances in Neural Information Processing Systems 21 - Proceedings of the 2008 Conference. 21. 1017-1024. \n",
    "- Power Method Algorithm for Finding Dominant Eigen Value and Eigen Vector. (n.d.). Retrieved May 23, 2020, from https://www.codesansar.com/numerical-methods/power-method-algorithm-for-finding-dominant-eigen-value-and-eigen-vector.htm\n",
    "\n",
    "- Fox, J., Chalmers, P., Monette, G., & Sanchez, G. (2020, April 14). powerMethod: Power Method for Eigenvectors in matlib: Matrix Functions for Teaching and Learning Linear Algebra and Multivariate Statistics. Retrieved from https://rdrr.io/cran/matlib/man/powerMethod.html\n",
    "\n",
    "- Dan, D. J. (n.d.). dianejdan/Power-Method-PCA. Retrieved May 27, 2020, from https://github.com/dianejdan/Power-Method-PCA/blob/master/power-pca.py"
   ]
  }
 ],
 "metadata": {
  "colab": {
   "collapsed_sections": [],
   "name": "Metodo_de_la_potencia.ipynb",
   "provenance": [],
   "toc_visible": true
  },
  "kernelspec": {
   "display_name": "Python 3",
   "language": "python",
   "name": "python3"
  },
  "language_info": {
   "codemirror_mode": {
    "name": "ipython",
    "version": 3
   },
   "file_extension": ".py",
   "mimetype": "text/x-python",
   "name": "python",
   "nbconvert_exporter": "python",
   "pygments_lexer": "ipython3",
   "version": "3.6.10"
  }
 },
 "nbformat": 4,
 "nbformat_minor": 1
}
