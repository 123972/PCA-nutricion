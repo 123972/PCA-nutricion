{
 "cells": [
  {
   "cell_type": "code",
   "execution_count": 1,
   "metadata": {},
   "outputs": [],
   "source": [
    "import numpy as np\n",
    "import pandas as pd\n",
    "\n",
    "from sklearn.preprocessing import StandardScaler\n",
    "from sklearn import preprocessing"
   ]
  },
  {
   "cell_type": "code",
   "execution_count": 2,
   "metadata": {
    "scrolled": true
   },
   "outputs": [],
   "source": [
    "# Importamos el módulo con nuestras funciones\n",
    "import sys\n",
    "sys.path.append('./../../')\n",
    "\n",
    "# OPTIONAL: Load the \"autoreload\" extension so that code can change\n",
    "%load_ext autoreload\n",
    "\n",
    "#Own Library modules\n",
    "import src\n",
    "# OPTIONAL: always reload modules so that as you change code in src, it gets loaded\n",
    "%autoreload 2\n",
    "\n",
    "from src.pca import todoJunto\n",
    "from src.test_algorithms import comparaModelos\n",
    "from src.test_algorithms.err_relativo import err_relativo"
   ]
  },
  {
   "cell_type": "markdown",
   "metadata": {},
   "source": [
    "#### Objetivo:\n",
    "\n",
    "El objetivo de este notebook es comparar los resultados de:\n",
    "+ PCA de scikit-learn \n",
    "+ la implementación de PCA usando la función SVD de numpy.\n",
    "+ la implementación de PCA usando la implementación del algoritmo Jacobi one-sided para obtener la SVD"
   ]
  },
  {
   "cell_type": "code",
   "execution_count": 3,
   "metadata": {},
   "outputs": [],
   "source": [
    "df = pd.read_csv('../../data/datos_limpios.csv', encoding = \"L1\")"
   ]
  },
  {
   "cell_type": "markdown",
   "metadata": {},
   "source": [
    "# Sección 3. Expectativas educativas"
   ]
  },
  {
   "cell_type": "markdown",
   "metadata": {},
   "source": [
    "- Tomamos como un primer ejemplo para estas pruebas, la sección 3 de la encuesta."
   ]
  },
  {
   "cell_type": "code",
   "execution_count": 4,
   "metadata": {},
   "outputs": [],
   "source": [
    "seccion_3 = df.loc[:, ['p10', 'p11', 'p12', 'p13', 'p14']] ###Se seleccionan las preguntas que conforman esta sección"
   ]
  },
  {
   "cell_type": "code",
   "execution_count": 5,
   "metadata": {},
   "outputs": [],
   "source": [
    "####Se estandarizan los datos.\n",
    "scaler = preprocessing.StandardScaler()\n",
    "seccion_3 = scaler.fit_transform(seccion_3)"
   ]
  },
  {
   "cell_type": "markdown",
   "metadata": {},
   "source": [
    "## PCA de scikit-learn\n",
    "Se obtienen los atributos que conforman la función componentes_principales del archivo pca.py"
   ]
  },
  {
   "cell_type": "code",
   "execution_count": 6,
   "metadata": {},
   "outputs": [],
   "source": [
    "pca, var_exp, comp_prin, val_sing, pca_coef, eigenvalues = todoJunto.PCA_from_sklearn(seccion_3)"
   ]
  },
  {
   "cell_type": "code",
   "execution_count": 7,
   "metadata": {},
   "outputs": [
    {
     "data": {
      "text/plain": [
       "PCA(copy=True, iterated_power='auto', n_components=2, random_state=None,\n",
       "    svd_solver='full', tol=0.0, whiten=False)"
      ]
     },
     "execution_count": 7,
     "metadata": {},
     "output_type": "execute_result"
    }
   ],
   "source": [
    "pca"
   ]
  },
  {
   "cell_type": "code",
   "execution_count": 8,
   "metadata": {},
   "outputs": [
    {
     "data": {
      "text/plain": [
       "array([[-2.75115163,  1.03803342],\n",
       "       [ 1.43930486, -0.27433591],\n",
       "       [-0.07564678, -1.16356118],\n",
       "       ...,\n",
       "       [ 1.37202071, -1.2693296 ],\n",
       "       [-1.48150682, -0.93830593],\n",
       "       [-0.54628676, -0.67975472]])"
      ]
     },
     "execution_count": 8,
     "metadata": {},
     "output_type": "execute_result"
    }
   ],
   "source": [
    "comp_prin"
   ]
  },
  {
   "cell_type": "code",
   "execution_count": 9,
   "metadata": {},
   "outputs": [
    {
     "data": {
      "text/plain": [
       "array([1180.28600498,  782.39469765])"
      ]
     },
     "execution_count": 9,
     "metadata": {},
     "output_type": "execute_result"
    }
   ],
   "source": [
    "val_sing"
   ]
  },
  {
   "cell_type": "code",
   "execution_count": 10,
   "metadata": {},
   "outputs": [
    {
     "data": {
      "text/plain": [
       "array([[ 0.11876861,  0.43356271,  0.48797319,  0.53049047,  0.52761674],\n",
       "       [-0.74579472,  0.45015978,  0.3287432 , -0.199727  , -0.30525963]])"
      ]
     },
     "execution_count": 10,
     "metadata": {},
     "output_type": "execute_result"
    }
   ],
   "source": [
    "pca_coef"
   ]
  },
  {
   "cell_type": "code",
   "execution_count": 11,
   "metadata": {},
   "outputs": [
    {
     "data": {
      "text/plain": [
       "array([2.48486074, 1.09189113])"
      ]
     },
     "execution_count": 11,
     "metadata": {},
     "output_type": "execute_result"
    }
   ],
   "source": [
    "eigenvalues"
   ]
  },
  {
   "cell_type": "code",
   "execution_count": 12,
   "metadata": {},
   "outputs": [
    {
     "data": {
      "text/plain": [
       "array([0.49697126, 0.21837784])"
      ]
     },
     "execution_count": 12,
     "metadata": {},
     "output_type": "execute_result"
    }
   ],
   "source": [
    "var_exp"
   ]
  },
  {
   "cell_type": "markdown",
   "metadata": {},
   "source": [
    "## PCA usando SVD de numpy\n",
    "Ahora se obtienen los PCA a través de la función `svd` del módulo `linalg` de `numpy` ."
   ]
  },
  {
   "cell_type": "code",
   "execution_count": 13,
   "metadata": {},
   "outputs": [],
   "source": [
    "np_val_sing, np_pca_coef, np_comp_prin, np_var_exp = todoJunto.PCA_from_SVD(seccion_3)"
   ]
  },
  {
   "cell_type": "code",
   "execution_count": 14,
   "metadata": {},
   "outputs": [
    {
     "data": {
      "text/plain": [
       "array([1180.28600498,  782.39469765])"
      ]
     },
     "execution_count": 14,
     "metadata": {},
     "output_type": "execute_result"
    }
   ],
   "source": [
    "np_val_sing # Valores singulares"
   ]
  },
  {
   "cell_type": "code",
   "execution_count": 15,
   "metadata": {},
   "outputs": [
    {
     "data": {
      "text/plain": [
       "array([[ 0.11876861,  0.43356271,  0.48797319,  0.53049047,  0.52761674],\n",
       "       [-0.74579472,  0.45015978,  0.3287432 , -0.199727  , -0.30525963]])"
      ]
     },
     "execution_count": 15,
     "metadata": {},
     "output_type": "execute_result"
    }
   ],
   "source": [
    "np_pca_coef # coeficientes"
   ]
  },
  {
   "cell_type": "code",
   "execution_count": 16,
   "metadata": {},
   "outputs": [
    {
     "data": {
      "text/plain": [
       "array([[-2.75115163,  1.03803342],\n",
       "       [ 1.43930486, -0.27433591],\n",
       "       [-0.07564678, -1.16356118],\n",
       "       ...,\n",
       "       [ 1.37202071, -1.2693296 ],\n",
       "       [-1.48150682, -0.93830593],\n",
       "       [-0.54628676, -0.67975472]])"
      ]
     },
     "execution_count": 16,
     "metadata": {},
     "output_type": "execute_result"
    }
   ],
   "source": [
    "np_comp_prin # componentes principales)"
   ]
  },
  {
   "cell_type": "code",
   "execution_count": 17,
   "metadata": {},
   "outputs": [
    {
     "data": {
      "text/plain": [
       "array([0.49697126, 0.21837784])"
      ]
     },
     "execution_count": 17,
     "metadata": {},
     "output_type": "execute_result"
    }
   ],
   "source": [
    "np_var_exp #Varianza explicada"
   ]
  },
  {
   "cell_type": "markdown",
   "metadata": {},
   "source": [
    "Comparemos los resultados obtenidos contra los obtenidos antes mediante `scikit-learn`"
   ]
  },
  {
   "cell_type": "code",
   "execution_count": 18,
   "metadata": {},
   "outputs": [
    {
     "data": {
      "text/plain": [
       "True"
      ]
     },
     "execution_count": 18,
     "metadata": {},
     "output_type": "execute_result"
    }
   ],
   "source": [
    "#valores singulares\n",
    "np.allclose(np_val_sing,val_sing)"
   ]
  },
  {
   "cell_type": "code",
   "execution_count": 19,
   "metadata": {
    "scrolled": true
   },
   "outputs": [
    {
     "data": {
      "text/plain": [
       "True"
      ]
     },
     "execution_count": 19,
     "metadata": {},
     "output_type": "execute_result"
    }
   ],
   "source": [
    "# componentes\n",
    "np.allclose(np_comp_prin,comp_prin)"
   ]
  },
  {
   "cell_type": "code",
   "execution_count": 20,
   "metadata": {},
   "outputs": [
    {
     "data": {
      "text/plain": [
       "True"
      ]
     },
     "execution_count": 20,
     "metadata": {},
     "output_type": "execute_result"
    }
   ],
   "source": [
    "# Varianza explicada\n",
    "np.allclose(np_var_exp,var_exp)"
   ]
  },
  {
   "cell_type": "markdown",
   "metadata": {},
   "source": [
    "Vemos que, luego de la última actualización a la función `PCA_from_SVD`, los coeficientes ya resultan iguales"
   ]
  },
  {
   "cell_type": "code",
   "execution_count": 21,
   "metadata": {},
   "outputs": [
    {
     "data": {
      "text/plain": [
       "True"
      ]
     },
     "execution_count": 21,
     "metadata": {},
     "output_type": "execute_result"
    }
   ],
   "source": [
    "# coeficientes\n",
    "np.allclose(np_pca_coef,pca_coef)"
   ]
  },
  {
   "cell_type": "code",
   "execution_count": 22,
   "metadata": {
    "scrolled": true
   },
   "outputs": [
    {
     "data": {
      "text/plain": [
       "array([[ 0.11876861,  0.43356271,  0.48797319,  0.53049047,  0.52761674],\n",
       "       [-0.74579472,  0.45015978,  0.3287432 , -0.199727  , -0.30525963]])"
      ]
     },
     "execution_count": 22,
     "metadata": {},
     "output_type": "execute_result"
    }
   ],
   "source": [
    "pca_coef"
   ]
  },
  {
   "cell_type": "code",
   "execution_count": 23,
   "metadata": {},
   "outputs": [
    {
     "data": {
      "text/plain": [
       "array([[ 0.11876861,  0.43356271,  0.48797319,  0.53049047,  0.52761674],\n",
       "       [-0.74579472,  0.45015978,  0.3287432 , -0.199727  , -0.30525963]])"
      ]
     },
     "execution_count": 23,
     "metadata": {},
     "output_type": "execute_result"
    }
   ],
   "source": [
    "np_pca_coef"
   ]
  },
  {
   "cell_type": "markdown",
   "metadata": {},
   "source": [
    "Podemos ver un resumen de lo anterior mediante la función `compara_resultados_sk_np`"
   ]
  },
  {
   "cell_type": "code",
   "execution_count": 24,
   "metadata": {},
   "outputs": [
    {
     "data": {
      "text/html": [
       "<div>\n",
       "<style scoped>\n",
       "    .dataframe tbody tr th:only-of-type {\n",
       "        vertical-align: middle;\n",
       "    }\n",
       "\n",
       "    .dataframe tbody tr th {\n",
       "        vertical-align: top;\n",
       "    }\n",
       "\n",
       "    .dataframe thead th {\n",
       "        text-align: right;\n",
       "    }\n",
       "</style>\n",
       "<table border=\"1\" class=\"dataframe\">\n",
       "  <thead>\n",
       "    <tr style=\"text-align: right;\">\n",
       "      <th></th>\n",
       "      <th>elemento</th>\n",
       "      <th>Igualdad</th>\n",
       "      <th>Max error relativo</th>\n",
       "      <th>Error relativo</th>\n",
       "    </tr>\n",
       "  </thead>\n",
       "  <tbody>\n",
       "    <tr>\n",
       "      <th>0</th>\n",
       "      <td>varianza explicada</td>\n",
       "      <td>True</td>\n",
       "      <td>1.270989e-16</td>\n",
       "      <td>[0.0, 1.2709886748169263e-16]</td>\n",
       "    </tr>\n",
       "    <tr>\n",
       "      <th>1</th>\n",
       "      <td>valores singulares</td>\n",
       "      <td>True</td>\n",
       "      <td>0.000000e+00</td>\n",
       "      <td>[0.0, 0.0]</td>\n",
       "    </tr>\n",
       "    <tr>\n",
       "      <th>2</th>\n",
       "      <td>coeficientes</td>\n",
       "      <td>True</td>\n",
       "      <td>0.000000e+00</td>\n",
       "      <td>[[0.0, 0.0, 0.0, 0.0, 0.0], [0.0, 0.0, 0.0, 0....</td>\n",
       "    </tr>\n",
       "    <tr>\n",
       "      <th>3</th>\n",
       "      <td>componentes principales</td>\n",
       "      <td>True</td>\n",
       "      <td>1.254858e-09</td>\n",
       "      <td>[[7.996555014011452e-12, 1.1263374054990842e-1...</td>\n",
       "    </tr>\n",
       "  </tbody>\n",
       "</table>\n",
       "</div>"
      ],
      "text/plain": [
       "                  elemento  Igualdad  Max error relativo  \\\n",
       "0       varianza explicada      True        1.270989e-16   \n",
       "1       valores singulares      True        0.000000e+00   \n",
       "2             coeficientes      True        0.000000e+00   \n",
       "3  componentes principales      True        1.254858e-09   \n",
       "\n",
       "                                      Error relativo  \n",
       "0                      [0.0, 1.2709886748169263e-16]  \n",
       "1                                         [0.0, 0.0]  \n",
       "2  [[0.0, 0.0, 0.0, 0.0, 0.0], [0.0, 0.0, 0.0, 0....  \n",
       "3  [[7.996555014011452e-12, 1.1263374054990842e-1...  "
      ]
     },
     "execution_count": 24,
     "metadata": {},
     "output_type": "execute_result"
    }
   ],
   "source": [
    "comparaModelos.compara_resultados_sk_np(seccion_3)"
   ]
  },
  {
   "cell_type": "markdown",
   "metadata": {},
   "source": [
    "## PCA usando SVD con aproximación por Jacobi one-sided\n",
    "Ahora se obtienen los PCA a través de la aproximación a la  `svd` mediante el algoritmo Jacobi one-sided."
   ]
  },
  {
   "cell_type": "code",
   "execution_count": 25,
   "metadata": {},
   "outputs": [],
   "source": [
    "jac_val_sing, jac_pca_coef, jac_comp_prin, jac_var_exp = todoJunto.PCA_from_SVD_jacobi(seccion_3)"
   ]
  },
  {
   "cell_type": "markdown",
   "metadata": {},
   "source": [
    "Comparemos los resultados obtenidos "
   ]
  },
  {
   "cell_type": "code",
   "execution_count": 26,
   "metadata": {},
   "outputs": [
    {
     "data": {
      "text/plain": [
       "False"
      ]
     },
     "execution_count": 26,
     "metadata": {},
     "output_type": "execute_result"
    }
   ],
   "source": [
    "#valores singulares\n",
    "np.allclose(jac_val_sing,val_sing)"
   ]
  },
  {
   "cell_type": "code",
   "execution_count": 27,
   "metadata": {},
   "outputs": [
    {
     "data": {
      "text/plain": [
       "array([1158.20422871,  742.90658598])"
      ]
     },
     "execution_count": 27,
     "metadata": {},
     "output_type": "execute_result"
    }
   ],
   "source": [
    "jac_val_sing"
   ]
  },
  {
   "cell_type": "code",
   "execution_count": 28,
   "metadata": {},
   "outputs": [
    {
     "data": {
      "text/plain": [
       "array([1180.28600498,  782.39469765])"
      ]
     },
     "execution_count": 28,
     "metadata": {},
     "output_type": "execute_result"
    }
   ],
   "source": [
    "val_sing"
   ]
  },
  {
   "cell_type": "markdown",
   "metadata": {},
   "source": [
    "Veamos el error relativo en los valores singulares:"
   ]
  },
  {
   "cell_type": "code",
   "execution_count": 29,
   "metadata": {},
   "outputs": [
    {
     "data": {
      "text/plain": [
       "array([0.01870884, 0.05047083])"
      ]
     },
     "execution_count": 29,
     "metadata": {},
     "output_type": "execute_result"
    }
   ],
   "source": [
    "err = err_relativo(jac_val_sing, val_sing) \n",
    "err"
   ]
  },
  {
   "cell_type": "markdown",
   "metadata": {},
   "source": [
    "Los errores resultan del orden de $10^{-2}$.\n",
    "\n",
    "Tampoco los coeficientes son iguales, veaos qué tan cercanos resultan:"
   ]
  },
  {
   "cell_type": "code",
   "execution_count": 30,
   "metadata": {},
   "outputs": [
    {
     "data": {
      "text/plain": [
       "False"
      ]
     },
     "execution_count": 30,
     "metadata": {},
     "output_type": "execute_result"
    }
   ],
   "source": [
    "# coeficientes\n",
    "np.allclose(jac_pca_coef,pca_coef)"
   ]
  },
  {
   "cell_type": "code",
   "execution_count": 31,
   "metadata": {},
   "outputs": [
    {
     "data": {
      "text/plain": [
       "array([[ 0.2298819 ,  0.42540564, -0.85353058, -0.17182733, -0.09025116],\n",
       "       [ 0.39996804, -0.24768259, -0.1854867 ,  0.86197807, -0.03560042]])"
      ]
     },
     "execution_count": 31,
     "metadata": {},
     "output_type": "execute_result"
    }
   ],
   "source": [
    "jac_pca_coef"
   ]
  },
  {
   "cell_type": "code",
   "execution_count": 32,
   "metadata": {},
   "outputs": [
    {
     "data": {
      "text/plain": [
       "array([[ 0.11876861,  0.43356271,  0.48797319,  0.53049047,  0.52761674],\n",
       "       [-0.74579472,  0.45015978,  0.3287432 , -0.199727  , -0.30525963]])"
      ]
     },
     "execution_count": 32,
     "metadata": {},
     "output_type": "execute_result"
    }
   ],
   "source": [
    "pca_coef"
   ]
  },
  {
   "cell_type": "code",
   "execution_count": 33,
   "metadata": {},
   "outputs": [
    {
     "data": {
      "text/plain": [
       "array([[0.93554427, 0.01881405, 2.74913417, 1.32390276, 1.17105439],\n",
       "       [1.53629776, 1.55021041, 1.56422976, 5.31578144, 0.8833766 ]])"
      ]
     },
     "execution_count": 33,
     "metadata": {},
     "output_type": "execute_result"
    }
   ],
   "source": [
    "err_coef = err_relativo(jac_pca_coef, pca_coef) \n",
    "err_coef"
   ]
  },
  {
   "cell_type": "markdown",
   "metadata": {},
   "source": [
    "Los errores relativos ya rondan el 1, llegando hasta 5.31.\n",
    "\n",
    "Comparemos ahora las componentes resultantes con las obtenidas mediante sklearn, así como sus errores relativos:"
   ]
  },
  {
   "cell_type": "code",
   "execution_count": 34,
   "metadata": {},
   "outputs": [
    {
     "data": {
      "text/plain": [
       "False"
      ]
     },
     "execution_count": 34,
     "metadata": {},
     "output_type": "execute_result"
    }
   ],
   "source": [
    "# componentes\n",
    "np.allclose(jac_comp_prin,comp_prin)"
   ]
  },
  {
   "cell_type": "code",
   "execution_count": 35,
   "metadata": {},
   "outputs": [
    {
     "data": {
      "text/plain": [
       "array([[ 0.00240224,  0.00030158],\n",
       "       [-0.00055665, -0.00158775],\n",
       "       [-0.00019087,  0.00015338],\n",
       "       ...,\n",
       "       [-0.00105638,  0.00021091],\n",
       "       [ 0.00133393, -0.00038486],\n",
       "       [ 0.00029679,  0.00134427]])"
      ]
     },
     "execution_count": 35,
     "metadata": {},
     "output_type": "execute_result"
    }
   ],
   "source": [
    "jac_comp_prin"
   ]
  },
  {
   "cell_type": "code",
   "execution_count": 36,
   "metadata": {},
   "outputs": [
    {
     "data": {
      "text/plain": [
       "array([[-2.75115163,  1.03803342],\n",
       "       [ 1.43930486, -0.27433591],\n",
       "       [-0.07564678, -1.16356118],\n",
       "       ...,\n",
       "       [ 1.37202071, -1.2693296 ],\n",
       "       [-1.48150682, -0.93830593],\n",
       "       [-0.54628676, -0.67975472]])"
      ]
     },
     "execution_count": 36,
     "metadata": {},
     "output_type": "execute_result"
    }
   ],
   "source": [
    "comp_prin"
   ]
  },
  {
   "cell_type": "code",
   "execution_count": 37,
   "metadata": {},
   "outputs": [
    {
     "data": {
      "text/plain": [
       "3.3713442217953022"
      ]
     },
     "execution_count": 37,
     "metadata": {},
     "output_type": "execute_result"
    }
   ],
   "source": [
    "err_comp = err_relativo(jac_comp_prin, comp_prin) \n",
    "np.amax(err_comp)"
   ]
  },
  {
   "cell_type": "markdown",
   "metadata": {},
   "source": [
    "El mayor error es considerablemente elevado, aproximadamente 3.37.\n",
    "\n",
    "Por último, repetimos el análisis para la varianza explicada:"
   ]
  },
  {
   "cell_type": "code",
   "execution_count": 38,
   "metadata": {},
   "outputs": [
    {
     "data": {
      "text/plain": [
       "False"
      ]
     },
     "execution_count": 38,
     "metadata": {},
     "output_type": "execute_result"
    }
   ],
   "source": [
    "# Varianza explicada\n",
    "np.allclose(jac_var_exp,var_exp)"
   ]
  },
  {
   "cell_type": "code",
   "execution_count": 39,
   "metadata": {},
   "outputs": [
    {
     "data": {
      "text/plain": [
       "array([0.47854971, 0.19689069])"
      ]
     },
     "execution_count": 39,
     "metadata": {},
     "output_type": "execute_result"
    }
   ],
   "source": [
    "jac_var_exp"
   ]
  },
  {
   "cell_type": "code",
   "execution_count": 40,
   "metadata": {},
   "outputs": [
    {
     "data": {
      "text/plain": [
       "array([0.49697126, 0.21837784])"
      ]
     },
     "execution_count": 40,
     "metadata": {},
     "output_type": "execute_result"
    }
   ],
   "source": [
    "var_exp"
   ]
  },
  {
   "cell_type": "code",
   "execution_count": 41,
   "metadata": {},
   "outputs": [
    {
     "data": {
      "text/plain": [
       "array([0.03706765, 0.09839436])"
      ]
     },
     "execution_count": 41,
     "metadata": {},
     "output_type": "execute_result"
    }
   ],
   "source": [
    "err_comp = err_relativo(jac_var_exp, var_exp)\n",
    "err_comp"
   ]
  },
  {
   "cell_type": "markdown",
   "metadata": {},
   "source": [
    "Una vez más, los errores relativos son del orden de $10^{-2}$.\n",
    "\n",
    "Esta vez, observamos que todos los elementos resultaron distintos, veamos el resumen de los errores relativos gracias a la función `compara_resultados_sk_jac`"
   ]
  },
  {
   "cell_type": "code",
   "execution_count": 42,
   "metadata": {},
   "outputs": [
    {
     "data": {
      "text/html": [
       "<div>\n",
       "<style scoped>\n",
       "    .dataframe tbody tr th:only-of-type {\n",
       "        vertical-align: middle;\n",
       "    }\n",
       "\n",
       "    .dataframe tbody tr th {\n",
       "        vertical-align: top;\n",
       "    }\n",
       "\n",
       "    .dataframe thead th {\n",
       "        text-align: right;\n",
       "    }\n",
       "</style>\n",
       "<table border=\"1\" class=\"dataframe\">\n",
       "  <thead>\n",
       "    <tr style=\"text-align: right;\">\n",
       "      <th></th>\n",
       "      <th>elemento</th>\n",
       "      <th>Igualdad</th>\n",
       "      <th>Max error relativo</th>\n",
       "      <th>Error relativo</th>\n",
       "    </tr>\n",
       "  </thead>\n",
       "  <tbody>\n",
       "    <tr>\n",
       "      <th>0</th>\n",
       "      <td>varianza explicada</td>\n",
       "      <td>False</td>\n",
       "      <td>1.091324e-01</td>\n",
       "      <td>[0.038494552337125544, 0.10913236956981359]</td>\n",
       "    </tr>\n",
       "    <tr>\n",
       "      <th>1</th>\n",
       "      <td>valores singulares</td>\n",
       "      <td>False</td>\n",
       "      <td>5.315354e-02</td>\n",
       "      <td>[0.01906552897109906, 0.05315353561094553]</td>\n",
       "    </tr>\n",
       "    <tr>\n",
       "      <th>2</th>\n",
       "      <td>coeficientes</td>\n",
       "      <td>False</td>\n",
       "      <td>7.574608e+00</td>\n",
       "      <td>[[0.4833494555008358, 0.019174802487839707, 1....</td>\n",
       "    </tr>\n",
       "    <tr>\n",
       "      <th>3</th>\n",
       "      <td>componentes principales</td>\n",
       "      <td>False</td>\n",
       "      <td>2.218037e+08</td>\n",
       "      <td>[[1146.2424262714808, 3440.958961197482], [258...</td>\n",
       "    </tr>\n",
       "  </tbody>\n",
       "</table>\n",
       "</div>"
      ],
      "text/plain": [
       "                  elemento  Igualdad  Max error relativo   \\\n",
       "0       varianza explicada     False         1.091324e-01   \n",
       "1       valores singulares     False         5.315354e-02   \n",
       "2             coeficientes     False         7.574608e+00   \n",
       "3  componentes principales     False         2.218037e+08   \n",
       "\n",
       "                                      Error relativo  \n",
       "0        [0.038494552337125544, 0.10913236956981359]  \n",
       "1         [0.01906552897109906, 0.05315353561094553]  \n",
       "2  [[0.4833494555008358, 0.019174802487839707, 1....  \n",
       "3  [[1146.2424262714808, 3440.958961197482], [258...  "
      ]
     },
     "execution_count": 42,
     "metadata": {},
     "output_type": "execute_result"
    }
   ],
   "source": [
    "comparaModelos.compara_resultados_sk_jac(seccion_3)"
   ]
  },
  {
   "cell_type": "markdown",
   "metadata": {},
   "source": [
    "Aunque para varianza explpicada y valores singulares los errores son del orden de $10^{-2}$, ya a nivel de coeficientes y componentes principales se ven magnificados, llegando al orden de $10^8$ que es demasiado grande.\n",
    "\n",
    "Observamos que la matriz utilizada es medianamente bien condicionada, lo que puede explicar la magnitud de los errores obtenidos:"
   ]
  },
  {
   "cell_type": "code",
   "execution_count": 43,
   "metadata": {},
   "outputs": [
    {
     "data": {
      "text/plain": [
       "3.5192351424081814"
      ]
     },
     "execution_count": 43,
     "metadata": {},
     "output_type": "execute_result"
    }
   ],
   "source": [
    "np.linalg.cond(seccion_3)"
   ]
  },
  {
   "cell_type": "markdown",
   "metadata": {},
   "source": [
    "A continuación, realizamos una comparación similar para las demás secciones, apoyándonos de las funciones `compara_resultados_sk_np` y `compara_resultados_sk_jac`. Como vimos antes, la primera compara los resultados obtenidos a través de scikit learn con los obtenidos al aplicar PCA usando la SVD de numpy; mientras tanto, la segunda compara los resultados de scikit learn con los obtenidos al aplicar PCA usando la SVD aproximada a través del algoritmo Jacobi one-sided."
   ]
  },
  {
   "cell_type": "markdown",
   "metadata": {},
   "source": [
    "## PCA usando algoritmo QR\n",
    "Ahora se obtienen los PCA a través de la función implementada `PCA_from_QR`."
   ]
  },
  {
   "cell_type": "code",
   "execution_count": 44,
   "metadata": {},
   "outputs": [
    {
     "name": "stdout",
     "output_type": "stream",
     "text": [
      "se alcanzo la tolerancia deseada\n"
     ]
    }
   ],
   "source": [
    "qr_val_sing, qr_pca_coef, qr_comp_prin, qr_var_exp = todoJunto.PCA_from_QR_vf(seccion_3)"
   ]
  },
  {
   "cell_type": "code",
   "execution_count": 45,
   "metadata": {},
   "outputs": [
    {
     "data": {
      "text/plain": [
       "array([2.48486074, 1.09189113])"
      ]
     },
     "execution_count": 45,
     "metadata": {},
     "output_type": "execute_result"
    }
   ],
   "source": [
    "qr_val_sing # Valores singulares"
   ]
  },
  {
   "cell_type": "code",
   "execution_count": 46,
   "metadata": {},
   "outputs": [
    {
     "data": {
      "text/plain": [
       "array([[ 0.11876861,  0.43356271,  0.48797319,  0.53049047,  0.52761674],\n",
       "       [-0.74579473,  0.45015977,  0.3287432 , -0.19972699, -0.30525963]])"
      ]
     },
     "execution_count": 46,
     "metadata": {},
     "output_type": "execute_result"
    }
   ],
   "source": [
    "qr_pca_coef # coeficientes"
   ]
  },
  {
   "cell_type": "code",
   "execution_count": 47,
   "metadata": {},
   "outputs": [
    {
     "data": {
      "text/plain": [
       "array([[-2.75115163,  1.03803342],\n",
       "       [ 1.43930486, -0.27433593],\n",
       "       [-0.07564678, -1.16356118],\n",
       "       ...,\n",
       "       [ 1.37202071, -1.2693296 ],\n",
       "       [-1.48150682, -0.93830594],\n",
       "       [-0.54628676, -0.67975471]])"
      ]
     },
     "execution_count": 47,
     "metadata": {},
     "output_type": "execute_result"
    }
   ],
   "source": [
    "qr_comp_prin # componentes principales)"
   ]
  },
  {
   "cell_type": "code",
   "execution_count": 48,
   "metadata": {},
   "outputs": [
    {
     "data": {
      "text/plain": [
       "array([0.49697126, 0.21837784])"
      ]
     },
     "execution_count": 48,
     "metadata": {},
     "output_type": "execute_result"
    }
   ],
   "source": [
    "qr_var_exp #Varianza explicada"
   ]
  },
  {
   "cell_type": "markdown",
   "metadata": {},
   "source": [
    "Comparemos los resultados obtenidos contra los obtenidos antes mediante `scikit-learn`"
   ]
  },
  {
   "cell_type": "code",
   "execution_count": 49,
   "metadata": {},
   "outputs": [
    {
     "data": {
      "text/plain": [
       "array([1180.28600498,  782.39469765])"
      ]
     },
     "execution_count": 49,
     "metadata": {},
     "output_type": "execute_result"
    }
   ],
   "source": [
    "#valores singulares\n",
    "qr_val_sing\n",
    "val_sing"
   ]
  },
  {
   "cell_type": "code",
   "execution_count": 50,
   "metadata": {
    "scrolled": true
   },
   "outputs": [
    {
     "data": {
      "text/plain": [
       "True"
      ]
     },
     "execution_count": 50,
     "metadata": {},
     "output_type": "execute_result"
    }
   ],
   "source": [
    "# componentes\n",
    "np.allclose(qr_comp_prin,comp_prin)"
   ]
  },
  {
   "cell_type": "code",
   "execution_count": 51,
   "metadata": {},
   "outputs": [
    {
     "data": {
      "text/plain": [
       "True"
      ]
     },
     "execution_count": 51,
     "metadata": {},
     "output_type": "execute_result"
    }
   ],
   "source": [
    "# Varianza explicada\n",
    "np.allclose(qr_var_exp,var_exp)"
   ]
  },
  {
   "cell_type": "code",
   "execution_count": 52,
   "metadata": {},
   "outputs": [
    {
     "data": {
      "text/plain": [
       "True"
      ]
     },
     "execution_count": 52,
     "metadata": {},
     "output_type": "execute_result"
    }
   ],
   "source": [
    "# coeficientes\n",
    "np.allclose(qr_pca_coef,pca_coef)"
   ]
  },
  {
   "cell_type": "code",
   "execution_count": 53,
   "metadata": {
    "scrolled": true
   },
   "outputs": [
    {
     "data": {
      "text/plain": [
       "array([[ 0.11876861,  0.43356271,  0.48797319,  0.53049047,  0.52761674],\n",
       "       [-0.74579472,  0.45015978,  0.3287432 , -0.199727  , -0.30525963]])"
      ]
     },
     "execution_count": 53,
     "metadata": {},
     "output_type": "execute_result"
    }
   ],
   "source": [
    "pca_coef"
   ]
  },
  {
   "cell_type": "code",
   "execution_count": 54,
   "metadata": {},
   "outputs": [
    {
     "data": {
      "text/plain": [
       "array([[ 0.11876861,  0.43356271,  0.48797319,  0.53049047,  0.52761674],\n",
       "       [-0.74579473,  0.45015977,  0.3287432 , -0.19972699, -0.30525963]])"
      ]
     },
     "execution_count": 54,
     "metadata": {},
     "output_type": "execute_result"
    }
   ],
   "source": [
    "qr_pca_coef"
   ]
  },
  {
   "cell_type": "markdown",
   "metadata": {},
   "source": [
    "Podemos ver un resumen de lo anterior mediante la función `compara_resultados_sk_np`"
   ]
  },
  {
   "cell_type": "code",
   "execution_count": 180,
   "metadata": {},
   "outputs": [
    {
     "name": "stdout",
     "output_type": "stream",
     "text": [
      "se alcanzo la tolerancia deseada\n"
     ]
    },
    {
     "data": {
      "text/html": [
       "<div>\n",
       "<style scoped>\n",
       "    .dataframe tbody tr th:only-of-type {\n",
       "        vertical-align: middle;\n",
       "    }\n",
       "\n",
       "    .dataframe tbody tr th {\n",
       "        vertical-align: top;\n",
       "    }\n",
       "\n",
       "    .dataframe thead th {\n",
       "        text-align: right;\n",
       "    }\n",
       "</style>\n",
       "<table border=\"1\" class=\"dataframe\">\n",
       "  <thead>\n",
       "    <tr style=\"text-align: right;\">\n",
       "      <th></th>\n",
       "      <th>Seccion</th>\n",
       "      <th>elemento</th>\n",
       "      <th>Igualdad (en valor absoluto)</th>\n",
       "      <th>Max error relativo (con valor absoluto)</th>\n",
       "      <th>Error relativo (con valor absoluto)</th>\n",
       "    </tr>\n",
       "  </thead>\n",
       "  <tbody>\n",
       "    <tr>\n",
       "      <th>0</th>\n",
       "      <td>seccion_3</td>\n",
       "      <td>varianza explicada</td>\n",
       "      <td>True</td>\n",
       "      <td>3.164762e-14</td>\n",
       "      <td>[2.5690750673682666e-15, 3.164761800294246e-14]</td>\n",
       "    </tr>\n",
       "    <tr>\n",
       "      <th>1</th>\n",
       "      <td>seccion_3</td>\n",
       "      <td>eigenvalores</td>\n",
       "      <td>True</td>\n",
       "      <td>5.348311e-14</td>\n",
       "      <td>[1.9301538251445997e-14, 5.3483108037220185e-14]</td>\n",
       "    </tr>\n",
       "    <tr>\n",
       "      <th>2</th>\n",
       "      <td>seccion_3</td>\n",
       "      <td>coeficientes</td>\n",
       "      <td>True</td>\n",
       "      <td>3.237183e-08</td>\n",
       "      <td>[[1.5891228936468213e-13, 1.5184937284479278e-...</td>\n",
       "    </tr>\n",
       "    <tr>\n",
       "      <th>3</th>\n",
       "      <td>seccion_3</td>\n",
       "      <td>componentes principales</td>\n",
       "      <td>True</td>\n",
       "      <td>1.026288e-05</td>\n",
       "      <td>[[7.979283139599526e-12, 2.1940877302197085e-0...</td>\n",
       "    </tr>\n",
       "  </tbody>\n",
       "</table>\n",
       "</div>"
      ],
      "text/plain": [
       "     Seccion                 elemento  Igualdad (en valor absoluto)  \\\n",
       "0  seccion_3       varianza explicada                          True   \n",
       "1  seccion_3             eigenvalores                          True   \n",
       "2  seccion_3             coeficientes                          True   \n",
       "3  seccion_3  componentes principales                          True   \n",
       "\n",
       "   Max error relativo (con valor absoluto)  \\\n",
       "0                             3.164762e-14   \n",
       "1                             5.348311e-14   \n",
       "2                             3.237183e-08   \n",
       "3                             1.026288e-05   \n",
       "\n",
       "                 Error relativo (con valor absoluto)  \n",
       "0    [2.5690750673682666e-15, 3.164761800294246e-14]  \n",
       "1   [1.9301538251445997e-14, 5.3483108037220185e-14]  \n",
       "2  [[1.5891228936468213e-13, 1.5184937284479278e-...  \n",
       "3  [[7.979283139599526e-12, 2.1940877302197085e-0...  "
      ]
     },
     "execution_count": 180,
     "metadata": {},
     "output_type": "execute_result"
    }
   ],
   "source": [
    "df_seccion_3_qr = comparaModelos.compara_resultados_abs_sk_qr(seccion_3)\n",
    "df_seccion_3_qr.insert(0, \"Seccion\", np.repeat(\"seccion_3\",4), True) \n",
    "df_seccion_3_qr"
   ]
  },
  {
   "cell_type": "code",
   "execution_count": 169,
   "metadata": {},
   "outputs": [
    {
     "data": {
      "text/plain": [
       "11.375002491295175"
      ]
     },
     "execution_count": 169,
     "metadata": {},
     "output_type": "execute_result"
    }
   ],
   "source": [
    "np.linalg.cond(seccion_1)"
   ]
  },
  {
   "cell_type": "markdown",
   "metadata": {},
   "source": [
    "# Sección 1. Datos generales"
   ]
  },
  {
   "cell_type": "code",
   "execution_count": 56,
   "metadata": {},
   "outputs": [],
   "source": [
    "seccion_1 = df.loc[:, ['p1', 'p2', 'p3_A', 'p3_B','p3_C','p4_A', 'p4_B','p4_C','p5_A', 'p5_B','p5_C']] ###Se seleccionan las preguntas que conforman esta sección"
   ]
  },
  {
   "cell_type": "code",
   "execution_count": 57,
   "metadata": {},
   "outputs": [],
   "source": [
    "####Se escalan los datos.\n",
    "scaler = preprocessing.StandardScaler()\n",
    "\n",
    "seccion_1 = pd.DataFrame(scaler.fit_transform(seccion_1))"
   ]
  },
  {
   "cell_type": "markdown",
   "metadata": {},
   "source": [
    "### Scikit learn vs PCA a partir de SVD de numpy"
   ]
  },
  {
   "cell_type": "code",
   "execution_count": 58,
   "metadata": {},
   "outputs": [
    {
     "data": {
      "text/html": [
       "<div>\n",
       "<style scoped>\n",
       "    .dataframe tbody tr th:only-of-type {\n",
       "        vertical-align: middle;\n",
       "    }\n",
       "\n",
       "    .dataframe tbody tr th {\n",
       "        vertical-align: top;\n",
       "    }\n",
       "\n",
       "    .dataframe thead th {\n",
       "        text-align: right;\n",
       "    }\n",
       "</style>\n",
       "<table border=\"1\" class=\"dataframe\">\n",
       "  <thead>\n",
       "    <tr style=\"text-align: right;\">\n",
       "      <th></th>\n",
       "      <th>Seccion</th>\n",
       "      <th>elemento</th>\n",
       "      <th>Igualdad (en valor absoluto)</th>\n",
       "      <th>Max error relativo (con valor absoluto)</th>\n",
       "      <th>Error relativo (con valor absoluto)</th>\n",
       "    </tr>\n",
       "  </thead>\n",
       "  <tbody>\n",
       "    <tr>\n",
       "      <th>0</th>\n",
       "      <td>seccion_1</td>\n",
       "      <td>varianza explicada</td>\n",
       "      <td>True</td>\n",
       "      <td>1.845437e-16</td>\n",
       "      <td>[1.8454368235801489e-16, 1.5513265898145355e-1...</td>\n",
       "    </tr>\n",
       "    <tr>\n",
       "      <th>1</th>\n",
       "      <td>seccion_1</td>\n",
       "      <td>valores singulares</td>\n",
       "      <td>True</td>\n",
       "      <td>0.000000e+00</td>\n",
       "      <td>[0.0, 0.0, 0.0]</td>\n",
       "    </tr>\n",
       "    <tr>\n",
       "      <th>2</th>\n",
       "      <td>seccion_1</td>\n",
       "      <td>coeficientes</td>\n",
       "      <td>True</td>\n",
       "      <td>0.000000e+00</td>\n",
       "      <td>[[0.0, 0.0, 0.0, 0.0, 0.0, 0.0, 0.0, 0.0, 0.0,...</td>\n",
       "    </tr>\n",
       "    <tr>\n",
       "      <th>3</th>\n",
       "      <td>seccion_1</td>\n",
       "      <td>componentes principales</td>\n",
       "      <td>True</td>\n",
       "      <td>1.328783e-09</td>\n",
       "      <td>[[2.6344109242589875e-11, 2.6483430011396585e-...</td>\n",
       "    </tr>\n",
       "  </tbody>\n",
       "</table>\n",
       "</div>"
      ],
      "text/plain": [
       "     Seccion                 elemento  Igualdad (en valor absoluto)  \\\n",
       "0  seccion_1       varianza explicada                          True   \n",
       "1  seccion_1       valores singulares                          True   \n",
       "2  seccion_1             coeficientes                          True   \n",
       "3  seccion_1  componentes principales                          True   \n",
       "\n",
       "   Max error relativo (con valor absoluto)  \\\n",
       "0                             1.845437e-16   \n",
       "1                             0.000000e+00   \n",
       "2                             0.000000e+00   \n",
       "3                             1.328783e-09   \n",
       "\n",
       "                 Error relativo (con valor absoluto)  \n",
       "0  [1.8454368235801489e-16, 1.5513265898145355e-1...  \n",
       "1                                    [0.0, 0.0, 0.0]  \n",
       "2  [[0.0, 0.0, 0.0, 0.0, 0.0, 0.0, 0.0, 0.0, 0.0,...  \n",
       "3  [[2.6344109242589875e-11, 2.6483430011396585e-...  "
      ]
     },
     "execution_count": 58,
     "metadata": {},
     "output_type": "execute_result"
    }
   ],
   "source": [
    "df_seccion_1 = comparaModelos.compara_resultados_abs_sk_np(seccion_1)\n",
    "df_seccion_1.insert(0, \"Seccion\",np.repeat(\"seccion_1\",4), True) \n",
    "df_seccion_1"
   ]
  },
  {
   "cell_type": "markdown",
   "metadata": {},
   "source": [
    "### Scikit learn vs PCA a partir de SVD aproximada mediante Jacobi-one sided"
   ]
  },
  {
   "cell_type": "code",
   "execution_count": 59,
   "metadata": {
    "scrolled": true
   },
   "outputs": [
    {
     "name": "stdout",
     "output_type": "stream",
     "text": [
      "Nota: Los resultados son de distinta longitud y por lo tanto se comparan solo las entradas en común\n"
     ]
    },
    {
     "data": {
      "text/html": [
       "<div>\n",
       "<style scoped>\n",
       "    .dataframe tbody tr th:only-of-type {\n",
       "        vertical-align: middle;\n",
       "    }\n",
       "\n",
       "    .dataframe tbody tr th {\n",
       "        vertical-align: top;\n",
       "    }\n",
       "\n",
       "    .dataframe thead th {\n",
       "        text-align: right;\n",
       "    }\n",
       "</style>\n",
       "<table border=\"1\" class=\"dataframe\">\n",
       "  <thead>\n",
       "    <tr style=\"text-align: right;\">\n",
       "      <th></th>\n",
       "      <th>Seccion</th>\n",
       "      <th>elemento</th>\n",
       "      <th>Igualdad (en valor absoluto)</th>\n",
       "      <th>Max error relativo (con valor absoluto)</th>\n",
       "      <th>Error relativo (con valor absoluto)</th>\n",
       "    </tr>\n",
       "  </thead>\n",
       "  <tbody>\n",
       "    <tr>\n",
       "      <th>0</th>\n",
       "      <td>seccion_1</td>\n",
       "      <td>varianza explicada</td>\n",
       "      <td>False</td>\n",
       "      <td>5.597746e-01</td>\n",
       "      <td>[0.5597745591370169, 0.028790013244885136, 0.0...</td>\n",
       "    </tr>\n",
       "    <tr>\n",
       "      <th>1</th>\n",
       "      <td>seccion_1</td>\n",
       "      <td>valores singulares</td>\n",
       "      <td>False</td>\n",
       "      <td>2.489093e-01</td>\n",
       "      <td>[0.24890934784595498, 0.014500133559060375, 0....</td>\n",
       "    </tr>\n",
       "    <tr>\n",
       "      <th>2</th>\n",
       "      <td>seccion_1</td>\n",
       "      <td>coeficientes</td>\n",
       "      <td>False</td>\n",
       "      <td>7.746779e+02</td>\n",
       "      <td>[[0.8899611016386196, 0.7850258673183417, 0.79...</td>\n",
       "    </tr>\n",
       "    <tr>\n",
       "      <th>3</th>\n",
       "      <td>seccion_1</td>\n",
       "      <td>componentes principales</td>\n",
       "      <td>False</td>\n",
       "      <td>6.549034e+06</td>\n",
       "      <td>[[739.0213528847813, 30.11391147729844, 1154.1...</td>\n",
       "    </tr>\n",
       "  </tbody>\n",
       "</table>\n",
       "</div>"
      ],
      "text/plain": [
       "     Seccion                 elemento  Igualdad (en valor absoluto)  \\\n",
       "0  seccion_1       varianza explicada                         False   \n",
       "1  seccion_1       valores singulares                         False   \n",
       "2  seccion_1             coeficientes                         False   \n",
       "3  seccion_1  componentes principales                         False   \n",
       "\n",
       "   Max error relativo (con valor absoluto)  \\\n",
       "0                             5.597746e-01   \n",
       "1                             2.489093e-01   \n",
       "2                             7.746779e+02   \n",
       "3                             6.549034e+06   \n",
       "\n",
       "                 Error relativo (con valor absoluto)  \n",
       "0  [0.5597745591370169, 0.028790013244885136, 0.0...  \n",
       "1  [0.24890934784595498, 0.014500133559060375, 0....  \n",
       "2  [[0.8899611016386196, 0.7850258673183417, 0.79...  \n",
       "3  [[739.0213528847813, 30.11391147729844, 1154.1...  "
      ]
     },
     "execution_count": 59,
     "metadata": {},
     "output_type": "execute_result"
    }
   ],
   "source": [
    "df_seccion_1_jac = comparaModelos.compara_resultados_abs_sk_jac(seccion_1)\n",
    "df_seccion_1_jac.insert(0, \"Seccion\", np.repeat(\"seccion_1\",4), True) \n",
    "df_seccion_1_jac"
   ]
  },
  {
   "cell_type": "markdown",
   "metadata": {},
   "source": [
    "### Scikit learn vs PCA a partir del algoritmo QR"
   ]
  },
  {
   "cell_type": "code",
   "execution_count": 161,
   "metadata": {},
   "outputs": [
    {
     "data": {
      "text/html": [
       "<div>\n",
       "<style scoped>\n",
       "    .dataframe tbody tr th:only-of-type {\n",
       "        vertical-align: middle;\n",
       "    }\n",
       "\n",
       "    .dataframe tbody tr th {\n",
       "        vertical-align: top;\n",
       "    }\n",
       "\n",
       "    .dataframe thead th {\n",
       "        text-align: right;\n",
       "    }\n",
       "</style>\n",
       "<table border=\"1\" class=\"dataframe\">\n",
       "  <thead>\n",
       "    <tr style=\"text-align: right;\">\n",
       "      <th></th>\n",
       "      <th>Seccion</th>\n",
       "      <th>elemento</th>\n",
       "      <th>Igualdad (en valor absoluto)</th>\n",
       "      <th>Max error relativo (con valor absoluto)</th>\n",
       "      <th>Error relativo (con valor absoluto)</th>\n",
       "    </tr>\n",
       "  </thead>\n",
       "  <tbody>\n",
       "    <tr>\n",
       "      <th>0</th>\n",
       "      <td>seccion_1</td>\n",
       "      <td>varianza explicada</td>\n",
       "      <td>True</td>\n",
       "      <td>1.357242e-13</td>\n",
       "      <td>[6.016124044870922e-14, 2.869954191156973e-14,...</td>\n",
       "    </tr>\n",
       "    <tr>\n",
       "      <th>1</th>\n",
       "      <td>seccion_1</td>\n",
       "      <td>eigenvalores</td>\n",
       "      <td>True</td>\n",
       "      <td>1.402497e-13</td>\n",
       "      <td>[6.469083362511687e-14, 2.414423985846565e-14,...</td>\n",
       "    </tr>\n",
       "    <tr>\n",
       "      <th>2</th>\n",
       "      <td>seccion_1</td>\n",
       "      <td>coeficientes</td>\n",
       "      <td>True</td>\n",
       "      <td>8.808192e-06</td>\n",
       "      <td>[[1.716471218079173e-14, 1.8088529315322355e-1...</td>\n",
       "    </tr>\n",
       "    <tr>\n",
       "      <th>3</th>\n",
       "      <td>seccion_1</td>\n",
       "      <td>componentes principales</td>\n",
       "      <td>False</td>\n",
       "      <td>1.790270e-04</td>\n",
       "      <td>[[2.6356809626567568e-11, 6.134861477385035e-0...</td>\n",
       "    </tr>\n",
       "  </tbody>\n",
       "</table>\n",
       "</div>"
      ],
      "text/plain": [
       "     Seccion                 elemento  Igualdad (en valor absoluto)  \\\n",
       "0  seccion_1       varianza explicada                          True   \n",
       "1  seccion_1             eigenvalores                          True   \n",
       "2  seccion_1             coeficientes                          True   \n",
       "3  seccion_1  componentes principales                         False   \n",
       "\n",
       "   Max error relativo (con valor absoluto)  \\\n",
       "0                             1.357242e-13   \n",
       "1                             1.402497e-13   \n",
       "2                             8.808192e-06   \n",
       "3                             1.790270e-04   \n",
       "\n",
       "                 Error relativo (con valor absoluto)  \n",
       "0  [6.016124044870922e-14, 2.869954191156973e-14,...  \n",
       "1  [6.469083362511687e-14, 2.414423985846565e-14,...  \n",
       "2  [[1.716471218079173e-14, 1.8088529315322355e-1...  \n",
       "3  [[2.6356809626567568e-11, 6.134861477385035e-0...  "
      ]
     },
     "execution_count": 161,
     "metadata": {},
     "output_type": "execute_result"
    }
   ],
   "source": [
    "df_seccion_1_qr = comparaModelos.compara_resultados_abs_sk_qr(seccion_1)\n",
    "df_seccion_1_qr.insert(0, \"Seccion\", np.repeat(\"seccion_1\",4), True) \n",
    "df_seccion_1_qr"
   ]
  },
  {
   "cell_type": "code",
   "execution_count": 167,
   "metadata": {},
   "outputs": [
    {
     "data": {
      "text/plain": [
       "11.375002491295175"
      ]
     },
     "execution_count": 167,
     "metadata": {},
     "output_type": "execute_result"
    }
   ],
   "source": [
    "np.linalg.cond(seccion_1)"
   ]
  },
  {
   "cell_type": "markdown",
   "metadata": {},
   "source": [
    "# Sección 2. Situación laboral "
   ]
  },
  {
   "cell_type": "code",
   "execution_count": 64,
   "metadata": {},
   "outputs": [],
   "source": [
    "seccion_2 = df.loc[:, ['p6', 'p7', 'p8', 'p9_A', 'p9_B', 'p9_C', 'p9_D', 'p9_E', 'p9_F', 'p9_G']] ###Se seleccionan las preguntas que conforman esta sección"
   ]
  },
  {
   "cell_type": "code",
   "execution_count": 65,
   "metadata": {},
   "outputs": [],
   "source": [
    "####Se escalan los datos.\n",
    "scaler = preprocessing.StandardScaler()\n",
    "\n",
    "seccion_2 = pd.DataFrame(scaler.fit_transform(seccion_2))"
   ]
  },
  {
   "cell_type": "markdown",
   "metadata": {},
   "source": [
    "### Scikit learn vs PCA a partir de SVD de numpy"
   ]
  },
  {
   "cell_type": "code",
   "execution_count": 66,
   "metadata": {},
   "outputs": [
    {
     "data": {
      "text/html": [
       "<div>\n",
       "<style scoped>\n",
       "    .dataframe tbody tr th:only-of-type {\n",
       "        vertical-align: middle;\n",
       "    }\n",
       "\n",
       "    .dataframe tbody tr th {\n",
       "        vertical-align: top;\n",
       "    }\n",
       "\n",
       "    .dataframe thead th {\n",
       "        text-align: right;\n",
       "    }\n",
       "</style>\n",
       "<table border=\"1\" class=\"dataframe\">\n",
       "  <thead>\n",
       "    <tr style=\"text-align: right;\">\n",
       "      <th></th>\n",
       "      <th>Seccion</th>\n",
       "      <th>elemento</th>\n",
       "      <th>Igualdad (en valor absoluto)</th>\n",
       "      <th>Max error relativo (con valor absoluto)</th>\n",
       "      <th>Error relativo (con valor absoluto)</th>\n",
       "    </tr>\n",
       "  </thead>\n",
       "  <tbody>\n",
       "    <tr>\n",
       "      <th>0</th>\n",
       "      <td>seccion_2</td>\n",
       "      <td>varianza explicada</td>\n",
       "      <td>True</td>\n",
       "      <td>0.000000e+00</td>\n",
       "      <td>[0.0, 0.0, 0.0]</td>\n",
       "    </tr>\n",
       "    <tr>\n",
       "      <th>1</th>\n",
       "      <td>seccion_2</td>\n",
       "      <td>valores singulares</td>\n",
       "      <td>True</td>\n",
       "      <td>0.000000e+00</td>\n",
       "      <td>[0.0, 0.0, 0.0]</td>\n",
       "    </tr>\n",
       "    <tr>\n",
       "      <th>2</th>\n",
       "      <td>seccion_2</td>\n",
       "      <td>coeficientes</td>\n",
       "      <td>True</td>\n",
       "      <td>0.000000e+00</td>\n",
       "      <td>[[0.0, 0.0, 0.0, 0.0, 0.0, 0.0, 0.0, 0.0, 0.0,...</td>\n",
       "    </tr>\n",
       "    <tr>\n",
       "      <th>3</th>\n",
       "      <td>seccion_2</td>\n",
       "      <td>componentes principales</td>\n",
       "      <td>True</td>\n",
       "      <td>1.725904e-07</td>\n",
       "      <td>[[6.02594840918337e-11, 2.0427044636858444e-09...</td>\n",
       "    </tr>\n",
       "  </tbody>\n",
       "</table>\n",
       "</div>"
      ],
      "text/plain": [
       "     Seccion                 elemento  Igualdad (en valor absoluto)  \\\n",
       "0  seccion_2       varianza explicada                          True   \n",
       "1  seccion_2       valores singulares                          True   \n",
       "2  seccion_2             coeficientes                          True   \n",
       "3  seccion_2  componentes principales                          True   \n",
       "\n",
       "   Max error relativo (con valor absoluto)  \\\n",
       "0                             0.000000e+00   \n",
       "1                             0.000000e+00   \n",
       "2                             0.000000e+00   \n",
       "3                             1.725904e-07   \n",
       "\n",
       "                 Error relativo (con valor absoluto)  \n",
       "0                                    [0.0, 0.0, 0.0]  \n",
       "1                                    [0.0, 0.0, 0.0]  \n",
       "2  [[0.0, 0.0, 0.0, 0.0, 0.0, 0.0, 0.0, 0.0, 0.0,...  \n",
       "3  [[6.02594840918337e-11, 2.0427044636858444e-09...  "
      ]
     },
     "execution_count": 66,
     "metadata": {},
     "output_type": "execute_result"
    }
   ],
   "source": [
    "df_seccion_2 = comparaModelos.compara_resultados_abs_sk_np(seccion_2)\n",
    "df_seccion_2.insert(0, \"Seccion\", np.repeat(\"seccion_2\",4), True) \n",
    "df_seccion_2"
   ]
  },
  {
   "cell_type": "markdown",
   "metadata": {},
   "source": [
    "### Scikit learn vs PCA a partir de SVD aproximada mediante Jacobi-one sided"
   ]
  },
  {
   "cell_type": "code",
   "execution_count": 67,
   "metadata": {
    "scrolled": true
   },
   "outputs": [
    {
     "name": "stdout",
     "output_type": "stream",
     "text": [
      "Nota: Los resultados son de distinta longitud y por lo tanto se comparan solo las entradas en común\n"
     ]
    },
    {
     "data": {
      "text/html": [
       "<div>\n",
       "<style scoped>\n",
       "    .dataframe tbody tr th:only-of-type {\n",
       "        vertical-align: middle;\n",
       "    }\n",
       "\n",
       "    .dataframe tbody tr th {\n",
       "        vertical-align: top;\n",
       "    }\n",
       "\n",
       "    .dataframe thead th {\n",
       "        text-align: right;\n",
       "    }\n",
       "</style>\n",
       "<table border=\"1\" class=\"dataframe\">\n",
       "  <thead>\n",
       "    <tr style=\"text-align: right;\">\n",
       "      <th></th>\n",
       "      <th>Seccion</th>\n",
       "      <th>elemento</th>\n",
       "      <th>Igualdad (en valor absoluto)</th>\n",
       "      <th>Max error relativo (con valor absoluto)</th>\n",
       "      <th>Error relativo (con valor absoluto)</th>\n",
       "    </tr>\n",
       "  </thead>\n",
       "  <tbody>\n",
       "    <tr>\n",
       "      <th>0</th>\n",
       "      <td>seccion_2</td>\n",
       "      <td>varianza explicada</td>\n",
       "      <td>False</td>\n",
       "      <td>2.048381e-01</td>\n",
       "      <td>[0.126307315429458, 0.20483809151015386, 0.114...</td>\n",
       "    </tr>\n",
       "    <tr>\n",
       "      <th>1</th>\n",
       "      <td>seccion_2</td>\n",
       "      <td>valores singulares</td>\n",
       "      <td>False</td>\n",
       "      <td>1.082815e-01</td>\n",
       "      <td>[0.06127626725063698, 0.10828148584329743, 0.0...</td>\n",
       "    </tr>\n",
       "    <tr>\n",
       "      <th>2</th>\n",
       "      <td>seccion_2</td>\n",
       "      <td>coeficientes</td>\n",
       "      <td>False</td>\n",
       "      <td>3.730775e+01</td>\n",
       "      <td>[[0.15104388965092766, 0.9311740542814365, 37....</td>\n",
       "    </tr>\n",
       "    <tr>\n",
       "      <th>3</th>\n",
       "      <td>seccion_2</td>\n",
       "      <td>componentes principales</td>\n",
       "      <td>False</td>\n",
       "      <td>2.998254e+06</td>\n",
       "      <td>[[3380.405114797662, 55.090909932104154, 0.020...</td>\n",
       "    </tr>\n",
       "  </tbody>\n",
       "</table>\n",
       "</div>"
      ],
      "text/plain": [
       "     Seccion                 elemento  Igualdad (en valor absoluto)  \\\n",
       "0  seccion_2       varianza explicada                         False   \n",
       "1  seccion_2       valores singulares                         False   \n",
       "2  seccion_2             coeficientes                         False   \n",
       "3  seccion_2  componentes principales                         False   \n",
       "\n",
       "   Max error relativo (con valor absoluto)  \\\n",
       "0                             2.048381e-01   \n",
       "1                             1.082815e-01   \n",
       "2                             3.730775e+01   \n",
       "3                             2.998254e+06   \n",
       "\n",
       "                 Error relativo (con valor absoluto)  \n",
       "0  [0.126307315429458, 0.20483809151015386, 0.114...  \n",
       "1  [0.06127626725063698, 0.10828148584329743, 0.0...  \n",
       "2  [[0.15104388965092766, 0.9311740542814365, 37....  \n",
       "3  [[3380.405114797662, 55.090909932104154, 0.020...  "
      ]
     },
     "execution_count": 67,
     "metadata": {},
     "output_type": "execute_result"
    }
   ],
   "source": [
    "df_seccion_2_jac = comparaModelos.compara_resultados_abs_sk_jac(seccion_2)\n",
    "df_seccion_2_jac.insert(0, \"Seccion\", np.repeat(\"seccion_2\",4), True) \n",
    "df_seccion_2_jac"
   ]
  },
  {
   "cell_type": "markdown",
   "metadata": {},
   "source": [
    "### Scikit learn vs PCA a partir del algoritmo QR"
   ]
  },
  {
   "cell_type": "code",
   "execution_count": 163,
   "metadata": {},
   "outputs": [
    {
     "data": {
      "text/html": [
       "<div>\n",
       "<style scoped>\n",
       "    .dataframe tbody tr th:only-of-type {\n",
       "        vertical-align: middle;\n",
       "    }\n",
       "\n",
       "    .dataframe tbody tr th {\n",
       "        vertical-align: top;\n",
       "    }\n",
       "\n",
       "    .dataframe thead th {\n",
       "        text-align: right;\n",
       "    }\n",
       "</style>\n",
       "<table border=\"1\" class=\"dataframe\">\n",
       "  <thead>\n",
       "    <tr style=\"text-align: right;\">\n",
       "      <th></th>\n",
       "      <th>Seccion</th>\n",
       "      <th>elemento</th>\n",
       "      <th>Igualdad (en valor absoluto)</th>\n",
       "      <th>Max error relativo (con valor absoluto)</th>\n",
       "      <th>Error relativo (con valor absoluto)</th>\n",
       "    </tr>\n",
       "  </thead>\n",
       "  <tbody>\n",
       "    <tr>\n",
       "      <th>0</th>\n",
       "      <td>seccion_2</td>\n",
       "      <td>varianza explicada</td>\n",
       "      <td>True</td>\n",
       "      <td>0.000006</td>\n",
       "      <td>[1.426533869698987e-13, 6.0164012023457805e-06...</td>\n",
       "    </tr>\n",
       "    <tr>\n",
       "      <th>1</th>\n",
       "      <td>seccion_2</td>\n",
       "      <td>eigenvalores</td>\n",
       "      <td>True</td>\n",
       "      <td>0.000006</td>\n",
       "      <td>[1.3636577603894522e-13, 6.016401196106755e-06...</td>\n",
       "    </tr>\n",
       "    <tr>\n",
       "      <th>2</th>\n",
       "      <td>seccion_2</td>\n",
       "      <td>coeficientes</td>\n",
       "      <td>False</td>\n",
       "      <td>0.213514</td>\n",
       "      <td>[[9.63301597215641e-14, 2.389524864392304e-13,...</td>\n",
       "    </tr>\n",
       "    <tr>\n",
       "      <th>3</th>\n",
       "      <td>seccion_2</td>\n",
       "      <td>componentes principales</td>\n",
       "      <td>False</td>\n",
       "      <td>2.513791</td>\n",
       "      <td>[[6.024223679040742e-11, 0.0001648771947033299...</td>\n",
       "    </tr>\n",
       "  </tbody>\n",
       "</table>\n",
       "</div>"
      ],
      "text/plain": [
       "     Seccion                 elemento  Igualdad (en valor absoluto)  \\\n",
       "0  seccion_2       varianza explicada                          True   \n",
       "1  seccion_2             eigenvalores                          True   \n",
       "2  seccion_2             coeficientes                         False   \n",
       "3  seccion_2  componentes principales                         False   \n",
       "\n",
       "   Max error relativo (con valor absoluto)  \\\n",
       "0                                 0.000006   \n",
       "1                                 0.000006   \n",
       "2                                 0.213514   \n",
       "3                                 2.513791   \n",
       "\n",
       "                 Error relativo (con valor absoluto)  \n",
       "0  [1.426533869698987e-13, 6.0164012023457805e-06...  \n",
       "1  [1.3636577603894522e-13, 6.016401196106755e-06...  \n",
       "2  [[9.63301597215641e-14, 2.389524864392304e-13,...  \n",
       "3  [[6.024223679040742e-11, 0.0001648771947033299...  "
      ]
     },
     "execution_count": 163,
     "metadata": {},
     "output_type": "execute_result"
    }
   ],
   "source": [
    "df_seccion_2_qr = comparaModelos.compara_resultados_abs_sk_qr(seccion_2)\n",
    "df_seccion_2_qr.insert(0, \"Seccion\", np.repeat(\"seccion_2\",4), True) \n",
    "df_seccion_2_qr"
   ]
  },
  {
   "cell_type": "code",
   "execution_count": 170,
   "metadata": {},
   "outputs": [
    {
     "data": {
      "text/plain": [
       "23.81611840914737"
      ]
     },
     "execution_count": 170,
     "metadata": {},
     "output_type": "execute_result"
    }
   ],
   "source": [
    "np.linalg.cond(seccion_2)"
   ]
  },
  {
   "cell_type": "markdown",
   "metadata": {},
   "source": [
    "# Sección 4. Características personales"
   ]
  },
  {
   "cell_type": "code",
   "execution_count": 69,
   "metadata": {},
   "outputs": [],
   "source": [
    "seccion_4 = df.loc[:, ['p15', 'p16', 'p17', 'p18', 'p19', 'p20', 'p21', 'p22', 'p23', 'p24', 'p25', 'p26', 'p27',\n",
    "                         'p28', 'p29', 'p30', 'p31', 'p32', 'p33', 'p34', 'p35', 'p36', 'p37', 'p38', 'p39', 'p40',\n",
    "                         'p41', 'p42', 'p43', 'p44', 'p45', 'p46', 'p47', 'p48', 'p49', 'p50','p51', 'p52', 'p53', \n",
    "                         'p54', 'p55', 'p56']] ###Se seleccionan las preguntas que conforman esta sección"
   ]
  },
  {
   "cell_type": "code",
   "execution_count": 70,
   "metadata": {},
   "outputs": [],
   "source": [
    "####Se escalan los datos.\n",
    "scaler = preprocessing.StandardScaler()\n",
    "\n",
    "seccion_4 = pd.DataFrame(scaler.fit_transform(seccion_4))"
   ]
  },
  {
   "cell_type": "markdown",
   "metadata": {},
   "source": [
    "### Scikit learn vs PCA a partir de SVD de numpy"
   ]
  },
  {
   "cell_type": "code",
   "execution_count": 71,
   "metadata": {},
   "outputs": [
    {
     "data": {
      "text/html": [
       "<div>\n",
       "<style scoped>\n",
       "    .dataframe tbody tr th:only-of-type {\n",
       "        vertical-align: middle;\n",
       "    }\n",
       "\n",
       "    .dataframe tbody tr th {\n",
       "        vertical-align: top;\n",
       "    }\n",
       "\n",
       "    .dataframe thead th {\n",
       "        text-align: right;\n",
       "    }\n",
       "</style>\n",
       "<table border=\"1\" class=\"dataframe\">\n",
       "  <thead>\n",
       "    <tr style=\"text-align: right;\">\n",
       "      <th></th>\n",
       "      <th>elemento</th>\n",
       "      <th>Igualdad</th>\n",
       "      <th>Max error relativo</th>\n",
       "      <th>Error relativo</th>\n",
       "    </tr>\n",
       "  </thead>\n",
       "  <tbody>\n",
       "    <tr>\n",
       "      <th>0</th>\n",
       "      <td>varianza explicada</td>\n",
       "      <td>True</td>\n",
       "      <td>3.810244e-16</td>\n",
       "      <td>[1.8163619603877741e-16, 2.6276477052749485e-1...</td>\n",
       "    </tr>\n",
       "    <tr>\n",
       "      <th>1</th>\n",
       "      <td>valores singulares</td>\n",
       "      <td>True</td>\n",
       "      <td>0.000000e+00</td>\n",
       "      <td>[0.0, 0.0, 0.0, 0.0, 0.0, 0.0, 0.0, 0.0, 0.0, ...</td>\n",
       "    </tr>\n",
       "    <tr>\n",
       "      <th>2</th>\n",
       "      <td>coeficientes</td>\n",
       "      <td>False</td>\n",
       "      <td>2.000000e+00</td>\n",
       "      <td>[[0.0, 0.0, 0.0, 0.0, 0.0, 0.0, 0.0, 0.0, 0.0,...</td>\n",
       "    </tr>\n",
       "    <tr>\n",
       "      <th>3</th>\n",
       "      <td>componentes principales</td>\n",
       "      <td>False</td>\n",
       "      <td>2.000000e+00</td>\n",
       "      <td>[[7.267035848063278e-11, 5.408932705117198e-12...</td>\n",
       "    </tr>\n",
       "  </tbody>\n",
       "</table>\n",
       "</div>"
      ],
      "text/plain": [
       "                  elemento  Igualdad  Max error relativo  \\\n",
       "0       varianza explicada      True        3.810244e-16   \n",
       "1       valores singulares      True        0.000000e+00   \n",
       "2             coeficientes     False        2.000000e+00   \n",
       "3  componentes principales     False        2.000000e+00   \n",
       "\n",
       "                                      Error relativo  \n",
       "0  [1.8163619603877741e-16, 2.6276477052749485e-1...  \n",
       "1  [0.0, 0.0, 0.0, 0.0, 0.0, 0.0, 0.0, 0.0, 0.0, ...  \n",
       "2  [[0.0, 0.0, 0.0, 0.0, 0.0, 0.0, 0.0, 0.0, 0.0,...  \n",
       "3  [[7.267035848063278e-11, 5.408932705117198e-12...  "
      ]
     },
     "execution_count": 71,
     "metadata": {},
     "output_type": "execute_result"
    }
   ],
   "source": [
    "comparaModelos.compara_resultados_sk_np(seccion_4)"
   ]
  },
  {
   "cell_type": "markdown",
   "metadata": {},
   "source": [
    "Revisemos las diferencias obtenidas:"
   ]
  },
  {
   "cell_type": "code",
   "execution_count": 72,
   "metadata": {},
   "outputs": [],
   "source": [
    "# PCA de scikit learn\n",
    "pca, var_exp, comp_prin, val_sing, pca_coef, eigenvalues = todoJunto.PCA_from_sklearn(seccion_4)\n",
    "\n",
    "# PCA a partir de SVD de numpy\n",
    "np_val_sing, np_pca_coef, np_comp_prin, np_var_exp = todoJunto.PCA_from_SVD(seccion_4)"
   ]
  },
  {
   "cell_type": "markdown",
   "metadata": {},
   "source": [
    "Comparamos primero los coeficientes:"
   ]
  },
  {
   "cell_type": "code",
   "execution_count": 73,
   "metadata": {},
   "outputs": [
    {
     "data": {
      "text/plain": [
       "array([[ True,  True,  True,  True,  True,  True,  True,  True,  True,\n",
       "         True,  True,  True,  True,  True,  True,  True,  True,  True,\n",
       "         True,  True,  True,  True,  True,  True,  True,  True,  True,\n",
       "         True,  True,  True,  True,  True,  True,  True,  True,  True,\n",
       "         True,  True,  True,  True,  True,  True],\n",
       "       [ True,  True,  True,  True,  True,  True,  True,  True,  True,\n",
       "         True,  True,  True,  True,  True,  True,  True,  True,  True,\n",
       "         True,  True,  True,  True,  True,  True,  True,  True,  True,\n",
       "         True,  True,  True,  True,  True,  True,  True,  True,  True,\n",
       "         True,  True,  True,  True,  True,  True],\n",
       "       [False, False, False, False, False, False, False, False, False,\n",
       "        False, False, False, False, False, False, False, False, False,\n",
       "        False, False, False, False, False, False, False, False, False,\n",
       "        False, False, False, False, False, False, False, False, False,\n",
       "        False, False, False, False, False, False],\n",
       "       [False, False, False, False, False, False, False, False, False,\n",
       "        False, False, False, False, False, False, False, False, False,\n",
       "        False, False, False, False, False, False, False, False, False,\n",
       "        False, False, False, False, False, False, False, False, False,\n",
       "        False, False, False, False, False, False],\n",
       "       [False, False, False, False, False, False, False, False, False,\n",
       "        False, False, False, False, False, False, False, False, False,\n",
       "        False, False, False, False, False, False, False, False, False,\n",
       "        False, False, False, False, False, False, False, False, False,\n",
       "        False, False, False, False, False, False],\n",
       "       [False, False, False, False, False, False, False, False, False,\n",
       "        False, False, False, False, False, False, False, False, False,\n",
       "        False, False, False, False, False, False, False, False, False,\n",
       "        False, False, False, False, False, False, False, False, False,\n",
       "        False, False, False, False, False, False],\n",
       "       [False, False, False, False, False, False, False, False, False,\n",
       "        False, False, False, False, False, False, False, False, False,\n",
       "        False, False, False, False, False, False, False, False, False,\n",
       "        False, False, False, False, False, False, False, False, False,\n",
       "        False, False, False, False, False, False],\n",
       "       [ True,  True,  True,  True,  True,  True,  True,  True,  True,\n",
       "         True,  True,  True,  True,  True,  True,  True,  True,  True,\n",
       "         True,  True,  True,  True,  True,  True,  True,  True,  True,\n",
       "         True,  True,  True,  True,  True,  True,  True,  True,  True,\n",
       "         True,  True,  True,  True,  True,  True],\n",
       "       [False, False, False, False, False, False, False, False, False,\n",
       "        False, False, False, False, False, False, False, False, False,\n",
       "        False, False, False, False, False, False, False, False, False,\n",
       "        False, False, False, False, False, False, False, False, False,\n",
       "        False, False, False, False, False, False],\n",
       "       [False, False, False, False, False, False, False, False, False,\n",
       "        False, False, False, False, False, False, False, False, False,\n",
       "        False, False, False, False, False, False, False, False, False,\n",
       "        False, False, False, False, False, False, False, False, False,\n",
       "        False, False, False, False, False, False],\n",
       "       [False, False, False, False, False, False, False, False, False,\n",
       "        False, False, False, False, False, False, False, False, False,\n",
       "        False, False, False, False, False, False, False, False, False,\n",
       "        False, False, False, False, False, False, False, False, False,\n",
       "        False, False, False, False, False, False],\n",
       "       [False, False, False, False, False, False, False, False, False,\n",
       "        False, False, False, False, False, False, False, False, False,\n",
       "        False, False, False, False, False, False, False, False, False,\n",
       "        False, False, False, False, False, False, False, False, False,\n",
       "        False, False, False, False, False, False],\n",
       "       [ True,  True,  True,  True,  True,  True,  True,  True,  True,\n",
       "         True,  True,  True,  True,  True,  True,  True,  True,  True,\n",
       "         True,  True,  True,  True,  True,  True,  True,  True,  True,\n",
       "         True,  True,  True,  True,  True,  True,  True,  True,  True,\n",
       "         True,  True,  True,  True,  True,  True],\n",
       "       [False, False, False, False, False, False, False, False, False,\n",
       "        False, False, False, False, False, False, False, False, False,\n",
       "        False, False, False, False, False, False, False, False, False,\n",
       "        False, False, False, False, False, False, False, False, False,\n",
       "        False, False, False, False, False, False],\n",
       "       [ True,  True,  True,  True,  True,  True,  True,  True,  True,\n",
       "         True,  True,  True,  True,  True,  True,  True,  True,  True,\n",
       "         True,  True,  True,  True,  True,  True,  True,  True,  True,\n",
       "         True,  True,  True,  True,  True,  True,  True,  True,  True,\n",
       "         True,  True,  True,  True,  True,  True]])"
      ]
     },
     "execution_count": 73,
     "metadata": {},
     "output_type": "execute_result"
    }
   ],
   "source": [
    "pca_coef == np_pca_coef"
   ]
  },
  {
   "cell_type": "markdown",
   "metadata": {},
   "source": [
    "Lo anterior indica que las diferencias ocurren únicamente en algunas de las entradas, y podemos comprobar que se trata sólo de diferencias de signo:"
   ]
  },
  {
   "cell_type": "code",
   "execution_count": 74,
   "metadata": {},
   "outputs": [
    {
     "data": {
      "text/plain": [
       "array([-0.02794204,  0.05525299,  0.02325172,  0.03993592,  0.0338589 ,\n",
       "        0.02343367,  0.07592834,  0.06985281, -0.05350466, -0.11115483,\n",
       "       -0.10704293, -0.07664377, -0.16954962, -0.04327191, -0.05971324,\n",
       "       -0.01991098, -0.16330696, -0.05474756, -0.14034013, -0.28164905,\n",
       "       -0.23748561, -0.22211957, -0.24550437, -0.22538582, -0.1962033 ,\n",
       "       -0.11009484,  0.16075068,  0.17153375,  0.16529315,  0.14000056,\n",
       "        0.18666929,  0.28301588,  0.22302426,  0.31955116,  0.22370007,\n",
       "        0.19366366,  0.1529959 ,  0.08369772,  0.09539056,  0.1047206 ,\n",
       "        0.08806734,  0.06067474])"
      ]
     },
     "execution_count": 74,
     "metadata": {},
     "output_type": "execute_result"
    }
   ],
   "source": [
    "pca_coef[2]"
   ]
  },
  {
   "cell_type": "code",
   "execution_count": 75,
   "metadata": {},
   "outputs": [
    {
     "data": {
      "text/plain": [
       "array([ 0.02794204, -0.05525299, -0.02325172, -0.03993592, -0.0338589 ,\n",
       "       -0.02343367, -0.07592834, -0.06985281,  0.05350466,  0.11115483,\n",
       "        0.10704293,  0.07664377,  0.16954962,  0.04327191,  0.05971324,\n",
       "        0.01991098,  0.16330696,  0.05474756,  0.14034013,  0.28164905,\n",
       "        0.23748561,  0.22211957,  0.24550437,  0.22538582,  0.1962033 ,\n",
       "        0.11009484, -0.16075068, -0.17153375, -0.16529315, -0.14000056,\n",
       "       -0.18666929, -0.28301588, -0.22302426, -0.31955116, -0.22370007,\n",
       "       -0.19366366, -0.1529959 , -0.08369772, -0.09539056, -0.1047206 ,\n",
       "       -0.08806734, -0.06067474])"
      ]
     },
     "execution_count": 75,
     "metadata": {},
     "output_type": "execute_result"
    }
   ],
   "source": [
    "np_pca_coef[2]"
   ]
  },
  {
   "cell_type": "code",
   "execution_count": 76,
   "metadata": {},
   "outputs": [
    {
     "data": {
      "text/plain": [
       "array([ True,  True,  True,  True,  True,  True,  True,  True,  True,\n",
       "        True,  True,  True,  True,  True,  True,  True,  True,  True,\n",
       "        True,  True,  True,  True,  True,  True,  True,  True,  True,\n",
       "        True,  True,  True,  True,  True,  True,  True,  True,  True,\n",
       "        True,  True,  True,  True,  True,  True])"
      ]
     },
     "execution_count": 76,
     "metadata": {},
     "output_type": "execute_result"
    }
   ],
   "source": [
    "pca_coef[2] == -np_pca_coef[2]"
   ]
  },
  {
   "cell_type": "markdown",
   "metadata": {},
   "source": [
    "Lo anterior nos indica que podríamos obtener también diferencias de signo en las componentes correspondientes. En este caso, nos apoyamos en la función `compara_resultados_abs_sk_np` que compara los valores absolutos de los coeficientes y componentes que previamente nos resultaron distintos y vemos que esta vez obtenemos la igualdad:"
   ]
  },
  {
   "cell_type": "code",
   "execution_count": 77,
   "metadata": {},
   "outputs": [
    {
     "data": {
      "text/html": [
       "<div>\n",
       "<style scoped>\n",
       "    .dataframe tbody tr th:only-of-type {\n",
       "        vertical-align: middle;\n",
       "    }\n",
       "\n",
       "    .dataframe tbody tr th {\n",
       "        vertical-align: top;\n",
       "    }\n",
       "\n",
       "    .dataframe thead th {\n",
       "        text-align: right;\n",
       "    }\n",
       "</style>\n",
       "<table border=\"1\" class=\"dataframe\">\n",
       "  <thead>\n",
       "    <tr style=\"text-align: right;\">\n",
       "      <th></th>\n",
       "      <th>Seccion</th>\n",
       "      <th>elemento</th>\n",
       "      <th>Igualdad (en valor absoluto)</th>\n",
       "      <th>Max error relativo (con valor absoluto)</th>\n",
       "      <th>Error relativo (con valor absoluto)</th>\n",
       "    </tr>\n",
       "  </thead>\n",
       "  <tbody>\n",
       "    <tr>\n",
       "      <th>0</th>\n",
       "      <td>seccion_4</td>\n",
       "      <td>varianza explicada</td>\n",
       "      <td>True</td>\n",
       "      <td>3.810244e-16</td>\n",
       "      <td>[1.8163619603877741e-16, 2.6276477052749485e-1...</td>\n",
       "    </tr>\n",
       "    <tr>\n",
       "      <th>1</th>\n",
       "      <td>seccion_4</td>\n",
       "      <td>valores singulares</td>\n",
       "      <td>True</td>\n",
       "      <td>0.000000e+00</td>\n",
       "      <td>[0.0, 0.0, 0.0, 0.0, 0.0, 0.0, 0.0, 0.0, 0.0, ...</td>\n",
       "    </tr>\n",
       "    <tr>\n",
       "      <th>2</th>\n",
       "      <td>seccion_4</td>\n",
       "      <td>coeficientes</td>\n",
       "      <td>True</td>\n",
       "      <td>0.000000e+00</td>\n",
       "      <td>[[0.0, 0.0, 0.0, 0.0, 0.0, 0.0, 0.0, 0.0, 0.0,...</td>\n",
       "    </tr>\n",
       "    <tr>\n",
       "      <th>3</th>\n",
       "      <td>seccion_4</td>\n",
       "      <td>componentes principales</td>\n",
       "      <td>True</td>\n",
       "      <td>7.415905e-08</td>\n",
       "      <td>[[7.267035848063278e-11, 5.408932705117198e-12...</td>\n",
       "    </tr>\n",
       "  </tbody>\n",
       "</table>\n",
       "</div>"
      ],
      "text/plain": [
       "     Seccion                 elemento  Igualdad (en valor absoluto)  \\\n",
       "0  seccion_4       varianza explicada                          True   \n",
       "1  seccion_4       valores singulares                          True   \n",
       "2  seccion_4             coeficientes                          True   \n",
       "3  seccion_4  componentes principales                          True   \n",
       "\n",
       "   Max error relativo (con valor absoluto)  \\\n",
       "0                             3.810244e-16   \n",
       "1                             0.000000e+00   \n",
       "2                             0.000000e+00   \n",
       "3                             7.415905e-08   \n",
       "\n",
       "                 Error relativo (con valor absoluto)  \n",
       "0  [1.8163619603877741e-16, 2.6276477052749485e-1...  \n",
       "1  [0.0, 0.0, 0.0, 0.0, 0.0, 0.0, 0.0, 0.0, 0.0, ...  \n",
       "2  [[0.0, 0.0, 0.0, 0.0, 0.0, 0.0, 0.0, 0.0, 0.0,...  \n",
       "3  [[7.267035848063278e-11, 5.408932705117198e-12...  "
      ]
     },
     "execution_count": 77,
     "metadata": {},
     "output_type": "execute_result"
    }
   ],
   "source": [
    "df_seccion_4 = comparaModelos.compara_resultados_abs_sk_np(seccion_4)\n",
    "df_seccion_4.insert(0, \"Seccion\", np.repeat(\"seccion_4\",4), True) \n",
    "df_seccion_4"
   ]
  },
  {
   "cell_type": "markdown",
   "metadata": {},
   "source": [
    "En adelante, usaremos esta función de comparación, para no tomar en cuenta las diferencias de signos."
   ]
  },
  {
   "cell_type": "markdown",
   "metadata": {},
   "source": [
    "### Scikit learn vs PCA a partir de SVD aproximada mediante Jacobi-one sided\n",
    "\n",
    "En vista de lo observado en la sección anterior, a partir de ahora usaremos la función `compara_resultados_abs_sk_jac` que no toma en cuenta los signos:"
   ]
  },
  {
   "cell_type": "code",
   "execution_count": 78,
   "metadata": {
    "scrolled": true
   },
   "outputs": [
    {
     "data": {
      "text/html": [
       "<div>\n",
       "<style scoped>\n",
       "    .dataframe tbody tr th:only-of-type {\n",
       "        vertical-align: middle;\n",
       "    }\n",
       "\n",
       "    .dataframe tbody tr th {\n",
       "        vertical-align: top;\n",
       "    }\n",
       "\n",
       "    .dataframe thead th {\n",
       "        text-align: right;\n",
       "    }\n",
       "</style>\n",
       "<table border=\"1\" class=\"dataframe\">\n",
       "  <thead>\n",
       "    <tr style=\"text-align: right;\">\n",
       "      <th></th>\n",
       "      <th>Seccion</th>\n",
       "      <th>elemento</th>\n",
       "      <th>Igualdad (en valor absoluto)</th>\n",
       "      <th>Max error relativo (con valor absoluto)</th>\n",
       "      <th>Error relativo (con valor absoluto)</th>\n",
       "    </tr>\n",
       "  </thead>\n",
       "  <tbody>\n",
       "    <tr>\n",
       "      <th>0</th>\n",
       "      <td>seccion_4</td>\n",
       "      <td>varianza explicada</td>\n",
       "      <td>False</td>\n",
       "      <td>5.161847e-02</td>\n",
       "      <td>[0.04112376947389873, 0.03252009150507147, 0.0...</td>\n",
       "    </tr>\n",
       "    <tr>\n",
       "      <th>1</th>\n",
       "      <td>seccion_4</td>\n",
       "      <td>valores singulares</td>\n",
       "      <td>False</td>\n",
       "      <td>2.548450e-02</td>\n",
       "      <td>[0.02035472727571438, 0.01639443449372074, 0.0...</td>\n",
       "    </tr>\n",
       "    <tr>\n",
       "      <th>2</th>\n",
       "      <td>seccion_4</td>\n",
       "      <td>coeficientes</td>\n",
       "      <td>False</td>\n",
       "      <td>6.948794e+02</td>\n",
       "      <td>[[0.018741068235355388, 0.035586748186205185, ...</td>\n",
       "    </tr>\n",
       "    <tr>\n",
       "      <th>3</th>\n",
       "      <td>seccion_4</td>\n",
       "      <td>componentes principales</td>\n",
       "      <td>False</td>\n",
       "      <td>2.062674e+10</td>\n",
       "      <td>[[1067.708263034393, 4624.663310507209, 1086.4...</td>\n",
       "    </tr>\n",
       "  </tbody>\n",
       "</table>\n",
       "</div>"
      ],
      "text/plain": [
       "     Seccion                 elemento  Igualdad (en valor absoluto)  \\\n",
       "0  seccion_4       varianza explicada                         False   \n",
       "1  seccion_4       valores singulares                         False   \n",
       "2  seccion_4             coeficientes                         False   \n",
       "3  seccion_4  componentes principales                         False   \n",
       "\n",
       "   Max error relativo (con valor absoluto)  \\\n",
       "0                             5.161847e-02   \n",
       "1                             2.548450e-02   \n",
       "2                             6.948794e+02   \n",
       "3                             2.062674e+10   \n",
       "\n",
       "                 Error relativo (con valor absoluto)  \n",
       "0  [0.04112376947389873, 0.03252009150507147, 0.0...  \n",
       "1  [0.02035472727571438, 0.01639443449372074, 0.0...  \n",
       "2  [[0.018741068235355388, 0.035586748186205185, ...  \n",
       "3  [[1067.708263034393, 4624.663310507209, 1086.4...  "
      ]
     },
     "execution_count": 78,
     "metadata": {},
     "output_type": "execute_result"
    }
   ],
   "source": [
    "df_seccion_4_jac = comparaModelos.compara_resultados_abs_sk_jac(seccion_4)\n",
    "df_seccion_4_jac.insert(0, \"Seccion\",np.repeat(\"seccion_4\",4), True) \n",
    "df_seccion_4_jac"
   ]
  },
  {
   "cell_type": "markdown",
   "metadata": {},
   "source": [
    "De nuevo, obtenemos errores del orden de $10^{-2}$ en varianza explicada y valores singulares, que se transforman en errores mayores a 1 en coeficientes y componentes principales. Además, comprobamos que seguimos trabajando con una matriz medianamente bien condicionada:"
   ]
  },
  {
   "cell_type": "code",
   "execution_count": 79,
   "metadata": {},
   "outputs": [
    {
     "data": {
      "text/plain": [
       "3.9339555866144793"
      ]
     },
     "execution_count": 79,
     "metadata": {},
     "output_type": "execute_result"
    }
   ],
   "source": [
    "np.linalg.cond(seccion_4)"
   ]
  },
  {
   "cell_type": "markdown",
   "metadata": {},
   "source": [
    "### Scikit learn vs PCA a partir del algoritmo QR"
   ]
  },
  {
   "cell_type": "code",
   "execution_count": 80,
   "metadata": {},
   "outputs": [
    {
     "data": {
      "text/html": [
       "<div>\n",
       "<style scoped>\n",
       "    .dataframe tbody tr th:only-of-type {\n",
       "        vertical-align: middle;\n",
       "    }\n",
       "\n",
       "    .dataframe tbody tr th {\n",
       "        vertical-align: top;\n",
       "    }\n",
       "\n",
       "    .dataframe thead th {\n",
       "        text-align: right;\n",
       "    }\n",
       "</style>\n",
       "<table border=\"1\" class=\"dataframe\">\n",
       "  <thead>\n",
       "    <tr style=\"text-align: right;\">\n",
       "      <th></th>\n",
       "      <th>Seccion</th>\n",
       "      <th>elemento</th>\n",
       "      <th>Igualdad (en valor absoluto)</th>\n",
       "      <th>Max error relativo (con valor absoluto)</th>\n",
       "      <th>Error relativo (con valor absoluto)</th>\n",
       "    </tr>\n",
       "  </thead>\n",
       "  <tbody>\n",
       "    <tr>\n",
       "      <th>0</th>\n",
       "      <td>seccion_4</td>\n",
       "      <td>varianza explicada</td>\n",
       "      <td>False</td>\n",
       "      <td>0.003287</td>\n",
       "      <td>[9.081809801938787e-15, 2.7590300905387026e-15...</td>\n",
       "    </tr>\n",
       "    <tr>\n",
       "      <th>1</th>\n",
       "      <td>seccion_4</td>\n",
       "      <td>eigenvalores</td>\n",
       "      <td>False</td>\n",
       "      <td>0.003287</td>\n",
       "      <td>[6.919461792403764e-15, 5.00503432054534e-15, ...</td>\n",
       "    </tr>\n",
       "    <tr>\n",
       "      <th>2</th>\n",
       "      <td>seccion_4</td>\n",
       "      <td>coeficientes</td>\n",
       "      <td>False</td>\n",
       "      <td>55.381394</td>\n",
       "      <td>[[5.809725747878342e-15, 6.155074707948904e-14...</td>\n",
       "    </tr>\n",
       "    <tr>\n",
       "      <th>3</th>\n",
       "      <td>seccion_4</td>\n",
       "      <td>componentes principales</td>\n",
       "      <td>False</td>\n",
       "      <td>362438.355853</td>\n",
       "      <td>[[7.27210338561804e-11, 5.398044704011588e-12,...</td>\n",
       "    </tr>\n",
       "  </tbody>\n",
       "</table>\n",
       "</div>"
      ],
      "text/plain": [
       "     Seccion                 elemento  Igualdad (en valor absoluto)  \\\n",
       "0  seccion_4       varianza explicada                         False   \n",
       "1  seccion_4             eigenvalores                         False   \n",
       "2  seccion_4             coeficientes                         False   \n",
       "3  seccion_4  componentes principales                         False   \n",
       "\n",
       "   Max error relativo (con valor absoluto)  \\\n",
       "0                                 0.003287   \n",
       "1                                 0.003287   \n",
       "2                                55.381394   \n",
       "3                            362438.355853   \n",
       "\n",
       "                 Error relativo (con valor absoluto)  \n",
       "0  [9.081809801938787e-15, 2.7590300905387026e-15...  \n",
       "1  [6.919461792403764e-15, 5.00503432054534e-15, ...  \n",
       "2  [[5.809725747878342e-15, 6.155074707948904e-14...  \n",
       "3  [[7.27210338561804e-11, 5.398044704011588e-12,...  "
      ]
     },
     "execution_count": 80,
     "metadata": {},
     "output_type": "execute_result"
    }
   ],
   "source": [
    "df_seccion_4_qr = comparaModelos.compara_resultados_abs_sk_qr(seccion_4)\n",
    "df_seccion_4_qr.insert(0, \"Seccion\", np.repeat(\"seccion_4\",4), True) \n",
    "df_seccion_4_qr"
   ]
  },
  {
   "cell_type": "code",
   "execution_count": 171,
   "metadata": {},
   "outputs": [
    {
     "data": {
      "text/plain": [
       "3.9339555866144793"
      ]
     },
     "execution_count": 171,
     "metadata": {},
     "output_type": "execute_result"
    }
   ],
   "source": [
    "np.linalg.cond(seccion_4)"
   ]
  },
  {
   "cell_type": "markdown",
   "metadata": {},
   "source": [
    "# Sección 5. Inglés y cómputo"
   ]
  },
  {
   "cell_type": "markdown",
   "metadata": {},
   "source": [
    "## 5.1. Califica tu nivel de habilidad para leer en inglés."
   ]
  },
  {
   "cell_type": "code",
   "execution_count": 81,
   "metadata": {},
   "outputs": [],
   "source": [
    "np.random.seed(150) ###Se define la semilla para la reproducibilidad de los resultados\n",
    "\n",
    "seccion_5_1 = df.loc[:, ['p57', 'p58', 'p59', 'p60']] ###Se seleccionan las preguntas que conforman esta sección"
   ]
  },
  {
   "cell_type": "code",
   "execution_count": 82,
   "metadata": {},
   "outputs": [],
   "source": [
    "####Se escalan los datos.\n",
    "scaler = preprocessing.StandardScaler()\n",
    "\n",
    "seccion_5_1 = pd.DataFrame(scaler.fit_transform(seccion_5_1))"
   ]
  },
  {
   "cell_type": "markdown",
   "metadata": {},
   "source": [
    "### Scikit learn vs PCA a partir de SVD de numpy"
   ]
  },
  {
   "cell_type": "code",
   "execution_count": 83,
   "metadata": {},
   "outputs": [
    {
     "data": {
      "text/html": [
       "<div>\n",
       "<style scoped>\n",
       "    .dataframe tbody tr th:only-of-type {\n",
       "        vertical-align: middle;\n",
       "    }\n",
       "\n",
       "    .dataframe tbody tr th {\n",
       "        vertical-align: top;\n",
       "    }\n",
       "\n",
       "    .dataframe thead th {\n",
       "        text-align: right;\n",
       "    }\n",
       "</style>\n",
       "<table border=\"1\" class=\"dataframe\">\n",
       "  <thead>\n",
       "    <tr style=\"text-align: right;\">\n",
       "      <th></th>\n",
       "      <th>Seccion</th>\n",
       "      <th>elemento</th>\n",
       "      <th>Igualdad (en valor absoluto)</th>\n",
       "      <th>Max error relativo (con valor absoluto)</th>\n",
       "      <th>Error relativo (con valor absoluto)</th>\n",
       "    </tr>\n",
       "  </thead>\n",
       "  <tbody>\n",
       "    <tr>\n",
       "      <th>0</th>\n",
       "      <td>seccion_5_1</td>\n",
       "      <td>varianza explicada</td>\n",
       "      <td>True</td>\n",
       "      <td>2.971219e-16</td>\n",
       "      <td>[2.9712188186743343e-16]</td>\n",
       "    </tr>\n",
       "    <tr>\n",
       "      <th>1</th>\n",
       "      <td>seccion_5_1</td>\n",
       "      <td>valores singulares</td>\n",
       "      <td>True</td>\n",
       "      <td>0.000000e+00</td>\n",
       "      <td>[0.0]</td>\n",
       "    </tr>\n",
       "    <tr>\n",
       "      <th>2</th>\n",
       "      <td>seccion_5_1</td>\n",
       "      <td>coeficientes</td>\n",
       "      <td>True</td>\n",
       "      <td>0.000000e+00</td>\n",
       "      <td>[[0.0, 0.0, 0.0, 0.0]]</td>\n",
       "    </tr>\n",
       "    <tr>\n",
       "      <th>3</th>\n",
       "      <td>seccion_5_1</td>\n",
       "      <td>componentes principales</td>\n",
       "      <td>True</td>\n",
       "      <td>1.369991e-10</td>\n",
       "      <td>[[1.0864534238555451e-10], [1.3710478122857844...</td>\n",
       "    </tr>\n",
       "  </tbody>\n",
       "</table>\n",
       "</div>"
      ],
      "text/plain": [
       "       Seccion                 elemento  Igualdad (en valor absoluto)  \\\n",
       "0  seccion_5_1       varianza explicada                          True   \n",
       "1  seccion_5_1       valores singulares                          True   \n",
       "2  seccion_5_1             coeficientes                          True   \n",
       "3  seccion_5_1  componentes principales                          True   \n",
       "\n",
       "   Max error relativo (con valor absoluto)  \\\n",
       "0                             2.971219e-16   \n",
       "1                             0.000000e+00   \n",
       "2                             0.000000e+00   \n",
       "3                             1.369991e-10   \n",
       "\n",
       "                 Error relativo (con valor absoluto)  \n",
       "0                           [2.9712188186743343e-16]  \n",
       "1                                              [0.0]  \n",
       "2                             [[0.0, 0.0, 0.0, 0.0]]  \n",
       "3  [[1.0864534238555451e-10], [1.3710478122857844...  "
      ]
     },
     "execution_count": 83,
     "metadata": {},
     "output_type": "execute_result"
    }
   ],
   "source": [
    "df_seccion_5_1 = comparaModelos.compara_resultados_abs_sk_np(seccion_5_1)\n",
    "df_seccion_5_1.insert(0, \"Seccion\", np.repeat(\"seccion_5_1\",4), True) \n",
    "df_seccion_5_1"
   ]
  },
  {
   "cell_type": "markdown",
   "metadata": {},
   "source": [
    "### Scikit learn vs PCA a partir de SVD aproximada mediante Jacobi-one sided"
   ]
  },
  {
   "cell_type": "code",
   "execution_count": 84,
   "metadata": {
    "scrolled": true
   },
   "outputs": [
    {
     "data": {
      "text/html": [
       "<div>\n",
       "<style scoped>\n",
       "    .dataframe tbody tr th:only-of-type {\n",
       "        vertical-align: middle;\n",
       "    }\n",
       "\n",
       "    .dataframe tbody tr th {\n",
       "        vertical-align: top;\n",
       "    }\n",
       "\n",
       "    .dataframe thead th {\n",
       "        text-align: right;\n",
       "    }\n",
       "</style>\n",
       "<table border=\"1\" class=\"dataframe\">\n",
       "  <thead>\n",
       "    <tr style=\"text-align: right;\">\n",
       "      <th></th>\n",
       "      <th>Seccion</th>\n",
       "      <th>elemento</th>\n",
       "      <th>Igualdad (en valor absoluto)</th>\n",
       "      <th>Max error relativo (con valor absoluto)</th>\n",
       "      <th>Error relativo (con valor absoluto)</th>\n",
       "    </tr>\n",
       "  </thead>\n",
       "  <tbody>\n",
       "    <tr>\n",
       "      <th>0</th>\n",
       "      <td>seccion_5_1</td>\n",
       "      <td>varianza explicada</td>\n",
       "      <td>False</td>\n",
       "      <td>0.000068</td>\n",
       "      <td>[6.779697210380624e-05]</td>\n",
       "    </tr>\n",
       "    <tr>\n",
       "      <th>1</th>\n",
       "      <td>seccion_5_1</td>\n",
       "      <td>valores singulares</td>\n",
       "      <td>False</td>\n",
       "      <td>0.000034</td>\n",
       "      <td>[3.389791155141556e-05]</td>\n",
       "    </tr>\n",
       "    <tr>\n",
       "      <th>2</th>\n",
       "      <td>seccion_5_1</td>\n",
       "      <td>coeficientes</td>\n",
       "      <td>False</td>\n",
       "      <td>6.011951</td>\n",
       "      <td>[[0.013487521683155597, 0.07487148385623248, 6...</td>\n",
       "    </tr>\n",
       "    <tr>\n",
       "      <th>3</th>\n",
       "      <td>seccion_5_1</td>\n",
       "      <td>componentes principales</td>\n",
       "      <td>False</td>\n",
       "      <td>106185.377922</td>\n",
       "      <td>[[2176.547143604811], [1185.3528509361165], [1...</td>\n",
       "    </tr>\n",
       "  </tbody>\n",
       "</table>\n",
       "</div>"
      ],
      "text/plain": [
       "       Seccion                 elemento  Igualdad (en valor absoluto)  \\\n",
       "0  seccion_5_1       varianza explicada                         False   \n",
       "1  seccion_5_1       valores singulares                         False   \n",
       "2  seccion_5_1             coeficientes                         False   \n",
       "3  seccion_5_1  componentes principales                         False   \n",
       "\n",
       "   Max error relativo (con valor absoluto)  \\\n",
       "0                                 0.000068   \n",
       "1                                 0.000034   \n",
       "2                                 6.011951   \n",
       "3                            106185.377922   \n",
       "\n",
       "                 Error relativo (con valor absoluto)  \n",
       "0                            [6.779697210380624e-05]  \n",
       "1                            [3.389791155141556e-05]  \n",
       "2  [[0.013487521683155597, 0.07487148385623248, 6...  \n",
       "3  [[2176.547143604811], [1185.3528509361165], [1...  "
      ]
     },
     "execution_count": 84,
     "metadata": {},
     "output_type": "execute_result"
    }
   ],
   "source": [
    "df_seccion_5_1_jac = comparaModelos.compara_resultados_abs_sk_jac(seccion_5_1)\n",
    "df_seccion_5_1_jac.insert(0, \"Seccion\", np.repeat(\"seccion_5_1\",4), True) \n",
    "df_seccion_5_1_jac"
   ]
  },
  {
   "cell_type": "markdown",
   "metadata": {},
   "source": [
    "### Scikit learn vs PCA a partir del algoritmo QR"
   ]
  },
  {
   "cell_type": "code",
   "execution_count": 85,
   "metadata": {},
   "outputs": [
    {
     "data": {
      "text/html": [
       "<div>\n",
       "<style scoped>\n",
       "    .dataframe tbody tr th:only-of-type {\n",
       "        vertical-align: middle;\n",
       "    }\n",
       "\n",
       "    .dataframe tbody tr th {\n",
       "        vertical-align: top;\n",
       "    }\n",
       "\n",
       "    .dataframe thead th {\n",
       "        text-align: right;\n",
       "    }\n",
       "</style>\n",
       "<table border=\"1\" class=\"dataframe\">\n",
       "  <thead>\n",
       "    <tr style=\"text-align: right;\">\n",
       "      <th></th>\n",
       "      <th>Seccion</th>\n",
       "      <th>elemento</th>\n",
       "      <th>Igualdad (en valor absoluto)</th>\n",
       "      <th>Max error relativo (con valor absoluto)</th>\n",
       "      <th>Error relativo (con valor absoluto)</th>\n",
       "    </tr>\n",
       "  </thead>\n",
       "  <tbody>\n",
       "    <tr>\n",
       "      <th>0</th>\n",
       "      <td>seccion_5_1</td>\n",
       "      <td>varianza explicada</td>\n",
       "      <td>True</td>\n",
       "      <td>7.026933e-14</td>\n",
       "      <td>[7.026932506165296e-14]</td>\n",
       "    </tr>\n",
       "    <tr>\n",
       "      <th>1</th>\n",
       "      <td>seccion_5_1</td>\n",
       "      <td>eigenvalores</td>\n",
       "      <td>True</td>\n",
       "      <td>1.384585e-13</td>\n",
       "      <td>[1.3845854997846134e-13]</td>\n",
       "    </tr>\n",
       "    <tr>\n",
       "      <th>2</th>\n",
       "      <td>seccion_5_1</td>\n",
       "      <td>coeficientes</td>\n",
       "      <td>True</td>\n",
       "      <td>2.924084e-13</td>\n",
       "      <td>[[2.9240838097875275e-13, 3.002608367843295e-1...</td>\n",
       "    </tr>\n",
       "    <tr>\n",
       "      <th>3</th>\n",
       "      <td>seccion_5_1</td>\n",
       "      <td>componentes principales</td>\n",
       "      <td>True</td>\n",
       "      <td>1.086433e-10</td>\n",
       "      <td>[[1.086432785018871e-10], [1.3621290702737174e...</td>\n",
       "    </tr>\n",
       "  </tbody>\n",
       "</table>\n",
       "</div>"
      ],
      "text/plain": [
       "       Seccion                 elemento  Igualdad (en valor absoluto)  \\\n",
       "0  seccion_5_1       varianza explicada                          True   \n",
       "1  seccion_5_1             eigenvalores                          True   \n",
       "2  seccion_5_1             coeficientes                          True   \n",
       "3  seccion_5_1  componentes principales                          True   \n",
       "\n",
       "   Max error relativo (con valor absoluto)  \\\n",
       "0                             7.026933e-14   \n",
       "1                             1.384585e-13   \n",
       "2                             2.924084e-13   \n",
       "3                             1.086433e-10   \n",
       "\n",
       "                 Error relativo (con valor absoluto)  \n",
       "0                            [7.026932506165296e-14]  \n",
       "1                           [1.3845854997846134e-13]  \n",
       "2  [[2.9240838097875275e-13, 3.002608367843295e-1...  \n",
       "3  [[1.086432785018871e-10], [1.3621290702737174e...  "
      ]
     },
     "execution_count": 85,
     "metadata": {},
     "output_type": "execute_result"
    }
   ],
   "source": [
    "df_seccion_5_1_qr = comparaModelos.compara_resultados_abs_sk_qr(seccion_5_1)\n",
    "df_seccion_5_1_qr.insert(0, \"Seccion\", np.repeat(\"seccion_5_1\",4), True) \n",
    "df_seccion_5_1_qr"
   ]
  },
  {
   "cell_type": "markdown",
   "metadata": {},
   "source": [
    "## 5.2. Con qué frecuencia realizas las siguientes actividades en la computadora"
   ]
  },
  {
   "cell_type": "code",
   "execution_count": 86,
   "metadata": {},
   "outputs": [],
   "source": [
    "np.random.seed(150) ###Se define la semilla para la reproducibilidad de los resultados\n",
    "\n",
    "seccion_5_2 = df.loc[:, ['p61', 'p62', 'p63', 'p64']] ###Se seleccionan las preguntas que conforman esta sección"
   ]
  },
  {
   "cell_type": "code",
   "execution_count": 87,
   "metadata": {},
   "outputs": [],
   "source": [
    "####Se escalan los datos.\n",
    "scaler = preprocessing.StandardScaler()\n",
    "\n",
    "seccion_5_2 = pd.DataFrame(scaler.fit_transform(seccion_5_2))"
   ]
  },
  {
   "cell_type": "code",
   "execution_count": 88,
   "metadata": {},
   "outputs": [
    {
     "data": {
      "text/html": [
       "<div>\n",
       "<style scoped>\n",
       "    .dataframe tbody tr th:only-of-type {\n",
       "        vertical-align: middle;\n",
       "    }\n",
       "\n",
       "    .dataframe tbody tr th {\n",
       "        vertical-align: top;\n",
       "    }\n",
       "\n",
       "    .dataframe thead th {\n",
       "        text-align: right;\n",
       "    }\n",
       "</style>\n",
       "<table border=\"1\" class=\"dataframe\">\n",
       "  <thead>\n",
       "    <tr style=\"text-align: right;\">\n",
       "      <th></th>\n",
       "      <th>Seccion</th>\n",
       "      <th>elemento</th>\n",
       "      <th>Igualdad (en valor absoluto)</th>\n",
       "      <th>Max error relativo (con valor absoluto)</th>\n",
       "      <th>Error relativo (con valor absoluto)</th>\n",
       "    </tr>\n",
       "  </thead>\n",
       "  <tbody>\n",
       "    <tr>\n",
       "      <th>0</th>\n",
       "      <td>seccion_5_2</td>\n",
       "      <td>varianza explicada</td>\n",
       "      <td>True</td>\n",
       "      <td>1.873993e-16</td>\n",
       "      <td>[1.873992524757673e-16, 0.0]</td>\n",
       "    </tr>\n",
       "    <tr>\n",
       "      <th>1</th>\n",
       "      <td>seccion_5_2</td>\n",
       "      <td>valores singulares</td>\n",
       "      <td>True</td>\n",
       "      <td>0.000000e+00</td>\n",
       "      <td>[0.0, 0.0]</td>\n",
       "    </tr>\n",
       "    <tr>\n",
       "      <th>2</th>\n",
       "      <td>seccion_5_2</td>\n",
       "      <td>coeficientes</td>\n",
       "      <td>True</td>\n",
       "      <td>0.000000e+00</td>\n",
       "      <td>[[0.0, 0.0, 0.0, 0.0], [0.0, 0.0, 0.0, 0.0]]</td>\n",
       "    </tr>\n",
       "    <tr>\n",
       "      <th>3</th>\n",
       "      <td>seccion_5_2</td>\n",
       "      <td>componentes principales</td>\n",
       "      <td>True</td>\n",
       "      <td>1.499040e-09</td>\n",
       "      <td>[[6.788500778143712e-11, 5.432152614613707e-12...</td>\n",
       "    </tr>\n",
       "  </tbody>\n",
       "</table>\n",
       "</div>"
      ],
      "text/plain": [
       "       Seccion                 elemento  Igualdad (en valor absoluto)  \\\n",
       "0  seccion_5_2       varianza explicada                          True   \n",
       "1  seccion_5_2       valores singulares                          True   \n",
       "2  seccion_5_2             coeficientes                          True   \n",
       "3  seccion_5_2  componentes principales                          True   \n",
       "\n",
       "   Max error relativo (con valor absoluto)  \\\n",
       "0                             1.873993e-16   \n",
       "1                             0.000000e+00   \n",
       "2                             0.000000e+00   \n",
       "3                             1.499040e-09   \n",
       "\n",
       "                 Error relativo (con valor absoluto)  \n",
       "0                       [1.873992524757673e-16, 0.0]  \n",
       "1                                         [0.0, 0.0]  \n",
       "2       [[0.0, 0.0, 0.0, 0.0], [0.0, 0.0, 0.0, 0.0]]  \n",
       "3  [[6.788500778143712e-11, 5.432152614613707e-12...  "
      ]
     },
     "execution_count": 88,
     "metadata": {},
     "output_type": "execute_result"
    }
   ],
   "source": [
    "df_seccion_5_2 = comparaModelos.compara_resultados_abs_sk_np(seccion_5_2)\n",
    "df_seccion_5_2.insert(0, \"Seccion\", np.repeat(\"seccion_5_2\",4), True) \n",
    "df_seccion_5_2"
   ]
  },
  {
   "cell_type": "markdown",
   "metadata": {},
   "source": [
    "### Scikit learn vs PCA a partir de SVD aproximada mediante Jacobi-one sided"
   ]
  },
  {
   "cell_type": "code",
   "execution_count": 89,
   "metadata": {},
   "outputs": [
    {
     "data": {
      "text/html": [
       "<div>\n",
       "<style scoped>\n",
       "    .dataframe tbody tr th:only-of-type {\n",
       "        vertical-align: middle;\n",
       "    }\n",
       "\n",
       "    .dataframe tbody tr th {\n",
       "        vertical-align: top;\n",
       "    }\n",
       "\n",
       "    .dataframe thead th {\n",
       "        text-align: right;\n",
       "    }\n",
       "</style>\n",
       "<table border=\"1\" class=\"dataframe\">\n",
       "  <thead>\n",
       "    <tr style=\"text-align: right;\">\n",
       "      <th></th>\n",
       "      <th>Seccion</th>\n",
       "      <th>elemento</th>\n",
       "      <th>Igualdad (en valor absoluto)</th>\n",
       "      <th>Max error relativo (con valor absoluto)</th>\n",
       "      <th>Error relativo (con valor absoluto)</th>\n",
       "    </tr>\n",
       "  </thead>\n",
       "  <tbody>\n",
       "    <tr>\n",
       "      <th>0</th>\n",
       "      <td>seccion_5_2</td>\n",
       "      <td>varianza explicada</td>\n",
       "      <td>False</td>\n",
       "      <td>0.004216</td>\n",
       "      <td>[0.00421576487797782, 0.003283532492182103]</td>\n",
       "    </tr>\n",
       "    <tr>\n",
       "      <th>1</th>\n",
       "      <td>seccion_5_2</td>\n",
       "      <td>valores singulares</td>\n",
       "      <td>False</td>\n",
       "      <td>0.002106</td>\n",
       "      <td>[0.0021056655253422533, 0.001643116161445561]</td>\n",
       "    </tr>\n",
       "    <tr>\n",
       "      <th>2</th>\n",
       "      <td>seccion_5_2</td>\n",
       "      <td>coeficientes</td>\n",
       "      <td>False</td>\n",
       "      <td>2.427195</td>\n",
       "      <td>[[0.12214631300002518, 0.2137900143185933, 0.1...</td>\n",
       "    </tr>\n",
       "    <tr>\n",
       "      <th>3</th>\n",
       "      <td>seccion_5_2</td>\n",
       "      <td>componentes principales</td>\n",
       "      <td>False</td>\n",
       "      <td>337488.585576</td>\n",
       "      <td>[[3516.789333221952, 757.0460589487742], [3877...</td>\n",
       "    </tr>\n",
       "  </tbody>\n",
       "</table>\n",
       "</div>"
      ],
      "text/plain": [
       "       Seccion                 elemento  Igualdad (en valor absoluto)  \\\n",
       "0  seccion_5_2       varianza explicada                         False   \n",
       "1  seccion_5_2       valores singulares                         False   \n",
       "2  seccion_5_2             coeficientes                         False   \n",
       "3  seccion_5_2  componentes principales                         False   \n",
       "\n",
       "   Max error relativo (con valor absoluto)  \\\n",
       "0                                 0.004216   \n",
       "1                                 0.002106   \n",
       "2                                 2.427195   \n",
       "3                            337488.585576   \n",
       "\n",
       "                 Error relativo (con valor absoluto)  \n",
       "0        [0.00421576487797782, 0.003283532492182103]  \n",
       "1      [0.0021056655253422533, 0.001643116161445561]  \n",
       "2  [[0.12214631300002518, 0.2137900143185933, 0.1...  \n",
       "3  [[3516.789333221952, 757.0460589487742], [3877...  "
      ]
     },
     "execution_count": 89,
     "metadata": {},
     "output_type": "execute_result"
    }
   ],
   "source": [
    "df_seccion_5_2_jac = comparaModelos.compara_resultados_abs_sk_jac(seccion_5_2)\n",
    "df_seccion_5_2_jac.insert(0, \"Seccion\", np.repeat(\"seccion_5_2\",4), True) \n",
    "df_seccion_5_2_jac"
   ]
  },
  {
   "cell_type": "markdown",
   "metadata": {},
   "source": [
    "### Scikit learn vs PCA a partir del algoritmo QR"
   ]
  },
  {
   "cell_type": "code",
   "execution_count": 90,
   "metadata": {},
   "outputs": [
    {
     "data": {
      "text/html": [
       "<div>\n",
       "<style scoped>\n",
       "    .dataframe tbody tr th:only-of-type {\n",
       "        vertical-align: middle;\n",
       "    }\n",
       "\n",
       "    .dataframe tbody tr th {\n",
       "        vertical-align: top;\n",
       "    }\n",
       "\n",
       "    .dataframe thead th {\n",
       "        text-align: right;\n",
       "    }\n",
       "</style>\n",
       "<table border=\"1\" class=\"dataframe\">\n",
       "  <thead>\n",
       "    <tr style=\"text-align: right;\">\n",
       "      <th></th>\n",
       "      <th>Seccion</th>\n",
       "      <th>elemento</th>\n",
       "      <th>Igualdad (en valor absoluto)</th>\n",
       "      <th>Max error relativo (con valor absoluto)</th>\n",
       "      <th>Error relativo (con valor absoluto)</th>\n",
       "    </tr>\n",
       "  </thead>\n",
       "  <tbody>\n",
       "    <tr>\n",
       "      <th>0</th>\n",
       "      <td>seccion_5_2</td>\n",
       "      <td>varianza explicada</td>\n",
       "      <td>True</td>\n",
       "      <td>7.398868e-14</td>\n",
       "      <td>[8.058167856458061e-15, 7.398868441239215e-14]</td>\n",
       "    </tr>\n",
       "    <tr>\n",
       "      <th>1</th>\n",
       "      <td>seccion_5_2</td>\n",
       "      <td>eigenvalores</td>\n",
       "      <td>True</td>\n",
       "      <td>6.158501e-14</td>\n",
       "      <td>[2.0426482084662247e-14, 6.158501343219229e-14]</td>\n",
       "    </tr>\n",
       "    <tr>\n",
       "      <th>2</th>\n",
       "      <td>seccion_5_2</td>\n",
       "      <td>coeficientes</td>\n",
       "      <td>True</td>\n",
       "      <td>2.069570e-12</td>\n",
       "      <td>[[5.488142467074827e-14, 9.080326838272184e-14...</td>\n",
       "    </tr>\n",
       "    <tr>\n",
       "      <th>3</th>\n",
       "      <td>seccion_5_2</td>\n",
       "      <td>componentes principales</td>\n",
       "      <td>True</td>\n",
       "      <td>9.057784e-10</td>\n",
       "      <td>[[6.780675230636451e-11, 5.478113032138733e-12...</td>\n",
       "    </tr>\n",
       "  </tbody>\n",
       "</table>\n",
       "</div>"
      ],
      "text/plain": [
       "       Seccion                 elemento  Igualdad (en valor absoluto)  \\\n",
       "0  seccion_5_2       varianza explicada                          True   \n",
       "1  seccion_5_2             eigenvalores                          True   \n",
       "2  seccion_5_2             coeficientes                          True   \n",
       "3  seccion_5_2  componentes principales                          True   \n",
       "\n",
       "   Max error relativo (con valor absoluto)  \\\n",
       "0                             7.398868e-14   \n",
       "1                             6.158501e-14   \n",
       "2                             2.069570e-12   \n",
       "3                             9.057784e-10   \n",
       "\n",
       "                 Error relativo (con valor absoluto)  \n",
       "0     [8.058167856458061e-15, 7.398868441239215e-14]  \n",
       "1    [2.0426482084662247e-14, 6.158501343219229e-14]  \n",
       "2  [[5.488142467074827e-14, 9.080326838272184e-14...  \n",
       "3  [[6.780675230636451e-11, 5.478113032138733e-12...  "
      ]
     },
     "execution_count": 90,
     "metadata": {},
     "output_type": "execute_result"
    }
   ],
   "source": [
    "df_seccion_5_2_qr = comparaModelos.compara_resultados_abs_sk_qr(seccion_5_2)\n",
    "df_seccion_5_2_qr.insert(0, \"Seccion\", np.repeat(\"seccion_5_2\",4), True) \n",
    "df_seccion_5_2_qr"
   ]
  },
  {
   "cell_type": "markdown",
   "metadata": {},
   "source": [
    "# Sección 6. Actividades deportivas y culturales"
   ]
  },
  {
   "cell_type": "code",
   "execution_count": 91,
   "metadata": {},
   "outputs": [],
   "source": [
    "seccion_6 = df.loc[:, ['p65', 'p66']] ###Se seleccionan las preguntas que conforman esta sección"
   ]
  },
  {
   "cell_type": "code",
   "execution_count": 92,
   "metadata": {},
   "outputs": [],
   "source": [
    "####Se escalan los datos.\n",
    "scaler = preprocessing.StandardScaler()\n",
    "\n",
    "seccion_6 = pd.DataFrame(scaler.fit_transform(seccion_6))"
   ]
  },
  {
   "cell_type": "markdown",
   "metadata": {},
   "source": [
    "### Scikit learn vs PCA a partir de SVD de numpy"
   ]
  },
  {
   "cell_type": "code",
   "execution_count": 93,
   "metadata": {},
   "outputs": [
    {
     "data": {
      "text/html": [
       "<div>\n",
       "<style scoped>\n",
       "    .dataframe tbody tr th:only-of-type {\n",
       "        vertical-align: middle;\n",
       "    }\n",
       "\n",
       "    .dataframe tbody tr th {\n",
       "        vertical-align: top;\n",
       "    }\n",
       "\n",
       "    .dataframe thead th {\n",
       "        text-align: right;\n",
       "    }\n",
       "</style>\n",
       "<table border=\"1\" class=\"dataframe\">\n",
       "  <thead>\n",
       "    <tr style=\"text-align: right;\">\n",
       "      <th></th>\n",
       "      <th>Seccion</th>\n",
       "      <th>elemento</th>\n",
       "      <th>Igualdad (en valor absoluto)</th>\n",
       "      <th>Max error relativo (con valor absoluto)</th>\n",
       "      <th>Error relativo (con valor absoluto)</th>\n",
       "    </tr>\n",
       "  </thead>\n",
       "  <tbody>\n",
       "    <tr>\n",
       "      <th>0</th>\n",
       "      <td>seccion_6</td>\n",
       "      <td>varianza explicada</td>\n",
       "      <td>True</td>\n",
       "      <td>1.311963e-16</td>\n",
       "      <td>[0.0, 1.3119626812763805e-16]</td>\n",
       "    </tr>\n",
       "    <tr>\n",
       "      <th>1</th>\n",
       "      <td>seccion_6</td>\n",
       "      <td>valores singulares</td>\n",
       "      <td>True</td>\n",
       "      <td>0.000000e+00</td>\n",
       "      <td>[0.0, 0.0]</td>\n",
       "    </tr>\n",
       "    <tr>\n",
       "      <th>2</th>\n",
       "      <td>seccion_6</td>\n",
       "      <td>coeficientes</td>\n",
       "      <td>True</td>\n",
       "      <td>0.000000e+00</td>\n",
       "      <td>[[0.0, 0.0], [0.0, 0.0]]</td>\n",
       "    </tr>\n",
       "    <tr>\n",
       "      <th>3</th>\n",
       "      <td>seccion_6</td>\n",
       "      <td>componentes principales</td>\n",
       "      <td>True</td>\n",
       "      <td>1.080050e-12</td>\n",
       "      <td>[[5.192048991001361e-13, 1.0800503623567881e-1...</td>\n",
       "    </tr>\n",
       "  </tbody>\n",
       "</table>\n",
       "</div>"
      ],
      "text/plain": [
       "     Seccion                 elemento  Igualdad (en valor absoluto)  \\\n",
       "0  seccion_6       varianza explicada                          True   \n",
       "1  seccion_6       valores singulares                          True   \n",
       "2  seccion_6             coeficientes                          True   \n",
       "3  seccion_6  componentes principales                          True   \n",
       "\n",
       "   Max error relativo (con valor absoluto)  \\\n",
       "0                             1.311963e-16   \n",
       "1                             0.000000e+00   \n",
       "2                             0.000000e+00   \n",
       "3                             1.080050e-12   \n",
       "\n",
       "                 Error relativo (con valor absoluto)  \n",
       "0                      [0.0, 1.3119626812763805e-16]  \n",
       "1                                         [0.0, 0.0]  \n",
       "2                           [[0.0, 0.0], [0.0, 0.0]]  \n",
       "3  [[5.192048991001361e-13, 1.0800503623567881e-1...  "
      ]
     },
     "execution_count": 93,
     "metadata": {},
     "output_type": "execute_result"
    }
   ],
   "source": [
    "df_seccion_6 = comparaModelos.compara_resultados_abs_sk_np(seccion_6)\n",
    "df_seccion_6.insert(0, \"Seccion\", np.repeat(\"seccion_6\",4), True) \n",
    "df_seccion_6"
   ]
  },
  {
   "cell_type": "markdown",
   "metadata": {},
   "source": [
    "### Scikit learn vs PCA a partir de SVD aproximada mediante Jacobi-one sided"
   ]
  },
  {
   "cell_type": "code",
   "execution_count": 94,
   "metadata": {
    "scrolled": true
   },
   "outputs": [
    {
     "data": {
      "text/html": [
       "<div>\n",
       "<style scoped>\n",
       "    .dataframe tbody tr th:only-of-type {\n",
       "        vertical-align: middle;\n",
       "    }\n",
       "\n",
       "    .dataframe tbody tr th {\n",
       "        vertical-align: top;\n",
       "    }\n",
       "\n",
       "    .dataframe thead th {\n",
       "        text-align: right;\n",
       "    }\n",
       "</style>\n",
       "<table border=\"1\" class=\"dataframe\">\n",
       "  <thead>\n",
       "    <tr style=\"text-align: right;\">\n",
       "      <th></th>\n",
       "      <th>Seccion</th>\n",
       "      <th>elemento</th>\n",
       "      <th>Igualdad (en valor absoluto)</th>\n",
       "      <th>Max error relativo (con valor absoluto)</th>\n",
       "      <th>Error relativo (con valor absoluto)</th>\n",
       "    </tr>\n",
       "  </thead>\n",
       "  <tbody>\n",
       "    <tr>\n",
       "      <th>0</th>\n",
       "      <td>seccion_6</td>\n",
       "      <td>varianza explicada</td>\n",
       "      <td>True</td>\n",
       "      <td>1.705551e-15</td>\n",
       "      <td>[1.1547088008302923e-15, 1.7055514856592915e-15]</td>\n",
       "    </tr>\n",
       "    <tr>\n",
       "      <th>1</th>\n",
       "      <td>seccion_6</td>\n",
       "      <td>valores singulares</td>\n",
       "      <td>True</td>\n",
       "      <td>4.947458e-15</td>\n",
       "      <td>[4.947457968221809e-15, 3.466159070087135e-15]</td>\n",
       "    </tr>\n",
       "    <tr>\n",
       "      <th>2</th>\n",
       "      <td>seccion_6</td>\n",
       "      <td>coeficientes</td>\n",
       "      <td>True</td>\n",
       "      <td>8.635509e-15</td>\n",
       "      <td>[[8.635508522760138e-15, 8.478499276892998e-15...</td>\n",
       "    </tr>\n",
       "    <tr>\n",
       "      <th>3</th>\n",
       "      <td>seccion_6</td>\n",
       "      <td>componentes principales</td>\n",
       "      <td>False</td>\n",
       "      <td>4.853796e+04</td>\n",
       "      <td>[[761.0656750587331, 944.3492894702955], [86.4...</td>\n",
       "    </tr>\n",
       "  </tbody>\n",
       "</table>\n",
       "</div>"
      ],
      "text/plain": [
       "     Seccion                 elemento  Igualdad (en valor absoluto)  \\\n",
       "0  seccion_6       varianza explicada                          True   \n",
       "1  seccion_6       valores singulares                          True   \n",
       "2  seccion_6             coeficientes                          True   \n",
       "3  seccion_6  componentes principales                         False   \n",
       "\n",
       "   Max error relativo (con valor absoluto)  \\\n",
       "0                             1.705551e-15   \n",
       "1                             4.947458e-15   \n",
       "2                             8.635509e-15   \n",
       "3                             4.853796e+04   \n",
       "\n",
       "                 Error relativo (con valor absoluto)  \n",
       "0   [1.1547088008302923e-15, 1.7055514856592915e-15]  \n",
       "1     [4.947457968221809e-15, 3.466159070087135e-15]  \n",
       "2  [[8.635508522760138e-15, 8.478499276892998e-15...  \n",
       "3  [[761.0656750587331, 944.3492894702955], [86.4...  "
      ]
     },
     "execution_count": 94,
     "metadata": {},
     "output_type": "execute_result"
    }
   ],
   "source": [
    "df_seccion_6_jac = comparaModelos.compara_resultados_abs_sk_jac(seccion_6)\n",
    "df_seccion_6_jac.insert(0, \"Seccion\", np.repeat(\"seccion_6\",4), True) \n",
    "df_seccion_6_jac"
   ]
  },
  {
   "cell_type": "code",
   "execution_count": 95,
   "metadata": {},
   "outputs": [
    {
     "data": {
      "text/plain": [
       "1.1676565663790537"
      ]
     },
     "execution_count": 95,
     "metadata": {},
     "output_type": "execute_result"
    }
   ],
   "source": [
    "np.linalg.cond(seccion_6)"
   ]
  },
  {
   "cell_type": "markdown",
   "metadata": {},
   "source": [
    "### Scikit learn vs PCA a partir del algoritmo QR"
   ]
  },
  {
   "cell_type": "code",
   "execution_count": 96,
   "metadata": {},
   "outputs": [
    {
     "name": "stdout",
     "output_type": "stream",
     "text": [
      "se alcanzo la tolerancia deseada\n"
     ]
    },
    {
     "data": {
      "text/html": [
       "<div>\n",
       "<style scoped>\n",
       "    .dataframe tbody tr th:only-of-type {\n",
       "        vertical-align: middle;\n",
       "    }\n",
       "\n",
       "    .dataframe tbody tr th {\n",
       "        vertical-align: top;\n",
       "    }\n",
       "\n",
       "    .dataframe thead th {\n",
       "        text-align: right;\n",
       "    }\n",
       "</style>\n",
       "<table border=\"1\" class=\"dataframe\">\n",
       "  <thead>\n",
       "    <tr style=\"text-align: right;\">\n",
       "      <th></th>\n",
       "      <th>Seccion</th>\n",
       "      <th>elemento</th>\n",
       "      <th>Igualdad (en valor absoluto)</th>\n",
       "      <th>Max error relativo (con valor absoluto)</th>\n",
       "      <th>Error relativo (con valor absoluto)</th>\n",
       "    </tr>\n",
       "  </thead>\n",
       "  <tbody>\n",
       "    <tr>\n",
       "      <th>0</th>\n",
       "      <td>seccion_6</td>\n",
       "      <td>varianza explicada</td>\n",
       "      <td>True</td>\n",
       "      <td>1.574355e-15</td>\n",
       "      <td>[1.1547088008302923e-15, 1.574355217531654e-15]</td>\n",
       "    </tr>\n",
       "    <tr>\n",
       "      <th>1</th>\n",
       "      <td>seccion_6</td>\n",
       "      <td>eigenvalores</td>\n",
       "      <td>True</td>\n",
       "      <td>9.815007e-15</td>\n",
       "      <td>[9.815007299798092e-15, 7.08458584195003e-15]</td>\n",
       "    </tr>\n",
       "    <tr>\n",
       "      <th>2</th>\n",
       "      <td>seccion_6</td>\n",
       "      <td>coeficientes</td>\n",
       "      <td>True</td>\n",
       "      <td>1.139759e-08</td>\n",
       "      <td>[[1.1397585057405627e-08, 1.1397583747124481e-...</td>\n",
       "    </tr>\n",
       "    <tr>\n",
       "      <th>3</th>\n",
       "      <td>seccion_6</td>\n",
       "      <td>componentes principales</td>\n",
       "      <td>True</td>\n",
       "      <td>1.016404e-06</td>\n",
       "      <td>[[4.807996512030944e-09, 2.7022518785506908e-0...</td>\n",
       "    </tr>\n",
       "  </tbody>\n",
       "</table>\n",
       "</div>"
      ],
      "text/plain": [
       "     Seccion                 elemento  Igualdad (en valor absoluto)  \\\n",
       "0  seccion_6       varianza explicada                          True   \n",
       "1  seccion_6             eigenvalores                          True   \n",
       "2  seccion_6             coeficientes                          True   \n",
       "3  seccion_6  componentes principales                          True   \n",
       "\n",
       "   Max error relativo (con valor absoluto)  \\\n",
       "0                             1.574355e-15   \n",
       "1                             9.815007e-15   \n",
       "2                             1.139759e-08   \n",
       "3                             1.016404e-06   \n",
       "\n",
       "                 Error relativo (con valor absoluto)  \n",
       "0    [1.1547088008302923e-15, 1.574355217531654e-15]  \n",
       "1      [9.815007299798092e-15, 7.08458584195003e-15]  \n",
       "2  [[1.1397585057405627e-08, 1.1397583747124481e-...  \n",
       "3  [[4.807996512030944e-09, 2.7022518785506908e-0...  "
      ]
     },
     "execution_count": 96,
     "metadata": {},
     "output_type": "execute_result"
    }
   ],
   "source": [
    "df_seccion_6_qr = comparaModelos.compara_resultados_abs_sk_qr(seccion_6)\n",
    "df_seccion_6_qr.insert(0, \"Seccion\", np.repeat(\"seccion_6\",4), True) \n",
    "df_seccion_6_qr"
   ]
  },
  {
   "cell_type": "markdown",
   "metadata": {},
   "source": [
    "# Sección 7. Trayectoria académica"
   ]
  },
  {
   "cell_type": "markdown",
   "metadata": {},
   "source": [
    "## 7.1. Primaria y secundaria"
   ]
  },
  {
   "cell_type": "code",
   "execution_count": 97,
   "metadata": {},
   "outputs": [],
   "source": [
    "seccion_7_1 = df.loc[:, ['p67_A','p67_B', 'p67_C', 'p67_D', 'p67_E', 'p68', 'p69', 'p70_A', 'p70_B',\n",
    "                         'p70_C', 'p70_D', 'p70_E', 'p70_F', 'p70_G','p70_H', 'p71']] ###Se seleccionan las preguntas que conforman esta sección"
   ]
  },
  {
   "cell_type": "code",
   "execution_count": 98,
   "metadata": {},
   "outputs": [],
   "source": [
    "####Se escalan los datos.\n",
    "scaler = preprocessing.StandardScaler()\n",
    "\n",
    "seccion_7_1 = pd.DataFrame(scaler.fit_transform(seccion_7_1))"
   ]
  },
  {
   "cell_type": "markdown",
   "metadata": {},
   "source": [
    "### Scikit learn vs PCA a partir de SVD de numpy"
   ]
  },
  {
   "cell_type": "code",
   "execution_count": 99,
   "metadata": {},
   "outputs": [
    {
     "data": {
      "text/html": [
       "<div>\n",
       "<style scoped>\n",
       "    .dataframe tbody tr th:only-of-type {\n",
       "        vertical-align: middle;\n",
       "    }\n",
       "\n",
       "    .dataframe tbody tr th {\n",
       "        vertical-align: top;\n",
       "    }\n",
       "\n",
       "    .dataframe thead th {\n",
       "        text-align: right;\n",
       "    }\n",
       "</style>\n",
       "<table border=\"1\" class=\"dataframe\">\n",
       "  <thead>\n",
       "    <tr style=\"text-align: right;\">\n",
       "      <th></th>\n",
       "      <th>Seccion</th>\n",
       "      <th>elemento</th>\n",
       "      <th>Igualdad (en valor absoluto)</th>\n",
       "      <th>Max error relativo (con valor absoluto)</th>\n",
       "      <th>Error relativo (con valor absoluto)</th>\n",
       "    </tr>\n",
       "  </thead>\n",
       "  <tbody>\n",
       "    <tr>\n",
       "      <th>0</th>\n",
       "      <td>seccion_7_1</td>\n",
       "      <td>varianza explicada</td>\n",
       "      <td>True</td>\n",
       "      <td>2.201664e-16</td>\n",
       "      <td>[0.0, 1.1251842512572906e-16, 1.42763830014617...</td>\n",
       "    </tr>\n",
       "    <tr>\n",
       "      <th>1</th>\n",
       "      <td>seccion_7_1</td>\n",
       "      <td>valores singulares</td>\n",
       "      <td>True</td>\n",
       "      <td>0.000000e+00</td>\n",
       "      <td>[0.0, 0.0, 0.0, 0.0, 0.0, 0.0, 0.0]</td>\n",
       "    </tr>\n",
       "    <tr>\n",
       "      <th>2</th>\n",
       "      <td>seccion_7_1</td>\n",
       "      <td>coeficientes</td>\n",
       "      <td>True</td>\n",
       "      <td>0.000000e+00</td>\n",
       "      <td>[[0.0, 0.0, 0.0, 0.0, 0.0, 0.0, 0.0, 0.0, 0.0,...</td>\n",
       "    </tr>\n",
       "    <tr>\n",
       "      <th>3</th>\n",
       "      <td>seccion_7_1</td>\n",
       "      <td>componentes principales</td>\n",
       "      <td>True</td>\n",
       "      <td>1.700735e-09</td>\n",
       "      <td>[[8.415655220333915e-11, 6.328821898554283e-11...</td>\n",
       "    </tr>\n",
       "  </tbody>\n",
       "</table>\n",
       "</div>"
      ],
      "text/plain": [
       "       Seccion                 elemento  Igualdad (en valor absoluto)  \\\n",
       "0  seccion_7_1       varianza explicada                          True   \n",
       "1  seccion_7_1       valores singulares                          True   \n",
       "2  seccion_7_1             coeficientes                          True   \n",
       "3  seccion_7_1  componentes principales                          True   \n",
       "\n",
       "   Max error relativo (con valor absoluto)  \\\n",
       "0                             2.201664e-16   \n",
       "1                             0.000000e+00   \n",
       "2                             0.000000e+00   \n",
       "3                             1.700735e-09   \n",
       "\n",
       "                 Error relativo (con valor absoluto)  \n",
       "0  [0.0, 1.1251842512572906e-16, 1.42763830014617...  \n",
       "1                [0.0, 0.0, 0.0, 0.0, 0.0, 0.0, 0.0]  \n",
       "2  [[0.0, 0.0, 0.0, 0.0, 0.0, 0.0, 0.0, 0.0, 0.0,...  \n",
       "3  [[8.415655220333915e-11, 6.328821898554283e-11...  "
      ]
     },
     "execution_count": 99,
     "metadata": {},
     "output_type": "execute_result"
    }
   ],
   "source": [
    "df_seccion_7_1 = comparaModelos.compara_resultados_abs_sk_np(seccion_7_1)\n",
    "df_seccion_7_1.insert(0, \"Seccion\", np.repeat(\"seccion_7_1\",4), True) \n",
    "df_seccion_7_1"
   ]
  },
  {
   "cell_type": "markdown",
   "metadata": {},
   "source": [
    "### Scikit learn vs PCA a partir de SVD aproximada mediante Jacobi-one sided"
   ]
  },
  {
   "cell_type": "code",
   "execution_count": 100,
   "metadata": {},
   "outputs": [
    {
     "data": {
      "text/html": [
       "<div>\n",
       "<style scoped>\n",
       "    .dataframe tbody tr th:only-of-type {\n",
       "        vertical-align: middle;\n",
       "    }\n",
       "\n",
       "    .dataframe tbody tr th {\n",
       "        vertical-align: top;\n",
       "    }\n",
       "\n",
       "    .dataframe thead th {\n",
       "        text-align: right;\n",
       "    }\n",
       "</style>\n",
       "<table border=\"1\" class=\"dataframe\">\n",
       "  <thead>\n",
       "    <tr style=\"text-align: right;\">\n",
       "      <th></th>\n",
       "      <th>Seccion</th>\n",
       "      <th>elemento</th>\n",
       "      <th>Igualdad (en valor absoluto)</th>\n",
       "      <th>Max error relativo (con valor absoluto)</th>\n",
       "      <th>Error relativo (con valor absoluto)</th>\n",
       "    </tr>\n",
       "  </thead>\n",
       "  <tbody>\n",
       "    <tr>\n",
       "      <th>0</th>\n",
       "      <td>seccion_7_1</td>\n",
       "      <td>varianza explicada</td>\n",
       "      <td>False</td>\n",
       "      <td>2.170579e-01</td>\n",
       "      <td>[0.21705791325173573, 0.07273377742978161, 0.1...</td>\n",
       "    </tr>\n",
       "    <tr>\n",
       "      <th>1</th>\n",
       "      <td>seccion_7_1</td>\n",
       "      <td>valores singulares</td>\n",
       "      <td>False</td>\n",
       "      <td>1.032035e-01</td>\n",
       "      <td>[0.10320347771919386, 0.035728621517128425, 0....</td>\n",
       "    </tr>\n",
       "    <tr>\n",
       "      <th>2</th>\n",
       "      <td>seccion_7_1</td>\n",
       "      <td>coeficientes</td>\n",
       "      <td>False</td>\n",
       "      <td>6.989034e+01</td>\n",
       "      <td>[[0.05572941838065679, 0.23890575665922156, 0....</td>\n",
       "    </tr>\n",
       "    <tr>\n",
       "      <th>3</th>\n",
       "      <td>seccion_7_1</td>\n",
       "      <td>componentes principales</td>\n",
       "      <td>False</td>\n",
       "      <td>6.646681e+06</td>\n",
       "      <td>[[5278.56772669397, 2499.8443701227034, 29652....</td>\n",
       "    </tr>\n",
       "  </tbody>\n",
       "</table>\n",
       "</div>"
      ],
      "text/plain": [
       "       Seccion                 elemento  Igualdad (en valor absoluto)  \\\n",
       "0  seccion_7_1       varianza explicada                         False   \n",
       "1  seccion_7_1       valores singulares                         False   \n",
       "2  seccion_7_1             coeficientes                         False   \n",
       "3  seccion_7_1  componentes principales                         False   \n",
       "\n",
       "   Max error relativo (con valor absoluto)  \\\n",
       "0                             2.170579e-01   \n",
       "1                             1.032035e-01   \n",
       "2                             6.989034e+01   \n",
       "3                             6.646681e+06   \n",
       "\n",
       "                 Error relativo (con valor absoluto)  \n",
       "0  [0.21705791325173573, 0.07273377742978161, 0.1...  \n",
       "1  [0.10320347771919386, 0.035728621517128425, 0....  \n",
       "2  [[0.05572941838065679, 0.23890575665922156, 0....  \n",
       "3  [[5278.56772669397, 2499.8443701227034, 29652....  "
      ]
     },
     "execution_count": 100,
     "metadata": {},
     "output_type": "execute_result"
    }
   ],
   "source": [
    "df_seccion_7_1_jac = comparaModelos.compara_resultados_abs_sk_jac(seccion_7_1)\n",
    "df_seccion_7_1_jac.insert(0, \"Seccion\", np.repeat(\"seccion_7_1\",4), True) \n",
    "df_seccion_7_1_jac"
   ]
  },
  {
   "cell_type": "markdown",
   "metadata": {},
   "source": [
    "### Scikit learn vs PCA a partir del algoritmo QR"
   ]
  },
  {
   "cell_type": "code",
   "execution_count": 101,
   "metadata": {},
   "outputs": [
    {
     "data": {
      "text/html": [
       "<div>\n",
       "<style scoped>\n",
       "    .dataframe tbody tr th:only-of-type {\n",
       "        vertical-align: middle;\n",
       "    }\n",
       "\n",
       "    .dataframe tbody tr th {\n",
       "        vertical-align: top;\n",
       "    }\n",
       "\n",
       "    .dataframe thead th {\n",
       "        text-align: right;\n",
       "    }\n",
       "</style>\n",
       "<table border=\"1\" class=\"dataframe\">\n",
       "  <thead>\n",
       "    <tr style=\"text-align: right;\">\n",
       "      <th></th>\n",
       "      <th>Seccion</th>\n",
       "      <th>elemento</th>\n",
       "      <th>Igualdad (en valor absoluto)</th>\n",
       "      <th>Max error relativo (con valor absoluto)</th>\n",
       "      <th>Error relativo (con valor absoluto)</th>\n",
       "    </tr>\n",
       "  </thead>\n",
       "  <tbody>\n",
       "    <tr>\n",
       "      <th>0</th>\n",
       "      <td>seccion_7_1</td>\n",
       "      <td>varianza explicada</td>\n",
       "      <td>False</td>\n",
       "      <td>0.001526</td>\n",
       "      <td>[6.593987576421898e-14, 5.513402831160754e-15,...</td>\n",
       "    </tr>\n",
       "    <tr>\n",
       "      <th>1</th>\n",
       "      <td>seccion_7_1</td>\n",
       "      <td>eigenvalores</td>\n",
       "      <td>False</td>\n",
       "      <td>0.001526</td>\n",
       "      <td>[6.870259717438163e-14, 2.5879191617594965e-15...</td>\n",
       "    </tr>\n",
       "    <tr>\n",
       "      <th>2</th>\n",
       "      <td>seccion_7_1</td>\n",
       "      <td>coeficientes</td>\n",
       "      <td>False</td>\n",
       "      <td>92.114445</td>\n",
       "      <td>[[4.938881230546565e-10, 1.1860579865672855e-1...</td>\n",
       "    </tr>\n",
       "    <tr>\n",
       "      <th>3</th>\n",
       "      <td>seccion_7_1</td>\n",
       "      <td>componentes principales</td>\n",
       "      <td>False</td>\n",
       "      <td>597.978641</td>\n",
       "      <td>[[2.761215552029329e-10, 1.3308003747017288e-1...</td>\n",
       "    </tr>\n",
       "  </tbody>\n",
       "</table>\n",
       "</div>"
      ],
      "text/plain": [
       "       Seccion                 elemento  Igualdad (en valor absoluto)  \\\n",
       "0  seccion_7_1       varianza explicada                         False   \n",
       "1  seccion_7_1             eigenvalores                         False   \n",
       "2  seccion_7_1             coeficientes                         False   \n",
       "3  seccion_7_1  componentes principales                         False   \n",
       "\n",
       "   Max error relativo (con valor absoluto)  \\\n",
       "0                                 0.001526   \n",
       "1                                 0.001526   \n",
       "2                                92.114445   \n",
       "3                               597.978641   \n",
       "\n",
       "                 Error relativo (con valor absoluto)  \n",
       "0  [6.593987576421898e-14, 5.513402831160754e-15,...  \n",
       "1  [6.870259717438163e-14, 2.5879191617594965e-15...  \n",
       "2  [[4.938881230546565e-10, 1.1860579865672855e-1...  \n",
       "3  [[2.761215552029329e-10, 1.3308003747017288e-1...  "
      ]
     },
     "execution_count": 101,
     "metadata": {},
     "output_type": "execute_result"
    }
   ],
   "source": [
    "df_seccion_7_1_qr = comparaModelos.compara_resultados_abs_sk_qr(seccion_7_1)\n",
    "df_seccion_7_1_qr.insert(0, \"Seccion\", np.repeat(\"seccion_7_1\",4), True) \n",
    "df_seccion_7_1_qr"
   ]
  },
  {
   "cell_type": "code",
   "execution_count": 172,
   "metadata": {},
   "outputs": [
    {
     "data": {
      "text/plain": [
       "13.978669148832259"
      ]
     },
     "execution_count": 172,
     "metadata": {},
     "output_type": "execute_result"
    }
   ],
   "source": [
    "np.linalg.cond(seccion_7_1)"
   ]
  },
  {
   "cell_type": "markdown",
   "metadata": {},
   "source": [
    "## 7.2. Educación media superior (Bachillerato)"
   ]
  },
  {
   "cell_type": "code",
   "execution_count": 102,
   "metadata": {},
   "outputs": [],
   "source": [
    "np.random.seed(150) ###Se define la semilla para la reproducibilidad de los resultados\n",
    "\n",
    "seccion_7_2 = df.loc[:, ['p72', 'p73', 'p74_A','p74_B','p74_C','p74_D', 'p74_E', 'p74_F', 'p75', 'p76', 'p77', 'p78']] ###Se seleccionan las preguntas que conforman esta sección"
   ]
  },
  {
   "cell_type": "code",
   "execution_count": 103,
   "metadata": {},
   "outputs": [],
   "source": [
    "####Se escalan los datos.\n",
    "scaler = preprocessing.StandardScaler()\n",
    "\n",
    "seccion_7_2 = pd.DataFrame(scaler.fit_transform(seccion_7_2))"
   ]
  },
  {
   "cell_type": "markdown",
   "metadata": {},
   "source": [
    "### Scikit learn vs PCA a partir de SVD de numpy"
   ]
  },
  {
   "cell_type": "code",
   "execution_count": 104,
   "metadata": {},
   "outputs": [
    {
     "data": {
      "text/html": [
       "<div>\n",
       "<style scoped>\n",
       "    .dataframe tbody tr th:only-of-type {\n",
       "        vertical-align: middle;\n",
       "    }\n",
       "\n",
       "    .dataframe tbody tr th {\n",
       "        vertical-align: top;\n",
       "    }\n",
       "\n",
       "    .dataframe thead th {\n",
       "        text-align: right;\n",
       "    }\n",
       "</style>\n",
       "<table border=\"1\" class=\"dataframe\">\n",
       "  <thead>\n",
       "    <tr style=\"text-align: right;\">\n",
       "      <th></th>\n",
       "      <th>Seccion</th>\n",
       "      <th>elemento</th>\n",
       "      <th>Igualdad (en valor absoluto)</th>\n",
       "      <th>Max error relativo (con valor absoluto)</th>\n",
       "      <th>Error relativo (con valor absoluto)</th>\n",
       "    </tr>\n",
       "  </thead>\n",
       "  <tbody>\n",
       "    <tr>\n",
       "      <th>0</th>\n",
       "      <td>seccion_7_2</td>\n",
       "      <td>varianza explicada</td>\n",
       "      <td>True</td>\n",
       "      <td>2.178309e-16</td>\n",
       "      <td>[2.178308965095565e-16, 1.2571561853136868e-16...</td>\n",
       "    </tr>\n",
       "    <tr>\n",
       "      <th>1</th>\n",
       "      <td>seccion_7_2</td>\n",
       "      <td>valores singulares</td>\n",
       "      <td>True</td>\n",
       "      <td>0.000000e+00</td>\n",
       "      <td>[0.0, 0.0, 0.0, 0.0, 0.0, 0.0]</td>\n",
       "    </tr>\n",
       "    <tr>\n",
       "      <th>2</th>\n",
       "      <td>seccion_7_2</td>\n",
       "      <td>coeficientes</td>\n",
       "      <td>True</td>\n",
       "      <td>0.000000e+00</td>\n",
       "      <td>[[0.0, 0.0, 0.0, 0.0, 0.0, 0.0, 0.0, 0.0, 0.0,...</td>\n",
       "    </tr>\n",
       "    <tr>\n",
       "      <th>3</th>\n",
       "      <td>seccion_7_2</td>\n",
       "      <td>componentes principales</td>\n",
       "      <td>True</td>\n",
       "      <td>7.323949e-10</td>\n",
       "      <td>[[9.761226003432158e-14, 1.0101021943151365e-1...</td>\n",
       "    </tr>\n",
       "  </tbody>\n",
       "</table>\n",
       "</div>"
      ],
      "text/plain": [
       "       Seccion                 elemento  Igualdad (en valor absoluto)  \\\n",
       "0  seccion_7_2       varianza explicada                          True   \n",
       "1  seccion_7_2       valores singulares                          True   \n",
       "2  seccion_7_2             coeficientes                          True   \n",
       "3  seccion_7_2  componentes principales                          True   \n",
       "\n",
       "   Max error relativo (con valor absoluto)  \\\n",
       "0                             2.178309e-16   \n",
       "1                             0.000000e+00   \n",
       "2                             0.000000e+00   \n",
       "3                             7.323949e-10   \n",
       "\n",
       "                 Error relativo (con valor absoluto)  \n",
       "0  [2.178308965095565e-16, 1.2571561853136868e-16...  \n",
       "1                     [0.0, 0.0, 0.0, 0.0, 0.0, 0.0]  \n",
       "2  [[0.0, 0.0, 0.0, 0.0, 0.0, 0.0, 0.0, 0.0, 0.0,...  \n",
       "3  [[9.761226003432158e-14, 1.0101021943151365e-1...  "
      ]
     },
     "execution_count": 104,
     "metadata": {},
     "output_type": "execute_result"
    }
   ],
   "source": [
    "df_seccion_7_2 = comparaModelos.compara_resultados_abs_sk_np(seccion_7_2)\n",
    "df_seccion_7_2.insert(0, \"Seccion\", np.repeat(\"seccion_7_2\",4), True) \n",
    "df_seccion_7_2"
   ]
  },
  {
   "cell_type": "markdown",
   "metadata": {},
   "source": [
    "### Scikit learn vs PCA a partir de SVD aproximada mediante Jacobi-one sided"
   ]
  },
  {
   "cell_type": "code",
   "execution_count": 105,
   "metadata": {},
   "outputs": [
    {
     "data": {
      "text/html": [
       "<div>\n",
       "<style scoped>\n",
       "    .dataframe tbody tr th:only-of-type {\n",
       "        vertical-align: middle;\n",
       "    }\n",
       "\n",
       "    .dataframe tbody tr th {\n",
       "        vertical-align: top;\n",
       "    }\n",
       "\n",
       "    .dataframe thead th {\n",
       "        text-align: right;\n",
       "    }\n",
       "</style>\n",
       "<table border=\"1\" class=\"dataframe\">\n",
       "  <thead>\n",
       "    <tr style=\"text-align: right;\">\n",
       "      <th></th>\n",
       "      <th>Seccion</th>\n",
       "      <th>elemento</th>\n",
       "      <th>Igualdad (en valor absoluto)</th>\n",
       "      <th>Max error relativo (con valor absoluto)</th>\n",
       "      <th>Error relativo (con valor absoluto)</th>\n",
       "    </tr>\n",
       "  </thead>\n",
       "  <tbody>\n",
       "    <tr>\n",
       "      <th>0</th>\n",
       "      <td>seccion_7_2</td>\n",
       "      <td>varianza explicada</td>\n",
       "      <td>False</td>\n",
       "      <td>9.193659e-02</td>\n",
       "      <td>[0.07403009976843317, 0.03310760440223537, 0.0...</td>\n",
       "    </tr>\n",
       "    <tr>\n",
       "      <th>1</th>\n",
       "      <td>seccion_7_2</td>\n",
       "      <td>valores singulares</td>\n",
       "      <td>False</td>\n",
       "      <td>4.495770e-02</td>\n",
       "      <td>[0.03635423469409431, 0.01669313253810829, 0.0...</td>\n",
       "    </tr>\n",
       "    <tr>\n",
       "      <th>2</th>\n",
       "      <td>seccion_7_2</td>\n",
       "      <td>coeficientes</td>\n",
       "      <td>False</td>\n",
       "      <td>2.987641e+01</td>\n",
       "      <td>[[0.6674372806598604, 0.4995088801926291, 1.07...</td>\n",
       "    </tr>\n",
       "    <tr>\n",
       "      <th>3</th>\n",
       "      <td>seccion_7_2</td>\n",
       "      <td>componentes principales</td>\n",
       "      <td>False</td>\n",
       "      <td>4.885065e+07</td>\n",
       "      <td>[[1092.6131895026354, 1179.0850653572131, 1280...</td>\n",
       "    </tr>\n",
       "  </tbody>\n",
       "</table>\n",
       "</div>"
      ],
      "text/plain": [
       "       Seccion                 elemento  Igualdad (en valor absoluto)  \\\n",
       "0  seccion_7_2       varianza explicada                         False   \n",
       "1  seccion_7_2       valores singulares                         False   \n",
       "2  seccion_7_2             coeficientes                         False   \n",
       "3  seccion_7_2  componentes principales                         False   \n",
       "\n",
       "   Max error relativo (con valor absoluto)  \\\n",
       "0                             9.193659e-02   \n",
       "1                             4.495770e-02   \n",
       "2                             2.987641e+01   \n",
       "3                             4.885065e+07   \n",
       "\n",
       "                 Error relativo (con valor absoluto)  \n",
       "0  [0.07403009976843317, 0.03310760440223537, 0.0...  \n",
       "1  [0.03635423469409431, 0.01669313253810829, 0.0...  \n",
       "2  [[0.6674372806598604, 0.4995088801926291, 1.07...  \n",
       "3  [[1092.6131895026354, 1179.0850653572131, 1280...  "
      ]
     },
     "execution_count": 105,
     "metadata": {},
     "output_type": "execute_result"
    }
   ],
   "source": [
    "df_seccion_7_2_jac = comparaModelos.compara_resultados_abs_sk_jac(seccion_7_2)\n",
    "df_seccion_7_2_jac.insert(0, \"Seccion\", np.repeat(\"seccion_7_2\",4), True) \n",
    "df_seccion_7_2_jac"
   ]
  },
  {
   "cell_type": "markdown",
   "metadata": {},
   "source": [
    "### Scikit learn vs PCA a partir del algoritmo QR"
   ]
  },
  {
   "cell_type": "code",
   "execution_count": 173,
   "metadata": {},
   "outputs": [
    {
     "name": "stderr",
     "output_type": "stream",
     "text": [
      "C:\\Users\\elyes\\Anaconda3\\envs\\mno2020\\lib\\site-packages\\numpy\\core\\numeric.py:906: RuntimeWarning: overflow encountered in multiply\n",
      "  return multiply(a.ravel()[:, newaxis], b.ravel()[newaxis, :], out)\n",
      "./../..\\src\\pca\\funciones_examen_QR.py:143: RuntimeWarning: invalid value encountered in multiply\n",
      "  Arv[j:m,j:n]=Arv[j:m,j:n]-beta*np.outer(v,(np.transpose(v)@Arv[j:m,j:n]))\n",
      "./../..\\src\\pca\\funciones_examen_QR.py:234: RuntimeWarning: invalid value encountered in multiply\n",
      "  Qj[(j-1):m,(j-1):m]=np.eye(m-(j-1))-beta*np.outer(v,v)\n",
      "./../..\\src\\pca\\todoJunto.py:188: RuntimeWarning: invalid value encountered in less\n",
      "  conteo = (varianza_acumulada)  <  0.6\n"
     ]
    },
    {
     "data": {
      "text/html": [
       "<div>\n",
       "<style scoped>\n",
       "    .dataframe tbody tr th:only-of-type {\n",
       "        vertical-align: middle;\n",
       "    }\n",
       "\n",
       "    .dataframe tbody tr th {\n",
       "        vertical-align: top;\n",
       "    }\n",
       "\n",
       "    .dataframe thead th {\n",
       "        text-align: right;\n",
       "    }\n",
       "</style>\n",
       "<table border=\"1\" class=\"dataframe\">\n",
       "  <thead>\n",
       "    <tr style=\"text-align: right;\">\n",
       "      <th></th>\n",
       "      <th>Seccion</th>\n",
       "      <th>elemento</th>\n",
       "      <th>Igualdad (en valor absoluto)</th>\n",
       "      <th>Max error relativo (con valor absoluto)</th>\n",
       "      <th>Error relativo (con valor absoluto)</th>\n",
       "    </tr>\n",
       "  </thead>\n",
       "  <tbody>\n",
       "    <tr>\n",
       "      <th>0</th>\n",
       "      <td>seccion_7_2</td>\n",
       "      <td>varianza explicada</td>\n",
       "      <td>False</td>\n",
       "      <td>NaN</td>\n",
       "      <td>[nan, nan, nan, nan, nan, nan]</td>\n",
       "    </tr>\n",
       "    <tr>\n",
       "      <th>1</th>\n",
       "      <td>seccion_7_2</td>\n",
       "      <td>eigenvalores</td>\n",
       "      <td>False</td>\n",
       "      <td>NaN</td>\n",
       "      <td>[nan, nan, nan, nan, nan, nan]</td>\n",
       "    </tr>\n",
       "    <tr>\n",
       "      <th>2</th>\n",
       "      <td>seccion_7_2</td>\n",
       "      <td>coeficientes</td>\n",
       "      <td>False</td>\n",
       "      <td>NaN</td>\n",
       "      <td>[[nan, nan, nan, nan, nan, nan, nan, nan, nan,...</td>\n",
       "    </tr>\n",
       "    <tr>\n",
       "      <th>3</th>\n",
       "      <td>seccion_7_2</td>\n",
       "      <td>componentes principales</td>\n",
       "      <td>False</td>\n",
       "      <td>NaN</td>\n",
       "      <td>[[nan, nan, nan, nan, nan, nan], [nan, nan, na...</td>\n",
       "    </tr>\n",
       "  </tbody>\n",
       "</table>\n",
       "</div>"
      ],
      "text/plain": [
       "       Seccion                 elemento  Igualdad (en valor absoluto)  \\\n",
       "0  seccion_7_2       varianza explicada                         False   \n",
       "1  seccion_7_2             eigenvalores                         False   \n",
       "2  seccion_7_2             coeficientes                         False   \n",
       "3  seccion_7_2  componentes principales                         False   \n",
       "\n",
       "   Max error relativo (con valor absoluto)  \\\n",
       "0                                      NaN   \n",
       "1                                      NaN   \n",
       "2                                      NaN   \n",
       "3                                      NaN   \n",
       "\n",
       "                 Error relativo (con valor absoluto)  \n",
       "0                     [nan, nan, nan, nan, nan, nan]  \n",
       "1                     [nan, nan, nan, nan, nan, nan]  \n",
       "2  [[nan, nan, nan, nan, nan, nan, nan, nan, nan,...  \n",
       "3  [[nan, nan, nan, nan, nan, nan], [nan, nan, na...  "
      ]
     },
     "execution_count": 173,
     "metadata": {},
     "output_type": "execute_result"
    }
   ],
   "source": [
    "df_seccion_7_2_qr = comparaModelos.compara_resultados_abs_sk_qr(seccion_7_2)\n",
    "df_seccion_7_2_qr.insert(0, \"Seccion\", np.repeat(\"seccion_7_2\",4), True) \n",
    "df_seccion_7_2_qr"
   ]
  },
  {
   "cell_type": "code",
   "execution_count": 174,
   "metadata": {},
   "outputs": [
    {
     "data": {
      "text/plain": [
       "7.937439147230621"
      ]
     },
     "execution_count": 174,
     "metadata": {},
     "output_type": "execute_result"
    }
   ],
   "source": [
    "np.linalg.cond(seccion_7_2)"
   ]
  },
  {
   "cell_type": "markdown",
   "metadata": {},
   "source": [
    "# Sección 8. Entorno escolar "
   ]
  },
  {
   "cell_type": "markdown",
   "metadata": {},
   "source": [
    "## 8.1. Entorno escolar"
   ]
  },
  {
   "cell_type": "code",
   "execution_count": 107,
   "metadata": {},
   "outputs": [],
   "source": [
    "np.random.seed(150) ###Se define la semilla para la reproducibilidad de los resultados\n",
    "\n",
    "seccion_8_1 = df.loc[:, ['p79', 'p80', 'p81', 'p82', 'p83', 'p84']] ###Se seleccionan las preguntas que conforman esta sección"
   ]
  },
  {
   "cell_type": "code",
   "execution_count": 108,
   "metadata": {},
   "outputs": [],
   "source": [
    "####Se escalan los datos.\n",
    "scaler = preprocessing.StandardScaler()\n",
    "\n",
    "seccion_8_1 = pd.DataFrame(scaler.fit_transform(seccion_8_1))"
   ]
  },
  {
   "cell_type": "markdown",
   "metadata": {},
   "source": [
    "### Scikit learn vs PCA a partir de SVD de numpy"
   ]
  },
  {
   "cell_type": "code",
   "execution_count": 109,
   "metadata": {},
   "outputs": [
    {
     "data": {
      "text/html": [
       "<div>\n",
       "<style scoped>\n",
       "    .dataframe tbody tr th:only-of-type {\n",
       "        vertical-align: middle;\n",
       "    }\n",
       "\n",
       "    .dataframe tbody tr th {\n",
       "        vertical-align: top;\n",
       "    }\n",
       "\n",
       "    .dataframe thead th {\n",
       "        text-align: right;\n",
       "    }\n",
       "</style>\n",
       "<table border=\"1\" class=\"dataframe\">\n",
       "  <thead>\n",
       "    <tr style=\"text-align: right;\">\n",
       "      <th></th>\n",
       "      <th>Seccion</th>\n",
       "      <th>elemento</th>\n",
       "      <th>Igualdad (en valor absoluto)</th>\n",
       "      <th>Max error relativo (con valor absoluto)</th>\n",
       "      <th>Error relativo (con valor absoluto)</th>\n",
       "    </tr>\n",
       "  </thead>\n",
       "  <tbody>\n",
       "    <tr>\n",
       "      <th>0</th>\n",
       "      <td>seccion_8_1</td>\n",
       "      <td>varianza explicada</td>\n",
       "      <td>True</td>\n",
       "      <td>3.055070e-16</td>\n",
       "      <td>[2.444284208275238e-16, 3.055070401062262e-16,...</td>\n",
       "    </tr>\n",
       "    <tr>\n",
       "      <th>1</th>\n",
       "      <td>seccion_8_1</td>\n",
       "      <td>valores singulares</td>\n",
       "      <td>True</td>\n",
       "      <td>0.000000e+00</td>\n",
       "      <td>[0.0, 0.0, 0.0, 0.0]</td>\n",
       "    </tr>\n",
       "    <tr>\n",
       "      <th>2</th>\n",
       "      <td>seccion_8_1</td>\n",
       "      <td>coeficientes</td>\n",
       "      <td>True</td>\n",
       "      <td>0.000000e+00</td>\n",
       "      <td>[[0.0, 0.0, 0.0, 0.0, 0.0, 0.0], [0.0, 0.0, 0....</td>\n",
       "    </tr>\n",
       "    <tr>\n",
       "      <th>3</th>\n",
       "      <td>seccion_8_1</td>\n",
       "      <td>componentes principales</td>\n",
       "      <td>True</td>\n",
       "      <td>7.033656e-11</td>\n",
       "      <td>[[2.8732286182798012e-11, 3.377871924107149e-1...</td>\n",
       "    </tr>\n",
       "  </tbody>\n",
       "</table>\n",
       "</div>"
      ],
      "text/plain": [
       "       Seccion                 elemento  Igualdad (en valor absoluto)  \\\n",
       "0  seccion_8_1       varianza explicada                          True   \n",
       "1  seccion_8_1       valores singulares                          True   \n",
       "2  seccion_8_1             coeficientes                          True   \n",
       "3  seccion_8_1  componentes principales                          True   \n",
       "\n",
       "   Max error relativo (con valor absoluto)  \\\n",
       "0                             3.055070e-16   \n",
       "1                             0.000000e+00   \n",
       "2                             0.000000e+00   \n",
       "3                             7.033656e-11   \n",
       "\n",
       "                 Error relativo (con valor absoluto)  \n",
       "0  [2.444284208275238e-16, 3.055070401062262e-16,...  \n",
       "1                               [0.0, 0.0, 0.0, 0.0]  \n",
       "2  [[0.0, 0.0, 0.0, 0.0, 0.0, 0.0], [0.0, 0.0, 0....  \n",
       "3  [[2.8732286182798012e-11, 3.377871924107149e-1...  "
      ]
     },
     "execution_count": 109,
     "metadata": {},
     "output_type": "execute_result"
    }
   ],
   "source": [
    "df_seccion_8_1 = comparaModelos.compara_resultados_abs_sk_np(seccion_8_1)\n",
    "df_seccion_8_1.insert(0, \"Seccion\", np.repeat(\"seccion_8_1\",4), True) \n",
    "df_seccion_8_1"
   ]
  },
  {
   "cell_type": "markdown",
   "metadata": {},
   "source": [
    "### Scikit learn vs PCA a partir de SVD aproximada mediante Jacobi-one sided"
   ]
  },
  {
   "cell_type": "code",
   "execution_count": 110,
   "metadata": {
    "scrolled": true
   },
   "outputs": [
    {
     "data": {
      "text/html": [
       "<div>\n",
       "<style scoped>\n",
       "    .dataframe tbody tr th:only-of-type {\n",
       "        vertical-align: middle;\n",
       "    }\n",
       "\n",
       "    .dataframe tbody tr th {\n",
       "        vertical-align: top;\n",
       "    }\n",
       "\n",
       "    .dataframe thead th {\n",
       "        text-align: right;\n",
       "    }\n",
       "</style>\n",
       "<table border=\"1\" class=\"dataframe\">\n",
       "  <thead>\n",
       "    <tr style=\"text-align: right;\">\n",
       "      <th></th>\n",
       "      <th>Seccion</th>\n",
       "      <th>elemento</th>\n",
       "      <th>Igualdad (en valor absoluto)</th>\n",
       "      <th>Max error relativo (con valor absoluto)</th>\n",
       "      <th>Error relativo (con valor absoluto)</th>\n",
       "    </tr>\n",
       "  </thead>\n",
       "  <tbody>\n",
       "    <tr>\n",
       "      <th>0</th>\n",
       "      <td>seccion_8_1</td>\n",
       "      <td>varianza explicada</td>\n",
       "      <td>False</td>\n",
       "      <td>9.148121e-02</td>\n",
       "      <td>[0.01339421732388395, 0.02878380569739806, 0.0...</td>\n",
       "    </tr>\n",
       "    <tr>\n",
       "      <th>1</th>\n",
       "      <td>seccion_8_1</td>\n",
       "      <td>valores singulares</td>\n",
       "      <td>False</td>\n",
       "      <td>4.683748e-02</td>\n",
       "      <td>[0.006674831971013333, 0.014289803605153948, 0...</td>\n",
       "    </tr>\n",
       "    <tr>\n",
       "      <th>2</th>\n",
       "      <td>seccion_8_1</td>\n",
       "      <td>coeficientes</td>\n",
       "      <td>False</td>\n",
       "      <td>2.732209e+02</td>\n",
       "      <td>[[0.09084791344846525, 1.981559342620171, 0.79...</td>\n",
       "    </tr>\n",
       "    <tr>\n",
       "      <th>3</th>\n",
       "      <td>seccion_8_1</td>\n",
       "      <td>componentes principales</td>\n",
       "      <td>False</td>\n",
       "      <td>6.790352e+06</td>\n",
       "      <td>[[2335.163566647474, 29.851136890637655, 648.8...</td>\n",
       "    </tr>\n",
       "  </tbody>\n",
       "</table>\n",
       "</div>"
      ],
      "text/plain": [
       "       Seccion                 elemento  Igualdad (en valor absoluto)  \\\n",
       "0  seccion_8_1       varianza explicada                         False   \n",
       "1  seccion_8_1       valores singulares                         False   \n",
       "2  seccion_8_1             coeficientes                         False   \n",
       "3  seccion_8_1  componentes principales                         False   \n",
       "\n",
       "   Max error relativo (con valor absoluto)  \\\n",
       "0                             9.148121e-02   \n",
       "1                             4.683748e-02   \n",
       "2                             2.732209e+02   \n",
       "3                             6.790352e+06   \n",
       "\n",
       "                 Error relativo (con valor absoluto)  \n",
       "0  [0.01339421732388395, 0.02878380569739806, 0.0...  \n",
       "1  [0.006674831971013333, 0.014289803605153948, 0...  \n",
       "2  [[0.09084791344846525, 1.981559342620171, 0.79...  \n",
       "3  [[2335.163566647474, 29.851136890637655, 648.8...  "
      ]
     },
     "execution_count": 110,
     "metadata": {},
     "output_type": "execute_result"
    }
   ],
   "source": [
    "df_seccion_8_1_jac = comparaModelos.compara_resultados_abs_sk_jac(seccion_8_1)\n",
    "df_seccion_8_1_jac.insert(0, \"Seccion\", np.repeat(\"seccion_8_1\",4), True) \n",
    "df_seccion_8_1_jac"
   ]
  },
  {
   "cell_type": "markdown",
   "metadata": {},
   "source": [
    "### Scikit learn vs PCA a partir del algoritmo QR"
   ]
  },
  {
   "cell_type": "code",
   "execution_count": 111,
   "metadata": {},
   "outputs": [
    {
     "data": {
      "text/html": [
       "<div>\n",
       "<style scoped>\n",
       "    .dataframe tbody tr th:only-of-type {\n",
       "        vertical-align: middle;\n",
       "    }\n",
       "\n",
       "    .dataframe tbody tr th {\n",
       "        vertical-align: top;\n",
       "    }\n",
       "\n",
       "    .dataframe thead th {\n",
       "        text-align: right;\n",
       "    }\n",
       "</style>\n",
       "<table border=\"1\" class=\"dataframe\">\n",
       "  <thead>\n",
       "    <tr style=\"text-align: right;\">\n",
       "      <th></th>\n",
       "      <th>Seccion</th>\n",
       "      <th>elemento</th>\n",
       "      <th>Igualdad (en valor absoluto)</th>\n",
       "      <th>Max error relativo (con valor absoluto)</th>\n",
       "      <th>Error relativo (con valor absoluto)</th>\n",
       "    </tr>\n",
       "  </thead>\n",
       "  <tbody>\n",
       "    <tr>\n",
       "      <th>0</th>\n",
       "      <td>seccion_8_1</td>\n",
       "      <td>varianza explicada</td>\n",
       "      <td>True</td>\n",
       "      <td>0.000005</td>\n",
       "      <td>[1.9432059455788525e-14, 4.538421461894037e-06...</td>\n",
       "    </tr>\n",
       "    <tr>\n",
       "      <th>1</th>\n",
       "      <td>seccion_8_1</td>\n",
       "      <td>eigenvalores</td>\n",
       "      <td>True</td>\n",
       "      <td>0.000005</td>\n",
       "      <td>[3.096087807917376e-15, 4.538421445469778e-06,...</td>\n",
       "    </tr>\n",
       "    <tr>\n",
       "      <th>2</th>\n",
       "      <td>seccion_8_1</td>\n",
       "      <td>coeficientes</td>\n",
       "      <td>False</td>\n",
       "      <td>0.268490</td>\n",
       "      <td>[[5.65430859569803e-13, 1.43675383091697e-13, ...</td>\n",
       "    </tr>\n",
       "    <tr>\n",
       "      <th>3</th>\n",
       "      <td>seccion_8_1</td>\n",
       "      <td>componentes principales</td>\n",
       "      <td>False</td>\n",
       "      <td>28.790827</td>\n",
       "      <td>[[2.881369681739466e-11, 1.0848434343838385, 0...</td>\n",
       "    </tr>\n",
       "  </tbody>\n",
       "</table>\n",
       "</div>"
      ],
      "text/plain": [
       "       Seccion                 elemento  Igualdad (en valor absoluto)  \\\n",
       "0  seccion_8_1       varianza explicada                          True   \n",
       "1  seccion_8_1             eigenvalores                          True   \n",
       "2  seccion_8_1             coeficientes                         False   \n",
       "3  seccion_8_1  componentes principales                         False   \n",
       "\n",
       "   Max error relativo (con valor absoluto)  \\\n",
       "0                                 0.000005   \n",
       "1                                 0.000005   \n",
       "2                                 0.268490   \n",
       "3                                28.790827   \n",
       "\n",
       "                 Error relativo (con valor absoluto)  \n",
       "0  [1.9432059455788525e-14, 4.538421461894037e-06...  \n",
       "1  [3.096087807917376e-15, 4.538421445469778e-06,...  \n",
       "2  [[5.65430859569803e-13, 1.43675383091697e-13, ...  \n",
       "3  [[2.881369681739466e-11, 1.0848434343838385, 0...  "
      ]
     },
     "execution_count": 111,
     "metadata": {},
     "output_type": "execute_result"
    }
   ],
   "source": [
    "df_seccion_8_1_qr = comparaModelos.compara_resultados_abs_sk_qr(seccion_8_1)\n",
    "df_seccion_8_1_qr.insert(0, \"Seccion\", np.repeat(\"seccion_8_1\",4), True) \n",
    "df_seccion_8_1_qr"
   ]
  },
  {
   "cell_type": "code",
   "execution_count": 175,
   "metadata": {},
   "outputs": [
    {
     "data": {
      "text/plain": [
       "1.3412687647074213"
      ]
     },
     "execution_count": 175,
     "metadata": {},
     "output_type": "execute_result"
    }
   ],
   "source": [
    "np.linalg.cond(seccion_8_1)"
   ]
  },
  {
   "cell_type": "markdown",
   "metadata": {},
   "source": [
    "## 8.2. Maestros de Español (literatura, lectura y redacción, etcétera)"
   ]
  },
  {
   "cell_type": "code",
   "execution_count": 112,
   "metadata": {},
   "outputs": [],
   "source": [
    "np.random.seed(150) ###Se define la semilla para la reproducibilidad de los resultados\n",
    "\n",
    "seccion_8_2 = df.loc[:, ['p85', 'p86', 'p87', 'p88', 'p89']] ###Se seleccionan las preguntas que conforman esta sección"
   ]
  },
  {
   "cell_type": "code",
   "execution_count": 113,
   "metadata": {},
   "outputs": [],
   "source": [
    "####Se escalan los datos.\n",
    "scaler = preprocessing.StandardScaler()\n",
    "\n",
    "seccion_8_2 = scaler.fit_transform(seccion_8_2)"
   ]
  },
  {
   "cell_type": "markdown",
   "metadata": {},
   "source": [
    "### Scikit learn vs PCA a partir de SVD de numpy"
   ]
  },
  {
   "cell_type": "code",
   "execution_count": 114,
   "metadata": {},
   "outputs": [
    {
     "data": {
      "text/html": [
       "<div>\n",
       "<style scoped>\n",
       "    .dataframe tbody tr th:only-of-type {\n",
       "        vertical-align: middle;\n",
       "    }\n",
       "\n",
       "    .dataframe tbody tr th {\n",
       "        vertical-align: top;\n",
       "    }\n",
       "\n",
       "    .dataframe thead th {\n",
       "        text-align: right;\n",
       "    }\n",
       "</style>\n",
       "<table border=\"1\" class=\"dataframe\">\n",
       "  <thead>\n",
       "    <tr style=\"text-align: right;\">\n",
       "      <th></th>\n",
       "      <th>Seccion</th>\n",
       "      <th>elemento</th>\n",
       "      <th>Igualdad (en valor absoluto)</th>\n",
       "      <th>Max error relativo (con valor absoluto)</th>\n",
       "      <th>Error relativo (con valor absoluto)</th>\n",
       "    </tr>\n",
       "  </thead>\n",
       "  <tbody>\n",
       "    <tr>\n",
       "      <th>0</th>\n",
       "      <td>seccion_8_2</td>\n",
       "      <td>varianza explicada</td>\n",
       "      <td>True</td>\n",
       "      <td>2.083336e-16</td>\n",
       "      <td>[0.0, 2.0833363867212563e-16]</td>\n",
       "    </tr>\n",
       "    <tr>\n",
       "      <th>1</th>\n",
       "      <td>seccion_8_2</td>\n",
       "      <td>valores singulares</td>\n",
       "      <td>True</td>\n",
       "      <td>0.000000e+00</td>\n",
       "      <td>[0.0, 0.0]</td>\n",
       "    </tr>\n",
       "    <tr>\n",
       "      <th>2</th>\n",
       "      <td>seccion_8_2</td>\n",
       "      <td>coeficientes</td>\n",
       "      <td>True</td>\n",
       "      <td>0.000000e+00</td>\n",
       "      <td>[[0.0, 0.0, 0.0, 0.0, 0.0], [0.0, 0.0, 0.0, 0....</td>\n",
       "    </tr>\n",
       "    <tr>\n",
       "      <th>3</th>\n",
       "      <td>seccion_8_2</td>\n",
       "      <td>componentes principales</td>\n",
       "      <td>True</td>\n",
       "      <td>1.863889e-09</td>\n",
       "      <td>[[1.863888878094738e-09, 2.960568365144985e-11...</td>\n",
       "    </tr>\n",
       "  </tbody>\n",
       "</table>\n",
       "</div>"
      ],
      "text/plain": [
       "       Seccion                 elemento  Igualdad (en valor absoluto)  \\\n",
       "0  seccion_8_2       varianza explicada                          True   \n",
       "1  seccion_8_2       valores singulares                          True   \n",
       "2  seccion_8_2             coeficientes                          True   \n",
       "3  seccion_8_2  componentes principales                          True   \n",
       "\n",
       "   Max error relativo (con valor absoluto)  \\\n",
       "0                             2.083336e-16   \n",
       "1                             0.000000e+00   \n",
       "2                             0.000000e+00   \n",
       "3                             1.863889e-09   \n",
       "\n",
       "                 Error relativo (con valor absoluto)  \n",
       "0                      [0.0, 2.0833363867212563e-16]  \n",
       "1                                         [0.0, 0.0]  \n",
       "2  [[0.0, 0.0, 0.0, 0.0, 0.0], [0.0, 0.0, 0.0, 0....  \n",
       "3  [[1.863888878094738e-09, 2.960568365144985e-11...  "
      ]
     },
     "execution_count": 114,
     "metadata": {},
     "output_type": "execute_result"
    }
   ],
   "source": [
    "df_seccion_8_2 = comparaModelos.compara_resultados_abs_sk_np(seccion_8_2)\n",
    "df_seccion_8_2.insert(0, \"Seccion\", np.repeat(\"seccion_8_2\",4), True) \n",
    "df_seccion_8_2"
   ]
  },
  {
   "cell_type": "markdown",
   "metadata": {},
   "source": [
    "### Scikit learn vs PCA a partir de SVD aproximada mediante Jacobi-one sided"
   ]
  },
  {
   "cell_type": "code",
   "execution_count": 115,
   "metadata": {
    "scrolled": true
   },
   "outputs": [
    {
     "data": {
      "text/html": [
       "<div>\n",
       "<style scoped>\n",
       "    .dataframe tbody tr th:only-of-type {\n",
       "        vertical-align: middle;\n",
       "    }\n",
       "\n",
       "    .dataframe tbody tr th {\n",
       "        vertical-align: top;\n",
       "    }\n",
       "\n",
       "    .dataframe thead th {\n",
       "        text-align: right;\n",
       "    }\n",
       "</style>\n",
       "<table border=\"1\" class=\"dataframe\">\n",
       "  <thead>\n",
       "    <tr style=\"text-align: right;\">\n",
       "      <th></th>\n",
       "      <th>Seccion</th>\n",
       "      <th>elemento</th>\n",
       "      <th>Igualdad (en valor absoluto)</th>\n",
       "      <th>Max error relativo (con valor absoluto)</th>\n",
       "      <th>Error relativo (con valor absoluto)</th>\n",
       "    </tr>\n",
       "  </thead>\n",
       "  <tbody>\n",
       "    <tr>\n",
       "      <th>0</th>\n",
       "      <td>seccion_8_2</td>\n",
       "      <td>varianza explicada</td>\n",
       "      <td>False</td>\n",
       "      <td>0.000906</td>\n",
       "      <td>[0.0009062626775334845, 2.1771322902853306e-05]</td>\n",
       "    </tr>\n",
       "    <tr>\n",
       "      <th>1</th>\n",
       "      <td>seccion_8_2</td>\n",
       "      <td>valores singulares</td>\n",
       "      <td>False</td>\n",
       "      <td>0.000453</td>\n",
       "      <td>[0.0004530287212364712, 1.0885602184156948e-05]</td>\n",
       "    </tr>\n",
       "    <tr>\n",
       "      <th>2</th>\n",
       "      <td>seccion_8_2</td>\n",
       "      <td>coeficientes</td>\n",
       "      <td>False</td>\n",
       "      <td>5.682295</td>\n",
       "      <td>[[0.026927109211328095, 0.0892985725717341, 1....</td>\n",
       "    </tr>\n",
       "    <tr>\n",
       "      <th>3</th>\n",
       "      <td>seccion_8_2</td>\n",
       "      <td>componentes principales</td>\n",
       "      <td>False</td>\n",
       "      <td>776919.866459</td>\n",
       "      <td>[[68.42147088965079, 674.7840741185718], [1446...</td>\n",
       "    </tr>\n",
       "  </tbody>\n",
       "</table>\n",
       "</div>"
      ],
      "text/plain": [
       "       Seccion                 elemento  Igualdad (en valor absoluto)  \\\n",
       "0  seccion_8_2       varianza explicada                         False   \n",
       "1  seccion_8_2       valores singulares                         False   \n",
       "2  seccion_8_2             coeficientes                         False   \n",
       "3  seccion_8_2  componentes principales                         False   \n",
       "\n",
       "   Max error relativo (con valor absoluto)  \\\n",
       "0                                 0.000906   \n",
       "1                                 0.000453   \n",
       "2                                 5.682295   \n",
       "3                            776919.866459   \n",
       "\n",
       "                 Error relativo (con valor absoluto)  \n",
       "0    [0.0009062626775334845, 2.1771322902853306e-05]  \n",
       "1    [0.0004530287212364712, 1.0885602184156948e-05]  \n",
       "2  [[0.026927109211328095, 0.0892985725717341, 1....  \n",
       "3  [[68.42147088965079, 674.7840741185718], [1446...  "
      ]
     },
     "execution_count": 115,
     "metadata": {},
     "output_type": "execute_result"
    }
   ],
   "source": [
    "df_seccion_8_2_jac = comparaModelos.compara_resultados_abs_sk_jac(seccion_8_2)\n",
    "df_seccion_8_2_jac.insert(0, \"Seccion\", np.repeat(\"seccion_8_2\",4), True) \n",
    "df_seccion_8_2_jac"
   ]
  },
  {
   "cell_type": "markdown",
   "metadata": {},
   "source": [
    "### Scikit learn vs PCA a partir del algoritmo QR"
   ]
  },
  {
   "cell_type": "code",
   "execution_count": 116,
   "metadata": {},
   "outputs": [
    {
     "data": {
      "text/html": [
       "<div>\n",
       "<style scoped>\n",
       "    .dataframe tbody tr th:only-of-type {\n",
       "        vertical-align: middle;\n",
       "    }\n",
       "\n",
       "    .dataframe tbody tr th {\n",
       "        vertical-align: top;\n",
       "    }\n",
       "\n",
       "    .dataframe thead th {\n",
       "        text-align: right;\n",
       "    }\n",
       "</style>\n",
       "<table border=\"1\" class=\"dataframe\">\n",
       "  <thead>\n",
       "    <tr style=\"text-align: right;\">\n",
       "      <th></th>\n",
       "      <th>Seccion</th>\n",
       "      <th>elemento</th>\n",
       "      <th>Igualdad (en valor absoluto)</th>\n",
       "      <th>Max error relativo (con valor absoluto)</th>\n",
       "      <th>Error relativo (con valor absoluto)</th>\n",
       "    </tr>\n",
       "  </thead>\n",
       "  <tbody>\n",
       "    <tr>\n",
       "      <th>0</th>\n",
       "      <td>seccion_8_2</td>\n",
       "      <td>varianza explicada</td>\n",
       "      <td>True</td>\n",
       "      <td>1.058335e-13</td>\n",
       "      <td>[7.290159752027614e-14, 1.05833488445451e-13]</td>\n",
       "    </tr>\n",
       "    <tr>\n",
       "      <th>1</th>\n",
       "      <td>seccion_8_2</td>\n",
       "      <td>eigenvalores</td>\n",
       "      <td>True</td>\n",
       "      <td>1.094644e-13</td>\n",
       "      <td>[1.0946435733014267e-13, 6.933331127863261e-14]</td>\n",
       "    </tr>\n",
       "    <tr>\n",
       "      <th>2</th>\n",
       "      <td>seccion_8_2</td>\n",
       "      <td>coeficientes</td>\n",
       "      <td>True</td>\n",
       "      <td>7.264399e-10</td>\n",
       "      <td>[[1.022021937195438e-13, 4.760328772131606e-14...</td>\n",
       "    </tr>\n",
       "    <tr>\n",
       "      <th>3</th>\n",
       "      <td>seccion_8_2</td>\n",
       "      <td>componentes principales</td>\n",
       "      <td>True</td>\n",
       "      <td>2.865539e-06</td>\n",
       "      <td>[[1.863159971834557e-09, 2.2456987982850554e-1...</td>\n",
       "    </tr>\n",
       "  </tbody>\n",
       "</table>\n",
       "</div>"
      ],
      "text/plain": [
       "       Seccion                 elemento  Igualdad (en valor absoluto)  \\\n",
       "0  seccion_8_2       varianza explicada                          True   \n",
       "1  seccion_8_2             eigenvalores                          True   \n",
       "2  seccion_8_2             coeficientes                          True   \n",
       "3  seccion_8_2  componentes principales                          True   \n",
       "\n",
       "   Max error relativo (con valor absoluto)  \\\n",
       "0                             1.058335e-13   \n",
       "1                             1.094644e-13   \n",
       "2                             7.264399e-10   \n",
       "3                             2.865539e-06   \n",
       "\n",
       "                 Error relativo (con valor absoluto)  \n",
       "0      [7.290159752027614e-14, 1.05833488445451e-13]  \n",
       "1    [1.0946435733014267e-13, 6.933331127863261e-14]  \n",
       "2  [[1.022021937195438e-13, 4.760328772131606e-14...  \n",
       "3  [[1.863159971834557e-09, 2.2456987982850554e-1...  "
      ]
     },
     "execution_count": 116,
     "metadata": {},
     "output_type": "execute_result"
    }
   ],
   "source": [
    "df_seccion_8_2_qr = comparaModelos.compara_resultados_abs_sk_qr(seccion_8_2)\n",
    "df_seccion_8_2_qr.insert(0, \"Seccion\", np.repeat(\"seccion_8_2\",4), True) \n",
    "df_seccion_8_2_qr"
   ]
  },
  {
   "cell_type": "markdown",
   "metadata": {},
   "source": [
    "## 8.3. Maestros de Matemáticas"
   ]
  },
  {
   "cell_type": "code",
   "execution_count": 117,
   "metadata": {},
   "outputs": [],
   "source": [
    "seccion_8_3 = df.loc[:, ['p90', 'p91', 'p92', 'p93', 'p94', 'p95', 'p96', 'p97', 'p98', 'p99', 'p100', 'p101', 'p102', 'p103', \n",
    "                        'p104','p105','p106', 'p107', 'p108', 'p109', 'p110', 'p111', ]] ###Se seleccionan las preguntas que conforman esta sección"
   ]
  },
  {
   "cell_type": "code",
   "execution_count": 118,
   "metadata": {},
   "outputs": [],
   "source": [
    "####Se escalan los datos.\n",
    "scaler = preprocessing.StandardScaler()\n",
    "\n",
    "seccion_8_3 = scaler.fit_transform(seccion_8_3)"
   ]
  },
  {
   "cell_type": "markdown",
   "metadata": {},
   "source": [
    "### Scikit learn vs PCA a partir de SVD de numpy"
   ]
  },
  {
   "cell_type": "code",
   "execution_count": 119,
   "metadata": {},
   "outputs": [
    {
     "data": {
      "text/html": [
       "<div>\n",
       "<style scoped>\n",
       "    .dataframe tbody tr th:only-of-type {\n",
       "        vertical-align: middle;\n",
       "    }\n",
       "\n",
       "    .dataframe tbody tr th {\n",
       "        vertical-align: top;\n",
       "    }\n",
       "\n",
       "    .dataframe thead th {\n",
       "        text-align: right;\n",
       "    }\n",
       "</style>\n",
       "<table border=\"1\" class=\"dataframe\">\n",
       "  <thead>\n",
       "    <tr style=\"text-align: right;\">\n",
       "      <th></th>\n",
       "      <th>Seccion</th>\n",
       "      <th>elemento</th>\n",
       "      <th>Igualdad (en valor absoluto)</th>\n",
       "      <th>Max error relativo (con valor absoluto)</th>\n",
       "      <th>Error relativo (con valor absoluto)</th>\n",
       "    </tr>\n",
       "  </thead>\n",
       "  <tbody>\n",
       "    <tr>\n",
       "      <th>0</th>\n",
       "      <td>seccion_8_3</td>\n",
       "      <td>varianza explicada</td>\n",
       "      <td>True</td>\n",
       "      <td>1.489917e-16</td>\n",
       "      <td>[1.4899167910446447e-16, 0.0, 0.0, 0.0, 0.0]</td>\n",
       "    </tr>\n",
       "    <tr>\n",
       "      <th>1</th>\n",
       "      <td>seccion_8_3</td>\n",
       "      <td>valores singulares</td>\n",
       "      <td>True</td>\n",
       "      <td>0.000000e+00</td>\n",
       "      <td>[0.0, 0.0, 0.0, 0.0, 0.0]</td>\n",
       "    </tr>\n",
       "    <tr>\n",
       "      <th>2</th>\n",
       "      <td>seccion_8_3</td>\n",
       "      <td>coeficientes</td>\n",
       "      <td>True</td>\n",
       "      <td>0.000000e+00</td>\n",
       "      <td>[[0.0, 0.0, 0.0, 0.0, 0.0, 0.0, 0.0, 0.0, 0.0,...</td>\n",
       "    </tr>\n",
       "    <tr>\n",
       "      <th>3</th>\n",
       "      <td>seccion_8_3</td>\n",
       "      <td>componentes principales</td>\n",
       "      <td>True</td>\n",
       "      <td>1.936874e-08</td>\n",
       "      <td>[[8.513937689139695e-12, 4.386529456891676e-11...</td>\n",
       "    </tr>\n",
       "  </tbody>\n",
       "</table>\n",
       "</div>"
      ],
      "text/plain": [
       "       Seccion                 elemento  Igualdad (en valor absoluto)  \\\n",
       "0  seccion_8_3       varianza explicada                          True   \n",
       "1  seccion_8_3       valores singulares                          True   \n",
       "2  seccion_8_3             coeficientes                          True   \n",
       "3  seccion_8_3  componentes principales                          True   \n",
       "\n",
       "   Max error relativo (con valor absoluto)  \\\n",
       "0                             1.489917e-16   \n",
       "1                             0.000000e+00   \n",
       "2                             0.000000e+00   \n",
       "3                             1.936874e-08   \n",
       "\n",
       "                 Error relativo (con valor absoluto)  \n",
       "0       [1.4899167910446447e-16, 0.0, 0.0, 0.0, 0.0]  \n",
       "1                          [0.0, 0.0, 0.0, 0.0, 0.0]  \n",
       "2  [[0.0, 0.0, 0.0, 0.0, 0.0, 0.0, 0.0, 0.0, 0.0,...  \n",
       "3  [[8.513937689139695e-12, 4.386529456891676e-11...  "
      ]
     },
     "execution_count": 119,
     "metadata": {},
     "output_type": "execute_result"
    }
   ],
   "source": [
    "df_seccion_8_3 = comparaModelos.compara_resultados_abs_sk_np(seccion_8_3)\n",
    "df_seccion_8_3.insert(0, \"Seccion\", np.repeat(\"seccion_8_3\",4), True) \n",
    "df_seccion_8_3"
   ]
  },
  {
   "cell_type": "markdown",
   "metadata": {},
   "source": [
    "### Scikit learn vs PCA a partir de SVD aproximada mediante Jacobi-one sided"
   ]
  },
  {
   "cell_type": "code",
   "execution_count": 120,
   "metadata": {
    "scrolled": true
   },
   "outputs": [
    {
     "data": {
      "text/html": [
       "<div>\n",
       "<style scoped>\n",
       "    .dataframe tbody tr th:only-of-type {\n",
       "        vertical-align: middle;\n",
       "    }\n",
       "\n",
       "    .dataframe tbody tr th {\n",
       "        vertical-align: top;\n",
       "    }\n",
       "\n",
       "    .dataframe thead th {\n",
       "        text-align: right;\n",
       "    }\n",
       "</style>\n",
       "<table border=\"1\" class=\"dataframe\">\n",
       "  <thead>\n",
       "    <tr style=\"text-align: right;\">\n",
       "      <th></th>\n",
       "      <th>Seccion</th>\n",
       "      <th>elemento</th>\n",
       "      <th>Igualdad (en valor absoluto)</th>\n",
       "      <th>Max error relativo (con valor absoluto)</th>\n",
       "      <th>Error relativo (con valor absoluto)</th>\n",
       "    </tr>\n",
       "  </thead>\n",
       "  <tbody>\n",
       "    <tr>\n",
       "      <th>0</th>\n",
       "      <td>seccion_8_3</td>\n",
       "      <td>varianza explicada</td>\n",
       "      <td>False</td>\n",
       "      <td>9.162654e-02</td>\n",
       "      <td>[0.0036475491958196334, 0.026424498728868217, ...</td>\n",
       "    </tr>\n",
       "    <tr>\n",
       "      <th>1</th>\n",
       "      <td>seccion_8_3</td>\n",
       "      <td>valores singulares</td>\n",
       "      <td>False</td>\n",
       "      <td>4.480933e-02</td>\n",
       "      <td>[0.001822114547167448, 0.013126102086410973, 0...</td>\n",
       "    </tr>\n",
       "    <tr>\n",
       "      <th>2</th>\n",
       "      <td>seccion_8_3</td>\n",
       "      <td>coeficientes</td>\n",
       "      <td>False</td>\n",
       "      <td>4.461264e+02</td>\n",
       "      <td>[[0.08601135958769845, 0.46657735006960854, 0....</td>\n",
       "    </tr>\n",
       "    <tr>\n",
       "      <th>3</th>\n",
       "      <td>seccion_8_3</td>\n",
       "      <td>componentes principales</td>\n",
       "      <td>False</td>\n",
       "      <td>1.333440e+09</td>\n",
       "      <td>[[2997.078335858114, 370.7015529291581, 1355.9...</td>\n",
       "    </tr>\n",
       "  </tbody>\n",
       "</table>\n",
       "</div>"
      ],
      "text/plain": [
       "       Seccion                 elemento  Igualdad (en valor absoluto)  \\\n",
       "0  seccion_8_3       varianza explicada                         False   \n",
       "1  seccion_8_3       valores singulares                         False   \n",
       "2  seccion_8_3             coeficientes                         False   \n",
       "3  seccion_8_3  componentes principales                         False   \n",
       "\n",
       "   Max error relativo (con valor absoluto)  \\\n",
       "0                             9.162654e-02   \n",
       "1                             4.480933e-02   \n",
       "2                             4.461264e+02   \n",
       "3                             1.333440e+09   \n",
       "\n",
       "                 Error relativo (con valor absoluto)  \n",
       "0  [0.0036475491958196334, 0.026424498728868217, ...  \n",
       "1  [0.001822114547167448, 0.013126102086410973, 0...  \n",
       "2  [[0.08601135958769845, 0.46657735006960854, 0....  \n",
       "3  [[2997.078335858114, 370.7015529291581, 1355.9...  "
      ]
     },
     "execution_count": 120,
     "metadata": {},
     "output_type": "execute_result"
    }
   ],
   "source": [
    "df_seccion_8_3_jac = comparaModelos.compara_resultados_abs_sk_jac(seccion_8_3)\n",
    "df_seccion_8_3_jac.insert(0, \"Seccion\", np.repeat(\"seccion_8_3\",4), True) \n",
    "df_seccion_8_3_jac"
   ]
  },
  {
   "cell_type": "markdown",
   "metadata": {},
   "source": [
    "### Scikit learn vs PCA a partir del algoritmo QR"
   ]
  },
  {
   "cell_type": "code",
   "execution_count": 121,
   "metadata": {},
   "outputs": [
    {
     "data": {
      "text/html": [
       "<div>\n",
       "<style scoped>\n",
       "    .dataframe tbody tr th:only-of-type {\n",
       "        vertical-align: middle;\n",
       "    }\n",
       "\n",
       "    .dataframe tbody tr th {\n",
       "        vertical-align: top;\n",
       "    }\n",
       "\n",
       "    .dataframe thead th {\n",
       "        text-align: right;\n",
       "    }\n",
       "</style>\n",
       "<table border=\"1\" class=\"dataframe\">\n",
       "  <thead>\n",
       "    <tr style=\"text-align: right;\">\n",
       "      <th></th>\n",
       "      <th>Seccion</th>\n",
       "      <th>elemento</th>\n",
       "      <th>Igualdad (en valor absoluto)</th>\n",
       "      <th>Max error relativo (con valor absoluto)</th>\n",
       "      <th>Error relativo (con valor absoluto)</th>\n",
       "    </tr>\n",
       "  </thead>\n",
       "  <tbody>\n",
       "    <tr>\n",
       "      <th>0</th>\n",
       "      <td>seccion_8_3</td>\n",
       "      <td>varianza explicada</td>\n",
       "      <td>True</td>\n",
       "      <td>1.423646e-10</td>\n",
       "      <td>[1.1919334328357301e-14, 1.7198058864426375e-1...</td>\n",
       "    </tr>\n",
       "    <tr>\n",
       "      <th>1</th>\n",
       "      <td>seccion_8_3</td>\n",
       "      <td>eigenvalores</td>\n",
       "      <td>True</td>\n",
       "      <td>1.423720e-10</td>\n",
       "      <td>[4.767725227039295e-15, 9.885083650522588e-15,...</td>\n",
       "    </tr>\n",
       "    <tr>\n",
       "      <th>2</th>\n",
       "      <td>seccion_8_3</td>\n",
       "      <td>coeficientes</td>\n",
       "      <td>False</td>\n",
       "      <td>1.235319e-03</td>\n",
       "      <td>[[7.397299498795681e-15, 4.2259671969557665e-1...</td>\n",
       "    </tr>\n",
       "    <tr>\n",
       "      <th>3</th>\n",
       "      <td>seccion_8_3</td>\n",
       "      <td>componentes principales</td>\n",
       "      <td>False</td>\n",
       "      <td>8.141833e+01</td>\n",
       "      <td>[[8.515406347980643e-12, 4.379788551719323e-11...</td>\n",
       "    </tr>\n",
       "  </tbody>\n",
       "</table>\n",
       "</div>"
      ],
      "text/plain": [
       "       Seccion                 elemento  Igualdad (en valor absoluto)  \\\n",
       "0  seccion_8_3       varianza explicada                          True   \n",
       "1  seccion_8_3             eigenvalores                          True   \n",
       "2  seccion_8_3             coeficientes                         False   \n",
       "3  seccion_8_3  componentes principales                         False   \n",
       "\n",
       "   Max error relativo (con valor absoluto)  \\\n",
       "0                             1.423646e-10   \n",
       "1                             1.423720e-10   \n",
       "2                             1.235319e-03   \n",
       "3                             8.141833e+01   \n",
       "\n",
       "                 Error relativo (con valor absoluto)  \n",
       "0  [1.1919334328357301e-14, 1.7198058864426375e-1...  \n",
       "1  [4.767725227039295e-15, 9.885083650522588e-15,...  \n",
       "2  [[7.397299498795681e-15, 4.2259671969557665e-1...  \n",
       "3  [[8.515406347980643e-12, 4.379788551719323e-11...  "
      ]
     },
     "execution_count": 121,
     "metadata": {},
     "output_type": "execute_result"
    }
   ],
   "source": [
    "df_seccion_8_3_qr = comparaModelos.compara_resultados_abs_sk_qr(seccion_8_3)\n",
    "df_seccion_8_3_qr.insert(0, \"Seccion\", np.repeat(\"seccion_8_3\",4), True) \n",
    "df_seccion_8_3_qr"
   ]
  },
  {
   "cell_type": "code",
   "execution_count": 176,
   "metadata": {},
   "outputs": [
    {
     "data": {
      "text/plain": [
       "5.43886042481056"
      ]
     },
     "execution_count": 176,
     "metadata": {},
     "output_type": "execute_result"
    }
   ],
   "source": [
    "np.linalg.cond(seccion_8_3)"
   ]
  },
  {
   "cell_type": "markdown",
   "metadata": {},
   "source": [
    "## Sección 9. Entorno escolar"
   ]
  },
  {
   "cell_type": "code",
   "execution_count": 122,
   "metadata": {},
   "outputs": [],
   "source": [
    "seccion_9 = df.loc[:, ['p112', 'p113', 'p114', 'p115', 'p116', 'p117','p118','p119', 'p120', 'p121', 'p122', 'p123',\n",
    "                       'p124', 'p125','p126','p127', 'p128', 'p129', 'p130', 'p131']] ###Se seleccionan las preguntas que conforman esta sección"
   ]
  },
  {
   "cell_type": "code",
   "execution_count": 123,
   "metadata": {},
   "outputs": [],
   "source": [
    "####Se escalan los datos.\n",
    "scaler = preprocessing.StandardScaler()\n",
    "\n",
    "seccion_9 = scaler.fit_transform(seccion_9)"
   ]
  },
  {
   "cell_type": "markdown",
   "metadata": {},
   "source": [
    "### Scikit learn vs PCA a partir de SVD de numpy"
   ]
  },
  {
   "cell_type": "code",
   "execution_count": 124,
   "metadata": {},
   "outputs": [
    {
     "data": {
      "text/html": [
       "<div>\n",
       "<style scoped>\n",
       "    .dataframe tbody tr th:only-of-type {\n",
       "        vertical-align: middle;\n",
       "    }\n",
       "\n",
       "    .dataframe tbody tr th {\n",
       "        vertical-align: top;\n",
       "    }\n",
       "\n",
       "    .dataframe thead th {\n",
       "        text-align: right;\n",
       "    }\n",
       "</style>\n",
       "<table border=\"1\" class=\"dataframe\">\n",
       "  <thead>\n",
       "    <tr style=\"text-align: right;\">\n",
       "      <th></th>\n",
       "      <th>Seccion</th>\n",
       "      <th>elemento</th>\n",
       "      <th>Igualdad (en valor absoluto)</th>\n",
       "      <th>Max error relativo (con valor absoluto)</th>\n",
       "      <th>Error relativo (con valor absoluto)</th>\n",
       "    </tr>\n",
       "  </thead>\n",
       "  <tbody>\n",
       "    <tr>\n",
       "      <th>0</th>\n",
       "      <td>seccion_9</td>\n",
       "      <td>varianza explicada</td>\n",
       "      <td>True</td>\n",
       "      <td>1.974544e-16</td>\n",
       "      <td>[1.97454408475595e-16, 0.0, 0.0, 0.0]</td>\n",
       "    </tr>\n",
       "    <tr>\n",
       "      <th>1</th>\n",
       "      <td>seccion_9</td>\n",
       "      <td>valores singulares</td>\n",
       "      <td>True</td>\n",
       "      <td>0.000000e+00</td>\n",
       "      <td>[0.0, 0.0, 0.0, 0.0]</td>\n",
       "    </tr>\n",
       "    <tr>\n",
       "      <th>2</th>\n",
       "      <td>seccion_9</td>\n",
       "      <td>coeficientes</td>\n",
       "      <td>True</td>\n",
       "      <td>0.000000e+00</td>\n",
       "      <td>[[0.0, 0.0, 0.0, 0.0, 0.0, 0.0, 0.0, 0.0, 0.0,...</td>\n",
       "    </tr>\n",
       "    <tr>\n",
       "      <th>3</th>\n",
       "      <td>seccion_9</td>\n",
       "      <td>componentes principales</td>\n",
       "      <td>True</td>\n",
       "      <td>8.235779e-08</td>\n",
       "      <td>[[6.815471630580412e-11, 3.868496048910068e-11...</td>\n",
       "    </tr>\n",
       "  </tbody>\n",
       "</table>\n",
       "</div>"
      ],
      "text/plain": [
       "     Seccion                 elemento  Igualdad (en valor absoluto)  \\\n",
       "0  seccion_9       varianza explicada                          True   \n",
       "1  seccion_9       valores singulares                          True   \n",
       "2  seccion_9             coeficientes                          True   \n",
       "3  seccion_9  componentes principales                          True   \n",
       "\n",
       "   Max error relativo (con valor absoluto)  \\\n",
       "0                             1.974544e-16   \n",
       "1                             0.000000e+00   \n",
       "2                             0.000000e+00   \n",
       "3                             8.235779e-08   \n",
       "\n",
       "                 Error relativo (con valor absoluto)  \n",
       "0              [1.97454408475595e-16, 0.0, 0.0, 0.0]  \n",
       "1                               [0.0, 0.0, 0.0, 0.0]  \n",
       "2  [[0.0, 0.0, 0.0, 0.0, 0.0, 0.0, 0.0, 0.0, 0.0,...  \n",
       "3  [[6.815471630580412e-11, 3.868496048910068e-11...  "
      ]
     },
     "execution_count": 124,
     "metadata": {},
     "output_type": "execute_result"
    }
   ],
   "source": [
    "df_seccion_9 = comparaModelos.compara_resultados_abs_sk_np(seccion_9)\n",
    "df_seccion_9.insert(0, \"Seccion\", np.repeat(\"seccion_9\",4), True) \n",
    "df_seccion_9"
   ]
  },
  {
   "cell_type": "markdown",
   "metadata": {},
   "source": [
    "### Scikit learn vs PCA a partir de SVD aproximada mediante Jacobi-one sided"
   ]
  },
  {
   "cell_type": "code",
   "execution_count": 125,
   "metadata": {
    "scrolled": true
   },
   "outputs": [
    {
     "data": {
      "text/html": [
       "<div>\n",
       "<style scoped>\n",
       "    .dataframe tbody tr th:only-of-type {\n",
       "        vertical-align: middle;\n",
       "    }\n",
       "\n",
       "    .dataframe tbody tr th {\n",
       "        vertical-align: top;\n",
       "    }\n",
       "\n",
       "    .dataframe thead th {\n",
       "        text-align: right;\n",
       "    }\n",
       "</style>\n",
       "<table border=\"1\" class=\"dataframe\">\n",
       "  <thead>\n",
       "    <tr style=\"text-align: right;\">\n",
       "      <th></th>\n",
       "      <th>Seccion</th>\n",
       "      <th>elemento</th>\n",
       "      <th>Igualdad (en valor absoluto)</th>\n",
       "      <th>Max error relativo (con valor absoluto)</th>\n",
       "      <th>Error relativo (con valor absoluto)</th>\n",
       "    </tr>\n",
       "  </thead>\n",
       "  <tbody>\n",
       "    <tr>\n",
       "      <th>0</th>\n",
       "      <td>seccion_9</td>\n",
       "      <td>varianza explicada</td>\n",
       "      <td>False</td>\n",
       "      <td>9.266506e-02</td>\n",
       "      <td>[0.0926650607573313, 0.05451657585589045, 0.08...</td>\n",
       "    </tr>\n",
       "    <tr>\n",
       "      <th>1</th>\n",
       "      <td>seccion_9</td>\n",
       "      <td>valores singulares</td>\n",
       "      <td>False</td>\n",
       "      <td>4.530620e-02</td>\n",
       "      <td>[0.04530620430442938, 0.02764028048046374, 0.0...</td>\n",
       "    </tr>\n",
       "    <tr>\n",
       "      <th>2</th>\n",
       "      <td>seccion_9</td>\n",
       "      <td>coeficientes</td>\n",
       "      <td>False</td>\n",
       "      <td>5.716033e+01</td>\n",
       "      <td>[[0.19766023612332118, 57.16033341125681, 0.20...</td>\n",
       "    </tr>\n",
       "    <tr>\n",
       "      <th>3</th>\n",
       "      <td>seccion_9</td>\n",
       "      <td>componentes principales</td>\n",
       "      <td>False</td>\n",
       "      <td>1.141240e+09</td>\n",
       "      <td>[[522.5822299432131, 1202.785365743722, 6182.9...</td>\n",
       "    </tr>\n",
       "  </tbody>\n",
       "</table>\n",
       "</div>"
      ],
      "text/plain": [
       "     Seccion                 elemento  Igualdad (en valor absoluto)  \\\n",
       "0  seccion_9       varianza explicada                         False   \n",
       "1  seccion_9       valores singulares                         False   \n",
       "2  seccion_9             coeficientes                         False   \n",
       "3  seccion_9  componentes principales                         False   \n",
       "\n",
       "   Max error relativo (con valor absoluto)  \\\n",
       "0                             9.266506e-02   \n",
       "1                             4.530620e-02   \n",
       "2                             5.716033e+01   \n",
       "3                             1.141240e+09   \n",
       "\n",
       "                 Error relativo (con valor absoluto)  \n",
       "0  [0.0926650607573313, 0.05451657585589045, 0.08...  \n",
       "1  [0.04530620430442938, 0.02764028048046374, 0.0...  \n",
       "2  [[0.19766023612332118, 57.16033341125681, 0.20...  \n",
       "3  [[522.5822299432131, 1202.785365743722, 6182.9...  "
      ]
     },
     "execution_count": 125,
     "metadata": {},
     "output_type": "execute_result"
    }
   ],
   "source": [
    "df_seccion_9_jac = comparaModelos.compara_resultados_abs_sk_jac(seccion_9)\n",
    "df_seccion_9_jac.insert(0, \"Seccion\", np.repeat(\"seccion_9\",4), True) \n",
    "df_seccion_9_jac"
   ]
  },
  {
   "cell_type": "markdown",
   "metadata": {},
   "source": [
    "### Scikit learn vs PCA a partir del algoritmo QR"
   ]
  },
  {
   "cell_type": "code",
   "execution_count": 126,
   "metadata": {},
   "outputs": [
    {
     "data": {
      "text/html": [
       "<div>\n",
       "<style scoped>\n",
       "    .dataframe tbody tr th:only-of-type {\n",
       "        vertical-align: middle;\n",
       "    }\n",
       "\n",
       "    .dataframe tbody tr th {\n",
       "        vertical-align: top;\n",
       "    }\n",
       "\n",
       "    .dataframe thead th {\n",
       "        text-align: right;\n",
       "    }\n",
       "</style>\n",
       "<table border=\"1\" class=\"dataframe\">\n",
       "  <thead>\n",
       "    <tr style=\"text-align: right;\">\n",
       "      <th></th>\n",
       "      <th>Seccion</th>\n",
       "      <th>elemento</th>\n",
       "      <th>Igualdad (en valor absoluto)</th>\n",
       "      <th>Max error relativo (con valor absoluto)</th>\n",
       "      <th>Error relativo (con valor absoluto)</th>\n",
       "    </tr>\n",
       "  </thead>\n",
       "  <tbody>\n",
       "    <tr>\n",
       "      <th>0</th>\n",
       "      <td>seccion_9</td>\n",
       "      <td>varianza explicada</td>\n",
       "      <td>True</td>\n",
       "      <td>1.303488e-12</td>\n",
       "      <td>[1.4019263001767446e-14, 2.356567841867348e-14...</td>\n",
       "    </tr>\n",
       "    <tr>\n",
       "      <th>1</th>\n",
       "      <td>seccion_9</td>\n",
       "      <td>eigenvalores</td>\n",
       "      <td>True</td>\n",
       "      <td>1.313781e-12</td>\n",
       "      <td>[2.4326339732729288e-14, 3.3771760918787334e-1...</td>\n",
       "    </tr>\n",
       "    <tr>\n",
       "      <th>2</th>\n",
       "      <td>seccion_9</td>\n",
       "      <td>coeficientes</td>\n",
       "      <td>False</td>\n",
       "      <td>1.481188e-05</td>\n",
       "      <td>[[1.4607206122587314e-14, 1.3211890052751638e-...</td>\n",
       "    </tr>\n",
       "    <tr>\n",
       "      <th>3</th>\n",
       "      <td>seccion_9</td>\n",
       "      <td>componentes principales</td>\n",
       "      <td>False</td>\n",
       "      <td>2.616843e-01</td>\n",
       "      <td>[[6.809677847444685e-11, 3.870338770668134e-11...</td>\n",
       "    </tr>\n",
       "  </tbody>\n",
       "</table>\n",
       "</div>"
      ],
      "text/plain": [
       "     Seccion                 elemento  Igualdad (en valor absoluto)  \\\n",
       "0  seccion_9       varianza explicada                          True   \n",
       "1  seccion_9             eigenvalores                          True   \n",
       "2  seccion_9             coeficientes                         False   \n",
       "3  seccion_9  componentes principales                         False   \n",
       "\n",
       "   Max error relativo (con valor absoluto)  \\\n",
       "0                             1.303488e-12   \n",
       "1                             1.313781e-12   \n",
       "2                             1.481188e-05   \n",
       "3                             2.616843e-01   \n",
       "\n",
       "                 Error relativo (con valor absoluto)  \n",
       "0  [1.4019263001767446e-14, 2.356567841867348e-14...  \n",
       "1  [2.4326339732729288e-14, 3.3771760918787334e-1...  \n",
       "2  [[1.4607206122587314e-14, 1.3211890052751638e-...  \n",
       "3  [[6.809677847444685e-11, 3.870338770668134e-11...  "
      ]
     },
     "execution_count": 126,
     "metadata": {},
     "output_type": "execute_result"
    }
   ],
   "source": [
    "df_seccion_9_qr = comparaModelos.compara_resultados_abs_sk_qr(seccion_9)\n",
    "df_seccion_9_qr.insert(0, \"Seccion\", np.repeat(\"seccion_9\",4), True) \n",
    "df_seccion_9_qr"
   ]
  },
  {
   "cell_type": "code",
   "execution_count": 177,
   "metadata": {},
   "outputs": [
    {
     "data": {
      "text/plain": [
       "4.856002780596158"
      ]
     },
     "execution_count": 177,
     "metadata": {},
     "output_type": "execute_result"
    }
   ],
   "source": [
    "np.linalg.cond(seccion_9)"
   ]
  },
  {
   "cell_type": "markdown",
   "metadata": {},
   "source": [
    "# Sección 10. Entorno familiar"
   ]
  },
  {
   "cell_type": "markdown",
   "metadata": {},
   "source": [
    "## 10.1. Entorno familiar"
   ]
  },
  {
   "cell_type": "code",
   "execution_count": 127,
   "metadata": {},
   "outputs": [],
   "source": [
    "seccion_10_1 = df.loc[:, ['p132', 'p133', 'p134', 'p135', 'p136', 'p137', 'p138', 'p139', 'p140']\n",
    "                     ] ###Se seleccionan las preguntas que conforman esta sección"
   ]
  },
  {
   "cell_type": "code",
   "execution_count": 128,
   "metadata": {},
   "outputs": [],
   "source": [
    "####Se escalan los datos.\n",
    "scaler = preprocessing.StandardScaler()\n",
    "\n",
    "seccion_10_1 = scaler.fit_transform(seccion_10_1)"
   ]
  },
  {
   "cell_type": "markdown",
   "metadata": {},
   "source": [
    "### Scikit learn vs PCA a partir de SVD de numpy"
   ]
  },
  {
   "cell_type": "code",
   "execution_count": 129,
   "metadata": {},
   "outputs": [
    {
     "data": {
      "text/html": [
       "<div>\n",
       "<style scoped>\n",
       "    .dataframe tbody tr th:only-of-type {\n",
       "        vertical-align: middle;\n",
       "    }\n",
       "\n",
       "    .dataframe tbody tr th {\n",
       "        vertical-align: top;\n",
       "    }\n",
       "\n",
       "    .dataframe thead th {\n",
       "        text-align: right;\n",
       "    }\n",
       "</style>\n",
       "<table border=\"1\" class=\"dataframe\">\n",
       "  <thead>\n",
       "    <tr style=\"text-align: right;\">\n",
       "      <th></th>\n",
       "      <th>Seccion</th>\n",
       "      <th>elemento</th>\n",
       "      <th>Igualdad (en valor absoluto)</th>\n",
       "      <th>Max error relativo (con valor absoluto)</th>\n",
       "      <th>Error relativo (con valor absoluto)</th>\n",
       "    </tr>\n",
       "  </thead>\n",
       "  <tbody>\n",
       "    <tr>\n",
       "      <th>0</th>\n",
       "      <td>seccion_10_1</td>\n",
       "      <td>varianza explicada</td>\n",
       "      <td>True</td>\n",
       "      <td>1.406767e-16</td>\n",
       "      <td>[0.0, 0.0, 0.0, 1.4067672183145414e-16]</td>\n",
       "    </tr>\n",
       "    <tr>\n",
       "      <th>1</th>\n",
       "      <td>seccion_10_1</td>\n",
       "      <td>valores singulares</td>\n",
       "      <td>True</td>\n",
       "      <td>0.000000e+00</td>\n",
       "      <td>[0.0, 0.0, 0.0, 0.0]</td>\n",
       "    </tr>\n",
       "    <tr>\n",
       "      <th>2</th>\n",
       "      <td>seccion_10_1</td>\n",
       "      <td>coeficientes</td>\n",
       "      <td>True</td>\n",
       "      <td>0.000000e+00</td>\n",
       "      <td>[[0.0, 0.0, 0.0, 0.0, 0.0, 0.0, 0.0, 0.0, 0.0]...</td>\n",
       "    </tr>\n",
       "    <tr>\n",
       "      <th>3</th>\n",
       "      <td>seccion_10_1</td>\n",
       "      <td>componentes principales</td>\n",
       "      <td>True</td>\n",
       "      <td>8.505764e-09</td>\n",
       "      <td>[[4.195470997628621e-11, 3.148937401122182e-11...</td>\n",
       "    </tr>\n",
       "  </tbody>\n",
       "</table>\n",
       "</div>"
      ],
      "text/plain": [
       "        Seccion                 elemento  Igualdad (en valor absoluto)  \\\n",
       "0  seccion_10_1       varianza explicada                          True   \n",
       "1  seccion_10_1       valores singulares                          True   \n",
       "2  seccion_10_1             coeficientes                          True   \n",
       "3  seccion_10_1  componentes principales                          True   \n",
       "\n",
       "   Max error relativo (con valor absoluto)  \\\n",
       "0                             1.406767e-16   \n",
       "1                             0.000000e+00   \n",
       "2                             0.000000e+00   \n",
       "3                             8.505764e-09   \n",
       "\n",
       "                 Error relativo (con valor absoluto)  \n",
       "0            [0.0, 0.0, 0.0, 1.4067672183145414e-16]  \n",
       "1                               [0.0, 0.0, 0.0, 0.0]  \n",
       "2  [[0.0, 0.0, 0.0, 0.0, 0.0, 0.0, 0.0, 0.0, 0.0]...  \n",
       "3  [[4.195470997628621e-11, 3.148937401122182e-11...  "
      ]
     },
     "execution_count": 129,
     "metadata": {},
     "output_type": "execute_result"
    }
   ],
   "source": [
    "df_seccion_10_1 = comparaModelos.compara_resultados_abs_sk_np(seccion_10_1)\n",
    "df_seccion_10_1.insert(0, \"Seccion\", np.repeat(\"seccion_10_1\",4), True) \n",
    "df_seccion_10_1"
   ]
  },
  {
   "cell_type": "markdown",
   "metadata": {},
   "source": [
    "### Scikit learn vs PCA a partir de SVD aproximada mediante Jacobi-one sided"
   ]
  },
  {
   "cell_type": "code",
   "execution_count": 130,
   "metadata": {
    "scrolled": true
   },
   "outputs": [
    {
     "data": {
      "text/html": [
       "<div>\n",
       "<style scoped>\n",
       "    .dataframe tbody tr th:only-of-type {\n",
       "        vertical-align: middle;\n",
       "    }\n",
       "\n",
       "    .dataframe tbody tr th {\n",
       "        vertical-align: top;\n",
       "    }\n",
       "\n",
       "    .dataframe thead th {\n",
       "        text-align: right;\n",
       "    }\n",
       "</style>\n",
       "<table border=\"1\" class=\"dataframe\">\n",
       "  <thead>\n",
       "    <tr style=\"text-align: right;\">\n",
       "      <th></th>\n",
       "      <th>Seccion</th>\n",
       "      <th>elemento</th>\n",
       "      <th>Igualdad (en valor absoluto)</th>\n",
       "      <th>Max error relativo (con valor absoluto)</th>\n",
       "      <th>Error relativo (con valor absoluto)</th>\n",
       "    </tr>\n",
       "  </thead>\n",
       "  <tbody>\n",
       "    <tr>\n",
       "      <th>0</th>\n",
       "      <td>seccion_10_1</td>\n",
       "      <td>varianza explicada</td>\n",
       "      <td>False</td>\n",
       "      <td>3.059724e-02</td>\n",
       "      <td>[0.03059723734285997, 0.010807358290411975, 0....</td>\n",
       "    </tr>\n",
       "    <tr>\n",
       "      <th>1</th>\n",
       "      <td>seccion_10_1</td>\n",
       "      <td>valores singulares</td>\n",
       "      <td>False</td>\n",
       "      <td>1.518335e-02</td>\n",
       "      <td>[0.015183351588663728, 0.005389157635164663, 0...</td>\n",
       "    </tr>\n",
       "    <tr>\n",
       "      <th>2</th>\n",
       "      <td>seccion_10_1</td>\n",
       "      <td>coeficientes</td>\n",
       "      <td>False</td>\n",
       "      <td>2.153746e+01</td>\n",
       "      <td>[[0.46815517125038325, 0.21144397523613703, 0....</td>\n",
       "    </tr>\n",
       "    <tr>\n",
       "      <th>3</th>\n",
       "      <td>seccion_10_1</td>\n",
       "      <td>componentes principales</td>\n",
       "      <td>False</td>\n",
       "      <td>1.442623e+08</td>\n",
       "      <td>[[1390.2547512857423, 9489.941773978617, 114.9...</td>\n",
       "    </tr>\n",
       "  </tbody>\n",
       "</table>\n",
       "</div>"
      ],
      "text/plain": [
       "        Seccion                 elemento  Igualdad (en valor absoluto)  \\\n",
       "0  seccion_10_1       varianza explicada                         False   \n",
       "1  seccion_10_1       valores singulares                         False   \n",
       "2  seccion_10_1             coeficientes                         False   \n",
       "3  seccion_10_1  componentes principales                         False   \n",
       "\n",
       "   Max error relativo (con valor absoluto)  \\\n",
       "0                             3.059724e-02   \n",
       "1                             1.518335e-02   \n",
       "2                             2.153746e+01   \n",
       "3                             1.442623e+08   \n",
       "\n",
       "                 Error relativo (con valor absoluto)  \n",
       "0  [0.03059723734285997, 0.010807358290411975, 0....  \n",
       "1  [0.015183351588663728, 0.005389157635164663, 0...  \n",
       "2  [[0.46815517125038325, 0.21144397523613703, 0....  \n",
       "3  [[1390.2547512857423, 9489.941773978617, 114.9...  "
      ]
     },
     "execution_count": 130,
     "metadata": {},
     "output_type": "execute_result"
    }
   ],
   "source": [
    "df_seccion_10_1_jac = comparaModelos.compara_resultados_abs_sk_jac(seccion_10_1)\n",
    "df_seccion_10_1_jac.insert(0, \"Seccion\", np.repeat(\"seccion_10_1\",4), True) \n",
    "df_seccion_10_1_jac"
   ]
  },
  {
   "cell_type": "markdown",
   "metadata": {},
   "source": [
    "### Scikit learn vs PCA a partir del algoritmo QR"
   ]
  },
  {
   "cell_type": "code",
   "execution_count": 131,
   "metadata": {},
   "outputs": [
    {
     "data": {
      "text/html": [
       "<div>\n",
       "<style scoped>\n",
       "    .dataframe tbody tr th:only-of-type {\n",
       "        vertical-align: middle;\n",
       "    }\n",
       "\n",
       "    .dataframe tbody tr th {\n",
       "        vertical-align: top;\n",
       "    }\n",
       "\n",
       "    .dataframe thead th {\n",
       "        text-align: right;\n",
       "    }\n",
       "</style>\n",
       "<table border=\"1\" class=\"dataframe\">\n",
       "  <thead>\n",
       "    <tr style=\"text-align: right;\">\n",
       "      <th></th>\n",
       "      <th>Seccion</th>\n",
       "      <th>elemento</th>\n",
       "      <th>Igualdad (en valor absoluto)</th>\n",
       "      <th>Max error relativo (con valor absoluto)</th>\n",
       "      <th>Error relativo (con valor absoluto)</th>\n",
       "    </tr>\n",
       "  </thead>\n",
       "  <tbody>\n",
       "    <tr>\n",
       "      <th>0</th>\n",
       "      <td>seccion_10_1</td>\n",
       "      <td>varianza explicada</td>\n",
       "      <td>True</td>\n",
       "      <td>1.367378e-13</td>\n",
       "      <td>[3.3980665033393925e-14, 4.7023532983460735e-1...</td>\n",
       "    </tr>\n",
       "    <tr>\n",
       "      <th>1</th>\n",
       "      <td>seccion_10_1</td>\n",
       "      <td>eigenvalores</td>\n",
       "      <td>True</td>\n",
       "      <td>1.988227e-13</td>\n",
       "      <td>[2.7981302072965103e-14, 1.4892323203429928e-1...</td>\n",
       "    </tr>\n",
       "    <tr>\n",
       "      <th>2</th>\n",
       "      <td>seccion_10_1</td>\n",
       "      <td>coeficientes</td>\n",
       "      <td>True</td>\n",
       "      <td>3.650434e-10</td>\n",
       "      <td>[[1.0482253215064124e-13, 4.779708528034512e-1...</td>\n",
       "    </tr>\n",
       "    <tr>\n",
       "      <th>3</th>\n",
       "      <td>seccion_10_1</td>\n",
       "      <td>componentes principales</td>\n",
       "      <td>True</td>\n",
       "      <td>1.020546e-06</td>\n",
       "      <td>[[4.205808927763966e-11, 3.134697043437474e-11...</td>\n",
       "    </tr>\n",
       "  </tbody>\n",
       "</table>\n",
       "</div>"
      ],
      "text/plain": [
       "        Seccion                 elemento  Igualdad (en valor absoluto)  \\\n",
       "0  seccion_10_1       varianza explicada                          True   \n",
       "1  seccion_10_1             eigenvalores                          True   \n",
       "2  seccion_10_1             coeficientes                          True   \n",
       "3  seccion_10_1  componentes principales                          True   \n",
       "\n",
       "   Max error relativo (con valor absoluto)  \\\n",
       "0                             1.367378e-13   \n",
       "1                             1.988227e-13   \n",
       "2                             3.650434e-10   \n",
       "3                             1.020546e-06   \n",
       "\n",
       "                 Error relativo (con valor absoluto)  \n",
       "0  [3.3980665033393925e-14, 4.7023532983460735e-1...  \n",
       "1  [2.7981302072965103e-14, 1.4892323203429928e-1...  \n",
       "2  [[1.0482253215064124e-13, 4.779708528034512e-1...  \n",
       "3  [[4.205808927763966e-11, 3.134697043437474e-11...  "
      ]
     },
     "execution_count": 131,
     "metadata": {},
     "output_type": "execute_result"
    }
   ],
   "source": [
    "df_seccion_10_1_qr = comparaModelos.compara_resultados_abs_sk_qr(seccion_10_1)\n",
    "df_seccion_10_1_qr.insert(0, \"Seccion\", np.repeat(\"seccion_10_1\",4), True) \n",
    "df_seccion_10_1_qr"
   ]
  },
  {
   "cell_type": "markdown",
   "metadata": {},
   "source": [
    "## 10.2. En tu casa, ¿cuentas con los siguientes bienes y servicios?"
   ]
  },
  {
   "cell_type": "code",
   "execution_count": 132,
   "metadata": {},
   "outputs": [],
   "source": [
    "seccion_10_2 = df.loc[:, ['p141', 'p142', 'p143', 'p144', 'p145', 'p146', 'p147', 'p148', 'p149', 'p150', 'p151', 'p152',\n",
    "                          'p153', 'p154']] ###Se seleccionan las preguntas que conforman esta sección"
   ]
  },
  {
   "cell_type": "code",
   "execution_count": 133,
   "metadata": {},
   "outputs": [],
   "source": [
    "####Se escalan los datos.\n",
    "scaler = preprocessing.StandardScaler()\n",
    "\n",
    "seccion_10_2 = scaler.fit_transform(seccion_10_2)"
   ]
  },
  {
   "cell_type": "markdown",
   "metadata": {},
   "source": [
    "### Scikit learn vs PCA a partir de SVD de numpy"
   ]
  },
  {
   "cell_type": "code",
   "execution_count": 134,
   "metadata": {},
   "outputs": [
    {
     "data": {
      "text/html": [
       "<div>\n",
       "<style scoped>\n",
       "    .dataframe tbody tr th:only-of-type {\n",
       "        vertical-align: middle;\n",
       "    }\n",
       "\n",
       "    .dataframe tbody tr th {\n",
       "        vertical-align: top;\n",
       "    }\n",
       "\n",
       "    .dataframe thead th {\n",
       "        text-align: right;\n",
       "    }\n",
       "</style>\n",
       "<table border=\"1\" class=\"dataframe\">\n",
       "  <thead>\n",
       "    <tr style=\"text-align: right;\">\n",
       "      <th></th>\n",
       "      <th>Seccion</th>\n",
       "      <th>elemento</th>\n",
       "      <th>Igualdad (en valor absoluto)</th>\n",
       "      <th>Max error relativo (con valor absoluto)</th>\n",
       "      <th>Error relativo (con valor absoluto)</th>\n",
       "    </tr>\n",
       "  </thead>\n",
       "  <tbody>\n",
       "    <tr>\n",
       "      <th>0</th>\n",
       "      <td>seccion_10_2</td>\n",
       "      <td>varianza explicada</td>\n",
       "      <td>True</td>\n",
       "      <td>1.899619e-16</td>\n",
       "      <td>[0.0, 0.0, 0.0, 1.8996190611736057e-16, 0.0]</td>\n",
       "    </tr>\n",
       "    <tr>\n",
       "      <th>1</th>\n",
       "      <td>seccion_10_2</td>\n",
       "      <td>valores singulares</td>\n",
       "      <td>True</td>\n",
       "      <td>0.000000e+00</td>\n",
       "      <td>[0.0, 0.0, 0.0, 0.0, 0.0]</td>\n",
       "    </tr>\n",
       "    <tr>\n",
       "      <th>2</th>\n",
       "      <td>seccion_10_2</td>\n",
       "      <td>coeficientes</td>\n",
       "      <td>True</td>\n",
       "      <td>0.000000e+00</td>\n",
       "      <td>[[0.0, 0.0, 0.0, 0.0, 0.0, 0.0, 0.0, 0.0, 0.0,...</td>\n",
       "    </tr>\n",
       "    <tr>\n",
       "      <th>3</th>\n",
       "      <td>seccion_10_2</td>\n",
       "      <td>componentes principales</td>\n",
       "      <td>True</td>\n",
       "      <td>1.206179e-08</td>\n",
       "      <td>[[5.6704139146781604e-11, 2.9183583516211564e-...</td>\n",
       "    </tr>\n",
       "  </tbody>\n",
       "</table>\n",
       "</div>"
      ],
      "text/plain": [
       "        Seccion                 elemento  Igualdad (en valor absoluto)  \\\n",
       "0  seccion_10_2       varianza explicada                          True   \n",
       "1  seccion_10_2       valores singulares                          True   \n",
       "2  seccion_10_2             coeficientes                          True   \n",
       "3  seccion_10_2  componentes principales                          True   \n",
       "\n",
       "   Max error relativo (con valor absoluto)  \\\n",
       "0                             1.899619e-16   \n",
       "1                             0.000000e+00   \n",
       "2                             0.000000e+00   \n",
       "3                             1.206179e-08   \n",
       "\n",
       "                 Error relativo (con valor absoluto)  \n",
       "0       [0.0, 0.0, 0.0, 1.8996190611736057e-16, 0.0]  \n",
       "1                          [0.0, 0.0, 0.0, 0.0, 0.0]  \n",
       "2  [[0.0, 0.0, 0.0, 0.0, 0.0, 0.0, 0.0, 0.0, 0.0,...  \n",
       "3  [[5.6704139146781604e-11, 2.9183583516211564e-...  "
      ]
     },
     "execution_count": 134,
     "metadata": {},
     "output_type": "execute_result"
    }
   ],
   "source": [
    "df_seccion_10_2 = comparaModelos.compara_resultados_abs_sk_np(seccion_10_2)\n",
    "df_seccion_10_2.insert(0, \"Seccion\", np.repeat(\"seccion_10_2\",4), True) \n",
    "df_seccion_10_2"
   ]
  },
  {
   "cell_type": "markdown",
   "metadata": {},
   "source": [
    "### Scikit learn vs PCA a partir de SVD aproximada mediante Jacobi-one sided"
   ]
  },
  {
   "cell_type": "code",
   "execution_count": 135,
   "metadata": {
    "scrolled": true
   },
   "outputs": [
    {
     "data": {
      "text/html": [
       "<div>\n",
       "<style scoped>\n",
       "    .dataframe tbody tr th:only-of-type {\n",
       "        vertical-align: middle;\n",
       "    }\n",
       "\n",
       "    .dataframe tbody tr th {\n",
       "        vertical-align: top;\n",
       "    }\n",
       "\n",
       "    .dataframe thead th {\n",
       "        text-align: right;\n",
       "    }\n",
       "</style>\n",
       "<table border=\"1\" class=\"dataframe\">\n",
       "  <thead>\n",
       "    <tr style=\"text-align: right;\">\n",
       "      <th></th>\n",
       "      <th>Seccion</th>\n",
       "      <th>elemento</th>\n",
       "      <th>Igualdad (en valor absoluto)</th>\n",
       "      <th>Max error relativo (con valor absoluto)</th>\n",
       "      <th>Error relativo (con valor absoluto)</th>\n",
       "    </tr>\n",
       "  </thead>\n",
       "  <tbody>\n",
       "    <tr>\n",
       "      <th>0</th>\n",
       "      <td>seccion_10_2</td>\n",
       "      <td>varianza explicada</td>\n",
       "      <td>False</td>\n",
       "      <td>4.577027e-01</td>\n",
       "      <td>[0.4156117506365731, 0.4577027215644075, 0.006...</td>\n",
       "    </tr>\n",
       "    <tr>\n",
       "      <th>1</th>\n",
       "      <td>seccion_10_2</td>\n",
       "      <td>valores singulares</td>\n",
       "      <td>False</td>\n",
       "      <td>2.635916e-01</td>\n",
       "      <td>[0.18979483552273013, 0.2635916360906893, 0.00...</td>\n",
       "    </tr>\n",
       "    <tr>\n",
       "      <th>2</th>\n",
       "      <td>seccion_10_2</td>\n",
       "      <td>coeficientes</td>\n",
       "      <td>False</td>\n",
       "      <td>1.504133e+02</td>\n",
       "      <td>[[0.4340216516319654, 2.866630510233668, 0.077...</td>\n",
       "    </tr>\n",
       "    <tr>\n",
       "      <th>3</th>\n",
       "      <td>seccion_10_2</td>\n",
       "      <td>componentes principales</td>\n",
       "      <td>False</td>\n",
       "      <td>1.860172e+09</td>\n",
       "      <td>[[9771.063718072663, 3225.2562478124623, 5519....</td>\n",
       "    </tr>\n",
       "  </tbody>\n",
       "</table>\n",
       "</div>"
      ],
      "text/plain": [
       "        Seccion                 elemento  Igualdad (en valor absoluto)  \\\n",
       "0  seccion_10_2       varianza explicada                         False   \n",
       "1  seccion_10_2       valores singulares                         False   \n",
       "2  seccion_10_2             coeficientes                         False   \n",
       "3  seccion_10_2  componentes principales                         False   \n",
       "\n",
       "   Max error relativo (con valor absoluto)  \\\n",
       "0                             4.577027e-01   \n",
       "1                             2.635916e-01   \n",
       "2                             1.504133e+02   \n",
       "3                             1.860172e+09   \n",
       "\n",
       "                 Error relativo (con valor absoluto)  \n",
       "0  [0.4156117506365731, 0.4577027215644075, 0.006...  \n",
       "1  [0.18979483552273013, 0.2635916360906893, 0.00...  \n",
       "2  [[0.4340216516319654, 2.866630510233668, 0.077...  \n",
       "3  [[9771.063718072663, 3225.2562478124623, 5519....  "
      ]
     },
     "execution_count": 135,
     "metadata": {},
     "output_type": "execute_result"
    }
   ],
   "source": [
    "df_seccion_10_2_jac = comparaModelos.compara_resultados_abs_sk_jac(seccion_10_2)\n",
    "df_seccion_10_2_jac.insert(0, \"Seccion\", np.repeat(\"seccion_10_2\",4), True) \n",
    "df_seccion_10_2_jac"
   ]
  },
  {
   "cell_type": "markdown",
   "metadata": {},
   "source": [
    "### Scikit learn vs PCA a partir del algoritmo QR"
   ]
  },
  {
   "cell_type": "code",
   "execution_count": 136,
   "metadata": {},
   "outputs": [
    {
     "data": {
      "text/html": [
       "<div>\n",
       "<style scoped>\n",
       "    .dataframe tbody tr th:only-of-type {\n",
       "        vertical-align: middle;\n",
       "    }\n",
       "\n",
       "    .dataframe tbody tr th {\n",
       "        vertical-align: top;\n",
       "    }\n",
       "\n",
       "    .dataframe thead th {\n",
       "        text-align: right;\n",
       "    }\n",
       "</style>\n",
       "<table border=\"1\" class=\"dataframe\">\n",
       "  <thead>\n",
       "    <tr style=\"text-align: right;\">\n",
       "      <th></th>\n",
       "      <th>Seccion</th>\n",
       "      <th>elemento</th>\n",
       "      <th>Igualdad (en valor absoluto)</th>\n",
       "      <th>Max error relativo (con valor absoluto)</th>\n",
       "      <th>Error relativo (con valor absoluto)</th>\n",
       "    </tr>\n",
       "  </thead>\n",
       "  <tbody>\n",
       "    <tr>\n",
       "      <th>0</th>\n",
       "      <td>seccion_10_2</td>\n",
       "      <td>varianza explicada</td>\n",
       "      <td>True</td>\n",
       "      <td>8.199142e-11</td>\n",
       "      <td>[8.49531232449764e-15, 7.378068021844639e-15, ...</td>\n",
       "    </tr>\n",
       "    <tr>\n",
       "      <th>1</th>\n",
       "      <td>seccion_10_2</td>\n",
       "      <td>eigenvalores</td>\n",
       "      <td>True</td>\n",
       "      <td>8.198896e-11</td>\n",
       "      <td>[5.990604692178757e-15, 4.864651556989874e-15,...</td>\n",
       "    </tr>\n",
       "    <tr>\n",
       "      <th>2</th>\n",
       "      <td>seccion_10_2</td>\n",
       "      <td>coeficientes</td>\n",
       "      <td>False</td>\n",
       "      <td>1.065506e-02</td>\n",
       "      <td>[[1.7776360554184003e-14, 3.525922210540173e-1...</td>\n",
       "    </tr>\n",
       "    <tr>\n",
       "      <th>3</th>\n",
       "      <td>seccion_10_2</td>\n",
       "      <td>componentes principales</td>\n",
       "      <td>False</td>\n",
       "      <td>2.016112e+00</td>\n",
       "      <td>[[5.667875817810058e-11, 2.4934963929074734e-1...</td>\n",
       "    </tr>\n",
       "  </tbody>\n",
       "</table>\n",
       "</div>"
      ],
      "text/plain": [
       "        Seccion                 elemento  Igualdad (en valor absoluto)  \\\n",
       "0  seccion_10_2       varianza explicada                          True   \n",
       "1  seccion_10_2             eigenvalores                          True   \n",
       "2  seccion_10_2             coeficientes                         False   \n",
       "3  seccion_10_2  componentes principales                         False   \n",
       "\n",
       "   Max error relativo (con valor absoluto)  \\\n",
       "0                             8.199142e-11   \n",
       "1                             8.198896e-11   \n",
       "2                             1.065506e-02   \n",
       "3                             2.016112e+00   \n",
       "\n",
       "                 Error relativo (con valor absoluto)  \n",
       "0  [8.49531232449764e-15, 7.378068021844639e-15, ...  \n",
       "1  [5.990604692178757e-15, 4.864651556989874e-15,...  \n",
       "2  [[1.7776360554184003e-14, 3.525922210540173e-1...  \n",
       "3  [[5.667875817810058e-11, 2.4934963929074734e-1...  "
      ]
     },
     "execution_count": 136,
     "metadata": {},
     "output_type": "execute_result"
    }
   ],
   "source": [
    "df_seccion_10_2_qr = comparaModelos.compara_resultados_abs_sk_qr(seccion_10_2)\n",
    "df_seccion_10_2_qr.insert(0, \"Seccion\", np.repeat(\"seccion_10_2\",4), True) \n",
    "df_seccion_10_2_qr"
   ]
  },
  {
   "cell_type": "code",
   "execution_count": 178,
   "metadata": {},
   "outputs": [
    {
     "data": {
      "text/plain": [
       "3.338708924052618"
      ]
     },
     "execution_count": 178,
     "metadata": {},
     "output_type": "execute_result"
    }
   ],
   "source": [
    "np.linalg.cond(seccion_10_2)"
   ]
  },
  {
   "cell_type": "markdown",
   "metadata": {},
   "source": [
    "# Resumen de resultados"
   ]
  },
  {
   "cell_type": "markdown",
   "metadata": {},
   "source": [
    "### Scikit learn vs PCA a partir de SVD de numpy"
   ]
  },
  {
   "cell_type": "markdown",
   "metadata": {},
   "source": [
    "Obtenemos las comparaciones faltantes con valores absolutos:"
   ]
  },
  {
   "cell_type": "code",
   "execution_count": 137,
   "metadata": {},
   "outputs": [],
   "source": [
    "df_seccion_3 = comparaModelos.compara_resultados_abs_sk_np(seccion_3)\n",
    "df_seccion_3.insert(0, \"Seccion\",np.repeat(\"seccion_3\",4), True) "
   ]
  },
  {
   "cell_type": "code",
   "execution_count": 138,
   "metadata": {
    "scrolled": true
   },
   "outputs": [],
   "source": [
    "sk_vs_np = [df_seccion_1,df_seccion_2,df_seccion_3, df_seccion_4, df_seccion_5_1,\n",
    " df_seccion_5_2, df_seccion_6, df_seccion_7_1, df_seccion_7_2,\n",
    " df_seccion_8_1, df_seccion_8_2, df_seccion_8_3,\n",
    " df_seccion_9, df_seccion_10_1, df_seccion_10_2]\n",
    "df_sk_vs_np = pd.concat(sk_vs_np)"
   ]
  },
  {
   "cell_type": "markdown",
   "metadata": {},
   "source": [
    "#### Valores singulares"
   ]
  },
  {
   "cell_type": "markdown",
   "metadata": {},
   "source": [
    "Veamos los resultados de la comparación para los valores singulares:"
   ]
  },
  {
   "cell_type": "code",
   "execution_count": 139,
   "metadata": {},
   "outputs": [
    {
     "data": {
      "text/html": [
       "<div>\n",
       "<style scoped>\n",
       "    .dataframe tbody tr th:only-of-type {\n",
       "        vertical-align: middle;\n",
       "    }\n",
       "\n",
       "    .dataframe tbody tr th {\n",
       "        vertical-align: top;\n",
       "    }\n",
       "\n",
       "    .dataframe thead th {\n",
       "        text-align: right;\n",
       "    }\n",
       "</style>\n",
       "<table border=\"1\" class=\"dataframe\">\n",
       "  <thead>\n",
       "    <tr style=\"text-align: right;\">\n",
       "      <th></th>\n",
       "      <th>Seccion</th>\n",
       "      <th>elemento</th>\n",
       "      <th>Igualdad (en valor absoluto)</th>\n",
       "      <th>Max error relativo (con valor absoluto)</th>\n",
       "      <th>Error relativo (con valor absoluto)</th>\n",
       "    </tr>\n",
       "  </thead>\n",
       "  <tbody>\n",
       "    <tr>\n",
       "      <th>1</th>\n",
       "      <td>seccion_1</td>\n",
       "      <td>valores singulares</td>\n",
       "      <td>True</td>\n",
       "      <td>0.0</td>\n",
       "      <td>[0.0, 0.0, 0.0]</td>\n",
       "    </tr>\n",
       "    <tr>\n",
       "      <th>1</th>\n",
       "      <td>seccion_2</td>\n",
       "      <td>valores singulares</td>\n",
       "      <td>True</td>\n",
       "      <td>0.0</td>\n",
       "      <td>[0.0, 0.0, 0.0]</td>\n",
       "    </tr>\n",
       "    <tr>\n",
       "      <th>1</th>\n",
       "      <td>seccion_3</td>\n",
       "      <td>valores singulares</td>\n",
       "      <td>True</td>\n",
       "      <td>0.0</td>\n",
       "      <td>[0.0, 0.0]</td>\n",
       "    </tr>\n",
       "    <tr>\n",
       "      <th>1</th>\n",
       "      <td>seccion_4</td>\n",
       "      <td>valores singulares</td>\n",
       "      <td>True</td>\n",
       "      <td>0.0</td>\n",
       "      <td>[0.0, 0.0, 0.0, 0.0, 0.0, 0.0, 0.0, 0.0, 0.0, ...</td>\n",
       "    </tr>\n",
       "    <tr>\n",
       "      <th>1</th>\n",
       "      <td>seccion_5_1</td>\n",
       "      <td>valores singulares</td>\n",
       "      <td>True</td>\n",
       "      <td>0.0</td>\n",
       "      <td>[0.0]</td>\n",
       "    </tr>\n",
       "    <tr>\n",
       "      <th>1</th>\n",
       "      <td>seccion_5_2</td>\n",
       "      <td>valores singulares</td>\n",
       "      <td>True</td>\n",
       "      <td>0.0</td>\n",
       "      <td>[0.0, 0.0]</td>\n",
       "    </tr>\n",
       "    <tr>\n",
       "      <th>1</th>\n",
       "      <td>seccion_6</td>\n",
       "      <td>valores singulares</td>\n",
       "      <td>True</td>\n",
       "      <td>0.0</td>\n",
       "      <td>[0.0, 0.0]</td>\n",
       "    </tr>\n",
       "    <tr>\n",
       "      <th>1</th>\n",
       "      <td>seccion_7_1</td>\n",
       "      <td>valores singulares</td>\n",
       "      <td>True</td>\n",
       "      <td>0.0</td>\n",
       "      <td>[0.0, 0.0, 0.0, 0.0, 0.0, 0.0, 0.0]</td>\n",
       "    </tr>\n",
       "    <tr>\n",
       "      <th>1</th>\n",
       "      <td>seccion_7_2</td>\n",
       "      <td>valores singulares</td>\n",
       "      <td>True</td>\n",
       "      <td>0.0</td>\n",
       "      <td>[0.0, 0.0, 0.0, 0.0, 0.0, 0.0]</td>\n",
       "    </tr>\n",
       "    <tr>\n",
       "      <th>1</th>\n",
       "      <td>seccion_8_1</td>\n",
       "      <td>valores singulares</td>\n",
       "      <td>True</td>\n",
       "      <td>0.0</td>\n",
       "      <td>[0.0, 0.0, 0.0, 0.0]</td>\n",
       "    </tr>\n",
       "    <tr>\n",
       "      <th>1</th>\n",
       "      <td>seccion_8_2</td>\n",
       "      <td>valores singulares</td>\n",
       "      <td>True</td>\n",
       "      <td>0.0</td>\n",
       "      <td>[0.0, 0.0]</td>\n",
       "    </tr>\n",
       "    <tr>\n",
       "      <th>1</th>\n",
       "      <td>seccion_8_3</td>\n",
       "      <td>valores singulares</td>\n",
       "      <td>True</td>\n",
       "      <td>0.0</td>\n",
       "      <td>[0.0, 0.0, 0.0, 0.0, 0.0]</td>\n",
       "    </tr>\n",
       "    <tr>\n",
       "      <th>1</th>\n",
       "      <td>seccion_9</td>\n",
       "      <td>valores singulares</td>\n",
       "      <td>True</td>\n",
       "      <td>0.0</td>\n",
       "      <td>[0.0, 0.0, 0.0, 0.0]</td>\n",
       "    </tr>\n",
       "    <tr>\n",
       "      <th>1</th>\n",
       "      <td>seccion_10_1</td>\n",
       "      <td>valores singulares</td>\n",
       "      <td>True</td>\n",
       "      <td>0.0</td>\n",
       "      <td>[0.0, 0.0, 0.0, 0.0]</td>\n",
       "    </tr>\n",
       "    <tr>\n",
       "      <th>1</th>\n",
       "      <td>seccion_10_2</td>\n",
       "      <td>valores singulares</td>\n",
       "      <td>True</td>\n",
       "      <td>0.0</td>\n",
       "      <td>[0.0, 0.0, 0.0, 0.0, 0.0]</td>\n",
       "    </tr>\n",
       "  </tbody>\n",
       "</table>\n",
       "</div>"
      ],
      "text/plain": [
       "        Seccion            elemento  Igualdad (en valor absoluto)  \\\n",
       "1     seccion_1  valores singulares                          True   \n",
       "1     seccion_2  valores singulares                          True   \n",
       "1     seccion_3  valores singulares                          True   \n",
       "1     seccion_4  valores singulares                          True   \n",
       "1   seccion_5_1  valores singulares                          True   \n",
       "1   seccion_5_2  valores singulares                          True   \n",
       "1     seccion_6  valores singulares                          True   \n",
       "1   seccion_7_1  valores singulares                          True   \n",
       "1   seccion_7_2  valores singulares                          True   \n",
       "1   seccion_8_1  valores singulares                          True   \n",
       "1   seccion_8_2  valores singulares                          True   \n",
       "1   seccion_8_3  valores singulares                          True   \n",
       "1     seccion_9  valores singulares                          True   \n",
       "1  seccion_10_1  valores singulares                          True   \n",
       "1  seccion_10_2  valores singulares                          True   \n",
       "\n",
       "   Max error relativo (con valor absoluto)  \\\n",
       "1                                      0.0   \n",
       "1                                      0.0   \n",
       "1                                      0.0   \n",
       "1                                      0.0   \n",
       "1                                      0.0   \n",
       "1                                      0.0   \n",
       "1                                      0.0   \n",
       "1                                      0.0   \n",
       "1                                      0.0   \n",
       "1                                      0.0   \n",
       "1                                      0.0   \n",
       "1                                      0.0   \n",
       "1                                      0.0   \n",
       "1                                      0.0   \n",
       "1                                      0.0   \n",
       "\n",
       "                 Error relativo (con valor absoluto)  \n",
       "1                                    [0.0, 0.0, 0.0]  \n",
       "1                                    [0.0, 0.0, 0.0]  \n",
       "1                                         [0.0, 0.0]  \n",
       "1  [0.0, 0.0, 0.0, 0.0, 0.0, 0.0, 0.0, 0.0, 0.0, ...  \n",
       "1                                              [0.0]  \n",
       "1                                         [0.0, 0.0]  \n",
       "1                                         [0.0, 0.0]  \n",
       "1                [0.0, 0.0, 0.0, 0.0, 0.0, 0.0, 0.0]  \n",
       "1                     [0.0, 0.0, 0.0, 0.0, 0.0, 0.0]  \n",
       "1                               [0.0, 0.0, 0.0, 0.0]  \n",
       "1                                         [0.0, 0.0]  \n",
       "1                          [0.0, 0.0, 0.0, 0.0, 0.0]  \n",
       "1                               [0.0, 0.0, 0.0, 0.0]  \n",
       "1                               [0.0, 0.0, 0.0, 0.0]  \n",
       "1                          [0.0, 0.0, 0.0, 0.0, 0.0]  "
      ]
     },
     "execution_count": 139,
     "metadata": {},
     "output_type": "execute_result"
    }
   ],
   "source": [
    "# filter valores singulares \n",
    "df_sk_vs_np_val_sing = df_sk_vs_np[df_sk_vs_np['elemento']=='valores singulares']\n",
    "df_sk_vs_np_val_sing"
   ]
  },
  {
   "cell_type": "code",
   "execution_count": 140,
   "metadata": {},
   "outputs": [
    {
     "data": {
      "text/plain": [
       "(15, 5)"
      ]
     },
     "execution_count": 140,
     "metadata": {},
     "output_type": "execute_result"
    }
   ],
   "source": [
    "df_sk_vs_np_val_sing.shape"
   ]
  },
  {
   "cell_type": "markdown",
   "metadata": {},
   "source": [
    "#### Varianza explicada"
   ]
  },
  {
   "cell_type": "markdown",
   "metadata": {},
   "source": [
    "Veamos los resultados de la comparación para la varianza explicada:"
   ]
  },
  {
   "cell_type": "code",
   "execution_count": 141,
   "metadata": {},
   "outputs": [
    {
     "data": {
      "text/html": [
       "<div>\n",
       "<style scoped>\n",
       "    .dataframe tbody tr th:only-of-type {\n",
       "        vertical-align: middle;\n",
       "    }\n",
       "\n",
       "    .dataframe tbody tr th {\n",
       "        vertical-align: top;\n",
       "    }\n",
       "\n",
       "    .dataframe thead th {\n",
       "        text-align: right;\n",
       "    }\n",
       "</style>\n",
       "<table border=\"1\" class=\"dataframe\">\n",
       "  <thead>\n",
       "    <tr style=\"text-align: right;\">\n",
       "      <th></th>\n",
       "      <th>Seccion</th>\n",
       "      <th>elemento</th>\n",
       "      <th>Igualdad (en valor absoluto)</th>\n",
       "      <th>Max error relativo (con valor absoluto)</th>\n",
       "      <th>Error relativo (con valor absoluto)</th>\n",
       "    </tr>\n",
       "  </thead>\n",
       "  <tbody>\n",
       "    <tr>\n",
       "      <th>0</th>\n",
       "      <td>seccion_1</td>\n",
       "      <td>varianza explicada</td>\n",
       "      <td>True</td>\n",
       "      <td>1.845437e-16</td>\n",
       "      <td>[1.8454368235801489e-16, 1.5513265898145355e-1...</td>\n",
       "    </tr>\n",
       "    <tr>\n",
       "      <th>0</th>\n",
       "      <td>seccion_2</td>\n",
       "      <td>varianza explicada</td>\n",
       "      <td>True</td>\n",
       "      <td>0.000000e+00</td>\n",
       "      <td>[0.0, 0.0, 0.0]</td>\n",
       "    </tr>\n",
       "    <tr>\n",
       "      <th>0</th>\n",
       "      <td>seccion_3</td>\n",
       "      <td>varianza explicada</td>\n",
       "      <td>True</td>\n",
       "      <td>1.270989e-16</td>\n",
       "      <td>[0.0, 1.2709886748169263e-16]</td>\n",
       "    </tr>\n",
       "    <tr>\n",
       "      <th>0</th>\n",
       "      <td>seccion_4</td>\n",
       "      <td>varianza explicada</td>\n",
       "      <td>True</td>\n",
       "      <td>3.810244e-16</td>\n",
       "      <td>[1.8163619603877741e-16, 2.6276477052749485e-1...</td>\n",
       "    </tr>\n",
       "    <tr>\n",
       "      <th>0</th>\n",
       "      <td>seccion_5_1</td>\n",
       "      <td>varianza explicada</td>\n",
       "      <td>True</td>\n",
       "      <td>2.971219e-16</td>\n",
       "      <td>[2.9712188186743343e-16]</td>\n",
       "    </tr>\n",
       "    <tr>\n",
       "      <th>0</th>\n",
       "      <td>seccion_5_2</td>\n",
       "      <td>varianza explicada</td>\n",
       "      <td>True</td>\n",
       "      <td>1.873993e-16</td>\n",
       "      <td>[1.873992524757673e-16, 0.0]</td>\n",
       "    </tr>\n",
       "    <tr>\n",
       "      <th>0</th>\n",
       "      <td>seccion_6</td>\n",
       "      <td>varianza explicada</td>\n",
       "      <td>True</td>\n",
       "      <td>1.311963e-16</td>\n",
       "      <td>[0.0, 1.3119626812763805e-16]</td>\n",
       "    </tr>\n",
       "    <tr>\n",
       "      <th>0</th>\n",
       "      <td>seccion_7_1</td>\n",
       "      <td>varianza explicada</td>\n",
       "      <td>True</td>\n",
       "      <td>2.201664e-16</td>\n",
       "      <td>[0.0, 1.1251842512572906e-16, 1.42763830014617...</td>\n",
       "    </tr>\n",
       "    <tr>\n",
       "      <th>0</th>\n",
       "      <td>seccion_7_2</td>\n",
       "      <td>varianza explicada</td>\n",
       "      <td>True</td>\n",
       "      <td>2.178309e-16</td>\n",
       "      <td>[2.178308965095565e-16, 1.2571561853136868e-16...</td>\n",
       "    </tr>\n",
       "    <tr>\n",
       "      <th>0</th>\n",
       "      <td>seccion_8_1</td>\n",
       "      <td>varianza explicada</td>\n",
       "      <td>True</td>\n",
       "      <td>3.055070e-16</td>\n",
       "      <td>[2.444284208275238e-16, 3.055070401062262e-16,...</td>\n",
       "    </tr>\n",
       "    <tr>\n",
       "      <th>0</th>\n",
       "      <td>seccion_8_2</td>\n",
       "      <td>varianza explicada</td>\n",
       "      <td>True</td>\n",
       "      <td>2.083336e-16</td>\n",
       "      <td>[0.0, 2.0833363867212563e-16]</td>\n",
       "    </tr>\n",
       "    <tr>\n",
       "      <th>0</th>\n",
       "      <td>seccion_8_3</td>\n",
       "      <td>varianza explicada</td>\n",
       "      <td>True</td>\n",
       "      <td>1.489917e-16</td>\n",
       "      <td>[1.4899167910446447e-16, 0.0, 0.0, 0.0, 0.0]</td>\n",
       "    </tr>\n",
       "    <tr>\n",
       "      <th>0</th>\n",
       "      <td>seccion_9</td>\n",
       "      <td>varianza explicada</td>\n",
       "      <td>True</td>\n",
       "      <td>1.974544e-16</td>\n",
       "      <td>[1.97454408475595e-16, 0.0, 0.0, 0.0]</td>\n",
       "    </tr>\n",
       "    <tr>\n",
       "      <th>0</th>\n",
       "      <td>seccion_10_1</td>\n",
       "      <td>varianza explicada</td>\n",
       "      <td>True</td>\n",
       "      <td>1.406767e-16</td>\n",
       "      <td>[0.0, 0.0, 0.0, 1.4067672183145414e-16]</td>\n",
       "    </tr>\n",
       "    <tr>\n",
       "      <th>0</th>\n",
       "      <td>seccion_10_2</td>\n",
       "      <td>varianza explicada</td>\n",
       "      <td>True</td>\n",
       "      <td>1.899619e-16</td>\n",
       "      <td>[0.0, 0.0, 0.0, 1.8996190611736057e-16, 0.0]</td>\n",
       "    </tr>\n",
       "  </tbody>\n",
       "</table>\n",
       "</div>"
      ],
      "text/plain": [
       "        Seccion            elemento  Igualdad (en valor absoluto)  \\\n",
       "0     seccion_1  varianza explicada                          True   \n",
       "0     seccion_2  varianza explicada                          True   \n",
       "0     seccion_3  varianza explicada                          True   \n",
       "0     seccion_4  varianza explicada                          True   \n",
       "0   seccion_5_1  varianza explicada                          True   \n",
       "0   seccion_5_2  varianza explicada                          True   \n",
       "0     seccion_6  varianza explicada                          True   \n",
       "0   seccion_7_1  varianza explicada                          True   \n",
       "0   seccion_7_2  varianza explicada                          True   \n",
       "0   seccion_8_1  varianza explicada                          True   \n",
       "0   seccion_8_2  varianza explicada                          True   \n",
       "0   seccion_8_3  varianza explicada                          True   \n",
       "0     seccion_9  varianza explicada                          True   \n",
       "0  seccion_10_1  varianza explicada                          True   \n",
       "0  seccion_10_2  varianza explicada                          True   \n",
       "\n",
       "   Max error relativo (con valor absoluto)  \\\n",
       "0                             1.845437e-16   \n",
       "0                             0.000000e+00   \n",
       "0                             1.270989e-16   \n",
       "0                             3.810244e-16   \n",
       "0                             2.971219e-16   \n",
       "0                             1.873993e-16   \n",
       "0                             1.311963e-16   \n",
       "0                             2.201664e-16   \n",
       "0                             2.178309e-16   \n",
       "0                             3.055070e-16   \n",
       "0                             2.083336e-16   \n",
       "0                             1.489917e-16   \n",
       "0                             1.974544e-16   \n",
       "0                             1.406767e-16   \n",
       "0                             1.899619e-16   \n",
       "\n",
       "                 Error relativo (con valor absoluto)  \n",
       "0  [1.8454368235801489e-16, 1.5513265898145355e-1...  \n",
       "0                                    [0.0, 0.0, 0.0]  \n",
       "0                      [0.0, 1.2709886748169263e-16]  \n",
       "0  [1.8163619603877741e-16, 2.6276477052749485e-1...  \n",
       "0                           [2.9712188186743343e-16]  \n",
       "0                       [1.873992524757673e-16, 0.0]  \n",
       "0                      [0.0, 1.3119626812763805e-16]  \n",
       "0  [0.0, 1.1251842512572906e-16, 1.42763830014617...  \n",
       "0  [2.178308965095565e-16, 1.2571561853136868e-16...  \n",
       "0  [2.444284208275238e-16, 3.055070401062262e-16,...  \n",
       "0                      [0.0, 2.0833363867212563e-16]  \n",
       "0       [1.4899167910446447e-16, 0.0, 0.0, 0.0, 0.0]  \n",
       "0              [1.97454408475595e-16, 0.0, 0.0, 0.0]  \n",
       "0            [0.0, 0.0, 0.0, 1.4067672183145414e-16]  \n",
       "0       [0.0, 0.0, 0.0, 1.8996190611736057e-16, 0.0]  "
      ]
     },
     "execution_count": 141,
     "metadata": {},
     "output_type": "execute_result"
    }
   ],
   "source": [
    "# filter valores singulares \n",
    "df_sk_vs_np_var_expl = df_sk_vs_np[df_sk_vs_np['elemento']=='varianza explicada']\n",
    "df_sk_vs_np_var_expl"
   ]
  },
  {
   "cell_type": "code",
   "execution_count": 142,
   "metadata": {
    "scrolled": false
   },
   "outputs": [
    {
     "data": {
      "text/plain": [
       "(15, 5)"
      ]
     },
     "execution_count": 142,
     "metadata": {},
     "output_type": "execute_result"
    }
   ],
   "source": [
    "df_sk_vs_np_var_expl.shape"
   ]
  },
  {
   "cell_type": "markdown",
   "metadata": {},
   "source": [
    "En este caso, observamos que salvo por la sección 6, en ningún otro resultado obtuvimos la igualdad, y que los errores relativos son bastante grandes, por lo que no estamos obteniendo una muy buena aproximación."
   ]
  },
  {
   "cell_type": "markdown",
   "metadata": {},
   "source": [
    "#### Coeficientes"
   ]
  },
  {
   "cell_type": "markdown",
   "metadata": {},
   "source": [
    "Veamos los resultados de la comparación para los coeficientes:"
   ]
  },
  {
   "cell_type": "code",
   "execution_count": 143,
   "metadata": {},
   "outputs": [
    {
     "data": {
      "text/html": [
       "<div>\n",
       "<style scoped>\n",
       "    .dataframe tbody tr th:only-of-type {\n",
       "        vertical-align: middle;\n",
       "    }\n",
       "\n",
       "    .dataframe tbody tr th {\n",
       "        vertical-align: top;\n",
       "    }\n",
       "\n",
       "    .dataframe thead th {\n",
       "        text-align: right;\n",
       "    }\n",
       "</style>\n",
       "<table border=\"1\" class=\"dataframe\">\n",
       "  <thead>\n",
       "    <tr style=\"text-align: right;\">\n",
       "      <th></th>\n",
       "      <th>Seccion</th>\n",
       "      <th>elemento</th>\n",
       "      <th>Igualdad (en valor absoluto)</th>\n",
       "      <th>Max error relativo (con valor absoluto)</th>\n",
       "      <th>Error relativo (con valor absoluto)</th>\n",
       "    </tr>\n",
       "  </thead>\n",
       "  <tbody>\n",
       "    <tr>\n",
       "      <th>2</th>\n",
       "      <td>seccion_1</td>\n",
       "      <td>coeficientes</td>\n",
       "      <td>True</td>\n",
       "      <td>0.0</td>\n",
       "      <td>[[0.0, 0.0, 0.0, 0.0, 0.0, 0.0, 0.0, 0.0, 0.0,...</td>\n",
       "    </tr>\n",
       "    <tr>\n",
       "      <th>2</th>\n",
       "      <td>seccion_2</td>\n",
       "      <td>coeficientes</td>\n",
       "      <td>True</td>\n",
       "      <td>0.0</td>\n",
       "      <td>[[0.0, 0.0, 0.0, 0.0, 0.0, 0.0, 0.0, 0.0, 0.0,...</td>\n",
       "    </tr>\n",
       "    <tr>\n",
       "      <th>2</th>\n",
       "      <td>seccion_3</td>\n",
       "      <td>coeficientes</td>\n",
       "      <td>True</td>\n",
       "      <td>0.0</td>\n",
       "      <td>[[0.0, 0.0, 0.0, 0.0, 0.0], [0.0, 0.0, 0.0, 0....</td>\n",
       "    </tr>\n",
       "    <tr>\n",
       "      <th>2</th>\n",
       "      <td>seccion_4</td>\n",
       "      <td>coeficientes</td>\n",
       "      <td>True</td>\n",
       "      <td>0.0</td>\n",
       "      <td>[[0.0, 0.0, 0.0, 0.0, 0.0, 0.0, 0.0, 0.0, 0.0,...</td>\n",
       "    </tr>\n",
       "    <tr>\n",
       "      <th>2</th>\n",
       "      <td>seccion_5_1</td>\n",
       "      <td>coeficientes</td>\n",
       "      <td>True</td>\n",
       "      <td>0.0</td>\n",
       "      <td>[[0.0, 0.0, 0.0, 0.0]]</td>\n",
       "    </tr>\n",
       "    <tr>\n",
       "      <th>2</th>\n",
       "      <td>seccion_5_2</td>\n",
       "      <td>coeficientes</td>\n",
       "      <td>True</td>\n",
       "      <td>0.0</td>\n",
       "      <td>[[0.0, 0.0, 0.0, 0.0], [0.0, 0.0, 0.0, 0.0]]</td>\n",
       "    </tr>\n",
       "    <tr>\n",
       "      <th>2</th>\n",
       "      <td>seccion_6</td>\n",
       "      <td>coeficientes</td>\n",
       "      <td>True</td>\n",
       "      <td>0.0</td>\n",
       "      <td>[[0.0, 0.0], [0.0, 0.0]]</td>\n",
       "    </tr>\n",
       "    <tr>\n",
       "      <th>2</th>\n",
       "      <td>seccion_7_1</td>\n",
       "      <td>coeficientes</td>\n",
       "      <td>True</td>\n",
       "      <td>0.0</td>\n",
       "      <td>[[0.0, 0.0, 0.0, 0.0, 0.0, 0.0, 0.0, 0.0, 0.0,...</td>\n",
       "    </tr>\n",
       "    <tr>\n",
       "      <th>2</th>\n",
       "      <td>seccion_7_2</td>\n",
       "      <td>coeficientes</td>\n",
       "      <td>True</td>\n",
       "      <td>0.0</td>\n",
       "      <td>[[0.0, 0.0, 0.0, 0.0, 0.0, 0.0, 0.0, 0.0, 0.0,...</td>\n",
       "    </tr>\n",
       "    <tr>\n",
       "      <th>2</th>\n",
       "      <td>seccion_8_1</td>\n",
       "      <td>coeficientes</td>\n",
       "      <td>True</td>\n",
       "      <td>0.0</td>\n",
       "      <td>[[0.0, 0.0, 0.0, 0.0, 0.0, 0.0], [0.0, 0.0, 0....</td>\n",
       "    </tr>\n",
       "    <tr>\n",
       "      <th>2</th>\n",
       "      <td>seccion_8_2</td>\n",
       "      <td>coeficientes</td>\n",
       "      <td>True</td>\n",
       "      <td>0.0</td>\n",
       "      <td>[[0.0, 0.0, 0.0, 0.0, 0.0], [0.0, 0.0, 0.0, 0....</td>\n",
       "    </tr>\n",
       "    <tr>\n",
       "      <th>2</th>\n",
       "      <td>seccion_8_3</td>\n",
       "      <td>coeficientes</td>\n",
       "      <td>True</td>\n",
       "      <td>0.0</td>\n",
       "      <td>[[0.0, 0.0, 0.0, 0.0, 0.0, 0.0, 0.0, 0.0, 0.0,...</td>\n",
       "    </tr>\n",
       "    <tr>\n",
       "      <th>2</th>\n",
       "      <td>seccion_9</td>\n",
       "      <td>coeficientes</td>\n",
       "      <td>True</td>\n",
       "      <td>0.0</td>\n",
       "      <td>[[0.0, 0.0, 0.0, 0.0, 0.0, 0.0, 0.0, 0.0, 0.0,...</td>\n",
       "    </tr>\n",
       "    <tr>\n",
       "      <th>2</th>\n",
       "      <td>seccion_10_1</td>\n",
       "      <td>coeficientes</td>\n",
       "      <td>True</td>\n",
       "      <td>0.0</td>\n",
       "      <td>[[0.0, 0.0, 0.0, 0.0, 0.0, 0.0, 0.0, 0.0, 0.0]...</td>\n",
       "    </tr>\n",
       "    <tr>\n",
       "      <th>2</th>\n",
       "      <td>seccion_10_2</td>\n",
       "      <td>coeficientes</td>\n",
       "      <td>True</td>\n",
       "      <td>0.0</td>\n",
       "      <td>[[0.0, 0.0, 0.0, 0.0, 0.0, 0.0, 0.0, 0.0, 0.0,...</td>\n",
       "    </tr>\n",
       "  </tbody>\n",
       "</table>\n",
       "</div>"
      ],
      "text/plain": [
       "        Seccion      elemento  Igualdad (en valor absoluto)  \\\n",
       "2     seccion_1  coeficientes                          True   \n",
       "2     seccion_2  coeficientes                          True   \n",
       "2     seccion_3  coeficientes                          True   \n",
       "2     seccion_4  coeficientes                          True   \n",
       "2   seccion_5_1  coeficientes                          True   \n",
       "2   seccion_5_2  coeficientes                          True   \n",
       "2     seccion_6  coeficientes                          True   \n",
       "2   seccion_7_1  coeficientes                          True   \n",
       "2   seccion_7_2  coeficientes                          True   \n",
       "2   seccion_8_1  coeficientes                          True   \n",
       "2   seccion_8_2  coeficientes                          True   \n",
       "2   seccion_8_3  coeficientes                          True   \n",
       "2     seccion_9  coeficientes                          True   \n",
       "2  seccion_10_1  coeficientes                          True   \n",
       "2  seccion_10_2  coeficientes                          True   \n",
       "\n",
       "   Max error relativo (con valor absoluto)  \\\n",
       "2                                      0.0   \n",
       "2                                      0.0   \n",
       "2                                      0.0   \n",
       "2                                      0.0   \n",
       "2                                      0.0   \n",
       "2                                      0.0   \n",
       "2                                      0.0   \n",
       "2                                      0.0   \n",
       "2                                      0.0   \n",
       "2                                      0.0   \n",
       "2                                      0.0   \n",
       "2                                      0.0   \n",
       "2                                      0.0   \n",
       "2                                      0.0   \n",
       "2                                      0.0   \n",
       "\n",
       "                 Error relativo (con valor absoluto)  \n",
       "2  [[0.0, 0.0, 0.0, 0.0, 0.0, 0.0, 0.0, 0.0, 0.0,...  \n",
       "2  [[0.0, 0.0, 0.0, 0.0, 0.0, 0.0, 0.0, 0.0, 0.0,...  \n",
       "2  [[0.0, 0.0, 0.0, 0.0, 0.0], [0.0, 0.0, 0.0, 0....  \n",
       "2  [[0.0, 0.0, 0.0, 0.0, 0.0, 0.0, 0.0, 0.0, 0.0,...  \n",
       "2                             [[0.0, 0.0, 0.0, 0.0]]  \n",
       "2       [[0.0, 0.0, 0.0, 0.0], [0.0, 0.0, 0.0, 0.0]]  \n",
       "2                           [[0.0, 0.0], [0.0, 0.0]]  \n",
       "2  [[0.0, 0.0, 0.0, 0.0, 0.0, 0.0, 0.0, 0.0, 0.0,...  \n",
       "2  [[0.0, 0.0, 0.0, 0.0, 0.0, 0.0, 0.0, 0.0, 0.0,...  \n",
       "2  [[0.0, 0.0, 0.0, 0.0, 0.0, 0.0], [0.0, 0.0, 0....  \n",
       "2  [[0.0, 0.0, 0.0, 0.0, 0.0], [0.0, 0.0, 0.0, 0....  \n",
       "2  [[0.0, 0.0, 0.0, 0.0, 0.0, 0.0, 0.0, 0.0, 0.0,...  \n",
       "2  [[0.0, 0.0, 0.0, 0.0, 0.0, 0.0, 0.0, 0.0, 0.0,...  \n",
       "2  [[0.0, 0.0, 0.0, 0.0, 0.0, 0.0, 0.0, 0.0, 0.0]...  \n",
       "2  [[0.0, 0.0, 0.0, 0.0, 0.0, 0.0, 0.0, 0.0, 0.0,...  "
      ]
     },
     "execution_count": 143,
     "metadata": {},
     "output_type": "execute_result"
    }
   ],
   "source": [
    "# filter valores singulares \n",
    "df_sk_vs_np_coef = df_sk_vs_np[df_sk_vs_np['elemento']=='coeficientes']\n",
    "df_sk_vs_np_coef"
   ]
  },
  {
   "cell_type": "code",
   "execution_count": 144,
   "metadata": {
    "scrolled": true
   },
   "outputs": [
    {
     "data": {
      "text/plain": [
       "(15, 5)"
      ]
     },
     "execution_count": 144,
     "metadata": {},
     "output_type": "execute_result"
    }
   ],
   "source": [
    "df_sk_vs_np_coef.shape"
   ]
  },
  {
   "cell_type": "markdown",
   "metadata": {},
   "source": [
    "En este caso, observamos que salvo por la sección 6, en ningún otro resultado obtuvimos la igualdad, y que los errores relativos son bastante grandes, por lo que no estamos obteniendo una muy buena aproximación."
   ]
  },
  {
   "cell_type": "markdown",
   "metadata": {},
   "source": [
    "#### Componentes principales"
   ]
  },
  {
   "cell_type": "markdown",
   "metadata": {},
   "source": [
    "Veamos los resultados de la comparación para los componentes obtenidos:"
   ]
  },
  {
   "cell_type": "code",
   "execution_count": 145,
   "metadata": {},
   "outputs": [
    {
     "data": {
      "text/html": [
       "<div>\n",
       "<style scoped>\n",
       "    .dataframe tbody tr th:only-of-type {\n",
       "        vertical-align: middle;\n",
       "    }\n",
       "\n",
       "    .dataframe tbody tr th {\n",
       "        vertical-align: top;\n",
       "    }\n",
       "\n",
       "    .dataframe thead th {\n",
       "        text-align: right;\n",
       "    }\n",
       "</style>\n",
       "<table border=\"1\" class=\"dataframe\">\n",
       "  <thead>\n",
       "    <tr style=\"text-align: right;\">\n",
       "      <th></th>\n",
       "      <th>Seccion</th>\n",
       "      <th>elemento</th>\n",
       "      <th>Igualdad (en valor absoluto)</th>\n",
       "      <th>Max error relativo (con valor absoluto)</th>\n",
       "      <th>Error relativo (con valor absoluto)</th>\n",
       "    </tr>\n",
       "  </thead>\n",
       "  <tbody>\n",
       "    <tr>\n",
       "      <th>3</th>\n",
       "      <td>seccion_1</td>\n",
       "      <td>componentes principales</td>\n",
       "      <td>True</td>\n",
       "      <td>1.328783e-09</td>\n",
       "      <td>[[2.6344109242589875e-11, 2.6483430011396585e-...</td>\n",
       "    </tr>\n",
       "    <tr>\n",
       "      <th>3</th>\n",
       "      <td>seccion_2</td>\n",
       "      <td>componentes principales</td>\n",
       "      <td>True</td>\n",
       "      <td>1.725904e-07</td>\n",
       "      <td>[[6.02594840918337e-11, 2.0427044636858444e-09...</td>\n",
       "    </tr>\n",
       "    <tr>\n",
       "      <th>3</th>\n",
       "      <td>seccion_3</td>\n",
       "      <td>componentes principales</td>\n",
       "      <td>True</td>\n",
       "      <td>1.254858e-09</td>\n",
       "      <td>[[7.996555014011452e-12, 1.1263374054990842e-1...</td>\n",
       "    </tr>\n",
       "    <tr>\n",
       "      <th>3</th>\n",
       "      <td>seccion_4</td>\n",
       "      <td>componentes principales</td>\n",
       "      <td>True</td>\n",
       "      <td>7.415905e-08</td>\n",
       "      <td>[[7.267035848063278e-11, 5.408932705117198e-12...</td>\n",
       "    </tr>\n",
       "    <tr>\n",
       "      <th>3</th>\n",
       "      <td>seccion_5_1</td>\n",
       "      <td>componentes principales</td>\n",
       "      <td>True</td>\n",
       "      <td>1.369991e-10</td>\n",
       "      <td>[[1.0864534238555451e-10], [1.3710478122857844...</td>\n",
       "    </tr>\n",
       "    <tr>\n",
       "      <th>3</th>\n",
       "      <td>seccion_5_2</td>\n",
       "      <td>componentes principales</td>\n",
       "      <td>True</td>\n",
       "      <td>1.499040e-09</td>\n",
       "      <td>[[6.788500778143712e-11, 5.432152614613707e-12...</td>\n",
       "    </tr>\n",
       "    <tr>\n",
       "      <th>3</th>\n",
       "      <td>seccion_6</td>\n",
       "      <td>componentes principales</td>\n",
       "      <td>True</td>\n",
       "      <td>1.080050e-12</td>\n",
       "      <td>[[5.192048991001361e-13, 1.0800503623567881e-1...</td>\n",
       "    </tr>\n",
       "    <tr>\n",
       "      <th>3</th>\n",
       "      <td>seccion_7_1</td>\n",
       "      <td>componentes principales</td>\n",
       "      <td>True</td>\n",
       "      <td>1.700735e-09</td>\n",
       "      <td>[[8.415655220333915e-11, 6.328821898554283e-11...</td>\n",
       "    </tr>\n",
       "    <tr>\n",
       "      <th>3</th>\n",
       "      <td>seccion_7_2</td>\n",
       "      <td>componentes principales</td>\n",
       "      <td>True</td>\n",
       "      <td>7.323949e-10</td>\n",
       "      <td>[[9.761226003432158e-14, 1.0101021943151365e-1...</td>\n",
       "    </tr>\n",
       "    <tr>\n",
       "      <th>3</th>\n",
       "      <td>seccion_8_1</td>\n",
       "      <td>componentes principales</td>\n",
       "      <td>True</td>\n",
       "      <td>7.033656e-11</td>\n",
       "      <td>[[2.8732286182798012e-11, 3.377871924107149e-1...</td>\n",
       "    </tr>\n",
       "    <tr>\n",
       "      <th>3</th>\n",
       "      <td>seccion_8_2</td>\n",
       "      <td>componentes principales</td>\n",
       "      <td>True</td>\n",
       "      <td>1.863889e-09</td>\n",
       "      <td>[[1.863888878094738e-09, 2.960568365144985e-11...</td>\n",
       "    </tr>\n",
       "    <tr>\n",
       "      <th>3</th>\n",
       "      <td>seccion_8_3</td>\n",
       "      <td>componentes principales</td>\n",
       "      <td>True</td>\n",
       "      <td>1.936874e-08</td>\n",
       "      <td>[[8.513937689139695e-12, 4.386529456891676e-11...</td>\n",
       "    </tr>\n",
       "    <tr>\n",
       "      <th>3</th>\n",
       "      <td>seccion_9</td>\n",
       "      <td>componentes principales</td>\n",
       "      <td>True</td>\n",
       "      <td>8.235779e-08</td>\n",
       "      <td>[[6.815471630580412e-11, 3.868496048910068e-11...</td>\n",
       "    </tr>\n",
       "    <tr>\n",
       "      <th>3</th>\n",
       "      <td>seccion_10_1</td>\n",
       "      <td>componentes principales</td>\n",
       "      <td>True</td>\n",
       "      <td>8.505764e-09</td>\n",
       "      <td>[[4.195470997628621e-11, 3.148937401122182e-11...</td>\n",
       "    </tr>\n",
       "    <tr>\n",
       "      <th>3</th>\n",
       "      <td>seccion_10_2</td>\n",
       "      <td>componentes principales</td>\n",
       "      <td>True</td>\n",
       "      <td>1.206179e-08</td>\n",
       "      <td>[[5.6704139146781604e-11, 2.9183583516211564e-...</td>\n",
       "    </tr>\n",
       "  </tbody>\n",
       "</table>\n",
       "</div>"
      ],
      "text/plain": [
       "        Seccion                 elemento  Igualdad (en valor absoluto)  \\\n",
       "3     seccion_1  componentes principales                          True   \n",
       "3     seccion_2  componentes principales                          True   \n",
       "3     seccion_3  componentes principales                          True   \n",
       "3     seccion_4  componentes principales                          True   \n",
       "3   seccion_5_1  componentes principales                          True   \n",
       "3   seccion_5_2  componentes principales                          True   \n",
       "3     seccion_6  componentes principales                          True   \n",
       "3   seccion_7_1  componentes principales                          True   \n",
       "3   seccion_7_2  componentes principales                          True   \n",
       "3   seccion_8_1  componentes principales                          True   \n",
       "3   seccion_8_2  componentes principales                          True   \n",
       "3   seccion_8_3  componentes principales                          True   \n",
       "3     seccion_9  componentes principales                          True   \n",
       "3  seccion_10_1  componentes principales                          True   \n",
       "3  seccion_10_2  componentes principales                          True   \n",
       "\n",
       "   Max error relativo (con valor absoluto)  \\\n",
       "3                             1.328783e-09   \n",
       "3                             1.725904e-07   \n",
       "3                             1.254858e-09   \n",
       "3                             7.415905e-08   \n",
       "3                             1.369991e-10   \n",
       "3                             1.499040e-09   \n",
       "3                             1.080050e-12   \n",
       "3                             1.700735e-09   \n",
       "3                             7.323949e-10   \n",
       "3                             7.033656e-11   \n",
       "3                             1.863889e-09   \n",
       "3                             1.936874e-08   \n",
       "3                             8.235779e-08   \n",
       "3                             8.505764e-09   \n",
       "3                             1.206179e-08   \n",
       "\n",
       "                 Error relativo (con valor absoluto)  \n",
       "3  [[2.6344109242589875e-11, 2.6483430011396585e-...  \n",
       "3  [[6.02594840918337e-11, 2.0427044636858444e-09...  \n",
       "3  [[7.996555014011452e-12, 1.1263374054990842e-1...  \n",
       "3  [[7.267035848063278e-11, 5.408932705117198e-12...  \n",
       "3  [[1.0864534238555451e-10], [1.3710478122857844...  \n",
       "3  [[6.788500778143712e-11, 5.432152614613707e-12...  \n",
       "3  [[5.192048991001361e-13, 1.0800503623567881e-1...  \n",
       "3  [[8.415655220333915e-11, 6.328821898554283e-11...  \n",
       "3  [[9.761226003432158e-14, 1.0101021943151365e-1...  \n",
       "3  [[2.8732286182798012e-11, 3.377871924107149e-1...  \n",
       "3  [[1.863888878094738e-09, 2.960568365144985e-11...  \n",
       "3  [[8.513937689139695e-12, 4.386529456891676e-11...  \n",
       "3  [[6.815471630580412e-11, 3.868496048910068e-11...  \n",
       "3  [[4.195470997628621e-11, 3.148937401122182e-11...  \n",
       "3  [[5.6704139146781604e-11, 2.9183583516211564e-...  "
      ]
     },
     "execution_count": 145,
     "metadata": {},
     "output_type": "execute_result"
    }
   ],
   "source": [
    "# filter valores singulares \n",
    "df_sk_vs_np_comp = df_sk_vs_np[df_sk_vs_np['elemento']=='componentes principales']\n",
    "df_sk_vs_np_comp"
   ]
  },
  {
   "cell_type": "code",
   "execution_count": 146,
   "metadata": {
    "scrolled": true
   },
   "outputs": [
    {
     "data": {
      "text/plain": [
       "(15, 5)"
      ]
     },
     "execution_count": 146,
     "metadata": {},
     "output_type": "execute_result"
    }
   ],
   "source": [
    "df_sk_vs_np_comp.shape"
   ]
  },
  {
   "cell_type": "markdown",
   "metadata": {},
   "source": [
    "Podemos verificar así que en todos los rubros los resultados fueron iguales para ambas funciones."
   ]
  },
  {
   "cell_type": "code",
   "execution_count": 147,
   "metadata": {},
   "outputs": [],
   "source": [
    "# Guardamos los resultados para mostrarlos en el reporte\n",
    "compara_sk_np = [df_sk_vs_np_val_sing,df_sk_vs_np_var_expl,df_sk_vs_np_coef,df_sk_vs_np_comp]\n",
    "df_compara_sk_np = pd.concat(compara_sk_np)\n",
    "df_compara_sk_np.to_csv('../../results/data_results/comparativa_sk_np.csv', index=False)"
   ]
  },
  {
   "cell_type": "markdown",
   "metadata": {},
   "source": [
    "### Scikit learn vs PCA a partir de SVD aproximada mediante Jacobi-one sided"
   ]
  },
  {
   "cell_type": "markdown",
   "metadata": {},
   "source": [
    "Obtenemos las comparaciones faltantes con valores absolutos y juntamos los resultados en un data frame para facilitar su análisis:"
   ]
  },
  {
   "cell_type": "code",
   "execution_count": 148,
   "metadata": {},
   "outputs": [],
   "source": [
    "df_seccion_3_jac = comparaModelos.compara_resultados_abs_sk_jac(seccion_3)\n",
    "df_seccion_3_jac.insert(0, \"Seccion\", np.repeat(\"seccion_3\",4), True) "
   ]
  },
  {
   "cell_type": "code",
   "execution_count": 149,
   "metadata": {
    "scrolled": true
   },
   "outputs": [],
   "source": [
    "sk_vs_jac = [ df_seccion_1_jac,df_seccion_2_jac,df_seccion_3_jac, df_seccion_4_jac,\n",
    " df_seccion_5_1_jac, df_seccion_5_2_jac, df_seccion_6_jac, df_seccion_7_1_jac, \n",
    " df_seccion_7_2_jac, df_seccion_8_1_jac, df_seccion_8_2_jac, df_seccion_8_3_jac,\n",
    " df_seccion_9_jac, df_seccion_10_1_jac, df_seccion_10_2_jac]\n",
    "df_sk_vs_jac = pd.concat(sk_vs_jac)"
   ]
  },
  {
   "cell_type": "markdown",
   "metadata": {},
   "source": [
    "#### Valores singulares"
   ]
  },
  {
   "cell_type": "markdown",
   "metadata": {},
   "source": [
    "Veamos los resultados de la comparación para los valores singulares:"
   ]
  },
  {
   "cell_type": "code",
   "execution_count": 150,
   "metadata": {},
   "outputs": [
    {
     "data": {
      "text/html": [
       "<div>\n",
       "<style scoped>\n",
       "    .dataframe tbody tr th:only-of-type {\n",
       "        vertical-align: middle;\n",
       "    }\n",
       "\n",
       "    .dataframe tbody tr th {\n",
       "        vertical-align: top;\n",
       "    }\n",
       "\n",
       "    .dataframe thead th {\n",
       "        text-align: right;\n",
       "    }\n",
       "</style>\n",
       "<table border=\"1\" class=\"dataframe\">\n",
       "  <thead>\n",
       "    <tr style=\"text-align: right;\">\n",
       "      <th></th>\n",
       "      <th>Seccion</th>\n",
       "      <th>elemento</th>\n",
       "      <th>Igualdad (en valor absoluto)</th>\n",
       "      <th>Max error relativo (con valor absoluto)</th>\n",
       "      <th>Error relativo (con valor absoluto)</th>\n",
       "    </tr>\n",
       "  </thead>\n",
       "  <tbody>\n",
       "    <tr>\n",
       "      <th>1</th>\n",
       "      <td>seccion_1</td>\n",
       "      <td>valores singulares</td>\n",
       "      <td>False</td>\n",
       "      <td>2.489093e-01</td>\n",
       "      <td>[0.24890934784595498, 0.014500133559060375, 0....</td>\n",
       "    </tr>\n",
       "    <tr>\n",
       "      <th>1</th>\n",
       "      <td>seccion_2</td>\n",
       "      <td>valores singulares</td>\n",
       "      <td>False</td>\n",
       "      <td>1.082815e-01</td>\n",
       "      <td>[0.06127626725063698, 0.10828148584329743, 0.0...</td>\n",
       "    </tr>\n",
       "    <tr>\n",
       "      <th>1</th>\n",
       "      <td>seccion_3</td>\n",
       "      <td>valores singulares</td>\n",
       "      <td>False</td>\n",
       "      <td>5.315354e-02</td>\n",
       "      <td>[0.01906552897109906, 0.05315353561094553]</td>\n",
       "    </tr>\n",
       "    <tr>\n",
       "      <th>1</th>\n",
       "      <td>seccion_4</td>\n",
       "      <td>valores singulares</td>\n",
       "      <td>False</td>\n",
       "      <td>2.548450e-02</td>\n",
       "      <td>[0.02035472727571438, 0.01639443449372074, 0.0...</td>\n",
       "    </tr>\n",
       "    <tr>\n",
       "      <th>1</th>\n",
       "      <td>seccion_5_1</td>\n",
       "      <td>valores singulares</td>\n",
       "      <td>False</td>\n",
       "      <td>3.389791e-05</td>\n",
       "      <td>[3.389791155141556e-05]</td>\n",
       "    </tr>\n",
       "    <tr>\n",
       "      <th>1</th>\n",
       "      <td>seccion_5_2</td>\n",
       "      <td>valores singulares</td>\n",
       "      <td>False</td>\n",
       "      <td>2.105666e-03</td>\n",
       "      <td>[0.0021056655253422533, 0.001643116161445561]</td>\n",
       "    </tr>\n",
       "    <tr>\n",
       "      <th>1</th>\n",
       "      <td>seccion_6</td>\n",
       "      <td>valores singulares</td>\n",
       "      <td>True</td>\n",
       "      <td>4.947458e-15</td>\n",
       "      <td>[4.947457968221809e-15, 3.466159070087135e-15]</td>\n",
       "    </tr>\n",
       "    <tr>\n",
       "      <th>1</th>\n",
       "      <td>seccion_7_1</td>\n",
       "      <td>valores singulares</td>\n",
       "      <td>False</td>\n",
       "      <td>1.032035e-01</td>\n",
       "      <td>[0.10320347771919386, 0.035728621517128425, 0....</td>\n",
       "    </tr>\n",
       "    <tr>\n",
       "      <th>1</th>\n",
       "      <td>seccion_7_2</td>\n",
       "      <td>valores singulares</td>\n",
       "      <td>False</td>\n",
       "      <td>4.495770e-02</td>\n",
       "      <td>[0.03635423469409431, 0.01669313253810829, 0.0...</td>\n",
       "    </tr>\n",
       "    <tr>\n",
       "      <th>1</th>\n",
       "      <td>seccion_8_1</td>\n",
       "      <td>valores singulares</td>\n",
       "      <td>False</td>\n",
       "      <td>4.683748e-02</td>\n",
       "      <td>[0.006674831971013333, 0.014289803605153948, 0...</td>\n",
       "    </tr>\n",
       "    <tr>\n",
       "      <th>1</th>\n",
       "      <td>seccion_8_2</td>\n",
       "      <td>valores singulares</td>\n",
       "      <td>False</td>\n",
       "      <td>4.530287e-04</td>\n",
       "      <td>[0.0004530287212364712, 1.0885602184156948e-05]</td>\n",
       "    </tr>\n",
       "    <tr>\n",
       "      <th>1</th>\n",
       "      <td>seccion_8_3</td>\n",
       "      <td>valores singulares</td>\n",
       "      <td>False</td>\n",
       "      <td>4.480933e-02</td>\n",
       "      <td>[0.001822114547167448, 0.013126102086410973, 0...</td>\n",
       "    </tr>\n",
       "    <tr>\n",
       "      <th>1</th>\n",
       "      <td>seccion_9</td>\n",
       "      <td>valores singulares</td>\n",
       "      <td>False</td>\n",
       "      <td>4.530620e-02</td>\n",
       "      <td>[0.04530620430442938, 0.02764028048046374, 0.0...</td>\n",
       "    </tr>\n",
       "    <tr>\n",
       "      <th>1</th>\n",
       "      <td>seccion_10_1</td>\n",
       "      <td>valores singulares</td>\n",
       "      <td>False</td>\n",
       "      <td>1.518335e-02</td>\n",
       "      <td>[0.015183351588663728, 0.005389157635164663, 0...</td>\n",
       "    </tr>\n",
       "    <tr>\n",
       "      <th>1</th>\n",
       "      <td>seccion_10_2</td>\n",
       "      <td>valores singulares</td>\n",
       "      <td>False</td>\n",
       "      <td>2.635916e-01</td>\n",
       "      <td>[0.18979483552273013, 0.2635916360906893, 0.00...</td>\n",
       "    </tr>\n",
       "  </tbody>\n",
       "</table>\n",
       "</div>"
      ],
      "text/plain": [
       "        Seccion            elemento  Igualdad (en valor absoluto)  \\\n",
       "1     seccion_1  valores singulares                         False   \n",
       "1     seccion_2  valores singulares                         False   \n",
       "1     seccion_3  valores singulares                         False   \n",
       "1     seccion_4  valores singulares                         False   \n",
       "1   seccion_5_1  valores singulares                         False   \n",
       "1   seccion_5_2  valores singulares                         False   \n",
       "1     seccion_6  valores singulares                          True   \n",
       "1   seccion_7_1  valores singulares                         False   \n",
       "1   seccion_7_2  valores singulares                         False   \n",
       "1   seccion_8_1  valores singulares                         False   \n",
       "1   seccion_8_2  valores singulares                         False   \n",
       "1   seccion_8_3  valores singulares                         False   \n",
       "1     seccion_9  valores singulares                         False   \n",
       "1  seccion_10_1  valores singulares                         False   \n",
       "1  seccion_10_2  valores singulares                         False   \n",
       "\n",
       "   Max error relativo (con valor absoluto)  \\\n",
       "1                             2.489093e-01   \n",
       "1                             1.082815e-01   \n",
       "1                             5.315354e-02   \n",
       "1                             2.548450e-02   \n",
       "1                             3.389791e-05   \n",
       "1                             2.105666e-03   \n",
       "1                             4.947458e-15   \n",
       "1                             1.032035e-01   \n",
       "1                             4.495770e-02   \n",
       "1                             4.683748e-02   \n",
       "1                             4.530287e-04   \n",
       "1                             4.480933e-02   \n",
       "1                             4.530620e-02   \n",
       "1                             1.518335e-02   \n",
       "1                             2.635916e-01   \n",
       "\n",
       "                 Error relativo (con valor absoluto)  \n",
       "1  [0.24890934784595498, 0.014500133559060375, 0....  \n",
       "1  [0.06127626725063698, 0.10828148584329743, 0.0...  \n",
       "1         [0.01906552897109906, 0.05315353561094553]  \n",
       "1  [0.02035472727571438, 0.01639443449372074, 0.0...  \n",
       "1                            [3.389791155141556e-05]  \n",
       "1      [0.0021056655253422533, 0.001643116161445561]  \n",
       "1     [4.947457968221809e-15, 3.466159070087135e-15]  \n",
       "1  [0.10320347771919386, 0.035728621517128425, 0....  \n",
       "1  [0.03635423469409431, 0.01669313253810829, 0.0...  \n",
       "1  [0.006674831971013333, 0.014289803605153948, 0...  \n",
       "1    [0.0004530287212364712, 1.0885602184156948e-05]  \n",
       "1  [0.001822114547167448, 0.013126102086410973, 0...  \n",
       "1  [0.04530620430442938, 0.02764028048046374, 0.0...  \n",
       "1  [0.015183351588663728, 0.005389157635164663, 0...  \n",
       "1  [0.18979483552273013, 0.2635916360906893, 0.00...  "
      ]
     },
     "execution_count": 150,
     "metadata": {},
     "output_type": "execute_result"
    }
   ],
   "source": [
    "# filter valores singulares \n",
    "df_sk_vs_jac_val_sing = df_sk_vs_jac[df_sk_vs_jac['elemento']=='valores singulares']\n",
    "df_sk_vs_jac_val_sing"
   ]
  },
  {
   "cell_type": "code",
   "execution_count": 151,
   "metadata": {},
   "outputs": [
    {
     "data": {
      "text/plain": [
       "(15, 5)"
      ]
     },
     "execution_count": 151,
     "metadata": {},
     "output_type": "execute_result"
    }
   ],
   "source": [
    "df_sk_vs_jac_val_sing.shape"
   ]
  },
  {
   "cell_type": "markdown",
   "metadata": {},
   "source": [
    "En este caso, observamos que salvo por la sección 6, donde la matriz tenía número de condición cercano a uno, en ningún otro resultado obtuvimos la igualdad, y que la mayoría de los errores relativos son alrededor del orden de $10^{-2}$."
   ]
  },
  {
   "cell_type": "markdown",
   "metadata": {},
   "source": [
    "#### Varianza explicada"
   ]
  },
  {
   "cell_type": "markdown",
   "metadata": {},
   "source": [
    "Veamos los resultados de la comparación para la varianza explicada:"
   ]
  },
  {
   "cell_type": "code",
   "execution_count": 152,
   "metadata": {},
   "outputs": [
    {
     "data": {
      "text/html": [
       "<div>\n",
       "<style scoped>\n",
       "    .dataframe tbody tr th:only-of-type {\n",
       "        vertical-align: middle;\n",
       "    }\n",
       "\n",
       "    .dataframe tbody tr th {\n",
       "        vertical-align: top;\n",
       "    }\n",
       "\n",
       "    .dataframe thead th {\n",
       "        text-align: right;\n",
       "    }\n",
       "</style>\n",
       "<table border=\"1\" class=\"dataframe\">\n",
       "  <thead>\n",
       "    <tr style=\"text-align: right;\">\n",
       "      <th></th>\n",
       "      <th>Seccion</th>\n",
       "      <th>elemento</th>\n",
       "      <th>Igualdad (en valor absoluto)</th>\n",
       "      <th>Max error relativo (con valor absoluto)</th>\n",
       "      <th>Error relativo (con valor absoluto)</th>\n",
       "    </tr>\n",
       "  </thead>\n",
       "  <tbody>\n",
       "    <tr>\n",
       "      <th>0</th>\n",
       "      <td>seccion_1</td>\n",
       "      <td>varianza explicada</td>\n",
       "      <td>False</td>\n",
       "      <td>5.597746e-01</td>\n",
       "      <td>[0.5597745591370169, 0.028790013244885136, 0.0...</td>\n",
       "    </tr>\n",
       "    <tr>\n",
       "      <th>0</th>\n",
       "      <td>seccion_2</td>\n",
       "      <td>varianza explicada</td>\n",
       "      <td>False</td>\n",
       "      <td>2.048381e-01</td>\n",
       "      <td>[0.126307315429458, 0.20483809151015386, 0.114...</td>\n",
       "    </tr>\n",
       "    <tr>\n",
       "      <th>0</th>\n",
       "      <td>seccion_3</td>\n",
       "      <td>varianza explicada</td>\n",
       "      <td>False</td>\n",
       "      <td>1.091324e-01</td>\n",
       "      <td>[0.038494552337125544, 0.10913236956981359]</td>\n",
       "    </tr>\n",
       "    <tr>\n",
       "      <th>0</th>\n",
       "      <td>seccion_4</td>\n",
       "      <td>varianza explicada</td>\n",
       "      <td>False</td>\n",
       "      <td>5.161847e-02</td>\n",
       "      <td>[0.04112376947389873, 0.03252009150507147, 0.0...</td>\n",
       "    </tr>\n",
       "    <tr>\n",
       "      <th>0</th>\n",
       "      <td>seccion_5_1</td>\n",
       "      <td>varianza explicada</td>\n",
       "      <td>False</td>\n",
       "      <td>6.779697e-05</td>\n",
       "      <td>[6.779697210380624e-05]</td>\n",
       "    </tr>\n",
       "    <tr>\n",
       "      <th>0</th>\n",
       "      <td>seccion_5_2</td>\n",
       "      <td>varianza explicada</td>\n",
       "      <td>False</td>\n",
       "      <td>4.215765e-03</td>\n",
       "      <td>[0.00421576487797782, 0.003283532492182103]</td>\n",
       "    </tr>\n",
       "    <tr>\n",
       "      <th>0</th>\n",
       "      <td>seccion_6</td>\n",
       "      <td>varianza explicada</td>\n",
       "      <td>True</td>\n",
       "      <td>1.705551e-15</td>\n",
       "      <td>[1.1547088008302923e-15, 1.7055514856592915e-15]</td>\n",
       "    </tr>\n",
       "    <tr>\n",
       "      <th>0</th>\n",
       "      <td>seccion_7_1</td>\n",
       "      <td>varianza explicada</td>\n",
       "      <td>False</td>\n",
       "      <td>2.170579e-01</td>\n",
       "      <td>[0.21705791325173573, 0.07273377742978161, 0.1...</td>\n",
       "    </tr>\n",
       "    <tr>\n",
       "      <th>0</th>\n",
       "      <td>seccion_7_2</td>\n",
       "      <td>varianza explicada</td>\n",
       "      <td>False</td>\n",
       "      <td>9.193659e-02</td>\n",
       "      <td>[0.07403009976843317, 0.03310760440223537, 0.0...</td>\n",
       "    </tr>\n",
       "    <tr>\n",
       "      <th>0</th>\n",
       "      <td>seccion_8_1</td>\n",
       "      <td>varianza explicada</td>\n",
       "      <td>False</td>\n",
       "      <td>9.148121e-02</td>\n",
       "      <td>[0.01339421732388395, 0.02878380569739806, 0.0...</td>\n",
       "    </tr>\n",
       "    <tr>\n",
       "      <th>0</th>\n",
       "      <td>seccion_8_2</td>\n",
       "      <td>varianza explicada</td>\n",
       "      <td>False</td>\n",
       "      <td>9.062627e-04</td>\n",
       "      <td>[0.0009062626775334845, 2.1771322902853306e-05]</td>\n",
       "    </tr>\n",
       "    <tr>\n",
       "      <th>0</th>\n",
       "      <td>seccion_8_3</td>\n",
       "      <td>varianza explicada</td>\n",
       "      <td>False</td>\n",
       "      <td>9.162654e-02</td>\n",
       "      <td>[0.0036475491958196334, 0.026424498728868217, ...</td>\n",
       "    </tr>\n",
       "    <tr>\n",
       "      <th>0</th>\n",
       "      <td>seccion_9</td>\n",
       "      <td>varianza explicada</td>\n",
       "      <td>False</td>\n",
       "      <td>9.266506e-02</td>\n",
       "      <td>[0.0926650607573313, 0.05451657585589045, 0.08...</td>\n",
       "    </tr>\n",
       "    <tr>\n",
       "      <th>0</th>\n",
       "      <td>seccion_10_1</td>\n",
       "      <td>varianza explicada</td>\n",
       "      <td>False</td>\n",
       "      <td>3.059724e-02</td>\n",
       "      <td>[0.03059723734285997, 0.010807358290411975, 0....</td>\n",
       "    </tr>\n",
       "    <tr>\n",
       "      <th>0</th>\n",
       "      <td>seccion_10_2</td>\n",
       "      <td>varianza explicada</td>\n",
       "      <td>False</td>\n",
       "      <td>4.577027e-01</td>\n",
       "      <td>[0.4156117506365731, 0.4577027215644075, 0.006...</td>\n",
       "    </tr>\n",
       "  </tbody>\n",
       "</table>\n",
       "</div>"
      ],
      "text/plain": [
       "        Seccion            elemento  Igualdad (en valor absoluto)  \\\n",
       "0     seccion_1  varianza explicada                         False   \n",
       "0     seccion_2  varianza explicada                         False   \n",
       "0     seccion_3  varianza explicada                         False   \n",
       "0     seccion_4  varianza explicada                         False   \n",
       "0   seccion_5_1  varianza explicada                         False   \n",
       "0   seccion_5_2  varianza explicada                         False   \n",
       "0     seccion_6  varianza explicada                          True   \n",
       "0   seccion_7_1  varianza explicada                         False   \n",
       "0   seccion_7_2  varianza explicada                         False   \n",
       "0   seccion_8_1  varianza explicada                         False   \n",
       "0   seccion_8_2  varianza explicada                         False   \n",
       "0   seccion_8_3  varianza explicada                         False   \n",
       "0     seccion_9  varianza explicada                         False   \n",
       "0  seccion_10_1  varianza explicada                         False   \n",
       "0  seccion_10_2  varianza explicada                         False   \n",
       "\n",
       "   Max error relativo (con valor absoluto)  \\\n",
       "0                             5.597746e-01   \n",
       "0                             2.048381e-01   \n",
       "0                             1.091324e-01   \n",
       "0                             5.161847e-02   \n",
       "0                             6.779697e-05   \n",
       "0                             4.215765e-03   \n",
       "0                             1.705551e-15   \n",
       "0                             2.170579e-01   \n",
       "0                             9.193659e-02   \n",
       "0                             9.148121e-02   \n",
       "0                             9.062627e-04   \n",
       "0                             9.162654e-02   \n",
       "0                             9.266506e-02   \n",
       "0                             3.059724e-02   \n",
       "0                             4.577027e-01   \n",
       "\n",
       "                 Error relativo (con valor absoluto)  \n",
       "0  [0.5597745591370169, 0.028790013244885136, 0.0...  \n",
       "0  [0.126307315429458, 0.20483809151015386, 0.114...  \n",
       "0        [0.038494552337125544, 0.10913236956981359]  \n",
       "0  [0.04112376947389873, 0.03252009150507147, 0.0...  \n",
       "0                            [6.779697210380624e-05]  \n",
       "0        [0.00421576487797782, 0.003283532492182103]  \n",
       "0   [1.1547088008302923e-15, 1.7055514856592915e-15]  \n",
       "0  [0.21705791325173573, 0.07273377742978161, 0.1...  \n",
       "0  [0.07403009976843317, 0.03310760440223537, 0.0...  \n",
       "0  [0.01339421732388395, 0.02878380569739806, 0.0...  \n",
       "0    [0.0009062626775334845, 2.1771322902853306e-05]  \n",
       "0  [0.0036475491958196334, 0.026424498728868217, ...  \n",
       "0  [0.0926650607573313, 0.05451657585589045, 0.08...  \n",
       "0  [0.03059723734285997, 0.010807358290411975, 0....  \n",
       "0  [0.4156117506365731, 0.4577027215644075, 0.006...  "
      ]
     },
     "execution_count": 152,
     "metadata": {},
     "output_type": "execute_result"
    }
   ],
   "source": [
    "# filter valores singulares \n",
    "df_sk_vs_jac_var_expl = df_sk_vs_jac[df_sk_vs_jac['elemento']=='varianza explicada']\n",
    "df_sk_vs_jac_var_expl"
   ]
  },
  {
   "cell_type": "code",
   "execution_count": 153,
   "metadata": {
    "scrolled": false
   },
   "outputs": [
    {
     "data": {
      "text/plain": [
       "(15, 5)"
      ]
     },
     "execution_count": 153,
     "metadata": {},
     "output_type": "execute_result"
    }
   ],
   "source": [
    "df_sk_vs_jac_var_expl.shape"
   ]
  },
  {
   "cell_type": "markdown",
   "metadata": {},
   "source": [
    "De nuevo, salvo por la sección 6, en ningún otro resultado obtuvimos la igualdad, y la mayoría de los errores relativos son alrededor del orden de $10^{-2}$."
   ]
  },
  {
   "cell_type": "markdown",
   "metadata": {},
   "source": [
    "#### Coeficientes"
   ]
  },
  {
   "cell_type": "markdown",
   "metadata": {},
   "source": [
    "Veamos los resultados de la comparación para los coeficientes:"
   ]
  },
  {
   "cell_type": "code",
   "execution_count": 154,
   "metadata": {},
   "outputs": [
    {
     "data": {
      "text/html": [
       "<div>\n",
       "<style scoped>\n",
       "    .dataframe tbody tr th:only-of-type {\n",
       "        vertical-align: middle;\n",
       "    }\n",
       "\n",
       "    .dataframe tbody tr th {\n",
       "        vertical-align: top;\n",
       "    }\n",
       "\n",
       "    .dataframe thead th {\n",
       "        text-align: right;\n",
       "    }\n",
       "</style>\n",
       "<table border=\"1\" class=\"dataframe\">\n",
       "  <thead>\n",
       "    <tr style=\"text-align: right;\">\n",
       "      <th></th>\n",
       "      <th>Seccion</th>\n",
       "      <th>elemento</th>\n",
       "      <th>Igualdad (en valor absoluto)</th>\n",
       "      <th>Max error relativo (con valor absoluto)</th>\n",
       "      <th>Error relativo (con valor absoluto)</th>\n",
       "    </tr>\n",
       "  </thead>\n",
       "  <tbody>\n",
       "    <tr>\n",
       "      <th>2</th>\n",
       "      <td>seccion_1</td>\n",
       "      <td>coeficientes</td>\n",
       "      <td>False</td>\n",
       "      <td>7.746779e+02</td>\n",
       "      <td>[[0.8899611016386196, 0.7850258673183417, 0.79...</td>\n",
       "    </tr>\n",
       "    <tr>\n",
       "      <th>2</th>\n",
       "      <td>seccion_2</td>\n",
       "      <td>coeficientes</td>\n",
       "      <td>False</td>\n",
       "      <td>3.730775e+01</td>\n",
       "      <td>[[0.15104388965092766, 0.9311740542814365, 37....</td>\n",
       "    </tr>\n",
       "    <tr>\n",
       "      <th>2</th>\n",
       "      <td>seccion_3</td>\n",
       "      <td>coeficientes</td>\n",
       "      <td>False</td>\n",
       "      <td>7.574608e+00</td>\n",
       "      <td>[[0.4833494555008358, 0.019174802487839707, 0....</td>\n",
       "    </tr>\n",
       "    <tr>\n",
       "      <th>2</th>\n",
       "      <td>seccion_4</td>\n",
       "      <td>coeficientes</td>\n",
       "      <td>False</td>\n",
       "      <td>6.948794e+02</td>\n",
       "      <td>[[0.018741068235355388, 0.035586748186205185, ...</td>\n",
       "    </tr>\n",
       "    <tr>\n",
       "      <th>2</th>\n",
       "      <td>seccion_5_1</td>\n",
       "      <td>coeficientes</td>\n",
       "      <td>False</td>\n",
       "      <td>6.011951e+00</td>\n",
       "      <td>[[0.013487521683155597, 0.07487148385623248, 6...</td>\n",
       "    </tr>\n",
       "    <tr>\n",
       "      <th>2</th>\n",
       "      <td>seccion_5_2</td>\n",
       "      <td>coeficientes</td>\n",
       "      <td>False</td>\n",
       "      <td>2.427195e+00</td>\n",
       "      <td>[[0.12214631300002518, 0.2137900143185933, 0.1...</td>\n",
       "    </tr>\n",
       "    <tr>\n",
       "      <th>2</th>\n",
       "      <td>seccion_6</td>\n",
       "      <td>coeficientes</td>\n",
       "      <td>True</td>\n",
       "      <td>8.635509e-15</td>\n",
       "      <td>[[8.635508522760138e-15, 8.478499276892998e-15...</td>\n",
       "    </tr>\n",
       "    <tr>\n",
       "      <th>2</th>\n",
       "      <td>seccion_7_1</td>\n",
       "      <td>coeficientes</td>\n",
       "      <td>False</td>\n",
       "      <td>6.989034e+01</td>\n",
       "      <td>[[0.05572941838065679, 0.23890575665922156, 0....</td>\n",
       "    </tr>\n",
       "    <tr>\n",
       "      <th>2</th>\n",
       "      <td>seccion_7_2</td>\n",
       "      <td>coeficientes</td>\n",
       "      <td>False</td>\n",
       "      <td>2.987641e+01</td>\n",
       "      <td>[[0.6674372806598604, 0.4995088801926291, 1.07...</td>\n",
       "    </tr>\n",
       "    <tr>\n",
       "      <th>2</th>\n",
       "      <td>seccion_8_1</td>\n",
       "      <td>coeficientes</td>\n",
       "      <td>False</td>\n",
       "      <td>2.732209e+02</td>\n",
       "      <td>[[0.09084791344846525, 1.981559342620171, 0.79...</td>\n",
       "    </tr>\n",
       "    <tr>\n",
       "      <th>2</th>\n",
       "      <td>seccion_8_2</td>\n",
       "      <td>coeficientes</td>\n",
       "      <td>False</td>\n",
       "      <td>5.682295e+00</td>\n",
       "      <td>[[0.026927109211328095, 0.0892985725717341, 1....</td>\n",
       "    </tr>\n",
       "    <tr>\n",
       "      <th>2</th>\n",
       "      <td>seccion_8_3</td>\n",
       "      <td>coeficientes</td>\n",
       "      <td>False</td>\n",
       "      <td>4.461264e+02</td>\n",
       "      <td>[[0.08601135958769845, 0.46657735006960854, 0....</td>\n",
       "    </tr>\n",
       "    <tr>\n",
       "      <th>2</th>\n",
       "      <td>seccion_9</td>\n",
       "      <td>coeficientes</td>\n",
       "      <td>False</td>\n",
       "      <td>5.716033e+01</td>\n",
       "      <td>[[0.19766023612332118, 57.16033341125681, 0.20...</td>\n",
       "    </tr>\n",
       "    <tr>\n",
       "      <th>2</th>\n",
       "      <td>seccion_10_1</td>\n",
       "      <td>coeficientes</td>\n",
       "      <td>False</td>\n",
       "      <td>2.153746e+01</td>\n",
       "      <td>[[0.46815517125038325, 0.21144397523613703, 0....</td>\n",
       "    </tr>\n",
       "    <tr>\n",
       "      <th>2</th>\n",
       "      <td>seccion_10_2</td>\n",
       "      <td>coeficientes</td>\n",
       "      <td>False</td>\n",
       "      <td>1.504133e+02</td>\n",
       "      <td>[[0.4340216516319654, 2.866630510233668, 0.077...</td>\n",
       "    </tr>\n",
       "  </tbody>\n",
       "</table>\n",
       "</div>"
      ],
      "text/plain": [
       "        Seccion      elemento  Igualdad (en valor absoluto)  \\\n",
       "2     seccion_1  coeficientes                         False   \n",
       "2     seccion_2  coeficientes                         False   \n",
       "2     seccion_3  coeficientes                         False   \n",
       "2     seccion_4  coeficientes                         False   \n",
       "2   seccion_5_1  coeficientes                         False   \n",
       "2   seccion_5_2  coeficientes                         False   \n",
       "2     seccion_6  coeficientes                          True   \n",
       "2   seccion_7_1  coeficientes                         False   \n",
       "2   seccion_7_2  coeficientes                         False   \n",
       "2   seccion_8_1  coeficientes                         False   \n",
       "2   seccion_8_2  coeficientes                         False   \n",
       "2   seccion_8_3  coeficientes                         False   \n",
       "2     seccion_9  coeficientes                         False   \n",
       "2  seccion_10_1  coeficientes                         False   \n",
       "2  seccion_10_2  coeficientes                         False   \n",
       "\n",
       "   Max error relativo (con valor absoluto)  \\\n",
       "2                             7.746779e+02   \n",
       "2                             3.730775e+01   \n",
       "2                             7.574608e+00   \n",
       "2                             6.948794e+02   \n",
       "2                             6.011951e+00   \n",
       "2                             2.427195e+00   \n",
       "2                             8.635509e-15   \n",
       "2                             6.989034e+01   \n",
       "2                             2.987641e+01   \n",
       "2                             2.732209e+02   \n",
       "2                             5.682295e+00   \n",
       "2                             4.461264e+02   \n",
       "2                             5.716033e+01   \n",
       "2                             2.153746e+01   \n",
       "2                             1.504133e+02   \n",
       "\n",
       "                 Error relativo (con valor absoluto)  \n",
       "2  [[0.8899611016386196, 0.7850258673183417, 0.79...  \n",
       "2  [[0.15104388965092766, 0.9311740542814365, 37....  \n",
       "2  [[0.4833494555008358, 0.019174802487839707, 0....  \n",
       "2  [[0.018741068235355388, 0.035586748186205185, ...  \n",
       "2  [[0.013487521683155597, 0.07487148385623248, 6...  \n",
       "2  [[0.12214631300002518, 0.2137900143185933, 0.1...  \n",
       "2  [[8.635508522760138e-15, 8.478499276892998e-15...  \n",
       "2  [[0.05572941838065679, 0.23890575665922156, 0....  \n",
       "2  [[0.6674372806598604, 0.4995088801926291, 1.07...  \n",
       "2  [[0.09084791344846525, 1.981559342620171, 0.79...  \n",
       "2  [[0.026927109211328095, 0.0892985725717341, 1....  \n",
       "2  [[0.08601135958769845, 0.46657735006960854, 0....  \n",
       "2  [[0.19766023612332118, 57.16033341125681, 0.20...  \n",
       "2  [[0.46815517125038325, 0.21144397523613703, 0....  \n",
       "2  [[0.4340216516319654, 2.866630510233668, 0.077...  "
      ]
     },
     "execution_count": 154,
     "metadata": {},
     "output_type": "execute_result"
    }
   ],
   "source": [
    "# filter valores singulares \n",
    "df_sk_vs_jac_coef = df_sk_vs_jac[df_sk_vs_jac['elemento']=='coeficientes']\n",
    "df_sk_vs_jac_coef"
   ]
  },
  {
   "cell_type": "code",
   "execution_count": 155,
   "metadata": {
    "scrolled": true
   },
   "outputs": [
    {
     "data": {
      "text/plain": [
       "(15, 5)"
      ]
     },
     "execution_count": 155,
     "metadata": {},
     "output_type": "execute_result"
    }
   ],
   "source": [
    "df_sk_vs_jac_coef.shape"
   ]
  },
  {
   "cell_type": "markdown",
   "metadata": {},
   "source": [
    "En este caso, observamos que salvo por la sección 6, en ningún otro resultado obtuvimos la igualdad, y que los errores relativos son bastante grandes (hasta $10^2$), por lo que no estamos obteniendo una muy buena aproximación."
   ]
  },
  {
   "cell_type": "markdown",
   "metadata": {},
   "source": [
    "#### Componentes principales"
   ]
  },
  {
   "cell_type": "markdown",
   "metadata": {},
   "source": [
    "Veamos los resultados de la comparación para los componentes obtenidos:"
   ]
  },
  {
   "cell_type": "code",
   "execution_count": 156,
   "metadata": {},
   "outputs": [
    {
     "data": {
      "text/html": [
       "<div>\n",
       "<style scoped>\n",
       "    .dataframe tbody tr th:only-of-type {\n",
       "        vertical-align: middle;\n",
       "    }\n",
       "\n",
       "    .dataframe tbody tr th {\n",
       "        vertical-align: top;\n",
       "    }\n",
       "\n",
       "    .dataframe thead th {\n",
       "        text-align: right;\n",
       "    }\n",
       "</style>\n",
       "<table border=\"1\" class=\"dataframe\">\n",
       "  <thead>\n",
       "    <tr style=\"text-align: right;\">\n",
       "      <th></th>\n",
       "      <th>Seccion</th>\n",
       "      <th>elemento</th>\n",
       "      <th>Igualdad (en valor absoluto)</th>\n",
       "      <th>Max error relativo (con valor absoluto)</th>\n",
       "      <th>Error relativo (con valor absoluto)</th>\n",
       "    </tr>\n",
       "  </thead>\n",
       "  <tbody>\n",
       "    <tr>\n",
       "      <th>3</th>\n",
       "      <td>seccion_1</td>\n",
       "      <td>componentes principales</td>\n",
       "      <td>False</td>\n",
       "      <td>6.549034e+06</td>\n",
       "      <td>[[739.0213528847813, 30.11391147729844, 1154.1...</td>\n",
       "    </tr>\n",
       "    <tr>\n",
       "      <th>3</th>\n",
       "      <td>seccion_2</td>\n",
       "      <td>componentes principales</td>\n",
       "      <td>False</td>\n",
       "      <td>2.998254e+06</td>\n",
       "      <td>[[3380.405114797662, 55.090909932104154, 0.020...</td>\n",
       "    </tr>\n",
       "    <tr>\n",
       "      <th>3</th>\n",
       "      <td>seccion_3</td>\n",
       "      <td>componentes principales</td>\n",
       "      <td>False</td>\n",
       "      <td>2.218037e+08</td>\n",
       "      <td>[[1144.2424262714808, 3440.958961197482], [258...</td>\n",
       "    </tr>\n",
       "    <tr>\n",
       "      <th>3</th>\n",
       "      <td>seccion_4</td>\n",
       "      <td>componentes principales</td>\n",
       "      <td>False</td>\n",
       "      <td>2.062674e+10</td>\n",
       "      <td>[[1067.708263034393, 4624.663310507209, 1086.4...</td>\n",
       "    </tr>\n",
       "    <tr>\n",
       "      <th>3</th>\n",
       "      <td>seccion_5_1</td>\n",
       "      <td>componentes principales</td>\n",
       "      <td>False</td>\n",
       "      <td>1.061854e+05</td>\n",
       "      <td>[[2176.547143604811], [1185.3528509361165], [1...</td>\n",
       "    </tr>\n",
       "    <tr>\n",
       "      <th>3</th>\n",
       "      <td>seccion_5_2</td>\n",
       "      <td>componentes principales</td>\n",
       "      <td>False</td>\n",
       "      <td>3.374886e+05</td>\n",
       "      <td>[[3516.789333221952, 757.0460589487742], [3877...</td>\n",
       "    </tr>\n",
       "    <tr>\n",
       "      <th>3</th>\n",
       "      <td>seccion_6</td>\n",
       "      <td>componentes principales</td>\n",
       "      <td>False</td>\n",
       "      <td>4.853796e+04</td>\n",
       "      <td>[[761.0656750587331, 944.3492894702955], [86.4...</td>\n",
       "    </tr>\n",
       "    <tr>\n",
       "      <th>3</th>\n",
       "      <td>seccion_7_1</td>\n",
       "      <td>componentes principales</td>\n",
       "      <td>False</td>\n",
       "      <td>6.646681e+06</td>\n",
       "      <td>[[5278.56772669397, 2499.8443701227034, 29652....</td>\n",
       "    </tr>\n",
       "    <tr>\n",
       "      <th>3</th>\n",
       "      <td>seccion_7_2</td>\n",
       "      <td>componentes principales</td>\n",
       "      <td>False</td>\n",
       "      <td>4.885065e+07</td>\n",
       "      <td>[[1092.6131895026354, 1179.0850653572131, 1280...</td>\n",
       "    </tr>\n",
       "    <tr>\n",
       "      <th>3</th>\n",
       "      <td>seccion_8_1</td>\n",
       "      <td>componentes principales</td>\n",
       "      <td>False</td>\n",
       "      <td>6.790352e+06</td>\n",
       "      <td>[[2335.163566647474, 29.851136890637655, 648.8...</td>\n",
       "    </tr>\n",
       "    <tr>\n",
       "      <th>3</th>\n",
       "      <td>seccion_8_2</td>\n",
       "      <td>componentes principales</td>\n",
       "      <td>False</td>\n",
       "      <td>7.769199e+05</td>\n",
       "      <td>[[68.42147088965079, 674.7840741185718], [1446...</td>\n",
       "    </tr>\n",
       "    <tr>\n",
       "      <th>3</th>\n",
       "      <td>seccion_8_3</td>\n",
       "      <td>componentes principales</td>\n",
       "      <td>False</td>\n",
       "      <td>1.333440e+09</td>\n",
       "      <td>[[2997.078335858114, 370.7015529291581, 1355.9...</td>\n",
       "    </tr>\n",
       "    <tr>\n",
       "      <th>3</th>\n",
       "      <td>seccion_9</td>\n",
       "      <td>componentes principales</td>\n",
       "      <td>False</td>\n",
       "      <td>1.141240e+09</td>\n",
       "      <td>[[522.5822299432131, 1202.785365743722, 6182.9...</td>\n",
       "    </tr>\n",
       "    <tr>\n",
       "      <th>3</th>\n",
       "      <td>seccion_10_1</td>\n",
       "      <td>componentes principales</td>\n",
       "      <td>False</td>\n",
       "      <td>1.442623e+08</td>\n",
       "      <td>[[1390.2547512857423, 9489.941773978617, 114.9...</td>\n",
       "    </tr>\n",
       "    <tr>\n",
       "      <th>3</th>\n",
       "      <td>seccion_10_2</td>\n",
       "      <td>componentes principales</td>\n",
       "      <td>False</td>\n",
       "      <td>1.860172e+09</td>\n",
       "      <td>[[9771.063718072663, 3225.2562478124623, 5519....</td>\n",
       "    </tr>\n",
       "  </tbody>\n",
       "</table>\n",
       "</div>"
      ],
      "text/plain": [
       "        Seccion                 elemento  Igualdad (en valor absoluto)  \\\n",
       "3     seccion_1  componentes principales                         False   \n",
       "3     seccion_2  componentes principales                         False   \n",
       "3     seccion_3  componentes principales                         False   \n",
       "3     seccion_4  componentes principales                         False   \n",
       "3   seccion_5_1  componentes principales                         False   \n",
       "3   seccion_5_2  componentes principales                         False   \n",
       "3     seccion_6  componentes principales                         False   \n",
       "3   seccion_7_1  componentes principales                         False   \n",
       "3   seccion_7_2  componentes principales                         False   \n",
       "3   seccion_8_1  componentes principales                         False   \n",
       "3   seccion_8_2  componentes principales                         False   \n",
       "3   seccion_8_3  componentes principales                         False   \n",
       "3     seccion_9  componentes principales                         False   \n",
       "3  seccion_10_1  componentes principales                         False   \n",
       "3  seccion_10_2  componentes principales                         False   \n",
       "\n",
       "   Max error relativo (con valor absoluto)  \\\n",
       "3                             6.549034e+06   \n",
       "3                             2.998254e+06   \n",
       "3                             2.218037e+08   \n",
       "3                             2.062674e+10   \n",
       "3                             1.061854e+05   \n",
       "3                             3.374886e+05   \n",
       "3                             4.853796e+04   \n",
       "3                             6.646681e+06   \n",
       "3                             4.885065e+07   \n",
       "3                             6.790352e+06   \n",
       "3                             7.769199e+05   \n",
       "3                             1.333440e+09   \n",
       "3                             1.141240e+09   \n",
       "3                             1.442623e+08   \n",
       "3                             1.860172e+09   \n",
       "\n",
       "                 Error relativo (con valor absoluto)  \n",
       "3  [[739.0213528847813, 30.11391147729844, 1154.1...  \n",
       "3  [[3380.405114797662, 55.090909932104154, 0.020...  \n",
       "3  [[1144.2424262714808, 3440.958961197482], [258...  \n",
       "3  [[1067.708263034393, 4624.663310507209, 1086.4...  \n",
       "3  [[2176.547143604811], [1185.3528509361165], [1...  \n",
       "3  [[3516.789333221952, 757.0460589487742], [3877...  \n",
       "3  [[761.0656750587331, 944.3492894702955], [86.4...  \n",
       "3  [[5278.56772669397, 2499.8443701227034, 29652....  \n",
       "3  [[1092.6131895026354, 1179.0850653572131, 1280...  \n",
       "3  [[2335.163566647474, 29.851136890637655, 648.8...  \n",
       "3  [[68.42147088965079, 674.7840741185718], [1446...  \n",
       "3  [[2997.078335858114, 370.7015529291581, 1355.9...  \n",
       "3  [[522.5822299432131, 1202.785365743722, 6182.9...  \n",
       "3  [[1390.2547512857423, 9489.941773978617, 114.9...  \n",
       "3  [[9771.063718072663, 3225.2562478124623, 5519....  "
      ]
     },
     "execution_count": 156,
     "metadata": {},
     "output_type": "execute_result"
    }
   ],
   "source": [
    "# filter valores singulares \n",
    "df_sk_vs_jac_comp = df_sk_vs_jac[df_sk_vs_jac['elemento']=='componentes principales']\n",
    "df_sk_vs_jac_comp"
   ]
  },
  {
   "cell_type": "markdown",
   "metadata": {},
   "source": [
    "En el caso de los componentes principales, en ninguna sección obtuvimos la igualdad respecto al resultado de `sk learn`, y además, los errores relativos se ven magnificados hasta un orden de $10^{10}$, por lo que no estamos obteniendo una muy buena aproximación."
   ]
  },
  {
   "cell_type": "code",
   "execution_count": 157,
   "metadata": {},
   "outputs": [],
   "source": [
    "# Guardamos los resultados para mostrarlos en el reporte\n",
    "compara_sk_jacobi = [df_sk_vs_jac_val_sing,df_sk_vs_jac_var_expl,df_sk_vs_jac_coef,df_sk_vs_jac_comp]\n",
    "df_compara_sk_jacobi = pd.concat(compara_sk_jacobi)\n",
    "# df_compara_sk_jacobi.to_csv('../../results/data_results/comparativa_sk_jacobi.csv', index=False)"
   ]
  },
  {
   "cell_type": "markdown",
   "metadata": {},
   "source": [
    "### Scikit learn vs PCA a partir del algoritmo QR"
   ]
  },
  {
   "cell_type": "markdown",
   "metadata": {},
   "source": [
    "Obtenemos las comparaciones faltantes con valores absolutos y juntamos los resultados en un data frame para facilitar su análisis:"
   ]
  },
  {
   "cell_type": "code",
   "execution_count": 181,
   "metadata": {},
   "outputs": [],
   "source": [
    "sk_vs_qr = [ df_seccion_1_qr,df_seccion_2_qr,df_seccion_3_qr, df_seccion_4_qr,\n",
    " df_seccion_5_1_qr, df_seccion_5_2_qr, df_seccion_6_qr, df_seccion_7_1_qr, \n",
    " df_seccion_7_2_qr, df_seccion_8_1_qr, df_seccion_8_2_qr, df_seccion_8_3_qr,\n",
    " df_seccion_9_qr, df_seccion_10_1_qr, df_seccion_10_2_qr]\n",
    "df_sk_vs_qr = pd.concat(sk_vs_qr)"
   ]
  },
  {
   "cell_type": "markdown",
   "metadata": {},
   "source": [
    "#### Valores singulares"
   ]
  },
  {
   "cell_type": "markdown",
   "metadata": {},
   "source": [
    "Veamos los resultados de la comparación para los valores singulares:"
   ]
  },
  {
   "cell_type": "code",
   "execution_count": 189,
   "metadata": {},
   "outputs": [
    {
     "data": {
      "text/html": [
       "<div>\n",
       "<style scoped>\n",
       "    .dataframe tbody tr th:only-of-type {\n",
       "        vertical-align: middle;\n",
       "    }\n",
       "\n",
       "    .dataframe tbody tr th {\n",
       "        vertical-align: top;\n",
       "    }\n",
       "\n",
       "    .dataframe thead th {\n",
       "        text-align: right;\n",
       "    }\n",
       "</style>\n",
       "<table border=\"1\" class=\"dataframe\">\n",
       "  <thead>\n",
       "    <tr style=\"text-align: right;\">\n",
       "      <th></th>\n",
       "      <th>Seccion</th>\n",
       "      <th>elemento</th>\n",
       "      <th>Igualdad (en valor absoluto)</th>\n",
       "      <th>Max error relativo (con valor absoluto)</th>\n",
       "      <th>Error relativo (con valor absoluto)</th>\n",
       "    </tr>\n",
       "  </thead>\n",
       "  <tbody>\n",
       "    <tr>\n",
       "      <th>1</th>\n",
       "      <td>seccion_1</td>\n",
       "      <td>eigenvalores</td>\n",
       "      <td>True</td>\n",
       "      <td>1.402497e-13</td>\n",
       "      <td>[6.469083362511687e-14, 2.414423985846565e-14,...</td>\n",
       "    </tr>\n",
       "    <tr>\n",
       "      <th>1</th>\n",
       "      <td>seccion_2</td>\n",
       "      <td>eigenvalores</td>\n",
       "      <td>True</td>\n",
       "      <td>6.182706e-06</td>\n",
       "      <td>[1.3636577603894522e-13, 6.016401196106755e-06...</td>\n",
       "    </tr>\n",
       "    <tr>\n",
       "      <th>1</th>\n",
       "      <td>seccion_3</td>\n",
       "      <td>eigenvalores</td>\n",
       "      <td>True</td>\n",
       "      <td>5.348311e-14</td>\n",
       "      <td>[1.9301538251445997e-14, 5.3483108037220185e-14]</td>\n",
       "    </tr>\n",
       "    <tr>\n",
       "      <th>1</th>\n",
       "      <td>seccion_4</td>\n",
       "      <td>eigenvalores</td>\n",
       "      <td>False</td>\n",
       "      <td>3.287058e-03</td>\n",
       "      <td>[6.919461792403764e-15, 5.00503432054534e-15, ...</td>\n",
       "    </tr>\n",
       "    <tr>\n",
       "      <th>1</th>\n",
       "      <td>seccion_5_1</td>\n",
       "      <td>eigenvalores</td>\n",
       "      <td>True</td>\n",
       "      <td>1.384585e-13</td>\n",
       "      <td>[1.3845854997846134e-13]</td>\n",
       "    </tr>\n",
       "    <tr>\n",
       "      <th>1</th>\n",
       "      <td>seccion_5_2</td>\n",
       "      <td>eigenvalores</td>\n",
       "      <td>True</td>\n",
       "      <td>6.158501e-14</td>\n",
       "      <td>[2.0426482084662247e-14, 6.158501343219229e-14]</td>\n",
       "    </tr>\n",
       "    <tr>\n",
       "      <th>1</th>\n",
       "      <td>seccion_6</td>\n",
       "      <td>eigenvalores</td>\n",
       "      <td>True</td>\n",
       "      <td>9.815007e-15</td>\n",
       "      <td>[9.815007299798092e-15, 7.08458584195003e-15]</td>\n",
       "    </tr>\n",
       "    <tr>\n",
       "      <th>1</th>\n",
       "      <td>seccion_7_1</td>\n",
       "      <td>eigenvalores</td>\n",
       "      <td>False</td>\n",
       "      <td>1.525962e-03</td>\n",
       "      <td>[6.870259717438163e-14, 2.5879191617594965e-15...</td>\n",
       "    </tr>\n",
       "    <tr>\n",
       "      <th>1</th>\n",
       "      <td>seccion_7_2</td>\n",
       "      <td>eigenvalores</td>\n",
       "      <td>False</td>\n",
       "      <td>NaN</td>\n",
       "      <td>[nan, nan, nan, nan, nan, nan]</td>\n",
       "    </tr>\n",
       "    <tr>\n",
       "      <th>1</th>\n",
       "      <td>seccion_8_1</td>\n",
       "      <td>eigenvalores</td>\n",
       "      <td>True</td>\n",
       "      <td>4.667493e-06</td>\n",
       "      <td>[3.096087807917376e-15, 4.538421445469778e-06,...</td>\n",
       "    </tr>\n",
       "    <tr>\n",
       "      <th>1</th>\n",
       "      <td>seccion_8_2</td>\n",
       "      <td>eigenvalores</td>\n",
       "      <td>True</td>\n",
       "      <td>1.094644e-13</td>\n",
       "      <td>[1.0946435733014267e-13, 6.933331127863261e-14]</td>\n",
       "    </tr>\n",
       "    <tr>\n",
       "      <th>1</th>\n",
       "      <td>seccion_8_3</td>\n",
       "      <td>eigenvalores</td>\n",
       "      <td>True</td>\n",
       "      <td>1.423720e-10</td>\n",
       "      <td>[4.767725227039295e-15, 9.885083650522588e-15,...</td>\n",
       "    </tr>\n",
       "    <tr>\n",
       "      <th>1</th>\n",
       "      <td>seccion_9</td>\n",
       "      <td>eigenvalores</td>\n",
       "      <td>True</td>\n",
       "      <td>1.313781e-12</td>\n",
       "      <td>[2.4326339732729288e-14, 3.3771760918787334e-1...</td>\n",
       "    </tr>\n",
       "    <tr>\n",
       "      <th>1</th>\n",
       "      <td>seccion_10_1</td>\n",
       "      <td>eigenvalores</td>\n",
       "      <td>True</td>\n",
       "      <td>1.988227e-13</td>\n",
       "      <td>[2.7981302072965103e-14, 1.4892323203429928e-1...</td>\n",
       "    </tr>\n",
       "    <tr>\n",
       "      <th>1</th>\n",
       "      <td>seccion_10_2</td>\n",
       "      <td>eigenvalores</td>\n",
       "      <td>True</td>\n",
       "      <td>8.198896e-11</td>\n",
       "      <td>[5.990604692178757e-15, 4.864651556989874e-15,...</td>\n",
       "    </tr>\n",
       "  </tbody>\n",
       "</table>\n",
       "</div>"
      ],
      "text/plain": [
       "        Seccion      elemento  Igualdad (en valor absoluto)  \\\n",
       "1     seccion_1  eigenvalores                          True   \n",
       "1     seccion_2  eigenvalores                          True   \n",
       "1     seccion_3  eigenvalores                          True   \n",
       "1     seccion_4  eigenvalores                         False   \n",
       "1   seccion_5_1  eigenvalores                          True   \n",
       "1   seccion_5_2  eigenvalores                          True   \n",
       "1     seccion_6  eigenvalores                          True   \n",
       "1   seccion_7_1  eigenvalores                         False   \n",
       "1   seccion_7_2  eigenvalores                         False   \n",
       "1   seccion_8_1  eigenvalores                          True   \n",
       "1   seccion_8_2  eigenvalores                          True   \n",
       "1   seccion_8_3  eigenvalores                          True   \n",
       "1     seccion_9  eigenvalores                          True   \n",
       "1  seccion_10_1  eigenvalores                          True   \n",
       "1  seccion_10_2  eigenvalores                          True   \n",
       "\n",
       "   Max error relativo (con valor absoluto)  \\\n",
       "1                             1.402497e-13   \n",
       "1                             6.182706e-06   \n",
       "1                             5.348311e-14   \n",
       "1                             3.287058e-03   \n",
       "1                             1.384585e-13   \n",
       "1                             6.158501e-14   \n",
       "1                             9.815007e-15   \n",
       "1                             1.525962e-03   \n",
       "1                                      NaN   \n",
       "1                             4.667493e-06   \n",
       "1                             1.094644e-13   \n",
       "1                             1.423720e-10   \n",
       "1                             1.313781e-12   \n",
       "1                             1.988227e-13   \n",
       "1                             8.198896e-11   \n",
       "\n",
       "                 Error relativo (con valor absoluto)  \n",
       "1  [6.469083362511687e-14, 2.414423985846565e-14,...  \n",
       "1  [1.3636577603894522e-13, 6.016401196106755e-06...  \n",
       "1   [1.9301538251445997e-14, 5.3483108037220185e-14]  \n",
       "1  [6.919461792403764e-15, 5.00503432054534e-15, ...  \n",
       "1                           [1.3845854997846134e-13]  \n",
       "1    [2.0426482084662247e-14, 6.158501343219229e-14]  \n",
       "1      [9.815007299798092e-15, 7.08458584195003e-15]  \n",
       "1  [6.870259717438163e-14, 2.5879191617594965e-15...  \n",
       "1                     [nan, nan, nan, nan, nan, nan]  \n",
       "1  [3.096087807917376e-15, 4.538421445469778e-06,...  \n",
       "1    [1.0946435733014267e-13, 6.933331127863261e-14]  \n",
       "1  [4.767725227039295e-15, 9.885083650522588e-15,...  \n",
       "1  [2.4326339732729288e-14, 3.3771760918787334e-1...  \n",
       "1  [2.7981302072965103e-14, 1.4892323203429928e-1...  \n",
       "1  [5.990604692178757e-15, 4.864651556989874e-15,...  "
      ]
     },
     "execution_count": 189,
     "metadata": {},
     "output_type": "execute_result"
    }
   ],
   "source": [
    "# filter valores singulares \n",
    "df_sk_vs_qr_eigenval = df_sk_vs_qr[df_sk_vs_qr['elemento']=='eigenvalores']\n",
    "df_sk_vs_qr_eigenval"
   ]
  },
  {
   "cell_type": "code",
   "execution_count": 190,
   "metadata": {},
   "outputs": [
    {
     "data": {
      "text/plain": [
       "(15, 5)"
      ]
     },
     "execution_count": 190,
     "metadata": {},
     "output_type": "execute_result"
    }
   ],
   "source": [
    "df_sk_vs_qr_eigenval.shape"
   ]
  },
  {
   "cell_type": "markdown",
   "metadata": {},
   "source": [
    "En este caso, observamos que salvo por la sección 6, donde la matriz tenía número de condición cercano a uno, en ningún otro resultado obtuvimos la igualdad, y que la mayoría de los errores relativos son alrededor del orden de $10^{-2}$."
   ]
  },
  {
   "cell_type": "markdown",
   "metadata": {},
   "source": [
    "#### Varianza explicada"
   ]
  },
  {
   "cell_type": "markdown",
   "metadata": {},
   "source": [
    "Veamos los resultados de la comparación para la varianza explicada:"
   ]
  },
  {
   "cell_type": "code",
   "execution_count": 184,
   "metadata": {},
   "outputs": [
    {
     "data": {
      "text/html": [
       "<div>\n",
       "<style scoped>\n",
       "    .dataframe tbody tr th:only-of-type {\n",
       "        vertical-align: middle;\n",
       "    }\n",
       "\n",
       "    .dataframe tbody tr th {\n",
       "        vertical-align: top;\n",
       "    }\n",
       "\n",
       "    .dataframe thead th {\n",
       "        text-align: right;\n",
       "    }\n",
       "</style>\n",
       "<table border=\"1\" class=\"dataframe\">\n",
       "  <thead>\n",
       "    <tr style=\"text-align: right;\">\n",
       "      <th></th>\n",
       "      <th>Seccion</th>\n",
       "      <th>elemento</th>\n",
       "      <th>Igualdad (en valor absoluto)</th>\n",
       "      <th>Max error relativo (con valor absoluto)</th>\n",
       "      <th>Error relativo (con valor absoluto)</th>\n",
       "    </tr>\n",
       "  </thead>\n",
       "  <tbody>\n",
       "    <tr>\n",
       "      <th>0</th>\n",
       "      <td>seccion_1</td>\n",
       "      <td>varianza explicada</td>\n",
       "      <td>True</td>\n",
       "      <td>1.357242e-13</td>\n",
       "      <td>[6.016124044870922e-14, 2.869954191156973e-14,...</td>\n",
       "    </tr>\n",
       "    <tr>\n",
       "      <th>0</th>\n",
       "      <td>seccion_2</td>\n",
       "      <td>varianza explicada</td>\n",
       "      <td>True</td>\n",
       "      <td>6.182706e-06</td>\n",
       "      <td>[1.426533869698987e-13, 6.0164012023457805e-06...</td>\n",
       "    </tr>\n",
       "    <tr>\n",
       "      <th>0</th>\n",
       "      <td>seccion_3</td>\n",
       "      <td>varianza explicada</td>\n",
       "      <td>True</td>\n",
       "      <td>3.164762e-14</td>\n",
       "      <td>[2.5690750673682666e-15, 3.164761800294246e-14]</td>\n",
       "    </tr>\n",
       "    <tr>\n",
       "      <th>0</th>\n",
       "      <td>seccion_4</td>\n",
       "      <td>varianza explicada</td>\n",
       "      <td>False</td>\n",
       "      <td>3.287058e-03</td>\n",
       "      <td>[9.081809801938787e-15, 2.7590300905387026e-15...</td>\n",
       "    </tr>\n",
       "    <tr>\n",
       "      <th>0</th>\n",
       "      <td>seccion_5_1</td>\n",
       "      <td>varianza explicada</td>\n",
       "      <td>True</td>\n",
       "      <td>7.026933e-14</td>\n",
       "      <td>[7.026932506165296e-14]</td>\n",
       "    </tr>\n",
       "    <tr>\n",
       "      <th>0</th>\n",
       "      <td>seccion_5_2</td>\n",
       "      <td>varianza explicada</td>\n",
       "      <td>True</td>\n",
       "      <td>7.398868e-14</td>\n",
       "      <td>[8.058167856458061e-15, 7.398868441239215e-14]</td>\n",
       "    </tr>\n",
       "    <tr>\n",
       "      <th>0</th>\n",
       "      <td>seccion_6</td>\n",
       "      <td>varianza explicada</td>\n",
       "      <td>True</td>\n",
       "      <td>1.574355e-15</td>\n",
       "      <td>[1.1547088008302923e-15, 1.574355217531654e-15]</td>\n",
       "    </tr>\n",
       "    <tr>\n",
       "      <th>0</th>\n",
       "      <td>seccion_7_1</td>\n",
       "      <td>varianza explicada</td>\n",
       "      <td>False</td>\n",
       "      <td>1.525962e-03</td>\n",
       "      <td>[6.593987576421898e-14, 5.513402831160754e-15,...</td>\n",
       "    </tr>\n",
       "    <tr>\n",
       "      <th>0</th>\n",
       "      <td>seccion_7_2</td>\n",
       "      <td>varianza explicada</td>\n",
       "      <td>False</td>\n",
       "      <td>NaN</td>\n",
       "      <td>[nan, nan, nan, nan, nan, nan]</td>\n",
       "    </tr>\n",
       "    <tr>\n",
       "      <th>0</th>\n",
       "      <td>seccion_8_1</td>\n",
       "      <td>varianza explicada</td>\n",
       "      <td>True</td>\n",
       "      <td>4.667493e-06</td>\n",
       "      <td>[1.9432059455788525e-14, 4.538421461894037e-06...</td>\n",
       "    </tr>\n",
       "    <tr>\n",
       "      <th>0</th>\n",
       "      <td>seccion_8_2</td>\n",
       "      <td>varianza explicada</td>\n",
       "      <td>True</td>\n",
       "      <td>1.058335e-13</td>\n",
       "      <td>[7.290159752027614e-14, 1.05833488445451e-13]</td>\n",
       "    </tr>\n",
       "    <tr>\n",
       "      <th>0</th>\n",
       "      <td>seccion_8_3</td>\n",
       "      <td>varianza explicada</td>\n",
       "      <td>True</td>\n",
       "      <td>1.423646e-10</td>\n",
       "      <td>[1.1919334328357301e-14, 1.7198058864426375e-1...</td>\n",
       "    </tr>\n",
       "    <tr>\n",
       "      <th>0</th>\n",
       "      <td>seccion_9</td>\n",
       "      <td>varianza explicada</td>\n",
       "      <td>True</td>\n",
       "      <td>1.303488e-12</td>\n",
       "      <td>[1.4019263001767446e-14, 2.356567841867348e-14...</td>\n",
       "    </tr>\n",
       "    <tr>\n",
       "      <th>0</th>\n",
       "      <td>seccion_10_1</td>\n",
       "      <td>varianza explicada</td>\n",
       "      <td>True</td>\n",
       "      <td>1.367378e-13</td>\n",
       "      <td>[3.3980665033393925e-14, 4.7023532983460735e-1...</td>\n",
       "    </tr>\n",
       "    <tr>\n",
       "      <th>0</th>\n",
       "      <td>seccion_10_2</td>\n",
       "      <td>varianza explicada</td>\n",
       "      <td>True</td>\n",
       "      <td>8.199142e-11</td>\n",
       "      <td>[8.49531232449764e-15, 7.378068021844639e-15, ...</td>\n",
       "    </tr>\n",
       "  </tbody>\n",
       "</table>\n",
       "</div>"
      ],
      "text/plain": [
       "        Seccion            elemento  Igualdad (en valor absoluto)  \\\n",
       "0     seccion_1  varianza explicada                          True   \n",
       "0     seccion_2  varianza explicada                          True   \n",
       "0     seccion_3  varianza explicada                          True   \n",
       "0     seccion_4  varianza explicada                         False   \n",
       "0   seccion_5_1  varianza explicada                          True   \n",
       "0   seccion_5_2  varianza explicada                          True   \n",
       "0     seccion_6  varianza explicada                          True   \n",
       "0   seccion_7_1  varianza explicada                         False   \n",
       "0   seccion_7_2  varianza explicada                         False   \n",
       "0   seccion_8_1  varianza explicada                          True   \n",
       "0   seccion_8_2  varianza explicada                          True   \n",
       "0   seccion_8_3  varianza explicada                          True   \n",
       "0     seccion_9  varianza explicada                          True   \n",
       "0  seccion_10_1  varianza explicada                          True   \n",
       "0  seccion_10_2  varianza explicada                          True   \n",
       "\n",
       "   Max error relativo (con valor absoluto)  \\\n",
       "0                             1.357242e-13   \n",
       "0                             6.182706e-06   \n",
       "0                             3.164762e-14   \n",
       "0                             3.287058e-03   \n",
       "0                             7.026933e-14   \n",
       "0                             7.398868e-14   \n",
       "0                             1.574355e-15   \n",
       "0                             1.525962e-03   \n",
       "0                                      NaN   \n",
       "0                             4.667493e-06   \n",
       "0                             1.058335e-13   \n",
       "0                             1.423646e-10   \n",
       "0                             1.303488e-12   \n",
       "0                             1.367378e-13   \n",
       "0                             8.199142e-11   \n",
       "\n",
       "                 Error relativo (con valor absoluto)  \n",
       "0  [6.016124044870922e-14, 2.869954191156973e-14,...  \n",
       "0  [1.426533869698987e-13, 6.0164012023457805e-06...  \n",
       "0    [2.5690750673682666e-15, 3.164761800294246e-14]  \n",
       "0  [9.081809801938787e-15, 2.7590300905387026e-15...  \n",
       "0                            [7.026932506165296e-14]  \n",
       "0     [8.058167856458061e-15, 7.398868441239215e-14]  \n",
       "0    [1.1547088008302923e-15, 1.574355217531654e-15]  \n",
       "0  [6.593987576421898e-14, 5.513402831160754e-15,...  \n",
       "0                     [nan, nan, nan, nan, nan, nan]  \n",
       "0  [1.9432059455788525e-14, 4.538421461894037e-06...  \n",
       "0      [7.290159752027614e-14, 1.05833488445451e-13]  \n",
       "0  [1.1919334328357301e-14, 1.7198058864426375e-1...  \n",
       "0  [1.4019263001767446e-14, 2.356567841867348e-14...  \n",
       "0  [3.3980665033393925e-14, 4.7023532983460735e-1...  \n",
       "0  [8.49531232449764e-15, 7.378068021844639e-15, ...  "
      ]
     },
     "execution_count": 184,
     "metadata": {},
     "output_type": "execute_result"
    }
   ],
   "source": [
    "# filter valores singulares \n",
    "df_sk_vs_qr_var_expl = df_sk_vs_qr[df_sk_vs_qr['elemento']=='varianza explicada']\n",
    "df_sk_vs_qr_var_expl"
   ]
  },
  {
   "cell_type": "code",
   "execution_count": 185,
   "metadata": {
    "scrolled": false
   },
   "outputs": [
    {
     "data": {
      "text/plain": [
       "(15, 5)"
      ]
     },
     "execution_count": 185,
     "metadata": {},
     "output_type": "execute_result"
    }
   ],
   "source": [
    "df_sk_vs_qr_var_expl.shape"
   ]
  },
  {
   "cell_type": "markdown",
   "metadata": {},
   "source": [
    "De nuevo, salvo por la sección 6, en ningún otro resultado obtuvimos la igualdad, y la mayoría de los errores relativos son alrededor del orden de $10^{-2}$."
   ]
  },
  {
   "cell_type": "markdown",
   "metadata": {},
   "source": [
    "#### Coeficientes"
   ]
  },
  {
   "cell_type": "markdown",
   "metadata": {},
   "source": [
    "Veamos los resultados de la comparación para los coeficientes:"
   ]
  },
  {
   "cell_type": "code",
   "execution_count": 186,
   "metadata": {},
   "outputs": [
    {
     "data": {
      "text/html": [
       "<div>\n",
       "<style scoped>\n",
       "    .dataframe tbody tr th:only-of-type {\n",
       "        vertical-align: middle;\n",
       "    }\n",
       "\n",
       "    .dataframe tbody tr th {\n",
       "        vertical-align: top;\n",
       "    }\n",
       "\n",
       "    .dataframe thead th {\n",
       "        text-align: right;\n",
       "    }\n",
       "</style>\n",
       "<table border=\"1\" class=\"dataframe\">\n",
       "  <thead>\n",
       "    <tr style=\"text-align: right;\">\n",
       "      <th></th>\n",
       "      <th>Seccion</th>\n",
       "      <th>elemento</th>\n",
       "      <th>Igualdad (en valor absoluto)</th>\n",
       "      <th>Max error relativo (con valor absoluto)</th>\n",
       "      <th>Error relativo (con valor absoluto)</th>\n",
       "    </tr>\n",
       "  </thead>\n",
       "  <tbody>\n",
       "    <tr>\n",
       "      <th>2</th>\n",
       "      <td>seccion_1</td>\n",
       "      <td>coeficientes</td>\n",
       "      <td>True</td>\n",
       "      <td>8.808192e-06</td>\n",
       "      <td>[[1.716471218079173e-14, 1.8088529315322355e-1...</td>\n",
       "    </tr>\n",
       "    <tr>\n",
       "      <th>2</th>\n",
       "      <td>seccion_2</td>\n",
       "      <td>coeficientes</td>\n",
       "      <td>False</td>\n",
       "      <td>2.135141e-01</td>\n",
       "      <td>[[9.63301597215641e-14, 2.389524864392304e-13,...</td>\n",
       "    </tr>\n",
       "    <tr>\n",
       "      <th>2</th>\n",
       "      <td>seccion_3</td>\n",
       "      <td>coeficientes</td>\n",
       "      <td>True</td>\n",
       "      <td>3.237183e-08</td>\n",
       "      <td>[[1.5891228936468213e-13, 1.5184937284479278e-...</td>\n",
       "    </tr>\n",
       "    <tr>\n",
       "      <th>2</th>\n",
       "      <td>seccion_4</td>\n",
       "      <td>coeficientes</td>\n",
       "      <td>False</td>\n",
       "      <td>5.538139e+01</td>\n",
       "      <td>[[5.809725747878342e-15, 6.155074707948904e-14...</td>\n",
       "    </tr>\n",
       "    <tr>\n",
       "      <th>2</th>\n",
       "      <td>seccion_5_1</td>\n",
       "      <td>coeficientes</td>\n",
       "      <td>True</td>\n",
       "      <td>2.924084e-13</td>\n",
       "      <td>[[2.9240838097875275e-13, 3.002608367843295e-1...</td>\n",
       "    </tr>\n",
       "    <tr>\n",
       "      <th>2</th>\n",
       "      <td>seccion_5_2</td>\n",
       "      <td>coeficientes</td>\n",
       "      <td>True</td>\n",
       "      <td>2.069570e-12</td>\n",
       "      <td>[[5.488142467074827e-14, 9.080326838272184e-14...</td>\n",
       "    </tr>\n",
       "    <tr>\n",
       "      <th>2</th>\n",
       "      <td>seccion_6</td>\n",
       "      <td>coeficientes</td>\n",
       "      <td>True</td>\n",
       "      <td>1.139759e-08</td>\n",
       "      <td>[[1.1397585057405627e-08, 1.1397583747124481e-...</td>\n",
       "    </tr>\n",
       "    <tr>\n",
       "      <th>2</th>\n",
       "      <td>seccion_7_1</td>\n",
       "      <td>coeficientes</td>\n",
       "      <td>False</td>\n",
       "      <td>9.211444e+01</td>\n",
       "      <td>[[4.938881230546565e-10, 1.1860579865672855e-1...</td>\n",
       "    </tr>\n",
       "    <tr>\n",
       "      <th>2</th>\n",
       "      <td>seccion_7_2</td>\n",
       "      <td>coeficientes</td>\n",
       "      <td>False</td>\n",
       "      <td>NaN</td>\n",
       "      <td>[[nan, nan, nan, nan, nan, nan, nan, nan, nan,...</td>\n",
       "    </tr>\n",
       "    <tr>\n",
       "      <th>2</th>\n",
       "      <td>seccion_8_1</td>\n",
       "      <td>coeficientes</td>\n",
       "      <td>False</td>\n",
       "      <td>2.684905e-01</td>\n",
       "      <td>[[5.65430859569803e-13, 1.43675383091697e-13, ...</td>\n",
       "    </tr>\n",
       "    <tr>\n",
       "      <th>2</th>\n",
       "      <td>seccion_8_2</td>\n",
       "      <td>coeficientes</td>\n",
       "      <td>True</td>\n",
       "      <td>7.264399e-10</td>\n",
       "      <td>[[1.022021937195438e-13, 4.760328772131606e-14...</td>\n",
       "    </tr>\n",
       "    <tr>\n",
       "      <th>2</th>\n",
       "      <td>seccion_8_3</td>\n",
       "      <td>coeficientes</td>\n",
       "      <td>False</td>\n",
       "      <td>1.235319e-03</td>\n",
       "      <td>[[7.397299498795681e-15, 4.2259671969557665e-1...</td>\n",
       "    </tr>\n",
       "    <tr>\n",
       "      <th>2</th>\n",
       "      <td>seccion_9</td>\n",
       "      <td>coeficientes</td>\n",
       "      <td>False</td>\n",
       "      <td>1.481188e-05</td>\n",
       "      <td>[[1.4607206122587314e-14, 1.3211890052751638e-...</td>\n",
       "    </tr>\n",
       "    <tr>\n",
       "      <th>2</th>\n",
       "      <td>seccion_10_1</td>\n",
       "      <td>coeficientes</td>\n",
       "      <td>True</td>\n",
       "      <td>3.650434e-10</td>\n",
       "      <td>[[1.0482253215064124e-13, 4.779708528034512e-1...</td>\n",
       "    </tr>\n",
       "    <tr>\n",
       "      <th>2</th>\n",
       "      <td>seccion_10_2</td>\n",
       "      <td>coeficientes</td>\n",
       "      <td>False</td>\n",
       "      <td>1.065506e-02</td>\n",
       "      <td>[[1.7776360554184003e-14, 3.525922210540173e-1...</td>\n",
       "    </tr>\n",
       "  </tbody>\n",
       "</table>\n",
       "</div>"
      ],
      "text/plain": [
       "        Seccion      elemento  Igualdad (en valor absoluto)  \\\n",
       "2     seccion_1  coeficientes                          True   \n",
       "2     seccion_2  coeficientes                         False   \n",
       "2     seccion_3  coeficientes                          True   \n",
       "2     seccion_4  coeficientes                         False   \n",
       "2   seccion_5_1  coeficientes                          True   \n",
       "2   seccion_5_2  coeficientes                          True   \n",
       "2     seccion_6  coeficientes                          True   \n",
       "2   seccion_7_1  coeficientes                         False   \n",
       "2   seccion_7_2  coeficientes                         False   \n",
       "2   seccion_8_1  coeficientes                         False   \n",
       "2   seccion_8_2  coeficientes                          True   \n",
       "2   seccion_8_3  coeficientes                         False   \n",
       "2     seccion_9  coeficientes                         False   \n",
       "2  seccion_10_1  coeficientes                          True   \n",
       "2  seccion_10_2  coeficientes                         False   \n",
       "\n",
       "   Max error relativo (con valor absoluto)  \\\n",
       "2                             8.808192e-06   \n",
       "2                             2.135141e-01   \n",
       "2                             3.237183e-08   \n",
       "2                             5.538139e+01   \n",
       "2                             2.924084e-13   \n",
       "2                             2.069570e-12   \n",
       "2                             1.139759e-08   \n",
       "2                             9.211444e+01   \n",
       "2                                      NaN   \n",
       "2                             2.684905e-01   \n",
       "2                             7.264399e-10   \n",
       "2                             1.235319e-03   \n",
       "2                             1.481188e-05   \n",
       "2                             3.650434e-10   \n",
       "2                             1.065506e-02   \n",
       "\n",
       "                 Error relativo (con valor absoluto)  \n",
       "2  [[1.716471218079173e-14, 1.8088529315322355e-1...  \n",
       "2  [[9.63301597215641e-14, 2.389524864392304e-13,...  \n",
       "2  [[1.5891228936468213e-13, 1.5184937284479278e-...  \n",
       "2  [[5.809725747878342e-15, 6.155074707948904e-14...  \n",
       "2  [[2.9240838097875275e-13, 3.002608367843295e-1...  \n",
       "2  [[5.488142467074827e-14, 9.080326838272184e-14...  \n",
       "2  [[1.1397585057405627e-08, 1.1397583747124481e-...  \n",
       "2  [[4.938881230546565e-10, 1.1860579865672855e-1...  \n",
       "2  [[nan, nan, nan, nan, nan, nan, nan, nan, nan,...  \n",
       "2  [[5.65430859569803e-13, 1.43675383091697e-13, ...  \n",
       "2  [[1.022021937195438e-13, 4.760328772131606e-14...  \n",
       "2  [[7.397299498795681e-15, 4.2259671969557665e-1...  \n",
       "2  [[1.4607206122587314e-14, 1.3211890052751638e-...  \n",
       "2  [[1.0482253215064124e-13, 4.779708528034512e-1...  \n",
       "2  [[1.7776360554184003e-14, 3.525922210540173e-1...  "
      ]
     },
     "execution_count": 186,
     "metadata": {},
     "output_type": "execute_result"
    }
   ],
   "source": [
    "# filter valores singulares \n",
    "df_sk_vs_qr_coef = df_sk_vs_qr[df_sk_vs_qr['elemento']=='coeficientes']\n",
    "df_sk_vs_qr_coef"
   ]
  },
  {
   "cell_type": "code",
   "execution_count": 155,
   "metadata": {
    "scrolled": true
   },
   "outputs": [
    {
     "data": {
      "text/plain": [
       "(15, 5)"
      ]
     },
     "execution_count": 155,
     "metadata": {},
     "output_type": "execute_result"
    }
   ],
   "source": [
    "df_sk_vs_qr_coef.shape"
   ]
  },
  {
   "cell_type": "markdown",
   "metadata": {},
   "source": [
    "En este caso, observamos que salvo por la sección 6, en ningún otro resultado obtuvimos la igualdad, y que los errores relativos son bastante grandes (hasta $10^2$), por lo que no estamos obteniendo una muy buena aproximación."
   ]
  },
  {
   "cell_type": "markdown",
   "metadata": {},
   "source": [
    "#### Componentes principales"
   ]
  },
  {
   "cell_type": "markdown",
   "metadata": {},
   "source": [
    "Veamos los resultados de la comparación para los componentes obtenidos:"
   ]
  },
  {
   "cell_type": "code",
   "execution_count": 187,
   "metadata": {},
   "outputs": [
    {
     "data": {
      "text/html": [
       "<div>\n",
       "<style scoped>\n",
       "    .dataframe tbody tr th:only-of-type {\n",
       "        vertical-align: middle;\n",
       "    }\n",
       "\n",
       "    .dataframe tbody tr th {\n",
       "        vertical-align: top;\n",
       "    }\n",
       "\n",
       "    .dataframe thead th {\n",
       "        text-align: right;\n",
       "    }\n",
       "</style>\n",
       "<table border=\"1\" class=\"dataframe\">\n",
       "  <thead>\n",
       "    <tr style=\"text-align: right;\">\n",
       "      <th></th>\n",
       "      <th>Seccion</th>\n",
       "      <th>elemento</th>\n",
       "      <th>Igualdad (en valor absoluto)</th>\n",
       "      <th>Max error relativo (con valor absoluto)</th>\n",
       "      <th>Error relativo (con valor absoluto)</th>\n",
       "    </tr>\n",
       "  </thead>\n",
       "  <tbody>\n",
       "    <tr>\n",
       "      <th>3</th>\n",
       "      <td>seccion_1</td>\n",
       "      <td>componentes principales</td>\n",
       "      <td>False</td>\n",
       "      <td>1.790270e-04</td>\n",
       "      <td>[[2.6356809626567568e-11, 6.134861477385035e-0...</td>\n",
       "    </tr>\n",
       "    <tr>\n",
       "      <th>3</th>\n",
       "      <td>seccion_2</td>\n",
       "      <td>componentes principales</td>\n",
       "      <td>False</td>\n",
       "      <td>2.513791e+00</td>\n",
       "      <td>[[6.024223679040742e-11, 0.0001648771947033299...</td>\n",
       "    </tr>\n",
       "    <tr>\n",
       "      <th>3</th>\n",
       "      <td>seccion_3</td>\n",
       "      <td>componentes principales</td>\n",
       "      <td>True</td>\n",
       "      <td>1.026288e-05</td>\n",
       "      <td>[[7.979283139599526e-12, 2.1940877302197085e-0...</td>\n",
       "    </tr>\n",
       "    <tr>\n",
       "      <th>3</th>\n",
       "      <td>seccion_4</td>\n",
       "      <td>componentes principales</td>\n",
       "      <td>False</td>\n",
       "      <td>3.624384e+05</td>\n",
       "      <td>[[7.27210338561804e-11, 5.398044704011588e-12,...</td>\n",
       "    </tr>\n",
       "    <tr>\n",
       "      <th>3</th>\n",
       "      <td>seccion_5_1</td>\n",
       "      <td>componentes principales</td>\n",
       "      <td>True</td>\n",
       "      <td>1.086433e-10</td>\n",
       "      <td>[[1.086432785018871e-10], [1.3621290702737174e...</td>\n",
       "    </tr>\n",
       "    <tr>\n",
       "      <th>3</th>\n",
       "      <td>seccion_5_2</td>\n",
       "      <td>componentes principales</td>\n",
       "      <td>True</td>\n",
       "      <td>9.057784e-10</td>\n",
       "      <td>[[6.780675230636451e-11, 5.478113032138733e-12...</td>\n",
       "    </tr>\n",
       "    <tr>\n",
       "      <th>3</th>\n",
       "      <td>seccion_6</td>\n",
       "      <td>componentes principales</td>\n",
       "      <td>True</td>\n",
       "      <td>1.016404e-06</td>\n",
       "      <td>[[4.807996512030944e-09, 2.7022518785506908e-0...</td>\n",
       "    </tr>\n",
       "    <tr>\n",
       "      <th>3</th>\n",
       "      <td>seccion_7_1</td>\n",
       "      <td>componentes principales</td>\n",
       "      <td>False</td>\n",
       "      <td>5.979786e+02</td>\n",
       "      <td>[[2.761215552029329e-10, 1.3308003747017288e-1...</td>\n",
       "    </tr>\n",
       "    <tr>\n",
       "      <th>3</th>\n",
       "      <td>seccion_7_2</td>\n",
       "      <td>componentes principales</td>\n",
       "      <td>False</td>\n",
       "      <td>NaN</td>\n",
       "      <td>[[nan, nan, nan, nan, nan, nan], [nan, nan, na...</td>\n",
       "    </tr>\n",
       "    <tr>\n",
       "      <th>3</th>\n",
       "      <td>seccion_8_1</td>\n",
       "      <td>componentes principales</td>\n",
       "      <td>False</td>\n",
       "      <td>2.879083e+01</td>\n",
       "      <td>[[2.881369681739466e-11, 1.0848434343838385, 0...</td>\n",
       "    </tr>\n",
       "    <tr>\n",
       "      <th>3</th>\n",
       "      <td>seccion_8_2</td>\n",
       "      <td>componentes principales</td>\n",
       "      <td>True</td>\n",
       "      <td>2.865539e-06</td>\n",
       "      <td>[[1.863159971834557e-09, 2.2456987982850554e-1...</td>\n",
       "    </tr>\n",
       "    <tr>\n",
       "      <th>3</th>\n",
       "      <td>seccion_8_3</td>\n",
       "      <td>componentes principales</td>\n",
       "      <td>False</td>\n",
       "      <td>8.141833e+01</td>\n",
       "      <td>[[8.515406347980643e-12, 4.379788551719323e-11...</td>\n",
       "    </tr>\n",
       "    <tr>\n",
       "      <th>3</th>\n",
       "      <td>seccion_9</td>\n",
       "      <td>componentes principales</td>\n",
       "      <td>False</td>\n",
       "      <td>2.616843e-01</td>\n",
       "      <td>[[6.809677847444685e-11, 3.870338770668134e-11...</td>\n",
       "    </tr>\n",
       "    <tr>\n",
       "      <th>3</th>\n",
       "      <td>seccion_10_1</td>\n",
       "      <td>componentes principales</td>\n",
       "      <td>True</td>\n",
       "      <td>1.020546e-06</td>\n",
       "      <td>[[4.205808927763966e-11, 3.134697043437474e-11...</td>\n",
       "    </tr>\n",
       "    <tr>\n",
       "      <th>3</th>\n",
       "      <td>seccion_10_2</td>\n",
       "      <td>componentes principales</td>\n",
       "      <td>False</td>\n",
       "      <td>2.016112e+00</td>\n",
       "      <td>[[5.667875817810058e-11, 2.4934963929074734e-1...</td>\n",
       "    </tr>\n",
       "  </tbody>\n",
       "</table>\n",
       "</div>"
      ],
      "text/plain": [
       "        Seccion                 elemento  Igualdad (en valor absoluto)  \\\n",
       "3     seccion_1  componentes principales                         False   \n",
       "3     seccion_2  componentes principales                         False   \n",
       "3     seccion_3  componentes principales                          True   \n",
       "3     seccion_4  componentes principales                         False   \n",
       "3   seccion_5_1  componentes principales                          True   \n",
       "3   seccion_5_2  componentes principales                          True   \n",
       "3     seccion_6  componentes principales                          True   \n",
       "3   seccion_7_1  componentes principales                         False   \n",
       "3   seccion_7_2  componentes principales                         False   \n",
       "3   seccion_8_1  componentes principales                         False   \n",
       "3   seccion_8_2  componentes principales                          True   \n",
       "3   seccion_8_3  componentes principales                         False   \n",
       "3     seccion_9  componentes principales                         False   \n",
       "3  seccion_10_1  componentes principales                          True   \n",
       "3  seccion_10_2  componentes principales                         False   \n",
       "\n",
       "   Max error relativo (con valor absoluto)  \\\n",
       "3                             1.790270e-04   \n",
       "3                             2.513791e+00   \n",
       "3                             1.026288e-05   \n",
       "3                             3.624384e+05   \n",
       "3                             1.086433e-10   \n",
       "3                             9.057784e-10   \n",
       "3                             1.016404e-06   \n",
       "3                             5.979786e+02   \n",
       "3                                      NaN   \n",
       "3                             2.879083e+01   \n",
       "3                             2.865539e-06   \n",
       "3                             8.141833e+01   \n",
       "3                             2.616843e-01   \n",
       "3                             1.020546e-06   \n",
       "3                             2.016112e+00   \n",
       "\n",
       "                 Error relativo (con valor absoluto)  \n",
       "3  [[2.6356809626567568e-11, 6.134861477385035e-0...  \n",
       "3  [[6.024223679040742e-11, 0.0001648771947033299...  \n",
       "3  [[7.979283139599526e-12, 2.1940877302197085e-0...  \n",
       "3  [[7.27210338561804e-11, 5.398044704011588e-12,...  \n",
       "3  [[1.086432785018871e-10], [1.3621290702737174e...  \n",
       "3  [[6.780675230636451e-11, 5.478113032138733e-12...  \n",
       "3  [[4.807996512030944e-09, 2.7022518785506908e-0...  \n",
       "3  [[2.761215552029329e-10, 1.3308003747017288e-1...  \n",
       "3  [[nan, nan, nan, nan, nan, nan], [nan, nan, na...  \n",
       "3  [[2.881369681739466e-11, 1.0848434343838385, 0...  \n",
       "3  [[1.863159971834557e-09, 2.2456987982850554e-1...  \n",
       "3  [[8.515406347980643e-12, 4.379788551719323e-11...  \n",
       "3  [[6.809677847444685e-11, 3.870338770668134e-11...  \n",
       "3  [[4.205808927763966e-11, 3.134697043437474e-11...  \n",
       "3  [[5.667875817810058e-11, 2.4934963929074734e-1...  "
      ]
     },
     "execution_count": 187,
     "metadata": {},
     "output_type": "execute_result"
    }
   ],
   "source": [
    "# filter valores singulares \n",
    "df_sk_vs_qr_comp = df_sk_vs_qr[df_sk_vs_qr['elemento']=='componentes principales']\n",
    "df_sk_vs_qr_comp"
   ]
  },
  {
   "cell_type": "code",
   "execution_count": 188,
   "metadata": {},
   "outputs": [
    {
     "data": {
      "text/plain": [
       "(15, 5)"
      ]
     },
     "execution_count": 188,
     "metadata": {},
     "output_type": "execute_result"
    }
   ],
   "source": [
    "df_sk_vs_qr_comp.shape"
   ]
  },
  {
   "cell_type": "markdown",
   "metadata": {},
   "source": [
    "En el caso de los componentes principales, en ninguna sección obtuvimos la igualdad respecto al resultado de `sk learn`, y además, los errores relativos se ven magnificados hasta un orden de $10^{10}$, por lo que no estamos obteniendo una muy buena aproximación."
   ]
  },
  {
   "cell_type": "code",
   "execution_count": 191,
   "metadata": {},
   "outputs": [],
   "source": [
    "# Guardamos los resultados para mostrarlos en el reporte\n",
    "compara_sk_qr = [df_sk_vs_qr_eigenval,df_sk_vs_qr_var_expl,df_sk_vs_qr_coef,df_sk_vs_qr_comp]\n",
    "df_compara_sk_qr = pd.concat(compara_sk_qr)\n",
    "df_compara_sk_qr.to_csv('../../results/data_results/comparativa_sk_qr.csv', index=False)"
   ]
  }
 ],
 "metadata": {
  "kernelspec": {
   "display_name": "Python 3",
   "language": "python",
   "name": "python3"
  },
  "language_info": {
   "codemirror_mode": {
    "name": "ipython",
    "version": 3
   },
   "file_extension": ".py",
   "mimetype": "text/x-python",
   "name": "python",
   "nbconvert_exporter": "python",
   "pygments_lexer": "ipython3",
   "version": "3.6.10"
  }
 },
 "nbformat": 4,
 "nbformat_minor": 4
}
