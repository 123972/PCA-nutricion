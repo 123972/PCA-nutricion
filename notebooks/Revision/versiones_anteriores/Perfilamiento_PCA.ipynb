{
  "nbformat": 4,
  "nbformat_minor": 0,
  "metadata": {
    "kernelspec": {
      "display_name": "Python 3",
      "language": "python",
      "name": "python3"
    },
    "language_info": {
      "codemirror_mode": {
        "name": "ipython",
        "version": 3
      },
      "file_extension": ".py",
      "mimetype": "text/x-python",
      "name": "python",
      "nbconvert_exporter": "python",
      "pygments_lexer": "ipython3",
      "version": "3.6.9"
    },
    "colab": {
      "name": "Perfilamiento_PCA.ipynb",
      "provenance": [],
      "collapsed_sections": [],
      "toc_visible": true
    }
  },
  "cells": [
    {
      "cell_type": "markdown",
      "metadata": {
        "id": "zKIKB29vcrsX",
        "colab_type": "text"
      },
      "source": [
        "#Perfilamiento de PCA\n",
        "\n",
        "Angel Rafael Ortega Ramírez \t123972\n",
        "\n",
        "Elizabeth Rodriguez \t191430\n",
        "\n",
        "Karla Alfaro Pizaña \t137314\n",
        "\n",
        "Leonardo Marín \t175903\n",
        "\n",
        "Mario Rodríguez \t164471\n",
        "\n",
        "Elizabeth Viveros"
      ]
    },
    {
      "cell_type": "code",
      "metadata": {
        "id": "aeQjY3bGcrsY",
        "colab_type": "code",
        "colab": {}
      },
      "source": [
        "%pip install -q --user line_profiler\n",
        "%pip install -q --user memory_profiler\n",
        "%pip install -q --user psutil\n",
        "%pip install -q --user guppy3"
      ],
      "execution_count": 0,
      "outputs": []
    },
    {
      "cell_type": "code",
      "metadata": {
        "id": "qh5ls51HfMQm",
        "colab_type": "code",
        "colab": {
          "base_uri": "https://localhost:8080/",
          "height": 109
        },
        "outputId": "4656bfce-6219-4148-a174-aae430f92391"
      },
      "source": [
        "##Instalación de /usr/bin/time\n",
        "%%bash\n",
        "sudo apt-get install time"
      ],
      "execution_count": 22,
      "outputs": [
        {
          "output_type": "stream",
          "text": [
            "Reading package lists...\n",
            "Building dependency tree...\n",
            "Reading state information...\n",
            "time is already the newest version (1.7-25.1build1).\n",
            "0 upgraded, 0 newly installed, 0 to remove and 31 not upgraded.\n"
          ],
          "name": "stdout"
        }
      ]
    },
    {
      "cell_type": "code",
      "metadata": {
        "id": "17Yv4sfDcrtI",
        "colab_type": "code",
        "colab": {}
      },
      "source": [
        "import math\n",
        "from scipy.integrate import quad\n",
        "import time\n",
        "import os\n",
        "import psutil\n",
        "import numpy as np\n",
        "import pandas as pd\n",
        "import matplotlib.pyplot as plt\n",
        "import seaborn as sns\n",
        "import platform\n",
        "from datetime import datetime"
      ],
      "execution_count": 0,
      "outputs": []
    },
    {
      "cell_type": "code",
      "metadata": {
        "id": "mn4jnQD5dWrQ",
        "colab_type": "code",
        "colab": {
          "base_uri": "https://localhost:8080/",
          "height": 129
        },
        "outputId": "13bbecf5-9680-456c-92e2-8fb60b4a3779"
      },
      "source": [
        "#Montamos nuestro Google Drive con el set de datos\n",
        "from google.colab import drive\n",
        "drive.mount('/content/gdrive') #Se da click en el URL que aparece y se ingresa la clave de autorización"
      ],
      "execution_count": 3,
      "outputs": [
        {
          "output_type": "stream",
          "text": [
            "Go to this URL in a browser: https://accounts.google.com/o/oauth2/auth?client_id=947318989803-6bn6qk8qdgf4n4g3pfee6491hc0brc4i.apps.googleusercontent.com&redirect_uri=urn%3aietf%3awg%3aoauth%3a2.0%3aoob&response_type=code&scope=email%20https%3a%2f%2fwww.googleapis.com%2fauth%2fdocs.test%20https%3a%2f%2fwww.googleapis.com%2fauth%2fdrive%20https%3a%2f%2fwww.googleapis.com%2fauth%2fdrive.photos.readonly%20https%3a%2f%2fwww.googleapis.com%2fauth%2fpeopleapi.readonly\n",
            "\n",
            "Enter your authorization code:\n",
            "··········\n",
            "Mounted at /content/gdrive\n"
          ],
          "name": "stdout"
        }
      ]
    },
    {
      "cell_type": "code",
      "metadata": {
        "id": "pcAWISn6doAe",
        "colab_type": "code",
        "colab": {
          "base_uri": "https://localhost:8080/",
          "height": 54
        },
        "outputId": "d62ea268-0f16-4560-e085-e040d1e642a0"
      },
      "source": [
        "!mkdir '/content/gdrive/My Drive/Proyecto_Final_MNO/' #Se crea la carpeta Proyecto_Final_MNO en la primer ejecución\n",
        "os.chdir('/content/gdrive/My Drive/Proyecto_Final_MNO')\n",
        "print(\"Directorio del Proyecto Final\" , os.getcwd())"
      ],
      "execution_count": 6,
      "outputs": [
        {
          "output_type": "stream",
          "text": [
            "mkdir: cannot create directory ‘/content/gdrive/My Drive/Proyecto_Final_MNO/’: File exists\n",
            "Directorio del Proyecto Final /content/gdrive/My Drive/Proyecto_Final_MNO\n"
          ],
          "name": "stdout"
        }
      ]
    },
    {
      "cell_type": "markdown",
      "metadata": {
        "id": "9ONb1O52497n",
        "colab_type": "text"
      },
      "source": [
        "### Plataforma en la que se realizarán las pruebas**"
      ]
    },
    {
      "cell_type": "code",
      "metadata": {
        "id": "QhS9IcOH5OQn",
        "colab_type": "code",
        "colab": {
          "base_uri": "https://localhost:8080/",
          "height": 733
        },
        "outputId": "da75c439-654b-4a8c-f932-3e5951dd91ab"
      },
      "source": [
        "#Función para escalar cifras en Bytes a las unidades correspondientes\n",
        "def get_size(bytes, suffix=\"B\"):\n",
        "\n",
        "    factor = 1024\n",
        "    for unit in [\"\", \"K\", \"M\", \"G\", \"T\", \"P\"]:\n",
        "        if bytes < factor:\n",
        "            return f\"{bytes:.2f}{unit}{suffix}\"\n",
        "        bytes /= factor\n",
        "\n",
        "print(\"=\"*40, \"Información del Sistema\", \"=\"*40)\n",
        "uname = platform.uname()\n",
        "print(f\"Sistema: {uname.system}\")\n",
        "print(f\"Nombre: {uname.node}\")\n",
        "print(f\"OS: {uname.release}\")\n",
        "print(f\"Versión: {uname.version}\")\n",
        "print(f\"Máquina: {uname.machine}\")\n",
        "print(f\"Procesador: {uname.processor}\")\n",
        "\n",
        "# Detalles de la memoria\n",
        "print(\"=\"*40, \"Memoria\", \"=\"*40)\n",
        "svmem = psutil.virtual_memory()\n",
        "print(f\"Total: {get_size(svmem.total)}\")\n",
        "print(f\"Desponible: {get_size(svmem.available)}\")\n",
        "print(f\"Utilizada: {get_size(svmem.used)}\")\n",
        "print(f\"Porcentaje: {svmem.percent}%\")\n",
        "print(\"=\"*40, \"CPU\", \"=\"*40)\n",
        "# number of cores\n",
        "print(\"Cores Físicos:\", psutil.cpu_count(logical=False))\n",
        "print(\"Cores Totales:\", psutil.cpu_count(logical=True))\n",
        "# CPU frequencies\n",
        "cpufreq = psutil.cpu_freq()\n",
        "print(f\"Frecuencia del CPU : {psutil.cpu_freq()}%\")\n",
        "# Disk Information\n",
        "print(\"=\"*40, \"Discos Duros\", \"=\"*40)\n",
        "print(\"Particiones:\")\n",
        "# get all disk partitions\n",
        "partitions = psutil.disk_partitions()\n",
        "for partition in partitions:\n",
        "    print(f\"=== Dispositivo: {partition.device} ===\")\n",
        "    print(f\"  Montura: {partition.mountpoint}\")\n",
        "    print(f\"  Tipo de Sistema de Archivos: {partition.fstype}\")\n",
        "    try:\n",
        "        partition_usage = psutil.disk_usage(partition.mountpoint)\n",
        "    except PermissionError:\n",
        "        # this can be catched due to the disk that\n",
        "        # isn't ready\n",
        "        continue\n",
        "    print(f\"  Tamaño Total: {get_size(partition_usage.total)}\")\n",
        "    print(f\"  Usado: {get_size(partition_usage.used)}\")\n",
        "    print(f\"  Libre: {get_size(partition_usage.free)}\")\n",
        "    print(f\"  Porcentaje: {partition_usage.percent}%\")"
      ],
      "execution_count": 97,
      "outputs": [
        {
          "output_type": "stream",
          "text": [
            "======================================== Información del Sistema ========================================\n",
            "Sistema: Linux\n",
            "Nombre: 59992c125a99\n",
            "OS: 4.19.104+\n",
            "Versión: #1 SMP Wed Feb 19 05:26:34 PST 2020\n",
            "Máquina: x86_64\n",
            "Procesador: x86_64\n",
            "======================================== Memoria ========================================\n",
            "Total: 12.72GB\n",
            "Desponible: 11.74GB\n",
            "Utilizada: 4.10GB\n",
            "Porcentaje: 7.7%\n",
            "======================================== CPU ========================================\n",
            "Cores Físicos: 1\n",
            "Cores Totales: 2\n",
            "Frecuencia del CPU : None%\n",
            "======================================== Discos Duros ========================================\n",
            "Particiones:\n",
            "=== Dispositivo: /dev/sda1 ===\n",
            "  Montura: /etc/resolv.conf\n",
            "  Tipo de Sistema de Archivos: ext4\n",
            "  Tamaño Total: 113.98GB\n",
            "  Usado: 32.95GB\n",
            "  Libre: 81.01GB\n",
            "  Porcentaje: 28.9%\n",
            "=== Dispositivo: /dev/sda1 ===\n",
            "  Montura: /etc/hostname\n",
            "  Tipo de Sistema de Archivos: ext4\n",
            "  Tamaño Total: 113.98GB\n",
            "  Usado: 32.95GB\n",
            "  Libre: 81.01GB\n",
            "  Porcentaje: 28.9%\n",
            "=== Dispositivo: /dev/sda1 ===\n",
            "  Montura: /etc/hosts\n",
            "  Tipo de Sistema de Archivos: ext4\n",
            "  Tamaño Total: 113.98GB\n",
            "  Usado: 32.95GB\n",
            "  Libre: 81.01GB\n",
            "  Porcentaje: 28.9%\n"
          ],
          "name": "stdout"
        }
      ]
    },
    {
      "cell_type": "code",
      "metadata": {
        "id": "mSZDUR_cyWc1",
        "colab_type": "code",
        "colab": {}
      },
      "source": [
        "#Carga de Datos\n",
        "#Se obtiene una vista inicial se los datos\n",
        "df = pd.read_csv('datos_limpios.csv', nrows = 2000)"
      ],
      "execution_count": 0,
      "outputs": []
    },
    {
      "cell_type": "code",
      "metadata": {
        "id": "GEeyn9WfzHsf",
        "colab_type": "code",
        "colab": {
          "base_uri": "https://localhost:8080/",
          "height": 35
        },
        "outputId": "e70bea7f-e237-44d9-c32b-0a67bfb82563"
      },
      "source": [
        "# Estructura de los datos\n",
        "df.shape"
      ],
      "execution_count": 55,
      "outputs": [
        {
          "output_type": "execute_result",
          "data": {
            "text/plain": [
              "(2000, 272)"
            ]
          },
          "metadata": {
            "tags": []
          },
          "execution_count": 55
        }
      ]
    },
    {
      "cell_type": "code",
      "metadata": {
        "id": "QwnIXlyzzLHe",
        "colab_type": "code",
        "colab": {
          "base_uri": "https://localhost:8080/",
          "height": 206
        },
        "outputId": "aca82720-b044-4784-c10d-9362be7c1af2"
      },
      "source": [
        "# Conservar variables de la sección 3\n",
        "seccion_3 = df.loc[:, ['p10', 'p11', 'p12', 'p13', 'p14']]\n",
        "seccion_3.head()"
      ],
      "execution_count": 56,
      "outputs": [
        {
          "output_type": "execute_result",
          "data": {
            "text/html": [
              "<div>\n",
              "<style scoped>\n",
              "    .dataframe tbody tr th:only-of-type {\n",
              "        vertical-align: middle;\n",
              "    }\n",
              "\n",
              "    .dataframe tbody tr th {\n",
              "        vertical-align: top;\n",
              "    }\n",
              "\n",
              "    .dataframe thead th {\n",
              "        text-align: right;\n",
              "    }\n",
              "</style>\n",
              "<table border=\"1\" class=\"dataframe\">\n",
              "  <thead>\n",
              "    <tr style=\"text-align: right;\">\n",
              "      <th></th>\n",
              "      <th>p10</th>\n",
              "      <th>p11</th>\n",
              "      <th>p12</th>\n",
              "      <th>p13</th>\n",
              "      <th>p14</th>\n",
              "    </tr>\n",
              "  </thead>\n",
              "  <tbody>\n",
              "    <tr>\n",
              "      <th>0</th>\n",
              "      <td>2.0</td>\n",
              "      <td>1.0</td>\n",
              "      <td>1.0</td>\n",
              "      <td>2.0</td>\n",
              "      <td>2.0</td>\n",
              "    </tr>\n",
              "    <tr>\n",
              "      <th>1</th>\n",
              "      <td>4.0</td>\n",
              "      <td>3.0</td>\n",
              "      <td>3.0</td>\n",
              "      <td>5.0</td>\n",
              "      <td>6.0</td>\n",
              "    </tr>\n",
              "    <tr>\n",
              "      <th>2</th>\n",
              "      <td>4.0</td>\n",
              "      <td>1.0</td>\n",
              "      <td>2.0</td>\n",
              "      <td>5.0</td>\n",
              "      <td>5.0</td>\n",
              "    </tr>\n",
              "    <tr>\n",
              "      <th>3</th>\n",
              "      <td>2.0</td>\n",
              "      <td>1.0</td>\n",
              "      <td>1.0</td>\n",
              "      <td>3.0</td>\n",
              "      <td>3.0</td>\n",
              "    </tr>\n",
              "    <tr>\n",
              "      <th>4</th>\n",
              "      <td>2.0</td>\n",
              "      <td>2.0</td>\n",
              "      <td>3.0</td>\n",
              "      <td>3.0</td>\n",
              "      <td>4.0</td>\n",
              "    </tr>\n",
              "  </tbody>\n",
              "</table>\n",
              "</div>"
            ],
            "text/plain": [
              "   p10  p11  p12  p13  p14\n",
              "0  2.0  1.0  1.0  2.0  2.0\n",
              "1  4.0  3.0  3.0  5.0  6.0\n",
              "2  4.0  1.0  2.0  5.0  5.0\n",
              "3  2.0  1.0  1.0  3.0  3.0\n",
              "4  2.0  2.0  3.0  3.0  4.0"
            ]
          },
          "metadata": {
            "tags": []
          },
          "execution_count": 56
        }
      ]
    },
    {
      "cell_type": "markdown",
      "metadata": {
        "id": "IBFEvIIAcrtP",
        "colab_type": "text"
      },
      "source": [
        "## Medición de tiempos"
      ]
    },
    {
      "cell_type": "markdown",
      "metadata": {
        "id": "XiXcX6YBcrta",
        "colab_type": "text"
      },
      "source": [
        "### 1) PCA por usando la SVD (utilizando la SVD de numpy)"
      ]
    },
    {
      "cell_type": "code",
      "metadata": {
        "id": "vFMG1xOJcrtk",
        "colab_type": "code",
        "colab": {}
      },
      "source": [
        "# Función para PCA\n",
        "def PCA_from_SVD(A,num_componentes):\n",
        "    \"\"\"\n",
        "    Función para PCA a partir de la SVD \n",
        "    params: A\t\t\tmatriz de datos\n",
        "            num_componentes \tnúmero de componentes deseados\n",
        "    return: valores_singulares\tLos valores singulares de la descomposición SVD\n",
        "\t    componentes\t\tLos coeficientes para calcular los componentes principales\n",
        "\t    Z\t\t\tLos datos transformados (componentes principales)\n",
        "\t    varianza_explicada\tLa varianza explicada por cada componente principal\n",
        "    \"\"\"\n",
        "    \n",
        "    # Centrar los datos\n",
        "    A = np.array(A) # convertir los datos a un numpy array por si vienen de un DataFrame\n",
        "    A_centered = A - A.mean(axis=0)\n",
        "    \n",
        "    # Modificar esta línea de código, mandar a llamar la función creada por el equipo \n",
        "    # Calcular SVD\n",
        "    U, S, Vt = np.linalg.svd(A_centered)\n",
        "    \n",
        "    # Los valores singulares\n",
        "    valores_singulares = S\n",
        "    \n",
        "    # Los componentes (coeficientes)\n",
        "    componentes = (np.transpose(Vt))*-1\n",
        "    \n",
        "    # Los datos transformados (componentes principales)\n",
        "    Z = A_centered@np.transpose(Vt)\n",
        "    \n",
        "    # La varianza explicada\n",
        "    varianza_explicada = S**2/np.sum(S**2)\n",
        "    \n",
        "    # regresar 4 objetos\n",
        "    return valores_singulares[:(num_componentes)], componentes[:(num_componentes)], Z[:,:(num_componentes)], varianza_explicada[:(num_componentes)]"
      ],
      "execution_count": 0,
      "outputs": []
    },
    {
      "cell_type": "code",
      "metadata": {
        "id": "cATDJcNxzlUm",
        "colab_type": "code",
        "colab": {
          "base_uri": "https://localhost:8080/",
          "height": 35
        },
        "outputId": "b7dad977-eb54-4357-f262-7e5fd54963a6"
      },
      "source": [
        "# Medición de la función\n",
        "start_time = time.time()\n",
        "valores_singulares, coeficientes, Z, varianza_explicada = PCA_from_SVD(seccion_3,2)\n",
        "end_time = time.time()\n",
        "ecs = end_time-start_time\n",
        "print(\"PCA_from_SVD tomó\",secs,\"segundos\" )"
      ],
      "execution_count": 104,
      "outputs": [
        {
          "output_type": "stream",
          "text": [
            "PCA_from_SVD tomó 0.37876248359680176 segundos\n"
          ],
          "name": "stdout"
        }
      ]
    },
    {
      "cell_type": "code",
      "metadata": {
        "id": "mY1gsSe0zrtH",
        "colab_type": "code",
        "colab": {
          "base_uri": "https://localhost:8080/",
          "height": 35
        },
        "outputId": "e87b75ac-203c-40fd-dce3-c2190178cc11"
      },
      "source": [
        "valores_singulares"
      ],
      "execution_count": 59,
      "outputs": [
        {
          "output_type": "execute_result",
          "data": {
            "text/plain": [
              "array([92.84675616, 52.8802986 ])"
            ]
          },
          "metadata": {
            "tags": []
          },
          "execution_count": 59
        }
      ]
    },
    {
      "cell_type": "code",
      "metadata": {
        "id": "-EE1wDBozukW",
        "colab_type": "code",
        "colab": {
          "base_uri": "https://localhost:8080/",
          "height": 54
        },
        "outputId": "2be5a349-1486-4121-d72d-bf184da4af32"
      },
      "source": [
        "coeficientes"
      ],
      "execution_count": 60,
      "outputs": [
        {
          "output_type": "execute_result",
          "data": {
            "text/plain": [
              "array([[-0.04822396,  0.21919613, -0.95970233,  0.13388036,  0.10331985],\n",
              "       [-0.3165382 , -0.5410388 , -0.05109762,  0.68676775, -0.36444433]])"
            ]
          },
          "metadata": {
            "tags": []
          },
          "execution_count": 60
        }
      ]
    },
    {
      "cell_type": "code",
      "metadata": {
        "id": "gD6xOvnP1fnI",
        "colab_type": "code",
        "colab": {
          "base_uri": "https://localhost:8080/",
          "height": 35
        },
        "outputId": "8d848b70-f610-419b-c6ea-0e796513feeb"
      },
      "source": [
        "varianza_explicada"
      ],
      "execution_count": 61,
      "outputs": [
        {
          "output_type": "execute_result",
          "data": {
            "text/plain": [
              "array([0.60014616, 0.19467553])"
            ]
          },
          "metadata": {
            "tags": []
          },
          "execution_count": 61
        }
      ]
    },
    {
      "cell_type": "markdown",
      "metadata": {
        "id": "zIqpEhltcruV",
        "colab_type": "text"
      },
      "source": [
        "### 2) Validación a través de `/usr/bin/time`"
      ]
    },
    {
      "cell_type": "code",
      "metadata": {
        "id": "F3wnfmkTCRpG",
        "colab_type": "code",
        "colab": {
          "base_uri": "https://localhost:8080/",
          "height": 35
        },
        "outputId": "ac0658d2-2daa-403e-b3d4-dbd0beb4160f"
      },
      "source": [
        "# Damos de alta la función como .py\n",
        "%%file PCA_from_SVD.py\n",
        "def PCA_from_SVD(A,num_componentes):\n",
        "    \"\"\"\n",
        "    Función para PCA a partir de la SVD \n",
        "    params: A\t\t\tmatriz de datos\n",
        "            num_componentes \tnúmero de componentes deseados\n",
        "    return: valores_singulares\tLos valores singulares de la descomposición SVD\n",
        "\t    componentes\t\tLos coeficientes para calcular los componentes principales\n",
        "\t    Z\t\t\tLos datos transformados (componentes principales)\n",
        "\t    varianza_explicada\tLa varianza explicada por cada componente principal\n",
        "    \"\"\"\n",
        "    \n",
        "    # Centrar los datos\n",
        "    A = np.array(A) # convertir los datos a un numpy array por si vienen de un DataFrame\n",
        "    A_centered = A - A.mean(axis=0)\n",
        "    \n",
        "    # Modificar esta línea de código, mandar a llamar la función creada por el equipo \n",
        "    # Calcular SVD\n",
        "    U, S, Vt = np.linalg.svd(A_centered)\n",
        "    \n",
        "    # Los valores singulares\n",
        "    valores_singulares = S\n",
        "    \n",
        "    # Los componentes (coeficientes)\n",
        "    componentes = (np.transpose(Vt))*-1\n",
        "    \n",
        "    # Los datos transformados (componentes principales)\n",
        "    Z = A_centered@np.transpose(Vt)\n",
        "    \n",
        "    # La varianza explicada\n",
        "    varianza_explicada = S**2/np.sum(S**2)\n",
        "    \n",
        "    return valores_singulares[:(num_componentes)], componentes[:(num_componentes)], Z[:,:(num_componentes)], varianza_explicada[:(num_componentes)]\n",
        "#if __name__==\"__main__\": #Conforme a las notas añadimos este bloque para ejecución de la función\n",
        "#        print(\"aproximación: {:0.6e}\".format(valores_singulares, coeficientes, Z, varianza_explicada = PCA_from_SVD(seccion_3,2)))"
      ],
      "execution_count": 119,
      "outputs": [
        {
          "output_type": "stream",
          "text": [
            "Overwriting PCA_from_SVD.py\n"
          ],
          "name": "stdout"
        }
      ]
    },
    {
      "cell_type": "code",
      "metadata": {
        "id": "VqFgsEyZcrup",
        "colab_type": "code",
        "colab": {
          "base_uri": "https://localhost:8080/",
          "height": 72
        },
        "outputId": "6123ab91-56e7-4716-a71b-476ed5210c05"
      },
      "source": [
        "#real que mide el wall clock o elapsed time.\n",
        "#user que mide la cantidad de tiempo de tu ejecución que la CPU gastó para funciones que no están relacionadas con el kernel* del sistema.\n",
        "#sys que mide la cantidad de tiempo de tu ejecución que la CPU gastó en funciones a nivel de kernel del sistema.\n",
        "\n",
        "%%bash\n",
        "/usr/bin/time -p python3 PCA_from_SVD.py"
      ],
      "execution_count": 121,
      "outputs": [
        {
          "output_type": "stream",
          "text": [
            "real 0.04\n",
            "user 0.03\n",
            "sys 0.00\n"
          ],
          "name": "stderr"
        }
      ]
    },
    {
      "cell_type": "code",
      "metadata": {
        "id": "x8U50Moscruv",
        "colab_type": "code",
        "colab": {
          "base_uri": "https://localhost:8080/",
          "height": 439
        },
        "outputId": "ee0a54e5-7978-4f45-db90-6309cc3a6052"
      },
      "source": [
        "%%bash\n",
        "/usr/bin/time --verbose python3 PCA_from_SVD.py"
      ],
      "execution_count": 122,
      "outputs": [
        {
          "output_type": "stream",
          "text": [
            "\tCommand being timed: \"python3 PCA_from_SVD.py\"\n",
            "\tUser time (seconds): 0.04\n",
            "\tSystem time (seconds): 0.02\n",
            "\tPercent of CPU this job got: 96%\n",
            "\tElapsed (wall clock) time (h:mm:ss or m:ss): 0:00.07\n",
            "\tAverage shared text size (kbytes): 0\n",
            "\tAverage unshared data size (kbytes): 0\n",
            "\tAverage stack size (kbytes): 0\n",
            "\tAverage total size (kbytes): 0\n",
            "\tMaximum resident set size (kbytes): 13208\n",
            "\tAverage resident set size (kbytes): 0\n",
            "\tMajor (requiring I/O) page faults: 0\n",
            "\tMinor (reclaiming a frame) page faults: 1696\n",
            "\tVoluntary context switches: 23\n",
            "\tInvoluntary context switches: 23\n",
            "\tSwaps: 0\n",
            "\tFile system inputs: 16\n",
            "\tFile system outputs: 0\n",
            "\tSocket messages sent: 0\n",
            "\tSocket messages received: 0\n",
            "\tSignals delivered: 0\n",
            "\tPage size (bytes): 4096\n",
            "\tExit status: 0\n"
          ],
          "name": "stderr"
        }
      ]
    },
    {
      "cell_type": "markdown",
      "metadata": {
        "id": "lL9Fi2yXcruz",
        "colab_type": "text"
      },
      "source": [
        "`Major (requiring I/O)` = $0$"
      ]
    },
    {
      "cell_type": "markdown",
      "metadata": {
        "id": "__b_wKE0cru0",
        "colab_type": "text"
      },
      "source": [
        "### 3) Validación a través de `%timeit`"
      ]
    },
    {
      "cell_type": "markdown",
      "metadata": {
        "id": "2o9qwIAbIEQ3",
        "colab_type": "text"
      },
      "source": [
        "Con un loop de tamaño 5 y 30 repeticiones se logra una medición estable en aproximadamente 69 milisegundos como el mejor resultado de la prueba."
      ]
    },
    {
      "cell_type": "code",
      "metadata": {
        "id": "AN-Q-RMpcru_",
        "colab_type": "code",
        "colab": {
          "base_uri": "https://localhost:8080/",
          "height": 35
        },
        "outputId": "f74eed54-1037-45bc-ae21-0edfc27d1bf6"
      },
      "source": [
        "%timeit -n 5 -r 30 PCA_from_SVD(seccion_3,2)"
      ],
      "execution_count": 128,
      "outputs": [
        {
          "output_type": "stream",
          "text": [
            "5 loops, best of 30: 69.7 ms per loop\n"
          ],
          "name": "stdout"
        }
      ]
    },
    {
      "cell_type": "markdown",
      "metadata": {
        "id": "Ur0eezGBcrvJ",
        "colab_type": "text"
      },
      "source": [
        "## Medición de uso de CPU"
      ]
    },
    {
      "cell_type": "markdown",
      "metadata": {
        "id": "VMmSqqjocrvM",
        "colab_type": "text"
      },
      "source": [
        "### 1) A través de cProfile"
      ]
    },
    {
      "cell_type": "markdown",
      "metadata": {
        "id": "V_nUH80Tcrv3",
        "colab_type": "text"
      },
      "source": [
        "### 2) A través de line_profiler"
      ]
    },
    {
      "cell_type": "markdown",
      "metadata": {
        "id": "kuUV-5OOcrxn",
        "colab_type": "text"
      },
      "source": [
        "## Uso de memoria RAM"
      ]
    },
    {
      "cell_type": "markdown",
      "metadata": {
        "id": "hjV8zIPHcrxo",
        "colab_type": "text"
      },
      "source": [
        "### 1)A través de `%memit`"
      ]
    },
    {
      "cell_type": "markdown",
      "metadata": {
        "id": "RkHFLFn3cryM",
        "colab_type": "text"
      },
      "source": [
        "### 2) A través de `memory_profiler`"
      ]
    },
    {
      "cell_type": "markdown",
      "metadata": {
        "id": "VX1EmyxYcryY",
        "colab_type": "text"
      },
      "source": [
        "### 3) A través de heapy"
      ]
    }
  ]
}
