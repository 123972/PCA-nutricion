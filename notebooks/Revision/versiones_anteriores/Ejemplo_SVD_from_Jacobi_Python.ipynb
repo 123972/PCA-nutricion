{
 "cells": [
  {
   "cell_type": "code",
   "execution_count": 2,
   "metadata": {},
   "outputs": [],
   "source": [
    "# Importar librerías\n",
    "import numpy as np"
   ]
  },
  {
   "cell_type": "markdown",
   "metadata": {},
   "source": [
    "Definir funciones"
   ]
  },
  {
   "cell_type": "code",
   "execution_count": 4,
   "metadata": {},
   "outputs": [],
   "source": [
    "# Función que verifica si dos vectores son ortogonales de acuerdo a cierto nivel de tolerancia\n",
    "def verificar_ortogonalidad(u,v,tol = 10**-8):\n",
    "    if np.linalg.norm(u) <= tol or np.linalg.norm(v) <= tol:\n",
    "        resultado = 1\n",
    "    elif ((np.dot(u,v))/(np.linalg.norm(u)*np.linalg.norm(v))) <= tol:\n",
    "        resultado = 1\n",
    "    else:\n",
    "        resultado = 0\n",
    "    return resultado\n",
    "\n",
    "# Función signo\n",
    "def signo(x):\n",
    "    if x<0:\n",
    "        sig = -1\n",
    "    else:\n",
    "        sig = 1\n",
    "    return sig\n",
    "\n",
    "\n",
    "\n",
    "def svd_jacobi_aprox(A,TOL,maxsweep):\n",
    "    # Calcula la descomposición de una matriz A en sus componentes U, S V, \n",
    "    # utilizando el método de Jacobi para calcular la factorización SVD.De esta forma \n",
    "    # la matriz A queda descompuesta de la siguiente forma: A = U*S*t(V).\n",
    "    # Args: \n",
    "    #    A (matriz): Matriz de entrada (nxm) de números reales a la que se le calculará la descomposición SVD.\n",
    "    #    TOL (numeric): controla la convergencia del método, siendo un valor real de 10^-8 (sugerido en la nota 3.3.d.SVD)\n",
    "    #    Nota: Se sugiere una TOL mayor a 10^-32.\n",
    "    #    maxsweep (numeric): número máximo de sweeps,donde cada sweep consiste de un número máximo(nmax)\n",
    "    #    de rotaciones; y en cada sweep se ortogonalizan 2 columnas.\n",
    "    # Returns: \n",
    "    #   Lista con 3 elementos, donde el primer elemento representa a la matriz U(nxm),el segundo a la matriz S(mxm) matriz diagonal\n",
    "    #   y el tercero y último a la matriz V (mxm).En conjunto estas tres matrices componen la factorización SVD de la matriz de entrada A.\n",
    "    # Nota: Esta función estima la SVD thin,la cual calcula unicamente las m columnas de U correspondientes a los m renglones de V. De esta\n",
    "    # manera las columnas restantes de U no son calculadas, provocando una mejora significativa en velocidad de ejecución comparada con la \n",
    "    # la Full SVD. Referencia: https://en.wikipedia.org/wiki/Singular_value_decomposition#Thin_SVD.\n",
    "    \n",
    "    #dimensiones de A\n",
    "    n = A.shape[1] #numero de columnas\n",
    "    m = A.shape[0] #numero de filas\n",
    "    nmax =n*(n-1)/2\n",
    "    \n",
    "    #inicializa valores del ciclo\n",
    "    ak = A\n",
    "    vk = np.identity(n, dtype = float) \n",
    "    sig = ''\n",
    "    uk = ak\n",
    "    num_col_ortogonal = 0\n",
    "    k = 0\n",
    "    stop = False\n",
    "        \n",
    "    \n",
    "    while(k<=maxsweep & num_col_ortogonal<nmax):\n",
    "        num_col_ortogonal =0\n",
    "        for i in range(n-1):\n",
    "            for j in range(i+1,n):\n",
    "                col_j = ak[:,j]\n",
    "                col_i = ak[:,i]\n",
    "\n",
    "                #comprueba ortogonalidad  \n",
    "                if(verificar_ortogonalidad(col_i,col_j,TOL)==1):\n",
    "                    num_col_ortogonal =num_col_ortogonal+1\n",
    "                else:\n",
    "                    #calcula coeficientes de la matriz\n",
    "                    a = np.dot(col_i,col_i)\n",
    "                    b = np.dot(col_j,col_j)\n",
    "                    c = np.dot(col_i,col_j)\n",
    "\n",
    "                    #si c es cercano a cero no actualiza\n",
    "                    if(c<TOL):\n",
    "                        stop =True\n",
    "                        break\n",
    "\n",
    "                    #calcula la rotacion givens que diagonaliza\n",
    "                    epsilon = (b-a)/(2*c)\n",
    "                    t = signo(epsilon)/(abs(epsilon)+np.sqrt(1+epsilon**2))\n",
    "                    cs = 1/np.sqrt(1+t**2)\n",
    "                    sn = cs*t\n",
    "\n",
    "                    #actualiza las columnas de la matriz ak\n",
    "                    temp1 = ak[:,i].copy()\n",
    "                    ak[:,i] = cs*temp1-sn*ak[:,j]\n",
    "                    ak[:,j] = sn*temp1+cs*ak[:,j]\n",
    "\n",
    "\n",
    "                    #actualiza las columnas de la matriz vk\n",
    "                    temp2 = vk[:,i].copy() \n",
    "                    vk[:,i] = cs*temp2-sn*vk[:,j]\n",
    "                    vk[:,j] = sn*temp2+cs*vk[:,j]             \n",
    "                #cierra else\n",
    "            #cierra for j\n",
    "            if(stop):\n",
    "                stop = False\n",
    "                break\n",
    "            \n",
    "        #cierra for i\n",
    "        k = k+1\n",
    "     #cierra while\n",
    "    \n",
    "      \n",
    "    #Obtener sigma (normas euclidianas de columnas de ak)\n",
    "    sig = np.linalg.norm(ak, axis=0)\n",
    "\n",
    "    #Obtener U (columnas normalizadas de ak)\n",
    "    for i in range(n):\n",
    "        if (sig[i]<TOL):\n",
    "            uk[:,i] = 0  \n",
    "        else:\n",
    "            uk[:,i] = ak[:,i]/sig[i]\n",
    "        \n",
    "\n",
    "    # Indices de sigma ordenada en forma decreciente para ordenar V,S,U\n",
    "    #index <- order(sig,decreasing = TRUE)\n",
    "    index = np.argsort(sig) # Obtenemos los indices de sig ordenado\n",
    "    index = index[::-1] # Invertimos, para obtener los índices del orden decreciente\n",
    "    #Reordenamos\n",
    "    V = vk[:,index]\n",
    "    s = sig[index]\n",
    "    U = uk[:,index]\n",
    "    \n",
    "    return U, s, V  \n",
    "\n"
   ]
  },
  {
   "cell_type": "markdown",
   "metadata": {},
   "source": [
    "Definir matriz de prueba"
   ]
  },
  {
   "cell_type": "code",
   "execution_count": 7,
   "metadata": {},
   "outputs": [
    {
     "name": "stdout",
     "output_type": "stream",
     "text": [
      "[[-1.76884571  0.07555227 -1.1306297  -0.65143017 -0.89311563 -1.27410098]\n",
      " [-0.06115443  0.06451384  0.41011295 -0.57288249 -0.80133362  1.31203519]\n",
      " [ 1.27469887 -1.2143576   0.31371941 -1.44482142 -0.3689613  -0.76922658]\n",
      " [ 0.3926161   0.05729383  2.08997884  0.04197131 -0.04834072 -0.51315392]\n",
      " [-0.08458928 -1.21545008 -1.41293073 -1.48691055  0.38222486  0.937673  ]\n",
      " [ 1.77267804  0.87882801  0.33171912 -0.30603567  1.24026615 -0.21562684]\n",
      " [ 0.15592948  0.09805553  0.83209585  2.04520542 -0.31681392 -1.31283291]\n",
      " [-1.75445746  0.10209408 -1.36150208  0.48178488 -0.20832874 -0.09186351]\n",
      " [ 0.70268816  0.10365506  0.62123638  0.95411497  2.03781352 -0.48445122]]\n"
     ]
    }
   ],
   "source": [
    "np.random.seed(2020)\n",
    "a = np.random.randn(9, 6)\n",
    "print(a)"
   ]
  },
  {
   "cell_type": "markdown",
   "metadata": {},
   "source": [
    "Ejecutar función"
   ]
  },
  {
   "cell_type": "code",
   "execution_count": 8,
   "metadata": {},
   "outputs": [
    {
     "data": {
      "text/plain": [
       "(array([[-0.46799782,  0.18498431, -0.25271044,  0.50556768,  0.326373  ,\n",
       "         -0.20802715],\n",
       "        [-0.08941271, -0.2135826 ,  0.04309303, -0.58687765,  0.33463494,\n",
       "         -0.01524759],\n",
       "        [ 0.05794743, -0.57707707, -0.30085484,  0.40083168, -0.10133129,\n",
       "          0.1271782 ],\n",
       "        [ 0.32572214, -0.06794047, -0.43149003, -0.13970524,  0.33477343,\n",
       "         -0.64719496],\n",
       "        [-0.31248542, -0.4316653 ,  0.42201156,  0.11455876, -0.50069041,\n",
       "         -0.16052517],\n",
       "        [ 0.40961861, -0.14654734,  0.3483945 ,  0.33546987,  0.264984  ,\n",
       "          0.31100118],\n",
       "        [ 0.25440481,  0.44418061, -0.54604416,  0.04666071, -0.26277556,\n",
       "          0.39326348],\n",
       "        [-0.38855652,  0.37582276,  0.09308992,  0.07807463, -0.16848715,\n",
       "         -0.09691082],\n",
       "        [ 0.42708087,  0.19020835,  0.22645243,  0.29301151, -0.49072652,\n",
       "         -0.48468409]]),\n",
       " array([4.59649174, 3.61220786, 2.81619661, 2.26909263, 1.67799987,\n",
       "        1.1952781 ]),\n",
       " array([[ 0.61573379, -0.47281802,  0.08555007,  0.10332534, -0.06143326,\n",
       "          0.61281811],\n",
       "        [ 0.17748402,  0.4231393 ,  0.33852663,  0.01810387,  0.80172821,\n",
       "          0.17820327],\n",
       "        [ 0.5753762 , -0.1030216 , -0.46076804, -0.35855882,  0.24267708,\n",
       "         -0.50849288],\n",
       "        [ 0.28237615,  0.7274847 , -0.1565714 , -0.28290694, -0.44129051,\n",
       "          0.30288853],\n",
       "        [ 0.41084917,  0.12010392,  0.604785  ,  0.33739202, -0.30789846,\n",
       "         -0.49231928],\n",
       "        [-0.09889501, -0.20766284,  0.52487543, -0.81643247, -0.07090062,\n",
       "         -0.00358076]]))"
      ]
     },
     "execution_count": 8,
     "metadata": {},
     "output_type": "execute_result"
    }
   ],
   "source": [
    "svd_jacobi_aprox(a,10**-8,100)"
   ]
  },
  {
   "cell_type": "code",
   "execution_count": null,
   "metadata": {},
   "outputs": [],
   "source": []
  }
 ],
 "metadata": {
  "kernelspec": {
   "display_name": "Python 3",
   "language": "python",
   "name": "python3"
  },
  "language_info": {
   "codemirror_mode": {
    "name": "ipython",
    "version": 3
   },
   "file_extension": ".py",
   "mimetype": "text/x-python",
   "name": "python",
   "nbconvert_exporter": "python",
   "pygments_lexer": "ipython3",
   "version": "3.7.3"
  }
 },
 "nbformat": 4,
 "nbformat_minor": 2
}
