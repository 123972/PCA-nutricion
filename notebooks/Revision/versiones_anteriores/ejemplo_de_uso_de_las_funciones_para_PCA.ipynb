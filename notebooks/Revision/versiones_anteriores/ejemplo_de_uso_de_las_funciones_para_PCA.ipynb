{
 "cells": [
  {
   "cell_type": "markdown",
   "metadata": {},
   "source": [
    "## Leer los datos limpios"
   ]
  },
  {
   "cell_type": "code",
   "execution_count": 1,
   "metadata": {},
   "outputs": [],
   "source": [
    "# Importar librerías\n",
    "import numpy as np\n",
    "import pandas as pd \n",
    "import os"
   ]
  },
  {
   "cell_type": "code",
   "execution_count": 2,
   "metadata": {},
   "outputs": [
    {
     "data": {
      "text/plain": [
       "'/home/leonardo'"
      ]
     },
     "execution_count": 2,
     "metadata": {},
     "output_type": "execute_result"
    }
   ],
   "source": [
    "# Saber la ruta de trabajo\n",
    "os.getcwd()"
   ]
  },
  {
   "cell_type": "code",
   "execution_count": 3,
   "metadata": {},
   "outputs": [],
   "source": [
    "#help(pd.read_csv)"
   ]
  },
  {
   "cell_type": "code",
   "execution_count": 30,
   "metadata": {},
   "outputs": [],
   "source": [
    "# importar datos\n",
    "#/home/leonardo/Documentos/ITAM/MNO/Final-Project-MNO-2020/data/datos_limpios.csv\n",
    "\n",
    "df = pd.read_csv('/home/leonardo/Documentos/ITAM/MNO/Final-Project-MNO-2020/data/datos_limpios.csv', nrows = 20000)\n",
    "#df = pd.read_csv('/home/leonardo/Documentos/ITAM/MNO/Final-Project-MNO-2020/data/datos_limpios.csv')"
   ]
  },
  {
   "cell_type": "code",
   "execution_count": 31,
   "metadata": {},
   "outputs": [
    {
     "data": {
      "text/plain": [
       "(560626, 272)"
      ]
     },
     "execution_count": 31,
     "metadata": {},
     "output_type": "execute_result"
    }
   ],
   "source": [
    "# Estructura de los datos\n",
    "df.shape"
   ]
  },
  {
   "cell_type": "code",
   "execution_count": 36,
   "metadata": {},
   "outputs": [
    {
     "data": {
      "text/html": [
       "<div>\n",
       "<style scoped>\n",
       "    .dataframe tbody tr th:only-of-type {\n",
       "        vertical-align: middle;\n",
       "    }\n",
       "\n",
       "    .dataframe tbody tr th {\n",
       "        vertical-align: top;\n",
       "    }\n",
       "\n",
       "    .dataframe thead th {\n",
       "        text-align: right;\n",
       "    }\n",
       "</style>\n",
       "<table border=\"1\" class=\"dataframe\">\n",
       "  <thead>\n",
       "    <tr style=\"text-align: right;\">\n",
       "      <th></th>\n",
       "      <th>p10</th>\n",
       "      <th>p11</th>\n",
       "      <th>p12</th>\n",
       "      <th>p13</th>\n",
       "      <th>p14</th>\n",
       "    </tr>\n",
       "  </thead>\n",
       "  <tbody>\n",
       "    <tr>\n",
       "      <th>0</th>\n",
       "      <td>2.0</td>\n",
       "      <td>1.0</td>\n",
       "      <td>1.0</td>\n",
       "      <td>2.0</td>\n",
       "      <td>2.0</td>\n",
       "    </tr>\n",
       "    <tr>\n",
       "      <th>1</th>\n",
       "      <td>4.0</td>\n",
       "      <td>3.0</td>\n",
       "      <td>3.0</td>\n",
       "      <td>5.0</td>\n",
       "      <td>6.0</td>\n",
       "    </tr>\n",
       "    <tr>\n",
       "      <th>2</th>\n",
       "      <td>4.0</td>\n",
       "      <td>1.0</td>\n",
       "      <td>2.0</td>\n",
       "      <td>5.0</td>\n",
       "      <td>5.0</td>\n",
       "    </tr>\n",
       "    <tr>\n",
       "      <th>3</th>\n",
       "      <td>2.0</td>\n",
       "      <td>1.0</td>\n",
       "      <td>1.0</td>\n",
       "      <td>3.0</td>\n",
       "      <td>3.0</td>\n",
       "    </tr>\n",
       "    <tr>\n",
       "      <th>4</th>\n",
       "      <td>2.0</td>\n",
       "      <td>2.0</td>\n",
       "      <td>3.0</td>\n",
       "      <td>3.0</td>\n",
       "      <td>4.0</td>\n",
       "    </tr>\n",
       "  </tbody>\n",
       "</table>\n",
       "</div>"
      ],
      "text/plain": [
       "   p10  p11  p12  p13  p14\n",
       "0  2.0  1.0  1.0  2.0  2.0\n",
       "1  4.0  3.0  3.0  5.0  6.0\n",
       "2  4.0  1.0  2.0  5.0  5.0\n",
       "3  2.0  1.0  1.0  3.0  3.0\n",
       "4  2.0  2.0  3.0  3.0  4.0"
      ]
     },
     "execution_count": 36,
     "metadata": {},
     "output_type": "execute_result"
    }
   ],
   "source": [
    "# Conservar variables de la sección 3\n",
    "seccion_3 = df.loc[:, ['p10', 'p11', 'p12', 'p13', 'p14']]\n",
    "seccion_3.head()"
   ]
  },
  {
   "cell_type": "code",
   "execution_count": 37,
   "metadata": {},
   "outputs": [
    {
     "data": {
      "text/plain": [
       "(560626, 5)"
      ]
     },
     "execution_count": 37,
     "metadata": {},
     "output_type": "execute_result"
    }
   ],
   "source": [
    "seccion_3.shape"
   ]
  },
  {
   "cell_type": "markdown",
   "metadata": {},
   "source": [
    "## Hacer PCA por usando la SVD (utilizando la SVD de numpy)"
   ]
  },
  {
   "cell_type": "markdown",
   "metadata": {},
   "source": [
    "Tenemos varias opcones para cargar las funciones, importarlas, mandarlras a ejecutar o ponerlas en el notebook. En este ejemplo de uso las pondré en el notebook"
   ]
  },
  {
   "cell_type": "code",
   "execution_count": 51,
   "metadata": {},
   "outputs": [],
   "source": [
    "# Función para PCA\n",
    "def PCA_from_SVD(A):\n",
    "    \"\"\"\n",
    "    Función para PCA a partir de la SVD de numpy \n",
    "    params: A\t\t\tmatriz de datos\n",
    "            num_componentes \tnúmero de componentes deseados\n",
    "\n",
    "    return: valores_singulares\tLos valores singulares de la descomposición SVD\n",
    "\t    componentes\t\tLos coeficientes para calcular los componentes principales\n",
    "\t    Z\t\t\tLos datos transformados (componentes principales)\n",
    "\t    varianza_explicada\tLa varianza explicada por cada componente principal\n",
    "    \"\"\"\n",
    "    \n",
    "    # Centrar los datos\n",
    "    A = np.array(A) # convertir los datos a un numpy array por si vienen de un DataFrame\n",
    "    A_centered = A - A.mean(axis=0)\n",
    "    \n",
    "    # Calcular SVD\n",
    "    U, S, Vt = np.linalg.svd(A_centered, full_matrices=False)\n",
    "    \n",
    "    # Los valores singulares\n",
    "    valores_singulares = S\n",
    "    \n",
    "    # Los componentes (coeficientes)\n",
    "    componentes = ((Vt))\n",
    "    \n",
    "    # Los datos transformados (componentes principales)\n",
    "    Z = A_centered@np.transpose(Vt)\n",
    "    \n",
    "    # La varianza explicada\n",
    "    varianza_explicada = S**2/np.sum(S**2)\n",
    "    \n",
    "    # Calcula número de componentes de manera automatica de acuerdo a la variana explicada\n",
    "    # Threshold de 60%\n",
    "    n = A.shape[1] #numero de columnas\n",
    "    varianza_acumulada = varianza_explicada.cumsum()\n",
    "    conteo = (varianza_acumulada)  <  0.6\n",
    "    num_componentes = conteo.sum() + 1\n",
    "    \n",
    "    # regresar 4 objetos\n",
    "    return valores_singulares[:num_componentes], componentes[:num_componentes].T, Z[:,:num_componentes], varianza_explicada[:num_componentes]\n"
   ]
  },
  {
   "cell_type": "code",
   "execution_count": 52,
   "metadata": {},
   "outputs": [],
   "source": [
    "# Ejecutar función\n",
    "\n",
    "valores_singulares, coeficientes, Z, varianza_explicada = PCA_from_SVD(seccion_3)"
   ]
  },
  {
   "cell_type": "code",
   "execution_count": 53,
   "metadata": {},
   "outputs": [
    {
     "data": {
      "text/plain": [
       "array([1676.16876321,  962.93809139])"
      ]
     },
     "execution_count": 53,
     "metadata": {},
     "output_type": "execute_result"
    }
   ],
   "source": [
    "valores_singulares"
   ]
  },
  {
   "cell_type": "code",
   "execution_count": 54,
   "metadata": {},
   "outputs": [
    {
     "data": {
      "text/plain": [
       "array([[ 0.07886797, -0.21288715],\n",
       "       [ 0.26246035,  0.50632358],\n",
       "       [ 0.42552634,  0.68714901],\n",
       "       [ 0.60025777, -0.29921326],\n",
       "       [ 0.61928374, -0.36961216]])"
      ]
     },
     "execution_count": 54,
     "metadata": {},
     "output_type": "execute_result"
    }
   ],
   "source": [
    "coeficientes"
   ]
  },
  {
   "cell_type": "code",
   "execution_count": 55,
   "metadata": {},
   "outputs": [
    {
     "data": {
      "text/plain": [
       "array([[-4.11825924,  0.79580987],\n",
       "       [ 1.69335835,  0.38089233],\n",
       "       [ 0.12362758, -0.94929168],\n",
       "       ...,\n",
       "       [ 2.22491318, -1.48140569],\n",
       "       [-2.12169804, -0.66840201],\n",
       "       [-0.38076673, -1.42355355]])"
      ]
     },
     "execution_count": 55,
     "metadata": {},
     "output_type": "execute_result"
    }
   ],
   "source": [
    "# Z es nuestro nuevo data frame de datos transformados \n",
    "Z"
   ]
  },
  {
   "cell_type": "code",
   "execution_count": 77,
   "metadata": {},
   "outputs": [
    {
     "data": {
      "text/plain": [
       "array([0.58537056, 0.19149072])"
      ]
     },
     "execution_count": 77,
     "metadata": {},
     "output_type": "execute_result"
    }
   ],
   "source": [
    "varianza_explicada"
   ]
  },
  {
   "cell_type": "markdown",
   "metadata": {},
   "source": [
    "## Hacer PCA usando la SVD (utilizando la SVD obtenida del algoritmo de aproxomacion de Jacobi) "
   ]
  },
  {
   "cell_type": "markdown",
   "metadata": {},
   "source": [
    "primero necesitamos la función del algoritmo de jacobi y después la función que hace PCA usando la proximación de la SVD"
   ]
  },
  {
   "cell_type": "code",
   "execution_count": 60,
   "metadata": {},
   "outputs": [],
   "source": [
    "# Función que verifica si dos vectores son ortogonales de acuerdo a cierto nivel de tolerancia\n",
    "def verificar_ortogonalidad(u,v,tol = 10**-8):\n",
    "    if np.linalg.norm(u) <= tol or np.linalg.norm(v) <= tol:\n",
    "        resultado = 1\n",
    "    elif ((np.dot(u,v))/(np.linalg.norm(u)*np.linalg.norm(v))) <= tol:\n",
    "        resultado = 1\n",
    "    else:\n",
    "        resultado = 0\n",
    "    return resultado\n",
    "\n",
    "# Función signo\n",
    "def signo(x):\n",
    "    if x<0:\n",
    "        sig = -1\n",
    "    else:\n",
    "        sig = 1\n",
    "    return sig\n",
    "\n",
    "\n",
    "\n",
    "def svd_jacobi_aprox(A,TOL,maxsweep):\n",
    "    # Calcula la descomposición de una matriz A en sus componentes U, S V, \n",
    "    # utilizando el método de Jacobi para calcular la factorización SVD.De esta forma \n",
    "    # la matriz A queda descompuesta de la siguiente forma: A = U*S*t(V).\n",
    "    # Args: \n",
    "    #    A (matriz): Matriz de entrada (nxm) de números reales a la que se le calculará la descomposición SVD.\n",
    "    #    TOL (numeric): controla la convergencia del método, siendo un valor real de 10^-8 (sugerido en la nota 3.3.d.SVD)\n",
    "    #    Nota: Se sugiere una TOL mayor a 10^-32.\n",
    "    #    maxsweep (numeric): número máximo de sweeps,donde cada sweep consiste de un número máximo(nmax)\n",
    "    #    de rotaciones; y en cada sweep se ortogonalizan 2 columnas.\n",
    "    # Returns: \n",
    "    #   Lista con 3 elementos, donde el primer elemento representa a la matriz U(nxm),el segundo a la matriz S(mxm) matriz diagonal\n",
    "    #   y el tercero y último a la matriz V (mxm).En conjunto estas tres matrices componen la factorización SVD de la matriz de entrada A.\n",
    "    # Nota: Esta función estima la SVD thin,la cual calcula unicamente las m columnas de U correspondientes a los m renglones de V. De esta\n",
    "    # manera las columnas restantes de U no son calculadas, provocando una mejora significativa en velocidad de ejecución comparada con la \n",
    "    # la Full SVD. Referencia: https://en.wikipedia.org/wiki/Singular_value_decomposition#Thin_SVD.\n",
    "    \n",
    "    #dimensiones de A\n",
    "    n = A.shape[1] #numero de columnas\n",
    "    m = A.shape[0] #numero de filas\n",
    "    nmax =n*(n-1)/2\n",
    "    \n",
    "    #inicializa valores del ciclo\n",
    "    ak = A\n",
    "    vk = np.identity(n, dtype = float) \n",
    "    sig = ''\n",
    "    uk = ak\n",
    "    num_col_ortogonal = 0\n",
    "    k = 0\n",
    "    stop = False\n",
    "        \n",
    "    \n",
    "    while(k<=maxsweep & num_col_ortogonal<nmax):\n",
    "        num_col_ortogonal =0\n",
    "        for i in range(n-1):\n",
    "            for j in range(i+1,n):\n",
    "                col_j = ak[:,j]\n",
    "                col_i = ak[:,i]\n",
    "\n",
    "                #comprueba ortogonalidad  \n",
    "                if(verificar_ortogonalidad(col_i,col_j,TOL)==1):\n",
    "                    num_col_ortogonal =num_col_ortogonal+1\n",
    "                else:\n",
    "                    #calcula coeficientes de la matriz\n",
    "                    a = np.dot(col_i,col_i)\n",
    "                    b = np.dot(col_j,col_j)\n",
    "                    c = np.dot(col_i,col_j)\n",
    "\n",
    "                    #si c es cercano a cero no actualiza\n",
    "                    if(c<TOL):\n",
    "                        stop =True\n",
    "                        break\n",
    "\n",
    "                    #calcula la rotacion givens que diagonaliza\n",
    "                    epsilon = (b-a)/(2*c)\n",
    "                    t = signo(epsilon)/(abs(epsilon)+np.sqrt(1+epsilon**2))\n",
    "                    cs = 1/np.sqrt(1+t**2)\n",
    "                    sn = cs*t\n",
    "\n",
    "                    #actualiza las columnas de la matriz ak\n",
    "                    temp1 = ak[:,i].copy()\n",
    "                    ak[:,i] = cs*temp1-sn*ak[:,j]\n",
    "                    ak[:,j] = sn*temp1+cs*ak[:,j]\n",
    "\n",
    "\n",
    "                    #actualiza las columnas de la matriz vk\n",
    "                    temp2 = vk[:,i].copy() \n",
    "                    vk[:,i] = cs*temp2-sn*vk[:,j]\n",
    "                    vk[:,j] = sn*temp2+cs*vk[:,j]             \n",
    "                #cierra else\n",
    "            #cierra for j\n",
    "            if(stop):\n",
    "                stop = False\n",
    "                break\n",
    "            \n",
    "        #cierra for i\n",
    "        k = k+1\n",
    "     #cierra while\n",
    "    \n",
    "      \n",
    "    #Obtener sigma (normas euclidianas de columnas de ak)\n",
    "    sig = np.linalg.norm(ak, axis=0)\n",
    "\n",
    "    #Obtener U (columnas normalizadas de ak)\n",
    "    for i in range(n):\n",
    "        if (sig[i]<TOL):\n",
    "            uk[:,i] = 0  \n",
    "        else:\n",
    "            uk[:,i] = ak[:,i]/sig[i]\n",
    "        \n",
    "\n",
    "    # Indices de sigma ordenada en forma decreciente para ordenar V,S,U\n",
    "    #index <- order(sig,decreasing = TRUE)\n",
    "    index = np.argsort(sig) # Obtenemos los indices de sig ordenado\n",
    "    index = index[::-1] # Invertimos, para obtener los índices del orden decreciente\n",
    "    #Reordenamos\n",
    "    V = vk[:,index]\n",
    "    s = sig[index]\n",
    "    U = uk[:,index]\n",
    "    \n",
    "    return U, s, V  "
   ]
  },
  {
   "cell_type": "code",
   "execution_count": 61,
   "metadata": {},
   "outputs": [],
   "source": [
    "def PCA_from_SVD_jacobi(A):\n",
    "    \"\"\"\n",
    "    Función para PCA a partir de la SVD \n",
    "    params: A\t\t\tmatriz de datos\n",
    "            num_componentes \tnúmero de componentes deseados\n",
    "    return: valores_singulares\tLos valores singulares de la descomposición SVD\n",
    "\t    componentes\t\tLos coeficientes para calcular los componentes principales\n",
    "\t    Z\t\t\tLos datos transformados (componentes principales)\n",
    "\t    varianza_explicada\tLa varianza explicada por cada componente principal\n",
    "    \"\"\"\n",
    "    \n",
    "    # Centrar los datos\n",
    "    A = np.array(A) # convertir los datos a un numpy array por si vienen de un DataFrame\n",
    "    A_centered = A - A.mean(axis=0)\n",
    "    \n",
    "    # Modificar esta línea de código, mandar a llamar la función creada por el equipo \n",
    "    # Calcular SVD\n",
    "    U, S, Vt = svd_jacobi_aprox(A_centered,1e-12,500)\n",
    "    \n",
    "    # Los valores singulares\n",
    "    valores_singulares = S\n",
    "    \n",
    "    # Los componentes (coeficientes)\n",
    "    componentes = ((Vt))\n",
    "    \n",
    "    # Los datos transformados (componentes principales)\n",
    "    Z = A_centered@np.transpose(Vt)\n",
    "    \n",
    "    # La varianza explicada\n",
    "    varianza_explicada = S**2/np.sum(S**2)\n",
    "    \n",
    "    # Calcula número de componentes de manera automatica de acuerdo a la variana explicada\n",
    "    # Threshold de 60%\n",
    "    n = A.shape[1] #numero de columnas\n",
    "    varianza_acumulada = varianza_explicada.cumsum()\n",
    "    conteo = (varianza_acumulada)  <  0.6\n",
    "    num_componentes = conteo.sum() + 1    \n",
    "    \n",
    "    # regresar 4 objetos\n",
    "    return valores_singulares[:(num_componentes)], componentes[:(num_componentes)].T, Z[:,:(num_componentes)], varianza_explicada[:(num_componentes)]\n",
    "\n"
   ]
  },
  {
   "cell_type": "code",
   "execution_count": 62,
   "metadata": {},
   "outputs": [],
   "source": [
    "valores_singulares2, coeficientes2, Z2, varianza_explicada2 = PCA_from_SVD_jacobi(seccion_3)"
   ]
  },
  {
   "cell_type": "code",
   "execution_count": 63,
   "metadata": {},
   "outputs": [
    {
     "data": {
      "text/plain": [
       "array([1666.64673086,  964.84750317])"
      ]
     },
     "execution_count": 63,
     "metadata": {},
     "output_type": "execute_result"
    }
   ],
   "source": [
    "valores_singulares2"
   ]
  },
  {
   "cell_type": "code",
   "execution_count": 64,
   "metadata": {},
   "outputs": [
    {
     "data": {
      "text/plain": [
       "array([[ 0.12360526,  0.32424786],\n",
       "       [ 0.02100815, -0.44561778],\n",
       "       [ 0.99138424,  0.        ],\n",
       "       [-0.0369452 ,  0.83434301],\n",
       "       [-0.00852871, -0.01264387]])"
      ]
     },
     "execution_count": 64,
     "metadata": {},
     "output_type": "execute_result"
    }
   ],
   "source": [
    "coeficientes2"
   ]
  },
  {
   "cell_type": "code",
   "execution_count": 89,
   "metadata": {},
   "outputs": [
    {
     "data": {
      "text/plain": [
       "array([[-0.01442399, -0.00843885],\n",
       "       [ 0.00552084, -0.00231051],\n",
       "       [-0.00063262,  0.00778347],\n",
       "       ...,\n",
       "       [-0.00267452, -0.0015174 ],\n",
       "       [ 0.01033461, -0.00687196],\n",
       "       [ 0.0073078 , -0.00045593]])"
      ]
     },
     "execution_count": 89,
     "metadata": {},
     "output_type": "execute_result"
    }
   ],
   "source": [
    "Z2"
   ]
  },
  {
   "cell_type": "code",
   "execution_count": 19,
   "metadata": {},
   "outputs": [
    {
     "data": {
      "text/plain": [
       "array([0.59370287, 0.19585792])"
      ]
     },
     "execution_count": 19,
     "metadata": {},
     "output_type": "execute_result"
    }
   ],
   "source": [
    "varianza_explicada2"
   ]
  },
  {
   "cell_type": "markdown",
   "metadata": {},
   "source": [
    "Con lo anterior vemos que los valores singulares y la varianza explicada son muy similares entre lo obtenido con la función de numpy y el algoritmo de Jacobi, no obstante, el en el resultado de la SVD U*S*Vh, la Vh no es muy similar a la de numpy y por ello los coeficientes de los componentes y los componentes no son similares."
   ]
  },
  {
   "cell_type": "markdown",
   "metadata": {},
   "source": [
    "## Hacer PCA usando sklearn "
   ]
  },
  {
   "cell_type": "code",
   "execution_count": 65,
   "metadata": {},
   "outputs": [],
   "source": [
    "# Importar librerías\n",
    "from sklearn.decomposition import PCA"
   ]
  },
  {
   "cell_type": "code",
   "execution_count": 66,
   "metadata": {},
   "outputs": [
    {
     "data": {
      "text/plain": [
       "PCA(copy=True, iterated_power='auto', n_components=2, random_state=None,\n",
       "    svd_solver='full', tol=0.0, whiten=False)"
      ]
     },
     "execution_count": 66,
     "metadata": {},
     "output_type": "execute_result"
    }
   ],
   "source": [
    "# Función que hace PCA\n",
    "pca = PCA(n_components=2,svd_solver='full')\n",
    "pca.fit(seccion_3)"
   ]
  },
  {
   "cell_type": "code",
   "execution_count": 67,
   "metadata": {},
   "outputs": [
    {
     "data": {
      "text/plain": [
       "array([1676.16876321,  962.93809139])"
      ]
     },
     "execution_count": 67,
     "metadata": {},
     "output_type": "execute_result"
    }
   ],
   "source": [
    "# Valores singulares\n",
    "pca.singular_values_"
   ]
  },
  {
   "cell_type": "code",
   "execution_count": 68,
   "metadata": {},
   "outputs": [
    {
     "name": "stdout",
     "output_type": "stream",
     "text": [
      "[[ 0.07886797 -0.21288715]\n",
      " [ 0.26246035  0.50632358]\n",
      " [ 0.42552634  0.68714901]\n",
      " [ 0.60025777 -0.29921326]\n",
      " [ 0.61928374 -0.36961216]]\n"
     ]
    }
   ],
   "source": [
    "# coeficientes de los componentes\n",
    "print(pca.components_.T)"
   ]
  },
  {
   "cell_type": "code",
   "execution_count": 69,
   "metadata": {},
   "outputs": [
    {
     "data": {
      "text/plain": [
       "array([[-4.11825924,  0.79580987],\n",
       "       [ 1.69335835,  0.38089233],\n",
       "       [ 0.12362758, -0.94929168],\n",
       "       ...,\n",
       "       [ 2.22491318, -1.48140569],\n",
       "       [-2.12169804, -0.66840201],\n",
       "       [-0.38076673, -1.42355355]])"
      ]
     },
     "execution_count": 69,
     "metadata": {},
     "output_type": "execute_result"
    }
   ],
   "source": [
    "# Datos transformados (componentes principales)\n",
    "tabla_z = pca.transform(seccion_3)\n",
    "tabla_z"
   ]
  },
  {
   "cell_type": "code",
   "execution_count": 70,
   "metadata": {},
   "outputs": [
    {
     "name": "stdout",
     "output_type": "stream",
     "text": [
      "[0.57651235 0.1902698 ]\n"
     ]
    }
   ],
   "source": [
    "# Varianza explicada\n",
    "print(pca.explained_variance_ratio_)"
   ]
  },
  {
   "cell_type": "markdown",
   "metadata": {},
   "source": [
    "Como podrán notar, se obtienen los mismos valores que a partir de la primera función que calcula PCA a través de la SDV"
   ]
  },
  {
   "cell_type": "code",
   "execution_count": null,
   "metadata": {},
   "outputs": [],
   "source": []
  },
  {
   "cell_type": "code",
   "execution_count": null,
   "metadata": {},
   "outputs": [],
   "source": []
  }
 ],
 "metadata": {
  "kernelspec": {
   "display_name": "Python 3",
   "language": "python",
   "name": "python3"
  },
  "language_info": {
   "codemirror_mode": {
    "name": "ipython",
    "version": 3
   },
   "file_extension": ".py",
   "mimetype": "text/x-python",
   "name": "python",
   "nbconvert_exporter": "python",
   "pygments_lexer": "ipython3",
   "version": "3.8.2"
  }
 },
 "nbformat": 4,
 "nbformat_minor": 4
}
