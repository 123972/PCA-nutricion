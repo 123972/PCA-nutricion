{
 "cells": [
  {
   "cell_type": "code",
   "execution_count": 1,
   "metadata": {},
   "outputs": [
    {
     "name": "stderr",
     "output_type": "stream",
     "text": [
      "C:\\Users\\Elizabeth\\Anaconda3\\lib\\site-packages\\sklearn\\externals\\six.py:31: DeprecationWarning: The module is deprecated in version 0.21 and will be removed in version 0.23 since we've dropped support for Python 2.7. Please rely on the official version of six (https://pypi.org/project/six/).\n",
      "  \"(https://pypi.org/project/six/).\", DeprecationWarning)\n",
      "C:\\Users\\Elizabeth\\Anaconda3\\lib\\site-packages\\sklearn\\externals\\joblib\\__init__.py:15: DeprecationWarning: sklearn.externals.joblib is deprecated in 0.21 and will be removed in 0.23. Please import this functionality directly from joblib, which can be installed with: pip install joblib. If this warning is raised when loading pickled models, you may need to re-serialize those models with scikit-learn 0.21+.\n",
      "  warnings.warn(msg, category=DeprecationWarning)\n",
      "C:\\Users\\Elizabeth\\Anaconda3\\lib\\site-packages\\statsmodels\\tools\\_testing.py:19: FutureWarning: pandas.util.testing is deprecated. Use the functions in the public API at pandas.testing instead.\n",
      "  import pandas.util.testing as tm\n"
     ]
    }
   ],
   "source": [
    "import sklearn as sk\n",
    "from sklearn import preprocessing\n",
    "import math\n",
    "from sklearn.decomposition import PCA\n",
    "from sklearn.preprocessing import StandardScaler\n",
    "import pandas as pd\n",
    "import numpy as np\n",
    "import mglearn\n",
    "import os\n",
    "import inspect\n",
    "import sys\n",
    "\n",
    "# Importamos las funciones componentes_principales y PCA_from_SVD de los archivos pca.py y PCA_from_SVD.py respectivamente\n",
    "import pca as PCA"
   ]
  },
  {
   "cell_type": "markdown",
   "metadata": {},
   "source": [
    "#### Objetivo:\n",
    "\n",
    "El objetivo de este notebook es comparar PCA de scikit-learn con la implementación del algoritmo PCA usando la función de numpy."
   ]
  },
  {
   "cell_type": "code",
   "execution_count": 2,
   "metadata": {},
   "outputs": [],
   "source": [
    "df = pd.read_csv('datos_limpios.csv', encoding = \"L1\")"
   ]
  },
  {
   "cell_type": "markdown",
   "metadata": {},
   "source": [
    "- Tomamos de ejemplo la sección 3 de la encuesta."
   ]
  },
  {
   "cell_type": "code",
   "execution_count": 3,
   "metadata": {},
   "outputs": [],
   "source": [
    "np.random.seed(150) ###Se define la semilla para la reproducibilidad de los resultados\n",
    "\n",
    "seccion_3 = df.loc[:, ['p10', 'p11', 'p12', 'p13', 'p14']] ###Se seleccionan las preguntas que conforman esta sección"
   ]
  },
  {
   "cell_type": "code",
   "execution_count": 4,
   "metadata": {},
   "outputs": [],
   "source": [
    "####Se escalan los datos.\n",
    "scaler = preprocessing.StandardScaler()\n",
    "\n",
    "seccion_3 = scaler.fit_transform(seccion_3)"
   ]
  },
  {
   "cell_type": "markdown",
   "metadata": {},
   "source": [
    "Se obtienen los atributos que conforman la función componentes_principales del archivo pca.py"
   ]
  },
  {
   "cell_type": "code",
   "execution_count": 5,
   "metadata": {},
   "outputs": [],
   "source": [
    "pca, var_exp, componentesprincipales, val_sing, pca.components_ = PCA.componentes_principales(seccion_3,2)"
   ]
  },
  {
   "cell_type": "code",
   "execution_count": 6,
   "metadata": {},
   "outputs": [],
   "source": [
    "componentes = pd.DataFrame(pca.components_.T, index=['p10', 'p11', \n",
    "                                                         'p12', 'p13',\n",
    "                                                         'p14', \n",
    "                                                         ])"
   ]
  },
  {
   "cell_type": "code",
   "execution_count": 7,
   "metadata": {},
   "outputs": [
    {
     "data": {
      "text/html": [
       "<div>\n",
       "<style scoped>\n",
       "    .dataframe tbody tr th:only-of-type {\n",
       "        vertical-align: middle;\n",
       "    }\n",
       "\n",
       "    .dataframe tbody tr th {\n",
       "        vertical-align: top;\n",
       "    }\n",
       "\n",
       "    .dataframe thead th {\n",
       "        text-align: right;\n",
       "    }\n",
       "</style>\n",
       "<table border=\"1\" class=\"dataframe\">\n",
       "  <thead>\n",
       "    <tr style=\"text-align: right;\">\n",
       "      <th></th>\n",
       "      <th>principal_component_1</th>\n",
       "      <th>principal_component_2</th>\n",
       "    </tr>\n",
       "  </thead>\n",
       "  <tbody>\n",
       "    <tr>\n",
       "      <th>p10</th>\n",
       "      <td>0.118769</td>\n",
       "      <td>-0.745795</td>\n",
       "    </tr>\n",
       "    <tr>\n",
       "      <th>p11</th>\n",
       "      <td>0.433563</td>\n",
       "      <td>0.450160</td>\n",
       "    </tr>\n",
       "    <tr>\n",
       "      <th>p12</th>\n",
       "      <td>0.487973</td>\n",
       "      <td>0.328743</td>\n",
       "    </tr>\n",
       "    <tr>\n",
       "      <th>p13</th>\n",
       "      <td>0.530490</td>\n",
       "      <td>-0.199727</td>\n",
       "    </tr>\n",
       "    <tr>\n",
       "      <th>p14</th>\n",
       "      <td>0.527617</td>\n",
       "      <td>-0.305260</td>\n",
       "    </tr>\n",
       "  </tbody>\n",
       "</table>\n",
       "</div>"
      ],
      "text/plain": [
       "     principal_component_1  principal_component_2\n",
       "p10               0.118769              -0.745795\n",
       "p11               0.433563               0.450160\n",
       "p12               0.487973               0.328743\n",
       "p13               0.530490              -0.199727\n",
       "p14               0.527617              -0.305260"
      ]
     },
     "execution_count": 7,
     "metadata": {},
     "output_type": "execute_result"
    }
   ],
   "source": [
    "####Se eligieron dos componentes principales, por lo que a continuación se muestran los dos componentes principales por cada pregunta\n",
    "componentes = componentes.rename(columns={'index': 'preguntas', 0:'principal_component_1', 1:'principal_component_2'})\n",
    "componentes"
   ]
  },
  {
   "cell_type": "markdown",
   "metadata": {},
   "source": [
    "Ahora se obtienen los PCA a través de la función de numpy."
   ]
  },
  {
   "cell_type": "code",
   "execution_count": 8,
   "metadata": {},
   "outputs": [],
   "source": [
    "def PCA_from_SVD(A,num_componentes):\n",
    "    \"\"\"\n",
    "    Función para PCA a partir de la SVD \n",
    "    params: A\t\t\tmatriz de datos\n",
    "            num_componentes \tnúmero de componentes deseados\n",
    "\n",
    "    return: valores_singulares\tLos valores singulares de la descomposición SVD\n",
    "\t    componentes\t\tLos coeficientes para calcular los componentes principales\n",
    "\t    Z\t\t\tLos datos transformados (componentes principales)\n",
    "\t    varianza_explicada\tLa varianza explicada por cada componente principal\n",
    "    \"\"\"\n",
    "    \n",
    "    # Centrar los datos\n",
    "    A = np.array(A) # convertir los datos a un numpy array por si vienen de un DataFrame\n",
    "    A_centered = A - A.mean(axis=0)\n",
    "    \n",
    "    # Modificar esta línea de código, mandar a llamar la función creada por el equipo \n",
    "    # Calcular SVD\n",
    "    U, S, Vt = np.linalg.svd(A_centered, full_matrices=False)\n",
    "    \n",
    "    # Los valores singulares\n",
    "    valores_singulares = S\n",
    "    \n",
    "    # Los componentes (coeficientes)\n",
    "    componentes = (np.transpose(Vt))*-1\n",
    "    \n",
    "    # Los datos transformados (componentes principales)\n",
    "    Z = A_centered@np.transpose(Vt)\n",
    "    \n",
    "    # La varianza explicada\n",
    "    varianza_explicada = S**2/np.sum(S**2)\n",
    "    \n",
    "    # regresar 4 objetos\n",
    "    return valores_singulares, componentes, Z, varianza_explicada"
   ]
  },
  {
   "cell_type": "code",
   "execution_count": 9,
   "metadata": {},
   "outputs": [],
   "source": [
    "a, b, c, d = PCA_from_SVD(seccion_3, 2)"
   ]
  },
  {
   "cell_type": "code",
   "execution_count": 10,
   "metadata": {},
   "outputs": [
    {
     "data": {
      "text/plain": [
       "array([1180.28600498,  782.39469765,  687.87498475,  460.71770769,\n",
       "        335.38139886])"
      ]
     },
     "execution_count": 10,
     "metadata": {},
     "output_type": "execute_result"
    }
   ],
   "source": [
    "a #Valores singulares"
   ]
  },
  {
   "cell_type": "code",
   "execution_count": 11,
   "metadata": {},
   "outputs": [
    {
     "data": {
      "text/plain": [
       "array([[-0.11876861,  0.74579472,  0.64932849, -0.02964681,  0.0847221 ],\n",
       "       [-0.43356271, -0.45015978,  0.42239702, -0.64736557, -0.10898683],\n",
       "       [-0.48797319, -0.3287432 ,  0.30924228,  0.74054683,  0.09884167],\n",
       "       [-0.53049047,  0.199727  , -0.42373343, -0.17529963,  0.68440413],\n",
       "       [-0.52761674,  0.30525963, -0.35323146,  0.02998856, -0.70905948]])"
      ]
     },
     "execution_count": 11,
     "metadata": {},
     "output_type": "execute_result"
    }
   ],
   "source": [
    "b #componentes"
   ]
  },
  {
   "cell_type": "markdown",
   "metadata": {},
   "source": [
    "#### - Como se observa, no está jalando el número de componentes (Verificar error), además existen diferencias en signos."
   ]
  },
  {
   "cell_type": "code",
   "execution_count": 12,
   "metadata": {},
   "outputs": [
    {
     "data": {
      "text/plain": [
       "array([[-2.75115163,  1.03803342, -0.15003743, -0.01767848, -0.1078279 ],\n",
       "       [ 1.43930486, -0.27433591, -0.89006506,  0.45335387,  0.26196126],\n",
       "       [-0.07564678, -1.16356118, -0.09850698, -0.20727612, -0.331933  ],\n",
       "       ...,\n",
       "       [ 1.37202071, -1.2693296 ,  0.24514754,  0.48046687,  0.235377  ],\n",
       "       [-1.48150682, -0.93830593, -0.66795635,  0.11779224,  0.19249596],\n",
       "       [-0.54628676, -0.67975472,  0.75647822,  0.30341386, -0.17776921]])"
      ]
     },
     "execution_count": 12,
     "metadata": {},
     "output_type": "execute_result"
    }
   ],
   "source": [
    "c "
   ]
  },
  {
   "cell_type": "code",
   "execution_count": 13,
   "metadata": {},
   "outputs": [
    {
     "data": {
      "text/plain": [
       "array([0.49697126, 0.21837784, 0.1688013 , 0.07572278, 0.04012682])"
      ]
     },
     "execution_count": 13,
     "metadata": {},
     "output_type": "execute_result"
    }
   ],
   "source": [
    "d"
   ]
  }
 ],
 "metadata": {
  "kernelspec": {
   "display_name": "Python 3",
   "language": "python",
   "name": "python3"
  },
  "language_info": {
   "codemirror_mode": {
    "name": "ipython",
    "version": 3
   },
   "file_extension": ".py",
   "mimetype": "text/x-python",
   "name": "python",
   "nbconvert_exporter": "python",
   "pygments_lexer": "ipython3",
   "version": "3.7.4"
  }
 },
 "nbformat": 4,
 "nbformat_minor": 4
}
