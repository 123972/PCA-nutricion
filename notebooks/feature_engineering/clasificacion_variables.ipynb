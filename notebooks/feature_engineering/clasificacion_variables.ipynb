{
 "cells": [
  {
   "cell_type": "markdown",
   "metadata": {
    "colab_type": "text",
    "id": "HkYB5HPrU-ak"
   },
   "source": [
    "# Feature Engineering\n",
    "\n",
    "Angel Rafael Ortega Ramírez \t123972\n",
    "\n",
    "Elizabeth Rodriguez \t191430\n",
    "\n",
    "Karla Alfaro Pizaña \t137314\n",
    "\n",
    "Leonardo Marín \t175903\n",
    "\n",
    "Mario Rodríguez \t164471\n",
    "\n",
    "Elizabeth Viveros \t161224"
   ]
  },
  {
   "cell_type": "code",
   "execution_count": null,
   "metadata": {
    "colab": {},
    "colab_type": "code",
    "id": "b83oyFMDUBZA"
   },
   "outputs": [],
   "source": [
    "#Se importan librerías esenciales\n",
    "import os\n",
    "import numpy as np\n",
    "import pandas as pd\n",
    "import matplotlib.pyplot as plt\n",
    "import seaborn as sns\n",
    "from IPython.display import display"
   ]
  },
  {
   "cell_type": "code",
   "execution_count": 32,
   "metadata": {
    "colab": {
     "base_uri": "https://localhost:8080/",
     "height": 35
    },
    "colab_type": "code",
    "id": "_dSHcD3eUBZL",
    "outputId": "81d6a55c-ad19-4d91-d278-7b2db5555c5b"
   },
   "outputs": [
    {
     "name": "stdout",
     "output_type": "stream",
     "text": [
      "Drive already mounted at /content/gdrive; to attempt to forcibly remount, call drive.mount(\"/content/gdrive\", force_remount=True).\n"
     ]
    }
   ],
   "source": [
    "#Montamos nuestro Google Drive con el set de datos\n",
    "from google.colab import drive\n",
    "drive.mount('/content/gdrive') #Se da click en el URL que aparece y se ingresa la clave de autorización"
   ]
  },
  {
   "cell_type": "code",
   "execution_count": 33,
   "metadata": {
    "colab": {
     "base_uri": "https://localhost:8080/",
     "height": 35
    },
    "colab_type": "code",
    "id": "wLj9151DV-Gs",
    "outputId": "6a1322c6-2950-4a8c-c704-41dd4c97cd09"
   },
   "outputs": [
    {
     "name": "stdout",
     "output_type": "stream",
     "text": [
      "Directorio del Proyecto Final /content/gdrive/My Drive/Proyecto_Final_MNO\n"
     ]
    }
   ],
   "source": [
    "os.chdir('/content/gdrive/My Drive/Proyecto_Final_MNO')\n",
    "print(\"Directorio del Proyecto Final\" , os.getcwd())"
   ]
  },
  {
   "cell_type": "markdown",
   "metadata": {
    "colab_type": "text",
    "id": "B5UeC89UUBZY"
   },
   "source": [
    "### **1) Importación de Datos**"
   ]
  },
  {
   "cell_type": "code",
   "execution_count": null,
   "metadata": {
    "colab": {},
    "colab_type": "code",
    "id": "A_u-yBXeUBZZ"
   },
   "outputs": [],
   "source": [
    "#Carga de los datasets, directo del drive. Conforme al análisis exploratorio se cambia el valor > a nulo.\n",
    "cuest = pd.read_csv('cuestionario_2016_raw.csv', encoding='UTF-8', na_values=['>'])\n",
    "alumn = pd.read_csv('planea_alumnos_2016.csv', encoding='UTF-8')"
   ]
  },
  {
   "cell_type": "markdown",
   "metadata": {
    "colab_type": "text",
    "id": "cIR8lQiMXJby"
   },
   "source": [
    "**Conforme al análisis exploratorio se cambia el tipo de dato y se corrige el nombre de las columnas nofolio.**"
   ]
  },
  {
   "cell_type": "code",
   "execution_count": null,
   "metadata": {
    "colab": {},
    "colab_type": "code",
    "id": "RY-jZmOoXGA0"
   },
   "outputs": [],
   "source": [
    "cuest=cuest.astype({\"nofolio\":'category'}) \n",
    "alumn.rename(columns={'ïnofolio': 'nofolio'}, inplace=True)\n",
    "alumn=alumn.astype({\"nofolio\":'category'}) "
   ]
  },
  {
   "cell_type": "markdown",
   "metadata": {
    "colab_type": "text",
    "id": "KIHQ0JKpUBZi"
   },
   "source": [
    "**La carga y tipos de datos son correctos y los valores nulos se representan de forma correcta. Este resultado lo omitiremos del github por el tamaño del mismo**"
   ]
  },
  {
   "cell_type": "code",
   "execution_count": null,
   "metadata": {
    "colab": {},
    "colab_type": "code",
    "id": "6gIBzfNkUBZk"
   },
   "outputs": [],
   "source": [
    "for col in list(cuest):\n",
    "    print(col)\n",
    "    print(cuest[col].unique())"
   ]
  },
  {
   "cell_type": "code",
   "execution_count": 37,
   "metadata": {
    "colab": {
     "base_uri": "https://localhost:8080/",
     "height": 366
    },
    "colab_type": "code",
    "id": "AjzwqM7qUBZs",
    "outputId": "bc37a60a-9682-437b-fb2b-692d51d242a8"
   },
   "outputs": [
    {
     "name": "stdout",
     "output_type": "stream",
     "text": [
      "<class 'pandas.core.frame.DataFrame'>\n",
      "RangeIndex: 579923 entries, 0 to 579922\n",
      "Data columns (total 12 columns):\n",
      " #   Column     Non-Null Count   Dtype   \n",
      "---  ------     --------------   -----   \n",
      " 0   nofolio    579923 non-null  category\n",
      " 1   genero     579923 non-null  object  \n",
      " 2   ent        579923 non-null  int64   \n",
      " 3   nom_ent    579923 non-null  object  \n",
      " 4   cct        579923 non-null  object  \n",
      " 5   modalidad  579923 non-null  object  \n",
      " 6   sost       579923 non-null  object  \n",
      " 7   subsist    579923 non-null  object  \n",
      " 8   hlec       579923 non-null  float64 \n",
      " 9   nvl_esp    579923 non-null  object  \n",
      " 10  hmat       579923 non-null  float64 \n",
      " 11  nvl_mat    579923 non-null  object  \n",
      "dtypes: category(1), float64(2), int64(1), object(8)\n",
      "memory usage: 75.3+ MB\n"
     ]
    }
   ],
   "source": [
    "alumn.info()"
   ]
  },
  {
   "cell_type": "markdown",
   "metadata": {
    "colab_type": "text",
    "id": "9vHiWATSaZRV"
   },
   "source": [
    "**Conforme al análisis exploratorio se implementa método para limpieza de acentos, caracteres especiales y símbolos ambigüos. Adicionalmente, se transforman en minúsculas y se omiten espacios en blanco.**"
   ]
  },
  {
   "cell_type": "code",
   "execution_count": null,
   "metadata": {
    "colab": {},
    "colab_type": "code",
    "id": "_KEvOayiUBax"
   },
   "outputs": [],
   "source": [
    "def clean_string(astr):\n",
    "    return astr.lower().replace('.', '') \\\n",
    "        .replace(',', '') \\\n",
    "        .replace(';', '') \\\n",
    "        .replace(':', '') \\\n",
    "        .replace('á', 'a') \\\n",
    "        .replace('é', 'e') \\\n",
    "        .replace('í', 'i') \\\n",
    "        .replace('ó', 'o') \\\n",
    "        .replace('ú', 'u') \\\n",
    "        .replace(' ', '_') \\\n",
    "        .replace('ñ', 'ni') \\\n",
    "        .replace('ï','')\n",
    "\n",
    "def clean_columns(df):\n",
    "    for series in df:\n",
    "        df.rename(columns={series:clean_string(series)}, inplace=True)"
   ]
  },
  {
   "cell_type": "code",
   "execution_count": null,
   "metadata": {
    "colab": {},
    "colab_type": "code",
    "id": "Zl8Chl_yUBa3"
   },
   "outputs": [],
   "source": [
    "def clean_columns_content(df):  \n",
    "    for col in df.select_dtypes('object'):\n",
    "        df[col] = df[col].str.strip()\n",
    "        df[col] = df[col].str.lower()\n",
    "        df[col] = df[col].str.replace('á', 'a')\n",
    "        df[col] = df[col].str.replace('é', 'e')\n",
    "        df[col] = df[col].str.replace('í', 'i')\n",
    "        df[col] = df[col].str.replace('ó', 'o')\n",
    "        df[col] = df[col].str.replace('ú', 'u')\n",
    "        df[col] = df[col].str.replace(' ', '_')\n",
    "        df[col] = df[col].str.replace('mï¿½xico', 'mexico')\n",
    "        df[col] = df[col].str.replace('michoacï¿½n', 'michoacan')\n",
    "        df[col] = df[col].str.replace('nuevo_leï¿½n', 'michoacan')\n",
    "        df[col] = df[col].str.replace('querï¿½taro', 'queretaro')\n",
    "        df[col] = df[col].str.replace('san_luis_potosï¿½', 'san_luis_potosi')\n",
    "        df[col] = df[col].str.replace('yucatï¿½n', 'yucatan')\n",
    "        df[col] = df[col].str.replace('autï¿½nomas', 'autonomas')\n",
    "        df[col] = df[col].str.replace('asociaciï¿½n_civil', 'asociacion_civil')\n",
    "        df[col] = df[col].str.replace('bachillerato_autï¿½nomo', 'bachillerato_autonomo')\n",
    "\n",
    "    return df"
   ]
  },
  {
   "cell_type": "markdown",
   "metadata": {
    "colab_type": "text",
    "id": "0GwkptLwhpG0"
   },
   "source": [
    "**La validación muestra que la limpieza de caracteres fue exitosa**"
   ]
  },
  {
   "cell_type": "code",
   "execution_count": 40,
   "metadata": {
    "colab": {
     "base_uri": "https://localhost:8080/",
     "height": 1000
    },
    "colab_type": "code",
    "id": "irXZ3q-GUBa8",
    "outputId": "85eeef67-592f-42a6-bd21-a6f216543c1d"
   },
   "outputs": [
    {
     "name": "stdout",
     "output_type": "stream",
     "text": [
      "nofolio\n",
      "['010000001B16' '010000002B16' '010000003B16' ... '320010077B16'\n",
      " '320010078B16' '320010079B16']\n",
      "genero\n",
      "['h' 'm']\n",
      "ent\n",
      "[ 1  2  3  4  5  6  7  8  9 10 11 12 13 14 15 16 17 18 19 20 21 22 23 24\n",
      " 25 26 27 28 29 30 31 32]\n",
      "nom_ent\n",
      "['aguascalientes' 'baja_california' 'baja_california_sur' 'campeche'\n",
      " 'chiapas' 'chihuahua' 'coahuila' 'colima' 'distrito_federal' 'durango'\n",
      " 'estado_de_mexico' 'guanajuato' 'guerrero' 'hidalgo' 'jalisco'\n",
      " 'michoacan' 'morelos' 'nayarit' 'oaxaca' 'puebla' 'queretaro'\n",
      " 'quintana_roo' 'san_luis_potosi' 'sinaloa' 'sonora' 'tabasco'\n",
      " 'tamaulipas' 'tlaxcala' 'veracruz' 'yucatan' 'zacatecas']\n",
      "cct\n",
      "['01dbh0004i' '01dbh0005h' '01dbp0001u' ... '32ubh0011b' '32ubh0012a'\n",
      " '32ubh0013z']\n",
      "modalidad\n",
      "['bachillerato_general' 'bachillerato_tecnologico' 'tecnico_profesional']\n",
      "sost\n",
      "['autonomas' 'estatal' 'federal' 'particulares']\n",
      "subsist\n",
      "['asociacion_civil' 'bach_estatal_dge-cge' 'bachillerato_autonomo'\n",
      " 'bachillerato_intercultural' 'cecyte' 'ceti' 'cobach' 'colbach' 'conalep'\n",
      " 'dgb' 'dgecytm' 'dgeta' 'dgeti' 'emsad' 'ipn' 'otras_estatales'\n",
      " 'otras_federales' 'particulares' 'telebachilleratos'\n",
      " 'telebachilleratos_comunitarios']\n",
      "hlec\n",
      "[-4.78973 -4.68973 -4.52465 -4.45586 -4.03514 -3.91    -3.78653 -3.53943\n",
      " -3.48781 -3.33415 -3.24447 -3.05269 -2.82099 -2.73525 -2.63523 -2.60877\n",
      " -2.59622 -2.47943 -2.31329 -2.28355 -2.27293 -2.14642 -2.04839 -2.02331\n",
      " -2.00555 -1.92927 -1.81391 -1.80403 -1.78127 -1.65082 -1.65027 -1.61287\n",
      " -1.56148 -1.54509 -1.52117 -1.44214 -1.41175 -1.36092 -1.316   -1.28683\n",
      " -1.21741 -1.20065 -1.18882 -1.1435  -1.11379 -1.11141 -1.01084 -1.0097\n",
      " -1.00912 -0.93074 -0.88903 -0.88357 -0.87608 -0.83198 -0.76778 -0.76369\n",
      " -0.7618  -0.68572 -0.6656  -0.64893 -0.61035 -0.60346 -0.59848 -0.53839\n",
      " -0.50732 -0.49613 -0.45313 -0.43131 -0.37437 -0.35507 -0.34216 -0.32705\n",
      " -0.31647 -0.30885 -0.2645  -0.22506 -0.20718 -0.16904 -0.14384 -0.12484\n",
      " -0.09807 -0.06224 -0.03236 -0.02597 -0.00855  0.02404  0.05293  0.07197\n",
      "  0.08101  0.10233  0.14053  0.16935  0.18914  0.22371  0.23608  0.26655\n",
      "  0.34835  0.35321  0.35796  0.36393  0.36699  0.36988  0.37945  0.46184\n",
      "  0.50475  0.51201  0.51797  0.56069  0.6245   0.64171  0.66     0.66085\n",
      "  0.66304  0.68515  0.7123   0.76278  0.78193  0.81236  0.85669  0.86694\n",
      "  0.88242  0.92671  0.97073  0.97389  0.98062  1.03484  1.07762  1.08425\n",
      "  1.10165  1.13715  1.16219  1.19876  1.2224   1.23664  1.31423  1.31832\n",
      "  1.3267   1.40631  1.42307  1.44403  1.47761  1.50554  1.54431  1.5773\n",
      "  1.59014  1.64209  1.71617  1.71993  1.72742  1.79315  1.8534   1.87438\n",
      "  1.88732  1.95391  2.02304  2.04404  2.0971   2.17177  2.23166  2.23385\n",
      "  2.23792  2.29262  2.34373  2.45146  2.51957  2.57347  2.62582  2.70966\n",
      "  2.93413  2.9846   3.03005  3.03237  3.03314  3.11988  3.47325  3.7384\n",
      "  3.78213  4.19884  4.20348  4.25806  4.33885  4.98331  5.39042]\n",
      "nvl_esp\n",
      "['i' 'ii' 'iii' 'iv']\n",
      "hmat\n",
      "[-5.62843 -5.52843 -5.03904 -4.53692 -4.33125 -3.80233 -3.58784 -3.33747\n",
      " -3.13785 -3.00983 -2.80911 -2.58683 -2.54727 -2.51712 -2.3279  -2.1493\n",
      " -2.13786 -2.12428 -1.96924 -1.85019 -1.8169  -1.77878 -1.67733 -1.59412\n",
      " -1.54797 -1.4966  -1.42694 -1.36708 -1.3128  -1.25369 -1.20442 -1.1605\n",
      " -1.10088 -1.03709 -1.00146 -0.96866 -0.90552 -0.83896 -0.81255 -0.78754\n",
      " -0.72212 -0.6541  -0.63382 -0.61407 -0.54732 -0.47881 -0.46231 -0.44582\n",
      " -0.37852 -0.31031 -0.2957  -0.28074 -0.21359 -0.14636 -0.13198 -0.11697\n",
      " -0.05065  0.01495  0.03063  0.04725  0.11206  0.17535  0.19386  0.21374\n",
      "  0.27625  0.33652  0.35948  0.38447  0.44378  0.5002   0.52943  0.56173\n",
      "  0.61672  0.6683   0.70599  0.74837  0.7976   0.84307  0.89198  0.94814\n",
      "  0.98963  1.02731  1.09113  1.16628  1.19719  1.22473  1.30867  1.41072\n",
      "  1.42666  1.44056  1.55252  1.68268  1.68805  1.69446  1.83567  1.96408\n",
      "  1.99878  2.04169  2.18231  2.30888  2.39389  2.50634  2.64631  2.77086\n",
      "  2.96352  3.2601   3.39923  4.12478  4.46448  5.30846]\n",
      "nvl_mat\n",
      "['i' 'ii' 'iii' 'iv']\n"
     ]
    }
   ],
   "source": [
    "clean_columns_content(alumn)\n",
    "for col in list(alumn):\n",
    "    print(col)\n",
    "    print(np.sort(alumn[col].unique()))"
   ]
  },
  {
   "cell_type": "markdown",
   "metadata": {
    "colab_type": "text",
    "id": "x6ir1v1gUBa_"
   },
   "source": [
    "### **2) Merge o unión de los dos datasets para incorporar los métodos del proyecto**"
   ]
  },
  {
   "cell_type": "markdown",
   "metadata": {
    "colab_type": "text",
    "id": "_Tsr6dlBUBbB"
   },
   "source": [
    "Por el tamaño de ambos arreglos, podemos observar que no es la misma cantidad de folios en alumnos que en cuestionario, por lo que se van a mantener solamente los alumnos que tienen el cuestionario a través de un inner join. Dicho lo anterior, eliminaremos la siguiente cantidad de observaciones:\n",
    "\n",
    "$$579,923 - 560,626 = 19,297$$"
   ]
  },
  {
   "cell_type": "code",
   "execution_count": 41,
   "metadata": {
    "colab": {
     "base_uri": "https://localhost:8080/",
     "height": 35
    },
    "colab_type": "code",
    "id": "4Zbv9353UBbC",
    "outputId": "b0b20ac7-337e-4079-9861-588168b8a6b3"
   },
   "outputs": [
    {
     "data": {
      "text/plain": [
       "19297"
      ]
     },
     "execution_count": 41,
     "metadata": {
      "tags": []
     },
     "output_type": "execute_result"
    }
   ],
   "source": [
    "len(alumn['nofolio'])-len(cuest['nofolio'])"
   ]
  },
  {
   "cell_type": "code",
   "execution_count": 43,
   "metadata": {
    "colab": {
     "base_uri": "https://localhost:8080/",
     "height": 256
    },
    "colab_type": "code",
    "id": "MWHIVIH4UBbK",
    "outputId": "acd09203-15ae-4c5d-b434-ab9b959008ee"
   },
   "outputs": [
    {
     "data": {
      "text/html": [
       "<div>\n",
       "<style scoped>\n",
       "    .dataframe tbody tr th:only-of-type {\n",
       "        vertical-align: middle;\n",
       "    }\n",
       "\n",
       "    .dataframe tbody tr th {\n",
       "        vertical-align: top;\n",
       "    }\n",
       "\n",
       "    .dataframe thead th {\n",
       "        text-align: right;\n",
       "    }\n",
       "</style>\n",
       "<table border=\"1\" class=\"dataframe\">\n",
       "  <thead>\n",
       "    <tr style=\"text-align: right;\">\n",
       "      <th></th>\n",
       "      <th>nofolio</th>\n",
       "      <th>genero</th>\n",
       "      <th>ent</th>\n",
       "      <th>nom_ent</th>\n",
       "      <th>cct</th>\n",
       "      <th>modalidad</th>\n",
       "      <th>sost</th>\n",
       "      <th>subsist</th>\n",
       "      <th>hlec</th>\n",
       "      <th>nvl_esp</th>\n",
       "      <th>hmat</th>\n",
       "      <th>nvl_mat</th>\n",
       "      <th>p1</th>\n",
       "      <th>p2</th>\n",
       "      <th>p3</th>\n",
       "      <th>p4</th>\n",
       "      <th>p5</th>\n",
       "      <th>p6</th>\n",
       "      <th>p7</th>\n",
       "      <th>p8</th>\n",
       "      <th>p9</th>\n",
       "      <th>p10</th>\n",
       "      <th>p11</th>\n",
       "      <th>p12</th>\n",
       "      <th>p13</th>\n",
       "      <th>p14</th>\n",
       "      <th>p15</th>\n",
       "      <th>p16</th>\n",
       "      <th>p17</th>\n",
       "      <th>p18</th>\n",
       "      <th>p19</th>\n",
       "      <th>p20</th>\n",
       "      <th>p21</th>\n",
       "      <th>p22</th>\n",
       "      <th>p23</th>\n",
       "      <th>p24</th>\n",
       "      <th>p25</th>\n",
       "      <th>p26</th>\n",
       "      <th>p27</th>\n",
       "      <th>p28</th>\n",
       "      <th>...</th>\n",
       "      <th>p116</th>\n",
       "      <th>p117</th>\n",
       "      <th>p118</th>\n",
       "      <th>p119</th>\n",
       "      <th>p120</th>\n",
       "      <th>p121</th>\n",
       "      <th>p122</th>\n",
       "      <th>p123</th>\n",
       "      <th>p124</th>\n",
       "      <th>p125</th>\n",
       "      <th>p126</th>\n",
       "      <th>p127</th>\n",
       "      <th>p128</th>\n",
       "      <th>p129</th>\n",
       "      <th>p130</th>\n",
       "      <th>p131</th>\n",
       "      <th>p132</th>\n",
       "      <th>p133</th>\n",
       "      <th>p134</th>\n",
       "      <th>p135</th>\n",
       "      <th>p136</th>\n",
       "      <th>p137</th>\n",
       "      <th>p138</th>\n",
       "      <th>p139</th>\n",
       "      <th>p140</th>\n",
       "      <th>p141</th>\n",
       "      <th>p142</th>\n",
       "      <th>p143</th>\n",
       "      <th>p144</th>\n",
       "      <th>p145</th>\n",
       "      <th>p146</th>\n",
       "      <th>p147</th>\n",
       "      <th>p148</th>\n",
       "      <th>p149</th>\n",
       "      <th>p150</th>\n",
       "      <th>p151</th>\n",
       "      <th>p152</th>\n",
       "      <th>p153</th>\n",
       "      <th>p154</th>\n",
       "      <th>fac</th>\n",
       "    </tr>\n",
       "  </thead>\n",
       "  <tbody>\n",
       "    <tr>\n",
       "      <th>0</th>\n",
       "      <td>010000023B16</td>\n",
       "      <td>m</td>\n",
       "      <td>1</td>\n",
       "      <td>aguascalientes</td>\n",
       "      <td>01dbh0004i</td>\n",
       "      <td>bachillerato_general</td>\n",
       "      <td>federal</td>\n",
       "      <td>dgb</td>\n",
       "      <td>-0.76369</td>\n",
       "      <td>i</td>\n",
       "      <td>-1.10088</td>\n",
       "      <td>i</td>\n",
       "      <td>B</td>\n",
       "      <td>E</td>\n",
       "      <td>A</td>\n",
       "      <td>B</td>\n",
       "      <td>B</td>\n",
       "      <td>B</td>\n",
       "      <td>A</td>\n",
       "      <td>A</td>\n",
       "      <td>A</td>\n",
       "      <td>B</td>\n",
       "      <td>A</td>\n",
       "      <td>A</td>\n",
       "      <td>B</td>\n",
       "      <td>B</td>\n",
       "      <td>B</td>\n",
       "      <td>D</td>\n",
       "      <td>A</td>\n",
       "      <td>C</td>\n",
       "      <td>C</td>\n",
       "      <td>B</td>\n",
       "      <td>C</td>\n",
       "      <td>C</td>\n",
       "      <td>A</td>\n",
       "      <td>B</td>\n",
       "      <td>A</td>\n",
       "      <td>C</td>\n",
       "      <td>C</td>\n",
       "      <td>C</td>\n",
       "      <td>...</td>\n",
       "      <td>A</td>\n",
       "      <td>A</td>\n",
       "      <td>A</td>\n",
       "      <td>C</td>\n",
       "      <td>B</td>\n",
       "      <td>A</td>\n",
       "      <td>A</td>\n",
       "      <td>A</td>\n",
       "      <td>B</td>\n",
       "      <td>B</td>\n",
       "      <td>D</td>\n",
       "      <td>C</td>\n",
       "      <td>D</td>\n",
       "      <td>C</td>\n",
       "      <td>D</td>\n",
       "      <td>D</td>\n",
       "      <td>A</td>\n",
       "      <td>A</td>\n",
       "      <td>A</td>\n",
       "      <td>D</td>\n",
       "      <td>C</td>\n",
       "      <td>D</td>\n",
       "      <td>B</td>\n",
       "      <td>C</td>\n",
       "      <td>D</td>\n",
       "      <td>A</td>\n",
       "      <td>A</td>\n",
       "      <td>D</td>\n",
       "      <td>E</td>\n",
       "      <td>B</td>\n",
       "      <td>A</td>\n",
       "      <td>A</td>\n",
       "      <td>A</td>\n",
       "      <td>A</td>\n",
       "      <td>B</td>\n",
       "      <td>C</td>\n",
       "      <td>A</td>\n",
       "      <td>C</td>\n",
       "      <td>B</td>\n",
       "      <td>1.828571</td>\n",
       "    </tr>\n",
       "    <tr>\n",
       "      <th>1</th>\n",
       "      <td>010000037B16</td>\n",
       "      <td>h</td>\n",
       "      <td>1</td>\n",
       "      <td>aguascalientes</td>\n",
       "      <td>01dbh0004i</td>\n",
       "      <td>bachillerato_general</td>\n",
       "      <td>federal</td>\n",
       "      <td>dgb</td>\n",
       "      <td>0.97389</td>\n",
       "      <td>iii</td>\n",
       "      <td>-0.37852</td>\n",
       "      <td>ii</td>\n",
       "      <td>A</td>\n",
       "      <td>C</td>\n",
       "      <td>A</td>\n",
       "      <td>B</td>\n",
       "      <td>B</td>\n",
       "      <td>B</td>\n",
       "      <td>A</td>\n",
       "      <td>A</td>\n",
       "      <td>A</td>\n",
       "      <td>D</td>\n",
       "      <td>C</td>\n",
       "      <td>C</td>\n",
       "      <td>E</td>\n",
       "      <td>F</td>\n",
       "      <td>C</td>\n",
       "      <td>E</td>\n",
       "      <td>C</td>\n",
       "      <td>C</td>\n",
       "      <td>B</td>\n",
       "      <td>B</td>\n",
       "      <td>C</td>\n",
       "      <td>C</td>\n",
       "      <td>D</td>\n",
       "      <td>C</td>\n",
       "      <td>C</td>\n",
       "      <td>D</td>\n",
       "      <td>C</td>\n",
       "      <td>C</td>\n",
       "      <td>...</td>\n",
       "      <td>A</td>\n",
       "      <td>A</td>\n",
       "      <td>B</td>\n",
       "      <td>B</td>\n",
       "      <td>B</td>\n",
       "      <td>B</td>\n",
       "      <td>B</td>\n",
       "      <td>B</td>\n",
       "      <td>A</td>\n",
       "      <td>A</td>\n",
       "      <td>A</td>\n",
       "      <td>B</td>\n",
       "      <td>C</td>\n",
       "      <td>C</td>\n",
       "      <td>C</td>\n",
       "      <td>C</td>\n",
       "      <td>A</td>\n",
       "      <td>A</td>\n",
       "      <td>B</td>\n",
       "      <td>C</td>\n",
       "      <td>B</td>\n",
       "      <td>D</td>\n",
       "      <td>G</td>\n",
       "      <td>D</td>\n",
       "      <td>D</td>\n",
       "      <td>B</td>\n",
       "      <td>B</td>\n",
       "      <td>E</td>\n",
       "      <td>G</td>\n",
       "      <td>B</td>\n",
       "      <td>A</td>\n",
       "      <td>A</td>\n",
       "      <td>A</td>\n",
       "      <td>A</td>\n",
       "      <td>A</td>\n",
       "      <td>B</td>\n",
       "      <td>B</td>\n",
       "      <td>E</td>\n",
       "      <td>C</td>\n",
       "      <td>1.828571</td>\n",
       "    </tr>\n",
       "    <tr>\n",
       "      <th>2</th>\n",
       "      <td>010000008B16</td>\n",
       "      <td>m</td>\n",
       "      <td>1</td>\n",
       "      <td>aguascalientes</td>\n",
       "      <td>01dbh0004i</td>\n",
       "      <td>bachillerato_general</td>\n",
       "      <td>federal</td>\n",
       "      <td>dgb</td>\n",
       "      <td>0.26655</td>\n",
       "      <td>ii</td>\n",
       "      <td>0.27625</td>\n",
       "      <td>ii</td>\n",
       "      <td>B</td>\n",
       "      <td>C</td>\n",
       "      <td>A</td>\n",
       "      <td>B</td>\n",
       "      <td>B</td>\n",
       "      <td>A</td>\n",
       "      <td>C</td>\n",
       "      <td>J</td>\n",
       "      <td>C</td>\n",
       "      <td>D</td>\n",
       "      <td>A</td>\n",
       "      <td>B</td>\n",
       "      <td>E</td>\n",
       "      <td>E</td>\n",
       "      <td>B</td>\n",
       "      <td>D</td>\n",
       "      <td>C</td>\n",
       "      <td>E</td>\n",
       "      <td>B</td>\n",
       "      <td>B</td>\n",
       "      <td>C</td>\n",
       "      <td>D</td>\n",
       "      <td>C</td>\n",
       "      <td>C</td>\n",
       "      <td>B</td>\n",
       "      <td>C</td>\n",
       "      <td>C</td>\n",
       "      <td>B</td>\n",
       "      <td>...</td>\n",
       "      <td>A</td>\n",
       "      <td>A</td>\n",
       "      <td>A</td>\n",
       "      <td>C</td>\n",
       "      <td>B</td>\n",
       "      <td>A</td>\n",
       "      <td>A</td>\n",
       "      <td>B</td>\n",
       "      <td>B</td>\n",
       "      <td>B</td>\n",
       "      <td>A</td>\n",
       "      <td>D</td>\n",
       "      <td>B</td>\n",
       "      <td>A</td>\n",
       "      <td>C</td>\n",
       "      <td>A</td>\n",
       "      <td>A</td>\n",
       "      <td>A</td>\n",
       "      <td>A</td>\n",
       "      <td>D</td>\n",
       "      <td>C</td>\n",
       "      <td>C</td>\n",
       "      <td>C</td>\n",
       "      <td>D</td>\n",
       "      <td>D</td>\n",
       "      <td>C</td>\n",
       "      <td>B</td>\n",
       "      <td>D</td>\n",
       "      <td>F</td>\n",
       "      <td>A</td>\n",
       "      <td>A</td>\n",
       "      <td>A</td>\n",
       "      <td>A</td>\n",
       "      <td>A</td>\n",
       "      <td>A</td>\n",
       "      <td>B</td>\n",
       "      <td>B</td>\n",
       "      <td>C</td>\n",
       "      <td>B</td>\n",
       "      <td>1.828571</td>\n",
       "    </tr>\n",
       "    <tr>\n",
       "      <th>3</th>\n",
       "      <td>010000035B16</td>\n",
       "      <td>h</td>\n",
       "      <td>1</td>\n",
       "      <td>aguascalientes</td>\n",
       "      <td>01dbh0004i</td>\n",
       "      <td>bachillerato_general</td>\n",
       "      <td>federal</td>\n",
       "      <td>dgb</td>\n",
       "      <td>0.36393</td>\n",
       "      <td>ii</td>\n",
       "      <td>-0.37852</td>\n",
       "      <td>ii</td>\n",
       "      <td>A</td>\n",
       "      <td>C</td>\n",
       "      <td>A</td>\n",
       "      <td>B</td>\n",
       "      <td>B</td>\n",
       "      <td>B</td>\n",
       "      <td>A</td>\n",
       "      <td>A</td>\n",
       "      <td>A</td>\n",
       "      <td>B</td>\n",
       "      <td>A</td>\n",
       "      <td>A</td>\n",
       "      <td>C</td>\n",
       "      <td>C</td>\n",
       "      <td>C</td>\n",
       "      <td>C</td>\n",
       "      <td>B</td>\n",
       "      <td>C</td>\n",
       "      <td>B</td>\n",
       "      <td>C</td>\n",
       "      <td>C</td>\n",
       "      <td>C</td>\n",
       "      <td>C</td>\n",
       "      <td>C</td>\n",
       "      <td>B</td>\n",
       "      <td>C</td>\n",
       "      <td>B</td>\n",
       "      <td>B</td>\n",
       "      <td>...</td>\n",
       "      <td>A</td>\n",
       "      <td>A</td>\n",
       "      <td>A</td>\n",
       "      <td>B</td>\n",
       "      <td>A</td>\n",
       "      <td>A</td>\n",
       "      <td>B</td>\n",
       "      <td>B</td>\n",
       "      <td>A</td>\n",
       "      <td>A</td>\n",
       "      <td>C</td>\n",
       "      <td>B</td>\n",
       "      <td>C</td>\n",
       "      <td>C</td>\n",
       "      <td>C</td>\n",
       "      <td>C</td>\n",
       "      <td>B</td>\n",
       "      <td>A</td>\n",
       "      <td>A</td>\n",
       "      <td>D</td>\n",
       "      <td>C</td>\n",
       "      <td>C</td>\n",
       "      <td>E</td>\n",
       "      <td>D</td>\n",
       "      <td>D</td>\n",
       "      <td>C</td>\n",
       "      <td>D</td>\n",
       "      <td>C</td>\n",
       "      <td>B</td>\n",
       "      <td>A</td>\n",
       "      <td>A</td>\n",
       "      <td>A</td>\n",
       "      <td>A</td>\n",
       "      <td>B</td>\n",
       "      <td>A</td>\n",
       "      <td>A</td>\n",
       "      <td>B</td>\n",
       "      <td>A</td>\n",
       "      <td>A</td>\n",
       "      <td>1.828571</td>\n",
       "    </tr>\n",
       "    <tr>\n",
       "      <th>4</th>\n",
       "      <td>010000032B16</td>\n",
       "      <td>h</td>\n",
       "      <td>1</td>\n",
       "      <td>aguascalientes</td>\n",
       "      <td>01dbh0004i</td>\n",
       "      <td>bachillerato_general</td>\n",
       "      <td>federal</td>\n",
       "      <td>dgb</td>\n",
       "      <td>0.97389</td>\n",
       "      <td>iii</td>\n",
       "      <td>0.27625</td>\n",
       "      <td>ii</td>\n",
       "      <td>A</td>\n",
       "      <td>C</td>\n",
       "      <td>A</td>\n",
       "      <td>B</td>\n",
       "      <td>B</td>\n",
       "      <td>B</td>\n",
       "      <td>A</td>\n",
       "      <td>A</td>\n",
       "      <td>A</td>\n",
       "      <td>B</td>\n",
       "      <td>B</td>\n",
       "      <td>C</td>\n",
       "      <td>C</td>\n",
       "      <td>D</td>\n",
       "      <td>B</td>\n",
       "      <td>B</td>\n",
       "      <td>C</td>\n",
       "      <td>C</td>\n",
       "      <td>B</td>\n",
       "      <td>B</td>\n",
       "      <td>B</td>\n",
       "      <td>B</td>\n",
       "      <td>C</td>\n",
       "      <td>C</td>\n",
       "      <td>C</td>\n",
       "      <td>C</td>\n",
       "      <td>C</td>\n",
       "      <td>C</td>\n",
       "      <td>...</td>\n",
       "      <td>A</td>\n",
       "      <td>A</td>\n",
       "      <td>B</td>\n",
       "      <td>B</td>\n",
       "      <td>B</td>\n",
       "      <td>B</td>\n",
       "      <td>A</td>\n",
       "      <td>A</td>\n",
       "      <td>A</td>\n",
       "      <td>A</td>\n",
       "      <td>C</td>\n",
       "      <td>B</td>\n",
       "      <td>C</td>\n",
       "      <td>C</td>\n",
       "      <td>C</td>\n",
       "      <td>B</td>\n",
       "      <td>A</td>\n",
       "      <td>A</td>\n",
       "      <td>B</td>\n",
       "      <td>C</td>\n",
       "      <td>B</td>\n",
       "      <td>C</td>\n",
       "      <td>D</td>\n",
       "      <td>C</td>\n",
       "      <td>C</td>\n",
       "      <td>B</td>\n",
       "      <td>C</td>\n",
       "      <td>E</td>\n",
       "      <td>E</td>\n",
       "      <td>A</td>\n",
       "      <td>A</td>\n",
       "      <td>A</td>\n",
       "      <td>A</td>\n",
       "      <td>A</td>\n",
       "      <td>A</td>\n",
       "      <td>B</td>\n",
       "      <td>B</td>\n",
       "      <td>C</td>\n",
       "      <td>C</td>\n",
       "      <td>1.828571</td>\n",
       "    </tr>\n",
       "  </tbody>\n",
       "</table>\n",
       "<p>5 rows × 167 columns</p>\n",
       "</div>"
      ],
      "text/plain": [
       "        nofolio genero  ent         nom_ent  ... p152 p153 p154       fac\n",
       "0  010000023B16      m    1  aguascalientes  ...    A    C    B  1.828571\n",
       "1  010000037B16      h    1  aguascalientes  ...    B    E    C  1.828571\n",
       "2  010000008B16      m    1  aguascalientes  ...    B    C    B  1.828571\n",
       "3  010000035B16      h    1  aguascalientes  ...    B    A    A  1.828571\n",
       "4  010000032B16      h    1  aguascalientes  ...    B    C    C  1.828571\n",
       "\n",
       "[5 rows x 167 columns]"
      ]
     },
     "execution_count": 43,
     "metadata": {
      "tags": []
     },
     "output_type": "execute_result"
    }
   ],
   "source": [
    "dataset_unido = pd.merge(alumn, cuest, how='inner', on=['nofolio', 'nofolio'])\n",
    "dataset_unido.head()"
   ]
  },
  {
   "cell_type": "markdown",
   "metadata": {
    "colab_type": "text",
    "id": "I54GGajAkfhF"
   },
   "source": [
    "**Se valida que en efecto el join regresa los registros de forma correcta.**"
   ]
  },
  {
   "cell_type": "code",
   "execution_count": 44,
   "metadata": {
    "colab": {
     "base_uri": "https://localhost:8080/",
     "height": 35
    },
    "colab_type": "code",
    "id": "SKfj9j8iUBbN",
    "outputId": "b89f7852-30e5-44c6-83b6-482ed4186112"
   },
   "outputs": [
    {
     "data": {
      "text/plain": [
       "560626"
      ]
     },
     "execution_count": 44,
     "metadata": {
      "tags": []
     },
     "output_type": "execute_result"
    }
   ],
   "source": [
    "len(dataset_unido['nofolio'])"
   ]
  },
  {
   "cell_type": "code",
   "execution_count": null,
   "metadata": {
    "colab": {},
    "colab_type": "code",
    "id": "4VAbrUojUBbT"
   },
   "outputs": [],
   "source": [
    "def convert_to_categorical(df):\n",
    "    for col in df.select_dtypes('object'):\n",
    "        df[col] = df[col].astype('category')\n",
    "    return df\n",
    "    "
   ]
  },
  {
   "cell_type": "code",
   "execution_count": 51,
   "metadata": {
    "colab": {
     "base_uri": "https://localhost:8080/",
     "height": 1000
    },
    "colab_type": "code",
    "id": "wud49WM-UBbd",
    "outputId": "e377cb1c-8c2a-42a9-94b6-9a63736c57f8"
   },
   "outputs": [
    {
     "name": "stdout",
     "output_type": "stream",
     "text": [
      "<class 'pandas.core.frame.DataFrame'>\n",
      "Int64Index: 560626 entries, 0 to 560625\n",
      "Columns: 167 entries, nofolio to fac\n",
      "dtypes: float64(3), int64(1), object(163)\n",
      "memory usage: 718.6+ MB\n",
      "nofolio\n",
      "['010000023B16' '010000037B16' '010000008B16' ... '320009401B16'\n",
      " '320009397B16' '320009413B16']\n",
      "genero\n",
      "['m' 'h']\n",
      "ent\n",
      "[ 1  2  3  4  5  6  7  8  9 10 11 12 13 14 15 16 17 18 19 20 21 22 23 24\n",
      " 25 26 27 28 29 30 31 32]\n",
      "nom_ent\n",
      "['aguascalientes' 'baja_california' 'baja_california_sur' 'campeche'\n",
      " 'coahuila' 'colima' 'chiapas' 'chihuahua' 'distrito_federal' 'durango'\n",
      " 'guanajuato' 'guerrero' 'hidalgo' 'jalisco' 'estado_de_mexico'\n",
      " 'michoacan' 'morelos' 'nayarit' 'oaxaca' 'puebla' 'queretaro'\n",
      " 'quintana_roo' 'san_luis_potosi' 'sinaloa' 'sonora' 'tabasco'\n",
      " 'tamaulipas' 'tlaxcala' 'veracruz' 'yucatan' 'zacatecas']\n",
      "cct\n",
      "['01dbh0004i' '01dbh0005h' '01dbp0001u' ... '32ubh0011b' '32ubh0012a'\n",
      " '32ubh0013z']\n",
      "modalidad\n",
      "['bachillerato_general' 'bachillerato_tecnologico' 'tecnico_profesional']\n",
      "sost\n",
      "['federal' 'estatal' 'particulares' 'autonomas']\n",
      "subsist\n",
      "['dgb' 'dgeti' 'conalep' 'dgeta' 'bach_estatal_dge-cge' 'emsad' 'cecyte'\n",
      " 'telebachilleratos' 'telebachilleratos_comunitarios' 'particulares'\n",
      " 'asociacion_civil' 'bachillerato_autonomo' 'dgecytm' 'cobach'\n",
      " 'otras_federales' 'otras_estatales' 'bachillerato_intercultural'\n",
      " 'colbach' 'ipn' 'ceti']\n",
      "hlec\n",
      "[-0.76369  0.97389  0.26655  0.36393  0.07197  0.56069 -0.43131  0.66085\n",
      " -0.53839  1.08425 -1.00912  0.76278 -0.12484 -0.32705 -0.22506 -0.02597\n",
      "  1.87438 -0.64893  0.86694  0.05293  0.16935 -1.1435  -0.88357  1.19876\n",
      "  1.5773   1.44403  2.04404  1.31832  0.46184  1.71993 -1.80403  2.23385\n",
      " -1.28683 -1.0097  -1.44214  2.45146 -0.30885  0.64171  1.2224   3.03237\n",
      " -1.61287  0.35796 -0.61035 -1.20065  1.72742 -1.36092 -0.06224  0.36699\n",
      "  1.13715  2.23792 -0.35507  1.71617  1.3267  -0.20718  0.85669  0.66304\n",
      "  1.31423  0.66     0.22371  0.81236 -1.01084  0.6245   1.50554 -0.2645\n",
      "  0.51201 -0.03236 -0.50732  0.08101 -0.14384  0.02404  1.03484 -0.45313\n",
      "  3.03005  0.97073 -1.92927 -1.52117 -2.00555 -0.83198  2.70966  0.98062\n",
      " -1.11141  3.47325 -2.28355 -0.68572 -0.88903  0.50475 -2.02331 -0.6656\n",
      " -1.65082 -0.16904 -2.31329  0.35321  1.64209  1.07762 -3.53943 -0.31647\n",
      "  2.23166 -0.49613  4.25806  0.23608  1.95391  0.51797  0.18914  0.68515\n",
      " -4.78973  4.20348  0.10233  0.78193  5.39042  1.42307 -0.60346  1.40631\n",
      "  1.54431 -0.7618  -0.09807  2.17177 -3.91     1.47761 -0.87608 -0.34216\n",
      " -1.81391  1.88732  3.11988 -2.27293  0.37945 -1.41175 -0.59848  1.16219\n",
      "  0.92671 -0.00855 -1.11379 -1.18882  3.03314 -4.03514  1.23664 -1.65027\n",
      "  0.88242 -2.60877 -0.93074  1.8534   2.34373 -2.14642 -1.54509 -3.05269\n",
      "  0.36988 -1.56148  2.51957  0.14053  1.79315  1.59014 -1.316    0.34835\n",
      "  0.7123  -3.78653  2.29262 -1.78127 -0.37437 -0.76778  2.02304  1.10165\n",
      " -1.21741  2.9846  -2.04839  2.57347 -2.47943  2.0971  -3.33415 -2.59622\n",
      " -2.82099 -4.52465  3.78213 -2.63523  2.62582  3.7384   4.98331 -3.24447\n",
      "  2.93413]\n",
      "nvl_esp\n",
      "['i' 'iii' 'ii' 'iv']\n",
      "hmat\n",
      "[-1.10088 -0.37852  0.27625 -0.72212 -0.13198 -0.05065 -0.44582 -1.00146\n",
      " -0.63382 -0.46231 -1.42694 -1.36708 -0.21359 -0.81255 -0.90552 -0.2957\n",
      " -0.54732  0.35948  0.61672 -0.6541  -1.3128  -1.20442  0.52943  1.68805\n",
      "  1.19719  0.7976   1.30867  0.03063  0.89198  1.09113  0.70599  1.83567\n",
      "  1.42666  0.11206  1.55252  2.18231 -1.67733  0.98963  0.44378  3.39923\n",
      "  0.19386  2.64631 -1.8169  -1.54797 -1.96924 -0.83896  1.99878 -0.31031\n",
      " -1.85019  1.44056 -0.47881 -2.54727 -1.1605   0.74837  0.38447  0.17535\n",
      " -2.1493   0.21374  0.04725  0.56173  1.02731  0.5002  -1.03709 -0.78754\n",
      " -0.96866  3.2601  -0.11697 -0.28074  0.33652  4.46448 -0.61407 -1.59412\n",
      "  1.41072  2.39389  2.30888  0.6683   0.84307  0.01495 -2.13786 -1.25369\n",
      "  2.96352  1.69446 -0.14636 -2.3279  -3.33747 -1.4966   4.12478 -2.12428\n",
      " -5.62843  1.96408  1.22473  2.04169 -1.77878 -3.13785  5.30846  2.50634\n",
      "  0.94814  1.16628 -2.51712 -5.03904 -4.53692 -3.58784 -2.58683  1.68268\n",
      " -3.00983 -2.80911 -4.33125 -3.80233 -5.52843  2.77086]\n",
      "nvl_mat\n",
      "['i' 'ii' 'iii' 'iv']\n",
      "p1\n",
      "['B' 'A' nan 'C' 'D']\n",
      "p2\n",
      "['E' 'C' 'D' 'F' 'A' nan 'B']\n",
      "p3\n",
      "['A' 'B' nan 'C']\n",
      "p4\n",
      "['B' 'C' 'A' nan]\n",
      "p5\n",
      "['B' 'A' 'C' nan]\n",
      "p6\n",
      "['B' 'A' nan 'D']\n",
      "p7\n",
      "['A' 'C' 'D' 'F' 'E' 'B' nan]\n",
      "p8\n",
      "['A' 'J' 'E' 'C' 'G' 'B' 'D' 'I' 'H' 'F' nan]\n",
      "p9\n",
      "['A' 'C' 'D' 'B' 'F' 'G' 'E' nan]\n",
      "p10\n",
      "['B' 'D' 'C' 'A' nan]\n",
      "p11\n",
      "['A' 'C' 'B' 'D' 'E' 'F' nan 'G']\n",
      "p12\n",
      "['A' 'C' 'B' 'D' 'E' 'F' 'G' nan]\n",
      "p13\n",
      "['B' 'E' 'C' 'D' 'F' 'G' nan 'A']\n",
      "p14\n",
      "['B' 'F' 'E' 'C' 'D' 'G' nan 'A']\n",
      "p15\n",
      "['B' 'C' 'D' 'A' 'E' nan]\n",
      "p16\n",
      "['D' 'E' 'C' 'B' 'A' nan]\n",
      "p17\n",
      "['A' 'C' 'B' 'D' 'E' nan]\n",
      "p18\n",
      "['C' 'E' 'D' 'B' 'A' nan]\n",
      "p19\n",
      "['C' 'B' 'A' 'D' 'E' nan]\n",
      "p20\n",
      "['B' 'C' 'A' 'D' 'E' nan]\n",
      "p21\n",
      "['C' 'B' 'D' 'E' nan 'A']\n",
      "p22\n",
      "['C' 'D' 'B' 'E' 'A' nan]\n",
      "p23\n",
      "['A' 'D' 'C' 'B' nan]\n",
      "p24\n",
      "['B' 'C' 'D' 'A' nan]\n",
      "p25\n",
      "['A' 'C' 'B' 'D' nan]\n",
      "p26\n",
      "['C' 'D' 'A' 'B' nan]\n",
      "p27\n",
      "['C' 'B' 'D' 'A' nan]\n",
      "p28\n",
      "['C' 'B' 'D' 'A' nan]\n",
      "p29\n",
      "['D' 'B' 'C' 'A' nan]\n",
      "p30\n",
      "['B' 'C' 'A' nan 'D']\n",
      "p31\n",
      "['C' 'B' 'D' 'A' nan]\n",
      "p32\n",
      "['B' 'A' 'C' 'D' nan]\n",
      "p33\n",
      "['A' 'C' 'B' 'D' nan]\n",
      "p34\n",
      "['C' 'B' 'D' 'A' nan]\n",
      "p35\n",
      "['B' 'A' 'D' 'C' nan]\n",
      "p36\n",
      "['C' 'A' 'B' 'D' nan]\n",
      "p37\n",
      "['A' 'C' 'B' 'D' nan]\n",
      "p38\n",
      "['A' 'B' 'C' 'D' nan 'H']\n",
      "p39\n",
      "['B' 'A' 'C' 'D' nan]\n",
      "p40\n",
      "['A' 'C' 'D' 'B' nan]\n",
      "p41\n",
      "['B' 'C' 'D' 'A' nan]\n",
      "p42\n",
      "['D' 'C' 'B' 'A' nan]\n",
      "p43\n",
      "['C' 'B' 'D' 'A' nan]\n",
      "p44\n",
      "['D' 'C' 'B' 'A' nan]\n",
      "p45\n",
      "['B' 'C' 'A' 'D' nan]\n",
      "p46\n",
      "['A' 'B' 'C' 'D' nan 'S']\n",
      "p47\n",
      "['C' 'B' 'A' 'D' nan]\n",
      "p48\n",
      "['A' 'B' 'C' 'D' nan]\n",
      "p49\n",
      "['A' 'B' 'D' 'C' nan]\n",
      "p50\n",
      "['B' 'A' 'C' 'D' nan]\n",
      "p51\n",
      "['A' 'B' 'C' 'D' nan]\n",
      "p52\n",
      "['A' 'B' 'C' 'D' nan]\n",
      "p53\n",
      "['B' 'C' 'A' 'D' nan]\n",
      "p54\n",
      "['B' 'C' 'A' 'D' nan]\n",
      "p55\n",
      "['D' 'B' 'A' 'C' nan 'H' 'G' 'E']\n",
      "p56\n",
      "['B' 'D' 'C' 'A' nan 'G']\n",
      "p57\n",
      "['A' 'C' 'B' 'D' nan]\n",
      "p58\n",
      "['A' 'C' 'B' 'D' nan 'E']\n",
      "p59\n",
      "['A' 'B' 'C' 'D' nan]\n",
      "p60\n",
      "['A' 'C' 'B' 'D' nan]\n",
      "p61\n",
      "['E' 'D' 'C' 'B' 'A' nan]\n",
      "p62\n",
      "['B' 'C' 'E' 'A' 'D' nan]\n",
      "p63\n",
      "['B' 'C' 'A' 'E' 'D' nan]\n",
      "p64\n",
      "['A' 'B' 'C' 'D' 'E' nan]\n",
      "p65\n",
      "['A' 'F' 'E' 'C' 'B' 'D' 'H' 'G' nan]\n",
      "p66\n",
      "['A' 'B' 'C' 'E' 'D' nan 'G']\n",
      "p67\n",
      "['A' 'B' 'C' nan 'D' 'E']\n",
      "p68\n",
      "['E' 'D' 'G' 'C' 'F' 'H' 'I' nan 'B' 'A']\n",
      "p69\n",
      "['A' 'B' nan 'C' 'N' 'E' 'G' 'S' 'D' 'F']\n",
      "p70\n",
      "['A' 'B' 'C' 'D' nan 'E' 'H' 'F' 'G']\n",
      "p71\n",
      "['E' 'C' 'F' 'G' 'D' 'B' 'H' nan 'A' 'I']\n",
      "p72\n",
      "['F' 'A' 'E' 'D' nan 'C' 'B' 'G' 'H']\n",
      "p73\n",
      "['A' nan 'B' 'E' 'C' 'D' 'F']\n",
      "p74\n",
      "['A' 'D' 'F' 'B' 'C' 'E' nan 'G']\n",
      "p75\n",
      "['B' 'A' nan 'C' 'D' 'V']\n",
      "p76\n",
      "['B' 'A' nan 'D' 'C' 'E']\n",
      "p77\n",
      "['B' 'A' nan 'C' 'V' 'D' 'E' 'F' 'G']\n",
      "p78\n",
      "['D' 'G' 'C' 'F' 'E' 'B' 'A' 'H' nan 'I']\n",
      "p79\n",
      "['C' 'B' 'A' 'D' nan 'G' 'E' 'F']\n",
      "p80\n",
      "['D' 'A' 'B' 'C' 'E' nan]\n",
      "p81\n",
      "['A' 'B' 'C' nan 'E' 'D' 'F']\n",
      "p82\n",
      "['B' 'C' 'D' 'A' nan 'F' 'E']\n",
      "p83\n",
      "['A' 'B' nan 'C' 'D']\n",
      "p84\n",
      "['A' 'B' nan 'D' 'C' 'F']\n",
      "p85\n",
      "['B' 'C' 'D' 'A' nan]\n",
      "p86\n",
      "['B' 'C' 'A' 'D' nan]\n",
      "p87\n",
      "['D' 'B' 'C' 'A' nan 'E']\n",
      "p88\n",
      "['D' 'B' 'C' 'A' nan 'E']\n",
      "p89\n",
      "['C' 'B' 'A' 'D' nan 'E']\n",
      "p90\n",
      "['A' 'D' 'B' nan 'C']\n",
      "p91\n",
      "['A' 'B' 'C' nan 'D']\n",
      "p92\n",
      "['D' 'B' 'A' 'C' nan]\n",
      "p93\n",
      "['D' 'C' 'B' 'A' nan]\n",
      "p94\n",
      "['D' 'C' 'B' 'A' nan]\n",
      "p95\n",
      "['D' 'B' 'C' 'A' nan]\n",
      "p96\n",
      "['D' 'C' 'B' 'A' nan]\n",
      "p97\n",
      "['C' 'D' 'B' nan 'A']\n",
      "p98\n",
      "['B' 'C' 'D' 'A' nan]\n",
      "p99\n",
      "['D' 'C' 'B' 'A' nan]\n",
      "p100\n",
      "['D' 'C' 'B' 'A' nan]\n",
      "p101\n",
      "['D' 'C' 'B' 'A' nan]\n",
      "p102\n",
      "['C' 'B' 'D' 'A' nan]\n",
      "p103\n",
      "['B' 'C' 'D' 'A' nan]\n",
      "p104\n",
      "['D' 'B' 'C' 'A' nan]\n",
      "p105\n",
      "['D' 'B' 'C' 'A' nan]\n",
      "p106\n",
      "['D' 'B' 'A' 'C' nan]\n",
      "p107\n",
      "['D' 'B' 'C' 'A' nan]\n",
      "p108\n",
      "['D' 'B' 'C' nan 'A']\n",
      "p109\n",
      "['D' 'C' 'B' 'A' nan 'F']\n",
      "p110\n",
      "['D' 'A' 'C' 'B' nan]\n",
      "p111\n",
      "['D' 'A' 'B' 'C' nan]\n",
      "p112\n",
      "['A' 'B' 'E' 'C' 'D' nan]\n",
      "p113\n",
      "['A' 'B' 'C' 'D' 'E' nan]\n",
      "p114\n",
      "['A' 'C' 'B' 'D' 'E' nan]\n",
      "p115\n",
      "['C' 'A' 'D' 'B' 'E' nan]\n",
      "p116\n",
      "['A' 'B' 'D' 'C' nan 'E']\n",
      "p117\n",
      "['A' 'B' 'D' 'C' nan 'E']\n",
      "p118\n",
      "['A' 'B' nan 'D' 'C']\n",
      "p119\n",
      "['C' 'B' 'D' 'A' nan]\n",
      "p120\n",
      "['B' 'A' 'C' 'D' nan]\n",
      "p121\n",
      "['A' 'B' 'C' 'D' nan]\n",
      "p122\n",
      "['A' 'B' nan 'C' 'D']\n",
      "p123\n",
      "['A' 'B' 'C' 'D' nan]\n",
      "p124\n",
      "['B' 'A' 'C' 'D' nan]\n",
      "p125\n",
      "['B' 'A' 'C' nan 'D']\n",
      "p126\n",
      "['D' 'A' 'C' 'B' nan]\n",
      "p127\n",
      "['C' 'B' 'D' 'A' nan]\n",
      "p128\n",
      "['D' 'C' 'B' 'A' nan]\n",
      "p129\n",
      "['C' 'A' 'D' 'B' nan]\n",
      "p130\n",
      "['D' 'C' 'B' 'A' nan 'E']\n",
      "p131\n",
      "['D' 'C' 'A' 'B' nan 'E']\n",
      "p132\n",
      "['A' 'B' nan 'C']\n",
      "p133\n",
      "['A' nan 'B']\n",
      "p134\n",
      "['A' 'B' nan 'D' 'C']\n",
      "p135\n",
      "['D' 'C' 'B' 'A' nan]\n",
      "p136\n",
      "['C' 'B' 'A' 'D' nan]\n",
      "p137\n",
      "['D' 'C' 'B' 'A' nan 'F' 'E']\n",
      "p138\n",
      "['B' 'G' 'C' 'E' 'D' 'F' nan 'A']\n",
      "p139\n",
      "['C' 'D' 'B' 'F' 'E' 'G' 'A' nan]\n",
      "p140\n",
      "['D' 'C' 'A' 'B' nan 'G' 'H']\n",
      "p141\n",
      "['A' 'B' 'C' 'E' 'D' 'F' 'G' 'H' nan]\n",
      "p142\n",
      "['A' 'B' 'D' 'C' 'E' 'G' 'F' nan]\n",
      "p143\n",
      "['D' 'E' 'C' 'F' 'B' 'G' 'H' nan 'A']\n",
      "p144\n",
      "['E' 'G' 'F' 'B' 'H' 'D' 'C' 'A' nan]\n",
      "p145\n",
      "['B' 'A' nan 'F']\n",
      "p146\n",
      "['A' 'B' nan 'D']\n",
      "p147\n",
      "['A' 'B' nan]\n",
      "p148\n",
      "['A' 'B' nan 'C']\n",
      "p149\n",
      "['A' 'B' nan 'E']\n",
      "p150\n",
      "['B' 'A' nan 'C']\n",
      "p151\n",
      "['C' 'B' 'A' 'D' nan 'E']\n",
      "p152\n",
      "['A' 'B' 'D' 'C' 'E' nan]\n",
      "p153\n",
      "['C' 'E' 'A' 'B' 'D' nan]\n",
      "p154\n",
      "['B' 'C' 'A' 'D' 'E' nan]\n",
      "fac\n",
      "[ 1.828571  1.428571  2.042857  1.942857  2.7       1.528571  4.857143\n",
      "  4.742857  3.371428  2.942857  1.        3.214286  3.157143  5.5\n",
      "  4.4       1.314286  1.228571  1.8       1.442857  1.114286  1.914286\n",
      "  3.328571  2.871428  3.114286  1.414286  1.242857  1.157143  3.085714\n",
      "  2.757143  2.057143  2.085714  1.371429  2.014286  2.028571  1.571429\n",
      "  1.285714  1.257143  1.628571  3.685714  3.314286  2.257143  1.6\n",
      "  3.471429  1.471429  1.4       1.085714  1.514286  1.185714  1.771429\n",
      "  1.028571  1.357143  2.071429  1.742857  1.2       2.885714  1.057143\n",
      "  1.885714  1.042857  1.014286  1.857143  1.5       1.142857  3.514286\n",
      "  6.057143  2.971429  3.271429 11.15714  11.3       4.085714  3.528571\n",
      "  2.728571  5.142857  3.742857  4.071429  2.214286  6.271429  4.2\n",
      "  8.8       5.128572  2.385714  2.814286  4.757143  4.128572  3.014286\n",
      "  1.9       4.9       3.871428  6.1       4.942857  3.857143  2.342857\n",
      "  4.214286  1.657143  2.557143  3.128572  3.414286  1.728571  5.242857\n",
      "  4.        4.157143  6.6       3.9       3.885714  3.614286  4.985714\n",
      "  3.071429  3.257143  2.471429  5.2       5.457143  3.714286  4.314286\n",
      "  3.3       2.628572  2.514286  4.571429  4.728571  2.2       5.257143\n",
      "  3.585714  6.2       5.757143  2.185714  2.485714  1.685714  5.185714\n",
      "  5.285714  1.214286  2.685714  6.071429  4.785714  5.957143  4.471428\n",
      "  2.642857  1.557143  4.228571  3.971429  2.657143  3.357143  2.828571\n",
      "  2.4       2.285714  1.542857  1.714286  2.928571  1.871429  1.642857\n",
      "  1.614286  2.457143  3.285714  2.6       1.957143  1.171429  2.\n",
      "  1.457143  1.071429  4.357143  2.114286  3.942857  3.142857  3.\n",
      "  2.528571  2.157143  2.347826  4.385714  3.671429  2.571429  1.757143\n",
      "  1.1       1.271429  3.242857  1.342857  2.314286  2.414286  1.128571\n",
      "  3.628572  3.757143  2.1       1.3       1.814286  1.785714  1.842857\n",
      "  1.7       1.485714  1.971429  4.142857  2.242857  9.028571  4.014286\n",
      "  5.428571  1.928571  2.9       8.385715  3.485714  5.585714  2.171429\n",
      "  5.542857  5.214286  2.357143  3.028571  6.257143  4.1       3.442857\n",
      "  4.714286  3.957143  3.6       2.957143  2.914286  1.985714  2.5\n",
      "  2.442857  2.8       2.271429  2.542857  2.328571  8.157143 11.27143\n",
      "  3.042857  1.671429  6.728571  5.671429  4.528572  4.442857  2.614286\n",
      "  3.928571  1.385714  3.542857  1.585714  2.771429  4.6       3.2\n",
      "  2.428571  2.671429  3.457143  2.585714  2.228571  2.142857  2.371428\n",
      "  3.185714  4.328571  4.371428  6.342857  3.8       2.742857  4.5\n",
      "  2.128572  1.328571  2.785714  3.228571  2.857143  4.485714  3.385714\n",
      "  3.057143  3.7       3.728571  6.3       5.742857  6.471428  5.857143\n",
      "  5.928571  6.628572  5.771429  3.428571  5.714286  6.785714  5.785714\n",
      "  5.7       5.471428  2.842857  5.828571  4.414286  5.657143  6.985714\n",
      "  4.614286  7.014286  5.485714  6.914286  6.085714  7.814286  7.285714\n",
      "  7.514286  6.771429  3.657143  6.557143  2.985714  5.        3.4\n",
      "  3.842857  3.342857  5.228571 13.41429   8.271428 15.31429   9.328571\n",
      " 17.04286   8.9      13.47143  15.94286   9.142858 12.11429   5.342857\n",
      " 11.07143   5.942857 10.45714   4.871428  4.671429  6.042857  5.971428\n",
      "  3.985714  6.714286  4.285714  7.585714 10.6       8.514286  9.471429\n",
      "  7.571429  7.228571  8.7       4.7      10.31429   9.971429  8.557143\n",
      "  7.457143  4.957143  6.528572  9.428572  4.557143  4.928571  7.214286\n",
      "  7.842857  5.271429  4.171429  5.414286  3.771429  4.257143  4.585714\n",
      "  4.971428  4.185714  6.        3.571429  3.814286  1.795122  4.114286\n",
      "  4.057143  3.785714 12.22857   5.028572  5.571429  2.307692  6.957143\n",
      "  3.5       5.871428  5.814286  2.714286  5.085714  3.1       3.642857\n",
      "  5.628572  4.428571  5.728571  5.057143  5.171429  3.557143  4.642857\n",
      "  2.3       6.657143  4.771429  5.371428  5.314286  4.271429  4.3\n",
      "  7.942857  6.928571  3.171429  3.914286  5.842857  6.242857  5.528572\n",
      "  5.4       4.8       5.357143  9.257143  5.385714  4.028572  6.571429\n",
      "  6.385714  8.2       6.5       6.214286  9.671429  7.642857 10.64286\n",
      " 10.5      10.17143   8.314285  6.142857  5.042857  5.157143  4.842857\n",
      " 12.17143  10.21429   4.042857  6.8       5.914286  9.557143  7.6\n",
      "  7.       19.14286  10.41429  11.9       5.114286  6.457143  5.9\n",
      "  9.5       9.385715  6.514286  6.614286  4.514286  5.071429  7.242857\n",
      "  8.728572  5.514286  6.442857  7.485714  5.328571  5.614286  4.242857\n",
      "  3.828571  4.685714  4.628572  4.657143  8.971429 10.52857   6.328571\n",
      " 15.75714  12.55714   7.2       8.885715 21.01429  24.65714  25.72857\n",
      "  7.614286  7.385714 34.07143   9.8      24.51429  19.77143  21.24286\n",
      "  6.9      14.44286   8.742857  9.842857  5.8      11.12857   4.457143\n",
      "  7.271429  4.342857 11.58571   5.6       7.857143  5.642857  5.442857\n",
      "  4.885714 31.        1.458333  5.557143  6.828571  8.5       5.3\n",
      "  4.542857  9.828571  5.685714  6.7       4.814286  1.307692  7.257143\n",
      "  6.171429  8.585714  6.642857  7.657143  5.1      13.82857   6.185714\n",
      "  6.4       6.371428  5.885714 11.62857   8.371428  6.857143]\n"
     ]
    }
   ],
   "source": [
    "dataset_unido.info()\n",
    "for col in list(dataset_unido):\n",
    "    print(col)\n",
    "    print(dataset_unido[col].unique())"
   ]
  },
  {
   "cell_type": "markdown",
   "metadata": {
    "colab_type": "text",
    "id": "fZW5CnRwUBb4"
   },
   "source": [
    "## 3) Análisis de la integridad de las respuestas del cuestionario\n",
    "\n",
    "**Por homologación con el cuestionario se cambia el valor de hombre y mujer dentro de la variable género del estudiante y se deja únicamente el que proviene del set de alumnos**"
   ]
  },
  {
   "cell_type": "code",
   "execution_count": null,
   "metadata": {
    "colab": {},
    "colab_type": "code",
    "id": "GUI_Io3lUBb9"
   },
   "outputs": [],
   "source": [
    "dataset_unido.loc[dataset_unido[\"genero\"] == \"h\",\"genero\"] = 'A'\n",
    "dataset_unido.loc[dataset_unido[\"genero\"] == \"m\",\"genero\"] = 'B'\n",
    "sorted(dataset_unido['genero'].unique().tolist())"
   ]
  },
  {
   "cell_type": "markdown",
   "metadata": {
    "colab_type": "text",
    "id": "M98WNWfDUBc2"
   },
   "source": [
    "---------------------------------------------------------\n",
    "**Pregunta 1:** Sexo \n",
    "\n",
    "Color: ![#c5f015](https://via.placeholder.com/15/c5f015/000000?text=+) <span style=\"color:green\"> Categórica Nominal</span>\n",
    "\n",
    "posibles respuestas: A = Hombre ,B = Mujer"
   ]
  },
  {
   "cell_type": "code",
   "execution_count": 59,
   "metadata": {
    "colab": {
     "base_uri": "https://localhost:8080/",
     "height": 35
    },
    "colab_type": "code",
    "id": "iLgsWsq3UBc2",
    "outputId": "d9575040-4108-4db3-bba3-35b12aaad01d"
   },
   "outputs": [
    {
     "data": {
      "text/plain": [
       "['B', 'A', nan, 'C', 'D']"
      ]
     },
     "execution_count": 59,
     "metadata": {
      "tags": []
     },
     "output_type": "execute_result"
    }
   ],
   "source": [
    "dataset_unido['p1'].unique().tolist()"
   ]
  },
  {
   "cell_type": "code",
   "execution_count": null,
   "metadata": {
    "colab": {},
    "colab_type": "code",
    "id": "5ZRSSdn4UBc7"
   },
   "outputs": [],
   "source": [
    "dataset_unido['p1'] = dataset_unido['genero']"
   ]
  },
  {
   "cell_type": "code",
   "execution_count": 61,
   "metadata": {
    "colab": {
     "base_uri": "https://localhost:8080/",
     "height": 35
    },
    "colab_type": "code",
    "id": "Z_tEReM-UBc_",
    "outputId": "419ae4e3-bcbe-4ff1-de8b-d25bd804c7ce"
   },
   "outputs": [
    {
     "data": {
      "text/plain": [
       "['A', 'B']"
      ]
     },
     "execution_count": 61,
     "metadata": {
      "tags": []
     },
     "output_type": "execute_result"
    }
   ],
   "source": [
    "sorted(dataset_unido['p1'].unique().tolist())"
   ]
  },
  {
   "cell_type": "markdown",
   "metadata": {
    "colab_type": "text",
    "id": "7xPgQohfUBdD"
   },
   "source": [
    "-----------------------------\n",
    "**Pregunta 2:** ¿Cuántos años cumplidos tienes? \n",
    "\n",
    "Color: ![#F53F0A](https://via.placeholder.com/15/F53F0A/000000?text=+) <span style=\"color:red\"> Categórica Ordinal</span>\n",
    "\n",
    "posibles respuestas:   \n",
    "\n",
    "|  #  |  significado  |   \n",
    "|-----|---------------|   \n",
    "| a   | 15 o menos    |   \n",
    "| b   |      16       |   \n",
    "| c   |      17       |   \n",
    "| d   |      18       |   \n",
    "| e   |      19       |   \n",
    "| f   |   20 o más    |\n"
   ]
  },
  {
   "cell_type": "code",
   "execution_count": null,
   "metadata": {
    "colab": {},
    "colab_type": "code",
    "id": "WEQCsrACUBdE",
    "outputId": "2c06e720-df8c-4344-91e0-2f71d917ddd7"
   },
   "outputs": [
    {
     "data": {
      "text/plain": [
       "['E', 'C', 'D', 'F', 'A', nan, 'B']"
      ]
     },
     "execution_count": 47,
     "metadata": {
      "tags": []
     },
     "output_type": "execute_result"
    }
   ],
   "source": [
    "dataset_unido['p2'].unique().tolist()"
   ]
  },
  {
   "cell_type": "markdown",
   "metadata": {
    "colab_type": "text",
    "id": "QObvdVlvUBdI"
   },
   "source": [
    "**Correcto**"
   ]
  },
  {
   "cell_type": "markdown",
   "metadata": {
    "colab_type": "text",
    "id": "COr3eYvOUBdI"
   },
   "source": [
    "-----------------------------\n",
    "**Pregunta 3:** ¿Estado Civil? \n",
    "\n",
    "Color: ![#c5f015](https://via.placeholder.com/15/c5f015/000000?text=+) <span style=\"color:green\">Categórica nominal</span>\n",
    "\n",
    "posibles respuestas:   \n",
    "\n",
    "|  #  |      significado       |   \n",
    "|-----|------------------------|   \n",
    "| a   |          Soltero       |   \n",
    "| b   |Casado o en Unión libre |   \n",
    "| c   |Separado o divorciado   |   "
   ]
  },
  {
   "cell_type": "code",
   "execution_count": null,
   "metadata": {
    "colab": {},
    "colab_type": "code",
    "id": "4SJQaNC4UBdJ",
    "outputId": "4c916ad3-65fd-43b9-ea92-21b75b1349df"
   },
   "outputs": [
    {
     "data": {
      "text/plain": [
       "['A', 'B', nan, 'C']"
      ]
     },
     "execution_count": 48,
     "metadata": {
      "tags": []
     },
     "output_type": "execute_result"
    }
   ],
   "source": [
    "dataset_unido['p3'].unique().tolist()"
   ]
  },
  {
   "cell_type": "markdown",
   "metadata": {
    "colab_type": "text",
    "id": "dJPsSJbUUBdO"
   },
   "source": [
    "**Correcto**"
   ]
  },
  {
   "cell_type": "markdown",
   "metadata": {
    "colab_type": "text",
    "id": "FeNVuwOOUBdP"
   },
   "source": [
    "----------------------------\n",
    "**Pregunta 4:** ¿Alguno de tus padres habla una lengua indígena o un dialecto?: Madre \n",
    "\n",
    "Color: ![#c5f015](https://via.placeholder.com/15/c5f015/000000?text=+) <span style=\"color:green\">Categórica nominal</span>\n",
    "\n",
    "posibles respuestas:   \n",
    "\n",
    "|  #  |      significado       |   \n",
    "|-----|------------------------|   \n",
    "| a   |          Sí       |   \n",
    "| b   |No |   \n",
    "| c   |No sé   |   "
   ]
  },
  {
   "cell_type": "code",
   "execution_count": null,
   "metadata": {
    "colab": {},
    "colab_type": "code",
    "id": "8osnoNQDUBdP",
    "outputId": "cf8b6e0f-1113-4ed0-b25e-47c32e8c8a1a"
   },
   "outputs": [
    {
     "data": {
      "text/plain": [
       "['B', 'C', 'A', nan]"
      ]
     },
     "execution_count": 49,
     "metadata": {
      "tags": []
     },
     "output_type": "execute_result"
    }
   ],
   "source": [
    "dataset_unido['p4'].unique().tolist()"
   ]
  },
  {
   "cell_type": "markdown",
   "metadata": {
    "colab_type": "text",
    "id": "nw1qjzw0UBdT"
   },
   "source": [
    "-----------------------\n",
    "**Pregunta 5:** ¿Alguno de tus padres habla una lengua indígena o un dialecto?: Padre \n",
    "\n",
    "Color: ![#c5f015](https://via.placeholder.com/15/c5f015/000000?text=+) <span style=\"color:green\">Categórica nominal</span>\n",
    "\n",
    "posibles respuestas:   \n",
    "\n",
    "|  #  |      significado       |   \n",
    "|-----|------------------------|   \n",
    "| a   |          Sí       |   \n",
    "| b   |No |   \n",
    "| c   |No sé   |   "
   ]
  },
  {
   "cell_type": "code",
   "execution_count": null,
   "metadata": {
    "colab": {},
    "colab_type": "code",
    "id": "aGHgHGLBUBdU",
    "outputId": "f3b06a89-df55-4e07-d466-8e3647da1054"
   },
   "outputs": [
    {
     "data": {
      "text/plain": [
       "['B', 'A', 'C', nan]"
      ]
     },
     "execution_count": 50,
     "metadata": {
      "tags": []
     },
     "output_type": "execute_result"
    }
   ],
   "source": [
    "dataset_unido['p5'].unique().tolist()"
   ]
  },
  {
   "cell_type": "markdown",
   "metadata": {
    "colab_type": "text",
    "id": "3TtXPEoiUBdW"
   },
   "source": [
    "**Correcto**"
   ]
  },
  {
   "cell_type": "markdown",
   "metadata": {
    "colab_type": "text",
    "id": "1lmV8ktvUBdX"
   },
   "source": [
    "------------\n",
    "**Pregunta 6:** ¿Trabajas actualmente?    \n",
    "\n",
    "Color: ![#c5f015](https://via.placeholder.com/15/c5f015/000000?text=+) <span style=\"color:green\">Categórica nominal</span>\n",
    "\n",
    "posibles respuestas:   \n",
    "\n",
    "|  #  |      significado       |   \n",
    "|-----|------------------------|   \n",
    "| a   |          Sí      |   \n",
    "| b   |No |     "
   ]
  },
  {
   "cell_type": "code",
   "execution_count": null,
   "metadata": {
    "colab": {},
    "colab_type": "code",
    "id": "_6kgBKpnUBdY",
    "outputId": "14191a99-7c21-4788-f84f-8248c596d8f1"
   },
   "outputs": [
    {
     "data": {
      "text/plain": [
       "['B', 'A', nan, 'D']"
      ]
     },
     "execution_count": 51,
     "metadata": {
      "tags": []
     },
     "output_type": "execute_result"
    }
   ],
   "source": [
    "dataset_unido['p6'].unique().tolist()"
   ]
  },
  {
   "cell_type": "markdown",
   "metadata": {
    "colab_type": "text",
    "id": "j_Ph_61jUBdc"
   },
   "source": [
    "Vemos que existe una respuesta con D, por lo que esa respuesta será considerada nan"
   ]
  },
  {
   "cell_type": "code",
   "execution_count": null,
   "metadata": {
    "colab": {},
    "colab_type": "code",
    "id": "h16XU6EmUBdd"
   },
   "outputs": [],
   "source": [
    "dataset_unido.loc[dataset_unido[\"p6\"] == \"D\",\"p6\"] = np.nan"
   ]
  },
  {
   "cell_type": "code",
   "execution_count": null,
   "metadata": {
    "colab": {},
    "colab_type": "code",
    "id": "DVK-bLd6UBdi",
    "outputId": "25171bb5-52df-4767-f354-947189e0c3cb"
   },
   "outputs": [
    {
     "data": {
      "text/plain": [
       "['B', 'A', nan]"
      ]
     },
     "execution_count": 53,
     "metadata": {
      "tags": []
     },
     "output_type": "execute_result"
    }
   ],
   "source": [
    "dataset_unido['p6'].unique().tolist()"
   ]
  },
  {
   "cell_type": "markdown",
   "metadata": {
    "colab_type": "text",
    "id": "qQvIlFzXUBdk"
   },
   "source": [
    "**Correcto**"
   ]
  },
  {
   "cell_type": "markdown",
   "metadata": {
    "colab_type": "text",
    "id": "umFQ29rYUBdy"
   },
   "source": [
    "----------------------------\n",
    "**Pregunta 7:** ¿Cuánto tiempo llevas trabajando?  \n",
    "\n",
    "Color: ![#c5f015](https://via.placeholder.com/15/c5f015/000000?text=+) <span style=\"color:green\">Categórica nominal</span>\n",
    "\n",
    "posibles respuestas:   \n",
    "\n",
    "|  #  |      significado       |  | \n",
    "|-----|------------------------|--|   \n",
    "| a   |          No trabajo       |![#0A6EF5](https://via.placeholder.com/15/0A6EF5/000000?text=+) <span style=\"color:blue\">Categoría de referencia</span>|     \n",
    "| b   |Menos de un mes |   |\n",
    "| c   |Entre 1 y 5 meses  |   |\n",
    "| d   |Entre 6 y 11 meses |   |\n",
    "| e   |Entre 1 y 2 años  |   |\n",
    "| f   |Entre 1 y 2 años  |   |"
   ]
  },
  {
   "cell_type": "code",
   "execution_count": null,
   "metadata": {
    "colab": {},
    "colab_type": "code",
    "id": "O9ZjW-SRUBdy",
    "outputId": "58d82add-05cf-4ecb-bc65-12cf1a749068"
   },
   "outputs": [
    {
     "data": {
      "text/plain": [
       "['A', 'C', 'D', 'F', 'E', 'B', nan]"
      ]
     },
     "execution_count": 54,
     "metadata": {
      "tags": []
     },
     "output_type": "execute_result"
    }
   ],
   "source": [
    "dataset_unido['p7'].unique().tolist()"
   ]
  },
  {
   "cell_type": "markdown",
   "metadata": {
    "colab_type": "text",
    "id": "vDx3wp9OUBd0"
   },
   "source": [
    "**Correcto**"
   ]
  },
  {
   "cell_type": "markdown",
   "metadata": {
    "colab_type": "text",
    "id": "pz4nzlgQUBd2"
   },
   "source": [
    "----------------------------\n",
    "**Pregunta 8:** ¿Cuántas horas a la semana dedicas a trabajar?\n",
    "\n",
    "Color: ![#c5f015](https://via.placeholder.com/15/c5f015/000000?text=+) <span style=\"color:green\">Categórica nominal</span>\n",
    "\n",
    "posibles respuestas:   \n",
    "\n",
    "|  #  |      significado       |  | \n",
    "|-----|------------------------|--|   \n",
    "| a   |          No trabajo       |![#0A6EF5](https://via.placeholder.com/15/0A6EF5/000000?text=+) <span style=\"color:blue\">Categoría de referencia</span>|     \n",
    "| b   |De 1 a 3 horas  |   |\n",
    "| c   |De 4 a 6 horas   |   |\n",
    "| d   |De 7 a 9 horas  |   |\n",
    "| e   |De 10 a 12 horas   |   |\n",
    "| f   |De 13 a 15 horas   |   |\n",
    "| g   |De 16 a 17 horas   |   |\n",
    "| h   |De 19 a 21 horas  |   |\n",
    "| i   |De 22 a 24 horas   |   |\n",
    "| j   |25 horas o más  |   |"
   ]
  },
  {
   "cell_type": "code",
   "execution_count": null,
   "metadata": {
    "colab": {},
    "colab_type": "code",
    "id": "gNsBwLj8UBd2",
    "outputId": "037a9876-0fb1-4830-dbeb-7dbde7d80b73"
   },
   "outputs": [
    {
     "data": {
      "text/plain": [
       "['A', 'J', 'E', 'C', 'G', 'B', 'D', 'I', 'H', 'F', nan]"
      ]
     },
     "execution_count": 55,
     "metadata": {
      "tags": []
     },
     "output_type": "execute_result"
    }
   ],
   "source": [
    "dataset_unido['p8'].unique().tolist()"
   ]
  },
  {
   "cell_type": "markdown",
   "metadata": {
    "colab_type": "text",
    "id": "RiAEC9PMUBd3"
   },
   "source": [
    "**Correcto**\n",
    "__________________________________"
   ]
  },
  {
   "cell_type": "markdown",
   "metadata": {
    "colab_type": "text",
    "id": "bvNczLFCUBd5"
   },
   "source": [
    "**Pregunta 9:** ¿Cuál es el motivo principal por el que trabajas?\n",
    "\n",
    "Color: ![#c5f015](https://via.placeholder.com/15/c5f015/000000?text=+) <span style=\"color:green\">Categórica nominal</span>\n",
    "\n",
    "posibles respuestas:   \n",
    "\n",
    "|  #  |      significado       |  | \n",
    "|-----|------------------------|--|   \n",
    "| a   |          No trabajo       |![#0A6EF5](https://via.placeholder.com/15/0A6EF5/000000?text=+) <span style=\"color:blue\">Categoría de referencia</span>|     \n",
    "| b   |Independizarme de mi familia  |   |\n",
    "| c   |Tener más dinero para mis gastos personales   |   |\n",
    "| d   |Contar con recursos para poder continuar estudiando  |   |\n",
    "| e   |Adquirir experiencia laboral   |   |\n",
    "| f   |Ayudar a mantener a mi familia   |   |\n",
    "| g   |Ayudar a mantener a mi familia   |   | "
   ]
  },
  {
   "cell_type": "code",
   "execution_count": null,
   "metadata": {
    "colab": {},
    "colab_type": "code",
    "id": "7SbOH4PaUBd6",
    "outputId": "9ae5ed69-511a-44fb-8b98-0ad77ec40f2e"
   },
   "outputs": [
    {
     "data": {
      "text/plain": [
       "['A', 'C', 'D', 'B', 'F', 'G', 'E', nan]"
      ]
     },
     "execution_count": 56,
     "metadata": {
      "tags": []
     },
     "output_type": "execute_result"
    }
   ],
   "source": [
    "dataset_unido['p9'].unique().tolist()"
   ]
  },
  {
   "cell_type": "markdown",
   "metadata": {
    "colab_type": "text",
    "id": "Pes0JTNOUBd-"
   },
   "source": [
    "**Correcto**\n",
    "__________________________________"
   ]
  },
  {
   "cell_type": "markdown",
   "metadata": {
    "colab_type": "text",
    "id": "qKrZPPgbUBd-"
   },
   "source": [
    "**Pregunta 10:** ¿Cuál es el nivel máximo de estudios que esperas alcanzar? \n",
    "\n",
    "Color: ![#F53F0A](https://via.placeholder.com/15/F53F0A/000000?text=+) <span style=\"color:red\"> Categórica ordinal</span>\n",
    "\n",
    "posibles respuestas:   \n",
    "\n",
    "|  #  |      significado       |  \n",
    "|-----|------------------------|   \n",
    "| a   |Nivel medio superior (educación profesional técnica, bachillerato general o bachillerato tecnológico)           |   \n",
    "| b   |Carrera de técnico universitario (nivel técnico superior universitario o profesional asociado)  |   \n",
    "| c   |Licenciatura   |   \n",
    "| d   |Posgrado (especialidad, maestría, doctorado)  |         "
   ]
  },
  {
   "cell_type": "code",
   "execution_count": null,
   "metadata": {
    "colab": {},
    "colab_type": "code",
    "id": "rdFlnCUNUBd-",
    "outputId": "ece568f3-e9a1-44fb-e0a2-f02ec2cfcdc8"
   },
   "outputs": [
    {
     "data": {
      "text/plain": [
       "['B', 'D', 'C', 'A', nan]"
      ]
     },
     "execution_count": 57,
     "metadata": {
      "tags": []
     },
     "output_type": "execute_result"
    }
   ],
   "source": [
    "dataset_unido['p10'].unique().tolist()"
   ]
  },
  {
   "cell_type": "markdown",
   "metadata": {
    "colab_type": "text",
    "id": "5UCp2XgdUBeC"
   },
   "source": [
    "**Correcto**\n",
    "__________________________________"
   ]
  },
  {
   "cell_type": "markdown",
   "metadata": {
    "colab_type": "text",
    "id": "QG7DG1LTUBeC"
   },
   "source": [
    "**Pregunta 11:** \n",
    "\n",
    "Color:![#c5f015](https://via.placeholder.com/15/c5f015/000000?text=+) <span style=\"color:green\"> Categórica nominal</span>\n",
    "![#0A6EF5](https://via.placeholder.com/15/0A6EF5/000000?text=+) <span style=\"color:blue\">Categória de referencia</span>\n",
    "![#F53F0A](https://via.placeholder.com/15/F53F0A/000000?text=+) <span style=\"color:red\"> Categórica ordinal</span>\n",
    "\n",
    "posibles respuestas:   \n",
    "\n",
    "|  #  |      significado       |  | \n",
    "|-----|------------------------|--|   \n",
    "| a   |           |![#0A6EF5](https://via.placeholder.com/15/0A6EF5/000000?text=+) <span style=\"color:blue\">Categoría de referencia</span>|     \n",
    "| b   |  |   |\n",
    "| c   |   |   |\n",
    "| d   |  |   |\n",
    "| e   |   |   |\n",
    "| f   |   |   |\n",
    "| g   |   |   |    "
   ]
  },
  {
   "cell_type": "code",
   "execution_count": null,
   "metadata": {
    "colab": {},
    "colab_type": "code",
    "id": "yIvqBRaeUBeD",
    "outputId": "bc0f9d45-4bdb-4a77-bb1f-3a9294b07034"
   },
   "outputs": [
    {
     "data": {
      "text/plain": [
       "['A', 'C', 'B', 'D', 'E', 'F', nan, 'G']"
      ]
     },
     "execution_count": 58,
     "metadata": {
      "tags": []
     },
     "output_type": "execute_result"
    }
   ],
   "source": [
    "dataset_unido['p11'].unique().tolist()"
   ]
  },
  {
   "cell_type": "markdown",
   "metadata": {
    "colab_type": "text",
    "id": "QfJzISiiUBeF"
   },
   "source": [
    "**Correcto**\n",
    "__________________________________"
   ]
  },
  {
   "cell_type": "markdown",
   "metadata": {
    "colab_type": "text",
    "id": "rruwXWHRUBeH"
   },
   "source": [
    "**Pregunta 12:** \n",
    "\n",
    "Color:![#c5f015](https://via.placeholder.com/15/c5f015/000000?text=+) <span style=\"color:green\"> Categórica nominal</span>\n",
    "![#0A6EF5](https://via.placeholder.com/15/0A6EF5/000000?text=+) <span style=\"color:blue\">Categória de referencia</span>\n",
    "![#F53F0A](https://via.placeholder.com/15/F53F0A/000000?text=+) <span style=\"color:red\"> Categórica ordinal</span>\n",
    "\n",
    "posibles respuestas:   \n",
    "\n",
    "|  #  |      significado       |  | \n",
    "|-----|------------------------|--|   \n",
    "| a   |           |![#0A6EF5](https://via.placeholder.com/15/0A6EF5/000000?text=+) <span style=\"color:blue\">Categoría de referencia</span>|     \n",
    "| b   |  |   |\n",
    "| c   |   |   |\n",
    "| d   |  |   |\n",
    "| e   |   |   |\n",
    "| f   |   |   |\n",
    "| g   |   |   |  "
   ]
  },
  {
   "cell_type": "code",
   "execution_count": null,
   "metadata": {
    "colab": {},
    "colab_type": "code",
    "id": "Y6L18BAtUBeH",
    "outputId": "65559ae1-def5-47b8-b76a-ec9251361b13"
   },
   "outputs": [
    {
     "data": {
      "text/plain": [
       "['A', 'C', 'B', 'D', 'E', 'F', 'G', nan]"
      ]
     },
     "execution_count": 59,
     "metadata": {
      "tags": []
     },
     "output_type": "execute_result"
    }
   ],
   "source": [
    "dataset_unido['p12'].unique().tolist()"
   ]
  },
  {
   "cell_type": "markdown",
   "metadata": {
    "colab_type": "text",
    "id": "OYr4dfF6UBeJ"
   },
   "source": [
    "**Correcto**\n",
    "__________________________________"
   ]
  },
  {
   "cell_type": "markdown",
   "metadata": {
    "colab_type": "text",
    "id": "2_WCiIpTUBeJ"
   },
   "source": [
    "**Pregunta 13:** \n",
    "\n",
    "Color:![#c5f015](https://via.placeholder.com/15/c5f015/000000?text=+) <span style=\"color:green\"> Categórica nominal</span>\n",
    "![#0A6EF5](https://via.placeholder.com/15/0A6EF5/000000?text=+) <span style=\"color:blue\">Categória de referencia</span>\n",
    "![#F53F0A](https://via.placeholder.com/15/F53F0A/000000?text=+) <span style=\"color:red\"> Categórica ordinal</span>\n",
    "\n",
    "posibles respuestas:   \n",
    "\n",
    "|  #  |      significado       |  | \n",
    "|-----|------------------------|--|   \n",
    "| a   |           |![#0A6EF5](https://via.placeholder.com/15/0A6EF5/000000?text=+) <span style=\"color:blue\">Categoría de referencia</span>|     \n",
    "| b   |  |   |\n",
    "| c   |   |   |\n",
    "| d   |  |   |\n",
    "| e   |   |   |\n",
    "| f   |   |   |\n",
    "| g   |   |   |  "
   ]
  },
  {
   "cell_type": "code",
   "execution_count": null,
   "metadata": {
    "colab": {},
    "colab_type": "code",
    "id": "4f7123IzUBeK",
    "outputId": "a766f4fe-72a6-453d-b817-f7074b05708b"
   },
   "outputs": [
    {
     "data": {
      "text/plain": [
       "['B', 'E', 'C', 'D', 'F', 'G', nan, 'A']"
      ]
     },
     "execution_count": 60,
     "metadata": {
      "tags": []
     },
     "output_type": "execute_result"
    }
   ],
   "source": [
    "dataset_unido['p13'].unique().tolist()"
   ]
  },
  {
   "cell_type": "markdown",
   "metadata": {
    "colab_type": "text",
    "id": "Vkk9yGOiUBeO"
   },
   "source": [
    "**Correcto**\n",
    "__________________________________"
   ]
  },
  {
   "cell_type": "markdown",
   "metadata": {
    "colab_type": "text",
    "id": "246UJMayUBeO"
   },
   "source": [
    "**Pregunta 14:** \n",
    "\n",
    "Color:![#c5f015](https://via.placeholder.com/15/c5f015/000000?text=+) <span style=\"color:green\"> Categórica nominal</span>\n",
    "![#0A6EF5](https://via.placeholder.com/15/0A6EF5/000000?text=+) <span style=\"color:blue\">Categória de referencia</span>\n",
    "![#F53F0A](https://via.placeholder.com/15/F53F0A/000000?text=+) <span style=\"color:red\"> Categórica ordinal</span>\n",
    "\n",
    "posibles respuestas:   \n",
    "\n",
    "|  #  |      significado       |  | \n",
    "|-----|------------------------|--|   \n",
    "| a   |           |![#0A6EF5](https://via.placeholder.com/15/0A6EF5/000000?text=+) <span style=\"color:blue\">Categoría de referencia</span>|     \n",
    "| b   |  |   |\n",
    "| c   |   |   |\n",
    "| d   |  |   |\n",
    "| e   |   |   |\n",
    "| f   |   |   |\n",
    "| g   |   |   |   "
   ]
  },
  {
   "cell_type": "code",
   "execution_count": null,
   "metadata": {
    "colab": {},
    "colab_type": "code",
    "id": "f1Ie4YYHUBeP",
    "outputId": "ff9fd886-37d3-4a27-d192-f4c1ef967777"
   },
   "outputs": [
    {
     "data": {
      "text/plain": [
       "['B', 'F', 'E', 'C', 'D', 'G', nan, 'A']"
      ]
     },
     "execution_count": 61,
     "metadata": {
      "tags": []
     },
     "output_type": "execute_result"
    }
   ],
   "source": [
    "dataset_unido['p14'].unique().tolist()"
   ]
  },
  {
   "cell_type": "markdown",
   "metadata": {
    "colab_type": "text",
    "id": "pEUIt9UGUBeS"
   },
   "source": [
    "**Correcto**\n",
    "__________________________________"
   ]
  },
  {
   "cell_type": "markdown",
   "metadata": {
    "colab_type": "text",
    "id": "p3RuIdHUUBeT"
   },
   "source": [
    "**Pregunta 15:** \n",
    "\n",
    "Color:![#c5f015](https://via.placeholder.com/15/c5f015/000000?text=+) <span style=\"color:green\"> Categórica nominal</span>\n",
    "![#0A6EF5](https://via.placeholder.com/15/0A6EF5/000000?text=+) <span style=\"color:blue\">Categória de referencia</span>\n",
    "![#F53F0A](https://via.placeholder.com/15/F53F0A/000000?text=+) <span style=\"color:red\"> Categórica ordinal</span>\n",
    "\n",
    "posibles respuestas:   \n",
    "\n",
    "|  #  |      significado       |  | \n",
    "|-----|------------------------|--|   \n",
    "| a   |           |![#0A6EF5](https://via.placeholder.com/15/0A6EF5/000000?text=+) <span style=\"color:blue\">Categoría de referencia</span>|     \n",
    "| b   |  |   |\n",
    "| c   |   |   |\n",
    "| d   |  |   |\n",
    "| e   |   |   |  "
   ]
  },
  {
   "cell_type": "code",
   "execution_count": null,
   "metadata": {
    "colab": {},
    "colab_type": "code",
    "id": "QPebD_LMUBeT",
    "outputId": "88c22035-cd90-4304-83ca-194f4b09bae5"
   },
   "outputs": [
    {
     "data": {
      "text/plain": [
       "['B', 'C', 'D', 'A', 'E', nan]"
      ]
     },
     "execution_count": 62,
     "metadata": {
      "tags": []
     },
     "output_type": "execute_result"
    }
   ],
   "source": [
    "dataset_unido['p15'].unique().tolist()"
   ]
  },
  {
   "cell_type": "markdown",
   "metadata": {
    "colab_type": "text",
    "id": "j3cfq4vfUBeW"
   },
   "source": [
    "**Correcto**\n",
    "__________________________________"
   ]
  },
  {
   "cell_type": "markdown",
   "metadata": {
    "colab_type": "text",
    "id": "fa8Gb7lWUBeW"
   },
   "source": [
    "**Pregunta 16:** \n",
    "\n",
    "Color:![#c5f015](https://via.placeholder.com/15/c5f015/000000?text=+) <span style=\"color:green\"> Categórica nominal</span>\n",
    "![#0A6EF5](https://via.placeholder.com/15/0A6EF5/000000?text=+) <span style=\"color:blue\">Categória de referencia</span>\n",
    "![#F53F0A](https://via.placeholder.com/15/F53F0A/000000?text=+) <span style=\"color:red\"> Categórica ordinal</span>\n",
    "\n",
    "posibles respuestas:   \n",
    "\n",
    "|  #  |      significado       |  | \n",
    "|-----|------------------------|--|   \n",
    "| a   |           |![#0A6EF5](https://via.placeholder.com/15/0A6EF5/000000?text=+) <span style=\"color:blue\">Categoría de referencia</span>|     \n",
    "| b   |  |   |\n",
    "| c   |   |   |\n",
    "| d   |  |   |\n",
    "| e   |   |   |\n",
    " "
   ]
  },
  {
   "cell_type": "code",
   "execution_count": null,
   "metadata": {
    "colab": {},
    "colab_type": "code",
    "id": "EoEsW9mkUBea",
    "outputId": "ba499647-65a1-45ef-e875-701c63f69bdd"
   },
   "outputs": [
    {
     "data": {
      "text/plain": [
       "['D', 'E', 'C', 'B', 'A', nan]"
      ]
     },
     "execution_count": 63,
     "metadata": {
      "tags": []
     },
     "output_type": "execute_result"
    }
   ],
   "source": [
    "dataset_unido['p16'].unique().tolist()"
   ]
  },
  {
   "cell_type": "markdown",
   "metadata": {
    "colab_type": "text",
    "id": "6RMxhr2CUBec"
   },
   "source": [
    "**Correcto**\n",
    "__________________________________"
   ]
  },
  {
   "cell_type": "markdown",
   "metadata": {
    "colab_type": "text",
    "id": "0Do-OZy0UBec"
   },
   "source": [
    "**Pregunta 17:** \n",
    "\n",
    "Color:![#c5f015](https://via.placeholder.com/15/c5f015/000000?text=+) <span style=\"color:green\"> Categórica nominal</span>\n",
    "![#0A6EF5](https://via.placeholder.com/15/0A6EF5/000000?text=+) <span style=\"color:blue\">Categória de referencia</span>\n",
    "![#F53F0A](https://via.placeholder.com/15/F53F0A/000000?text=+) <span style=\"color:red\"> Categórica ordinal</span>\n",
    "\n",
    "posibles respuestas:   \n",
    "\n",
    "|  #  |      significado       |  | \n",
    "|-----|------------------------|--|   \n",
    "| a   |           |![#0A6EF5](https://via.placeholder.com/15/0A6EF5/000000?text=+) <span style=\"color:blue\">Categoría de referencia</span>|     \n",
    "| b   |  |   |\n",
    "| c   |   |   |\n",
    "| d   |  |   |\n",
    "| e   |   |   |\n",
    "  "
   ]
  },
  {
   "cell_type": "code",
   "execution_count": null,
   "metadata": {
    "colab": {},
    "colab_type": "code",
    "id": "R5jmdoo1UBee",
    "outputId": "1c24e133-4f88-4678-d628-826838583989"
   },
   "outputs": [
    {
     "data": {
      "text/plain": [
       "['A', 'C', 'B', 'D', 'E', nan]"
      ]
     },
     "execution_count": 64,
     "metadata": {
      "tags": []
     },
     "output_type": "execute_result"
    }
   ],
   "source": [
    "dataset_unido['p17'].unique().tolist()"
   ]
  },
  {
   "cell_type": "markdown",
   "metadata": {
    "colab_type": "text",
    "id": "om9FBy4kUBeg"
   },
   "source": [
    "**Correcto**\n",
    "__________________________________"
   ]
  },
  {
   "cell_type": "markdown",
   "metadata": {
    "colab_type": "text",
    "id": "I30mLpo3UBeg"
   },
   "source": [
    "**Pregunta 18:** \n",
    "\n",
    "Color:![#c5f015](https://via.placeholder.com/15/c5f015/000000?text=+) <span style=\"color:green\"> Categórica nominal</span>\n",
    "![#0A6EF5](https://via.placeholder.com/15/0A6EF5/000000?text=+) <span style=\"color:blue\">Categória de referencia</span>\n",
    "![#F53F0A](https://via.placeholder.com/15/F53F0A/000000?text=+) <span style=\"color:red\"> Categórica ordinal</span>\n",
    "\n",
    "posibles respuestas:   \n",
    "\n",
    "|  #  |      significado       |  | \n",
    "|-----|------------------------|--|   \n",
    "| a   |           |![#0A6EF5](https://via.placeholder.com/15/0A6EF5/000000?text=+) <span style=\"color:blue\">Categoría de referencia</span>|     \n",
    "| b   |  |   |\n",
    "| c   |   |   |\n",
    "| d   |  |   |\n",
    "| e   |   |   |\n"
   ]
  },
  {
   "cell_type": "code",
   "execution_count": null,
   "metadata": {
    "colab": {},
    "colab_type": "code",
    "id": "5QctiHoWUBeh",
    "outputId": "669c533e-db98-40d8-c9b1-aaf25b2cada1"
   },
   "outputs": [
    {
     "data": {
      "text/plain": [
       "['C', 'E', 'D', 'B', 'A', nan]"
      ]
     },
     "execution_count": 65,
     "metadata": {
      "tags": []
     },
     "output_type": "execute_result"
    }
   ],
   "source": [
    "dataset_unido['p18'].unique().tolist()"
   ]
  },
  {
   "cell_type": "markdown",
   "metadata": {
    "colab_type": "text",
    "id": "IQz2p1_pUBek"
   },
   "source": [
    "**Correcto**\n",
    "__________________________________"
   ]
  },
  {
   "cell_type": "markdown",
   "metadata": {
    "colab_type": "text",
    "id": "j1PvQzbcUBek"
   },
   "source": [
    "**Pregunta 19:** \n",
    "\n",
    "Color:![#c5f015](https://via.placeholder.com/15/c5f015/000000?text=+) <span style=\"color:green\"> Categórica nominal</span>\n",
    "![#0A6EF5](https://via.placeholder.com/15/0A6EF5/000000?text=+) <span style=\"color:blue\">Categória de referencia</span>\n",
    "![#F53F0A](https://via.placeholder.com/15/F53F0A/000000?text=+) <span style=\"color:red\"> Categórica ordinal</span>\n",
    "\n",
    "posibles respuestas:   \n",
    "\n",
    "|  #  |      significado       |  | \n",
    "|-----|------------------------|--|   \n",
    "| a   |           |![#0A6EF5](https://via.placeholder.com/15/0A6EF5/000000?text=+) <span style=\"color:blue\">Categoría de referencia</span>|     \n",
    "| b   |  |   |\n",
    "| c   |   |   |\n",
    "| d   |  |   |\n",
    "| e   |   |   |\n",
    "     "
   ]
  },
  {
   "cell_type": "code",
   "execution_count": null,
   "metadata": {
    "colab": {},
    "colab_type": "code",
    "id": "gq9p5LALUBel",
    "outputId": "71bdd681-6c43-4c1c-e860-5ccb74d82f34"
   },
   "outputs": [
    {
     "data": {
      "text/plain": [
       "['C', 'B', 'A', 'D', 'E', nan]"
      ]
     },
     "execution_count": 66,
     "metadata": {
      "tags": []
     },
     "output_type": "execute_result"
    }
   ],
   "source": [
    "dataset_unido['p19'].unique().tolist()"
   ]
  },
  {
   "cell_type": "markdown",
   "metadata": {
    "colab_type": "text",
    "id": "SmhY40qLUBeo"
   },
   "source": [
    "**Correcto**\n",
    "__________________________________"
   ]
  },
  {
   "cell_type": "markdown",
   "metadata": {
    "colab_type": "text",
    "id": "Y_g5D9cUUBeo"
   },
   "source": [
    "**Pregunta 20:** \n",
    "\n",
    "Color:![#c5f015](https://via.placeholder.com/15/c5f015/000000?text=+) <span style=\"color:green\"> Categórica nominal</span>\n",
    "![#0A6EF5](https://via.placeholder.com/15/0A6EF5/000000?text=+) <span style=\"color:blue\">Categória de referencia</span>\n",
    "![#F53F0A](https://via.placeholder.com/15/F53F0A/000000?text=+) <span style=\"color:red\"> Categórica ordinal</span>\n",
    "\n",
    "posibles respuestas:   \n",
    "\n",
    "|  #  |      significado       |  | \n",
    "|-----|------------------------|--|   \n",
    "| a   |           |![#0A6EF5](https://via.placeholder.com/15/0A6EF5/000000?text=+) <span style=\"color:blue\">Categoría de referencia</span>|     \n",
    "| b   |  |   |\n",
    "| c   |   |   |\n",
    "| d   |  |   |\n",
    "| e   |   |   |\n",
    "  "
   ]
  },
  {
   "cell_type": "code",
   "execution_count": null,
   "metadata": {
    "colab": {},
    "colab_type": "code",
    "id": "apeb1ghDUBeo",
    "outputId": "a0ebfd58-0cad-4891-8036-f8815a73a067"
   },
   "outputs": [
    {
     "data": {
      "text/plain": [
       "['B', 'C', 'A', 'D', 'E', nan]"
      ]
     },
     "execution_count": 67,
     "metadata": {
      "tags": []
     },
     "output_type": "execute_result"
    }
   ],
   "source": [
    "dataset_unido['p20'].unique().tolist()"
   ]
  },
  {
   "cell_type": "markdown",
   "metadata": {
    "colab_type": "text",
    "id": "GrOFuAO5UBer"
   },
   "source": [
    "**Correcto**\n",
    "__________________________________"
   ]
  },
  {
   "cell_type": "markdown",
   "metadata": {
    "colab_type": "text",
    "id": "rucP0xxnUBer"
   },
   "source": [
    "**Pregunta 21:** \n",
    "\n",
    "Color:![#c5f015](https://via.placeholder.com/15/c5f015/000000?text=+) <span style=\"color:green\"> Categórica nominal</span>\n",
    "![#0A6EF5](https://via.placeholder.com/15/0A6EF5/000000?text=+) <span style=\"color:blue\">Categória de referencia</span>\n",
    "![#F53F0A](https://via.placeholder.com/15/F53F0A/000000?text=+) <span style=\"color:red\"> Categórica ordinal</span>\n",
    "\n",
    "posibles respuestas:   \n",
    "\n",
    "|  #  |      significado       |  | \n",
    "|-----|------------------------|--|   \n",
    "| a   |           |![#0A6EF5](https://via.placeholder.com/15/0A6EF5/000000?text=+) <span style=\"color:blue\">Categoría de referencia</span>|     \n",
    "| b   |  |   |\n",
    "| c   |   |   |\n",
    "| d   |  |   |\n",
    "| e   |   |   |\n",
    "  "
   ]
  },
  {
   "cell_type": "code",
   "execution_count": null,
   "metadata": {
    "colab": {},
    "colab_type": "code",
    "id": "fD8ftFn_UBer",
    "outputId": "a82aea3a-660a-4957-8381-841b4c9c262e"
   },
   "outputs": [
    {
     "data": {
      "text/plain": [
       "['C', 'B', 'D', 'E', nan, 'A']"
      ]
     },
     "execution_count": 68,
     "metadata": {
      "tags": []
     },
     "output_type": "execute_result"
    }
   ],
   "source": [
    "dataset_unido['p21'].unique().tolist()"
   ]
  },
  {
   "cell_type": "markdown",
   "metadata": {
    "colab_type": "text",
    "id": "VrPZ2rSQUBeu"
   },
   "source": [
    "**Correcto**\n",
    "__________________________________"
   ]
  },
  {
   "cell_type": "markdown",
   "metadata": {
    "colab_type": "text",
    "id": "tYk8JmbWUBeu"
   },
   "source": [
    "**Pregunta 22:** \n",
    "\n",
    "Color:![#c5f015](https://via.placeholder.com/15/c5f015/000000?text=+) <span style=\"color:green\"> Categórica nominal</span>\n",
    "![#0A6EF5](https://via.placeholder.com/15/0A6EF5/000000?text=+) <span style=\"color:blue\">Categória de referencia</span>\n",
    "![#F53F0A](https://via.placeholder.com/15/F53F0A/000000?text=+) <span style=\"color:red\"> Categórica ordinal</span>\n",
    "\n",
    "posibles respuestas:   \n",
    "\n",
    "|  #  |      significado       |  | \n",
    "|-----|------------------------|--|   \n",
    "| a   |           |![#0A6EF5](https://via.placeholder.com/15/0A6EF5/000000?text=+) <span style=\"color:blue\">Categoría de referencia</span>|     \n",
    "| b   |  |   |\n",
    "| c   |   |   |\n",
    "| d   |  |   |\n",
    "| e   |   |   |\n",
    "   "
   ]
  },
  {
   "cell_type": "code",
   "execution_count": null,
   "metadata": {
    "colab": {},
    "colab_type": "code",
    "id": "PcLulnAoUBeu",
    "outputId": "7dd29a25-e0f7-4d03-f280-6b5c47339e4a"
   },
   "outputs": [
    {
     "data": {
      "text/plain": [
       "['C', 'D', 'B', 'E', 'A', nan]"
      ]
     },
     "execution_count": 69,
     "metadata": {
      "tags": []
     },
     "output_type": "execute_result"
    }
   ],
   "source": [
    "dataset_unido['p22'].unique().tolist()"
   ]
  },
  {
   "cell_type": "markdown",
   "metadata": {
    "colab_type": "text",
    "id": "k9klJPIUUBey"
   },
   "source": [
    "**Correcto**\n",
    "__________________________________"
   ]
  },
  {
   "cell_type": "markdown",
   "metadata": {
    "colab_type": "text",
    "id": "nFplagc-UBey"
   },
   "source": [
    "**Pregunta 23:** \n",
    "\n",
    "Color:![#c5f015](https://via.placeholder.com/15/c5f015/000000?text=+) <span style=\"color:green\"> Categórica nominal</span>\n",
    "![#0A6EF5](https://via.placeholder.com/15/0A6EF5/000000?text=+) <span style=\"color:blue\">Categória de referencia</span>\n",
    "![#F53F0A](https://via.placeholder.com/15/F53F0A/000000?text=+) <span style=\"color:red\"> Categórica ordinal</span>\n",
    "\n",
    "posibles respuestas:   \n",
    "\n",
    "|  #  |      significado       |  | \n",
    "|-----|------------------------|--|   \n",
    "| a   |           |![#0A6EF5](https://via.placeholder.com/15/0A6EF5/000000?text=+) <span style=\"color:blue\">Categoría de referencia</span>|     \n",
    "| b   |  |   |\n",
    "| c   |   |   |\n",
    "| d   |  |   |\n",
    "   "
   ]
  },
  {
   "cell_type": "code",
   "execution_count": 62,
   "metadata": {
    "colab": {
     "base_uri": "https://localhost:8080/",
     "height": 35
    },
    "colab_type": "code",
    "id": "r6qOqqcrUBey",
    "outputId": "2b1a4af4-e65c-4d9d-8893-ee652acf864a"
   },
   "outputs": [
    {
     "data": {
      "text/plain": [
       "['A', 'D', 'C', 'B', nan]"
      ]
     },
     "execution_count": 62,
     "metadata": {
      "tags": []
     },
     "output_type": "execute_result"
    }
   ],
   "source": [
    "dataset_unido['p23'].unique().tolist()"
   ]
  },
  {
   "cell_type": "markdown",
   "metadata": {
    "colab_type": "text",
    "id": "K_EpVjNjUBe2"
   },
   "source": [
    "**Correcto**\n",
    "__________________________________"
   ]
  },
  {
   "cell_type": "markdown",
   "metadata": {
    "colab_type": "text",
    "id": "vCurEW5EUBe2"
   },
   "source": [
    "**Pregunta 24:** \n",
    "\n",
    "Color:![#c5f015](https://via.placeholder.com/15/c5f015/000000?text=+) <span style=\"color:green\"> Categórica nominal</span>\n",
    "![#0A6EF5](https://via.placeholder.com/15/0A6EF5/000000?text=+) <span style=\"color:blue\">Categória de referencia</span>\n",
    "![#F53F0A](https://via.placeholder.com/15/F53F0A/000000?text=+) <span style=\"color:red\"> Categórica ordinal</span>\n",
    "\n",
    "posibles respuestas:   \n",
    "\n",
    "|  #  |      significado       |  | \n",
    "|-----|------------------------|--|   \n",
    "| a   |           |![#0A6EF5](https://via.placeholder.com/15/0A6EF5/000000?text=+) <span style=\"color:blue\">Categoría de referencia</span>|     \n",
    "| b   |  |   |\n",
    "| c   |   |   |\n",
    "| d   |  |   |\n",
    "    "
   ]
  },
  {
   "cell_type": "code",
   "execution_count": 63,
   "metadata": {
    "colab": {
     "base_uri": "https://localhost:8080/",
     "height": 35
    },
    "colab_type": "code",
    "id": "7W1CCYBFUBe2",
    "outputId": "804239e5-9249-4450-8091-62023615d776"
   },
   "outputs": [
    {
     "data": {
      "text/plain": [
       "['B', 'C', 'D', 'A', nan]"
      ]
     },
     "execution_count": 63,
     "metadata": {
      "tags": []
     },
     "output_type": "execute_result"
    }
   ],
   "source": [
    "dataset_unido['p24'].unique().tolist()"
   ]
  },
  {
   "cell_type": "markdown",
   "metadata": {
    "colab_type": "text",
    "id": "Sn1_ZcPtUBe5"
   },
   "source": [
    "**Correcto**\n",
    "__________________________________"
   ]
  },
  {
   "cell_type": "markdown",
   "metadata": {
    "colab_type": "text",
    "id": "iHR6xuC-UBe6"
   },
   "source": [
    "**Pregunta 25:** \n",
    "\n",
    "Color:![#c5f015](https://via.placeholder.com/15/c5f015/000000?text=+) <span style=\"color:green\"> Categórica nominal</span>\n",
    "![#0A6EF5](https://via.placeholder.com/15/0A6EF5/000000?text=+) <span style=\"color:blue\">Categória de referencia</span>\n",
    "![#F53F0A](https://via.placeholder.com/15/F53F0A/000000?text=+) <span style=\"color:red\"> Categórica ordinal</span>\n",
    "\n",
    "posibles respuestas:   \n",
    "\n",
    "|  #  |      significado       |  | \n",
    "|-----|------------------------|--|   \n",
    "| a   |           |![#0A6EF5](https://via.placeholder.com/15/0A6EF5/000000?text=+) <span style=\"color:blue\">Categoría de referencia</span>|     \n",
    "| b   |  |   |\n",
    "| c   |   |   |\n",
    "| d   |  |   |\n",
    "   "
   ]
  },
  {
   "cell_type": "code",
   "execution_count": 64,
   "metadata": {
    "colab": {
     "base_uri": "https://localhost:8080/",
     "height": 35
    },
    "colab_type": "code",
    "id": "flbGStH_UBe6",
    "outputId": "3e69b49a-6ca7-49bb-946a-2cea4e79d7af"
   },
   "outputs": [
    {
     "data": {
      "text/plain": [
       "['A', 'C', 'B', 'D', nan]"
      ]
     },
     "execution_count": 64,
     "metadata": {
      "tags": []
     },
     "output_type": "execute_result"
    }
   ],
   "source": [
    "dataset_unido['p25'].unique().tolist()"
   ]
  },
  {
   "cell_type": "markdown",
   "metadata": {
    "colab_type": "text",
    "id": "e5Zm5-oaUBe8"
   },
   "source": [
    "**Correcto**\n",
    "__________________________________"
   ]
  },
  {
   "cell_type": "markdown",
   "metadata": {
    "colab_type": "text",
    "id": "b2miunP1UBe9"
   },
   "source": [
    "**Pregunta 26:** \n",
    "\n",
    "Color:![#c5f015](https://via.placeholder.com/15/c5f015/000000?text=+) <span style=\"color:green\"> Categórica nominal</span>\n",
    "![#0A6EF5](https://via.placeholder.com/15/0A6EF5/000000?text=+) <span style=\"color:blue\">Categória de referencia</span>\n",
    "![#F53F0A](https://via.placeholder.com/15/F53F0A/000000?text=+) <span style=\"color:red\"> Categórica ordinal</span>\n",
    "\n",
    "posibles respuestas:   \n",
    "\n",
    "|  #  |      significado       |  | \n",
    "|-----|------------------------|--|   \n",
    "| a   |           |![#0A6EF5](https://via.placeholder.com/15/0A6EF5/000000?text=+) <span style=\"color:blue\">Categoría de referencia</span>|     \n",
    "| b   |  |   |\n",
    "| c   |   |   |\n",
    "| d   |  |   |\n",
    "   "
   ]
  },
  {
   "cell_type": "code",
   "execution_count": 65,
   "metadata": {
    "colab": {
     "base_uri": "https://localhost:8080/",
     "height": 35
    },
    "colab_type": "code",
    "id": "NnUbbabDUBe9",
    "outputId": "582cb885-d114-4838-d4ae-293184bceb5b"
   },
   "outputs": [
    {
     "data": {
      "text/plain": [
       "['C', 'D', 'A', 'B', nan]"
      ]
     },
     "execution_count": 65,
     "metadata": {
      "tags": []
     },
     "output_type": "execute_result"
    }
   ],
   "source": [
    "dataset_unido['p26'].unique().tolist()"
   ]
  },
  {
   "cell_type": "markdown",
   "metadata": {
    "colab_type": "text",
    "id": "e20GEq99UBfC"
   },
   "source": [
    "**Correcto**\n",
    "__________________________________"
   ]
  },
  {
   "cell_type": "markdown",
   "metadata": {
    "colab_type": "text",
    "id": "Kb6wFwinUBfD"
   },
   "source": [
    "**Pregunta 27:** \n",
    "\n",
    "Color:![#c5f015](https://via.placeholder.com/15/c5f015/000000?text=+) <span style=\"color:green\"> Categórica nominal</span>\n",
    "![#0A6EF5](https://via.placeholder.com/15/0A6EF5/000000?text=+) <span style=\"color:blue\">Categória de referencia</span>\n",
    "![#F53F0A](https://via.placeholder.com/15/F53F0A/000000?text=+) <span style=\"color:red\"> Categórica ordinal</span>\n",
    "\n",
    "posibles respuestas:   \n",
    "\n",
    "|  #  |      significado       |  | \n",
    "|-----|------------------------|--|   \n",
    "| a   |           |![#0A6EF5](https://via.placeholder.com/15/0A6EF5/000000?text=+) <span style=\"color:blue\">Categoría de referencia</span>|     \n",
    "| b   |  |   |\n",
    "| c   |   |   |\n",
    "| d   |  |   |\n",
    "   "
   ]
  },
  {
   "cell_type": "code",
   "execution_count": 66,
   "metadata": {
    "colab": {
     "base_uri": "https://localhost:8080/",
     "height": 35
    },
    "colab_type": "code",
    "id": "gDlnSegtUBfD",
    "outputId": "0f39ae4f-e77b-416f-b23d-6cddbbd33bb5"
   },
   "outputs": [
    {
     "data": {
      "text/plain": [
       "['C', 'B', 'D', 'A', nan]"
      ]
     },
     "execution_count": 66,
     "metadata": {
      "tags": []
     },
     "output_type": "execute_result"
    }
   ],
   "source": [
    "dataset_unido['p27'].unique().tolist()"
   ]
  },
  {
   "cell_type": "markdown",
   "metadata": {
    "colab_type": "text",
    "id": "6gjO59fRUBfF"
   },
   "source": [
    "**Correcto**\n",
    "__________________________________"
   ]
  },
  {
   "cell_type": "markdown",
   "metadata": {
    "colab_type": "text",
    "id": "jgQ3-I8NUBfF"
   },
   "source": [
    "**Pregunta 28:** \n",
    "\n",
    "Color:![#c5f015](https://via.placeholder.com/15/c5f015/000000?text=+) <span style=\"color:green\"> Categórica nominal</span>\n",
    "![#0A6EF5](https://via.placeholder.com/15/0A6EF5/000000?text=+) <span style=\"color:blue\">Categória de referencia</span>\n",
    "![#F53F0A](https://via.placeholder.com/15/F53F0A/000000?text=+) <span style=\"color:red\"> Categórica ordinal</span>\n",
    "\n",
    "posibles respuestas:   \n",
    "\n",
    "|  #  |      significado       |  | \n",
    "|-----|------------------------|--|   \n",
    "| a   |           |![#0A6EF5](https://via.placeholder.com/15/0A6EF5/000000?text=+) <span style=\"color:blue\">Categoría de referencia</span>|     \n",
    "| b   |  |   |\n",
    "| c   |   |   |\n",
    "| d   |  |   |\n",
    "   "
   ]
  },
  {
   "cell_type": "code",
   "execution_count": null,
   "metadata": {
    "colab": {},
    "colab_type": "code",
    "id": "cSXjmpA1UBfG",
    "outputId": "1a334671-ef05-421f-8567-fe85170a68b7"
   },
   "outputs": [
    {
     "data": {
      "text/plain": [
       "['C', 'B', 'D', 'A', nan]"
      ]
     },
     "execution_count": 75,
     "metadata": {
      "tags": []
     },
     "output_type": "execute_result"
    }
   ],
   "source": [
    "dataset_unido['p28'].unique().tolist()"
   ]
  },
  {
   "cell_type": "markdown",
   "metadata": {
    "colab_type": "text",
    "id": "bId4U_OZUBfI"
   },
   "source": [
    "**Correcto**\n",
    "__________________________________"
   ]
  },
  {
   "cell_type": "markdown",
   "metadata": {
    "colab_type": "text",
    "id": "i36Mshm7UBfK"
   },
   "source": [
    "**Pregunta 29:** \n",
    "\n",
    "Color:![#c5f015](https://via.placeholder.com/15/c5f015/000000?text=+) <span style=\"color:green\"> Categórica nominal</span>\n",
    "![#0A6EF5](https://via.placeholder.com/15/0A6EF5/000000?text=+) <span style=\"color:blue\">Categória de referencia</span>\n",
    "![#F53F0A](https://via.placeholder.com/15/F53F0A/000000?text=+) <span style=\"color:red\"> Categórica ordinal</span>\n",
    "\n",
    "posibles respuestas:   \n",
    "\n",
    "|  #  |      significado       |  | \n",
    "|-----|------------------------|--|   \n",
    "| a   |           |![#0A6EF5](https://via.placeholder.com/15/0A6EF5/000000?text=+) <span style=\"color:blue\">Categoría de referencia</span>|     \n",
    "| b   |  |   |\n",
    "| c   |   |   |\n",
    "| d   |  |   |\n",
    "  "
   ]
  },
  {
   "cell_type": "code",
   "execution_count": null,
   "metadata": {
    "colab": {},
    "colab_type": "code",
    "id": "QShfVeu3UBfK",
    "outputId": "74c5399a-53c9-44dd-a112-44ece536fd7b"
   },
   "outputs": [
    {
     "data": {
      "text/plain": [
       "['D', 'B', 'C', 'A', nan]"
      ]
     },
     "execution_count": 76,
     "metadata": {
      "tags": []
     },
     "output_type": "execute_result"
    }
   ],
   "source": [
    "dataset_unido['p29'].unique().tolist()"
   ]
  },
  {
   "cell_type": "markdown",
   "metadata": {
    "colab_type": "text",
    "id": "kMfpf3v2UBfM"
   },
   "source": [
    "**Correcto**\n",
    "__________________________________"
   ]
  },
  {
   "cell_type": "markdown",
   "metadata": {
    "colab_type": "text",
    "id": "W0A0c1mcUBfM"
   },
   "source": [
    "**Pregunta 30:** \n",
    "\n",
    "Color:![#c5f015](https://via.placeholder.com/15/c5f015/000000?text=+) <span style=\"color:green\"> Categórica nominal</span>\n",
    "![#0A6EF5](https://via.placeholder.com/15/0A6EF5/000000?text=+) <span style=\"color:blue\">Categória de referencia</span>\n",
    "![#F53F0A](https://via.placeholder.com/15/F53F0A/000000?text=+) <span style=\"color:red\"> Categórica ordinal</span>\n",
    "\n",
    "posibles respuestas:   \n",
    "\n",
    "|  #  |      significado       |  | \n",
    "|-----|------------------------|--|   \n",
    "| a   |           |![#0A6EF5](https://via.placeholder.com/15/0A6EF5/000000?text=+) <span style=\"color:blue\">Categoría de referencia</span>|     \n",
    "| b   |  |   |\n",
    "| c   |   |   |\n",
    "| d   |  |   |\n",
    "  "
   ]
  },
  {
   "cell_type": "code",
   "execution_count": null,
   "metadata": {
    "colab": {},
    "colab_type": "code",
    "id": "hvHqjfy7UBfN",
    "outputId": "cdd56a50-aee6-42e3-fe33-ca4b4f52c7d4"
   },
   "outputs": [
    {
     "data": {
      "text/plain": [
       "['B', 'C', 'A', nan, 'D']"
      ]
     },
     "execution_count": 77,
     "metadata": {
      "tags": []
     },
     "output_type": "execute_result"
    }
   ],
   "source": [
    "dataset_unido['p30'].unique().tolist()"
   ]
  },
  {
   "cell_type": "markdown",
   "metadata": {
    "colab_type": "text",
    "id": "9Q2PnmxQUBfQ"
   },
   "source": [
    "**Correcto**\n",
    "__________________________________"
   ]
  },
  {
   "cell_type": "markdown",
   "metadata": {
    "colab_type": "text",
    "id": "n-IPzo5TUBfR"
   },
   "source": [
    "**Pregunta 31:** \n",
    "\n",
    "Color:![#c5f015](https://via.placeholder.com/15/c5f015/000000?text=+) <span style=\"color:green\"> Categórica nominal</span>\n",
    "![#0A6EF5](https://via.placeholder.com/15/0A6EF5/000000?text=+) <span style=\"color:blue\">Categória de referencia</span>\n",
    "![#F53F0A](https://via.placeholder.com/15/F53F0A/000000?text=+) <span style=\"color:red\"> Categórica ordinal</span>\n",
    "\n",
    "posibles respuestas:   \n",
    "\n",
    "|  #  |      significado       |  | \n",
    "|-----|------------------------|--|   \n",
    "| a   |           |![#0A6EF5](https://via.placeholder.com/15/0A6EF5/000000?text=+) <span style=\"color:blue\">Categoría de referencia</span>|     \n",
    "| b   |  |   |\n",
    "| c   |   |   |\n",
    "| d   |  |   |\n",
    "     "
   ]
  },
  {
   "cell_type": "code",
   "execution_count": null,
   "metadata": {
    "colab": {},
    "colab_type": "code",
    "id": "NpvhYndWUBfS",
    "outputId": "9c908dd8-757d-47be-ec3e-1155f7d2dcf8"
   },
   "outputs": [
    {
     "data": {
      "text/plain": [
       "['C', 'B', 'D', 'A', nan]"
      ]
     },
     "execution_count": 78,
     "metadata": {
      "tags": []
     },
     "output_type": "execute_result"
    }
   ],
   "source": [
    "dataset_unido['p31'].unique().tolist()"
   ]
  },
  {
   "cell_type": "markdown",
   "metadata": {
    "colab_type": "text",
    "id": "l_5KOWrrUBfc"
   },
   "source": [
    "**Correcto**\n",
    "__________________________________"
   ]
  },
  {
   "cell_type": "markdown",
   "metadata": {
    "colab_type": "text",
    "id": "FKUOptf2UBfd"
   },
   "source": [
    "**Pregunta 32:** \n",
    "\n",
    "Color:![#c5f015](https://via.placeholder.com/15/c5f015/000000?text=+) <span style=\"color:green\"> Categórica nominal</span>\n",
    "![#0A6EF5](https://via.placeholder.com/15/0A6EF5/000000?text=+) <span style=\"color:blue\">Categória de referencia</span>\n",
    "![#F53F0A](https://via.placeholder.com/15/F53F0A/000000?text=+) <span style=\"color:red\"> Categórica ordinal</span>\n",
    "\n",
    "posibles respuestas:   \n",
    "\n",
    "|  #  |      significado       |  | \n",
    "|-----|------------------------|--|   \n",
    "| a   |           |![#0A6EF5](https://via.placeholder.com/15/0A6EF5/000000?text=+) <span style=\"color:blue\">Categoría de referencia</span>|     \n",
    "| b   |  |   |\n",
    "| c   |   |   |\n",
    "| d   |  |   |\n",
    "    "
   ]
  },
  {
   "cell_type": "code",
   "execution_count": null,
   "metadata": {
    "colab": {},
    "colab_type": "code",
    "id": "Y7UFmzt5UBfe",
    "outputId": "0fceed0c-2a4a-4b24-c70d-26060aaa1eb1"
   },
   "outputs": [
    {
     "data": {
      "text/plain": [
       "['B', 'A', 'C', 'D', nan]"
      ]
     },
     "execution_count": 79,
     "metadata": {
      "tags": []
     },
     "output_type": "execute_result"
    }
   ],
   "source": [
    "dataset_unido['p32'].unique().tolist()"
   ]
  },
  {
   "cell_type": "markdown",
   "metadata": {
    "colab_type": "text",
    "id": "2acA0POcUBfg"
   },
   "source": [
    "**Correcto**\n",
    "__________________________________"
   ]
  },
  {
   "cell_type": "markdown",
   "metadata": {
    "colab_type": "text",
    "id": "E9_A-VwyUBfg"
   },
   "source": [
    "**Pregunta 33:** \n",
    "\n",
    "Color:![#c5f015](https://via.placeholder.com/15/c5f015/000000?text=+) <span style=\"color:green\"> Categórica nominal</span>\n",
    "![#0A6EF5](https://via.placeholder.com/15/0A6EF5/000000?text=+) <span style=\"color:blue\">Categória de referencia</span>\n",
    "![#F53F0A](https://via.placeholder.com/15/F53F0A/000000?text=+) <span style=\"color:red\"> Categórica ordinal</span>\n",
    "\n",
    "posibles respuestas:   \n",
    "\n",
    "|  #  |      significado       |  | \n",
    "|-----|------------------------|--|   \n",
    "| a   |           |![#0A6EF5](https://via.placeholder.com/15/0A6EF5/000000?text=+) <span style=\"color:blue\">Categoría de referencia</span>|     \n",
    "| b   |  |   |\n",
    "| c   |   |   |\n",
    "| d   |  |   |\n",
    "   "
   ]
  },
  {
   "cell_type": "code",
   "execution_count": null,
   "metadata": {
    "colab": {},
    "colab_type": "code",
    "id": "jJOcPQg-UBfh",
    "outputId": "bdc547be-1009-4bd5-fe35-69bd8964e1cc"
   },
   "outputs": [
    {
     "data": {
      "text/plain": [
       "['A', 'C', 'B', 'D', nan]"
      ]
     },
     "execution_count": 80,
     "metadata": {
      "tags": []
     },
     "output_type": "execute_result"
    }
   ],
   "source": [
    "dataset_unido['p33'].unique().tolist()"
   ]
  },
  {
   "cell_type": "markdown",
   "metadata": {
    "colab_type": "text",
    "id": "mfYmNxxvUBfk"
   },
   "source": [
    "**Correcto**\n",
    "__________________________________"
   ]
  },
  {
   "cell_type": "markdown",
   "metadata": {
    "colab_type": "text",
    "id": "ozAQ0XRWUBfk"
   },
   "source": [
    "**Pregunta 34:** \n",
    "\n",
    "Color:![#c5f015](https://via.placeholder.com/15/c5f015/000000?text=+) <span style=\"color:green\"> Categórica nominal</span>\n",
    "![#0A6EF5](https://via.placeholder.com/15/0A6EF5/000000?text=+) <span style=\"color:blue\">Categória de referencia</span>\n",
    "![#F53F0A](https://via.placeholder.com/15/F53F0A/000000?text=+) <span style=\"color:red\"> Categórica ordinal</span>\n",
    "\n",
    "posibles respuestas:   \n",
    "\n",
    "|  #  |      significado       |  | \n",
    "|-----|------------------------|--|   \n",
    "| a   |           |![#0A6EF5](https://via.placeholder.com/15/0A6EF5/000000?text=+) <span style=\"color:blue\">Categoría de referencia</span>|     \n",
    "| b   |  |   |\n",
    "| c   |   |   |\n",
    "| d   |  |   |\n",
    "    "
   ]
  },
  {
   "cell_type": "code",
   "execution_count": null,
   "metadata": {
    "colab": {},
    "colab_type": "code",
    "id": "oQ6ezNL-UBfl",
    "outputId": "340ce278-ce25-43e1-f0c4-bfde97c7203a"
   },
   "outputs": [
    {
     "data": {
      "text/plain": [
       "['C', 'B', 'D', 'A', nan]"
      ]
     },
     "execution_count": 81,
     "metadata": {
      "tags": []
     },
     "output_type": "execute_result"
    }
   ],
   "source": [
    "dataset_unido['p34'].unique().tolist()"
   ]
  },
  {
   "cell_type": "markdown",
   "metadata": {
    "colab_type": "text",
    "id": "cAG2r6TrUBfn"
   },
   "source": [
    "**Correcto**\n",
    "__________________________________"
   ]
  },
  {
   "cell_type": "markdown",
   "metadata": {
    "colab_type": "text",
    "id": "c2HwxuZkUBfn"
   },
   "source": [
    "**Pregunta 35:** \n",
    "\n",
    "Color:![#c5f015](https://via.placeholder.com/15/c5f015/000000?text=+) <span style=\"color:green\"> Categórica nominal</span>\n",
    "![#0A6EF5](https://via.placeholder.com/15/0A6EF5/000000?text=+) <span style=\"color:blue\">Categória de referencia</span>\n",
    "![#F53F0A](https://via.placeholder.com/15/F53F0A/000000?text=+) <span style=\"color:red\"> Categórica ordinal</span>\n",
    "\n",
    "posibles respuestas:   \n",
    "\n",
    "|  #  |      significado       |  | \n",
    "|-----|------------------------|--|   \n",
    "| a   |           |![#0A6EF5](https://via.placeholder.com/15/0A6EF5/000000?text=+) <span style=\"color:blue\">Categoría de referencia</span>|     \n",
    "| b   |  |   |\n",
    "| c   |   |   |\n",
    "| d   |  |   |\n",
    "   "
   ]
  },
  {
   "cell_type": "code",
   "execution_count": 67,
   "metadata": {
    "colab": {
     "base_uri": "https://localhost:8080/",
     "height": 35
    },
    "colab_type": "code",
    "id": "zixSWHY4UBfn",
    "outputId": "e6174b2d-4ccc-4187-b3fb-c4b596ab71b5"
   },
   "outputs": [
    {
     "data": {
      "text/plain": [
       "['B', 'A', 'D', 'C', nan]"
      ]
     },
     "execution_count": 67,
     "metadata": {
      "tags": []
     },
     "output_type": "execute_result"
    }
   ],
   "source": [
    "dataset_unido['p35'].unique().tolist()"
   ]
  },
  {
   "cell_type": "markdown",
   "metadata": {
    "colab_type": "text",
    "id": "IDyrkjBbUBfq"
   },
   "source": [
    "**Correcto**\n",
    "__________________________________"
   ]
  },
  {
   "cell_type": "markdown",
   "metadata": {
    "colab_type": "text",
    "id": "eMNo6luVUBfq"
   },
   "source": [
    "**Pregunta 36:** \n",
    "\n",
    "Color:![#c5f015](https://via.placeholder.com/15/c5f015/000000?text=+) <span style=\"color:green\"> Categórica nominal</span>\n",
    "![#0A6EF5](https://via.placeholder.com/15/0A6EF5/000000?text=+) <span style=\"color:blue\">Categória de referencia</span>\n",
    "![#F53F0A](https://via.placeholder.com/15/F53F0A/000000?text=+) <span style=\"color:red\"> Categórica ordinal</span>\n",
    "\n",
    "posibles respuestas:   \n",
    "\n",
    "|  #  |      significado       |  | \n",
    "|-----|------------------------|--|   \n",
    "| a   |           |![#0A6EF5](https://via.placeholder.com/15/0A6EF5/000000?text=+) <span style=\"color:blue\">Categoría de referencia</span>|     \n",
    "| b   |  |   |\n",
    "| c   |   |   |\n",
    "| d   |  |   |\n",
    "    "
   ]
  },
  {
   "cell_type": "code",
   "execution_count": 68,
   "metadata": {
    "colab": {
     "base_uri": "https://localhost:8080/",
     "height": 35
    },
    "colab_type": "code",
    "id": "qrigK98FUBfq",
    "outputId": "a601bd54-cee0-438e-bca1-ba3b2466cb95"
   },
   "outputs": [
    {
     "data": {
      "text/plain": [
       "['C', 'A', 'B', 'D', nan]"
      ]
     },
     "execution_count": 68,
     "metadata": {
      "tags": []
     },
     "output_type": "execute_result"
    }
   ],
   "source": [
    "dataset_unido['p36'].unique().tolist()"
   ]
  },
  {
   "cell_type": "markdown",
   "metadata": {
    "colab_type": "text",
    "id": "2Be9zfv9UBft"
   },
   "source": [
    "**Correcto**\n",
    "__________________________________"
   ]
  },
  {
   "cell_type": "markdown",
   "metadata": {
    "colab_type": "text",
    "id": "aKe5T6FbUBft"
   },
   "source": [
    "**Pregunta 37:** \n",
    "\n",
    "Color:![#c5f015](https://via.placeholder.com/15/c5f015/000000?text=+) <span style=\"color:green\"> Categórica nominal</span>\n",
    "![#0A6EF5](https://via.placeholder.com/15/0A6EF5/000000?text=+) <span style=\"color:blue\">Categória de referencia</span>\n",
    "![#F53F0A](https://via.placeholder.com/15/F53F0A/000000?text=+) <span style=\"color:red\"> Categórica ordinal</span>\n",
    "\n",
    "posibles respuestas:   \n",
    "\n",
    "|  #  |      significado       |  | \n",
    "|-----|------------------------|--|   \n",
    "| a   |           |![#0A6EF5](https://via.placeholder.com/15/0A6EF5/000000?text=+) <span style=\"color:blue\">Categoría de referencia</span>|     \n",
    "| b   |  |   |\n",
    "| c   |   |   |\n",
    "| d   |  |   |\n",
    "  "
   ]
  },
  {
   "cell_type": "code",
   "execution_count": null,
   "metadata": {
    "colab": {},
    "colab_type": "code",
    "id": "QF7bw9UDUBft",
    "outputId": "4a8c2e8b-ad12-4ae5-d35e-6b7f21c4344d"
   },
   "outputs": [
    {
     "data": {
      "text/plain": [
       "['A', 'C', 'B', 'D', nan]"
      ]
     },
     "execution_count": 84,
     "metadata": {
      "tags": []
     },
     "output_type": "execute_result"
    }
   ],
   "source": [
    "dataset_unido['p37'].unique().tolist()"
   ]
  },
  {
   "cell_type": "markdown",
   "metadata": {
    "colab_type": "text",
    "id": "oPIzRzkjUBfx"
   },
   "source": [
    "**Correcto**\n",
    "__________________________________"
   ]
  },
  {
   "cell_type": "markdown",
   "metadata": {
    "colab_type": "text",
    "id": "IkUtZEchUBfx"
   },
   "source": [
    "**Pregunta 38:** \n",
    "\n",
    "Color:![#c5f015](https://via.placeholder.com/15/c5f015/000000?text=+) <span style=\"color:green\"> Categórica nominal</span>\n",
    "![#0A6EF5](https://via.placeholder.com/15/0A6EF5/000000?text=+) <span style=\"color:blue\">Categória de referencia</span>\n",
    "![#F53F0A](https://via.placeholder.com/15/F53F0A/000000?text=+) <span style=\"color:red\"> Categórica ordinal</span>\n",
    "\n",
    "posibles respuestas:   \n",
    "\n",
    "|  #  |      significado       |  | \n",
    "|-----|------------------------|--|   \n",
    "| a   |           |![#0A6EF5](https://via.placeholder.com/15/0A6EF5/000000?text=+) <span style=\"color:blue\">Categoría de referencia</span>|     \n",
    "| b   |  |   |\n",
    "| c   |   |   |\n",
    "| d   |  |   |\n",
    " "
   ]
  },
  {
   "cell_type": "code",
   "execution_count": null,
   "metadata": {
    "colab": {},
    "colab_type": "code",
    "id": "gKp-ewHNUBfy",
    "outputId": "cbce3588-a2ab-4f3d-a4d3-ece15c7abbe0"
   },
   "outputs": [
    {
     "data": {
      "text/plain": [
       "['A', 'B', 'C', 'D', nan, 'H']"
      ]
     },
     "execution_count": 85,
     "metadata": {
      "tags": []
     },
     "output_type": "execute_result"
    }
   ],
   "source": [
    "dataset_unido['p38'].unique().tolist()"
   ]
  },
  {
   "cell_type": "markdown",
   "metadata": {
    "colab_type": "text",
    "id": "kpyXsa8xUBf1"
   },
   "source": [
    "**Correcto**\n",
    "__________________________________"
   ]
  },
  {
   "cell_type": "markdown",
   "metadata": {
    "colab_type": "text",
    "id": "9ieuP1VbUBf2"
   },
   "source": [
    "**Pregunta 39:** \n",
    "\n",
    "Color:![#c5f015](https://via.placeholder.com/15/c5f015/000000?text=+) <span style=\"color:green\"> Categórica nominal</span>\n",
    "![#0A6EF5](https://via.placeholder.com/15/0A6EF5/000000?text=+) <span style=\"color:blue\">Categória de referencia</span>\n",
    "![#F53F0A](https://via.placeholder.com/15/F53F0A/000000?text=+) <span style=\"color:red\"> Categórica ordinal</span>\n",
    "\n",
    "posibles respuestas:   \n",
    "\n",
    "|  #  |      significado       |  | \n",
    "|-----|------------------------|--|   \n",
    "| a   |           |![#0A6EF5](https://via.placeholder.com/15/0A6EF5/000000?text=+) <span style=\"color:blue\">Categoría de referencia</span>|     \n",
    "| b   |  |   |\n",
    "| c   |   |   |\n",
    "| d   |  |   |\n",
    " "
   ]
  },
  {
   "cell_type": "code",
   "execution_count": null,
   "metadata": {
    "colab": {},
    "colab_type": "code",
    "id": "wm16R1aYUBf2",
    "outputId": "01b5d595-b0eb-4c99-d58d-a2dfd3b53571"
   },
   "outputs": [
    {
     "data": {
      "text/plain": [
       "['B', 'A', 'C', 'D', nan]"
      ]
     },
     "execution_count": 86,
     "metadata": {
      "tags": []
     },
     "output_type": "execute_result"
    }
   ],
   "source": [
    "dataset_unido['p39'].unique().tolist()"
   ]
  },
  {
   "cell_type": "markdown",
   "metadata": {
    "colab_type": "text",
    "id": "zxqGztypUBf4"
   },
   "source": [
    "**Correcto**\n",
    "__________________________________"
   ]
  },
  {
   "cell_type": "markdown",
   "metadata": {
    "colab_type": "text",
    "id": "peaPuYUNUBf4"
   },
   "source": [
    "**Pregunta 40:** \n",
    "\n",
    "Color:![#c5f015](https://via.placeholder.com/15/c5f015/000000?text=+) <span style=\"color:green\"> Categórica nominal</span>\n",
    "![#0A6EF5](https://via.placeholder.com/15/0A6EF5/000000?text=+) <span style=\"color:blue\">Categória de referencia</span>\n",
    "![#F53F0A](https://via.placeholder.com/15/F53F0A/000000?text=+) <span style=\"color:red\"> Categórica ordinal</span>\n",
    "\n",
    "posibles respuestas:   \n",
    "\n",
    "|  #  |      significado       |  | \n",
    "|-----|------------------------|--|   \n",
    "| a   |           |![#0A6EF5](https://via.placeholder.com/15/0A6EF5/000000?text=+) <span style=\"color:blue\">Categoría de referencia</span>|     \n",
    "| b   |  |   |\n",
    "| c   |   |   |\n",
    "| d   |  |   |\n",
    "   "
   ]
  },
  {
   "cell_type": "code",
   "execution_count": null,
   "metadata": {
    "colab": {},
    "colab_type": "code",
    "id": "PKYd5n7IUBf4",
    "outputId": "c45d6ab2-42cf-4cf7-8775-5905dcf31d4d"
   },
   "outputs": [
    {
     "data": {
      "text/plain": [
       "['A', 'C', 'D', 'B', nan]"
      ]
     },
     "execution_count": 87,
     "metadata": {
      "tags": []
     },
     "output_type": "execute_result"
    }
   ],
   "source": [
    "dataset_unido['p40'].unique().tolist()"
   ]
  },
  {
   "cell_type": "markdown",
   "metadata": {
    "colab_type": "text",
    "id": "2cZhqLoeUBf7"
   },
   "source": [
    "**Correcto**\n",
    "__________________________________"
   ]
  },
  {
   "cell_type": "markdown",
   "metadata": {
    "colab_type": "text",
    "id": "L3an-omBUBf7"
   },
   "source": [
    "**Pregunta 41:** \n",
    "\n",
    "Color:![#c5f015](https://via.placeholder.com/15/c5f015/000000?text=+) <span style=\"color:green\"> Categórica nominal</span>\n",
    "![#0A6EF5](https://via.placeholder.com/15/0A6EF5/000000?text=+) <span style=\"color:blue\">Categória de referencia</span>\n",
    "![#F53F0A](https://via.placeholder.com/15/F53F0A/000000?text=+) <span style=\"color:red\"> Categórica ordinal</span>\n",
    "\n",
    "posibles respuestas:   \n",
    "\n",
    "|  #  |      significado       |  | \n",
    "|-----|------------------------|--|   \n",
    "| a   |           |![#0A6EF5](https://via.placeholder.com/15/0A6EF5/000000?text=+) <span style=\"color:blue\">Categoría de referencia</span>|     \n",
    "| b   |  |   |\n",
    "| c   |   |   |\n",
    "| d   |  |   |\n",
    "   "
   ]
  },
  {
   "cell_type": "code",
   "execution_count": null,
   "metadata": {
    "colab": {},
    "colab_type": "code",
    "id": "bmCFAWBlUBf7",
    "outputId": "e9bae13b-b757-4c46-f776-a849d4e8a885"
   },
   "outputs": [
    {
     "data": {
      "text/plain": [
       "['B', 'C', 'D', 'A', nan]"
      ]
     },
     "execution_count": 88,
     "metadata": {
      "tags": []
     },
     "output_type": "execute_result"
    }
   ],
   "source": [
    "dataset_unido['p41'].unique().tolist()"
   ]
  },
  {
   "cell_type": "markdown",
   "metadata": {
    "colab_type": "text",
    "id": "V8ua1HsGUBf9"
   },
   "source": [
    "**Correcto**\n",
    "__________________________________"
   ]
  },
  {
   "cell_type": "markdown",
   "metadata": {
    "colab_type": "text",
    "id": "31FwxMQjUBf-"
   },
   "source": [
    "**Pregunta 42:** \n",
    "\n",
    "Color:![#c5f015](https://via.placeholder.com/15/c5f015/000000?text=+) <span style=\"color:green\"> Categórica nominal</span>\n",
    "![#0A6EF5](https://via.placeholder.com/15/0A6EF5/000000?text=+) <span style=\"color:blue\">Categória de referencia</span>\n",
    "![#F53F0A](https://via.placeholder.com/15/F53F0A/000000?text=+) <span style=\"color:red\"> Categórica ordinal</span>\n",
    "\n",
    "posibles respuestas:   \n",
    "\n",
    "|  #  |      significado       |  | \n",
    "|-----|------------------------|--|   \n",
    "| a   |           |![#0A6EF5](https://via.placeholder.com/15/0A6EF5/000000?text=+) <span style=\"color:blue\">Categoría de referencia</span>|     \n",
    "| b   |  |   |\n",
    "| c   |   |   |\n",
    "| d   |  |   |\n",
    "    "
   ]
  },
  {
   "cell_type": "code",
   "execution_count": null,
   "metadata": {
    "colab": {},
    "colab_type": "code",
    "id": "SDiDGyYRUBf-",
    "outputId": "a24967e7-a495-42b3-ba20-4f3febca1341"
   },
   "outputs": [
    {
     "data": {
      "text/plain": [
       "['D', 'C', 'B', 'A', nan]"
      ]
     },
     "execution_count": 89,
     "metadata": {
      "tags": []
     },
     "output_type": "execute_result"
    }
   ],
   "source": [
    "dataset_unido['p42'].unique().tolist()"
   ]
  },
  {
   "cell_type": "markdown",
   "metadata": {
    "colab_type": "text",
    "id": "mVDZIrEPUBgA"
   },
   "source": [
    "**Correcto**\n",
    "__________________________________"
   ]
  },
  {
   "cell_type": "markdown",
   "metadata": {
    "colab_type": "text",
    "id": "hkcKD7IFUBgC"
   },
   "source": [
    "**Pregunta 43:** \n",
    "\n",
    "Color:![#c5f015](https://via.placeholder.com/15/c5f015/000000?text=+) <span style=\"color:green\"> Categórica nominal</span>\n",
    "![#0A6EF5](https://via.placeholder.com/15/0A6EF5/000000?text=+) <span style=\"color:blue\">Categória de referencia</span>\n",
    "![#F53F0A](https://via.placeholder.com/15/F53F0A/000000?text=+) <span style=\"color:red\"> Categórica ordinal</span>\n",
    "\n",
    "posibles respuestas:   \n",
    "\n",
    "|  #  |      significado       |  | \n",
    "|-----|------------------------|--|   \n",
    "| a   |           |![#0A6EF5](https://via.placeholder.com/15/0A6EF5/000000?text=+) <span style=\"color:blue\">Categoría de referencia</span>|     \n",
    "| b   |  |   |\n",
    "| c   |   |   |\n",
    "| d   |  |   |\n",
    "    "
   ]
  },
  {
   "cell_type": "code",
   "execution_count": null,
   "metadata": {
    "colab": {},
    "colab_type": "code",
    "id": "8NCU4KJCUBgD",
    "outputId": "f6444e11-bb69-488e-d65f-d573935c4758"
   },
   "outputs": [
    {
     "data": {
      "text/plain": [
       "['C', 'B', 'D', 'A', nan]"
      ]
     },
     "execution_count": 90,
     "metadata": {
      "tags": []
     },
     "output_type": "execute_result"
    }
   ],
   "source": [
    "dataset_unido['p43'].unique().tolist()"
   ]
  },
  {
   "cell_type": "markdown",
   "metadata": {
    "colab_type": "text",
    "id": "OZGy6my7UBgJ"
   },
   "source": [
    "**Correcto**\n",
    "__________________________________"
   ]
  },
  {
   "cell_type": "markdown",
   "metadata": {
    "colab_type": "text",
    "id": "wMirN_upUBgK"
   },
   "source": [
    "**Pregunta 44:** \n",
    "\n",
    "Color:![#c5f015](https://via.placeholder.com/15/c5f015/000000?text=+) <span style=\"color:green\"> Categórica nominal</span>\n",
    "![#0A6EF5](https://via.placeholder.com/15/0A6EF5/000000?text=+) <span style=\"color:blue\">Categória de referencia</span>\n",
    "![#F53F0A](https://via.placeholder.com/15/F53F0A/000000?text=+) <span style=\"color:red\"> Categórica ordinal</span>\n",
    "\n",
    "posibles respuestas:   \n",
    "\n",
    "|  #  |      significado       |  | \n",
    "|-----|------------------------|--|   \n",
    "| a   |           |![#0A6EF5](https://via.placeholder.com/15/0A6EF5/000000?text=+) <span style=\"color:blue\">Categoría de referencia</span>|     \n",
    "| b   |  |   |\n",
    "| c   |   |   |\n",
    "| d   |  |   |\n",
    "   "
   ]
  },
  {
   "cell_type": "code",
   "execution_count": null,
   "metadata": {
    "colab": {},
    "colab_type": "code",
    "id": "Ny3VmlBgUBgK",
    "outputId": "d48cf097-a066-43ee-885d-ad95390b0650"
   },
   "outputs": [
    {
     "data": {
      "text/plain": [
       "['D', 'C', 'B', 'A', nan]"
      ]
     },
     "execution_count": 91,
     "metadata": {
      "tags": []
     },
     "output_type": "execute_result"
    }
   ],
   "source": [
    "dataset_unido['p44'].unique().tolist()"
   ]
  },
  {
   "cell_type": "markdown",
   "metadata": {
    "colab_type": "text",
    "id": "P0iwjOzmUBgN"
   },
   "source": [
    "**Correcto**\n",
    "__________________________________"
   ]
  },
  {
   "cell_type": "markdown",
   "metadata": {
    "colab_type": "text",
    "id": "FZc0h9JMUBgO"
   },
   "source": [
    "**Pregunta 45:** \n",
    "\n",
    "Color:![#c5f015](https://via.placeholder.com/15/c5f015/000000?text=+) <span style=\"color:green\"> Categórica nominal</span>\n",
    "![#0A6EF5](https://via.placeholder.com/15/0A6EF5/000000?text=+) <span style=\"color:blue\">Categória de referencia</span>\n",
    "![#F53F0A](https://via.placeholder.com/15/F53F0A/000000?text=+) <span style=\"color:red\"> Categórica ordinal</span>\n",
    "\n",
    "posibles respuestas:   \n",
    "\n",
    "|  #  |      significado       |  | \n",
    "|-----|------------------------|--|   \n",
    "| a   |           |![#0A6EF5](https://via.placeholder.com/15/0A6EF5/000000?text=+) <span style=\"color:blue\">Categoría de referencia</span>|     \n",
    "| b   |  |   |\n",
    "| c   |   |   |\n",
    "| d   |  |   |\n",
    "   "
   ]
  },
  {
   "cell_type": "code",
   "execution_count": null,
   "metadata": {
    "colab": {},
    "colab_type": "code",
    "id": "n9ccL8kgUBgO",
    "outputId": "d170a566-af53-4cd8-d5cc-d5ca0a96dc81"
   },
   "outputs": [
    {
     "data": {
      "text/plain": [
       "['B', 'C', 'A', 'D', nan]"
      ]
     },
     "execution_count": 92,
     "metadata": {
      "tags": []
     },
     "output_type": "execute_result"
    }
   ],
   "source": [
    "dataset_unido['p45'].unique().tolist()"
   ]
  },
  {
   "cell_type": "markdown",
   "metadata": {
    "colab_type": "text",
    "id": "i5z1xA1UUBgQ"
   },
   "source": [
    "**Correcto**\n",
    "__________________________________"
   ]
  },
  {
   "cell_type": "markdown",
   "metadata": {
    "colab_type": "text",
    "id": "XPX4i7jOUBgR"
   },
   "source": [
    "**Pregunta 46:** \n",
    "\n",
    "Color:![#c5f015](https://via.placeholder.com/15/c5f015/000000?text=+) <span style=\"color:green\"> Categórica nominal</span>\n",
    "![#0A6EF5](https://via.placeholder.com/15/0A6EF5/000000?text=+) <span style=\"color:blue\">Categória de referencia</span>\n",
    "![#F53F0A](https://via.placeholder.com/15/F53F0A/000000?text=+) <span style=\"color:red\"> Categórica ordinal</span>\n",
    "\n",
    "posibles respuestas:   \n",
    "\n",
    "|  #  |      significado       |  | \n",
    "|-----|------------------------|--|   \n",
    "| a   |           |![#0A6EF5](https://via.placeholder.com/15/0A6EF5/000000?text=+) <span style=\"color:blue\">Categoría de referencia</span>|     \n",
    "| b   |  |   |\n",
    "| c   |   |   |\n",
    "| d   |  |   |\n",
    "    "
   ]
  },
  {
   "cell_type": "code",
   "execution_count": null,
   "metadata": {
    "colab": {},
    "colab_type": "code",
    "id": "tA8YV5odUBgR",
    "outputId": "a6ac7d6a-1e22-43a5-d43d-8d55b7f878a7"
   },
   "outputs": [
    {
     "data": {
      "text/plain": [
       "['A', 'B', 'C', 'D', nan, 'S']"
      ]
     },
     "execution_count": 93,
     "metadata": {
      "tags": []
     },
     "output_type": "execute_result"
    }
   ],
   "source": [
    "dataset_unido['p46'].unique().tolist()"
   ]
  },
  {
   "cell_type": "markdown",
   "metadata": {
    "colab_type": "text",
    "id": "jQrjo350UBgT"
   },
   "source": [
    "A pesar de que esta pregunta tiene respuestas de a,b,c,d,e,f, tiene algunas otras respuestas registradas, por lo que se convertirán a nulas."
   ]
  },
  {
   "cell_type": "code",
   "execution_count": null,
   "metadata": {
    "colab": {},
    "colab_type": "code",
    "id": "h3h3SSk1UBgV"
   },
   "outputs": [],
   "source": [
    "dataset_unido.loc[dataset_unido[\"p46\"] == \"S\",\"p46\"] = np.nan"
   ]
  },
  {
   "cell_type": "code",
   "execution_count": null,
   "metadata": {
    "colab": {},
    "colab_type": "code",
    "id": "l-0LyEZTUBgX",
    "outputId": "9d1d21fc-e0e8-4d22-b242-903637e15152"
   },
   "outputs": [
    {
     "data": {
      "text/plain": [
       "['A', 'B', 'C', 'D', nan]"
      ]
     },
     "execution_count": 95,
     "metadata": {
      "tags": []
     },
     "output_type": "execute_result"
    }
   ],
   "source": [
    "dataset_unido['p46'].unique().tolist()"
   ]
  },
  {
   "cell_type": "markdown",
   "metadata": {
    "colab_type": "text",
    "id": "KmkV3j0oUBga"
   },
   "source": [
    "**Correcto**\n",
    "__________________________________"
   ]
  },
  {
   "cell_type": "markdown",
   "metadata": {
    "colab_type": "text",
    "id": "bMFlbAqDUBga"
   },
   "source": [
    "**Pregunta 47:** \n",
    "\n",
    "Color:![#c5f015](https://via.placeholder.com/15/c5f015/000000?text=+) <span style=\"color:green\"> Categórica nominal</span>\n",
    "![#0A6EF5](https://via.placeholder.com/15/0A6EF5/000000?text=+) <span style=\"color:blue\">Categória de referencia</span>\n",
    "![#F53F0A](https://via.placeholder.com/15/F53F0A/000000?text=+) <span style=\"color:red\"> Categórica ordinal</span>\n",
    "\n",
    "posibles respuestas:   \n",
    "\n",
    "|  #  |      significado       |  | \n",
    "|-----|------------------------|--|   \n",
    "| a   |           |![#0A6EF5](https://via.placeholder.com/15/0A6EF5/000000?text=+) <span style=\"color:blue\">Categoría de referencia</span>|     \n",
    "| b   |  |   |\n",
    "| c   |   |   |\n",
    "| d   |  |   |\n",
    "   "
   ]
  },
  {
   "cell_type": "code",
   "execution_count": null,
   "metadata": {
    "colab": {},
    "colab_type": "code",
    "id": "op3L_faoUBgb",
    "outputId": "fdb7ff1b-e235-4c5b-e2d1-3338777e1a3d"
   },
   "outputs": [
    {
     "data": {
      "text/plain": [
       "['C', 'B', 'A', 'D', nan]"
      ]
     },
     "execution_count": 96,
     "metadata": {
      "tags": []
     },
     "output_type": "execute_result"
    }
   ],
   "source": [
    "dataset_unido['p47'].unique().tolist()"
   ]
  },
  {
   "cell_type": "markdown",
   "metadata": {
    "colab_type": "text",
    "id": "WyMWbW_3UBgs"
   },
   "source": [
    "**Correcto**\n",
    "__________________________________"
   ]
  },
  {
   "cell_type": "markdown",
   "metadata": {
    "colab_type": "text",
    "id": "dlHHLCPoUBgt"
   },
   "source": [
    "**Pregunta 48:** \n",
    "\n",
    "Color:![#c5f015](https://via.placeholder.com/15/c5f015/000000?text=+) <span style=\"color:green\"> Categórica nominal</span>\n",
    "![#0A6EF5](https://via.placeholder.com/15/0A6EF5/000000?text=+) <span style=\"color:blue\">Categória de referencia</span>\n",
    "![#F53F0A](https://via.placeholder.com/15/F53F0A/000000?text=+) <span style=\"color:red\"> Categórica ordinal</span>\n",
    "\n",
    "posibles respuestas:   \n",
    "\n",
    "|  #  |      significado       |  | \n",
    "|-----|------------------------|--|   \n",
    "| a   |           |![#0A6EF5](https://via.placeholder.com/15/0A6EF5/000000?text=+) <span style=\"color:blue\">Categoría de referencia</span>|     \n",
    "| b   |  |   |\n",
    "| c   |   |   |\n",
    "| d   |  |   |\n",
    "  "
   ]
  },
  {
   "cell_type": "code",
   "execution_count": null,
   "metadata": {
    "colab": {},
    "colab_type": "code",
    "id": "Q-cWMuDUUBgu",
    "outputId": "4e20cc5c-31c4-4924-dee5-157c31f684d7"
   },
   "outputs": [
    {
     "data": {
      "text/plain": [
       "['A', 'B', 'C', 'D', nan]"
      ]
     },
     "execution_count": 97,
     "metadata": {
      "tags": []
     },
     "output_type": "execute_result"
    }
   ],
   "source": [
    "dataset_unido['p48'].unique().tolist()"
   ]
  },
  {
   "cell_type": "markdown",
   "metadata": {
    "colab_type": "text",
    "id": "EL5qs-R_UBgw"
   },
   "source": [
    "**Correcto**\n",
    "__________________________________"
   ]
  },
  {
   "cell_type": "markdown",
   "metadata": {
    "colab_type": "text",
    "id": "dQtMBf4fUBgw"
   },
   "source": [
    "**Pregunta 49:** \n",
    "\n",
    "Color:![#c5f015](https://via.placeholder.com/15/c5f015/000000?text=+) <span style=\"color:green\"> Categórica nominal</span>\n",
    "![#0A6EF5](https://via.placeholder.com/15/0A6EF5/000000?text=+) <span style=\"color:blue\">Categória de referencia</span>\n",
    "![#F53F0A](https://via.placeholder.com/15/F53F0A/000000?text=+) <span style=\"color:red\"> Categórica ordinal</span>\n",
    "\n",
    "posibles respuestas:   \n",
    "\n",
    "|  #  |      significado       |  | \n",
    "|-----|------------------------|--|   \n",
    "| a   |           |![#0A6EF5](https://via.placeholder.com/15/0A6EF5/000000?text=+) <span style=\"color:blue\">Categoría de referencia</span>|     \n",
    "| b   |  |   |\n",
    "| c   |   |   |\n",
    "| d   |  |   |\n",
    "    "
   ]
  },
  {
   "cell_type": "code",
   "execution_count": null,
   "metadata": {
    "colab": {},
    "colab_type": "code",
    "id": "tivyLnAYUBgw",
    "outputId": "a1d0d79a-6b28-4bde-c297-39bd1c1db1eb"
   },
   "outputs": [
    {
     "data": {
      "text/plain": [
       "['A', 'B', 'D', 'C', nan]"
      ]
     },
     "execution_count": 98,
     "metadata": {
      "tags": []
     },
     "output_type": "execute_result"
    }
   ],
   "source": [
    "dataset_unido['p49'].unique().tolist()"
   ]
  },
  {
   "cell_type": "markdown",
   "metadata": {
    "colab_type": "text",
    "id": "dphSOCBAUBgy"
   },
   "source": [
    "**Correcto**\n",
    "__________________________________"
   ]
  },
  {
   "cell_type": "markdown",
   "metadata": {
    "colab_type": "text",
    "id": "-6upR1KoUBgy"
   },
   "source": [
    "**Pregunta 50:** \n",
    "\n",
    "Color:![#c5f015](https://via.placeholder.com/15/c5f015/000000?text=+) <span style=\"color:green\"> Categórica nominal</span>\n",
    "![#0A6EF5](https://via.placeholder.com/15/0A6EF5/000000?text=+) <span style=\"color:blue\">Categória de referencia</span>\n",
    "![#F53F0A](https://via.placeholder.com/15/F53F0A/000000?text=+) <span style=\"color:red\"> Categórica ordinal</span>\n",
    "\n",
    "posibles respuestas:   \n",
    "\n",
    "|  #  |      significado       |  | \n",
    "|-----|------------------------|--|   \n",
    "| a   |           |![#0A6EF5](https://via.placeholder.com/15/0A6EF5/000000?text=+) <span style=\"color:blue\">Categoría de referencia</span>|     \n",
    "| b   |  |   |\n",
    "| c   |   |   |\n",
    "| d   |  |   |\n",
    "   "
   ]
  },
  {
   "cell_type": "code",
   "execution_count": null,
   "metadata": {
    "colab": {},
    "colab_type": "code",
    "id": "VhoK8IqMUBgz",
    "outputId": "3a69c8f8-3dac-4e40-ad96-7f0cb75f8e3d"
   },
   "outputs": [
    {
     "data": {
      "text/plain": [
       "['B', 'A', 'C', 'D', nan]"
      ]
     },
     "execution_count": 99,
     "metadata": {
      "tags": []
     },
     "output_type": "execute_result"
    }
   ],
   "source": [
    "dataset_unido['p50'].unique().tolist()"
   ]
  },
  {
   "cell_type": "markdown",
   "metadata": {
    "colab_type": "text",
    "id": "pnLLa8MaUBg3"
   },
   "source": [
    "**Correcto**\n",
    "__________________________________"
   ]
  },
  {
   "cell_type": "markdown",
   "metadata": {
    "colab_type": "text",
    "id": "nmbdid_bUBg3"
   },
   "source": [
    "**Pregunta 51:** \n",
    "\n",
    "Color:![#c5f015](https://via.placeholder.com/15/c5f015/000000?text=+) <span style=\"color:green\"> Categórica nominal</span>\n",
    "![#0A6EF5](https://via.placeholder.com/15/0A6EF5/000000?text=+) <span style=\"color:blue\">Categória de referencia</span>\n",
    "![#F53F0A](https://via.placeholder.com/15/F53F0A/000000?text=+) <span style=\"color:red\"> Categórica ordinal</span>\n",
    "\n",
    "posibles respuestas:   \n",
    "\n",
    "|  #  |      significado       |  | \n",
    "|-----|------------------------|--|   \n",
    "| a   |           |![#0A6EF5](https://via.placeholder.com/15/0A6EF5/000000?text=+) <span style=\"color:blue\">Categoría de referencia</span>|     \n",
    "| b   |  |   |\n",
    "| c   |   |   |\n",
    "| d   |  |   |\n",
    "  "
   ]
  },
  {
   "cell_type": "code",
   "execution_count": null,
   "metadata": {
    "colab": {},
    "colab_type": "code",
    "id": "D2iY5koSUBg4",
    "outputId": "23ef70e4-be27-4de1-853c-4682dcf03f94"
   },
   "outputs": [
    {
     "data": {
      "text/plain": [
       "['A', 'B', 'C', 'D', nan]"
      ]
     },
     "execution_count": 100,
     "metadata": {
      "tags": []
     },
     "output_type": "execute_result"
    }
   ],
   "source": [
    "dataset_unido['p51'].unique().tolist()"
   ]
  },
  {
   "cell_type": "markdown",
   "metadata": {
    "colab_type": "text",
    "id": "8n7TlGxDUBg7"
   },
   "source": [
    "**Correcto**\n",
    "__________________________________"
   ]
  },
  {
   "cell_type": "markdown",
   "metadata": {
    "colab_type": "text",
    "id": "-9zAjkr9UBg9"
   },
   "source": [
    "**Pregunta 52:** \n",
    "\n",
    "Color:![#c5f015](https://via.placeholder.com/15/c5f015/000000?text=+) <span style=\"color:green\"> Categórica nominal</span>\n",
    "![#0A6EF5](https://via.placeholder.com/15/0A6EF5/000000?text=+) <span style=\"color:blue\">Categória de referencia</span>\n",
    "![#F53F0A](https://via.placeholder.com/15/F53F0A/000000?text=+) <span style=\"color:red\"> Categórica ordinal</span>\n",
    "\n",
    "posibles respuestas:   \n",
    "\n",
    "|  #  |      significado       |  | \n",
    "|-----|------------------------|--|   \n",
    "| a   |           |![#0A6EF5](https://via.placeholder.com/15/0A6EF5/000000?text=+) <span style=\"color:blue\">Categoría de referencia</span>|     \n",
    "| b   |  |   |\n",
    "| c   |   |   |\n",
    "| d   |  |   |\n"
   ]
  },
  {
   "cell_type": "code",
   "execution_count": null,
   "metadata": {
    "colab": {},
    "colab_type": "code",
    "id": "KEHh7-vrUBg9",
    "outputId": "1d89823d-e4d9-45e3-8874-9316e49392ff"
   },
   "outputs": [
    {
     "data": {
      "text/plain": [
       "['A', 'B', 'C', 'D', nan]"
      ]
     },
     "execution_count": 101,
     "metadata": {
      "tags": []
     },
     "output_type": "execute_result"
    }
   ],
   "source": [
    "dataset_unido['p52'].unique().tolist()"
   ]
  },
  {
   "cell_type": "markdown",
   "metadata": {
    "colab_type": "text",
    "id": "9_Aku_oUUBg_"
   },
   "source": [
    "**Correcto**\n",
    "__________________________________"
   ]
  },
  {
   "cell_type": "markdown",
   "metadata": {
    "colab_type": "text",
    "id": "W6-73WGmUBg_"
   },
   "source": [
    "**Pregunta 53:** \n",
    "\n",
    "Color:![#c5f015](https://via.placeholder.com/15/c5f015/000000?text=+) <span style=\"color:green\"> Categórica nominal</span>\n",
    "![#0A6EF5](https://via.placeholder.com/15/0A6EF5/000000?text=+) <span style=\"color:blue\">Categória de referencia</span>\n",
    "![#F53F0A](https://via.placeholder.com/15/F53F0A/000000?text=+) <span style=\"color:red\"> Categórica ordinal</span>\n",
    "\n",
    "posibles respuestas:   \n",
    "\n",
    "|  #  |      significado       |  | \n",
    "|-----|------------------------|--|   \n",
    "| a   |           |![#0A6EF5](https://via.placeholder.com/15/0A6EF5/000000?text=+) <span style=\"color:blue\">Categoría de referencia</span>|     \n",
    "| b   |  |   |\n",
    "| c   |   |   |\n",
    "| d   |  |   |\n",
    "    "
   ]
  },
  {
   "cell_type": "code",
   "execution_count": null,
   "metadata": {
    "colab": {},
    "colab_type": "code",
    "id": "xBwzaf2DUBhA",
    "outputId": "cf4a9324-b415-4eec-e2be-a3b65951948b"
   },
   "outputs": [
    {
     "data": {
      "text/plain": [
       "['B', 'C', 'A', 'D', nan]"
      ]
     },
     "execution_count": 102,
     "metadata": {
      "tags": []
     },
     "output_type": "execute_result"
    }
   ],
   "source": [
    "dataset_unido['p53'].unique().tolist()"
   ]
  },
  {
   "cell_type": "markdown",
   "metadata": {
    "colab_type": "text",
    "id": "8O53byr9UBhD"
   },
   "source": [
    "**Correcto**\n",
    "__________________________________"
   ]
  },
  {
   "cell_type": "markdown",
   "metadata": {
    "colab_type": "text",
    "id": "L98rRvVQUBhD"
   },
   "source": [
    "**Pregunta 54:** \n",
    "\n",
    "Color:![#c5f015](https://via.placeholder.com/15/c5f015/000000?text=+) <span style=\"color:green\"> Categórica nominal</span>\n",
    "![#0A6EF5](https://via.placeholder.com/15/0A6EF5/000000?text=+) <span style=\"color:blue\">Categória de referencia</span>\n",
    "![#F53F0A](https://via.placeholder.com/15/F53F0A/000000?text=+) <span style=\"color:red\"> Categórica ordinal</span>\n",
    "\n",
    "posibles respuestas:   \n",
    "\n",
    "|  #  |      significado       |  | \n",
    "|-----|------------------------|--|   \n",
    "| a   |           |![#0A6EF5](https://via.placeholder.com/15/0A6EF5/000000?text=+) <span style=\"color:blue\">Categoría de referencia</span>|     \n",
    "| b   |  |   |\n",
    "| c   |   |   |\n",
    "| d   |  |   |\n",
    "    "
   ]
  },
  {
   "cell_type": "code",
   "execution_count": null,
   "metadata": {
    "colab": {},
    "colab_type": "code",
    "id": "uDTX6jP-UBhE",
    "outputId": "a6888c23-e460-4ab0-b57f-13c43fb2f99c"
   },
   "outputs": [
    {
     "data": {
      "text/plain": [
       "['B', 'C', 'A', 'D', nan]"
      ]
     },
     "execution_count": 103,
     "metadata": {
      "tags": []
     },
     "output_type": "execute_result"
    }
   ],
   "source": [
    "dataset_unido['p54'].unique().tolist()"
   ]
  },
  {
   "cell_type": "markdown",
   "metadata": {
    "colab_type": "text",
    "id": "ZCAIIqKGUBhF"
   },
   "source": [
    "**Correcto**\n",
    "__________________________________"
   ]
  },
  {
   "cell_type": "markdown",
   "metadata": {
    "colab_type": "text",
    "id": "CoGOUTPOUBhF"
   },
   "source": [
    "**Pregunta 55:** \n",
    "\n",
    "Color:![#c5f015](https://via.placeholder.com/15/c5f015/000000?text=+) <span style=\"color:green\"> Categórica nominal</span>\n",
    "![#0A6EF5](https://via.placeholder.com/15/0A6EF5/000000?text=+) <span style=\"color:blue\">Categória de referencia</span>\n",
    "![#F53F0A](https://via.placeholder.com/15/F53F0A/000000?text=+) <span style=\"color:red\"> Categórica ordinal</span>\n",
    "\n",
    "posibles respuestas:   \n",
    "\n",
    "|  #  |      significado       |  | \n",
    "|-----|------------------------|--|   \n",
    "| a   |           |![#0A6EF5](https://via.placeholder.com/15/0A6EF5/000000?text=+) <span style=\"color:blue\">Categoría de referencia</span>|     \n",
    "| b   |  |   |\n",
    "| c   |   |   |\n",
    "| d   |  |   |\n"
   ]
  },
  {
   "cell_type": "code",
   "execution_count": 71,
   "metadata": {
    "colab": {
     "base_uri": "https://localhost:8080/",
     "height": 35
    },
    "colab_type": "code",
    "id": "Cn07LPZpUBhG",
    "outputId": "9084220e-9ff3-43b7-c617-edf097d852b0"
   },
   "outputs": [
    {
     "data": {
      "text/plain": [
       "['D', 'B', 'A', 'C', nan]"
      ]
     },
     "execution_count": 71,
     "metadata": {
      "tags": []
     },
     "output_type": "execute_result"
    }
   ],
   "source": [
    "dataset_unido['p55'].unique().tolist()"
   ]
  },
  {
   "cell_type": "markdown",
   "metadata": {
    "colab_type": "text",
    "id": "wlbRtmUDUBhJ"
   },
   "source": [
    "A pesar de que esta pregunta tiene respuestas a,b,c,d tiene algunas respuestas registradas como H,G,E, por lo que se convertirán a nulas."
   ]
  },
  {
   "cell_type": "code",
   "execution_count": null,
   "metadata": {
    "colab": {},
    "colab_type": "code",
    "id": "B8oTgo4rUBhJ"
   },
   "outputs": [],
   "source": [
    "dataset_unido.loc[dataset_unido[\"p55\"] == \"E\",\"p55\"] = np.nan\n",
    "dataset_unido.loc[dataset_unido[\"p55\"] == \"G\",\"p55\"] = np.nan\n",
    "dataset_unido.loc[dataset_unido[\"p55\"] == \"H\",\"p55\"] = np.nan"
   ]
  },
  {
   "cell_type": "code",
   "execution_count": 73,
   "metadata": {
    "colab": {
     "base_uri": "https://localhost:8080/",
     "height": 35
    },
    "colab_type": "code",
    "id": "dWbWqdvNUBhL",
    "outputId": "caf1b31d-1a21-423c-c263-13329fe51663"
   },
   "outputs": [
    {
     "data": {
      "text/plain": [
       "['D', 'B', 'A', 'C', nan]"
      ]
     },
     "execution_count": 73,
     "metadata": {
      "tags": []
     },
     "output_type": "execute_result"
    }
   ],
   "source": [
    "dataset_unido['p55'].unique().tolist()"
   ]
  },
  {
   "cell_type": "markdown",
   "metadata": {
    "colab_type": "text",
    "id": "snYeWFegUBhM"
   },
   "source": [
    "**Correcto**\n",
    "__________________________________"
   ]
  },
  {
   "cell_type": "markdown",
   "metadata": {
    "colab_type": "text",
    "id": "S8v4Gsx7UBhM"
   },
   "source": [
    "**Pregunta 56:** \n",
    "\n",
    "Color:![#c5f015](https://via.placeholder.com/15/c5f015/000000?text=+) <span style=\"color:green\"> Categórica nominal</span>\n",
    "![#0A6EF5](https://via.placeholder.com/15/0A6EF5/000000?text=+) <span style=\"color:blue\">Categória de referencia</span>\n",
    "![#F53F0A](https://via.placeholder.com/15/F53F0A/000000?text=+) <span style=\"color:red\"> Categórica ordinal</span>\n",
    "\n",
    "posibles respuestas:   \n",
    "\n",
    "|  #  |      significado       |  | \n",
    "|-----|------------------------|--|   \n",
    "| a   |           |![#0A6EF5](https://via.placeholder.com/15/0A6EF5/000000?text=+) <span style=\"color:blue\">Categoría de referencia</span>|     \n",
    "| b   |  |   |\n",
    "| c   |   |   |\n",
    "| d   |  |   |\n"
   ]
  },
  {
   "cell_type": "code",
   "execution_count": 75,
   "metadata": {
    "colab": {
     "base_uri": "https://localhost:8080/",
     "height": 35
    },
    "colab_type": "code",
    "id": "B_QY4uZkUBhM",
    "outputId": "e45e86bc-b5d6-47a5-d224-e39b2ce90853"
   },
   "outputs": [
    {
     "data": {
      "text/plain": [
       "['B', 'D', 'C', 'A', nan, 'G']"
      ]
     },
     "execution_count": 75,
     "metadata": {
      "tags": []
     },
     "output_type": "execute_result"
    }
   ],
   "source": [
    "dataset_unido['p56'].unique().tolist()"
   ]
  },
  {
   "cell_type": "markdown",
   "metadata": {
    "colab_type": "text",
    "id": "rxzyxcY6UBhO"
   },
   "source": [
    "A pesar de que esta pregunta tiene respuestas a,b,c,d tiene algunas respuestas registradas como G, por lo que se convertirán a nulas."
   ]
  },
  {
   "cell_type": "code",
   "execution_count": null,
   "metadata": {
    "colab": {},
    "colab_type": "code",
    "id": "G_2OkSLtUBhO"
   },
   "outputs": [],
   "source": [
    "dataset_unido.loc[dataset_unido[\"p56\"] == \"G\",\"p56\"] = np.nan"
   ]
  },
  {
   "cell_type": "code",
   "execution_count": 77,
   "metadata": {
    "colab": {
     "base_uri": "https://localhost:8080/",
     "height": 35
    },
    "colab_type": "code",
    "id": "5xZc62Q3UBhQ",
    "outputId": "2f8ba3a3-c502-4dfb-883f-859d5ce71573"
   },
   "outputs": [
    {
     "data": {
      "text/plain": [
       "['B', 'D', 'C', 'A', nan]"
      ]
     },
     "execution_count": 77,
     "metadata": {
      "tags": []
     },
     "output_type": "execute_result"
    }
   ],
   "source": [
    "dataset_unido['p56'].unique().tolist()"
   ]
  },
  {
   "cell_type": "markdown",
   "metadata": {
    "colab_type": "text",
    "id": "SpltYCCTUBhT"
   },
   "source": [
    "**Correcto**\n",
    "__________________________________"
   ]
  },
  {
   "cell_type": "markdown",
   "metadata": {
    "colab_type": "text",
    "id": "A70tPyHpUBhT"
   },
   "source": [
    "**Pregunta 57:** \n",
    "\n",
    "Color:![#c5f015](https://via.placeholder.com/15/c5f015/000000?text=+) <span style=\"color:green\"> Categórica nominal</span>\n",
    "![#0A6EF5](https://via.placeholder.com/15/0A6EF5/000000?text=+) <span style=\"color:blue\">Categória de referencia</span>\n",
    "![#F53F0A](https://via.placeholder.com/15/F53F0A/000000?text=+) <span style=\"color:red\"> Categórica ordinal</span>\n",
    "\n",
    "posibles respuestas:   \n",
    "\n",
    "|  #  |      significado       |  | \n",
    "|-----|------------------------|--|   \n",
    "| a   |           |![#0A6EF5](https://via.placeholder.com/15/0A6EF5/000000?text=+) <span style=\"color:blue\">Categoría de referencia</span>|     \n",
    "| b   |  |   |\n",
    "| c   |   |   |\n",
    "| d   |  |   |\n",
    "   "
   ]
  },
  {
   "cell_type": "code",
   "execution_count": 78,
   "metadata": {
    "colab": {
     "base_uri": "https://localhost:8080/",
     "height": 35
    },
    "colab_type": "code",
    "id": "1Wx42TSJUBhT",
    "outputId": "9d78f324-93ca-4082-bc1b-f99fdff5ae8b"
   },
   "outputs": [
    {
     "data": {
      "text/plain": [
       "['A', 'C', 'B', 'D', nan]"
      ]
     },
     "execution_count": 78,
     "metadata": {
      "tags": []
     },
     "output_type": "execute_result"
    }
   ],
   "source": [
    "dataset_unido['p57'].unique().tolist()"
   ]
  },
  {
   "cell_type": "markdown",
   "metadata": {
    "colab_type": "text",
    "id": "LLXLoEIYUBhW"
   },
   "source": [
    "**Correcto**\n",
    "__________________________________"
   ]
  },
  {
   "cell_type": "markdown",
   "metadata": {
    "colab_type": "text",
    "id": "GUIjQz05UBhW"
   },
   "source": [
    "**Pregunta 58:** \n",
    "\n",
    "Color:![#c5f015](https://via.placeholder.com/15/c5f015/000000?text=+) <span style=\"color:green\"> Categórica nominal</span>\n",
    "![#0A6EF5](https://via.placeholder.com/15/0A6EF5/000000?text=+) <span style=\"color:blue\">Categória de referencia</span>\n",
    "![#F53F0A](https://via.placeholder.com/15/F53F0A/000000?text=+) <span style=\"color:red\"> Categórica ordinal</span>\n",
    "\n",
    "posibles respuestas:   \n",
    "\n",
    "|  #  |      significado       |  | \n",
    "|-----|------------------------|--|   \n",
    "| a   |           |![#0A6EF5](https://via.placeholder.com/15/0A6EF5/000000?text=+) <span style=\"color:blue\">Categoría de referencia</span>|     \n",
    "| b   |  |   |\n",
    "| c   |   |   |\n",
    "| d   |  |   |\n",
    "   "
   ]
  },
  {
   "cell_type": "code",
   "execution_count": 79,
   "metadata": {
    "colab": {
     "base_uri": "https://localhost:8080/",
     "height": 35
    },
    "colab_type": "code",
    "id": "kq8RPpNMUBhX",
    "outputId": "8f39cd40-f4d3-4115-9ba0-7791bbed75e1"
   },
   "outputs": [
    {
     "data": {
      "text/plain": [
       "['A', 'C', 'B', 'D', nan, 'E']"
      ]
     },
     "execution_count": 79,
     "metadata": {
      "tags": []
     },
     "output_type": "execute_result"
    }
   ],
   "source": [
    "dataset_unido['p58'].unique().tolist()"
   ]
  },
  {
   "cell_type": "markdown",
   "metadata": {
    "colab_type": "text",
    "id": "7U1rHSGTUBhY"
   },
   "source": [
    "A pesar de que esta pregunta tiene respuestas a,b,c,d tiene algunas respuestas registradas como E, por lo que se convertirán a nulas."
   ]
  },
  {
   "cell_type": "code",
   "execution_count": null,
   "metadata": {
    "colab": {},
    "colab_type": "code",
    "id": "pNaK33_AUBhY"
   },
   "outputs": [],
   "source": [
    "dataset_unido.loc[dataset_unido[\"p58\"] == \"E\",\"p58\"] = np.nan"
   ]
  },
  {
   "cell_type": "code",
   "execution_count": 81,
   "metadata": {
    "colab": {
     "base_uri": "https://localhost:8080/",
     "height": 35
    },
    "colab_type": "code",
    "id": "HEoOVWnkUBha",
    "outputId": "7659f25c-c206-46c5-abea-74d1abb0edc9"
   },
   "outputs": [
    {
     "data": {
      "text/plain": [
       "['A', 'C', 'B', 'D', nan]"
      ]
     },
     "execution_count": 81,
     "metadata": {
      "tags": []
     },
     "output_type": "execute_result"
    }
   ],
   "source": [
    "dataset_unido['p58'].unique().tolist()"
   ]
  },
  {
   "cell_type": "markdown",
   "metadata": {
    "colab_type": "text",
    "id": "iTxL4d2jUBhc"
   },
   "source": [
    "**Correcto**\n",
    "__________________________________"
   ]
  },
  {
   "cell_type": "markdown",
   "metadata": {
    "colab_type": "text",
    "id": "wXIiiSbLUBhc"
   },
   "source": [
    "**Pregunta 59:** \n",
    "\n",
    "Color:![#c5f015](https://via.placeholder.com/15/c5f015/000000?text=+) <span style=\"color:green\"> Categórica nominal</span>\n",
    "![#0A6EF5](https://via.placeholder.com/15/0A6EF5/000000?text=+) <span style=\"color:blue\">Categória de referencia</span>\n",
    "![#F53F0A](https://via.placeholder.com/15/F53F0A/000000?text=+) <span style=\"color:red\"> Categórica ordinal</span>\n",
    "\n",
    "posibles respuestas:   \n",
    "\n",
    "|  #  |      significado       |  | \n",
    "|-----|------------------------|--|   \n",
    "| a   |           |![#0A6EF5](https://via.placeholder.com/15/0A6EF5/000000?text=+) <span style=\"color:blue\">Categoría de referencia</span>|     \n",
    "| b   |  |   |\n",
    "| c   |   |   |\n",
    "| d   |  |   |\n",
    "  "
   ]
  },
  {
   "cell_type": "code",
   "execution_count": 82,
   "metadata": {
    "colab": {
     "base_uri": "https://localhost:8080/",
     "height": 35
    },
    "colab_type": "code",
    "id": "ykdAbEtAUBhc",
    "outputId": "f111f99b-0340-4e76-c277-dfe03fc142c0"
   },
   "outputs": [
    {
     "data": {
      "text/plain": [
       "['A', 'B', 'C', 'D', nan]"
      ]
     },
     "execution_count": 82,
     "metadata": {
      "tags": []
     },
     "output_type": "execute_result"
    }
   ],
   "source": [
    "dataset_unido['p59'].unique().tolist()"
   ]
  },
  {
   "cell_type": "markdown",
   "metadata": {
    "colab_type": "text",
    "id": "s5BAJ0tBUBhd"
   },
   "source": [
    "**Correcto**\n",
    "__________________________________"
   ]
  },
  {
   "cell_type": "markdown",
   "metadata": {
    "colab_type": "text",
    "id": "jSigGHu6UBhe"
   },
   "source": [
    "**Pregunta 60:** \n",
    "\n",
    "Color:![#c5f015](https://via.placeholder.com/15/c5f015/000000?text=+) <span style=\"color:green\"> Categórica nominal</span>\n",
    "![#0A6EF5](https://via.placeholder.com/15/0A6EF5/000000?text=+) <span style=\"color:blue\">Categória de referencia</span>\n",
    "![#F53F0A](https://via.placeholder.com/15/F53F0A/000000?text=+) <span style=\"color:red\"> Categórica ordinal</span>\n",
    "\n",
    "posibles respuestas:   \n",
    "\n",
    "|  #  |      significado       |  | \n",
    "|-----|------------------------|--|   \n",
    "| a   |           |![#0A6EF5](https://via.placeholder.com/15/0A6EF5/000000?text=+) <span style=\"color:blue\">Categoría de referencia</span>|     \n",
    "| b   |  |   |\n",
    "| c   |   |   |\n",
    "| d   |  |   |\n",
    "    "
   ]
  },
  {
   "cell_type": "code",
   "execution_count": 83,
   "metadata": {
    "colab": {
     "base_uri": "https://localhost:8080/",
     "height": 35
    },
    "colab_type": "code",
    "id": "KzH8ZHjMUBhf",
    "outputId": "f0ce769d-836e-400c-cb2d-2cedf4468d76"
   },
   "outputs": [
    {
     "data": {
      "text/plain": [
       "['A', 'C', 'B', 'D', nan]"
      ]
     },
     "execution_count": 83,
     "metadata": {
      "tags": []
     },
     "output_type": "execute_result"
    }
   ],
   "source": [
    "dataset_unido['p60'].unique().tolist()"
   ]
  },
  {
   "cell_type": "markdown",
   "metadata": {
    "colab_type": "text",
    "id": "y3EUD6kYUBhg"
   },
   "source": [
    "**Correcto**\n",
    "__________________________________"
   ]
  },
  {
   "cell_type": "markdown",
   "metadata": {
    "colab_type": "text",
    "id": "1JPRxQPBUBhh"
   },
   "source": [
    "**Pregunta 61:** \n",
    "\n",
    "Color:![#c5f015](https://via.placeholder.com/15/c5f015/000000?text=+) <span style=\"color:green\"> Categórica nominal</span>\n",
    "![#0A6EF5](https://via.placeholder.com/15/0A6EF5/000000?text=+) <span style=\"color:blue\">Categória de referencia</span>\n",
    "![#F53F0A](https://via.placeholder.com/15/F53F0A/000000?text=+) <span style=\"color:red\"> Categórica ordinal</span>\n",
    "\n",
    "posibles respuestas:   \n",
    "\n",
    "|  #  |      significado       |  | \n",
    "|-----|------------------------|--|   \n",
    "| a   |           |![#0A6EF5](https://via.placeholder.com/15/0A6EF5/000000?text=+) <span style=\"color:blue\">Categoría de referencia</span>|     \n",
    "| b   |  |   |\n",
    "| c   |   |   |\n",
    "| d   |  |   |\n",
    "| e   |   |   |\n",
    "   "
   ]
  },
  {
   "cell_type": "code",
   "execution_count": 84,
   "metadata": {
    "colab": {
     "base_uri": "https://localhost:8080/",
     "height": 35
    },
    "colab_type": "code",
    "id": "l9TIcC4fUBhh",
    "outputId": "002ea68b-6461-4577-8777-81d053891de3"
   },
   "outputs": [
    {
     "data": {
      "text/plain": [
       "['E', 'D', 'C', 'B', 'A', nan]"
      ]
     },
     "execution_count": 84,
     "metadata": {
      "tags": []
     },
     "output_type": "execute_result"
    }
   ],
   "source": [
    "dataset_unido['p61'].unique().tolist()"
   ]
  },
  {
   "cell_type": "markdown",
   "metadata": {
    "colab_type": "text",
    "id": "SdVh9Um4UBhj"
   },
   "source": [
    "**Correcto**\n",
    "__________________________________"
   ]
  },
  {
   "cell_type": "markdown",
   "metadata": {
    "colab_type": "text",
    "id": "QZLYOvDdUBhj"
   },
   "source": [
    "**Pregunta 62:** \n",
    "\n",
    "Color:![#c5f015](https://via.placeholder.com/15/c5f015/000000?text=+) <span style=\"color:green\"> Categórica nominal</span>\n",
    "![#0A6EF5](https://via.placeholder.com/15/0A6EF5/000000?text=+) <span style=\"color:blue\">Categória de referencia</span>\n",
    "![#F53F0A](https://via.placeholder.com/15/F53F0A/000000?text=+) <span style=\"color:red\"> Categórica ordinal</span>\n",
    "\n",
    "posibles respuestas:   \n",
    "\n",
    "|  #  |      significado       |  | \n",
    "|-----|------------------------|--|   \n",
    "| a   |           |![#0A6EF5](https://via.placeholder.com/15/0A6EF5/000000?text=+) <span style=\"color:blue\">Categoría de referencia</span>|     \n",
    "| b   |  |   |\n",
    "| c   |   |   |\n",
    "| d   |  |   |\n",
    "| e   |   |   |\n",
    "   "
   ]
  },
  {
   "cell_type": "code",
   "execution_count": 85,
   "metadata": {
    "colab": {
     "base_uri": "https://localhost:8080/",
     "height": 35
    },
    "colab_type": "code",
    "id": "Hsb6D3MPUBhk",
    "outputId": "ac325834-90de-471d-a461-10356eaab798"
   },
   "outputs": [
    {
     "data": {
      "text/plain": [
       "['B', 'C', 'E', 'A', 'D', nan]"
      ]
     },
     "execution_count": 85,
     "metadata": {
      "tags": []
     },
     "output_type": "execute_result"
    }
   ],
   "source": [
    "dataset_unido['p62'].unique().tolist()"
   ]
  },
  {
   "cell_type": "markdown",
   "metadata": {
    "colab_type": "text",
    "id": "xdCgHOS0UBhl"
   },
   "source": [
    "**Correcto**\n",
    "__________________________________"
   ]
  },
  {
   "cell_type": "markdown",
   "metadata": {
    "colab_type": "text",
    "id": "RBMb2owSUBhl"
   },
   "source": [
    "**Pregunta 63:** \n",
    "\n",
    "Color:![#c5f015](https://via.placeholder.com/15/c5f015/000000?text=+) <span style=\"color:green\"> Categórica nominal</span>\n",
    "![#0A6EF5](https://via.placeholder.com/15/0A6EF5/000000?text=+) <span style=\"color:blue\">Categória de referencia</span>\n",
    "![#F53F0A](https://via.placeholder.com/15/F53F0A/000000?text=+) <span style=\"color:red\"> Categórica ordinal</span>\n",
    "\n",
    "posibles respuestas:   \n",
    "\n",
    "|  #  |      significado       |  | \n",
    "|-----|------------------------|--|   \n",
    "| a   |           |![#0A6EF5](https://via.placeholder.com/15/0A6EF5/000000?text=+) <span style=\"color:blue\">Categoría de referencia</span>|     \n",
    "| b   |  |   |\n",
    "| c   |   |   |\n",
    "| d   |  |   |\n",
    "| e   |   |   |\n",
    " "
   ]
  },
  {
   "cell_type": "code",
   "execution_count": 86,
   "metadata": {
    "colab": {
     "base_uri": "https://localhost:8080/",
     "height": 35
    },
    "colab_type": "code",
    "id": "s8shFuI1UBhm",
    "outputId": "8185edd1-aa89-419f-8cea-ea0953a10442"
   },
   "outputs": [
    {
     "data": {
      "text/plain": [
       "['B', 'C', 'A', 'E', 'D', nan]"
      ]
     },
     "execution_count": 86,
     "metadata": {
      "tags": []
     },
     "output_type": "execute_result"
    }
   ],
   "source": [
    "dataset_unido['p63'].unique().tolist()"
   ]
  },
  {
   "cell_type": "markdown",
   "metadata": {
    "colab_type": "text",
    "id": "UbsnHuCZUBhq"
   },
   "source": [
    "**Correcto**\n",
    "__________________________________"
   ]
  },
  {
   "cell_type": "markdown",
   "metadata": {
    "colab_type": "text",
    "id": "uVv9VkGFUBhq"
   },
   "source": [
    "**Pregunta 64:** \n",
    "\n",
    "Color:![#c5f015](https://via.placeholder.com/15/c5f015/000000?text=+) <span style=\"color:green\"> Categórica nominal</span>\n",
    "![#0A6EF5](https://via.placeholder.com/15/0A6EF5/000000?text=+) <span style=\"color:blue\">Categória de referencia</span>\n",
    "![#F53F0A](https://via.placeholder.com/15/F53F0A/000000?text=+) <span style=\"color:red\"> Categórica ordinal</span>\n",
    "\n",
    "posibles respuestas:   \n",
    "\n",
    "|  #  |      significado       |  | \n",
    "|-----|------------------------|--|   \n",
    "| a   |           |![#0A6EF5](https://via.placeholder.com/15/0A6EF5/000000?text=+) <span style=\"color:blue\">Categoría de referencia</span>|     \n",
    "| b   |  |   |\n",
    "| c   |   |   |\n",
    "| d   |  |   |\n",
    "| e   |   |   |\n",
    "   "
   ]
  },
  {
   "cell_type": "code",
   "execution_count": 87,
   "metadata": {
    "colab": {
     "base_uri": "https://localhost:8080/",
     "height": 35
    },
    "colab_type": "code",
    "id": "4OTUMmMnUBhr",
    "outputId": "856ad57b-9d58-43c8-d25d-898255bd07b7"
   },
   "outputs": [
    {
     "data": {
      "text/plain": [
       "['A', 'B', 'C', 'D', 'E', nan]"
      ]
     },
     "execution_count": 87,
     "metadata": {
      "tags": []
     },
     "output_type": "execute_result"
    }
   ],
   "source": [
    "dataset_unido['p64'].unique().tolist()"
   ]
  },
  {
   "cell_type": "markdown",
   "metadata": {
    "colab_type": "text",
    "id": "TgDrlBc2UBhs"
   },
   "source": [
    "**Correcto**\n",
    "__________________________________"
   ]
  },
  {
   "cell_type": "markdown",
   "metadata": {
    "colab_type": "text",
    "id": "t0rZyMfpUBht"
   },
   "source": [
    "**Pregunta 65:** \n",
    "\n",
    "Color:![#c5f015](https://via.placeholder.com/15/c5f015/000000?text=+) <span style=\"color:green\"> Categórica nominal</span>\n",
    "![#0A6EF5](https://via.placeholder.com/15/0A6EF5/000000?text=+) <span style=\"color:blue\">Categória de referencia</span>\n",
    "![#F53F0A](https://via.placeholder.com/15/F53F0A/000000?text=+) <span style=\"color:red\"> Categórica ordinal</span>\n",
    "\n",
    "posibles respuestas:   \n",
    "\n",
    "|  #  |      significado       |  | \n",
    "|-----|------------------------|--|   \n",
    "| a   |           |![#0A6EF5](https://via.placeholder.com/15/0A6EF5/000000?text=+) <span style=\"color:blue\">Categoría de referencia</span>|     \n",
    "| b   |  |   |\n",
    "| c   |   |   |\n",
    "| d   |  |   |\n",
    "| e   |   |   |\n",
    "| f   |   |   |\n",
    "| g   |   |   |\n",
    "| h   |  |   |\n",
    "   "
   ]
  },
  {
   "cell_type": "code",
   "execution_count": 88,
   "metadata": {
    "colab": {
     "base_uri": "https://localhost:8080/",
     "height": 35
    },
    "colab_type": "code",
    "id": "OK1bdq1qUBht",
    "outputId": "0165f37a-a49d-4763-f07f-1f39073c5465"
   },
   "outputs": [
    {
     "data": {
      "text/plain": [
       "['A', 'F', 'E', 'C', 'B', 'D', 'H', 'G', nan]"
      ]
     },
     "execution_count": 88,
     "metadata": {
      "tags": []
     },
     "output_type": "execute_result"
    }
   ],
   "source": [
    "dataset_unido['p65'].unique().tolist()"
   ]
  },
  {
   "cell_type": "markdown",
   "metadata": {
    "colab_type": "text",
    "id": "E_TOstCCUBhv"
   },
   "source": [
    "**Correcto**\n",
    "__________________________________"
   ]
  },
  {
   "cell_type": "markdown",
   "metadata": {
    "colab_type": "text",
    "id": "FqQGLYxrUBhv"
   },
   "source": [
    "**Pregunta 66:** \n",
    "\n",
    "Color:![#c5f015](https://via.placeholder.com/15/c5f015/000000?text=+) <span style=\"color:green\"> Categórica nominal</span>\n",
    "![#0A6EF5](https://via.placeholder.com/15/0A6EF5/000000?text=+) <span style=\"color:blue\">Categória de referencia</span>\n",
    "![#F53F0A](https://via.placeholder.com/15/F53F0A/000000?text=+) <span style=\"color:red\"> Categórica ordinal</span>\n",
    "\n",
    "posibles respuestas:   \n",
    "\n",
    "|  #  |      significado       |  | \n",
    "|-----|------------------------|--|   \n",
    "| a   |           |![#0A6EF5](https://via.placeholder.com/15/0A6EF5/000000?text=+) <span style=\"color:blue\">Categoría de referencia</span>|     \n",
    "| b   |  |   |\n",
    "| c   |   |   |\n",
    "| d   |  |   |\n",
    "| e   |   |   |\n",
    "  "
   ]
  },
  {
   "cell_type": "code",
   "execution_count": 89,
   "metadata": {
    "colab": {
     "base_uri": "https://localhost:8080/",
     "height": 35
    },
    "colab_type": "code",
    "id": "9fEWRkUOUBhw",
    "outputId": "e1407884-37c5-4221-dc4f-42747459738f"
   },
   "outputs": [
    {
     "data": {
      "text/plain": [
       "['A', 'B', 'C', 'E', 'D', nan, 'G']"
      ]
     },
     "execution_count": 89,
     "metadata": {
      "tags": []
     },
     "output_type": "execute_result"
    }
   ],
   "source": [
    "dataset_unido['p66'].unique().tolist()"
   ]
  },
  {
   "cell_type": "markdown",
   "metadata": {
    "colab_type": "text",
    "id": "rSEpQlOUUBhy"
   },
   "source": [
    "A pesar de que esta pregunta tiene respuestas a,b,c,d,e tiene algunas respuestas registradas como G, por lo que se convertirán a nulas."
   ]
  },
  {
   "cell_type": "code",
   "execution_count": null,
   "metadata": {
    "colab": {},
    "colab_type": "code",
    "id": "re1kJaCuUBhz"
   },
   "outputs": [],
   "source": [
    "dataset_unido.loc[dataset_unido[\"p66\"] == \"G\",\"p66\"] = np.nan"
   ]
  },
  {
   "cell_type": "code",
   "execution_count": 91,
   "metadata": {
    "colab": {
     "base_uri": "https://localhost:8080/",
     "height": 35
    },
    "colab_type": "code",
    "id": "Lc4UWOr7UBh6",
    "outputId": "64d3b174-4bcf-4161-87fe-d6e2481c2588"
   },
   "outputs": [
    {
     "data": {
      "text/plain": [
       "['A', 'B', 'C', 'E', 'D', nan]"
      ]
     },
     "execution_count": 91,
     "metadata": {
      "tags": []
     },
     "output_type": "execute_result"
    }
   ],
   "source": [
    "dataset_unido['p66'].unique().tolist()"
   ]
  },
  {
   "cell_type": "markdown",
   "metadata": {
    "colab_type": "text",
    "id": "fIPI0hl-UBh7"
   },
   "source": [
    "**Correcto**\n",
    "__________________________________"
   ]
  },
  {
   "cell_type": "markdown",
   "metadata": {
    "colab_type": "text",
    "id": "9oHiDvGjUBh8"
   },
   "source": [
    "**Pregunta 67:** \n",
    "\n",
    "Color:![#c5f015](https://via.placeholder.com/15/c5f015/000000?text=+) <span style=\"color:green\"> Categórica nominal</span>\n",
    "![#0A6EF5](https://via.placeholder.com/15/0A6EF5/000000?text=+) <span style=\"color:blue\">Categória de referencia</span>\n",
    "![#F53F0A](https://via.placeholder.com/15/F53F0A/000000?text=+) <span style=\"color:red\"> Categórica ordinal</span>\n",
    "\n",
    "posibles respuestas:   \n",
    "\n",
    "|  #  |      significado       |  | \n",
    "|-----|------------------------|--|   \n",
    "| a   |           |![#0A6EF5](https://via.placeholder.com/15/0A6EF5/000000?text=+) <span style=\"color:blue\">Categoría de referencia</span>|     \n",
    "| b   |  |   |\n",
    "| c   |   |   |\n",
    "| d   |  |   |\n",
    "| e   |   |   |\n",
    "    "
   ]
  },
  {
   "cell_type": "code",
   "execution_count": 92,
   "metadata": {
    "colab": {
     "base_uri": "https://localhost:8080/",
     "height": 35
    },
    "colab_type": "code",
    "id": "Vw9gKA7GUBh8",
    "outputId": "e6738a7e-43f8-4135-c478-c124a6ca9080"
   },
   "outputs": [
    {
     "data": {
      "text/plain": [
       "['A', 'B', 'C', nan, 'D', 'E']"
      ]
     },
     "execution_count": 92,
     "metadata": {
      "tags": []
     },
     "output_type": "execute_result"
    }
   ],
   "source": [
    "dataset_unido['p67'].unique().tolist()"
   ]
  },
  {
   "cell_type": "markdown",
   "metadata": {
    "colab_type": "text",
    "id": "qAHLP0RwUBh9"
   },
   "source": [
    "**Correcto**\n",
    "__________________________________"
   ]
  },
  {
   "cell_type": "markdown",
   "metadata": {
    "colab_type": "text",
    "id": "vwOJSUCgUBh-"
   },
   "source": [
    "**Pregunta 68:** \n",
    "\n",
    "Color:![#c5f015](https://via.placeholder.com/15/c5f015/000000?text=+) <span style=\"color:green\"> Categórica nominal</span>\n",
    "![#0A6EF5](https://via.placeholder.com/15/0A6EF5/000000?text=+) <span style=\"color:blue\">Categória de referencia</span>\n",
    "![#F53F0A](https://via.placeholder.com/15/F53F0A/000000?text=+) <span style=\"color:red\"> Categórica ordinal</span>\n",
    "\n",
    "posibles respuestas:   \n",
    "\n",
    "|  #  |      significado       |  | \n",
    "|-----|------------------------|--|   \n",
    "| a   |           |![#0A6EF5](https://via.placeholder.com/15/0A6EF5/000000?text=+) <span style=\"color:blue\">Categoría de referencia</span>|     \n",
    "| b   |  |   |\n",
    "| c   |   |   |\n",
    "| d   |  |   |\n",
    "| e   |   |   |\n",
    "| f   |   |   |\n",
    "| g   |   |   |\n",
    "| h   |  |   |\n",
    "| i   |   |   |\n",
    "  "
   ]
  },
  {
   "cell_type": "code",
   "execution_count": 93,
   "metadata": {
    "colab": {
     "base_uri": "https://localhost:8080/",
     "height": 35
    },
    "colab_type": "code",
    "id": "RWkoLmrVUBh_",
    "outputId": "c5c31104-e4ef-4c52-8994-403c88b42afb"
   },
   "outputs": [
    {
     "data": {
      "text/plain": [
       "['E', 'D', 'G', 'C', 'F', 'H', 'I', nan, 'B', 'A']"
      ]
     },
     "execution_count": 93,
     "metadata": {
      "tags": []
     },
     "output_type": "execute_result"
    }
   ],
   "source": [
    "dataset_unido['p68'].unique().tolist()"
   ]
  },
  {
   "cell_type": "markdown",
   "metadata": {
    "colab_type": "text",
    "id": "fy-gnH-jUBiB"
   },
   "source": [
    "**Correcto**\n",
    "__________________________________"
   ]
  },
  {
   "cell_type": "markdown",
   "metadata": {
    "colab_type": "text",
    "id": "5aUcQXVpUBiB"
   },
   "source": [
    "**Pregunta 69:** \n",
    "\n",
    "Color:![#c5f015](https://via.placeholder.com/15/c5f015/000000?text=+) <span style=\"color:green\"> Categórica nominal</span>\n",
    "![#0A6EF5](https://via.placeholder.com/15/0A6EF5/000000?text=+) <span style=\"color:blue\">Categória de referencia</span>\n",
    "![#F53F0A](https://via.placeholder.com/15/F53F0A/000000?text=+) <span style=\"color:red\"> Categórica ordinal</span>\n",
    "\n",
    "posibles respuestas:   \n",
    "\n",
    "|  #  |      significado       |  | \n",
    "|-----|------------------------|--|   \n",
    "| a   |           |![#0A6EF5](https://via.placeholder.com/15/0A6EF5/000000?text=+) <span style=\"color:blue\">Categoría de referencia</span>|     \n",
    "| b   |  |   |\n",
    "   "
   ]
  },
  {
   "cell_type": "code",
   "execution_count": 95,
   "metadata": {
    "colab": {
     "base_uri": "https://localhost:8080/",
     "height": 35
    },
    "colab_type": "code",
    "id": "h9K4g5PSUBiC",
    "outputId": "a1cb63bf-e918-4d1f-e244-903cc4ccf6ac"
   },
   "outputs": [
    {
     "data": {
      "text/plain": [
       "['A', 'B', nan, 'C', 'N', 'E', 'G', 'S', 'D', 'F']"
      ]
     },
     "execution_count": 95,
     "metadata": {
      "tags": []
     },
     "output_type": "execute_result"
    }
   ],
   "source": [
    "dataset_unido['p69'].unique().tolist()"
   ]
  },
  {
   "cell_type": "markdown",
   "metadata": {
    "colab_type": "text",
    "id": "Ms7lvR1FUBiD"
   },
   "source": [
    "A pesar de que esta pregunta tiene respuestas a y b, tiene algunas otras respuestas registradas, por lo que se convertirán a nulas."
   ]
  },
  {
   "cell_type": "code",
   "execution_count": null,
   "metadata": {
    "colab": {},
    "colab_type": "code",
    "id": "oE6ddYQDUBiD"
   },
   "outputs": [],
   "source": [
    "dataset_unido.loc[dataset_unido[\"p69\"] == \"C\",\"p69\"] = np.nan\n",
    "dataset_unido.loc[dataset_unido[\"p69\"] == \"D\",\"p69\"] = np.nan\n",
    "dataset_unido.loc[dataset_unido[\"p69\"] == \"E\",\"p69\"] = np.nan\n",
    "dataset_unido.loc[dataset_unido[\"p69\"] == \"F\",\"p69\"] = np.nan\n",
    "dataset_unido.loc[dataset_unido[\"p69\"] == \"G\",\"p69\"] = np.nan\n",
    "dataset_unido.loc[dataset_unido[\"p69\"] == \"N\",\"p69\"] = np.nan\n",
    "dataset_unido.loc[dataset_unido[\"p69\"] == \"S\",\"p69\"] = np.nan"
   ]
  },
  {
   "cell_type": "code",
   "execution_count": 97,
   "metadata": {
    "colab": {
     "base_uri": "https://localhost:8080/",
     "height": 35
    },
    "colab_type": "code",
    "id": "2xn0HvVCUBiF",
    "outputId": "e3fad30d-dfa5-4ca1-b526-56adf682c749"
   },
   "outputs": [
    {
     "data": {
      "text/plain": [
       "['A', 'B', nan]"
      ]
     },
     "execution_count": 97,
     "metadata": {
      "tags": []
     },
     "output_type": "execute_result"
    }
   ],
   "source": [
    "dataset_unido['p69'].unique().tolist()"
   ]
  },
  {
   "cell_type": "markdown",
   "metadata": {
    "colab_type": "text",
    "id": "6GiO3_S-UBiH"
   },
   "source": [
    "**Correcto**\n",
    "__________________________________"
   ]
  },
  {
   "cell_type": "markdown",
   "metadata": {
    "colab_type": "text",
    "id": "8q8U5rzuUBiH"
   },
   "source": [
    "**Pregunta 70:** \n",
    "\n",
    "Color:![#c5f015](https://via.placeholder.com/15/c5f015/000000?text=+) <span style=\"color:green\"> Categórica nominal</span>\n",
    "![#0A6EF5](https://via.placeholder.com/15/0A6EF5/000000?text=+) <span style=\"color:blue\">Categória de referencia</span>\n",
    "![#F53F0A](https://via.placeholder.com/15/F53F0A/000000?text=+) <span style=\"color:red\"> Categórica ordinal</span>\n",
    "\n",
    "posibles respuestas:   \n",
    "\n",
    "|  #  |      significado       |  | \n",
    "|-----|------------------------|--|   \n",
    "| a   |           |![#0A6EF5](https://via.placeholder.com/15/0A6EF5/000000?text=+) <span style=\"color:blue\">Categoría de referencia</span>|     \n",
    "| b   |  |   |\n",
    "| c   |   |   |\n",
    "| d   |  |   |\n",
    "| e   |   |   |\n",
    "| f   |   |   |\n",
    "| g   |   |   |\n",
    "| h   |  |   |\n",
    "   "
   ]
  },
  {
   "cell_type": "code",
   "execution_count": 98,
   "metadata": {
    "colab": {
     "base_uri": "https://localhost:8080/",
     "height": 35
    },
    "colab_type": "code",
    "id": "m3iTDuX0UBiH",
    "outputId": "c9b5abbc-2c64-4f49-99dc-31f218f62f8f"
   },
   "outputs": [
    {
     "data": {
      "text/plain": [
       "['A', 'B', 'C', 'D', nan, 'E', 'H', 'F', 'G']"
      ]
     },
     "execution_count": 98,
     "metadata": {
      "tags": []
     },
     "output_type": "execute_result"
    }
   ],
   "source": [
    "dataset_unido['p70'].unique().tolist()"
   ]
  },
  {
   "cell_type": "markdown",
   "metadata": {
    "colab_type": "text",
    "id": "q4p0rkqVUBiJ"
   },
   "source": [
    "**Correcto**\n",
    "__________________________________"
   ]
  },
  {
   "cell_type": "markdown",
   "metadata": {
    "colab_type": "text",
    "id": "XDBzVQDEUBiK"
   },
   "source": [
    "**Pregunta 71:** \n",
    "\n",
    "Color:![#c5f015](https://via.placeholder.com/15/c5f015/000000?text=+) <span style=\"color:green\"> Categórica nominal</span>\n",
    "![#0A6EF5](https://via.placeholder.com/15/0A6EF5/000000?text=+) <span style=\"color:blue\">Categória de referencia</span>\n",
    "![#F53F0A](https://via.placeholder.com/15/F53F0A/000000?text=+) <span style=\"color:red\"> Categórica ordinal</span>\n",
    "\n",
    "posibles respuestas:   \n",
    "\n",
    "|  #  |      significado       |  | \n",
    "|-----|------------------------|--|   \n",
    "| a   |           |![#0A6EF5](https://via.placeholder.com/15/0A6EF5/000000?text=+) <span style=\"color:blue\">Categoría de referencia</span>|     \n",
    "| b   |  |   |\n",
    "| c   |   |   |\n",
    "| d   |  |   |\n",
    "| e   |   |   |\n",
    "| f   |   |   |\n",
    "| g   |   |   |\n",
    "| h   |  |   |\n",
    "| i   |   |   |\n",
    " "
   ]
  },
  {
   "cell_type": "code",
   "execution_count": 99,
   "metadata": {
    "colab": {
     "base_uri": "https://localhost:8080/",
     "height": 35
    },
    "colab_type": "code",
    "id": "iKYDCC4XUBiL",
    "outputId": "e2147f9a-c3f2-4e4c-9a86-1e407ae15b96"
   },
   "outputs": [
    {
     "data": {
      "text/plain": [
       "['E', 'C', 'F', 'G', 'D', 'B', 'H', nan, 'A', 'I']"
      ]
     },
     "execution_count": 99,
     "metadata": {
      "tags": []
     },
     "output_type": "execute_result"
    }
   ],
   "source": [
    "dataset_unido['p71'].unique().tolist()"
   ]
  },
  {
   "cell_type": "markdown",
   "metadata": {
    "colab_type": "text",
    "id": "_05WeaPlUBiN"
   },
   "source": [
    "**Correcto**\n",
    "__________________________________"
   ]
  },
  {
   "cell_type": "markdown",
   "metadata": {
    "colab_type": "text",
    "id": "MR-fkSB_UBiN"
   },
   "source": [
    "**Pregunta 72:** \n",
    "\n",
    "Color:![#c5f015](https://via.placeholder.com/15/c5f015/000000?text=+) <span style=\"color:green\"> Categórica nominal</span>\n",
    "![#0A6EF5](https://via.placeholder.com/15/0A6EF5/000000?text=+) <span style=\"color:blue\">Categória de referencia</span>\n",
    "![#F53F0A](https://via.placeholder.com/15/F53F0A/000000?text=+) <span style=\"color:red\"> Categórica ordinal</span>\n",
    "\n",
    "posibles respuestas:   \n",
    "\n",
    "|  #  |      significado       |  | \n",
    "|-----|------------------------|--|   \n",
    "| a   |           |![#0A6EF5](https://via.placeholder.com/15/0A6EF5/000000?text=+) <span style=\"color:blue\">Categoría de referencia</span>|     \n",
    "| b   |  |   |\n",
    "| c   |   |   |\n",
    "| d   |  |   |\n",
    "| e   |   |   |\n",
    "| f   |   |   |\n",
    "   "
   ]
  },
  {
   "cell_type": "code",
   "execution_count": 100,
   "metadata": {
    "colab": {
     "base_uri": "https://localhost:8080/",
     "height": 35
    },
    "colab_type": "code",
    "id": "wnjNrhw6UBiN",
    "outputId": "2193a223-dd23-46d6-ab3d-2ac3928d0976"
   },
   "outputs": [
    {
     "data": {
      "text/plain": [
       "['F', 'A', 'E', 'D', nan, 'C', 'B', 'G', 'H']"
      ]
     },
     "execution_count": 100,
     "metadata": {
      "tags": []
     },
     "output_type": "execute_result"
    }
   ],
   "source": [
    "dataset_unido['p72'].unique().tolist()"
   ]
  },
  {
   "cell_type": "markdown",
   "metadata": {
    "colab_type": "text",
    "id": "_COPx1HFUBiQ"
   },
   "source": [
    "A pesar de que esta pregunta tiene respuestas de a,b,c,d,e,f, tiene algunas otras respuestas registradas, por lo que se convertirán a nulas."
   ]
  },
  {
   "cell_type": "code",
   "execution_count": null,
   "metadata": {
    "colab": {},
    "colab_type": "code",
    "id": "FlOBt2RkUBiS"
   },
   "outputs": [],
   "source": [
    "dataset_unido.loc[dataset_unido[\"p72\"] == \"G\",\"p72\"] = np.nan\n",
    "dataset_unido.loc[dataset_unido[\"p72\"] == \"H\",\"p72\"] = np.nan"
   ]
  },
  {
   "cell_type": "code",
   "execution_count": 102,
   "metadata": {
    "colab": {
     "base_uri": "https://localhost:8080/",
     "height": 35
    },
    "colab_type": "code",
    "id": "GOVdcxQxUBiT",
    "outputId": "fb0a420d-0e64-4122-af66-31a696c9b0e0"
   },
   "outputs": [
    {
     "data": {
      "text/plain": [
       "['F', 'A', 'E', 'D', nan, 'C', 'B']"
      ]
     },
     "execution_count": 102,
     "metadata": {
      "tags": []
     },
     "output_type": "execute_result"
    }
   ],
   "source": [
    "dataset_unido['p72'].unique().tolist()"
   ]
  },
  {
   "cell_type": "markdown",
   "metadata": {
    "colab_type": "text",
    "id": "QE88mc9yUBiW"
   },
   "source": [
    "**Correcto**\n",
    "__________________________________"
   ]
  },
  {
   "cell_type": "markdown",
   "metadata": {
    "colab_type": "text",
    "id": "ec_i5fzlUBiW"
   },
   "source": [
    "**Pregunta 73:** \n",
    "\n",
    "Color:![#c5f015](https://via.placeholder.com/15/c5f015/000000?text=+) <span style=\"color:green\"> Categórica nominal</span>\n",
    "![#0A6EF5](https://via.placeholder.com/15/0A6EF5/000000?text=+) <span style=\"color:blue\">Categória de referencia</span>\n",
    "![#F53F0A](https://via.placeholder.com/15/F53F0A/000000?text=+) <span style=\"color:red\"> Categórica ordinal</span>\n",
    "\n",
    "posibles respuestas:   \n",
    "\n",
    "|  #  |      significado       |  | \n",
    "|-----|------------------------|--|   \n",
    "| a   |           |![#0A6EF5](https://via.placeholder.com/15/0A6EF5/000000?text=+) <span style=\"color:blue\">Categoría de referencia</span>|     \n",
    "| b   |  |   |\n",
    "    "
   ]
  },
  {
   "cell_type": "code",
   "execution_count": 103,
   "metadata": {
    "colab": {
     "base_uri": "https://localhost:8080/",
     "height": 35
    },
    "colab_type": "code",
    "id": "Xuc2fHtvUBiW",
    "outputId": "2354e170-ce55-499f-b16e-5d0247602cc3"
   },
   "outputs": [
    {
     "data": {
      "text/plain": [
       "['A', nan, 'B', 'E', 'C', 'D', 'F']"
      ]
     },
     "execution_count": 103,
     "metadata": {
      "tags": []
     },
     "output_type": "execute_result"
    }
   ],
   "source": [
    "dataset_unido['p73'].unique().tolist()"
   ]
  },
  {
   "cell_type": "markdown",
   "metadata": {
    "colab_type": "text",
    "id": "k2-l1g0zUBiY"
   },
   "source": [
    "A pesar de que esta pregunta tiene respuestas de a,b,c,d,e,f, tiene algunas otras respuestas registradas, por lo que se convertirán a nulas."
   ]
  },
  {
   "cell_type": "code",
   "execution_count": null,
   "metadata": {
    "colab": {},
    "colab_type": "code",
    "id": "3mhwlQr0UBiZ"
   },
   "outputs": [],
   "source": [
    "dataset_unido.loc[dataset_unido[\"p73\"] == \"C\",\"p73\"] = np.nan\n",
    "dataset_unido.loc[dataset_unido[\"p73\"] == \"D\",\"p73\"] = np.nan\n",
    "dataset_unido.loc[dataset_unido[\"p73\"] == \"E\",\"p73\"] = np.nan\n",
    "dataset_unido.loc[dataset_unido[\"p73\"] == \"F\",\"p73\"] = np.nan"
   ]
  },
  {
   "cell_type": "code",
   "execution_count": 105,
   "metadata": {
    "colab": {
     "base_uri": "https://localhost:8080/",
     "height": 35
    },
    "colab_type": "code",
    "id": "McUc_JxHUBib",
    "outputId": "91333d76-6b69-48d6-af6f-9e91278cd570"
   },
   "outputs": [
    {
     "data": {
      "text/plain": [
       "['A', nan, 'B']"
      ]
     },
     "execution_count": 105,
     "metadata": {
      "tags": []
     },
     "output_type": "execute_result"
    }
   ],
   "source": [
    "dataset_unido['p73'].unique().tolist()"
   ]
  },
  {
   "cell_type": "markdown",
   "metadata": {
    "colab_type": "text",
    "id": "EFND_CewUBid"
   },
   "source": [
    "**Correcto**\n",
    "__________________________________"
   ]
  },
  {
   "cell_type": "markdown",
   "metadata": {
    "colab_type": "text",
    "id": "-p0s1CqMUBid"
   },
   "source": [
    "**Pregunta 74:** \n",
    "\n",
    "Color:![#c5f015](https://via.placeholder.com/15/c5f015/000000?text=+) <span style=\"color:green\"> Categórica nominal</span>\n",
    "![#0A6EF5](https://via.placeholder.com/15/0A6EF5/000000?text=+) <span style=\"color:blue\">Categória de referencia</span>\n",
    "![#F53F0A](https://via.placeholder.com/15/F53F0A/000000?text=+) <span style=\"color:red\"> Categórica ordinal</span>\n",
    "\n",
    "posibles respuestas:   \n",
    "\n",
    "|  #  |      significado       |  | \n",
    "|-----|------------------------|--|   \n",
    "| a   |           |![#0A6EF5](https://via.placeholder.com/15/0A6EF5/000000?text=+) <span style=\"color:blue\">Categoría de referencia</span>|     \n",
    "| b   |  |   |\n",
    "| c   |   |   |\n",
    "| d   |  |   |\n",
    "| e   |   |   |\n",
    "| f   |   |   |\n",
    "   "
   ]
  },
  {
   "cell_type": "code",
   "execution_count": 106,
   "metadata": {
    "colab": {
     "base_uri": "https://localhost:8080/",
     "height": 35
    },
    "colab_type": "code",
    "id": "72yMwzC4UBid",
    "outputId": "9c99dbaa-6f50-46e7-a5ff-a8f492a455de"
   },
   "outputs": [
    {
     "data": {
      "text/plain": [
       "['A', 'D', 'F', 'B', 'C', 'E', nan, 'G']"
      ]
     },
     "execution_count": 106,
     "metadata": {
      "tags": []
     },
     "output_type": "execute_result"
    }
   ],
   "source": [
    "dataset_unido['p74'].unique().tolist()"
   ]
  },
  {
   "cell_type": "markdown",
   "metadata": {
    "colab_type": "text",
    "id": "r5MfSY2sUBif"
   },
   "source": [
    "A pesar de que esta pregunta tiene respuestas de a,b,c,d,e,f, tiene algunas otras respuestas registradas, por lo que se convertirán a nulas."
   ]
  },
  {
   "cell_type": "code",
   "execution_count": null,
   "metadata": {
    "colab": {},
    "colab_type": "code",
    "id": "fIbbX2tlUBif"
   },
   "outputs": [],
   "source": [
    "dataset_unido.loc[dataset_unido[\"p74\"] == \"G\",\"p74\"] = np.nan"
   ]
  },
  {
   "cell_type": "code",
   "execution_count": 108,
   "metadata": {
    "colab": {
     "base_uri": "https://localhost:8080/",
     "height": 35
    },
    "colab_type": "code",
    "id": "hUQVedOsUBig",
    "outputId": "5345c762-434f-45d1-d766-38acc99de599"
   },
   "outputs": [
    {
     "data": {
      "text/plain": [
       "['A', 'D', 'F', 'B', 'C', 'E', nan]"
      ]
     },
     "execution_count": 108,
     "metadata": {
      "tags": []
     },
     "output_type": "execute_result"
    }
   ],
   "source": [
    "dataset_unido['p74'].unique().tolist()"
   ]
  },
  {
   "cell_type": "markdown",
   "metadata": {
    "colab_type": "text",
    "id": "QB7TekIlUBii"
   },
   "source": [
    "**Correcto**\n",
    "__________________________________"
   ]
  },
  {
   "cell_type": "markdown",
   "metadata": {
    "colab_type": "text",
    "id": "rK7aBggAUBii"
   },
   "source": [
    "**Pregunta 75:** \n",
    "\n",
    "Color:![#c5f015](https://via.placeholder.com/15/c5f015/000000?text=+) <span style=\"color:green\"> Categórica nominal</span>\n",
    "![#0A6EF5](https://via.placeholder.com/15/0A6EF5/000000?text=+) <span style=\"color:blue\">Categória de referencia</span>\n",
    "![#F53F0A](https://via.placeholder.com/15/F53F0A/000000?text=+) <span style=\"color:red\"> Categórica ordinal</span>\n",
    "\n",
    "posibles respuestas:   \n",
    "\n",
    "|  #  |      significado       |  | \n",
    "|-----|------------------------|--|   \n",
    "| a   |           |![#0A6EF5](https://via.placeholder.com/15/0A6EF5/000000?text=+) <span style=\"color:blue\">Categoría de referencia</span>|     \n",
    "| b   |  |   |\n",
    "   "
   ]
  },
  {
   "cell_type": "code",
   "execution_count": 109,
   "metadata": {
    "colab": {
     "base_uri": "https://localhost:8080/",
     "height": 35
    },
    "colab_type": "code",
    "id": "kQJ68LGjUBii",
    "outputId": "d27a7e2c-ade0-4bf9-eb27-c7a2626fb669"
   },
   "outputs": [
    {
     "data": {
      "text/plain": [
       "['B', 'A', nan, 'C', 'D', 'V']"
      ]
     },
     "execution_count": 109,
     "metadata": {
      "tags": []
     },
     "output_type": "execute_result"
    }
   ],
   "source": [
    "dataset_unido['p75'].unique().tolist()"
   ]
  },
  {
   "cell_type": "markdown",
   "metadata": {
    "colab_type": "text",
    "id": "Y6p2QcsDUBij"
   },
   "source": [
    "A pesar de que esta pregunta tiene respuestas de a,b,c,d,e,f, tiene algunas otras respuestas registradas, por lo que se convertirán a nulas."
   ]
  },
  {
   "cell_type": "code",
   "execution_count": null,
   "metadata": {
    "colab": {},
    "colab_type": "code",
    "id": "tYgU_MWAUBik"
   },
   "outputs": [],
   "source": [
    "dataset_unido.loc[dataset_unido[\"p75\"] == \"C\",\"p75\"] = np.nan\n",
    "dataset_unido.loc[dataset_unido[\"p75\"] == \"D\",\"p75\"] = np.nan\n",
    "dataset_unido.loc[dataset_unido[\"p75\"] == \"V\",\"p75\"] = np.nan\n"
   ]
  },
  {
   "cell_type": "code",
   "execution_count": 111,
   "metadata": {
    "colab": {
     "base_uri": "https://localhost:8080/",
     "height": 35
    },
    "colab_type": "code",
    "id": "lrlwi50kUBim",
    "outputId": "10ae4dbe-1614-4cc5-ed59-8294d45cf565"
   },
   "outputs": [
    {
     "data": {
      "text/plain": [
       "['B', 'A', nan]"
      ]
     },
     "execution_count": 111,
     "metadata": {
      "tags": []
     },
     "output_type": "execute_result"
    }
   ],
   "source": [
    "dataset_unido['p75'].unique().tolist()"
   ]
  },
  {
   "cell_type": "markdown",
   "metadata": {
    "colab_type": "text",
    "id": "wLuyJn8dUBi1"
   },
   "source": [
    "**Correcto**\n",
    "__________________________________"
   ]
  },
  {
   "cell_type": "markdown",
   "metadata": {
    "colab_type": "text",
    "id": "xNNzr2QdUBi2"
   },
   "source": [
    "**Pregunta 76:** \n",
    "\n",
    "Color:![#c5f015](https://via.placeholder.com/15/c5f015/000000?text=+) <span style=\"color:green\"> Categórica nominal</span>\n",
    "![#0A6EF5](https://via.placeholder.com/15/0A6EF5/000000?text=+) <span style=\"color:blue\">Categória de referencia</span>\n",
    "![#F53F0A](https://via.placeholder.com/15/F53F0A/000000?text=+) <span style=\"color:red\"> Categórica ordinal</span>\n",
    "\n",
    "posibles respuestas:   \n",
    "\n",
    "|  #  |      significado       |  | \n",
    "|-----|------------------------|--|   \n",
    "| a   |           |![#0A6EF5](https://via.placeholder.com/15/0A6EF5/000000?text=+) <span style=\"color:blue\">Categoría de referencia</span>|     \n",
    "| b   |  |   |\n",
    "    "
   ]
  },
  {
   "cell_type": "code",
   "execution_count": 112,
   "metadata": {
    "colab": {
     "base_uri": "https://localhost:8080/",
     "height": 35
    },
    "colab_type": "code",
    "id": "JNOXL4RvUBi2",
    "outputId": "b83d1036-85b6-4181-b084-b42c7b80668e"
   },
   "outputs": [
    {
     "data": {
      "text/plain": [
       "['B', 'A', nan, 'D', 'C', 'E']"
      ]
     },
     "execution_count": 112,
     "metadata": {
      "tags": []
     },
     "output_type": "execute_result"
    }
   ],
   "source": [
    "dataset_unido['p76'].unique().tolist()"
   ]
  },
  {
   "cell_type": "markdown",
   "metadata": {
    "colab_type": "text",
    "id": "VSk4sfYEUBi4"
   },
   "source": [
    "A pesar de que esta pregunta tiene respuestas de a,b,c,d,e,f, tiene algunas otras respuestas registradas, por lo que se convertirán a nulas."
   ]
  },
  {
   "cell_type": "code",
   "execution_count": null,
   "metadata": {
    "colab": {},
    "colab_type": "code",
    "id": "Zd34sC53UBi4"
   },
   "outputs": [],
   "source": [
    "dataset_unido.loc[dataset_unido[\"p76\"] == \"C\",\"p76\"] = np.nan\n",
    "dataset_unido.loc[dataset_unido[\"p76\"] == \"D\",\"p76\"] = np.nan\n",
    "dataset_unido.loc[dataset_unido[\"p76\"] == \"E\",\"p76\"] = np.nan"
   ]
  },
  {
   "cell_type": "code",
   "execution_count": 114,
   "metadata": {
    "colab": {
     "base_uri": "https://localhost:8080/",
     "height": 35
    },
    "colab_type": "code",
    "id": "aVg5Eq_qUBi8",
    "outputId": "4c491b5a-4eae-44fc-c33f-69be14528818"
   },
   "outputs": [
    {
     "data": {
      "text/plain": [
       "['B', 'A', nan]"
      ]
     },
     "execution_count": 114,
     "metadata": {
      "tags": []
     },
     "output_type": "execute_result"
    }
   ],
   "source": [
    "dataset_unido['p76'].unique().tolist()"
   ]
  },
  {
   "cell_type": "markdown",
   "metadata": {
    "colab_type": "text",
    "id": "hMqBIzvVUBi-"
   },
   "source": [
    "**Correcto**\n",
    "__________________________________"
   ]
  },
  {
   "cell_type": "markdown",
   "metadata": {
    "colab_type": "text",
    "id": "UjcJRK23UBi-"
   },
   "source": [
    "**Pregunta 77:** \n",
    "\n",
    "Color:![#c5f015](https://via.placeholder.com/15/c5f015/000000?text=+) <span style=\"color:green\"> Categórica nominal</span>\n",
    "![#0A6EF5](https://via.placeholder.com/15/0A6EF5/000000?text=+) <span style=\"color:blue\">Categória de referencia</span>\n",
    "![#F53F0A](https://via.placeholder.com/15/F53F0A/000000?text=+) <span style=\"color:red\"> Categórica ordinal</span>\n",
    "\n",
    "posibles respuestas:   \n",
    "\n",
    "|  #  |      significado       |  | \n",
    "|-----|------------------------|--|   \n",
    "| a   |           |![#0A6EF5](https://via.placeholder.com/15/0A6EF5/000000?text=+) <span style=\"color:blue\">Categoría de referencia</span>|     \n",
    "| b   |  |   |\n",
    "  "
   ]
  },
  {
   "cell_type": "code",
   "execution_count": 115,
   "metadata": {
    "colab": {
     "base_uri": "https://localhost:8080/",
     "height": 35
    },
    "colab_type": "code",
    "id": "BnE2AH72UBi_",
    "outputId": "e25ce27c-80e7-437a-e244-4364571e1bd4"
   },
   "outputs": [
    {
     "data": {
      "text/plain": [
       "['B', 'A', nan, 'C', 'V', 'D', 'E', 'F', 'G']"
      ]
     },
     "execution_count": 115,
     "metadata": {
      "tags": []
     },
     "output_type": "execute_result"
    }
   ],
   "source": [
    "dataset_unido['p77'].unique().tolist()"
   ]
  },
  {
   "cell_type": "markdown",
   "metadata": {
    "colab_type": "text",
    "id": "ibYYaUwaUBjA"
   },
   "source": [
    "A pesar de que esta pregunta tiene respuestas de a,b,c,d,e,f, tiene algunas otras respuestas registradas, por lo que se convertirán a nulas."
   ]
  },
  {
   "cell_type": "code",
   "execution_count": null,
   "metadata": {
    "colab": {},
    "colab_type": "code",
    "id": "85uTTlRMUBjA"
   },
   "outputs": [],
   "source": [
    "dataset_unido.loc[dataset_unido[\"p77\"] == \"C\",\"p77\"] = np.nan\n",
    "dataset_unido.loc[dataset_unido[\"p77\"] == \"D\",\"p77\"] = np.nan\n",
    "dataset_unido.loc[dataset_unido[\"p77\"] == \"E\",\"p77\"] = np.nan\n",
    "dataset_unido.loc[dataset_unido[\"p77\"] == \"F\",\"p77\"] = np.nan\n",
    "dataset_unido.loc[dataset_unido[\"p77\"] == \"G\",\"p77\"] = np.nan\n",
    "dataset_unido.loc[dataset_unido[\"p77\"] == \"V\",\"p77\"] = np.nan"
   ]
  },
  {
   "cell_type": "code",
   "execution_count": 117,
   "metadata": {
    "colab": {
     "base_uri": "https://localhost:8080/",
     "height": 35
    },
    "colab_type": "code",
    "id": "LoCtBzgjUBjB",
    "outputId": "f72d1845-b618-45e5-e262-e35104662ae8"
   },
   "outputs": [
    {
     "data": {
      "text/plain": [
       "['B', 'A', nan]"
      ]
     },
     "execution_count": 117,
     "metadata": {
      "tags": []
     },
     "output_type": "execute_result"
    }
   ],
   "source": [
    "dataset_unido['p77'].unique().tolist()"
   ]
  },
  {
   "cell_type": "markdown",
   "metadata": {
    "colab_type": "text",
    "id": "DMbxhVMoUBjE"
   },
   "source": [
    "**Correcto**\n",
    "__________________________________"
   ]
  },
  {
   "cell_type": "markdown",
   "metadata": {
    "colab_type": "text",
    "id": "lqwNAhusUBjE"
   },
   "source": [
    "**Pregunta 78:** \n",
    "\n",
    "Color:![#c5f015](https://via.placeholder.com/15/c5f015/000000?text=+) <span style=\"color:green\"> Categórica nominal</span>\n",
    "![#0A6EF5](https://via.placeholder.com/15/0A6EF5/000000?text=+) <span style=\"color:blue\">Categória de referencia</span>\n",
    "![#F53F0A](https://via.placeholder.com/15/F53F0A/000000?text=+) <span style=\"color:red\"> Categórica ordinal</span>\n",
    "\n",
    "posibles respuestas:   \n",
    "\n",
    "|  #  |      significado       |  | \n",
    "|-----|------------------------|--|   \n",
    "| a   |           |![#0A6EF5](https://via.placeholder.com/15/0A6EF5/000000?text=+) <span style=\"color:blue\">Categoría de referencia</span>|     \n",
    "| b   |  |   |\n",
    "| c   |   |   |\n",
    "| d   |  |   |\n",
    "| e   |   |   |\n",
    "| f   |   |   |\n",
    "| g   |   |   |\n",
    "| h   |  |   |\n",
    "| i   |   |   |\n",
    "   "
   ]
  },
  {
   "cell_type": "code",
   "execution_count": 118,
   "metadata": {
    "colab": {
     "base_uri": "https://localhost:8080/",
     "height": 35
    },
    "colab_type": "code",
    "id": "lED74Sq0UBjE",
    "outputId": "ba9105ae-7f85-4007-f92a-6a0aaeb461a4"
   },
   "outputs": [
    {
     "data": {
      "text/plain": [
       "['D', 'G', 'C', 'F', 'E', 'B', 'A', 'H', nan, 'I']"
      ]
     },
     "execution_count": 118,
     "metadata": {
      "tags": []
     },
     "output_type": "execute_result"
    }
   ],
   "source": [
    "dataset_unido['p78'].unique().tolist()"
   ]
  },
  {
   "cell_type": "markdown",
   "metadata": {
    "colab_type": "text",
    "id": "Pd47i5XsUBjH"
   },
   "source": [
    "**Correcto**\n",
    "__________________________________"
   ]
  },
  {
   "cell_type": "markdown",
   "metadata": {
    "colab_type": "text",
    "id": "3va0pcVcUBjH"
   },
   "source": [
    "**Pregunta 79:** \n",
    "\n",
    "Color:![#c5f015](https://via.placeholder.com/15/c5f015/000000?text=+) <span style=\"color:green\"> Categórica nominal</span>\n",
    "![#0A6EF5](https://via.placeholder.com/15/0A6EF5/000000?text=+) <span style=\"color:blue\">Categória de referencia</span>\n",
    "![#F53F0A](https://via.placeholder.com/15/F53F0A/000000?text=+) <span style=\"color:red\"> Categórica ordinal</span>\n",
    "\n",
    "posibles respuestas:   \n",
    "\n",
    "|  #  |      significado       |  | \n",
    "|-----|------------------------|--|   \n",
    "| a   |           |![#0A6EF5](https://via.placeholder.com/15/0A6EF5/000000?text=+) <span style=\"color:blue\">Categoría de referencia</span>|     \n",
    "| b   |  |   |\n",
    "| c   |   |   |\n",
    "| d   |  |   |\n",
    "  "
   ]
  },
  {
   "cell_type": "code",
   "execution_count": 119,
   "metadata": {
    "colab": {
     "base_uri": "https://localhost:8080/",
     "height": 35
    },
    "colab_type": "code",
    "id": "UEqPKS2rUBjH",
    "outputId": "89ab8614-d51d-4266-a20c-1a9f5906037a"
   },
   "outputs": [
    {
     "data": {
      "text/plain": [
       "['C', 'B', 'A', 'D', nan, 'G', 'E', 'F']"
      ]
     },
     "execution_count": 119,
     "metadata": {
      "tags": []
     },
     "output_type": "execute_result"
    }
   ],
   "source": [
    "dataset_unido['p79'].unique().tolist()"
   ]
  },
  {
   "cell_type": "markdown",
   "metadata": {
    "colab_type": "text",
    "id": "V2iNcxHcUBjI"
   },
   "source": [
    "A pesar de que esta pregunta tiene respuestas de a,b,c,d,e,f, tiene algunas otras respuestas registradas, por lo que se convertirán a nulas."
   ]
  },
  {
   "cell_type": "code",
   "execution_count": null,
   "metadata": {
    "colab": {},
    "colab_type": "code",
    "id": "eGDqpeX0UBjI"
   },
   "outputs": [],
   "source": [
    "dataset_unido.loc[dataset_unido[\"p79\"] == \"E\",\"p79\"] = np.nan\n",
    "dataset_unido.loc[dataset_unido[\"p79\"] == \"F\",\"p79\"] = np.nan\n",
    "dataset_unido.loc[dataset_unido[\"p79\"] == \"G\",\"p79\"] = np.nan"
   ]
  },
  {
   "cell_type": "code",
   "execution_count": 121,
   "metadata": {
    "colab": {
     "base_uri": "https://localhost:8080/",
     "height": 35
    },
    "colab_type": "code",
    "id": "jdLoNiuiUBjK",
    "outputId": "84ead4c3-41f8-4a90-f45f-c5f81521dd97"
   },
   "outputs": [
    {
     "data": {
      "text/plain": [
       "['C', 'B', 'A', 'D', nan]"
      ]
     },
     "execution_count": 121,
     "metadata": {
      "tags": []
     },
     "output_type": "execute_result"
    }
   ],
   "source": [
    "dataset_unido['p79'].unique().tolist()"
   ]
  },
  {
   "cell_type": "markdown",
   "metadata": {
    "colab_type": "text",
    "id": "bEb8WAsoUBjM"
   },
   "source": [
    "**Correcto**\n",
    "__________________________________"
   ]
  },
  {
   "cell_type": "markdown",
   "metadata": {
    "colab_type": "text",
    "id": "30o9MqAfUBjM"
   },
   "source": [
    "**Pregunta 80:** \n",
    "\n",
    "Color:![#c5f015](https://via.placeholder.com/15/c5f015/000000?text=+) <span style=\"color:green\"> Categórica nominal</span>\n",
    "![#0A6EF5](https://via.placeholder.com/15/0A6EF5/000000?text=+) <span style=\"color:blue\">Categória de referencia</span>\n",
    "![#F53F0A](https://via.placeholder.com/15/F53F0A/000000?text=+) <span style=\"color:red\"> Categórica ordinal</span>\n",
    "\n",
    "posibles respuestas:   \n",
    "\n",
    "|  #  |      significado       |  | \n",
    "|-----|------------------------|--|   \n",
    "| a   |           |![#0A6EF5](https://via.placeholder.com/15/0A6EF5/000000?text=+) <span style=\"color:blue\">Categoría de referencia</span>|     \n",
    "| b   |  |   |\n",
    "| c   |   |   |\n",
    "| d   |  |   |\n",
    "| e   |   |   |\n",
    "   "
   ]
  },
  {
   "cell_type": "code",
   "execution_count": 122,
   "metadata": {
    "colab": {
     "base_uri": "https://localhost:8080/",
     "height": 35
    },
    "colab_type": "code",
    "id": "LIxf_O-mUBjN",
    "outputId": "456c1dbd-7e3d-4495-ca1d-b82503c89450"
   },
   "outputs": [
    {
     "data": {
      "text/plain": [
       "['D', 'A', 'B', 'C', 'E', nan]"
      ]
     },
     "execution_count": 122,
     "metadata": {
      "tags": []
     },
     "output_type": "execute_result"
    }
   ],
   "source": [
    "dataset_unido['p80'].unique().tolist()"
   ]
  },
  {
   "cell_type": "markdown",
   "metadata": {
    "colab_type": "text",
    "id": "m6GL-Zp5UBjP"
   },
   "source": [
    "**Correcto**\n",
    "__________________________________"
   ]
  },
  {
   "cell_type": "markdown",
   "metadata": {
    "colab_type": "text",
    "id": "-6AYcXJ_UBjQ"
   },
   "source": [
    "**Pregunta 81:** \n",
    "\n",
    "Color:![#c5f015](https://via.placeholder.com/15/c5f015/000000?text=+) <span style=\"color:green\"> Categórica nominal</span>\n",
    "![#0A6EF5](https://via.placeholder.com/15/0A6EF5/000000?text=+) <span style=\"color:blue\">Categória de referencia</span>\n",
    "![#F53F0A](https://via.placeholder.com/15/F53F0A/000000?text=+) <span style=\"color:red\"> Categórica ordinal</span>\n",
    "\n",
    "posibles respuestas:   \n",
    "\n",
    "|  #  |      significado       |  | \n",
    "|-----|------------------------|--|   \n",
    "| a   |           |![#0A6EF5](https://via.placeholder.com/15/0A6EF5/000000?text=+) <span style=\"color:blue\">Categoría de referencia</span>|     \n",
    "| b   |  |   |\n",
    "| c   |   |   |\n",
    "  "
   ]
  },
  {
   "cell_type": "code",
   "execution_count": 123,
   "metadata": {
    "colab": {
     "base_uri": "https://localhost:8080/",
     "height": 35
    },
    "colab_type": "code",
    "id": "g72OIsceUBjQ",
    "outputId": "9ba33179-e41b-4ae7-a9bc-6df30aa2bcfb"
   },
   "outputs": [
    {
     "data": {
      "text/plain": [
       "['A', 'B', 'C', nan, 'E', 'D', 'F']"
      ]
     },
     "execution_count": 123,
     "metadata": {
      "tags": []
     },
     "output_type": "execute_result"
    }
   ],
   "source": [
    "dataset_unido['p81'].unique().tolist()"
   ]
  },
  {
   "cell_type": "markdown",
   "metadata": {
    "colab_type": "text",
    "id": "6wBWp0pIUBjR"
   },
   "source": [
    "A pesar de que esta pregunta tiene respuestas de a,b,c,d,e,f, tiene algunas otras respuestas registradas, por lo que se convertirán a nulas."
   ]
  },
  {
   "cell_type": "code",
   "execution_count": null,
   "metadata": {
    "colab": {},
    "colab_type": "code",
    "id": "fhvNg3W-UBjR"
   },
   "outputs": [],
   "source": [
    "dataset_unido.loc[dataset_unido[\"p81\"] == \"D\",\"p81\"] = np.nan\n",
    "dataset_unido.loc[dataset_unido[\"p81\"] == \"E\",\"p81\"] = np.nan\n",
    "dataset_unido.loc[dataset_unido[\"p81\"] == \"F\",\"p81\"] = np.nan"
   ]
  },
  {
   "cell_type": "code",
   "execution_count": 125,
   "metadata": {
    "colab": {
     "base_uri": "https://localhost:8080/",
     "height": 35
    },
    "colab_type": "code",
    "id": "1Kc6DKtQUBjS",
    "outputId": "73a71249-6e5a-45a3-c29e-686efa65954f"
   },
   "outputs": [
    {
     "data": {
      "text/plain": [
       "['A', 'B', 'C', nan]"
      ]
     },
     "execution_count": 125,
     "metadata": {
      "tags": []
     },
     "output_type": "execute_result"
    }
   ],
   "source": [
    "dataset_unido['p81'].unique().tolist()"
   ]
  },
  {
   "cell_type": "markdown",
   "metadata": {
    "colab_type": "text",
    "id": "BgCPaelDUBjV"
   },
   "source": [
    "**Correcto**\n",
    "__________________________________"
   ]
  },
  {
   "cell_type": "markdown",
   "metadata": {
    "colab_type": "text",
    "id": "e4JQbPNZUBjV"
   },
   "source": [
    "**Pregunta 82:** \n",
    "\n",
    "Color:![#c5f015](https://via.placeholder.com/15/c5f015/000000?text=+) <span style=\"color:green\"> Categórica nominal</span>\n",
    "![#0A6EF5](https://via.placeholder.com/15/0A6EF5/000000?text=+) <span style=\"color:blue\">Categória de referencia</span>\n",
    "![#F53F0A](https://via.placeholder.com/15/F53F0A/000000?text=+) <span style=\"color:red\"> Categórica ordinal</span>\n",
    "\n",
    "posibles respuestas:   \n",
    "\n",
    "|  #  |      significado       |  | \n",
    "|-----|------------------------|--|   \n",
    "| a   |           |![#0A6EF5](https://via.placeholder.com/15/0A6EF5/000000?text=+) <span style=\"color:blue\">Categoría de referencia</span>|     \n",
    "| b   |  |   |\n",
    "| c   |   |   |\n",
    "| d   |  |   |\n",
    "    "
   ]
  },
  {
   "cell_type": "code",
   "execution_count": 126,
   "metadata": {
    "colab": {
     "base_uri": "https://localhost:8080/",
     "height": 35
    },
    "colab_type": "code",
    "id": "G9AzmUsQUBjV",
    "outputId": "2fb96ac7-bade-4109-f76e-a5e39ba8ff91"
   },
   "outputs": [
    {
     "data": {
      "text/plain": [
       "['B', 'C', 'D', 'A', nan, 'F', 'E']"
      ]
     },
     "execution_count": 126,
     "metadata": {
      "tags": []
     },
     "output_type": "execute_result"
    }
   ],
   "source": [
    "dataset_unido['p82'].unique().tolist()"
   ]
  },
  {
   "cell_type": "markdown",
   "metadata": {
    "colab_type": "text",
    "id": "D5TkMIo1UBjX"
   },
   "source": [
    "A pesar de que esta pregunta tiene respuestas de a,b,c,d,e,f, tiene algunas otras respuestas registradas, por lo que se convertirán a nulas."
   ]
  },
  {
   "cell_type": "code",
   "execution_count": null,
   "metadata": {
    "colab": {},
    "colab_type": "code",
    "id": "ifSEwCnnUBjX"
   },
   "outputs": [],
   "source": [
    "dataset_unido.loc[dataset_unido[\"p82\"] == \"F\",\"p82\"] = np.nan\n",
    "dataset_unido.loc[dataset_unido[\"p82\"] == \"E\",\"p82\"] = np.nan"
   ]
  },
  {
   "cell_type": "code",
   "execution_count": 128,
   "metadata": {
    "colab": {
     "base_uri": "https://localhost:8080/",
     "height": 35
    },
    "colab_type": "code",
    "id": "_QZ3Icd5UBjY",
    "outputId": "fd53df2d-5546-4b74-f961-71b9de51d7dc"
   },
   "outputs": [
    {
     "data": {
      "text/plain": [
       "['B', 'C', 'D', 'A', nan]"
      ]
     },
     "execution_count": 128,
     "metadata": {
      "tags": []
     },
     "output_type": "execute_result"
    }
   ],
   "source": [
    "dataset_unido['p82'].unique().tolist()"
   ]
  },
  {
   "cell_type": "markdown",
   "metadata": {
    "colab_type": "text",
    "id": "EULf_WqpUBja"
   },
   "source": [
    "**Correcto**\n",
    "__________________________________"
   ]
  },
  {
   "cell_type": "markdown",
   "metadata": {
    "colab_type": "text",
    "id": "t08_guQrUBja"
   },
   "source": [
    "**Pregunta 83:** \n",
    "\n",
    "Color:![#c5f015](https://via.placeholder.com/15/c5f015/000000?text=+) <span style=\"color:green\"> Categórica nominal</span>\n",
    "![#0A6EF5](https://via.placeholder.com/15/0A6EF5/000000?text=+) <span style=\"color:blue\">Categória de referencia</span>\n",
    "![#F53F0A](https://via.placeholder.com/15/F53F0A/000000?text=+) <span style=\"color:red\"> Categórica ordinal</span>\n",
    "\n",
    "posibles respuestas:   \n",
    "\n",
    "|  #  |      significado       |  | \n",
    "|-----|------------------------|--|   \n",
    "| a   |           |![#0A6EF5](https://via.placeholder.com/15/0A6EF5/000000?text=+) <span style=\"color:blue\">Categoría de referencia</span>|     \n",
    "| b   |  |   |\n",
    "   "
   ]
  },
  {
   "cell_type": "code",
   "execution_count": 129,
   "metadata": {
    "colab": {
     "base_uri": "https://localhost:8080/",
     "height": 35
    },
    "colab_type": "code",
    "id": "lZ2Gpd3jUBja",
    "outputId": "5fe5fba5-6259-4c6e-f782-ef5850a2ea0e"
   },
   "outputs": [
    {
     "data": {
      "text/plain": [
       "['A', 'B', nan, 'C', 'D']"
      ]
     },
     "execution_count": 129,
     "metadata": {
      "tags": []
     },
     "output_type": "execute_result"
    }
   ],
   "source": [
    "dataset_unido['p83'].unique().tolist()"
   ]
  },
  {
   "cell_type": "markdown",
   "metadata": {
    "colab_type": "text",
    "id": "bkxP-HkWUBje"
   },
   "source": [
    "A pesar de que esta pregunta tiene respuestas de a,b,c,d,e,f, tiene algunas otras respuestas registradas, por lo que se convertirán a nulas."
   ]
  },
  {
   "cell_type": "code",
   "execution_count": null,
   "metadata": {
    "colab": {},
    "colab_type": "code",
    "id": "X8rcn-ZRUBje"
   },
   "outputs": [],
   "source": [
    "dataset_unido.loc[dataset_unido[\"p83\"] == \"C\",\"p83\"] = np.nan\n",
    "dataset_unido.loc[dataset_unido[\"p83\"] == \"D\",\"p83\"] = np.nan"
   ]
  },
  {
   "cell_type": "code",
   "execution_count": 131,
   "metadata": {
    "colab": {
     "base_uri": "https://localhost:8080/",
     "height": 35
    },
    "colab_type": "code",
    "id": "pm8jIeHZUBjh",
    "outputId": "a7791de1-b1ea-4e25-97d0-6980b48928b5"
   },
   "outputs": [
    {
     "data": {
      "text/plain": [
       "['A', 'B', nan]"
      ]
     },
     "execution_count": 131,
     "metadata": {
      "tags": []
     },
     "output_type": "execute_result"
    }
   ],
   "source": [
    "dataset_unido['p83'].unique().tolist()"
   ]
  },
  {
   "cell_type": "markdown",
   "metadata": {
    "colab_type": "text",
    "id": "6-m8gFztUBji"
   },
   "source": [
    "**Correcto**\n",
    "__________________________________"
   ]
  },
  {
   "cell_type": "markdown",
   "metadata": {
    "colab_type": "text",
    "id": "gl0NF39SUBji"
   },
   "source": [
    "**Pregunta 84:** \n",
    "\n",
    "Color:![#c5f015](https://via.placeholder.com/15/c5f015/000000?text=+) <span style=\"color:green\"> Categórica nominal</span>\n",
    "![#0A6EF5](https://via.placeholder.com/15/0A6EF5/000000?text=+) <span style=\"color:blue\">Categória de referencia</span>\n",
    "![#F53F0A](https://via.placeholder.com/15/F53F0A/000000?text=+) <span style=\"color:red\"> Categórica ordinal</span>\n",
    "\n",
    "posibles respuestas:   \n",
    "\n",
    "|  #  |      significado       |  | \n",
    "|-----|------------------------|--|   \n",
    "| a   |           |![#0A6EF5](https://via.placeholder.com/15/0A6EF5/000000?text=+) <span style=\"color:blue\">Categoría de referencia</span>|     \n",
    "| b   |  |   |\n",
    " "
   ]
  },
  {
   "cell_type": "code",
   "execution_count": 132,
   "metadata": {
    "colab": {
     "base_uri": "https://localhost:8080/",
     "height": 35
    },
    "colab_type": "code",
    "id": "qJP576sNUBji",
    "outputId": "4f719457-e8af-441d-d11f-aa0e13ca8822"
   },
   "outputs": [
    {
     "data": {
      "text/plain": [
       "['A', 'B', nan, 'D', 'C', 'F']"
      ]
     },
     "execution_count": 132,
     "metadata": {
      "tags": []
     },
     "output_type": "execute_result"
    }
   ],
   "source": [
    "dataset_unido['p84'].unique().tolist()"
   ]
  },
  {
   "cell_type": "markdown",
   "metadata": {
    "colab_type": "text",
    "id": "dGE8Jz1SUBjk"
   },
   "source": [
    "A pesar de que esta pregunta tiene respuestas de a,b,c,d,e,f, tiene algunas otras respuestas registradas, por lo que se convertirán a nulas."
   ]
  },
  {
   "cell_type": "code",
   "execution_count": null,
   "metadata": {
    "colab": {},
    "colab_type": "code",
    "id": "OxebhaPsUBjk"
   },
   "outputs": [],
   "source": [
    "dataset_unido.loc[dataset_unido[\"p84\"] == \"C\",\"p84\"] = np.nan\n",
    "dataset_unido.loc[dataset_unido[\"p84\"] == \"D\",\"p84\"] = np.nan\n",
    "dataset_unido.loc[dataset_unido[\"p84\"] == \"F\",\"p84\"] = np.nan"
   ]
  },
  {
   "cell_type": "code",
   "execution_count": 134,
   "metadata": {
    "colab": {
     "base_uri": "https://localhost:8080/",
     "height": 35
    },
    "colab_type": "code",
    "id": "_Dd17QC1UBjm",
    "outputId": "f3f40593-be68-4c76-956d-cfb37cd87248"
   },
   "outputs": [
    {
     "data": {
      "text/plain": [
       "['A', 'B', nan]"
      ]
     },
     "execution_count": 134,
     "metadata": {
      "tags": []
     },
     "output_type": "execute_result"
    }
   ],
   "source": [
    "dataset_unido['p84'].unique().tolist()"
   ]
  },
  {
   "cell_type": "markdown",
   "metadata": {
    "colab_type": "text",
    "id": "XDFX1q2pUBjo"
   },
   "source": [
    "**Correcto**\n",
    "__________________________________"
   ]
  },
  {
   "cell_type": "markdown",
   "metadata": {
    "colab_type": "text",
    "id": "KawCcwyMUBjo"
   },
   "source": [
    "**Pregunta 85:** \n",
    "\n",
    "Color:![#c5f015](https://via.placeholder.com/15/c5f015/000000?text=+) <span style=\"color:green\"> Categórica nominal</span>\n",
    "![#0A6EF5](https://via.placeholder.com/15/0A6EF5/000000?text=+) <span style=\"color:blue\">Categória de referencia</span>\n",
    "![#F53F0A](https://via.placeholder.com/15/F53F0A/000000?text=+) <span style=\"color:red\"> Categórica ordinal</span>\n",
    "\n",
    "posibles respuestas:   \n",
    "\n",
    "|  #  |      significado       |  | \n",
    "|-----|------------------------|--|   \n",
    "| a   |           |![#0A6EF5](https://via.placeholder.com/15/0A6EF5/000000?text=+) <span style=\"color:blue\">Categoría de referencia</span>|     \n",
    "| b   |  |   |\n",
    "| c   |   |   |\n",
    "| d   |  |   |\n",
    "  "
   ]
  },
  {
   "cell_type": "code",
   "execution_count": 135,
   "metadata": {
    "colab": {
     "base_uri": "https://localhost:8080/",
     "height": 35
    },
    "colab_type": "code",
    "id": "3JXL4ODmUBjo",
    "outputId": "4fe1dae5-1cde-4059-f5ca-8e80243a5198"
   },
   "outputs": [
    {
     "data": {
      "text/plain": [
       "['B', 'C', 'D', 'A', nan]"
      ]
     },
     "execution_count": 135,
     "metadata": {
      "tags": []
     },
     "output_type": "execute_result"
    }
   ],
   "source": [
    "dataset_unido['p85'].unique().tolist()"
   ]
  },
  {
   "cell_type": "markdown",
   "metadata": {
    "colab_type": "text",
    "id": "De4Y6Sr0UBjp"
   },
   "source": [
    "**Correcto**\n",
    "__________________________________"
   ]
  },
  {
   "cell_type": "markdown",
   "metadata": {
    "colab_type": "text",
    "id": "PY2SBVvxUBjp"
   },
   "source": [
    "**Pregunta 86:** \n",
    "\n",
    "Color:![#c5f015](https://via.placeholder.com/15/c5f015/000000?text=+) <span style=\"color:green\"> Categórica nominal</span>\n",
    "![#0A6EF5](https://via.placeholder.com/15/0A6EF5/000000?text=+) <span style=\"color:blue\">Categória de referencia</span>\n",
    "![#F53F0A](https://via.placeholder.com/15/F53F0A/000000?text=+) <span style=\"color:red\"> Categórica ordinal</span>\n",
    "\n",
    "posibles respuestas:   \n",
    "\n",
    "|  #  |      significado       |  | \n",
    "|-----|------------------------|--|   \n",
    "| a   |           |![#0A6EF5](https://via.placeholder.com/15/0A6EF5/000000?text=+) <span style=\"color:blue\">Categoría de referencia</span>|     \n",
    "| b   |  |   |\n",
    "| c   |   |   |\n",
    "| d   |  |   |\n",
    "   "
   ]
  },
  {
   "cell_type": "code",
   "execution_count": 136,
   "metadata": {
    "colab": {
     "base_uri": "https://localhost:8080/",
     "height": 35
    },
    "colab_type": "code",
    "id": "GKbqDG4EUBjp",
    "outputId": "fc500bd5-d0e8-4e40-dcd3-8e74680feb9d"
   },
   "outputs": [
    {
     "data": {
      "text/plain": [
       "['B', 'C', 'A', 'D', nan]"
      ]
     },
     "execution_count": 136,
     "metadata": {
      "tags": []
     },
     "output_type": "execute_result"
    }
   ],
   "source": [
    "dataset_unido['p86'].unique().tolist()"
   ]
  },
  {
   "cell_type": "markdown",
   "metadata": {
    "colab_type": "text",
    "id": "l1NV2wm-UBjs"
   },
   "source": [
    "**Correcto**\n",
    "__________________________________"
   ]
  },
  {
   "cell_type": "markdown",
   "metadata": {
    "colab_type": "text",
    "id": "UF3lF7K9UBjt"
   },
   "source": [
    "**Pregunta 87:** \n",
    "\n",
    "Color:![#c5f015](https://via.placeholder.com/15/c5f015/000000?text=+) <span style=\"color:green\"> Categórica nominal</span>\n",
    "![#0A6EF5](https://via.placeholder.com/15/0A6EF5/000000?text=+) <span style=\"color:blue\">Categória de referencia</span>\n",
    "![#F53F0A](https://via.placeholder.com/15/F53F0A/000000?text=+) <span style=\"color:red\"> Categórica ordinal</span>\n",
    "\n",
    "posibles respuestas:   \n",
    "\n",
    "|  #  |      significado       |  | \n",
    "|-----|------------------------|--|   \n",
    "| a   |           |![#0A6EF5](https://via.placeholder.com/15/0A6EF5/000000?text=+) <span style=\"color:blue\">Categoría de referencia</span>|     \n",
    "| b   |  |   |\n",
    "| c   |   |   |\n",
    "| d   |  |   |\n",
    "   "
   ]
  },
  {
   "cell_type": "code",
   "execution_count": 137,
   "metadata": {
    "colab": {
     "base_uri": "https://localhost:8080/",
     "height": 35
    },
    "colab_type": "code",
    "id": "P88Yfpb5UBjt",
    "outputId": "5fee0522-1d1f-4e8a-9f9f-8a92cef7d089"
   },
   "outputs": [
    {
     "data": {
      "text/plain": [
       "['D', 'B', 'C', 'A', nan, 'E']"
      ]
     },
     "execution_count": 137,
     "metadata": {
      "tags": []
     },
     "output_type": "execute_result"
    }
   ],
   "source": [
    "dataset_unido['p87'].unique().tolist()"
   ]
  },
  {
   "cell_type": "markdown",
   "metadata": {
    "colab_type": "text",
    "id": "U4jR9wsgUBju"
   },
   "source": [
    "A pesar de que esta pregunta tiene respuestas de a,b,c,d,e,f, tiene algunas otras respuestas registradas, por lo que se convertirán a nulas."
   ]
  },
  {
   "cell_type": "code",
   "execution_count": null,
   "metadata": {
    "colab": {},
    "colab_type": "code",
    "id": "Kw-VpIl7UBjv"
   },
   "outputs": [],
   "source": [
    "dataset_unido.loc[dataset_unido[\"p87\"] == \"E\",\"p87\"] = np.nan"
   ]
  },
  {
   "cell_type": "code",
   "execution_count": 139,
   "metadata": {
    "colab": {
     "base_uri": "https://localhost:8080/",
     "height": 35
    },
    "colab_type": "code",
    "id": "ffjNjfeuUBjx",
    "outputId": "446d5bee-661f-4121-80ed-bd73ee506a7c"
   },
   "outputs": [
    {
     "data": {
      "text/plain": [
       "['D', 'B', 'C', 'A', nan]"
      ]
     },
     "execution_count": 139,
     "metadata": {
      "tags": []
     },
     "output_type": "execute_result"
    }
   ],
   "source": [
    "dataset_unido['p87'].unique().tolist()"
   ]
  },
  {
   "cell_type": "markdown",
   "metadata": {
    "colab_type": "text",
    "id": "8wjtnu2bUBjx"
   },
   "source": [
    "**Correcto**\n",
    "__________________________________"
   ]
  },
  {
   "cell_type": "markdown",
   "metadata": {
    "colab_type": "text",
    "id": "8HaYgx9KUBjy"
   },
   "source": [
    "**Pregunta 88:** \n",
    "\n",
    "Color:![#c5f015](https://via.placeholder.com/15/c5f015/000000?text=+) <span style=\"color:green\"> Categórica nominal</span>\n",
    "![#0A6EF5](https://via.placeholder.com/15/0A6EF5/000000?text=+) <span style=\"color:blue\">Categória de referencia</span>\n",
    "![#F53F0A](https://via.placeholder.com/15/F53F0A/000000?text=+) <span style=\"color:red\"> Categórica ordinal</span>\n",
    "\n",
    "posibles respuestas:   \n",
    "\n",
    "|  #  |      significado       |  | \n",
    "|-----|------------------------|--|   \n",
    "| a   |           |![#0A6EF5](https://via.placeholder.com/15/0A6EF5/000000?text=+) <span style=\"color:blue\">Categoría de referencia</span>|     \n",
    "| b   |  |   |\n",
    "| c   |   |   |\n",
    "| d   |  |   |\n",
    "   "
   ]
  },
  {
   "cell_type": "code",
   "execution_count": 140,
   "metadata": {
    "colab": {
     "base_uri": "https://localhost:8080/",
     "height": 35
    },
    "colab_type": "code",
    "id": "-ocInopBUBjy",
    "outputId": "bcad2997-9494-43c8-eb32-59edae08a965"
   },
   "outputs": [
    {
     "data": {
      "text/plain": [
       "['D', 'B', 'C', 'A', nan, 'E']"
      ]
     },
     "execution_count": 140,
     "metadata": {
      "tags": []
     },
     "output_type": "execute_result"
    }
   ],
   "source": [
    "dataset_unido['p88'].unique().tolist()"
   ]
  },
  {
   "cell_type": "markdown",
   "metadata": {
    "colab_type": "text",
    "id": "sjzi_BbcUBj0"
   },
   "source": [
    "A pesar de que esta pregunta tiene respuestas de a,b,c,d,e,f, tiene algunas otras respuestas registradas, por lo que se convertirán a nulas."
   ]
  },
  {
   "cell_type": "code",
   "execution_count": null,
   "metadata": {
    "colab": {},
    "colab_type": "code",
    "id": "7BOKzee4UBj1"
   },
   "outputs": [],
   "source": [
    "dataset_unido.loc[dataset_unido[\"p88\"] == \"E\",\"p88\"] = np.nan"
   ]
  },
  {
   "cell_type": "code",
   "execution_count": 142,
   "metadata": {
    "colab": {
     "base_uri": "https://localhost:8080/",
     "height": 35
    },
    "colab_type": "code",
    "id": "dbKOo0t5UBj2",
    "outputId": "63eac9e7-67b5-4425-af03-c88c6b50dcc3"
   },
   "outputs": [
    {
     "data": {
      "text/plain": [
       "['D', 'B', 'C', 'A', nan]"
      ]
     },
     "execution_count": 142,
     "metadata": {
      "tags": []
     },
     "output_type": "execute_result"
    }
   ],
   "source": [
    "dataset_unido['p88'].unique().tolist()"
   ]
  },
  {
   "cell_type": "markdown",
   "metadata": {
    "colab_type": "text",
    "id": "VWJaVyu1UBj4"
   },
   "source": [
    "**Correcto**\n",
    "__________________________________"
   ]
  },
  {
   "cell_type": "markdown",
   "metadata": {
    "colab_type": "text",
    "id": "XvQP3PUmUBj4"
   },
   "source": [
    "**Pregunta 89:** \n",
    "\n",
    "Color:![#c5f015](https://via.placeholder.com/15/c5f015/000000?text=+) <span style=\"color:green\"> Categórica nominal</span>\n",
    "![#0A6EF5](https://via.placeholder.com/15/0A6EF5/000000?text=+) <span style=\"color:blue\">Categória de referencia</span>\n",
    "![#F53F0A](https://via.placeholder.com/15/F53F0A/000000?text=+) <span style=\"color:red\"> Categórica ordinal</span>\n",
    "\n",
    "posibles respuestas:   \n",
    "\n",
    "|  #  |      significado       |  | \n",
    "|-----|------------------------|--|   \n",
    "| a   |           |![#0A6EF5](https://via.placeholder.com/15/0A6EF5/000000?text=+) <span style=\"color:blue\">Categoría de referencia</span>|     \n",
    "| b   |  |   |\n",
    "| c   |   |   |\n",
    "| d   |  |   |\n",
    "  "
   ]
  },
  {
   "cell_type": "code",
   "execution_count": 143,
   "metadata": {
    "colab": {
     "base_uri": "https://localhost:8080/",
     "height": 35
    },
    "colab_type": "code",
    "id": "cWMnt2uOUBj5",
    "outputId": "262b2531-d10a-4dbb-9475-45735edd7116"
   },
   "outputs": [
    {
     "data": {
      "text/plain": [
       "['C', 'B', 'A', 'D', nan, 'E']"
      ]
     },
     "execution_count": 143,
     "metadata": {
      "tags": []
     },
     "output_type": "execute_result"
    }
   ],
   "source": [
    "dataset_unido['p89'].unique().tolist()"
   ]
  },
  {
   "cell_type": "markdown",
   "metadata": {
    "colab_type": "text",
    "id": "Ox2nZictUBj6"
   },
   "source": [
    "A pesar de que esta pregunta tiene respuestas de a,b,c,d,e,f, tiene algunas otras respuestas registradas, por lo que se convertirán a nulas."
   ]
  },
  {
   "cell_type": "code",
   "execution_count": null,
   "metadata": {
    "colab": {},
    "colab_type": "code",
    "id": "ux87wMKkUBj6"
   },
   "outputs": [],
   "source": [
    "dataset_unido.loc[dataset_unido[\"p89\"] == \"E\",\"p89\"] = np.nan"
   ]
  },
  {
   "cell_type": "code",
   "execution_count": 145,
   "metadata": {
    "colab": {
     "base_uri": "https://localhost:8080/",
     "height": 35
    },
    "colab_type": "code",
    "id": "YgZkFMo0UBj9",
    "outputId": "523fec82-85f7-4ce3-a7b0-f7f32daf9b3f"
   },
   "outputs": [
    {
     "data": {
      "text/plain": [
       "['C', 'B', 'A', 'D', nan]"
      ]
     },
     "execution_count": 145,
     "metadata": {
      "tags": []
     },
     "output_type": "execute_result"
    }
   ],
   "source": [
    "dataset_unido['p89'].unique().tolist()"
   ]
  },
  {
   "cell_type": "markdown",
   "metadata": {
    "colab_type": "text",
    "id": "OtYwWzUmUBj-"
   },
   "source": [
    "**Correcto**\n",
    "__________________________________"
   ]
  },
  {
   "cell_type": "markdown",
   "metadata": {
    "colab_type": "text",
    "id": "DuYDXOpzUBj_"
   },
   "source": [
    "**Pregunta 90:** \n",
    "\n",
    "Color:![#c5f015](https://via.placeholder.com/15/c5f015/000000?text=+) <span style=\"color:green\"> Categórica nominal</span>\n",
    "![#0A6EF5](https://via.placeholder.com/15/0A6EF5/000000?text=+) <span style=\"color:blue\">Categória de referencia</span>\n",
    "![#F53F0A](https://via.placeholder.com/15/F53F0A/000000?text=+) <span style=\"color:red\"> Categórica ordinal</span>\n",
    "\n",
    "posibles respuestas:   \n",
    "\n",
    "|  #  |      significado       |  | \n",
    "|-----|------------------------|--|   \n",
    "| a   |           |![#0A6EF5](https://via.placeholder.com/15/0A6EF5/000000?text=+) <span style=\"color:blue\">Categoría de referencia</span>|     \n",
    "| b   |  |   |\n",
    "| c   |   |   |\n",
    "| d   |  |   |\n",
    "  "
   ]
  },
  {
   "cell_type": "code",
   "execution_count": 146,
   "metadata": {
    "colab": {
     "base_uri": "https://localhost:8080/",
     "height": 35
    },
    "colab_type": "code",
    "id": "-vwptkHsUBj_",
    "outputId": "5fc8963c-bf4c-45f3-8de0-4dc833cf9914"
   },
   "outputs": [
    {
     "data": {
      "text/plain": [
       "['A', 'D', 'B', nan, 'C']"
      ]
     },
     "execution_count": 146,
     "metadata": {
      "tags": []
     },
     "output_type": "execute_result"
    }
   ],
   "source": [
    "dataset_unido['p90'].unique().tolist()"
   ]
  },
  {
   "cell_type": "markdown",
   "metadata": {
    "colab_type": "text",
    "id": "QHdTtgj5UBkB"
   },
   "source": [
    "**Correcto**\n",
    "__________________________________"
   ]
  },
  {
   "cell_type": "markdown",
   "metadata": {
    "colab_type": "text",
    "id": "GETodvHTUBkB"
   },
   "source": [
    "**Pregunta 91:** \n",
    "\n",
    "Color:![#c5f015](https://via.placeholder.com/15/c5f015/000000?text=+) <span style=\"color:green\"> Categórica nominal</span>\n",
    "![#0A6EF5](https://via.placeholder.com/15/0A6EF5/000000?text=+) <span style=\"color:blue\">Categória de referencia</span>\n",
    "![#F53F0A](https://via.placeholder.com/15/F53F0A/000000?text=+) <span style=\"color:red\"> Categórica ordinal</span>\n",
    "\n",
    "posibles respuestas:   \n",
    "\n",
    "|  #  |      significado       |  | \n",
    "|-----|------------------------|--|   \n",
    "| a   |           |![#0A6EF5](https://via.placeholder.com/15/0A6EF5/000000?text=+) <span style=\"color:blue\">Categoría de referencia</span>|     \n",
    "| b   |  |   |\n",
    "| c   |   |   |\n",
    "| d   |  |   |\n",
    "    "
   ]
  },
  {
   "cell_type": "code",
   "execution_count": 147,
   "metadata": {
    "colab": {
     "base_uri": "https://localhost:8080/",
     "height": 35
    },
    "colab_type": "code",
    "id": "vKOBYWrGUBkB",
    "outputId": "decfdedb-e854-4140-e3c6-610059c1fc3c"
   },
   "outputs": [
    {
     "data": {
      "text/plain": [
       "['A', 'B', 'C', nan, 'D']"
      ]
     },
     "execution_count": 147,
     "metadata": {
      "tags": []
     },
     "output_type": "execute_result"
    }
   ],
   "source": [
    "dataset_unido['p91'].unique().tolist()"
   ]
  },
  {
   "cell_type": "markdown",
   "metadata": {
    "colab_type": "text",
    "id": "k-MwLjIEUBkD"
   },
   "source": [
    "**Correcto**\n",
    "__________________________________"
   ]
  },
  {
   "cell_type": "markdown",
   "metadata": {
    "colab_type": "text",
    "id": "i8ZRBOxUUBkD"
   },
   "source": [
    "**Pregunta 92:** \n",
    "\n",
    "Color:![#c5f015](https://via.placeholder.com/15/c5f015/000000?text=+) <span style=\"color:green\"> Categórica nominal</span>\n",
    "![#0A6EF5](https://via.placeholder.com/15/0A6EF5/000000?text=+) <span style=\"color:blue\">Categória de referencia</span>\n",
    "![#F53F0A](https://via.placeholder.com/15/F53F0A/000000?text=+) <span style=\"color:red\"> Categórica ordinal</span>\n",
    "\n",
    "posibles respuestas:   \n",
    "\n",
    "|  #  |      significado       |  | \n",
    "|-----|------------------------|--|   \n",
    "| a   |           |![#0A6EF5](https://via.placeholder.com/15/0A6EF5/000000?text=+) <span style=\"color:blue\">Categoría de referencia</span>|     \n",
    "| b   |  |   |\n",
    "| c   |   |   |\n",
    "| d   |  |   |\n",
    " "
   ]
  },
  {
   "cell_type": "code",
   "execution_count": 148,
   "metadata": {
    "colab": {
     "base_uri": "https://localhost:8080/",
     "height": 35
    },
    "colab_type": "code",
    "id": "qfvcJkspUBkD",
    "outputId": "a87d98e0-58c7-44e6-bf0b-792cac59eba7"
   },
   "outputs": [
    {
     "data": {
      "text/plain": [
       "['D', 'B', 'A', 'C', nan]"
      ]
     },
     "execution_count": 148,
     "metadata": {
      "tags": []
     },
     "output_type": "execute_result"
    }
   ],
   "source": [
    "dataset_unido['p92'].unique().tolist()"
   ]
  },
  {
   "cell_type": "markdown",
   "metadata": {
    "colab_type": "text",
    "id": "FFBRROjWUBkF"
   },
   "source": [
    "**Correcto**\n",
    "__________________________________"
   ]
  },
  {
   "cell_type": "markdown",
   "metadata": {
    "colab_type": "text",
    "id": "iemuOLs3UBkF"
   },
   "source": [
    "**Pregunta 93:** \n",
    "\n",
    "Color:![#c5f015](https://via.placeholder.com/15/c5f015/000000?text=+) <span style=\"color:green\"> Categórica nominal</span>\n",
    "![#0A6EF5](https://via.placeholder.com/15/0A6EF5/000000?text=+) <span style=\"color:blue\">Categória de referencia</span>\n",
    "![#F53F0A](https://via.placeholder.com/15/F53F0A/000000?text=+) <span style=\"color:red\"> Categórica ordinal</span>\n",
    "\n",
    "posibles respuestas:   \n",
    "\n",
    "|  #  |      significado       |  | \n",
    "|-----|------------------------|--|   \n",
    "| a   |           |![#0A6EF5](https://via.placeholder.com/15/0A6EF5/000000?text=+) <span style=\"color:blue\">Categoría de referencia</span>|     \n",
    "| b   |  |   |\n",
    "| c   |   |   |\n",
    "| d   |  |   |\n",
    "   "
   ]
  },
  {
   "cell_type": "code",
   "execution_count": 155,
   "metadata": {
    "colab": {
     "base_uri": "https://localhost:8080/",
     "height": 35
    },
    "colab_type": "code",
    "id": "0MWBTt6qUBkF",
    "outputId": "ff7b33fd-947d-4e69-a6e9-99f7b2fef880"
   },
   "outputs": [
    {
     "data": {
      "text/plain": [
       "['D', 'C', 'B', 'A', nan]"
      ]
     },
     "execution_count": 155,
     "metadata": {
      "tags": []
     },
     "output_type": "execute_result"
    }
   ],
   "source": [
    "dataset_unido['p93'].unique().tolist()"
   ]
  },
  {
   "cell_type": "markdown",
   "metadata": {
    "colab_type": "text",
    "id": "5xw3ouBYUBkH"
   },
   "source": [
    "**Correcto**\n",
    "__________________________________"
   ]
  },
  {
   "cell_type": "markdown",
   "metadata": {
    "colab_type": "text",
    "id": "A-kwvilOUBkH"
   },
   "source": [
    "**Pregunta 94:** \n",
    "\n",
    "Color:![#c5f015](https://via.placeholder.com/15/c5f015/000000?text=+) <span style=\"color:green\"> Categórica nominal</span>\n",
    "![#0A6EF5](https://via.placeholder.com/15/0A6EF5/000000?text=+) <span style=\"color:blue\">Categória de referencia</span>\n",
    "![#F53F0A](https://via.placeholder.com/15/F53F0A/000000?text=+) <span style=\"color:red\"> Categórica ordinal</span>\n",
    "\n",
    "posibles respuestas:   \n",
    "\n",
    "|  #  |      significado       |  | \n",
    "|-----|------------------------|--|   \n",
    "| a   |           |![#0A6EF5](https://via.placeholder.com/15/0A6EF5/000000?text=+) <span style=\"color:blue\">Categoría de referencia</span>|     \n",
    "| b   |  |   |\n",
    "| c   |   |   |\n",
    "| d   |  |   |\n",
    " "
   ]
  },
  {
   "cell_type": "code",
   "execution_count": 154,
   "metadata": {
    "colab": {
     "base_uri": "https://localhost:8080/",
     "height": 35
    },
    "colab_type": "code",
    "id": "fkRs2UMfUBkH",
    "outputId": "9b317a31-a752-41cb-b990-8406c582031c"
   },
   "outputs": [
    {
     "data": {
      "text/plain": [
       "['D', 'C', 'B', 'A', nan]"
      ]
     },
     "execution_count": 154,
     "metadata": {
      "tags": []
     },
     "output_type": "execute_result"
    }
   ],
   "source": [
    "dataset_unido['p94'].unique().tolist()"
   ]
  },
  {
   "cell_type": "markdown",
   "metadata": {
    "colab_type": "text",
    "id": "e0GrGGAPUBkJ"
   },
   "source": [
    "**Correcto**\n",
    "__________________________________"
   ]
  },
  {
   "cell_type": "markdown",
   "metadata": {
    "colab_type": "text",
    "id": "C1Pf8TYAUBkJ"
   },
   "source": [
    "**Pregunta 95:** \n",
    "\n",
    "Color:![#c5f015](https://via.placeholder.com/15/c5f015/000000?text=+) <span style=\"color:green\"> Categórica nominal</span>\n",
    "![#0A6EF5](https://via.placeholder.com/15/0A6EF5/000000?text=+) <span style=\"color:blue\">Categória de referencia</span>\n",
    "![#F53F0A](https://via.placeholder.com/15/F53F0A/000000?text=+) <span style=\"color:red\"> Categórica ordinal</span>\n",
    "\n",
    "posibles respuestas:   \n",
    "\n",
    "|  #  |      significado       |  | \n",
    "|-----|------------------------|--|   \n",
    "| a   |           |![#0A6EF5](https://via.placeholder.com/15/0A6EF5/000000?text=+) <span style=\"color:blue\">Categoría de referencia</span>|     \n",
    "| b   |  |   |\n",
    "| c   |   |   |\n",
    "| d   |  |   |\n",
    "  "
   ]
  },
  {
   "cell_type": "code",
   "execution_count": 153,
   "metadata": {
    "colab": {
     "base_uri": "https://localhost:8080/",
     "height": 35
    },
    "colab_type": "code",
    "id": "zV6SsCl3UBkK",
    "outputId": "27fc42a7-00fa-415a-9ed2-68709c6f4595"
   },
   "outputs": [
    {
     "data": {
      "text/plain": [
       "['D', 'B', 'C', 'A', nan]"
      ]
     },
     "execution_count": 153,
     "metadata": {
      "tags": []
     },
     "output_type": "execute_result"
    }
   ],
   "source": [
    "dataset_unido['p95'].unique().tolist()"
   ]
  },
  {
   "cell_type": "markdown",
   "metadata": {
    "colab_type": "text",
    "id": "5XBmEJMPUBkM"
   },
   "source": [
    "**Correcto**\n",
    "__________________________________"
   ]
  },
  {
   "cell_type": "markdown",
   "metadata": {
    "colab_type": "text",
    "id": "8ywWymonUBkM"
   },
   "source": [
    "**Pregunta 96:** \n",
    "\n",
    "Color:![#c5f015](https://via.placeholder.com/15/c5f015/000000?text=+) <span style=\"color:green\"> Categórica nominal</span>\n",
    "![#0A6EF5](https://via.placeholder.com/15/0A6EF5/000000?text=+) <span style=\"color:blue\">Categória de referencia</span>\n",
    "![#F53F0A](https://via.placeholder.com/15/F53F0A/000000?text=+) <span style=\"color:red\"> Categórica ordinal</span>\n",
    "\n",
    "posibles respuestas:   \n",
    "\n",
    "|  #  |      significado       |  | \n",
    "|-----|------------------------|--|   \n",
    "| a   |           |![#0A6EF5](https://via.placeholder.com/15/0A6EF5/000000?text=+) <span style=\"color:blue\">Categoría de referencia</span>|     \n",
    "| b   |  |   |\n",
    "| c   |   |   |\n",
    "| d   |  |   |\n",
    "   "
   ]
  },
  {
   "cell_type": "code",
   "execution_count": 156,
   "metadata": {
    "colab": {
     "base_uri": "https://localhost:8080/",
     "height": 35
    },
    "colab_type": "code",
    "id": "bZbIpeDOUBkM",
    "outputId": "b8585b5f-6bd6-45d9-8b27-1c0fb99c7095"
   },
   "outputs": [
    {
     "data": {
      "text/plain": [
       "['D', 'C', 'B', 'A', nan]"
      ]
     },
     "execution_count": 156,
     "metadata": {
      "tags": []
     },
     "output_type": "execute_result"
    }
   ],
   "source": [
    "dataset_unido['p96'].unique().tolist()"
   ]
  },
  {
   "cell_type": "markdown",
   "metadata": {
    "colab_type": "text",
    "id": "WSIKSTb6UBkO"
   },
   "source": [
    "**Correcto**\n",
    "__________________________________"
   ]
  },
  {
   "cell_type": "markdown",
   "metadata": {
    "colab_type": "text",
    "id": "kZ0e0unwUBkO"
   },
   "source": [
    "**Pregunta 97:** \n",
    "\n",
    "Color:![#c5f015](https://via.placeholder.com/15/c5f015/000000?text=+) <span style=\"color:green\"> Categórica nominal</span>\n",
    "![#0A6EF5](https://via.placeholder.com/15/0A6EF5/000000?text=+) <span style=\"color:blue\">Categória de referencia</span>\n",
    "![#F53F0A](https://via.placeholder.com/15/F53F0A/000000?text=+) <span style=\"color:red\"> Categórica ordinal</span>\n",
    "\n",
    "posibles respuestas:   \n",
    "\n",
    "|  #  |      significado       |  | \n",
    "|-----|------------------------|--|   \n",
    "| a   |           |![#0A6EF5](https://via.placeholder.com/15/0A6EF5/000000?text=+) <span style=\"color:blue\">Categoría de referencia</span>|     \n",
    "| b   |  |   |\n",
    "| c   |   |   |\n",
    "| d   |  |   |\n",
    "  "
   ]
  },
  {
   "cell_type": "code",
   "execution_count": 157,
   "metadata": {
    "colab": {
     "base_uri": "https://localhost:8080/",
     "height": 35
    },
    "colab_type": "code",
    "id": "felLz6LvUBkO",
    "outputId": "41e991ce-3fe2-478f-f0ff-795fa34212a8"
   },
   "outputs": [
    {
     "data": {
      "text/plain": [
       "['C', 'D', 'B', nan, 'A']"
      ]
     },
     "execution_count": 157,
     "metadata": {
      "tags": []
     },
     "output_type": "execute_result"
    }
   ],
   "source": [
    "dataset_unido['p97'].unique().tolist()"
   ]
  },
  {
   "cell_type": "markdown",
   "metadata": {
    "colab_type": "text",
    "id": "Ch2vyDxJUBkQ"
   },
   "source": [
    "**Correcto**\n",
    "__________________________________"
   ]
  },
  {
   "cell_type": "markdown",
   "metadata": {
    "colab_type": "text",
    "id": "1DdbhXT4UBkR"
   },
   "source": [
    "**Pregunta 98:** \n",
    "\n",
    "Color:![#c5f015](https://via.placeholder.com/15/c5f015/000000?text=+) <span style=\"color:green\"> Categórica nominal</span>\n",
    "![#0A6EF5](https://via.placeholder.com/15/0A6EF5/000000?text=+) <span style=\"color:blue\">Categória de referencia</span>\n",
    "![#F53F0A](https://via.placeholder.com/15/F53F0A/000000?text=+) <span style=\"color:red\"> Categórica ordinal</span>\n",
    "\n",
    "posibles respuestas:   \n",
    "\n",
    "|  #  |      significado       |  | \n",
    "|-----|------------------------|--|   \n",
    "| a   |           |![#0A6EF5](https://via.placeholder.com/15/0A6EF5/000000?text=+) <span style=\"color:blue\">Categoría de referencia</span>|     \n",
    "| b   |  |   |\n",
    "| c   |   |   |\n",
    "| d   |  |   |\n",
    "   "
   ]
  },
  {
   "cell_type": "code",
   "execution_count": 158,
   "metadata": {
    "colab": {
     "base_uri": "https://localhost:8080/",
     "height": 35
    },
    "colab_type": "code",
    "id": "qAe3nz5AUBkR",
    "outputId": "00172b7e-75e2-498f-ac83-f84ab91323ff"
   },
   "outputs": [
    {
     "data": {
      "text/plain": [
       "['B', 'C', 'D', 'A', nan]"
      ]
     },
     "execution_count": 158,
     "metadata": {
      "tags": []
     },
     "output_type": "execute_result"
    }
   ],
   "source": [
    "dataset_unido['p98'].unique().tolist()"
   ]
  },
  {
   "cell_type": "markdown",
   "metadata": {
    "colab_type": "text",
    "id": "ifL3EzoAUBkT"
   },
   "source": [
    "**Correcto**\n",
    "__________________________________"
   ]
  },
  {
   "cell_type": "markdown",
   "metadata": {
    "colab_type": "text",
    "id": "bK5Jj-MQUBkT"
   },
   "source": [
    "**Pregunta 99:** \n",
    "\n",
    "Color:![#c5f015](https://via.placeholder.com/15/c5f015/000000?text=+) <span style=\"color:green\"> Categórica nominal</span>\n",
    "![#0A6EF5](https://via.placeholder.com/15/0A6EF5/000000?text=+) <span style=\"color:blue\">Categória de referencia</span>\n",
    "![#F53F0A](https://via.placeholder.com/15/F53F0A/000000?text=+) <span style=\"color:red\"> Categórica ordinal</span>\n",
    "\n",
    "posibles respuestas:   \n",
    "\n",
    "|  #  |      significado       |  | \n",
    "|-----|------------------------|--|   \n",
    "| a   |           |![#0A6EF5](https://via.placeholder.com/15/0A6EF5/000000?text=+) <span style=\"color:blue\">Categoría de referencia</span>|     \n",
    "| b   |  |   |\n",
    "| c   |   |   |\n",
    "| d   |  |   |\n",
    "     "
   ]
  },
  {
   "cell_type": "code",
   "execution_count": 159,
   "metadata": {
    "colab": {
     "base_uri": "https://localhost:8080/",
     "height": 35
    },
    "colab_type": "code",
    "id": "ljHuLN71UBkT",
    "outputId": "58a9412d-4f71-4a0a-e2bf-04172a9bd3d7"
   },
   "outputs": [
    {
     "data": {
      "text/plain": [
       "['D', 'C', 'B', 'A', nan]"
      ]
     },
     "execution_count": 159,
     "metadata": {
      "tags": []
     },
     "output_type": "execute_result"
    }
   ],
   "source": [
    "dataset_unido['p99'].unique().tolist()"
   ]
  },
  {
   "cell_type": "markdown",
   "metadata": {
    "colab_type": "text",
    "id": "ZQn_mFM4UBkV"
   },
   "source": [
    "**Correcto**\n",
    "__________________________________"
   ]
  },
  {
   "cell_type": "markdown",
   "metadata": {
    "colab_type": "text",
    "id": "zoZGx2NaUBkV"
   },
   "source": [
    "**Pregunta 100:** \n",
    "\n",
    "Color:![#c5f015](https://via.placeholder.com/15/c5f015/000000?text=+) <span style=\"color:green\"> Categórica nominal</span>\n",
    "![#0A6EF5](https://via.placeholder.com/15/0A6EF5/000000?text=+) <span style=\"color:blue\">Categória de referencia</span>\n",
    "![#F53F0A](https://via.placeholder.com/15/F53F0A/000000?text=+) <span style=\"color:red\"> Categórica ordinal</span>\n",
    "\n",
    "posibles respuestas:   \n",
    "\n",
    "|  #  |      significado       |  | \n",
    "|-----|------------------------|--|   \n",
    "| a   |           |![#0A6EF5](https://via.placeholder.com/15/0A6EF5/000000?text=+) <span style=\"color:blue\">Categoría de referencia</span>|     \n",
    "| b   |  |   |\n",
    "| c   |   |   |\n",
    "| d   |  |   |\n",
    "   "
   ]
  },
  {
   "cell_type": "code",
   "execution_count": 160,
   "metadata": {
    "colab": {
     "base_uri": "https://localhost:8080/",
     "height": 35
    },
    "colab_type": "code",
    "id": "OnJ-von2UBkV",
    "outputId": "783bbc93-b052-4ee2-9a17-f5ca8ba3d227"
   },
   "outputs": [
    {
     "data": {
      "text/plain": [
       "['D', 'C', 'B', 'A', nan]"
      ]
     },
     "execution_count": 160,
     "metadata": {
      "tags": []
     },
     "output_type": "execute_result"
    }
   ],
   "source": [
    "dataset_unido['p100'].unique().tolist()"
   ]
  },
  {
   "cell_type": "markdown",
   "metadata": {
    "colab_type": "text",
    "id": "B4_gcY2tUBkX"
   },
   "source": [
    "**Correcto**\n",
    "__________________________________"
   ]
  },
  {
   "cell_type": "markdown",
   "metadata": {
    "colab_type": "text",
    "id": "8vC9lOsBUBkX"
   },
   "source": [
    "**Pregunta 101:** \n",
    "\n",
    "Color:![#c5f015](https://via.placeholder.com/15/c5f015/000000?text=+) <span style=\"color:green\"> Categórica nominal</span>\n",
    "![#0A6EF5](https://via.placeholder.com/15/0A6EF5/000000?text=+) <span style=\"color:blue\">Categória de referencia</span>\n",
    "![#F53F0A](https://via.placeholder.com/15/F53F0A/000000?text=+) <span style=\"color:red\"> Categórica ordinal</span>\n",
    "\n",
    "posibles respuestas:   \n",
    "\n",
    "|  #  |      significado       |  | \n",
    "|-----|------------------------|--|   \n",
    "| a   |           |![#0A6EF5](https://via.placeholder.com/15/0A6EF5/000000?text=+) <span style=\"color:blue\">Categoría de referencia</span>|     \n",
    "| b   |  |   |\n",
    "| c   |   |   |\n",
    "| d   |  |   |\n",
    "   "
   ]
  },
  {
   "cell_type": "code",
   "execution_count": 161,
   "metadata": {
    "colab": {
     "base_uri": "https://localhost:8080/",
     "height": 35
    },
    "colab_type": "code",
    "id": "YlkSbgjZUBkX",
    "outputId": "692bc735-ec2a-4aa6-8500-693078c3788e"
   },
   "outputs": [
    {
     "data": {
      "text/plain": [
       "['D', 'C', 'B', 'A', nan]"
      ]
     },
     "execution_count": 161,
     "metadata": {
      "tags": []
     },
     "output_type": "execute_result"
    }
   ],
   "source": [
    "dataset_unido['p101'].unique().tolist()"
   ]
  },
  {
   "cell_type": "markdown",
   "metadata": {
    "colab_type": "text",
    "id": "yuKf5oHnUBkZ"
   },
   "source": [
    "**Correcto**\n",
    "__________________________________"
   ]
  },
  {
   "cell_type": "markdown",
   "metadata": {
    "colab_type": "text",
    "id": "BMsIdq7SUBkZ"
   },
   "source": [
    "**Pregunta 102:** \n",
    "\n",
    "Color:![#c5f015](https://via.placeholder.com/15/c5f015/000000?text=+) <span style=\"color:green\"> Categórica nominal</span>\n",
    "![#0A6EF5](https://via.placeholder.com/15/0A6EF5/000000?text=+) <span style=\"color:blue\">Categória de referencia</span>\n",
    "![#F53F0A](https://via.placeholder.com/15/F53F0A/000000?text=+) <span style=\"color:red\"> Categórica ordinal</span>\n",
    "\n",
    "posibles respuestas:   \n",
    "\n",
    "|  #  |      significado       |  | \n",
    "|-----|------------------------|--|   \n",
    "| a   |           |![#0A6EF5](https://via.placeholder.com/15/0A6EF5/000000?text=+) <span style=\"color:blue\">Categoría de referencia</span>|     \n",
    "| b   |  |   |\n",
    "| c   |   |   |\n",
    "| d   |  |   |\n",
    "   "
   ]
  },
  {
   "cell_type": "code",
   "execution_count": 162,
   "metadata": {
    "colab": {
     "base_uri": "https://localhost:8080/",
     "height": 35
    },
    "colab_type": "code",
    "id": "binoj8jUUBkZ",
    "outputId": "3d4547bc-506f-4e0b-a4b0-ffce05a976d3"
   },
   "outputs": [
    {
     "data": {
      "text/plain": [
       "['C', 'B', 'D', 'A', nan]"
      ]
     },
     "execution_count": 162,
     "metadata": {
      "tags": []
     },
     "output_type": "execute_result"
    }
   ],
   "source": [
    "dataset_unido['p102'].unique().tolist()"
   ]
  },
  {
   "cell_type": "markdown",
   "metadata": {
    "colab_type": "text",
    "id": "cV7bfPSqUBkp"
   },
   "source": [
    "**Correcto**\n",
    "__________________________________"
   ]
  },
  {
   "cell_type": "markdown",
   "metadata": {
    "colab_type": "text",
    "id": "_M8A61m2UBkp"
   },
   "source": [
    "**Pregunta 103:** \n",
    "\n",
    "Color:![#c5f015](https://via.placeholder.com/15/c5f015/000000?text=+) <span style=\"color:green\"> Categórica nominal</span>\n",
    "![#0A6EF5](https://via.placeholder.com/15/0A6EF5/000000?text=+) <span style=\"color:blue\">Categória de referencia</span>\n",
    "![#F53F0A](https://via.placeholder.com/15/F53F0A/000000?text=+) <span style=\"color:red\"> Categórica ordinal</span>\n",
    "\n",
    "posibles respuestas:   \n",
    "\n",
    "|  #  |      significado       |  | \n",
    "|-----|------------------------|--|   \n",
    "| a   |           |![#0A6EF5](https://via.placeholder.com/15/0A6EF5/000000?text=+) <span style=\"color:blue\">Categoría de referencia</span>|     \n",
    "| b   |  |   |\n",
    "| c   |   |   |\n",
    "| d   |  |   |\n",
    "  "
   ]
  },
  {
   "cell_type": "code",
   "execution_count": 163,
   "metadata": {
    "colab": {
     "base_uri": "https://localhost:8080/",
     "height": 35
    },
    "colab_type": "code",
    "id": "PcPsvz7WUBkq",
    "outputId": "164cb318-0668-455f-8bc3-aa8647a95370"
   },
   "outputs": [
    {
     "data": {
      "text/plain": [
       "['B', 'C', 'D', 'A', nan]"
      ]
     },
     "execution_count": 163,
     "metadata": {
      "tags": []
     },
     "output_type": "execute_result"
    }
   ],
   "source": [
    "dataset_unido['p103'].unique().tolist()"
   ]
  },
  {
   "cell_type": "markdown",
   "metadata": {
    "colab_type": "text",
    "id": "vng87DltUBks"
   },
   "source": [
    "**Correcto**\n",
    "__________________________________"
   ]
  },
  {
   "cell_type": "markdown",
   "metadata": {
    "colab_type": "text",
    "id": "K2D1msTUUBks"
   },
   "source": [
    "**Pregunta 104:** \n",
    "\n",
    "Color:![#c5f015](https://via.placeholder.com/15/c5f015/000000?text=+) <span style=\"color:green\"> Categórica nominal</span>\n",
    "![#0A6EF5](https://via.placeholder.com/15/0A6EF5/000000?text=+) <span style=\"color:blue\">Categória de referencia</span>\n",
    "![#F53F0A](https://via.placeholder.com/15/F53F0A/000000?text=+) <span style=\"color:red\"> Categórica ordinal</span>\n",
    "\n",
    "posibles respuestas:   \n",
    "\n",
    "|  #  |      significado       |  | \n",
    "|-----|------------------------|--|   \n",
    "| a   |           |![#0A6EF5](https://via.placeholder.com/15/0A6EF5/000000?text=+) <span style=\"color:blue\">Categoría de referencia</span>|     \n",
    "| b   |  |   |\n",
    "| c   |   |   |\n",
    "| d   |  |   |\n",
    "   "
   ]
  },
  {
   "cell_type": "code",
   "execution_count": 164,
   "metadata": {
    "colab": {
     "base_uri": "https://localhost:8080/",
     "height": 35
    },
    "colab_type": "code",
    "id": "utua3CKgUBks",
    "outputId": "907f5029-aa67-4d2c-db5d-563264db816d"
   },
   "outputs": [
    {
     "data": {
      "text/plain": [
       "['D', 'B', 'C', 'A', nan]"
      ]
     },
     "execution_count": 164,
     "metadata": {
      "tags": []
     },
     "output_type": "execute_result"
    }
   ],
   "source": [
    "dataset_unido['p104'].unique().tolist()"
   ]
  },
  {
   "cell_type": "markdown",
   "metadata": {
    "colab_type": "text",
    "id": "gZNmb_pCUBkt"
   },
   "source": [
    "**Correcto**\n",
    "__________________________________"
   ]
  },
  {
   "cell_type": "markdown",
   "metadata": {
    "colab_type": "text",
    "id": "3Q55IoRNUBkt"
   },
   "source": [
    "**Pregunta 105:** \n",
    "\n",
    "Color:![#c5f015](https://via.placeholder.com/15/c5f015/000000?text=+) <span style=\"color:green\"> Categórica nominal</span>\n",
    "![#0A6EF5](https://via.placeholder.com/15/0A6EF5/000000?text=+) <span style=\"color:blue\">Categória de referencia</span>\n",
    "![#F53F0A](https://via.placeholder.com/15/F53F0A/000000?text=+) <span style=\"color:red\"> Categórica ordinal</span>\n",
    "\n",
    "posibles respuestas:   \n",
    "\n",
    "|  #  |      significado       |  | \n",
    "|-----|------------------------|--|   \n",
    "| a   |           |![#0A6EF5](https://via.placeholder.com/15/0A6EF5/000000?text=+) <span style=\"color:blue\">Categoría de referencia</span>|     \n",
    "| b   |  |   |\n",
    "| c   |   |   |\n",
    "| d   |  |   |\n",
    " "
   ]
  },
  {
   "cell_type": "code",
   "execution_count": 165,
   "metadata": {
    "colab": {
     "base_uri": "https://localhost:8080/",
     "height": 35
    },
    "colab_type": "code",
    "id": "8VUEaFhKUBkt",
    "outputId": "4fffd38b-aad3-4260-9b02-4cada3c1837e"
   },
   "outputs": [
    {
     "data": {
      "text/plain": [
       "['D', 'B', 'C', 'A', nan]"
      ]
     },
     "execution_count": 165,
     "metadata": {
      "tags": []
     },
     "output_type": "execute_result"
    }
   ],
   "source": [
    "dataset_unido['p105'].unique().tolist()"
   ]
  },
  {
   "cell_type": "markdown",
   "metadata": {
    "colab_type": "text",
    "id": "pVm-GrjzUBkv"
   },
   "source": [
    "**Correcto**\n",
    "__________________________________"
   ]
  },
  {
   "cell_type": "markdown",
   "metadata": {
    "colab_type": "text",
    "id": "WcSZjIxDUBkw"
   },
   "source": [
    "**Pregunta 106:** \n",
    "\n",
    "Color:![#c5f015](https://via.placeholder.com/15/c5f015/000000?text=+) <span style=\"color:green\"> Categórica nominal</span>\n",
    "![#0A6EF5](https://via.placeholder.com/15/0A6EF5/000000?text=+) <span style=\"color:blue\">Categória de referencia</span>\n",
    "![#F53F0A](https://via.placeholder.com/15/F53F0A/000000?text=+) <span style=\"color:red\"> Categórica ordinal</span>\n",
    "\n",
    "posibles respuestas:   \n",
    "\n",
    "|  #  |      significado       |  | \n",
    "|-----|------------------------|--|   \n",
    "| a   |           |![#0A6EF5](https://via.placeholder.com/15/0A6EF5/000000?text=+) <span style=\"color:blue\">Categoría de referencia</span>|     \n",
    "| b   |  |   |\n",
    "| c   |   |   |\n",
    "| d   |  |   |\n",
    " "
   ]
  },
  {
   "cell_type": "code",
   "execution_count": 166,
   "metadata": {
    "colab": {
     "base_uri": "https://localhost:8080/",
     "height": 35
    },
    "colab_type": "code",
    "id": "kT56I2cbUBkw",
    "outputId": "9184606f-b981-4d11-c1c2-bd888552dcdb"
   },
   "outputs": [
    {
     "data": {
      "text/plain": [
       "['D', 'B', 'A', 'C', nan]"
      ]
     },
     "execution_count": 166,
     "metadata": {
      "tags": []
     },
     "output_type": "execute_result"
    }
   ],
   "source": [
    "dataset_unido['p106'].unique().tolist()"
   ]
  },
  {
   "cell_type": "markdown",
   "metadata": {
    "colab_type": "text",
    "id": "Hapr9_buUBkz"
   },
   "source": [
    "**Correcto**\n",
    "__________________________________"
   ]
  },
  {
   "cell_type": "markdown",
   "metadata": {
    "colab_type": "text",
    "id": "EHVtftcMUBkz"
   },
   "source": [
    "**Pregunta 107:** \n",
    "\n",
    "Color:![#c5f015](https://via.placeholder.com/15/c5f015/000000?text=+) <span style=\"color:green\"> Categórica nominal</span>\n",
    "![#0A6EF5](https://via.placeholder.com/15/0A6EF5/000000?text=+) <span style=\"color:blue\">Categória de referencia</span>\n",
    "![#F53F0A](https://via.placeholder.com/15/F53F0A/000000?text=+) <span style=\"color:red\"> Categórica ordinal</span>\n",
    "\n",
    "posibles respuestas:   \n",
    "\n",
    "|  #  |      significado       |  | \n",
    "|-----|------------------------|--|   \n",
    "| a   |           |![#0A6EF5](https://via.placeholder.com/15/0A6EF5/000000?text=+) <span style=\"color:blue\">Categoría de referencia</span>|     \n",
    "| b   |  |   |\n",
    "| c   |   |   |\n",
    "| d   |  |   |\n",
    "    "
   ]
  },
  {
   "cell_type": "code",
   "execution_count": 167,
   "metadata": {
    "colab": {
     "base_uri": "https://localhost:8080/",
     "height": 35
    },
    "colab_type": "code",
    "id": "QqtJEmFkUBkz",
    "outputId": "077e229f-3e8d-470f-d90d-46ea231d39fd"
   },
   "outputs": [
    {
     "data": {
      "text/plain": [
       "['D', 'B', 'C', 'A', nan]"
      ]
     },
     "execution_count": 167,
     "metadata": {
      "tags": []
     },
     "output_type": "execute_result"
    }
   ],
   "source": [
    "dataset_unido['p107'].unique().tolist()"
   ]
  },
  {
   "cell_type": "markdown",
   "metadata": {
    "colab_type": "text",
    "id": "v7qGGgWEUBk1"
   },
   "source": [
    "**Correcto**\n",
    "__________________________________"
   ]
  },
  {
   "cell_type": "markdown",
   "metadata": {
    "colab_type": "text",
    "id": "P2h0X2tXUBk1"
   },
   "source": [
    "**Pregunta 108:** \n",
    "\n",
    "Color:![#c5f015](https://via.placeholder.com/15/c5f015/000000?text=+) <span style=\"color:green\"> Categórica nominal</span>\n",
    "![#0A6EF5](https://via.placeholder.com/15/0A6EF5/000000?text=+) <span style=\"color:blue\">Categória de referencia</span>\n",
    "![#F53F0A](https://via.placeholder.com/15/F53F0A/000000?text=+) <span style=\"color:red\"> Categórica ordinal</span>\n",
    "\n",
    "posibles respuestas:   \n",
    "\n",
    "|  #  |      significado       |  | \n",
    "|-----|------------------------|--|   \n",
    "| a   |           |![#0A6EF5](https://via.placeholder.com/15/0A6EF5/000000?text=+) <span style=\"color:blue\">Categoría de referencia</span>|     \n",
    "| b   |  |   |\n",
    "| c   |   |   |\n",
    "| d   |  |   |\n",
    "  "
   ]
  },
  {
   "cell_type": "code",
   "execution_count": 168,
   "metadata": {
    "colab": {
     "base_uri": "https://localhost:8080/",
     "height": 35
    },
    "colab_type": "code",
    "id": "r7d1VD22UBk1",
    "outputId": "baf47780-f58d-48df-c2ac-49b40d1ed738"
   },
   "outputs": [
    {
     "data": {
      "text/plain": [
       "['D', 'B', 'C', nan, 'A']"
      ]
     },
     "execution_count": 168,
     "metadata": {
      "tags": []
     },
     "output_type": "execute_result"
    }
   ],
   "source": [
    "dataset_unido['p108'].unique().tolist()"
   ]
  },
  {
   "cell_type": "markdown",
   "metadata": {
    "colab_type": "text",
    "id": "Xb_D0BNfUBk2"
   },
   "source": [
    "**Correcto**\n",
    "__________________________________"
   ]
  },
  {
   "cell_type": "markdown",
   "metadata": {
    "colab_type": "text",
    "id": "hGzSKHDNUBk3"
   },
   "source": [
    "**Pregunta 109:** \n",
    "\n",
    "Color:![#c5f015](https://via.placeholder.com/15/c5f015/000000?text=+) <span style=\"color:green\"> Categórica nominal</span>\n",
    "![#0A6EF5](https://via.placeholder.com/15/0A6EF5/000000?text=+) <span style=\"color:blue\">Categória de referencia</span>\n",
    "![#F53F0A](https://via.placeholder.com/15/F53F0A/000000?text=+) <span style=\"color:red\"> Categórica ordinal</span>\n",
    "\n",
    "posibles respuestas:   \n",
    "\n",
    "|  #  |      significado       |  | \n",
    "|-----|------------------------|--|   \n",
    "| a   |           |![#0A6EF5](https://via.placeholder.com/15/0A6EF5/000000?text=+) <span style=\"color:blue\">Categoría de referencia</span>|     \n",
    "| b   |  |   |\n",
    "| c   |   |   |\n",
    "| d   |  |   |\n",
    "   "
   ]
  },
  {
   "cell_type": "code",
   "execution_count": 169,
   "metadata": {
    "colab": {
     "base_uri": "https://localhost:8080/",
     "height": 35
    },
    "colab_type": "code",
    "id": "aI4moiP2UBk3",
    "outputId": "ed60b626-1095-4775-a436-d74f11050582"
   },
   "outputs": [
    {
     "data": {
      "text/plain": [
       "['D', 'C', 'B', 'A', nan, 'F']"
      ]
     },
     "execution_count": 169,
     "metadata": {
      "tags": []
     },
     "output_type": "execute_result"
    }
   ],
   "source": [
    "dataset_unido['p109'].unique().tolist()"
   ]
  },
  {
   "cell_type": "markdown",
   "metadata": {
    "colab_type": "text",
    "id": "MDXJnRiXUBk5"
   },
   "source": []
  },
  {
   "cell_type": "code",
   "execution_count": null,
   "metadata": {
    "colab": {},
    "colab_type": "code",
    "id": "Mr-NunD-UBk5"
   },
   "outputs": [],
   "source": [
    "dataset_unido.loc[dataset_unido[\"p109\"] == \"F\",\"p109\"] = np.nan"
   ]
  },
  {
   "cell_type": "code",
   "execution_count": 171,
   "metadata": {
    "colab": {
     "base_uri": "https://localhost:8080/",
     "height": 35
    },
    "colab_type": "code",
    "id": "uFo_7cqcUBk6",
    "outputId": "8cfc3e35-f61d-45c2-f5fc-8e460689d787"
   },
   "outputs": [
    {
     "data": {
      "text/plain": [
       "['D', 'C', 'B', 'A', nan]"
      ]
     },
     "execution_count": 171,
     "metadata": {
      "tags": []
     },
     "output_type": "execute_result"
    }
   ],
   "source": [
    "dataset_unido['p109'].unique().tolist()"
   ]
  },
  {
   "cell_type": "markdown",
   "metadata": {
    "colab_type": "text",
    "id": "pipQCCzYUBk8"
   },
   "source": [
    "**Correcto**\n",
    "__________________________________"
   ]
  },
  {
   "cell_type": "markdown",
   "metadata": {
    "colab_type": "text",
    "id": "jEL5aQnOUBk8"
   },
   "source": [
    "**Pregunta 110:** \n",
    "\n",
    "Color:![#c5f015](https://via.placeholder.com/15/c5f015/000000?text=+) <span style=\"color:green\"> Categórica nominal</span>\n",
    "![#0A6EF5](https://via.placeholder.com/15/0A6EF5/000000?text=+) <span style=\"color:blue\">Categória de referencia</span>\n",
    "![#F53F0A](https://via.placeholder.com/15/F53F0A/000000?text=+) <span style=\"color:red\"> Categórica ordinal</span>\n",
    "\n",
    "posibles respuestas:   \n",
    "\n",
    "|  #  |      significado       |  | \n",
    "|-----|------------------------|--|   \n",
    "| a   |           |![#0A6EF5](https://via.placeholder.com/15/0A6EF5/000000?text=+) <span style=\"color:blue\">Categoría de referencia</span>|     \n",
    "| b   |  |   |\n",
    "| c   |   |   |\n",
    "| d   |  |   |\n",
    "   "
   ]
  },
  {
   "cell_type": "code",
   "execution_count": 172,
   "metadata": {
    "colab": {
     "base_uri": "https://localhost:8080/",
     "height": 35
    },
    "colab_type": "code",
    "id": "rgi9LdfWUBk8",
    "outputId": "13cc90c9-9d0e-43d8-a5a5-1a2d25fb342c"
   },
   "outputs": [
    {
     "data": {
      "text/plain": [
       "['D', 'A', 'C', 'B', nan]"
      ]
     },
     "execution_count": 172,
     "metadata": {
      "tags": []
     },
     "output_type": "execute_result"
    }
   ],
   "source": [
    "dataset_unido['p110'].unique().tolist()"
   ]
  },
  {
   "cell_type": "markdown",
   "metadata": {
    "colab_type": "text",
    "id": "y7hT8tGZUBk_"
   },
   "source": [
    "**Correcto**\n",
    "__________________________________"
   ]
  },
  {
   "cell_type": "markdown",
   "metadata": {
    "colab_type": "text",
    "id": "fwkXwF-1UBlA"
   },
   "source": [
    "**Pregunta 111:** \n",
    "\n",
    "Color:![#c5f015](https://via.placeholder.com/15/c5f015/000000?text=+) <span style=\"color:green\"> Categórica nominal</span>\n",
    "![#0A6EF5](https://via.placeholder.com/15/0A6EF5/000000?text=+) <span style=\"color:blue\">Categória de referencia</span>\n",
    "![#F53F0A](https://via.placeholder.com/15/F53F0A/000000?text=+) <span style=\"color:red\"> Categórica ordinal</span>\n",
    "\n",
    "posibles respuestas:   \n",
    "\n",
    "|  #  |      significado       |  | \n",
    "|-----|------------------------|--|   \n",
    "| a   |           |![#0A6EF5](https://via.placeholder.com/15/0A6EF5/000000?text=+) <span style=\"color:blue\">Categoría de referencia</span>|     \n",
    "| b   |  |   |\n",
    "| c   |   |   |\n",
    "| d   |  |   |\n",
    "     "
   ]
  },
  {
   "cell_type": "code",
   "execution_count": 173,
   "metadata": {
    "colab": {
     "base_uri": "https://localhost:8080/",
     "height": 35
    },
    "colab_type": "code",
    "id": "xuc3ji9tUBlB",
    "outputId": "94802d6e-38d7-4eef-83c3-c102415821c0"
   },
   "outputs": [
    {
     "data": {
      "text/plain": [
       "['D', 'A', 'B', 'C', nan]"
      ]
     },
     "execution_count": 173,
     "metadata": {
      "tags": []
     },
     "output_type": "execute_result"
    }
   ],
   "source": [
    "dataset_unido['p111'].unique().tolist()"
   ]
  },
  {
   "cell_type": "markdown",
   "metadata": {
    "colab_type": "text",
    "id": "gP_-QM_BUBlC"
   },
   "source": [
    "**Correcto**\n",
    "__________________________________"
   ]
  },
  {
   "cell_type": "markdown",
   "metadata": {
    "colab_type": "text",
    "id": "BSWImq9eUBlC"
   },
   "source": [
    "**Pregunta 112:** \n",
    "\n",
    "Color:![#c5f015](https://via.placeholder.com/15/c5f015/000000?text=+) <span style=\"color:green\"> Categórica nominal</span>\n",
    "![#0A6EF5](https://via.placeholder.com/15/0A6EF5/000000?text=+) <span style=\"color:blue\">Categória de referencia</span>\n",
    "![#F53F0A](https://via.placeholder.com/15/F53F0A/000000?text=+) <span style=\"color:red\"> Categórica ordinal</span>\n",
    "\n",
    "posibles respuestas:   \n",
    "\n",
    "|  #  |      significado       |  | \n",
    "|-----|------------------------|--|   \n",
    "| a   |           |![#0A6EF5](https://via.placeholder.com/15/0A6EF5/000000?text=+) <span style=\"color:blue\">Categoría de referencia</span>|     \n",
    "| b   |  |   |\n",
    "| c   |   |   |\n",
    "| d   |  |   |\n",
    "| e   |   |   |\n",
    " "
   ]
  },
  {
   "cell_type": "code",
   "execution_count": 174,
   "metadata": {
    "colab": {
     "base_uri": "https://localhost:8080/",
     "height": 35
    },
    "colab_type": "code",
    "id": "asvPwySOUBlD",
    "outputId": "f2e231b3-c64a-4425-85be-35b20f8c10a3"
   },
   "outputs": [
    {
     "data": {
      "text/plain": [
       "['A', 'B', 'E', 'C', 'D', nan]"
      ]
     },
     "execution_count": 174,
     "metadata": {
      "tags": []
     },
     "output_type": "execute_result"
    }
   ],
   "source": [
    "dataset_unido['p112'].unique().tolist()"
   ]
  },
  {
   "cell_type": "markdown",
   "metadata": {
    "colab_type": "text",
    "id": "vmI9k4K9UBlE"
   },
   "source": [
    "**Correcto**\n",
    "__________________________________"
   ]
  },
  {
   "cell_type": "markdown",
   "metadata": {
    "colab_type": "text",
    "id": "9C8cBTNKUBlE"
   },
   "source": [
    "**Pregunta 113:** \n",
    "\n",
    "Color:![#c5f015](https://via.placeholder.com/15/c5f015/000000?text=+) <span style=\"color:green\"> Categórica nominal</span>\n",
    "![#0A6EF5](https://via.placeholder.com/15/0A6EF5/000000?text=+) <span style=\"color:blue\">Categória de referencia</span>\n",
    "![#F53F0A](https://via.placeholder.com/15/F53F0A/000000?text=+) <span style=\"color:red\"> Categórica ordinal</span>\n",
    "\n",
    "posibles respuestas:   \n",
    "\n",
    "|  #  |      significado       |  | \n",
    "|-----|------------------------|--|   \n",
    "| a   |           |![#0A6EF5](https://via.placeholder.com/15/0A6EF5/000000?text=+) <span style=\"color:blue\">Categoría de referencia</span>|     \n",
    "| b   |  |   |\n",
    "| c   |   |   |\n",
    "| d   |  |   |\n",
    "| e   |   |   |\n",
    "    "
   ]
  },
  {
   "cell_type": "code",
   "execution_count": 175,
   "metadata": {
    "colab": {
     "base_uri": "https://localhost:8080/",
     "height": 35
    },
    "colab_type": "code",
    "id": "Jd-Du_exUBlF",
    "outputId": "7bce6ce0-ef75-4926-d920-4ac6da74c2e5"
   },
   "outputs": [
    {
     "data": {
      "text/plain": [
       "['A', 'B', 'C', 'D', 'E', nan]"
      ]
     },
     "execution_count": 175,
     "metadata": {
      "tags": []
     },
     "output_type": "execute_result"
    }
   ],
   "source": [
    "dataset_unido['p113'].unique().tolist()"
   ]
  },
  {
   "cell_type": "markdown",
   "metadata": {
    "colab_type": "text",
    "id": "WpvaOBy9UBlG"
   },
   "source": [
    "**Correcto**\n",
    "__________________________________"
   ]
  },
  {
   "cell_type": "markdown",
   "metadata": {
    "colab_type": "text",
    "id": "4uPwDWdtUBlG"
   },
   "source": [
    "**Pregunta 114:** \n",
    "\n",
    "Color:![#c5f015](https://via.placeholder.com/15/c5f015/000000?text=+) <span style=\"color:green\"> Categórica nominal</span>\n",
    "![#0A6EF5](https://via.placeholder.com/15/0A6EF5/000000?text=+) <span style=\"color:blue\">Categória de referencia</span>\n",
    "![#F53F0A](https://via.placeholder.com/15/F53F0A/000000?text=+) <span style=\"color:red\"> Categórica ordinal</span>\n",
    "\n",
    "posibles respuestas:   \n",
    "\n",
    "|  #  |      significado       |  | \n",
    "|-----|------------------------|--|   \n",
    "| a   |           |![#0A6EF5](https://via.placeholder.com/15/0A6EF5/000000?text=+) <span style=\"color:blue\">Categoría de referencia</span>|     \n",
    "| b   |  |   |\n",
    "| c   |   |   |\n",
    "| d   |  |   |\n",
    "| e   |   |   |\n",
    "    "
   ]
  },
  {
   "cell_type": "code",
   "execution_count": 176,
   "metadata": {
    "colab": {
     "base_uri": "https://localhost:8080/",
     "height": 35
    },
    "colab_type": "code",
    "id": "SJY62pXbUBlH",
    "outputId": "3c909956-7981-4bd0-c913-81604d36c4f2"
   },
   "outputs": [
    {
     "data": {
      "text/plain": [
       "['A', 'C', 'B', 'D', 'E', nan]"
      ]
     },
     "execution_count": 176,
     "metadata": {
      "tags": []
     },
     "output_type": "execute_result"
    }
   ],
   "source": [
    "dataset_unido['p114'].unique().tolist()"
   ]
  },
  {
   "cell_type": "markdown",
   "metadata": {
    "colab_type": "text",
    "id": "O-bM2A-8UBlJ"
   },
   "source": [
    "**Correcto**\n",
    "__________________________________"
   ]
  },
  {
   "cell_type": "markdown",
   "metadata": {
    "colab_type": "text",
    "id": "OHITrfWsUBlJ"
   },
   "source": [
    "**Pregunta 115:** \n",
    "\n",
    "Color:![#c5f015](https://via.placeholder.com/15/c5f015/000000?text=+) <span style=\"color:green\"> Categórica nominal</span>\n",
    "![#0A6EF5](https://via.placeholder.com/15/0A6EF5/000000?text=+) <span style=\"color:blue\">Categória de referencia</span>\n",
    "![#F53F0A](https://via.placeholder.com/15/F53F0A/000000?text=+) <span style=\"color:red\"> Categórica ordinal</span>\n",
    "\n",
    "posibles respuestas:   \n",
    "\n",
    "|  #  |      significado       |  | \n",
    "|-----|------------------------|--|   \n",
    "| a   |           |![#0A6EF5](https://via.placeholder.com/15/0A6EF5/000000?text=+) <span style=\"color:blue\">Categoría de referencia</span>|     \n",
    "| b   |  |   |\n",
    "| c   |   |   |\n",
    "| d   |  |   |\n",
    "| e   |   |   |\n",
    "    "
   ]
  },
  {
   "cell_type": "code",
   "execution_count": 177,
   "metadata": {
    "colab": {
     "base_uri": "https://localhost:8080/",
     "height": 35
    },
    "colab_type": "code",
    "id": "pOKt2WhVUBlJ",
    "outputId": "bcf6003e-7450-4475-c1af-a45a9f854844"
   },
   "outputs": [
    {
     "data": {
      "text/plain": [
       "['C', 'A', 'D', 'B', 'E', nan]"
      ]
     },
     "execution_count": 177,
     "metadata": {
      "tags": []
     },
     "output_type": "execute_result"
    }
   ],
   "source": [
    "dataset_unido['p115'].unique().tolist()"
   ]
  },
  {
   "cell_type": "markdown",
   "metadata": {
    "colab_type": "text",
    "id": "nukB889BUBlK"
   },
   "source": [
    "**Correcto**\n",
    "__________________________________"
   ]
  },
  {
   "cell_type": "markdown",
   "metadata": {
    "colab_type": "text",
    "id": "1cJJd0nxUBlK"
   },
   "source": [
    "**Pregunta 116:** \n",
    "\n",
    "Color:![#c5f015](https://via.placeholder.com/15/c5f015/000000?text=+) <span style=\"color:green\"> Categórica nominal</span>\n",
    "![#0A6EF5](https://via.placeholder.com/15/0A6EF5/000000?text=+) <span style=\"color:blue\">Categória de referencia</span>\n",
    "![#F53F0A](https://via.placeholder.com/15/F53F0A/000000?text=+) <span style=\"color:red\"> Categórica ordinal</span>\n",
    "\n",
    "posibles respuestas:   \n",
    "\n",
    "|  #  |      significado       |  | \n",
    "|-----|------------------------|--|   \n",
    "| a   |           |![#0A6EF5](https://via.placeholder.com/15/0A6EF5/000000?text=+) <span style=\"color:blue\">Categoría de referencia</span>|     \n",
    "| b   |  |   |\n",
    "| c   |   |   |\n",
    "| d   |  |   |\n",
    "| e   |   |   |\n",
    "    "
   ]
  },
  {
   "cell_type": "code",
   "execution_count": 179,
   "metadata": {
    "colab": {
     "base_uri": "https://localhost:8080/",
     "height": 35
    },
    "colab_type": "code",
    "id": "8BaQXyRTUBlK",
    "outputId": "6cd59e50-be91-4a31-d178-95be08f051af"
   },
   "outputs": [
    {
     "data": {
      "text/plain": [
       "['A', 'B', 'D', 'C', nan, 'E']"
      ]
     },
     "execution_count": 179,
     "metadata": {
      "tags": []
     },
     "output_type": "execute_result"
    }
   ],
   "source": [
    "dataset_unido['p116'].unique().tolist()"
   ]
  },
  {
   "cell_type": "markdown",
   "metadata": {
    "colab_type": "text",
    "id": "_UEy3RtCUBlM"
   },
   "source": [
    "**Correcto**\n",
    "__________________________________"
   ]
  },
  {
   "cell_type": "markdown",
   "metadata": {
    "colab_type": "text",
    "id": "KIyKyTihUBlM"
   },
   "source": [
    "**Pregunta 117:** \n",
    "\n",
    "Color:![#c5f015](https://via.placeholder.com/15/c5f015/000000?text=+) <span style=\"color:green\"> Categórica nominal</span>\n",
    "![#0A6EF5](https://via.placeholder.com/15/0A6EF5/000000?text=+) <span style=\"color:blue\">Categória de referencia</span>\n",
    "![#F53F0A](https://via.placeholder.com/15/F53F0A/000000?text=+) <span style=\"color:red\"> Categórica ordinal</span>\n",
    "\n",
    "posibles respuestas:   \n",
    "\n",
    "|  #  |      significado       |  | \n",
    "|-----|------------------------|--|   \n",
    "| a   |           |![#0A6EF5](https://via.placeholder.com/15/0A6EF5/000000?text=+) <span style=\"color:blue\">Categoría de referencia</span>|     \n",
    "| b   |  |   |\n",
    "| c   |   |   |\n",
    "| d   |  |   |\n",
    "| e   |   |   |\n",
    "  "
   ]
  },
  {
   "cell_type": "code",
   "execution_count": 180,
   "metadata": {
    "colab": {
     "base_uri": "https://localhost:8080/",
     "height": 35
    },
    "colab_type": "code",
    "id": "w82pHLIFUBlN",
    "outputId": "f78aa3f1-2508-4f82-a677-f0703b0157a9"
   },
   "outputs": [
    {
     "data": {
      "text/plain": [
       "['A', 'B', 'D', 'C', nan, 'E']"
      ]
     },
     "execution_count": 180,
     "metadata": {
      "tags": []
     },
     "output_type": "execute_result"
    }
   ],
   "source": [
    "dataset_unido['p117'].unique().tolist()"
   ]
  },
  {
   "cell_type": "markdown",
   "metadata": {
    "colab_type": "text",
    "id": "iWLX2MD2UBlO"
   },
   "source": [
    "**Correcto**\n",
    "__________________________________"
   ]
  },
  {
   "cell_type": "markdown",
   "metadata": {
    "colab_type": "text",
    "id": "B-E2ZAUlUBlO"
   },
   "source": [
    "**Pregunta 118:** \n",
    "\n",
    "Color:![#c5f015](https://via.placeholder.com/15/c5f015/000000?text=+) <span style=\"color:green\"> Categórica nominal</span>\n",
    "![#0A6EF5](https://via.placeholder.com/15/0A6EF5/000000?text=+) <span style=\"color:blue\">Categória de referencia</span>\n",
    "![#F53F0A](https://via.placeholder.com/15/F53F0A/000000?text=+) <span style=\"color:red\"> Categórica ordinal</span>\n",
    "\n",
    "posibles respuestas:   \n",
    "\n",
    "|  #  |      significado       |  | \n",
    "|-----|------------------------|--|   \n",
    "| a   |           |![#0A6EF5](https://via.placeholder.com/15/0A6EF5/000000?text=+) <span style=\"color:blue\">Categoría de referencia</span>|     \n",
    "| b   |  |   |\n",
    "   "
   ]
  },
  {
   "cell_type": "code",
   "execution_count": 181,
   "metadata": {
    "colab": {
     "base_uri": "https://localhost:8080/",
     "height": 35
    },
    "colab_type": "code",
    "id": "b9bFcGrLUBlO",
    "outputId": "e0498cd5-334e-4ebf-fe58-599b362c0655"
   },
   "outputs": [
    {
     "data": {
      "text/plain": [
       "['A', 'B', nan, 'D', 'C']"
      ]
     },
     "execution_count": 181,
     "metadata": {
      "tags": []
     },
     "output_type": "execute_result"
    }
   ],
   "source": [
    "dataset_unido['p118'].unique().tolist()"
   ]
  },
  {
   "cell_type": "markdown",
   "metadata": {
    "colab_type": "text",
    "id": "qd2yA6LkUBlQ"
   },
   "source": [
    "A pesar de que esta pregunta tiene respuestas de a,b,c,d,e,f, tiene algunas otras respuestas registradas, por lo que se convertirán a nulas."
   ]
  },
  {
   "cell_type": "code",
   "execution_count": null,
   "metadata": {
    "colab": {},
    "colab_type": "code",
    "id": "uzFEpEIxUBlR"
   },
   "outputs": [],
   "source": [
    "dataset_unido.loc[dataset_unido[\"p118\"] == \"C\",\"p118\"] = np.nan\n",
    "dataset_unido.loc[dataset_unido[\"p118\"] == \"D\",\"p118\"] = np.nan"
   ]
  },
  {
   "cell_type": "code",
   "execution_count": 183,
   "metadata": {
    "colab": {
     "base_uri": "https://localhost:8080/",
     "height": 35
    },
    "colab_type": "code",
    "id": "6nk1XMb0UBlV",
    "outputId": "1d7b7eaa-8e56-46d1-a984-f3873f7829a6"
   },
   "outputs": [
    {
     "data": {
      "text/plain": [
       "['A', 'B', nan]"
      ]
     },
     "execution_count": 183,
     "metadata": {
      "tags": []
     },
     "output_type": "execute_result"
    }
   ],
   "source": [
    "dataset_unido['p118'].unique().tolist()"
   ]
  },
  {
   "cell_type": "markdown",
   "metadata": {
    "colab_type": "text",
    "id": "2HG4GFIlUBlX"
   },
   "source": [
    "**Correcto**\n",
    "__________________________________"
   ]
  },
  {
   "cell_type": "markdown",
   "metadata": {
    "colab_type": "text",
    "id": "rVCj3qD3UBlX"
   },
   "source": [
    "**Pregunta 119:** \n",
    "\n",
    "Color:![#c5f015](https://via.placeholder.com/15/c5f015/000000?text=+) <span style=\"color:green\"> Categórica nominal</span>\n",
    "![#0A6EF5](https://via.placeholder.com/15/0A6EF5/000000?text=+) <span style=\"color:blue\">Categória de referencia</span>\n",
    "![#F53F0A](https://via.placeholder.com/15/F53F0A/000000?text=+) <span style=\"color:red\"> Categórica ordinal</span>\n",
    "\n",
    "posibles respuestas:   \n",
    "\n",
    "|  #  |      significado       |  | \n",
    "|-----|------------------------|--|   \n",
    "| a   |           |![#0A6EF5](https://via.placeholder.com/15/0A6EF5/000000?text=+) <span style=\"color:blue\">Categoría de referencia</span>|     \n",
    "| b   |  |   |\n",
    "| c   |   |   |\n",
    "| d   |  |   |\n",
    "  "
   ]
  },
  {
   "cell_type": "code",
   "execution_count": 184,
   "metadata": {
    "colab": {
     "base_uri": "https://localhost:8080/",
     "height": 35
    },
    "colab_type": "code",
    "id": "phTv7hpGUBlY",
    "outputId": "48fafb1d-557b-450e-cf9e-ffed98cb6ebb"
   },
   "outputs": [
    {
     "data": {
      "text/plain": [
       "['C', 'B', 'D', 'A', nan]"
      ]
     },
     "execution_count": 184,
     "metadata": {
      "tags": []
     },
     "output_type": "execute_result"
    }
   ],
   "source": [
    "dataset_unido['p119'].unique().tolist()"
   ]
  },
  {
   "cell_type": "markdown",
   "metadata": {
    "colab_type": "text",
    "id": "Fs3898lpUBla"
   },
   "source": [
    "**Correcto**\n",
    "__________________________________"
   ]
  },
  {
   "cell_type": "markdown",
   "metadata": {
    "colab_type": "text",
    "id": "BKGXm2vmUBla"
   },
   "source": [
    "**Pregunta 120:** \n",
    "\n",
    "Color:![#c5f015](https://via.placeholder.com/15/c5f015/000000?text=+) <span style=\"color:green\"> Categórica nominal</span>\n",
    "![#0A6EF5](https://via.placeholder.com/15/0A6EF5/000000?text=+) <span style=\"color:blue\">Categória de referencia</span>\n",
    "![#F53F0A](https://via.placeholder.com/15/F53F0A/000000?text=+) <span style=\"color:red\"> Categórica ordinal</span>\n",
    "\n",
    "posibles respuestas:   \n",
    "\n",
    "|  #  |      significado       |  | \n",
    "|-----|------------------------|--|   \n",
    "| a   |           |![#0A6EF5](https://via.placeholder.com/15/0A6EF5/000000?text=+) <span style=\"color:blue\">Categoría de referencia</span>|     \n",
    "| b   |  |   |\n",
    "| c   |   |   |\n",
    "| d   |  |   |\n",
    "   "
   ]
  },
  {
   "cell_type": "code",
   "execution_count": 185,
   "metadata": {
    "colab": {
     "base_uri": "https://localhost:8080/",
     "height": 35
    },
    "colab_type": "code",
    "id": "OWJGGzFOUBlb",
    "outputId": "a4fc5ff3-6e3f-42e7-b13e-ec8249c90e69"
   },
   "outputs": [
    {
     "data": {
      "text/plain": [
       "['B', 'A', 'C', 'D', nan]"
      ]
     },
     "execution_count": 185,
     "metadata": {
      "tags": []
     },
     "output_type": "execute_result"
    }
   ],
   "source": [
    "dataset_unido['p120'].unique().tolist()"
   ]
  },
  {
   "cell_type": "markdown",
   "metadata": {
    "colab_type": "text",
    "id": "otglwhLYUBlc"
   },
   "source": [
    "**Correcto**\n",
    "__________________________________"
   ]
  },
  {
   "cell_type": "markdown",
   "metadata": {
    "colab_type": "text",
    "id": "lbpLFo6fUBld"
   },
   "source": [
    "**Pregunta 121:** \n",
    "\n",
    "Color:![#c5f015](https://via.placeholder.com/15/c5f015/000000?text=+) <span style=\"color:green\"> Categórica nominal</span>\n",
    "![#0A6EF5](https://via.placeholder.com/15/0A6EF5/000000?text=+) <span style=\"color:blue\">Categória de referencia</span>\n",
    "![#F53F0A](https://via.placeholder.com/15/F53F0A/000000?text=+) <span style=\"color:red\"> Categórica ordinal</span>\n",
    "\n",
    "posibles respuestas:   \n",
    "\n",
    "|  #  |      significado       |  | \n",
    "|-----|------------------------|--|   \n",
    "| a   |           |![#0A6EF5](https://via.placeholder.com/15/0A6EF5/000000?text=+) <span style=\"color:blue\">Categoría de referencia</span>|     \n",
    "| b   |  |   |\n",
    "| c   |   |   |\n",
    "| d   |  |   |\n",
    "   "
   ]
  },
  {
   "cell_type": "code",
   "execution_count": 186,
   "metadata": {
    "colab": {
     "base_uri": "https://localhost:8080/",
     "height": 35
    },
    "colab_type": "code",
    "id": "wkfLtB4dUBld",
    "outputId": "b4b25466-0101-43a8-85b0-f7809c76be45"
   },
   "outputs": [
    {
     "data": {
      "text/plain": [
       "['A', 'B', 'C', 'D', nan]"
      ]
     },
     "execution_count": 186,
     "metadata": {
      "tags": []
     },
     "output_type": "execute_result"
    }
   ],
   "source": [
    "dataset_unido['p121'].unique().tolist()"
   ]
  },
  {
   "cell_type": "markdown",
   "metadata": {
    "colab_type": "text",
    "id": "hRrm0szmUBle"
   },
   "source": [
    "**Correcto**\n",
    "__________________________________"
   ]
  },
  {
   "cell_type": "markdown",
   "metadata": {
    "colab_type": "text",
    "id": "kXzwWflpUBle"
   },
   "source": [
    "**Pregunta 122:** \n",
    "\n",
    "Color:![#c5f015](https://via.placeholder.com/15/c5f015/000000?text=+) <span style=\"color:green\"> Categórica nominal</span>\n",
    "![#0A6EF5](https://via.placeholder.com/15/0A6EF5/000000?text=+) <span style=\"color:blue\">Categória de referencia</span>\n",
    "![#F53F0A](https://via.placeholder.com/15/F53F0A/000000?text=+) <span style=\"color:red\"> Categórica ordinal</span>\n",
    "\n",
    "posibles respuestas:   \n",
    "\n",
    "|  #  |      significado       |  | \n",
    "|-----|------------------------|--|   \n",
    "| a   |           |![#0A6EF5](https://via.placeholder.com/15/0A6EF5/000000?text=+) <span style=\"color:blue\">Categoría de referencia</span>|     \n",
    "| b   |  |   |\n",
    "| c   |   |   |\n",
    "| d   |  |   |\n",
    " "
   ]
  },
  {
   "cell_type": "code",
   "execution_count": 187,
   "metadata": {
    "colab": {
     "base_uri": "https://localhost:8080/",
     "height": 35
    },
    "colab_type": "code",
    "id": "DDE06NogUBle",
    "outputId": "657fe3e2-2976-4424-cb1c-044b48f03359"
   },
   "outputs": [
    {
     "data": {
      "text/plain": [
       "['A', 'B', nan, 'C', 'D']"
      ]
     },
     "execution_count": 187,
     "metadata": {
      "tags": []
     },
     "output_type": "execute_result"
    }
   ],
   "source": [
    "dataset_unido['p122'].unique().tolist()"
   ]
  },
  {
   "cell_type": "markdown",
   "metadata": {
    "colab_type": "text",
    "id": "_-fgWzN6UBlg"
   },
   "source": [
    "**Correcto**\n",
    "__________________________________"
   ]
  },
  {
   "cell_type": "markdown",
   "metadata": {
    "colab_type": "text",
    "id": "u4tCkK0MUBlg"
   },
   "source": [
    "**Pregunta 123:** \n",
    "\n",
    "Color:![#c5f015](https://via.placeholder.com/15/c5f015/000000?text=+) <span style=\"color:green\"> Categórica nominal</span>\n",
    "![#0A6EF5](https://via.placeholder.com/15/0A6EF5/000000?text=+) <span style=\"color:blue\">Categória de referencia</span>\n",
    "![#F53F0A](https://via.placeholder.com/15/F53F0A/000000?text=+) <span style=\"color:red\"> Categórica ordinal</span>\n",
    "\n",
    "posibles respuestas:   \n",
    "\n",
    "|  #  |      significado       |  | \n",
    "|-----|------------------------|--|   \n",
    "| a   |           |![#0A6EF5](https://via.placeholder.com/15/0A6EF5/000000?text=+) <span style=\"color:blue\">Categoría de referencia</span>|     \n",
    "| b   |  |   |\n",
    "| c   |   |   |\n",
    "| d   |  |   |\n",
    " "
   ]
  },
  {
   "cell_type": "code",
   "execution_count": 188,
   "metadata": {
    "colab": {
     "base_uri": "https://localhost:8080/",
     "height": 35
    },
    "colab_type": "code",
    "id": "ACWUzl29UBlg",
    "outputId": "585ffff2-2115-4aaf-ba7f-e0d7d1864327"
   },
   "outputs": [
    {
     "data": {
      "text/plain": [
       "['A', 'B', 'C', 'D', nan]"
      ]
     },
     "execution_count": 188,
     "metadata": {
      "tags": []
     },
     "output_type": "execute_result"
    }
   ],
   "source": [
    "dataset_unido['p123'].unique().tolist()"
   ]
  },
  {
   "cell_type": "markdown",
   "metadata": {
    "colab_type": "text",
    "id": "vFUvHccYUBli"
   },
   "source": [
    "**Correcto**\n",
    "__________________________________"
   ]
  },
  {
   "cell_type": "markdown",
   "metadata": {
    "colab_type": "text",
    "id": "JnSTPNoPUBlj"
   },
   "source": [
    "**Pregunta 124:** \n",
    "\n",
    "Color:![#c5f015](https://via.placeholder.com/15/c5f015/000000?text=+) <span style=\"color:green\"> Categórica nominal</span>\n",
    "![#0A6EF5](https://via.placeholder.com/15/0A6EF5/000000?text=+) <span style=\"color:blue\">Categória de referencia</span>\n",
    "![#F53F0A](https://via.placeholder.com/15/F53F0A/000000?text=+) <span style=\"color:red\"> Categórica ordinal</span>\n",
    "\n",
    "posibles respuestas:   \n",
    "\n",
    "|  #  |      significado       |  | \n",
    "|-----|------------------------|--|   \n",
    "| a   |           |![#0A6EF5](https://via.placeholder.com/15/0A6EF5/000000?text=+) <span style=\"color:blue\">Categoría de referencia</span>|     \n",
    "| b   |  |   |\n",
    "| c   |   |   |\n",
    "| d   |  |   |\n",
    "    "
   ]
  },
  {
   "cell_type": "code",
   "execution_count": 189,
   "metadata": {
    "colab": {
     "base_uri": "https://localhost:8080/",
     "height": 35
    },
    "colab_type": "code",
    "id": "WKzcS5jbUBlk",
    "outputId": "3197ba6c-743d-4310-89f5-ad690c0bb4d1"
   },
   "outputs": [
    {
     "data": {
      "text/plain": [
       "['B', 'A', 'C', 'D', nan]"
      ]
     },
     "execution_count": 189,
     "metadata": {
      "tags": []
     },
     "output_type": "execute_result"
    }
   ],
   "source": [
    "dataset_unido['p124'].unique().tolist()"
   ]
  },
  {
   "cell_type": "markdown",
   "metadata": {
    "colab_type": "text",
    "id": "G3MfpFvzUBll"
   },
   "source": [
    "**Correcto**\n",
    "__________________________________"
   ]
  },
  {
   "cell_type": "markdown",
   "metadata": {
    "colab_type": "text",
    "id": "oEcpOP4LUBll"
   },
   "source": [
    "**Pregunta 125:** \n",
    "\n",
    "Color:![#c5f015](https://via.placeholder.com/15/c5f015/000000?text=+) <span style=\"color:green\"> Categórica nominal</span>\n",
    "![#0A6EF5](https://via.placeholder.com/15/0A6EF5/000000?text=+) <span style=\"color:blue\">Categória de referencia</span>\n",
    "![#F53F0A](https://via.placeholder.com/15/F53F0A/000000?text=+) <span style=\"color:red\"> Categórica ordinal</span>\n",
    "\n",
    "posibles respuestas:   \n",
    "\n",
    "|  #  |      significado       |  | \n",
    "|-----|------------------------|--|   \n",
    "| a   |           |![#0A6EF5](https://via.placeholder.com/15/0A6EF5/000000?text=+) <span style=\"color:blue\">Categoría de referencia</span>|     \n",
    "| b   |  |   |\n",
    "| c   |   |   |\n",
    "| d   |  |   |\n",
    "    "
   ]
  },
  {
   "cell_type": "code",
   "execution_count": 190,
   "metadata": {
    "colab": {
     "base_uri": "https://localhost:8080/",
     "height": 35
    },
    "colab_type": "code",
    "id": "EMD7NqPoUBlm",
    "outputId": "0f1aba1a-fb8d-4b9b-ff88-90c32de1b35d"
   },
   "outputs": [
    {
     "data": {
      "text/plain": [
       "['B', 'A', 'C', nan, 'D']"
      ]
     },
     "execution_count": 190,
     "metadata": {
      "tags": []
     },
     "output_type": "execute_result"
    }
   ],
   "source": [
    "dataset_unido['p125'].unique().tolist()"
   ]
  },
  {
   "cell_type": "markdown",
   "metadata": {
    "colab_type": "text",
    "id": "Kk9lQXQGUBln"
   },
   "source": [
    "**Correcto**\n",
    "__________________________________"
   ]
  },
  {
   "cell_type": "markdown",
   "metadata": {
    "colab_type": "text",
    "id": "A3SIhF3LUBlp"
   },
   "source": [
    "**Pregunta 126:** \n",
    "\n",
    "Color:![#c5f015](https://via.placeholder.com/15/c5f015/000000?text=+) <span style=\"color:green\"> Categórica nominal</span>\n",
    "![#0A6EF5](https://via.placeholder.com/15/0A6EF5/000000?text=+) <span style=\"color:blue\">Categória de referencia</span>\n",
    "![#F53F0A](https://via.placeholder.com/15/F53F0A/000000?text=+) <span style=\"color:red\"> Categórica ordinal</span>\n",
    "\n",
    "posibles respuestas:   \n",
    "\n",
    "|  #  |      significado       |  | \n",
    "|-----|------------------------|--|   \n",
    "| a   |           |![#0A6EF5](https://via.placeholder.com/15/0A6EF5/000000?text=+) <span style=\"color:blue\">Categoría de referencia</span>|     \n",
    "| b   |  |   |\n",
    "| c   |   |   |\n",
    "| d   |  |   |"
   ]
  },
  {
   "cell_type": "code",
   "execution_count": 191,
   "metadata": {
    "colab": {
     "base_uri": "https://localhost:8080/",
     "height": 35
    },
    "colab_type": "code",
    "id": "skbXXx8OUBlp",
    "outputId": "00415fe1-64eb-41be-b291-a6bd6ce5cecb"
   },
   "outputs": [
    {
     "data": {
      "text/plain": [
       "['D', 'A', 'C', 'B', nan]"
      ]
     },
     "execution_count": 191,
     "metadata": {
      "tags": []
     },
     "output_type": "execute_result"
    }
   ],
   "source": [
    "dataset_unido['p126'].unique().tolist()"
   ]
  },
  {
   "cell_type": "markdown",
   "metadata": {
    "colab_type": "text",
    "id": "9dUqKeqiUBlr"
   },
   "source": [
    "**Correcto**\n",
    "__________________________________"
   ]
  },
  {
   "cell_type": "markdown",
   "metadata": {
    "colab_type": "text",
    "id": "Y5g3dZ_2UBls"
   },
   "source": [
    "**Pregunta 127:** \n",
    "\n",
    "Color:![#c5f015](https://via.placeholder.com/15/c5f015/000000?text=+) <span style=\"color:green\"> Categórica nominal</span>\n",
    "![#0A6EF5](https://via.placeholder.com/15/0A6EF5/000000?text=+) <span style=\"color:blue\">Categória de referencia</span>\n",
    "![#F53F0A](https://via.placeholder.com/15/F53F0A/000000?text=+) <span style=\"color:red\"> Categórica ordinal</span>\n",
    "\n",
    "posibles respuestas:   \n",
    "\n",
    "|  #  |      significado       |  | \n",
    "|-----|------------------------|--|   \n",
    "| a   |           |![#0A6EF5](https://via.placeholder.com/15/0A6EF5/000000?text=+) <span style=\"color:blue\">Categoría de referencia</span>|     \n",
    "| b   |  |   |\n",
    "| c   |   |   |\n",
    "| d   |  |   |\n",
    "   "
   ]
  },
  {
   "cell_type": "code",
   "execution_count": 192,
   "metadata": {
    "colab": {
     "base_uri": "https://localhost:8080/",
     "height": 35
    },
    "colab_type": "code",
    "id": "C3oDcPy3UBls",
    "outputId": "6af15831-872b-415d-a4f1-6ee915b379b9"
   },
   "outputs": [
    {
     "data": {
      "text/plain": [
       "['C', 'B', 'D', 'A', nan]"
      ]
     },
     "execution_count": 192,
     "metadata": {
      "tags": []
     },
     "output_type": "execute_result"
    }
   ],
   "source": [
    "dataset_unido['p127'].unique().tolist()"
   ]
  },
  {
   "cell_type": "markdown",
   "metadata": {
    "colab_type": "text",
    "id": "bZ13X0qVUBlu"
   },
   "source": [
    "**Correcto**\n",
    "__________________________________"
   ]
  },
  {
   "cell_type": "markdown",
   "metadata": {
    "colab_type": "text",
    "id": "CM4J889pUBlu"
   },
   "source": [
    "**Pregunta 128:** \n",
    "\n",
    "Color:![#c5f015](https://via.placeholder.com/15/c5f015/000000?text=+) <span style=\"color:green\"> Categórica nominal</span>\n",
    "![#0A6EF5](https://via.placeholder.com/15/0A6EF5/000000?text=+) <span style=\"color:blue\">Categória de referencia</span>\n",
    "![#F53F0A](https://via.placeholder.com/15/F53F0A/000000?text=+) <span style=\"color:red\"> Categórica ordinal</span>\n",
    "\n",
    "posibles respuestas:   \n",
    "\n",
    "|  #  |      significado       |  | \n",
    "|-----|------------------------|--|   \n",
    "| a   |           |![#0A6EF5](https://via.placeholder.com/15/0A6EF5/000000?text=+) <span style=\"color:blue\">Categoría de referencia</span>|     \n",
    "| b   |  |   |\n",
    "| c   |   |   |\n",
    "| d   |  |   |\n",
    "   "
   ]
  },
  {
   "cell_type": "code",
   "execution_count": 193,
   "metadata": {
    "colab": {
     "base_uri": "https://localhost:8080/",
     "height": 35
    },
    "colab_type": "code",
    "id": "ls3P1dNSUBlv",
    "outputId": "1834247a-6695-4de3-945c-090e42f65cd8"
   },
   "outputs": [
    {
     "data": {
      "text/plain": [
       "['D', 'C', 'B', 'A', nan]"
      ]
     },
     "execution_count": 193,
     "metadata": {
      "tags": []
     },
     "output_type": "execute_result"
    }
   ],
   "source": [
    "dataset_unido['p128'].unique().tolist()"
   ]
  },
  {
   "cell_type": "markdown",
   "metadata": {
    "colab_type": "text",
    "id": "U5wz78zcUBlw"
   },
   "source": [
    "**Correcto**\n",
    "__________________________________"
   ]
  },
  {
   "cell_type": "markdown",
   "metadata": {
    "colab_type": "text",
    "id": "RF4wBjKCUBlw"
   },
   "source": [
    "**Pregunta 129:** \n",
    "\n",
    "Color:![#c5f015](https://via.placeholder.com/15/c5f015/000000?text=+) <span style=\"color:green\"> Categórica nominal</span>\n",
    "![#0A6EF5](https://via.placeholder.com/15/0A6EF5/000000?text=+) <span style=\"color:blue\">Categória de referencia</span>\n",
    "![#F53F0A](https://via.placeholder.com/15/F53F0A/000000?text=+) <span style=\"color:red\"> Categórica ordinal</span>\n",
    "\n",
    "posibles respuestas:   \n",
    "\n",
    "|  #  |      significado       |  | \n",
    "|-----|------------------------|--|   \n",
    "| a   |           |![#0A6EF5](https://via.placeholder.com/15/0A6EF5/000000?text=+) <span style=\"color:blue\">Categoría de referencia</span>|     \n",
    "| b   |  |   |\n",
    "| c   |   |   |\n",
    "| d   |  |   |\n",
    "   "
   ]
  },
  {
   "cell_type": "code",
   "execution_count": 194,
   "metadata": {
    "colab": {
     "base_uri": "https://localhost:8080/",
     "height": 35
    },
    "colab_type": "code",
    "id": "M1PJ1vErUBlw",
    "outputId": "bbec2a0b-264f-4c01-81f5-8d09ac8b6986"
   },
   "outputs": [
    {
     "data": {
      "text/plain": [
       "['C', 'A', 'D', 'B', nan]"
      ]
     },
     "execution_count": 194,
     "metadata": {
      "tags": []
     },
     "output_type": "execute_result"
    }
   ],
   "source": [
    "dataset_unido['p129'].unique().tolist()"
   ]
  },
  {
   "cell_type": "markdown",
   "metadata": {
    "colab_type": "text",
    "id": "ONogmvWJUBly"
   },
   "source": [
    "**Correcto**\n",
    "__________________________________"
   ]
  },
  {
   "cell_type": "markdown",
   "metadata": {
    "colab_type": "text",
    "id": "oXu1Hz9cUBly"
   },
   "source": [
    "**Pregunta 130:** \n",
    "\n",
    "Color:![#c5f015](https://via.placeholder.com/15/c5f015/000000?text=+) <span style=\"color:green\"> Categórica nominal</span>\n",
    "![#0A6EF5](https://via.placeholder.com/15/0A6EF5/000000?text=+) <span style=\"color:blue\">Categória de referencia</span>\n",
    "![#F53F0A](https://via.placeholder.com/15/F53F0A/000000?text=+) <span style=\"color:red\"> Categórica ordinal</span>\n",
    "\n",
    "posibles respuestas:   \n",
    "\n",
    "|  #  |      significado       |  | \n",
    "|-----|------------------------|--|   \n",
    "| a   |           |![#0A6EF5](https://via.placeholder.com/15/0A6EF5/000000?text=+) <span style=\"color:blue\">Categoría de referencia</span>|     \n",
    "| b   |  |   |\n",
    "| c   |   |   |\n",
    "| d   |  |   |\n",
    "  "
   ]
  },
  {
   "cell_type": "code",
   "execution_count": 195,
   "metadata": {
    "colab": {
     "base_uri": "https://localhost:8080/",
     "height": 35
    },
    "colab_type": "code",
    "id": "8nG72jSYUBly",
    "outputId": "441717a6-9b41-483f-c5fd-b0f5c484267f"
   },
   "outputs": [
    {
     "data": {
      "text/plain": [
       "['D', 'C', 'B', 'A', nan, 'E']"
      ]
     },
     "execution_count": 195,
     "metadata": {
      "tags": []
     },
     "output_type": "execute_result"
    }
   ],
   "source": [
    "dataset_unido['p130'].unique().tolist()"
   ]
  },
  {
   "cell_type": "markdown",
   "metadata": {
    "colab_type": "text",
    "id": "S0ZnEZjYUBl0"
   },
   "source": [
    "A pesar de que esta pregunta tiene respuestas de a,b,c,d tiene algunas otras respuestas registradas, por lo que se convertirán a nulas."
   ]
  },
  {
   "cell_type": "code",
   "execution_count": null,
   "metadata": {
    "colab": {},
    "colab_type": "code",
    "id": "lcdaHCRsUBl1"
   },
   "outputs": [],
   "source": [
    "dataset_unido.loc[dataset_unido[\"p130\"] == \"E\",\"p130\"] = np.nan"
   ]
  },
  {
   "cell_type": "code",
   "execution_count": 197,
   "metadata": {
    "colab": {
     "base_uri": "https://localhost:8080/",
     "height": 35
    },
    "colab_type": "code",
    "id": "EXCMwhQZUBl2",
    "outputId": "77cbff12-1af2-4bbf-88ce-7cc04736fc52"
   },
   "outputs": [
    {
     "data": {
      "text/plain": [
       "['D', 'C', 'B', 'A', nan]"
      ]
     },
     "execution_count": 197,
     "metadata": {
      "tags": []
     },
     "output_type": "execute_result"
    }
   ],
   "source": [
    "dataset_unido['p130'].unique().tolist()"
   ]
  },
  {
   "cell_type": "markdown",
   "metadata": {
    "colab_type": "text",
    "id": "fDABH4D_UBl4"
   },
   "source": [
    "**Correcto**\n",
    "__________________________________"
   ]
  },
  {
   "cell_type": "markdown",
   "metadata": {
    "colab_type": "text",
    "id": "11NBGw8vUBl4"
   },
   "source": [
    "**Pregunta 131:** \n",
    "\n",
    "Color:![#c5f015](https://via.placeholder.com/15/c5f015/000000?text=+) <span style=\"color:green\"> Categórica nominal</span>\n",
    "![#0A6EF5](https://via.placeholder.com/15/0A6EF5/000000?text=+) <span style=\"color:blue\">Categória de referencia</span>\n",
    "![#F53F0A](https://via.placeholder.com/15/F53F0A/000000?text=+) <span style=\"color:red\"> Categórica ordinal</span>\n",
    "\n",
    "posibles respuestas:   \n",
    "\n",
    "|  #  |      significado       |  | \n",
    "|-----|------------------------|--|   \n",
    "| a   |           |![#0A6EF5](https://via.placeholder.com/15/0A6EF5/000000?text=+) <span style=\"color:blue\">Categoría de referencia</span>|     \n",
    "| b   |  |   |\n",
    "| c   |   |   |\n",
    "| d   |  |   |\n"
   ]
  },
  {
   "cell_type": "code",
   "execution_count": 198,
   "metadata": {
    "colab": {
     "base_uri": "https://localhost:8080/",
     "height": 35
    },
    "colab_type": "code",
    "id": "4YA_y--uUBl5",
    "outputId": "2b92d34d-6263-4bb9-aa8b-6dc78386ea25"
   },
   "outputs": [
    {
     "data": {
      "text/plain": [
       "['D', 'C', 'A', 'B', nan, 'E']"
      ]
     },
     "execution_count": 198,
     "metadata": {
      "tags": []
     },
     "output_type": "execute_result"
    }
   ],
   "source": [
    "dataset_unido['p131'].unique().tolist()"
   ]
  },
  {
   "cell_type": "markdown",
   "metadata": {
    "colab_type": "text",
    "id": "z2aCao_XUBl6"
   },
   "source": [
    "A pesar de que esta pregunta tiene respuestas de a,b,c,d tiene algunas otras respuestas registradas, por lo que se convertirán a nulas."
   ]
  },
  {
   "cell_type": "code",
   "execution_count": null,
   "metadata": {
    "colab": {},
    "colab_type": "code",
    "id": "sMhqUzZ4UBl6"
   },
   "outputs": [],
   "source": [
    "dataset_unido.loc[dataset_unido[\"p131\"] == \"E\",\"p131\"] = np.nan"
   ]
  },
  {
   "cell_type": "code",
   "execution_count": 200,
   "metadata": {
    "colab": {
     "base_uri": "https://localhost:8080/",
     "height": 35
    },
    "colab_type": "code",
    "id": "EfxCzkl8UBl8",
    "outputId": "45df4d26-719d-495e-8b70-c6e15007ef1a"
   },
   "outputs": [
    {
     "data": {
      "text/plain": [
       "['D', 'C', 'A', 'B', nan]"
      ]
     },
     "execution_count": 200,
     "metadata": {
      "tags": []
     },
     "output_type": "execute_result"
    }
   ],
   "source": [
    "dataset_unido['p131'].unique().tolist()"
   ]
  },
  {
   "cell_type": "markdown",
   "metadata": {
    "colab_type": "text",
    "id": "N-xuEOnJUBl9"
   },
   "source": [
    "**Correcto**\n",
    "__________________________________"
   ]
  },
  {
   "cell_type": "markdown",
   "metadata": {
    "colab_type": "text",
    "id": "vJVDAKoIUBl9"
   },
   "source": [
    "**Pregunta 132:** \n",
    "\n",
    "Color:![#c5f015](https://via.placeholder.com/15/c5f015/000000?text=+) <span style=\"color:green\"> Categórica nominal</span>\n",
    "![#0A6EF5](https://via.placeholder.com/15/0A6EF5/000000?text=+) <span style=\"color:blue\">Categória de referencia</span>\n",
    "![#F53F0A](https://via.placeholder.com/15/F53F0A/000000?text=+) <span style=\"color:red\"> Categórica ordinal</span>\n",
    "\n",
    "posibles respuestas:   \n",
    "\n",
    "|  #  |      significado       |  | \n",
    "|-----|------------------------|--|   \n",
    "| a   |           |![#0A6EF5](https://via.placeholder.com/15/0A6EF5/000000?text=+) <span style=\"color:blue\">Categoría de referencia</span>|     \n",
    "| b   |  |   |\n",
    " "
   ]
  },
  {
   "cell_type": "code",
   "execution_count": 202,
   "metadata": {
    "colab": {
     "base_uri": "https://localhost:8080/",
     "height": 35
    },
    "colab_type": "code",
    "id": "AHpytw9CUBl9",
    "outputId": "bd43aa61-9f7f-405f-ae39-d4b1e8f5a545"
   },
   "outputs": [
    {
     "data": {
      "text/plain": [
       "['A', 'B', nan, 'C']"
      ]
     },
     "execution_count": 202,
     "metadata": {
      "tags": []
     },
     "output_type": "execute_result"
    }
   ],
   "source": [
    "dataset_unido['p132'].unique().tolist()"
   ]
  },
  {
   "cell_type": "markdown",
   "metadata": {
    "colab_type": "text",
    "id": "eE19XNCPUBl_"
   },
   "source": [
    "A pesar de que esta pregunta tiene respuestas de a,b tiene algunas \n",
    "\n",
    "---\n",
    "\n",
    "otras respuestas registradas, por lo que se convertirán a nulas."
   ]
  },
  {
   "cell_type": "code",
   "execution_count": null,
   "metadata": {
    "colab": {},
    "colab_type": "code",
    "id": "I2KoITEbUBl_"
   },
   "outputs": [],
   "source": [
    "dataset_unido.loc[dataset_unido[\"p132\"] == \"C\",\"p132\"] = np.nan"
   ]
  },
  {
   "cell_type": "code",
   "execution_count": 204,
   "metadata": {
    "colab": {
     "base_uri": "https://localhost:8080/",
     "height": 35
    },
    "colab_type": "code",
    "id": "KDT5ABfYUBmC",
    "outputId": "a51e211f-4b57-402f-e95d-a13594bc0d7d"
   },
   "outputs": [
    {
     "data": {
      "text/plain": [
       "['A', 'B', nan]"
      ]
     },
     "execution_count": 204,
     "metadata": {
      "tags": []
     },
     "output_type": "execute_result"
    }
   ],
   "source": [
    "dataset_unido['p132'].unique().tolist()"
   ]
  },
  {
   "cell_type": "markdown",
   "metadata": {
    "colab_type": "text",
    "id": "Lrvu0wkMUBmE"
   },
   "source": [
    "**Correcto**\n",
    "__________________________________"
   ]
  },
  {
   "cell_type": "markdown",
   "metadata": {
    "colab_type": "text",
    "id": "DDTbaeRpUBmE"
   },
   "source": [
    "**Pregunta 133:** \n",
    "\n",
    "Color:![#c5f015](https://via.placeholder.com/15/c5f015/000000?text=+) <span style=\"color:green\"> Categórica nominal</span>\n",
    "![#0A6EF5](https://via.placeholder.com/15/0A6EF5/000000?text=+) <span style=\"color:blue\">Categória de referencia</span>\n",
    "![#F53F0A](https://via.placeholder.com/15/F53F0A/000000?text=+) <span style=\"color:red\"> Categórica ordinal</span>\n",
    "\n",
    "posibles respuestas:   \n",
    "\n",
    "|  #  |      significado       |  | \n",
    "|-----|------------------------|--|   \n",
    "| a   |           |![#0A6EF5](https://via.placeholder.com/15/0A6EF5/000000?text=+) <span style=\"color:blue\">Categoría de referencia</span>|     \n",
    "| b   |  |   |\n",
    "  "
   ]
  },
  {
   "cell_type": "code",
   "execution_count": 205,
   "metadata": {
    "colab": {
     "base_uri": "https://localhost:8080/",
     "height": 35
    },
    "colab_type": "code",
    "id": "Uk0Qqu-tUBmF",
    "outputId": "7ebb367b-10e8-407c-d667-e5a7d0a9c5ba"
   },
   "outputs": [
    {
     "data": {
      "text/plain": [
       "['A', nan, 'B']"
      ]
     },
     "execution_count": 205,
     "metadata": {
      "tags": []
     },
     "output_type": "execute_result"
    }
   ],
   "source": [
    "dataset_unido['p133'].unique().tolist()"
   ]
  },
  {
   "cell_type": "markdown",
   "metadata": {
    "colab_type": "text",
    "id": "4_E3jgYvUBmG"
   },
   "source": [
    "**Correcto**\n",
    "__________________________________"
   ]
  },
  {
   "cell_type": "markdown",
   "metadata": {
    "colab_type": "text",
    "id": "FlzbczL6UBmG"
   },
   "source": [
    "**Pregunta 134:** \n",
    "\n",
    "Color:![#c5f015](https://via.placeholder.com/15/c5f015/000000?text=+) <span style=\"color:green\"> Categórica nominal</span>\n",
    "![#0A6EF5](https://via.placeholder.com/15/0A6EF5/000000?text=+) <span style=\"color:blue\">Categória de referencia</span>\n",
    "![#F53F0A](https://via.placeholder.com/15/F53F0A/000000?text=+) <span style=\"color:red\"> Categórica ordinal</span>\n",
    "\n",
    "posibles respuestas:   \n",
    "\n",
    "|  #  |      significado       |  | \n",
    "|-----|------------------------|--|   \n",
    "| a   |           |![#0A6EF5](https://via.placeholder.com/15/0A6EF5/000000?text=+) <span style=\"color:blue\">Categoría de referencia</span>|     \n",
    "| b   |  |   |\n",
    "   "
   ]
  },
  {
   "cell_type": "code",
   "execution_count": 206,
   "metadata": {
    "colab": {
     "base_uri": "https://localhost:8080/",
     "height": 35
    },
    "colab_type": "code",
    "id": "7CoEJvSCUBmG",
    "outputId": "305d4ab7-efaf-45ba-96d2-8fb1e2a01c76"
   },
   "outputs": [
    {
     "data": {
      "text/plain": [
       "['A', 'B', nan, 'D', 'C']"
      ]
     },
     "execution_count": 206,
     "metadata": {
      "tags": []
     },
     "output_type": "execute_result"
    }
   ],
   "source": [
    "dataset_unido['p134'].unique().tolist()"
   ]
  },
  {
   "cell_type": "markdown",
   "metadata": {
    "colab_type": "text",
    "id": "hNORz_NuUBmI"
   },
   "source": [
    "A pesar de que esta pregunta tiene respuestas de a,b tiene algunas \n",
    "\n",
    "---\n",
    "\n",
    "otras respuestas registradas, por lo que se convertirán a nulas."
   ]
  },
  {
   "cell_type": "code",
   "execution_count": null,
   "metadata": {
    "colab": {},
    "colab_type": "code",
    "id": "li4g5AUAUBmI"
   },
   "outputs": [],
   "source": [
    "dataset_unido.loc[dataset_unido[\"p134\"] == \"C\",\"p134\"] = np.nan\n",
    "dataset_unido.loc[dataset_unido[\"p134\"] == \"D\",\"p134\"] = np.nan"
   ]
  },
  {
   "cell_type": "code",
   "execution_count": 208,
   "metadata": {
    "colab": {
     "base_uri": "https://localhost:8080/",
     "height": 35
    },
    "colab_type": "code",
    "id": "8WpRRM-2UBmJ",
    "outputId": "870da9e4-d692-4699-e959-22bfc890caee"
   },
   "outputs": [
    {
     "data": {
      "text/plain": [
       "['A', 'B', nan]"
      ]
     },
     "execution_count": 208,
     "metadata": {
      "tags": []
     },
     "output_type": "execute_result"
    }
   ],
   "source": [
    "dataset_unido['p134'].unique().tolist()"
   ]
  },
  {
   "cell_type": "markdown",
   "metadata": {
    "colab_type": "text",
    "id": "M4tQQYIGUBmL"
   },
   "source": [
    "**Correcto**\n",
    "__________________________________"
   ]
  },
  {
   "cell_type": "markdown",
   "metadata": {
    "colab_type": "text",
    "id": "ANshNjVoUBmM"
   },
   "source": [
    "**Pregunta 135:** \n",
    "\n",
    "Color:![#c5f015](https://via.placeholder.com/15/c5f015/000000?text=+) <span style=\"color:green\"> Categórica nominal</span>\n",
    "![#0A6EF5](https://via.placeholder.com/15/0A6EF5/000000?text=+) <span style=\"color:blue\">Categória de referencia</span>\n",
    "![#F53F0A](https://via.placeholder.com/15/F53F0A/000000?text=+) <span style=\"color:red\"> Categórica ordinal</span>\n",
    "\n",
    "posibles respuestas:   \n",
    "\n",
    "|  #  |      significado       |  | \n",
    "|-----|------------------------|--|   \n",
    "| a   |           |![#0A6EF5](https://via.placeholder.com/15/0A6EF5/000000?text=+) <span style=\"color:blue\">Categoría de referencia</span>|     \n",
    "| b   |  |   |\n",
    "| c   |   |   |\n",
    "| d   |  |   |\n",
    "  "
   ]
  },
  {
   "cell_type": "code",
   "execution_count": 209,
   "metadata": {
    "colab": {
     "base_uri": "https://localhost:8080/",
     "height": 35
    },
    "colab_type": "code",
    "id": "LRHbxKZhUBmZ",
    "outputId": "66e62ff8-d67b-4ead-ff29-3902e3b1e4d9"
   },
   "outputs": [
    {
     "data": {
      "text/plain": [
       "['D', 'C', 'B', 'A', nan]"
      ]
     },
     "execution_count": 209,
     "metadata": {
      "tags": []
     },
     "output_type": "execute_result"
    }
   ],
   "source": [
    "dataset_unido['p135'].unique().tolist()"
   ]
  },
  {
   "cell_type": "markdown",
   "metadata": {
    "colab_type": "text",
    "id": "u47f7EHiUBma"
   },
   "source": [
    "**Correcto**\n",
    "__________________________________"
   ]
  },
  {
   "cell_type": "markdown",
   "metadata": {
    "colab_type": "text",
    "id": "QmIzQUlEUBma"
   },
   "source": [
    "**Pregunta 136:** \n",
    "\n",
    "Color:![#c5f015](https://via.placeholder.com/15/c5f015/000000?text=+) <span style=\"color:green\"> Categórica nominal</span>\n",
    "![#0A6EF5](https://via.placeholder.com/15/0A6EF5/000000?text=+) <span style=\"color:blue\">Categória de referencia</span>\n",
    "![#F53F0A](https://via.placeholder.com/15/F53F0A/000000?text=+) <span style=\"color:red\"> Categórica ordinal</span>\n",
    "\n",
    "posibles respuestas:   \n",
    "\n",
    "|  #  |      significado       |  | \n",
    "|-----|------------------------|--|   \n",
    "| a   |           |![#0A6EF5](https://via.placeholder.com/15/0A6EF5/000000?text=+) <span style=\"color:blue\">Categoría de referencia</span>|     \n",
    "| b   |  |   |\n",
    "| c   |   |   |\n",
    "| d   |  |   |\n",
    "    "
   ]
  },
  {
   "cell_type": "code",
   "execution_count": 210,
   "metadata": {
    "colab": {
     "base_uri": "https://localhost:8080/",
     "height": 35
    },
    "colab_type": "code",
    "id": "tyrLrqzdUBmb",
    "outputId": "33179898-effa-4d1c-f314-e20da5a42ebb"
   },
   "outputs": [
    {
     "data": {
      "text/plain": [
       "['C', 'B', 'A', 'D', nan]"
      ]
     },
     "execution_count": 210,
     "metadata": {
      "tags": []
     },
     "output_type": "execute_result"
    }
   ],
   "source": [
    "dataset_unido['p136'].unique().tolist()"
   ]
  },
  {
   "cell_type": "markdown",
   "metadata": {
    "colab_type": "text",
    "id": "HL-H4aHSUBmb"
   },
   "source": [
    "**Correcto**\n",
    "__________________________________"
   ]
  },
  {
   "cell_type": "markdown",
   "metadata": {
    "colab_type": "text",
    "id": "G8iR_3daUBmc"
   },
   "source": [
    "**Pregunta 137:** \n",
    "\n",
    "Color:![#c5f015](https://via.placeholder.com/15/c5f015/000000?text=+) <span style=\"color:green\"> Categórica nominal</span>\n",
    "![#0A6EF5](https://via.placeholder.com/15/0A6EF5/000000?text=+) <span style=\"color:blue\">Categória de referencia</span>\n",
    "![#F53F0A](https://via.placeholder.com/15/F53F0A/000000?text=+) <span style=\"color:red\"> Categórica ordinal</span>\n",
    "\n",
    "posibles respuestas:   \n",
    "\n",
    "|  #  |      significado       |  | \n",
    "|-----|------------------------|--|   \n",
    "| a   |           |![#0A6EF5](https://via.placeholder.com/15/0A6EF5/000000?text=+) <span style=\"color:blue\">Categoría de referencia</span>|     \n",
    "| b   |  |   |\n",
    "| c   |   |   |\n",
    "| d   |  |   |\n",
    "    "
   ]
  },
  {
   "cell_type": "code",
   "execution_count": 211,
   "metadata": {
    "colab": {
     "base_uri": "https://localhost:8080/",
     "height": 35
    },
    "colab_type": "code",
    "id": "4uLK6Av9UBmc",
    "outputId": "a3bbf2e9-140e-4baf-be69-f8beeb839053"
   },
   "outputs": [
    {
     "data": {
      "text/plain": [
       "['D', 'C', 'B', 'A', nan, 'F', 'E']"
      ]
     },
     "execution_count": 211,
     "metadata": {
      "tags": []
     },
     "output_type": "execute_result"
    }
   ],
   "source": [
    "dataset_unido['p137'].unique().tolist()"
   ]
  },
  {
   "cell_type": "markdown",
   "metadata": {
    "colab_type": "text",
    "id": "c81KgbBrUBmd"
   },
   "source": [
    "A pesar de que esta pregunta tiene respuestas de a,b,c,d tiene algunas otras respuestas registradas, por lo que se convertirán a nulas."
   ]
  },
  {
   "cell_type": "code",
   "execution_count": null,
   "metadata": {
    "colab": {},
    "colab_type": "code",
    "id": "XXPi4nzKUBmd"
   },
   "outputs": [],
   "source": [
    "dataset_unido.loc[dataset_unido[\"p137\"] == \"E\",\"p137\"] = np.nan\n",
    "dataset_unido.loc[dataset_unido[\"p137\"] == \"F\",\"p137\"] = np.nan"
   ]
  },
  {
   "cell_type": "code",
   "execution_count": 213,
   "metadata": {
    "colab": {
     "base_uri": "https://localhost:8080/",
     "height": 35
    },
    "colab_type": "code",
    "id": "NfSRxZn0UBmf",
    "outputId": "1b471ebf-e8de-4b7a-9a3e-68a7bf188d9b"
   },
   "outputs": [
    {
     "data": {
      "text/plain": [
       "['D', 'C', 'B', 'A', nan]"
      ]
     },
     "execution_count": 213,
     "metadata": {
      "tags": []
     },
     "output_type": "execute_result"
    }
   ],
   "source": [
    "dataset_unido['p137'].unique().tolist()"
   ]
  },
  {
   "cell_type": "markdown",
   "metadata": {
    "colab_type": "text",
    "id": "cRpTc0hmUBmi"
   },
   "source": [
    "**Correcto**\n",
    "__________________________________"
   ]
  },
  {
   "cell_type": "markdown",
   "metadata": {
    "colab_type": "text",
    "id": "r3Xsc_tpUBmi"
   },
   "source": [
    "**Pregunta 138:** \n",
    "\n",
    "Color:![#c5f015](https://via.placeholder.com/15/c5f015/000000?text=+) <span style=\"color:green\"> Categórica nominal</span>\n",
    "![#0A6EF5](https://via.placeholder.com/15/0A6EF5/000000?text=+) <span style=\"color:blue\">Categória de referencia</span>\n",
    "![#F53F0A](https://via.placeholder.com/15/F53F0A/000000?text=+) <span style=\"color:red\"> Categórica ordinal</span>\n",
    "\n",
    "posibles respuestas:   \n",
    "\n",
    "|  #  |      significado       |  | \n",
    "|-----|------------------------|--|   \n",
    "| a   |           |![#0A6EF5](https://via.placeholder.com/15/0A6EF5/000000?text=+) <span style=\"color:blue\">Categoría de referencia</span>|     \n",
    "| b   |  |   |\n",
    "| c   |   |   |\n",
    "| d   |  |   |\n",
    "| e   |   |   |\n",
    "| f   |   |   |\n",
    "| g   |   |   |\n"
   ]
  },
  {
   "cell_type": "code",
   "execution_count": 215,
   "metadata": {
    "colab": {
     "base_uri": "https://localhost:8080/",
     "height": 35
    },
    "colab_type": "code",
    "id": "HKfB-tLOUBmj",
    "outputId": "80523f41-2406-4d1b-e3f3-a3ebf422ac99"
   },
   "outputs": [
    {
     "data": {
      "text/plain": [
       "['B', 'G', 'C', 'E', 'D', 'F', nan, 'A']"
      ]
     },
     "execution_count": 215,
     "metadata": {
      "tags": []
     },
     "output_type": "execute_result"
    }
   ],
   "source": [
    "dataset_unido['p138'].unique().tolist()"
   ]
  },
  {
   "cell_type": "markdown",
   "metadata": {
    "colab_type": "text",
    "id": "q01eoyGIUBml"
   },
   "source": [
    "**Correcto**\n",
    "__________________________________"
   ]
  },
  {
   "cell_type": "markdown",
   "metadata": {
    "colab_type": "text",
    "id": "EjzFxYMEUBml"
   },
   "source": [
    "**Pregunta 139:** \n",
    "\n",
    "Color:![#c5f015](https://via.placeholder.com/15/c5f015/000000?text=+) <span style=\"color:green\"> Categórica nominal</span>\n",
    "![#0A6EF5](https://via.placeholder.com/15/0A6EF5/000000?text=+) <span style=\"color:blue\">Categória de referencia</span>\n",
    "![#F53F0A](https://via.placeholder.com/15/F53F0A/000000?text=+) <span style=\"color:red\"> Categórica ordinal</span>\n",
    "\n",
    "posibles respuestas:   \n",
    "\n",
    "|  #  |      significado       |  | \n",
    "|-----|------------------------|--|   \n",
    "| a   |           |![#0A6EF5](https://via.placeholder.com/15/0A6EF5/000000?text=+) <span style=\"color:blue\">Categoría de referencia</span>|     \n",
    "| b   |  |   |\n",
    "| c   |   |   |\n",
    "| d   |  |   |\n",
    "| e   |   |   |\n",
    "| f   |   |   |\n",
    "| g   |   |   |\n",
    "  "
   ]
  },
  {
   "cell_type": "code",
   "execution_count": 216,
   "metadata": {
    "colab": {
     "base_uri": "https://localhost:8080/",
     "height": 35
    },
    "colab_type": "code",
    "id": "XDR89ZewUBml",
    "outputId": "4e369f78-67ef-4a93-b04b-6da7524b69c0"
   },
   "outputs": [
    {
     "data": {
      "text/plain": [
       "['C', 'D', 'B', 'F', 'E', 'G', 'A', nan]"
      ]
     },
     "execution_count": 216,
     "metadata": {
      "tags": []
     },
     "output_type": "execute_result"
    }
   ],
   "source": [
    "dataset_unido['p139'].unique().tolist()"
   ]
  },
  {
   "cell_type": "markdown",
   "metadata": {
    "colab_type": "text",
    "id": "3daeBnlxUBmn"
   },
   "source": [
    "**Correcto**\n",
    "__________________________________"
   ]
  },
  {
   "cell_type": "markdown",
   "metadata": {
    "colab_type": "text",
    "id": "1jiKrRkgUBmn"
   },
   "source": [
    "**Pregunta 140:** \n",
    "\n",
    "Color:![#c5f015](https://via.placeholder.com/15/c5f015/000000?text=+) <span style=\"color:green\"> Categórica nominal</span>\n",
    "![#0A6EF5](https://via.placeholder.com/15/0A6EF5/000000?text=+) <span style=\"color:blue\">Categória de referencia</span>\n",
    "![#F53F0A](https://via.placeholder.com/15/F53F0A/000000?text=+) <span style=\"color:red\"> Categórica ordinal</span>\n",
    "\n",
    "posibles respuestas:   \n",
    "\n",
    "|  #  |      significado       |  | \n",
    "|-----|------------------------|--|   \n",
    "| a   |           |![#0A6EF5](https://via.placeholder.com/15/0A6EF5/000000?text=+) <span style=\"color:blue\">Categoría de referencia</span>|     \n",
    "| b   |  |   |\n",
    "| c   |   |   |\n",
    "| d   |  |   |\n",
    "  "
   ]
  },
  {
   "cell_type": "code",
   "execution_count": 217,
   "metadata": {
    "colab": {
     "base_uri": "https://localhost:8080/",
     "height": 35
    },
    "colab_type": "code",
    "id": "QqgJmJm5UBmn",
    "outputId": "eab73567-e42c-40f9-dadb-c116a07807fd"
   },
   "outputs": [
    {
     "data": {
      "text/plain": [
       "['D', 'C', 'A', 'B', nan, 'G', 'H']"
      ]
     },
     "execution_count": 217,
     "metadata": {
      "tags": []
     },
     "output_type": "execute_result"
    }
   ],
   "source": [
    "dataset_unido['p140'].unique().tolist()"
   ]
  },
  {
   "cell_type": "markdown",
   "metadata": {
    "colab_type": "text",
    "id": "TdCP-ZkEUBmp"
   },
   "source": [
    "A pesar de que esta pregunta tiene respuestas de a,b,c,d tiene algunas otras respuestas registradas, por lo que se convertirán a nulas."
   ]
  },
  {
   "cell_type": "code",
   "execution_count": null,
   "metadata": {
    "colab": {},
    "colab_type": "code",
    "id": "JPtTHombUBmq"
   },
   "outputs": [],
   "source": [
    "dataset_unido.loc[dataset_unido[\"p140\"] == \"G\",\"p140\"] = np.nan\n",
    "dataset_unido.loc[dataset_unido[\"p140\"] == \"H\",\"p140\"] = np.nan"
   ]
  },
  {
   "cell_type": "code",
   "execution_count": 218,
   "metadata": {
    "colab": {
     "base_uri": "https://localhost:8080/",
     "height": 35
    },
    "colab_type": "code",
    "id": "bmqUkTWAUBmr",
    "outputId": "60ba5f39-4252-4bfb-dc6a-8807ac3280ad"
   },
   "outputs": [
    {
     "data": {
      "text/plain": [
       "['D', 'C', 'A', 'B', nan, 'G', 'H']"
      ]
     },
     "execution_count": 218,
     "metadata": {
      "tags": []
     },
     "output_type": "execute_result"
    }
   ],
   "source": [
    "dataset_unido['p140'].unique().tolist()"
   ]
  },
  {
   "cell_type": "markdown",
   "metadata": {
    "colab_type": "text",
    "id": "MF3wsCbrUBms"
   },
   "source": [
    "**Correcto**\n",
    "__________________________________"
   ]
  },
  {
   "cell_type": "markdown",
   "metadata": {
    "colab_type": "text",
    "id": "CMZV9AFNUBms"
   },
   "source": [
    "**Pregunta 141:** \n",
    "\n",
    "Color:![#c5f015](https://via.placeholder.com/15/c5f015/000000?text=+) <span style=\"color:green\"> Categórica nominal</span>\n",
    "![#0A6EF5](https://via.placeholder.com/15/0A6EF5/000000?text=+) <span style=\"color:blue\">Categória de referencia</span>\n",
    "![#F53F0A](https://via.placeholder.com/15/F53F0A/000000?text=+) <span style=\"color:red\"> Categórica ordinal</span>\n",
    "\n",
    "posibles respuestas:   \n",
    "\n",
    "|  #  |      significado       |  | \n",
    "|-----|------------------------|--|   \n",
    "| a   |           |![#0A6EF5](https://via.placeholder.com/15/0A6EF5/000000?text=+) <span style=\"color:blue\">Categoría de referencia</span>|     \n",
    "| b   |  |   |\n",
    "| c   |   |   |\n",
    "| d   |  |   |\n",
    "| e   |   |   |\n",
    "| f   |   |   |\n",
    "| g   |   |   |\n",
    "| h   |  |   |\n",
    " "
   ]
  },
  {
   "cell_type": "code",
   "execution_count": 220,
   "metadata": {
    "colab": {
     "base_uri": "https://localhost:8080/",
     "height": 35
    },
    "colab_type": "code",
    "id": "G-_SS6V7UBms",
    "outputId": "8a374285-72ae-4c03-97a2-f9313d921ec6"
   },
   "outputs": [
    {
     "data": {
      "text/plain": [
       "['A', 'B', 'C', 'E', 'D', 'F', 'G', 'H', nan]"
      ]
     },
     "execution_count": 220,
     "metadata": {
      "tags": []
     },
     "output_type": "execute_result"
    }
   ],
   "source": [
    "dataset_unido['p141'].unique().tolist()"
   ]
  },
  {
   "cell_type": "markdown",
   "metadata": {
    "colab_type": "text",
    "id": "A31TL30wUBmu"
   },
   "source": [
    "**Correcto**\n",
    "__________________________________"
   ]
  },
  {
   "cell_type": "markdown",
   "metadata": {
    "colab_type": "text",
    "id": "LuseB3MYUBmu"
   },
   "source": [
    "**Pregunta 142:** \n",
    "\n",
    "Color:![#c5f015](https://via.placeholder.com/15/c5f015/000000?text=+) <span style=\"color:green\"> Categórica nominal</span>\n",
    "![#0A6EF5](https://via.placeholder.com/15/0A6EF5/000000?text=+) <span style=\"color:blue\">Categória de referencia</span>\n",
    "![#F53F0A](https://via.placeholder.com/15/F53F0A/000000?text=+) <span style=\"color:red\"> Categórica ordinal</span>\n",
    "\n",
    "posibles respuestas:   \n",
    "\n",
    "|  #  |      significado       |  | \n",
    "|-----|------------------------|--|   \n",
    "| a   |           |![#0A6EF5](https://via.placeholder.com/15/0A6EF5/000000?text=+) <span style=\"color:blue\">Categoría de referencia</span>|     \n",
    "| b   |  |   |\n",
    "| c   |   |   |\n",
    "| d   |  |   |\n",
    "| e   |   |   |\n",
    "| f   |   |   |\n",
    "| g   |   |   |\n",
    "   "
   ]
  },
  {
   "cell_type": "code",
   "execution_count": 222,
   "metadata": {
    "colab": {
     "base_uri": "https://localhost:8080/",
     "height": 35
    },
    "colab_type": "code",
    "id": "IlhUkw1xUBmu",
    "outputId": "a0fb469b-d3b0-4697-a6cf-cae171aec205"
   },
   "outputs": [
    {
     "data": {
      "text/plain": [
       "['A', 'B', 'D', 'C', 'E', 'G', 'F', nan]"
      ]
     },
     "execution_count": 222,
     "metadata": {
      "tags": []
     },
     "output_type": "execute_result"
    }
   ],
   "source": [
    "dataset_unido['p142'].unique().tolist()"
   ]
  },
  {
   "cell_type": "markdown",
   "metadata": {
    "colab_type": "text",
    "id": "JcE1ukhHUBmw"
   },
   "source": [
    "**Correcto**\n",
    "__________________________________"
   ]
  },
  {
   "cell_type": "markdown",
   "metadata": {
    "colab_type": "text",
    "id": "O3LbvbFcUBmw"
   },
   "source": [
    "**Pregunta 143:** \n",
    "\n",
    "Color:![#c5f015](https://via.placeholder.com/15/c5f015/000000?text=+) <span style=\"color:green\"> Categórica nominal</span>\n",
    "![#0A6EF5](https://via.placeholder.com/15/0A6EF5/000000?text=+) <span style=\"color:blue\">Categória de referencia</span>\n",
    "![#F53F0A](https://via.placeholder.com/15/F53F0A/000000?text=+) <span style=\"color:red\"> Categórica ordinal</span>\n",
    "\n",
    "posibles respuestas:   \n",
    "\n",
    "|  #  |      significado       |  | \n",
    "|-----|------------------------|--|   \n",
    "| a   |           |![#0A6EF5](https://via.placeholder.com/15/0A6EF5/000000?text=+) <span style=\"color:blue\">Categoría de referencia</span>|     \n",
    "| b   |  |   |\n",
    "| c   |   |   |\n",
    "| d   |  |   |\n",
    "| e   |   |   |\n",
    "| f   |   |   |\n",
    "| g   |   |   |\n",
    "| h   |  |   |\n",
    "     "
   ]
  },
  {
   "cell_type": "code",
   "execution_count": 223,
   "metadata": {
    "colab": {
     "base_uri": "https://localhost:8080/",
     "height": 35
    },
    "colab_type": "code",
    "id": "BrPmZOXEUBmx",
    "outputId": "92972d1c-8271-49bb-8b4c-a701856a4133"
   },
   "outputs": [
    {
     "data": {
      "text/plain": [
       "['D', 'E', 'C', 'F', 'B', 'G', 'H', nan, 'A']"
      ]
     },
     "execution_count": 223,
     "metadata": {
      "tags": []
     },
     "output_type": "execute_result"
    }
   ],
   "source": [
    "dataset_unido['p143'].unique().tolist()"
   ]
  },
  {
   "cell_type": "markdown",
   "metadata": {
    "colab_type": "text",
    "id": "X5jlWyDlUBmz"
   },
   "source": [
    "**Correcto**\n",
    "__________________________________"
   ]
  },
  {
   "cell_type": "markdown",
   "metadata": {
    "colab_type": "text",
    "id": "8BzyfVqhUBmz"
   },
   "source": [
    "**Pregunta 144:** \n",
    "\n",
    "Color:![#c5f015](https://via.placeholder.com/15/c5f015/000000?text=+) <span style=\"color:green\"> Categórica nominal</span>\n",
    "![#0A6EF5](https://via.placeholder.com/15/0A6EF5/000000?text=+) <span style=\"color:blue\">Categória de referencia</span>\n",
    "![#F53F0A](https://via.placeholder.com/15/F53F0A/000000?text=+) <span style=\"color:red\"> Categórica ordinal</span>\n",
    "\n",
    "posibles respuestas:   \n",
    "\n",
    "|  #  |      significado       |  | \n",
    "|-----|------------------------|--|   \n",
    "| a   |           |![#0A6EF5](https://via.placeholder.com/15/0A6EF5/000000?text=+) <span style=\"color:blue\">Categoría de referencia</span>|     \n",
    "| b   |  |   |\n",
    "| c   |   |   |\n",
    "| d   |  |   |\n",
    "| e   |   |   |\n",
    "| f   |   |   |\n",
    "| g   |   |   |\n",
    "| h   |  |   |\n",
    "    "
   ]
  },
  {
   "cell_type": "code",
   "execution_count": 224,
   "metadata": {
    "colab": {
     "base_uri": "https://localhost:8080/",
     "height": 35
    },
    "colab_type": "code",
    "id": "nWv7TldBUBmz",
    "outputId": "3ce38bb6-236a-4660-c884-51335ef7ab34"
   },
   "outputs": [
    {
     "data": {
      "text/plain": [
       "['E', 'G', 'F', 'B', 'H', 'D', 'C', 'A', nan]"
      ]
     },
     "execution_count": 224,
     "metadata": {
      "tags": []
     },
     "output_type": "execute_result"
    }
   ],
   "source": [
    "dataset_unido['p144'].unique().tolist()"
   ]
  },
  {
   "cell_type": "markdown",
   "metadata": {
    "colab_type": "text",
    "id": "Jio_NTZ2UBm1"
   },
   "source": [
    "**Correcto**\n",
    "__________________________________"
   ]
  },
  {
   "cell_type": "markdown",
   "metadata": {
    "colab_type": "text",
    "id": "zhW1-jD8UBm1"
   },
   "source": [
    "**Pregunta 145:** \n",
    "\n",
    "Color:![#c5f015](https://via.placeholder.com/15/c5f015/000000?text=+) <span style=\"color:green\"> Categórica nominal</span>\n",
    "![#0A6EF5](https://via.placeholder.com/15/0A6EF5/000000?text=+) <span style=\"color:blue\">Categória de referencia</span>\n",
    "![#F53F0A](https://via.placeholder.com/15/F53F0A/000000?text=+) <span style=\"color:red\"> Categórica ordinal</span>\n",
    "\n",
    "posibles respuestas:   \n",
    "\n",
    "|  #  |      significado       |  | \n",
    "|-----|------------------------|--|   \n",
    "| a   |           |![#0A6EF5](https://via.placeholder.com/15/0A6EF5/000000?text=+) <span style=\"color:blue\">Categoría de referencia</span>|     \n",
    "| b   |  |   |\n",
    "   "
   ]
  },
  {
   "cell_type": "code",
   "execution_count": 225,
   "metadata": {
    "colab": {
     "base_uri": "https://localhost:8080/",
     "height": 35
    },
    "colab_type": "code",
    "id": "JQAQCpOSUBm1",
    "outputId": "e434c042-a81b-4cd0-c890-1ecc2f9c83e0"
   },
   "outputs": [
    {
     "data": {
      "text/plain": [
       "['B', 'A', nan, 'F']"
      ]
     },
     "execution_count": 225,
     "metadata": {
      "tags": []
     },
     "output_type": "execute_result"
    }
   ],
   "source": [
    "dataset_unido['p145'].unique().tolist()"
   ]
  },
  {
   "cell_type": "markdown",
   "metadata": {
    "colab_type": "text",
    "id": "00dtKZAvUBm2"
   },
   "source": [
    "A pesar de que esta pregunta tiene respuestas de a,b tiene algunas otras respuestas registradas, por lo que se convertirán a nulas."
   ]
  },
  {
   "cell_type": "code",
   "execution_count": null,
   "metadata": {
    "colab": {},
    "colab_type": "code",
    "id": "gVN3KIVcUBm2"
   },
   "outputs": [],
   "source": [
    "dataset_unido.loc[dataset_unido[\"p145\"] == \"F\",\"p145\"] = np.nan"
   ]
  },
  {
   "cell_type": "code",
   "execution_count": 227,
   "metadata": {
    "colab": {
     "base_uri": "https://localhost:8080/",
     "height": 35
    },
    "colab_type": "code",
    "id": "wVElSYfRUBm5",
    "outputId": "bffacc31-8767-44db-9bdd-eafe2f5168d2"
   },
   "outputs": [
    {
     "data": {
      "text/plain": [
       "['B', 'A', nan]"
      ]
     },
     "execution_count": 227,
     "metadata": {
      "tags": []
     },
     "output_type": "execute_result"
    }
   ],
   "source": [
    "dataset_unido['p145'].unique().tolist()"
   ]
  },
  {
   "cell_type": "markdown",
   "metadata": {
    "colab_type": "text",
    "id": "fSAFb6UGUBm7"
   },
   "source": [
    "**Correcto**\n",
    "__________________________________"
   ]
  },
  {
   "cell_type": "markdown",
   "metadata": {
    "colab_type": "text",
    "id": "lasJZ7SGUBm7"
   },
   "source": [
    "**Pregunta 146:** \n",
    "\n",
    "Color:![#c5f015](https://via.placeholder.com/15/c5f015/000000?text=+) <span style=\"color:green\"> Categórica nominal</span>\n",
    "![#0A6EF5](https://via.placeholder.com/15/0A6EF5/000000?text=+) <span style=\"color:blue\">Categória de referencia</span>\n",
    "![#F53F0A](https://via.placeholder.com/15/F53F0A/000000?text=+) <span style=\"color:red\"> Categórica ordinal</span>\n",
    "\n",
    "posibles respuestas:   \n",
    "\n",
    "|  #  |      significado       |  | \n",
    "|-----|------------------------|--|   \n",
    "| a   |           |![#0A6EF5](https://via.placeholder.com/15/0A6EF5/000000?text=+) <span style=\"color:blue\">Categoría de referencia</span>|     \n",
    "| b   |  |   |\n",
    "  "
   ]
  },
  {
   "cell_type": "code",
   "execution_count": 228,
   "metadata": {
    "colab": {
     "base_uri": "https://localhost:8080/",
     "height": 35
    },
    "colab_type": "code",
    "id": "rw7Mo6qYUBm7",
    "outputId": "3b6f0a1e-79e7-4ba6-ff32-cf3f63182b00"
   },
   "outputs": [
    {
     "data": {
      "text/plain": [
       "['A', 'B', nan, 'D']"
      ]
     },
     "execution_count": 228,
     "metadata": {
      "tags": []
     },
     "output_type": "execute_result"
    }
   ],
   "source": [
    "dataset_unido['p146'].unique().tolist()"
   ]
  },
  {
   "cell_type": "markdown",
   "metadata": {
    "colab_type": "text",
    "id": "MAEGLcEfUBm-"
   },
   "source": [
    "A pesar de que esta pregunta tiene respuestas de a,b tiene algunas otras respuestas registradas, por lo que se convertirán a nulas."
   ]
  },
  {
   "cell_type": "code",
   "execution_count": null,
   "metadata": {
    "colab": {},
    "colab_type": "code",
    "id": "JdCuURKyUBm-"
   },
   "outputs": [],
   "source": [
    "dataset_unido.loc[dataset_unido[\"p146\"] == \"D\",\"p146\"] = np.nan"
   ]
  },
  {
   "cell_type": "code",
   "execution_count": 230,
   "metadata": {
    "colab": {
     "base_uri": "https://localhost:8080/",
     "height": 35
    },
    "colab_type": "code",
    "id": "ti072Er5UBnA",
    "outputId": "18798928-92db-4abb-f7be-c1316e2dad94"
   },
   "outputs": [
    {
     "data": {
      "text/plain": [
       "['A', 'B', nan]"
      ]
     },
     "execution_count": 230,
     "metadata": {
      "tags": []
     },
     "output_type": "execute_result"
    }
   ],
   "source": [
    "dataset_unido['p146'].unique().tolist()"
   ]
  },
  {
   "cell_type": "markdown",
   "metadata": {
    "colab_type": "text",
    "id": "UlwRhWV4UBnB"
   },
   "source": [
    "**Correcto**\n",
    "__________________________________"
   ]
  },
  {
   "cell_type": "markdown",
   "metadata": {
    "colab_type": "text",
    "id": "tBtBuDY1UBnC"
   },
   "source": [
    "**Pregunta 147:** \n",
    "\n",
    "Color:![#c5f015](https://via.placeholder.com/15/c5f015/000000?text=+) <span style=\"color:green\"> Categórica nominal</span>\n",
    "![#0A6EF5](https://via.placeholder.com/15/0A6EF5/000000?text=+) <span style=\"color:blue\">Categória de referencia</span>\n",
    "![#F53F0A](https://via.placeholder.com/15/F53F0A/000000?text=+) <span style=\"color:red\"> Categórica ordinal</span>\n",
    "\n",
    "posibles respuestas:   \n",
    "\n",
    "|  #  |      significado       |  | \n",
    "|-----|------------------------|--|   \n",
    "| a   |           |![#0A6EF5](https://via.placeholder.com/15/0A6EF5/000000?text=+) <span style=\"color:blue\">Categoría de referencia</span>|     \n",
    "| b   |  |   |\n",
    "   "
   ]
  },
  {
   "cell_type": "code",
   "execution_count": 232,
   "metadata": {
    "colab": {
     "base_uri": "https://localhost:8080/",
     "height": 35
    },
    "colab_type": "code",
    "id": "swkB2qW-UBnC",
    "outputId": "c6a79057-5fe0-457d-c9d4-48d2b14a8160"
   },
   "outputs": [
    {
     "data": {
      "text/plain": [
       "['A', 'B', nan]"
      ]
     },
     "execution_count": 232,
     "metadata": {
      "tags": []
     },
     "output_type": "execute_result"
    }
   ],
   "source": [
    "dataset_unido['p147'].unique().tolist()"
   ]
  },
  {
   "cell_type": "markdown",
   "metadata": {
    "colab_type": "text",
    "id": "Wf5zPJMXUBnD"
   },
   "source": [
    "**Correcto**\n",
    "__________________________________"
   ]
  },
  {
   "cell_type": "markdown",
   "metadata": {
    "colab_type": "text",
    "id": "YtG0YVJ_UBnE"
   },
   "source": [
    "**Pregunta 148:** \n",
    "\n",
    "Color:![#c5f015](https://via.placeholder.com/15/c5f015/000000?text=+) <span style=\"color:green\"> Categórica nominal</span>\n",
    "![#0A6EF5](https://via.placeholder.com/15/0A6EF5/000000?text=+) <span style=\"color:blue\">Categória de referencia</span>\n",
    "![#F53F0A](https://via.placeholder.com/15/F53F0A/000000?text=+) <span style=\"color:red\"> Categórica ordinal</span>\n",
    "\n",
    "posibles respuestas:   \n",
    "\n",
    "|  #  |      significado       |  | \n",
    "|-----|------------------------|--|   \n",
    "| a   |           |![#0A6EF5](https://via.placeholder.com/15/0A6EF5/000000?text=+) <span style=\"color:blue\">Categoría de referencia</span>|     \n",
    "| b   |  |   |\n",
    "    "
   ]
  },
  {
   "cell_type": "code",
   "execution_count": 233,
   "metadata": {
    "colab": {
     "base_uri": "https://localhost:8080/",
     "height": 35
    },
    "colab_type": "code",
    "id": "DyjY7oV6UBnE",
    "outputId": "a314f0f6-9249-4c62-b6e8-6136fb68dd6a"
   },
   "outputs": [
    {
     "data": {
      "text/plain": [
       "['A', 'B', nan, 'C']"
      ]
     },
     "execution_count": 233,
     "metadata": {
      "tags": []
     },
     "output_type": "execute_result"
    }
   ],
   "source": [
    "dataset_unido['p148'].unique().tolist()"
   ]
  },
  {
   "cell_type": "markdown",
   "metadata": {
    "colab_type": "text",
    "id": "RyC8U-uJUBnG"
   },
   "source": [
    "A pesar de que esta pregunta tiene respuestas de a,b tiene algunas otras respuestas registradas, por lo que se convertirán a nulas."
   ]
  },
  {
   "cell_type": "code",
   "execution_count": null,
   "metadata": {
    "colab": {},
    "colab_type": "code",
    "id": "lB3JHrugUBnG"
   },
   "outputs": [],
   "source": [
    "dataset_unido.loc[dataset_unido[\"p148\"] == \"C\",\"p148\"] = np.nan"
   ]
  },
  {
   "cell_type": "code",
   "execution_count": 235,
   "metadata": {
    "colab": {
     "base_uri": "https://localhost:8080/",
     "height": 35
    },
    "colab_type": "code",
    "id": "Jtb0dAq_UBnH",
    "outputId": "ff9dd526-b251-43e4-bcac-154fb7bc2817"
   },
   "outputs": [
    {
     "data": {
      "text/plain": [
       "['A', 'B', nan]"
      ]
     },
     "execution_count": 235,
     "metadata": {
      "tags": []
     },
     "output_type": "execute_result"
    }
   ],
   "source": [
    "dataset_unido['p148'].unique().tolist()"
   ]
  },
  {
   "cell_type": "markdown",
   "metadata": {
    "colab_type": "text",
    "id": "qnAtdx1RUBnJ"
   },
   "source": [
    "**Correcto**\n",
    "__________________________________"
   ]
  },
  {
   "cell_type": "markdown",
   "metadata": {
    "colab_type": "text",
    "id": "dFGlIXfcUBnJ"
   },
   "source": [
    "**Pregunta 149:** \n",
    "\n",
    "Color:![#c5f015](https://via.placeholder.com/15/c5f015/000000?text=+) <span style=\"color:green\"> Categórica nominal</span>\n",
    "![#0A6EF5](https://via.placeholder.com/15/0A6EF5/000000?text=+) <span style=\"color:blue\">Categória de referencia</span>\n",
    "![#F53F0A](https://via.placeholder.com/15/F53F0A/000000?text=+) <span style=\"color:red\"> Categórica ordinal</span>\n",
    "\n",
    "posibles respuestas:   \n",
    "\n",
    "|  #  |      significado       |  | \n",
    "|-----|------------------------|--|   \n",
    "| a   |           |![#0A6EF5](https://via.placeholder.com/15/0A6EF5/000000?text=+) <span style=\"color:blue\">Categoría de referencia</span>|     \n",
    "| b   |  |   |\n",
    " "
   ]
  },
  {
   "cell_type": "code",
   "execution_count": 236,
   "metadata": {
    "colab": {
     "base_uri": "https://localhost:8080/",
     "height": 35
    },
    "colab_type": "code",
    "id": "xYXkmYsPUBnJ",
    "outputId": "a9b60751-9360-427c-b118-2b89f3c9e538"
   },
   "outputs": [
    {
     "data": {
      "text/plain": [
       "['A', 'B', nan, 'E']"
      ]
     },
     "execution_count": 236,
     "metadata": {
      "tags": []
     },
     "output_type": "execute_result"
    }
   ],
   "source": [
    "dataset_unido['p149'].unique().tolist()"
   ]
  },
  {
   "cell_type": "markdown",
   "metadata": {
    "colab_type": "text",
    "id": "McIjnWHwUBnL"
   },
   "source": [
    "A pesar de que esta pregunta tiene respuestas de a,b tiene algunas otras respuestas registradas, por lo que se convertirán a nulas."
   ]
  },
  {
   "cell_type": "code",
   "execution_count": null,
   "metadata": {
    "colab": {},
    "colab_type": "code",
    "id": "WS9aXsb7UBnL"
   },
   "outputs": [],
   "source": [
    "dataset_unido.loc[dataset_unido[\"p149\"] == \"E\",\"p149\"] = np.nan"
   ]
  },
  {
   "cell_type": "code",
   "execution_count": 238,
   "metadata": {
    "colab": {
     "base_uri": "https://localhost:8080/",
     "height": 35
    },
    "colab_type": "code",
    "id": "EgZTjha7UBnN",
    "outputId": "8770e7b0-f0f5-4aaa-ca37-f29af993a81e"
   },
   "outputs": [
    {
     "data": {
      "text/plain": [
       "['A', 'B', nan]"
      ]
     },
     "execution_count": 238,
     "metadata": {
      "tags": []
     },
     "output_type": "execute_result"
    }
   ],
   "source": [
    "dataset_unido['p149'].unique().tolist()"
   ]
  },
  {
   "cell_type": "markdown",
   "metadata": {
    "colab_type": "text",
    "id": "nM9P84yZUBnO"
   },
   "source": [
    "**Correcto**\n",
    "__________________________________"
   ]
  },
  {
   "cell_type": "markdown",
   "metadata": {
    "colab_type": "text",
    "id": "PUUmy7DKUBnO"
   },
   "source": [
    "**Pregunta 150:** \n",
    "\n",
    "Color:![#c5f015](https://via.placeholder.com/15/c5f015/000000?text=+) <span style=\"color:green\"> Categórica nominal</span>\n",
    "![#0A6EF5](https://via.placeholder.com/15/0A6EF5/000000?text=+) <span style=\"color:blue\">Categória de referencia</span>\n",
    "![#F53F0A](https://via.placeholder.com/15/F53F0A/000000?text=+) <span style=\"color:red\"> Categórica ordinal</span>\n",
    "\n",
    "posibles respuestas:   \n",
    "\n",
    "|  #  |      significado       |  | \n",
    "|-----|------------------------|--|   \n",
    "| a   |           |![#0A6EF5](https://via.placeholder.com/15/0A6EF5/000000?text=+) <span style=\"color:blue\">Categoría de referencia</span>|     \n",
    "| b   |  |   |\n",
    "  "
   ]
  },
  {
   "cell_type": "code",
   "execution_count": 239,
   "metadata": {
    "colab": {
     "base_uri": "https://localhost:8080/",
     "height": 35
    },
    "colab_type": "code",
    "id": "lVwnnoG7UBnP",
    "outputId": "2457cd42-76a9-48d1-f589-a1ac092b6636"
   },
   "outputs": [
    {
     "data": {
      "text/plain": [
       "['B', 'A', nan, 'C']"
      ]
     },
     "execution_count": 239,
     "metadata": {
      "tags": []
     },
     "output_type": "execute_result"
    }
   ],
   "source": [
    "dataset_unido['p150'].unique().tolist()"
   ]
  },
  {
   "cell_type": "markdown",
   "metadata": {
    "colab_type": "text",
    "id": "zUUP4nsGUBnR"
   },
   "source": [
    "A pesar de que esta pregunta tiene respuestas de a,b tiene algunas otras respuestas registradas, por lo que se convertirán a nulas."
   ]
  },
  {
   "cell_type": "code",
   "execution_count": null,
   "metadata": {
    "colab": {},
    "colab_type": "code",
    "id": "0LWQDwVDUBnS"
   },
   "outputs": [],
   "source": [
    "dataset_unido.loc[dataset_unido[\"p150\"] == \"C\",\"p150\"] = np.nan"
   ]
  },
  {
   "cell_type": "code",
   "execution_count": 241,
   "metadata": {
    "colab": {
     "base_uri": "https://localhost:8080/",
     "height": 35
    },
    "colab_type": "code",
    "id": "RfV1Yo9fUBnT",
    "outputId": "7f23602b-67ee-42be-8d57-f9715bd7c0fe"
   },
   "outputs": [
    {
     "data": {
      "text/plain": [
       "['B', 'A', nan]"
      ]
     },
     "execution_count": 241,
     "metadata": {
      "tags": []
     },
     "output_type": "execute_result"
    }
   ],
   "source": [
    "dataset_unido['p150'].unique().tolist()"
   ]
  },
  {
   "cell_type": "markdown",
   "metadata": {
    "colab_type": "text",
    "id": "FmTVJ1u6UBnV"
   },
   "source": [
    "**Correcto**\n",
    "__________________________________"
   ]
  },
  {
   "cell_type": "markdown",
   "metadata": {
    "colab_type": "text",
    "id": "egiUykh9UBnV"
   },
   "source": [
    "**Pregunta 151:** \n",
    "\n",
    "Color:![#c5f015](https://via.placeholder.com/15/c5f015/000000?text=+) <span style=\"color:green\"> Categórica nominal</span>\n",
    "![#0A6EF5](https://via.placeholder.com/15/0A6EF5/000000?text=+) <span style=\"color:blue\">Categória de referencia</span>\n",
    "![#F53F0A](https://via.placeholder.com/15/F53F0A/000000?text=+) <span style=\"color:red\"> Categórica ordinal</span>\n",
    "\n",
    "posibles respuestas:   \n",
    "\n",
    "|  #  |      significado       |  | \n",
    "|-----|------------------------|--|   \n",
    "| a   |           |![#0A6EF5](https://via.placeholder.com/15/0A6EF5/000000?text=+) <span style=\"color:blue\">Categoría de referencia</span>|     \n",
    "| b   |  |   |\n",
    "| c   |   |   |\n",
    "| d   |  |   |\n",
    "| e   |   |   |\n",
    "   "
   ]
  },
  {
   "cell_type": "code",
   "execution_count": 242,
   "metadata": {
    "colab": {
     "base_uri": "https://localhost:8080/",
     "height": 35
    },
    "colab_type": "code",
    "id": "EHfcMWw7UBnV",
    "outputId": "ab33a556-aa07-494a-801b-c9e7cc627001"
   },
   "outputs": [
    {
     "data": {
      "text/plain": [
       "['C', 'B', 'A', 'D', nan, 'E']"
      ]
     },
     "execution_count": 242,
     "metadata": {
      "tags": []
     },
     "output_type": "execute_result"
    }
   ],
   "source": [
    "dataset_unido['p151'].unique().tolist()"
   ]
  },
  {
   "cell_type": "markdown",
   "metadata": {
    "colab_type": "text",
    "id": "hHCBWpajUBnY"
   },
   "source": [
    "**Correcto**\n",
    "__________________________________"
   ]
  },
  {
   "cell_type": "markdown",
   "metadata": {
    "colab_type": "text",
    "id": "FelJFw2cUBnY"
   },
   "source": [
    "**Pregunta 152:** \n",
    "\n",
    "Color:![#c5f015](https://via.placeholder.com/15/c5f015/000000?text=+) <span style=\"color:green\"> Categórica nominal</span>\n",
    "![#0A6EF5](https://via.placeholder.com/15/0A6EF5/000000?text=+) <span style=\"color:blue\">Categória de referencia</span>\n",
    "![#F53F0A](https://via.placeholder.com/15/F53F0A/000000?text=+) <span style=\"color:red\"> Categórica ordinal</span>\n",
    "\n",
    "posibles respuestas:   \n",
    "\n",
    "|  #  |      significado       |  | \n",
    "|-----|------------------------|--|   \n",
    "| a   |           |![#0A6EF5](https://via.placeholder.com/15/0A6EF5/000000?text=+) <span style=\"color:blue\">Categoría de referencia</span>|     \n",
    "| b   |  |   |\n",
    "| c   |   |   |\n",
    "| d   |  |   |\n",
    "| e   |   |   |\n",
    "   "
   ]
  },
  {
   "cell_type": "code",
   "execution_count": 243,
   "metadata": {
    "colab": {
     "base_uri": "https://localhost:8080/",
     "height": 35
    },
    "colab_type": "code",
    "id": "Z_YKUixPUBnZ",
    "outputId": "8b217e2d-0518-482a-babb-54e465615270"
   },
   "outputs": [
    {
     "data": {
      "text/plain": [
       "['A', 'B', 'D', 'C', 'E', nan]"
      ]
     },
     "execution_count": 243,
     "metadata": {
      "tags": []
     },
     "output_type": "execute_result"
    }
   ],
   "source": [
    "dataset_unido['p152'].unique().tolist()"
   ]
  },
  {
   "cell_type": "markdown",
   "metadata": {
    "colab_type": "text",
    "id": "axFeHOEsUBnb"
   },
   "source": [
    "**Correcto**\n",
    "__________________________________"
   ]
  },
  {
   "cell_type": "markdown",
   "metadata": {
    "colab_type": "text",
    "id": "qfDyCu32UBnc"
   },
   "source": [
    "**Pregunta 153:** \n",
    "\n",
    "Color:![#c5f015](https://via.placeholder.com/15/c5f015/000000?text=+) <span style=\"color:green\"> Categórica nominal</span>\n",
    "![#0A6EF5](https://via.placeholder.com/15/0A6EF5/000000?text=+) <span style=\"color:blue\">Categória de referencia</span>\n",
    "![#F53F0A](https://via.placeholder.com/15/F53F0A/000000?text=+) <span style=\"color:red\"> Categórica ordinal</span>\n",
    "\n",
    "posibles respuestas:   \n",
    "\n",
    "|  #  |      significado       |  | \n",
    "|-----|------------------------|--|   \n",
    "| a   |           |![#0A6EF5](https://via.placeholder.com/15/0A6EF5/000000?text=+) <span style=\"color:blue\">Categoría de referencia</span>|     \n",
    "| b   |  |   |\n",
    "| c   |   |   |\n",
    "| d   |  |   |\n",
    "| e   |   |   |\n",
    "   "
   ]
  },
  {
   "cell_type": "code",
   "execution_count": 244,
   "metadata": {
    "colab": {
     "base_uri": "https://localhost:8080/",
     "height": 35
    },
    "colab_type": "code",
    "id": "XVv7AezyUBnc",
    "outputId": "6551137d-bed7-43ad-d820-f5c0141aaeae"
   },
   "outputs": [
    {
     "data": {
      "text/plain": [
       "['C', 'E', 'A', 'B', 'D', nan]"
      ]
     },
     "execution_count": 244,
     "metadata": {
      "tags": []
     },
     "output_type": "execute_result"
    }
   ],
   "source": [
    "dataset_unido['p153'].unique().tolist()"
   ]
  },
  {
   "cell_type": "markdown",
   "metadata": {
    "colab_type": "text",
    "id": "sa6ntSYPUBnd"
   },
   "source": [
    "**Correcto**\n",
    "__________________________________"
   ]
  },
  {
   "cell_type": "markdown",
   "metadata": {
    "colab_type": "text",
    "id": "qZAem8OTUBnd"
   },
   "source": [
    "**Pregunta 154:** \n",
    "\n",
    "Color:![#c5f015](https://via.placeholder.com/15/c5f015/000000?text=+) <span style=\"color:green\"> Categórica nominal</span>\n",
    "![#0A6EF5](https://via.placeholder.com/15/0A6EF5/000000?text=+) <span style=\"color:blue\">Categória de referencia</span>\n",
    "![#F53F0A](https://via.placeholder.com/15/F53F0A/000000?text=+) <span style=\"color:red\"> Categórica ordinal</span>\n",
    "\n",
    "posibles respuestas:   \n",
    "\n",
    "|  #  |      significado       |  | \n",
    "|-----|------------------------|--|   \n",
    "| a   |           |![#0A6EF5](https://via.placeholder.com/15/0A6EF5/000000?text=+) <span style=\"color:blue\">Categoría de referencia</span>|     \n",
    "| b   |  |   |\n",
    "| c   |   |   |\n",
    "| d   |  |   |\n",
    "| e   |   |   |\n",
    "  "
   ]
  },
  {
   "cell_type": "code",
   "execution_count": 245,
   "metadata": {
    "colab": {
     "base_uri": "https://localhost:8080/",
     "height": 35
    },
    "colab_type": "code",
    "id": "DCjMZkkFUBnd",
    "outputId": "278e60c6-c1f8-44f4-df10-db532cf7b8b9"
   },
   "outputs": [
    {
     "data": {
      "text/plain": [
       "['B', 'C', 'A', 'D', 'E', nan]"
      ]
     },
     "execution_count": 245,
     "metadata": {
      "tags": []
     },
     "output_type": "execute_result"
    }
   ],
   "source": [
    "dataset_unido['p154'].unique().tolist()"
   ]
  },
  {
   "cell_type": "markdown",
   "metadata": {
    "colab_type": "text",
    "id": "UO52YidOUBnf"
   },
   "source": [
    "**Correcto**\n",
    "__________________________________"
   ]
  },
  {
   "cell_type": "markdown",
   "metadata": {
    "colab_type": "text",
    "id": "rMHykbAxxGN1"
   },
   "source": [
    "Exportación de Dataset Limpio (sin One Hot Encoding o Imputación)"
   ]
  },
  {
   "cell_type": "code",
   "execution_count": null,
   "metadata": {
    "colab": {},
    "colab_type": "code",
    "id": "t-Bj_MVPxUyE"
   },
   "outputs": [],
   "source": [
    "dataset_unido.to_csv('dataset_unido.csv')"
   ]
  },
  {
   "cell_type": "markdown",
   "metadata": {
    "colab_type": "text",
    "id": "qhKqq-dcth31"
   },
   "source": [
    "## 4) Reidentificación de Valores Nulos"
   ]
  },
  {
   "cell_type": "code",
   "execution_count": 252,
   "metadata": {
    "colab": {
     "base_uri": "https://localhost:8080/",
     "height": 237
    },
    "colab_type": "code",
    "id": "Pt-PEJl5UBnj",
    "outputId": "1c3950d1-01a0-4772-fa48-ea65e7488d3c"
   },
   "outputs": [
    {
     "data": {
      "text/plain": [
       "nofolio        0\n",
       "genero         0\n",
       "ent            0\n",
       "nom_ent        0\n",
       "cct            0\n",
       "           ...  \n",
       "p151       10477\n",
       "p152       10989\n",
       "p153       11244\n",
       "p154       10321\n",
       "fac            0\n",
       "Length: 167, dtype: int64"
      ]
     },
     "execution_count": 252,
     "metadata": {
      "tags": []
     },
     "output_type": "execute_result"
    }
   ],
   "source": [
    "dataset_unido.isnull().sum()"
   ]
  },
  {
   "cell_type": "code",
   "execution_count": 250,
   "metadata": {
    "colab": {
     "base_uri": "https://localhost:8080/",
     "height": 35
    },
    "colab_type": "code",
    "id": "wuT4qAa3UBnl",
    "outputId": "27a617d0-498c-4dad-ee25-be4c078fe2c4"
   },
   "outputs": [
    {
     "data": {
      "text/plain": [
       "835047"
      ]
     },
     "execution_count": 250,
     "metadata": {
      "tags": []
     },
     "output_type": "execute_result"
    }
   ],
   "source": [
    "dataset_unido.isnull().sum().sum()"
   ]
  },
  {
   "cell_type": "code",
   "execution_count": null,
   "metadata": {
    "colab": {},
    "colab_type": "code",
    "id": "XyecY31QUBnp"
   },
   "outputs": [],
   "source": [
    "# dict\n",
    "#startTime = time.perf_counter()\n",
    "#numOfRows = 10\n",
    "#row_list = []\n",
    "#for i in range (0,5):\n",
    "#    row_list.append(dict( (a,np.random.randint(100)) for a in ['A','B','C','D','E']))\n",
    "#for i in range( 1,numOfRows-4):\n",
    "#    dict1 = dict( (a,np.random.randint(100)) for a in ['A','B','C','D','E'])\n",
    "#    row_list.append(dict1)\n",
    "\n",
    "#df4 = pd.DataFrame(row_list, columns=['A','B','C','D','E'])\n",
    "#print('Elapsed time: {:6.3f} seconds for {:d} rows'.format(time.perf_counter() - startTime, numOfRows))\n",
    "#print(df4.shape)"
   ]
  },
  {
   "cell_type": "code",
   "execution_count": null,
   "metadata": {
    "colab": {},
    "colab_type": "code",
    "id": "z9I8J6whUBns"
   },
   "outputs": [],
   "source": [
    "#for i in range(len(dataset_unido.index)) :\n",
    "    \n",
    "#    print(\"Nan in row \", i , \" : \" ,  dataset_unido.iloc[i].isnull().sum())"
   ]
  },
  {
   "cell_type": "code",
   "execution_count": null,
   "metadata": {
    "colab": {},
    "colab_type": "code",
    "id": "lCxPU1pmUBnt"
   },
   "outputs": [],
   "source": [
    "#for i in range(len(dataset_unido.index)) :\n",
    "#    print(\"Nan in row \", i , \" : \" ,  dataset_unido.iloc[i].isnull().sum())"
   ]
  },
  {
   "cell_type": "code",
   "execution_count": 253,
   "metadata": {
    "colab": {
     "base_uri": "https://localhost:8080/",
     "height": 35
    },
    "colab_type": "code",
    "id": "Lg3QO9L6UBnu",
    "outputId": "d1efb757-8480-4647-9dad-c79b15bc004f"
   },
   "outputs": [
    {
     "data": {
      "text/plain": [
       "range(0, 560626)"
      ]
     },
     "execution_count": 253,
     "metadata": {
      "tags": []
     },
     "output_type": "execute_result"
    }
   ],
   "source": [
    "range(len(dataset_unido.index))"
   ]
  },
  {
   "cell_type": "code",
   "execution_count": null,
   "metadata": {
    "colab": {},
    "colab_type": "code",
    "id": "tyO8VZ05UBnw"
   },
   "outputs": [],
   "source": [
    "#sum([True for idx,row in dataset_unido.iterrows() if any(row.isnull())])"
   ]
  },
  {
   "cell_type": "code",
   "execution_count": null,
   "metadata": {
    "colab": {},
    "colab_type": "code",
    "id": "2x-htqwFUBnx"
   },
   "outputs": [],
   "source": [
    "#[True for idx,row in dataset_unido.iterrows() if any(row.isnull())]"
   ]
  },
  {
   "cell_type": "code",
   "execution_count": null,
   "metadata": {
    "colab": {},
    "colab_type": "code",
    "id": "kvsR6ibDUBny"
   },
   "outputs": [],
   "source": [
    "#True for idx,row in dataset_unido.iterrows() if any(row.isnull())"
   ]
  },
  {
   "cell_type": "code",
   "execution_count": null,
   "metadata": {
    "colab": {},
    "colab_type": "code",
    "id": "Y2zay8MzUBnz"
   },
   "outputs": [],
   "source": [
    "#dataset_unido.index[dataset_unido.isnull().sum(axis=1) > 0] # only indices with NaN"
   ]
  },
  {
   "cell_type": "code",
   "execution_count": null,
   "metadata": {
    "colab": {},
    "colab_type": "code",
    "id": "7G-2RrfpUBn0"
   },
   "outputs": [],
   "source": [
    "#list(dataset_unido.index[dataset_unido.isnull().sum(axis=1) > 0])"
   ]
  },
  {
   "cell_type": "markdown",
   "metadata": {
    "colab_type": "text",
    "id": "IRpvI-MOUBoF"
   },
   "source": [
    "## 5. Identificación de las variables cualitativas para One-Hot encoding"
   ]
  },
  {
   "cell_type": "markdown",
   "metadata": {
    "colab_type": "text",
    "id": "DdmklW0uUBoF"
   },
   "source": [
    "Las variables cualitativas son identificadas con el respectivo cuestionario, de modo que se eliminen las variables que no son cualitativas."
   ]
  },
  {
   "cell_type": "code",
   "execution_count": 254,
   "metadata": {
    "colab": {
     "base_uri": "https://localhost:8080/",
     "height": 35
    },
    "colab_type": "code",
    "id": "D5_TGhwOUBoG",
    "outputId": "1edae243-5ebd-4c37-b0ee-242f6b86b901"
   },
   "outputs": [
    {
     "data": {
      "text/plain": [
       "(560626, 167)"
      ]
     },
     "execution_count": 254,
     "metadata": {
      "tags": []
     },
     "output_type": "execute_result"
    }
   ],
   "source": [
    "dataset_unido.shape"
   ]
  },
  {
   "cell_type": "code",
   "execution_count": 255,
   "metadata": {
    "colab": {
     "base_uri": "https://localhost:8080/",
     "height": 274
    },
    "colab_type": "code",
    "id": "LxzaKnMdUBoJ",
    "outputId": "72e45af4-993b-4e52-dd9f-52956c6496dc"
   },
   "outputs": [
    {
     "data": {
      "text/plain": [
       "<bound method NDFrame.describe of              nofolio genero  ent         nom_ent  ... p152 p153 p154       fac\n",
       "0       010000023B16      B    1  aguascalientes  ...    A    C    B  1.828571\n",
       "1       010000037B16      A    1  aguascalientes  ...    B    E    C  1.828571\n",
       "2       010000008B16      B    1  aguascalientes  ...    B    C    B  1.828571\n",
       "3       010000035B16      A    1  aguascalientes  ...    B    A    A  1.828571\n",
       "4       010000032B16      A    1  aguascalientes  ...    B    C    C  1.828571\n",
       "...              ...    ...  ...             ...  ...  ...  ...  ...       ...\n",
       "560621  320009376B16      B   32       zacatecas  ...    A    B    A  1.114286\n",
       "560622  320009378B16      A   32       zacatecas  ...    B    E    B  1.114286\n",
       "560623  320009401B16      A   32       zacatecas  ...    B    B    B  1.114286\n",
       "560624  320009397B16      B   32       zacatecas  ...    B    B    B  1.114286\n",
       "560625  320009413B16      B   32       zacatecas  ...    B    C    A  1.114286\n",
       "\n",
       "[560626 rows x 167 columns]>"
      ]
     },
     "execution_count": 255,
     "metadata": {
      "tags": []
     },
     "output_type": "execute_result"
    }
   ],
   "source": [
    "dataset_unido.describe"
   ]
  },
  {
   "cell_type": "code",
   "execution_count": null,
   "metadata": {
    "colab": {},
    "colab_type": "code",
    "id": "fl742q2cUBoP",
    "outputId": "c578c91a-218f-4ac5-b6f9-ca82c5aabd30"
   },
   "outputs": [
    {
     "data": {
      "text/plain": [
       "nofolio     object\n",
       "genero      object\n",
       "ent          int64\n",
       "nom_ent     object\n",
       "cct         object\n",
       "            ...   \n",
       "p151        object\n",
       "p152        object\n",
       "p153        object\n",
       "p154        object\n",
       "fac        float64\n",
       "Length: 167, dtype: object"
      ]
     },
     "execution_count": 288,
     "metadata": {
      "tags": []
     },
     "output_type": "execute_result"
    }
   ],
   "source": [
    "dataset_unido.dtypes"
   ]
  },
  {
   "cell_type": "markdown",
   "metadata": {
    "colab_type": "text",
    "id": "wKE73s3JUBoQ"
   },
   "source": [
    "Está tomando los valores como tipo object, pero tiene que ser tipo Character:"
   ]
  },
  {
   "cell_type": "code",
   "execution_count": null,
   "metadata": {
    "colab": {},
    "colab_type": "code",
    "id": "L0_rR0uQUBoi",
    "outputId": "f095b2f0-6975-4e5a-db8f-6538d0f11e57"
   },
   "outputs": [
    {
     "ename": "KeyError",
     "evalue": "'nom_ent'",
     "output_type": "error",
     "traceback": [
      "\u001b[0;31m---------------------------------------------------------------------------\u001b[0m",
      "\u001b[0;31mKeyError\u001b[0m                                  Traceback (most recent call last)",
      "\u001b[0;32m~/.pyenv/versions/3.8.2/lib/python3.8/site-packages/pandas/core/indexes/base.py\u001b[0m in \u001b[0;36mget_loc\u001b[0;34m(self, key, method, tolerance)\u001b[0m\n\u001b[1;32m   2645\u001b[0m             \u001b[0;32mtry\u001b[0m\u001b[0;34m:\u001b[0m\u001b[0;34m\u001b[0m\u001b[0;34m\u001b[0m\u001b[0m\n\u001b[0;32m-> 2646\u001b[0;31m                 \u001b[0;32mreturn\u001b[0m \u001b[0mself\u001b[0m\u001b[0;34m.\u001b[0m\u001b[0m_engine\u001b[0m\u001b[0;34m.\u001b[0m\u001b[0mget_loc\u001b[0m\u001b[0;34m(\u001b[0m\u001b[0mkey\u001b[0m\u001b[0;34m)\u001b[0m\u001b[0;34m\u001b[0m\u001b[0;34m\u001b[0m\u001b[0m\n\u001b[0m\u001b[1;32m   2647\u001b[0m             \u001b[0;32mexcept\u001b[0m \u001b[0mKeyError\u001b[0m\u001b[0;34m:\u001b[0m\u001b[0;34m\u001b[0m\u001b[0;34m\u001b[0m\u001b[0m\n",
      "\u001b[0;32mpandas/_libs/index.pyx\u001b[0m in \u001b[0;36mpandas._libs.index.IndexEngine.get_loc\u001b[0;34m()\u001b[0m\n",
      "\u001b[0;32mpandas/_libs/index.pyx\u001b[0m in \u001b[0;36mpandas._libs.index.IndexEngine.get_loc\u001b[0;34m()\u001b[0m\n",
      "\u001b[0;32mpandas/_libs/hashtable_class_helper.pxi\u001b[0m in \u001b[0;36mpandas._libs.hashtable.PyObjectHashTable.get_item\u001b[0;34m()\u001b[0m\n",
      "\u001b[0;32mpandas/_libs/hashtable_class_helper.pxi\u001b[0m in \u001b[0;36mpandas._libs.hashtable.PyObjectHashTable.get_item\u001b[0;34m()\u001b[0m\n",
      "\u001b[0;31mKeyError\u001b[0m: 'nom_ent'",
      "\nDuring handling of the above exception, another exception occurred:\n",
      "\u001b[0;31mKeyError\u001b[0m                                  Traceback (most recent call last)",
      "\u001b[0;32m<ipython-input-346-cd40ba5540e1>\u001b[0m in \u001b[0;36m<module>\u001b[0;34m\u001b[0m\n\u001b[0;32m----> 1\u001b[0;31m \u001b[0mdataset_unido\u001b[0m \u001b[0;34m=\u001b[0m \u001b[0mcf\u001b[0m\u001b[0;34m.\u001b[0m\u001b[0mone_hot_encoding\u001b[0m\u001b[0;34m(\u001b[0m\u001b[0mdataset_unido\u001b[0m\u001b[0;34m)\u001b[0m\u001b[0;34m\u001b[0m\u001b[0;34m\u001b[0m\u001b[0m\n\u001b[0m",
      "\u001b[0;32m~/Documentos/mno_proj/src/data_transformation/clean_functions.py\u001b[0m in \u001b[0;36mone_hot_encoding\u001b[0;34m(df)\u001b[0m\n\u001b[1;32m    215\u001b[0m \u001b[0;34m\u001b[0m\u001b[0m\n\u001b[1;32m    216\u001b[0m     \u001b[0;32mfor\u001b[0m \u001b[0mcat\u001b[0m \u001b[0;32min\u001b[0m \u001b[0mcategorias_no_binarias\u001b[0m\u001b[0;34m:\u001b[0m\u001b[0;34m\u001b[0m\u001b[0;34m\u001b[0m\u001b[0m\n\u001b[0;32m--> 217\u001b[0;31m         \u001b[0mdummies\u001b[0m \u001b[0;34m=\u001b[0m \u001b[0mpd\u001b[0m\u001b[0;34m.\u001b[0m\u001b[0mget_dummies\u001b[0m\u001b[0;34m(\u001b[0m\u001b[0mdf\u001b[0m\u001b[0;34m[\u001b[0m\u001b[0mstr\u001b[0m\u001b[0;34m(\u001b[0m\u001b[0mcat\u001b[0m\u001b[0;34m)\u001b[0m\u001b[0;34m]\u001b[0m\u001b[0;34m,\u001b[0m \u001b[0mdrop_first\u001b[0m\u001b[0;34m=\u001b[0m\u001b[0;32mFalse\u001b[0m\u001b[0;34m,\u001b[0m \u001b[0mdummy_na\u001b[0m\u001b[0;34m=\u001b[0m\u001b[0;32mFalse\u001b[0m\u001b[0;34m,\u001b[0m \u001b[0mprefix\u001b[0m\u001b[0;34m=\u001b[0m\u001b[0mstr\u001b[0m\u001b[0;34m(\u001b[0m\u001b[0mcat\u001b[0m\u001b[0;34m)\u001b[0m\u001b[0;34m,\u001b[0m \u001b[0mprefix_sep\u001b[0m\u001b[0;34m=\u001b[0m\u001b[0;34m'_'\u001b[0m\u001b[0;34m)\u001b[0m\u001b[0;34m\u001b[0m\u001b[0;34m\u001b[0m\u001b[0m\n\u001b[0m\u001b[1;32m    218\u001b[0m         \u001b[0mdf\u001b[0m\u001b[0;34m.\u001b[0m\u001b[0mdrop\u001b[0m\u001b[0;34m(\u001b[0m\u001b[0mcat\u001b[0m\u001b[0;34m,\u001b[0m \u001b[0maxis\u001b[0m\u001b[0;34m=\u001b[0m\u001b[0;36m1\u001b[0m\u001b[0;34m,\u001b[0m \u001b[0minplace\u001b[0m\u001b[0;34m=\u001b[0m\u001b[0;32mTrue\u001b[0m\u001b[0;34m)\u001b[0m\u001b[0;34m\u001b[0m\u001b[0;34m\u001b[0m\u001b[0m\n\u001b[1;32m    219\u001b[0m         \u001b[0mdf\u001b[0m \u001b[0;34m=\u001b[0m \u001b[0mdf\u001b[0m\u001b[0;34m.\u001b[0m\u001b[0mjoin\u001b[0m\u001b[0;34m(\u001b[0m\u001b[0mdummies\u001b[0m\u001b[0;34m,\u001b[0m \u001b[0mrsuffix\u001b[0m\u001b[0;34m=\u001b[0m\u001b[0mcat\u001b[0m\u001b[0;34m)\u001b[0m\u001b[0;34m\u001b[0m\u001b[0;34m\u001b[0m\u001b[0m\n",
      "\u001b[0;32m~/.pyenv/versions/3.8.2/lib/python3.8/site-packages/pandas/core/frame.py\u001b[0m in \u001b[0;36m__getitem__\u001b[0;34m(self, key)\u001b[0m\n\u001b[1;32m   2798\u001b[0m             \u001b[0;32mif\u001b[0m \u001b[0mself\u001b[0m\u001b[0;34m.\u001b[0m\u001b[0mcolumns\u001b[0m\u001b[0;34m.\u001b[0m\u001b[0mnlevels\u001b[0m \u001b[0;34m>\u001b[0m \u001b[0;36m1\u001b[0m\u001b[0;34m:\u001b[0m\u001b[0;34m\u001b[0m\u001b[0;34m\u001b[0m\u001b[0m\n\u001b[1;32m   2799\u001b[0m                 \u001b[0;32mreturn\u001b[0m \u001b[0mself\u001b[0m\u001b[0;34m.\u001b[0m\u001b[0m_getitem_multilevel\u001b[0m\u001b[0;34m(\u001b[0m\u001b[0mkey\u001b[0m\u001b[0;34m)\u001b[0m\u001b[0;34m\u001b[0m\u001b[0;34m\u001b[0m\u001b[0m\n\u001b[0;32m-> 2800\u001b[0;31m             \u001b[0mindexer\u001b[0m \u001b[0;34m=\u001b[0m \u001b[0mself\u001b[0m\u001b[0;34m.\u001b[0m\u001b[0mcolumns\u001b[0m\u001b[0;34m.\u001b[0m\u001b[0mget_loc\u001b[0m\u001b[0;34m(\u001b[0m\u001b[0mkey\u001b[0m\u001b[0;34m)\u001b[0m\u001b[0;34m\u001b[0m\u001b[0;34m\u001b[0m\u001b[0m\n\u001b[0m\u001b[1;32m   2801\u001b[0m             \u001b[0;32mif\u001b[0m \u001b[0mis_integer\u001b[0m\u001b[0;34m(\u001b[0m\u001b[0mindexer\u001b[0m\u001b[0;34m)\u001b[0m\u001b[0;34m:\u001b[0m\u001b[0;34m\u001b[0m\u001b[0;34m\u001b[0m\u001b[0m\n\u001b[1;32m   2802\u001b[0m                 \u001b[0mindexer\u001b[0m \u001b[0;34m=\u001b[0m \u001b[0;34m[\u001b[0m\u001b[0mindexer\u001b[0m\u001b[0;34m]\u001b[0m\u001b[0;34m\u001b[0m\u001b[0;34m\u001b[0m\u001b[0m\n",
      "\u001b[0;32m~/.pyenv/versions/3.8.2/lib/python3.8/site-packages/pandas/core/indexes/base.py\u001b[0m in \u001b[0;36mget_loc\u001b[0;34m(self, key, method, tolerance)\u001b[0m\n\u001b[1;32m   2646\u001b[0m                 \u001b[0;32mreturn\u001b[0m \u001b[0mself\u001b[0m\u001b[0;34m.\u001b[0m\u001b[0m_engine\u001b[0m\u001b[0;34m.\u001b[0m\u001b[0mget_loc\u001b[0m\u001b[0;34m(\u001b[0m\u001b[0mkey\u001b[0m\u001b[0;34m)\u001b[0m\u001b[0;34m\u001b[0m\u001b[0;34m\u001b[0m\u001b[0m\n\u001b[1;32m   2647\u001b[0m             \u001b[0;32mexcept\u001b[0m \u001b[0mKeyError\u001b[0m\u001b[0;34m:\u001b[0m\u001b[0;34m\u001b[0m\u001b[0;34m\u001b[0m\u001b[0m\n\u001b[0;32m-> 2648\u001b[0;31m                 \u001b[0;32mreturn\u001b[0m \u001b[0mself\u001b[0m\u001b[0;34m.\u001b[0m\u001b[0m_engine\u001b[0m\u001b[0;34m.\u001b[0m\u001b[0mget_loc\u001b[0m\u001b[0;34m(\u001b[0m\u001b[0mself\u001b[0m\u001b[0;34m.\u001b[0m\u001b[0m_maybe_cast_indexer\u001b[0m\u001b[0;34m(\u001b[0m\u001b[0mkey\u001b[0m\u001b[0;34m)\u001b[0m\u001b[0;34m)\u001b[0m\u001b[0;34m\u001b[0m\u001b[0;34m\u001b[0m\u001b[0m\n\u001b[0m\u001b[1;32m   2649\u001b[0m         \u001b[0mindexer\u001b[0m \u001b[0;34m=\u001b[0m \u001b[0mself\u001b[0m\u001b[0;34m.\u001b[0m\u001b[0mget_indexer\u001b[0m\u001b[0;34m(\u001b[0m\u001b[0;34m[\u001b[0m\u001b[0mkey\u001b[0m\u001b[0;34m]\u001b[0m\u001b[0;34m,\u001b[0m \u001b[0mmethod\u001b[0m\u001b[0;34m=\u001b[0m\u001b[0mmethod\u001b[0m\u001b[0;34m,\u001b[0m \u001b[0mtolerance\u001b[0m\u001b[0;34m=\u001b[0m\u001b[0mtolerance\u001b[0m\u001b[0;34m)\u001b[0m\u001b[0;34m\u001b[0m\u001b[0;34m\u001b[0m\u001b[0m\n\u001b[1;32m   2650\u001b[0m         \u001b[0;32mif\u001b[0m \u001b[0mindexer\u001b[0m\u001b[0;34m.\u001b[0m\u001b[0mndim\u001b[0m \u001b[0;34m>\u001b[0m \u001b[0;36m1\u001b[0m \u001b[0;32mor\u001b[0m \u001b[0mindexer\u001b[0m\u001b[0;34m.\u001b[0m\u001b[0msize\u001b[0m \u001b[0;34m>\u001b[0m \u001b[0;36m1\u001b[0m\u001b[0;34m:\u001b[0m\u001b[0;34m\u001b[0m\u001b[0;34m\u001b[0m\u001b[0m\n",
      "\u001b[0;32mpandas/_libs/index.pyx\u001b[0m in \u001b[0;36mpandas._libs.index.IndexEngine.get_loc\u001b[0;34m()\u001b[0m\n",
      "\u001b[0;32mpandas/_libs/index.pyx\u001b[0m in \u001b[0;36mpandas._libs.index.IndexEngine.get_loc\u001b[0;34m()\u001b[0m\n",
      "\u001b[0;32mpandas/_libs/hashtable_class_helper.pxi\u001b[0m in \u001b[0;36mpandas._libs.hashtable.PyObjectHashTable.get_item\u001b[0;34m()\u001b[0m\n",
      "\u001b[0;32mpandas/_libs/hashtable_class_helper.pxi\u001b[0m in \u001b[0;36mpandas._libs.hashtable.PyObjectHashTable.get_item\u001b[0;34m()\u001b[0m\n",
      "\u001b[0;31mKeyError\u001b[0m: 'nom_ent'"
     ]
    }
   ],
   "source": [
    "dataset_unido = cf.one_hot_encoding(dataset_unido)"
   ]
  },
  {
   "cell_type": "code",
   "execution_count": null,
   "metadata": {
    "colab": {},
    "colab_type": "code",
    "id": "52vXbglqUBok"
   },
   "outputs": [],
   "source": [
    "#categorias = [\"programtype\", \"facilitytype\", \"borough\"]"
   ]
  },
  {
   "cell_type": "code",
   "execution_count": null,
   "metadata": {
    "colab": {},
    "colab_type": "code",
    "id": "AWPZvbDAUBol"
   },
   "outputs": [],
   "source": [
    "#df_1 = pd.get_dummies(tabla_3[categorias])"
   ]
  },
  {
   "cell_type": "code",
   "execution_count": null,
   "metadata": {
    "colab": {},
    "colab_type": "code",
    "id": "uJRRE9haUBon",
    "outputId": "936981a8-ca5a-4a78-ccfa-86b2adfb118f"
   },
   "outputs": [
    {
     "data": {
      "text/html": [
       "<div>\n",
       "<style scoped>\n",
       "    .dataframe tbody tr th:only-of-type {\n",
       "        vertical-align: middle;\n",
       "    }\n",
       "\n",
       "    .dataframe tbody tr th {\n",
       "        vertical-align: top;\n",
       "    }\n",
       "\n",
       "    .dataframe thead th {\n",
       "        text-align: right;\n",
       "    }\n",
       "</style>\n",
       "<table border=\"1\" class=\"dataframe\">\n",
       "  <thead>\n",
       "    <tr style=\"text-align: right;\">\n",
       "      <th></th>\n",
       "      <th>nofolio</th>\n",
       "      <th>genero</th>\n",
       "      <th>ent</th>\n",
       "      <th>cct</th>\n",
       "      <th>modalidad</th>\n",
       "      <th>sost</th>\n",
       "      <th>subsist</th>\n",
       "      <th>hlec</th>\n",
       "      <th>nvl_esp</th>\n",
       "      <th>hmat</th>\n",
       "      <th>...</th>\n",
       "      <th>p146</th>\n",
       "      <th>p147</th>\n",
       "      <th>p148</th>\n",
       "      <th>p149</th>\n",
       "      <th>p150</th>\n",
       "      <th>p151</th>\n",
       "      <th>p152</th>\n",
       "      <th>p153</th>\n",
       "      <th>p154</th>\n",
       "      <th>fac</th>\n",
       "    </tr>\n",
       "  </thead>\n",
       "  <tbody>\n",
       "    <tr>\n",
       "      <th>0</th>\n",
       "      <td>010000023B16</td>\n",
       "      <td>B</td>\n",
       "      <td>1</td>\n",
       "      <td>01DBH0004I</td>\n",
       "      <td>BACHILLERATO GENERAL</td>\n",
       "      <td>FEDERAL</td>\n",
       "      <td>DGB</td>\n",
       "      <td>-0.76369</td>\n",
       "      <td>I</td>\n",
       "      <td>-1.10088</td>\n",
       "      <td>...</td>\n",
       "      <td>A</td>\n",
       "      <td>A</td>\n",
       "      <td>A</td>\n",
       "      <td>A</td>\n",
       "      <td>B</td>\n",
       "      <td>C</td>\n",
       "      <td>A</td>\n",
       "      <td>C</td>\n",
       "      <td>B</td>\n",
       "      <td>1.828571</td>\n",
       "    </tr>\n",
       "    <tr>\n",
       "      <th>1</th>\n",
       "      <td>010000037B16</td>\n",
       "      <td>A</td>\n",
       "      <td>1</td>\n",
       "      <td>01DBH0004I</td>\n",
       "      <td>BACHILLERATO GENERAL</td>\n",
       "      <td>FEDERAL</td>\n",
       "      <td>DGB</td>\n",
       "      <td>0.97389</td>\n",
       "      <td>III</td>\n",
       "      <td>-0.37852</td>\n",
       "      <td>...</td>\n",
       "      <td>A</td>\n",
       "      <td>A</td>\n",
       "      <td>A</td>\n",
       "      <td>A</td>\n",
       "      <td>A</td>\n",
       "      <td>B</td>\n",
       "      <td>B</td>\n",
       "      <td>E</td>\n",
       "      <td>C</td>\n",
       "      <td>1.828571</td>\n",
       "    </tr>\n",
       "    <tr>\n",
       "      <th>2</th>\n",
       "      <td>010000008B16</td>\n",
       "      <td>B</td>\n",
       "      <td>1</td>\n",
       "      <td>01DBH0004I</td>\n",
       "      <td>BACHILLERATO GENERAL</td>\n",
       "      <td>FEDERAL</td>\n",
       "      <td>DGB</td>\n",
       "      <td>0.26655</td>\n",
       "      <td>II</td>\n",
       "      <td>0.27625</td>\n",
       "      <td>...</td>\n",
       "      <td>A</td>\n",
       "      <td>A</td>\n",
       "      <td>A</td>\n",
       "      <td>A</td>\n",
       "      <td>A</td>\n",
       "      <td>B</td>\n",
       "      <td>B</td>\n",
       "      <td>C</td>\n",
       "      <td>B</td>\n",
       "      <td>1.828571</td>\n",
       "    </tr>\n",
       "    <tr>\n",
       "      <th>3</th>\n",
       "      <td>010000035B16</td>\n",
       "      <td>A</td>\n",
       "      <td>1</td>\n",
       "      <td>01DBH0004I</td>\n",
       "      <td>BACHILLERATO GENERAL</td>\n",
       "      <td>FEDERAL</td>\n",
       "      <td>DGB</td>\n",
       "      <td>0.36393</td>\n",
       "      <td>II</td>\n",
       "      <td>-0.37852</td>\n",
       "      <td>...</td>\n",
       "      <td>A</td>\n",
       "      <td>A</td>\n",
       "      <td>A</td>\n",
       "      <td>B</td>\n",
       "      <td>A</td>\n",
       "      <td>A</td>\n",
       "      <td>B</td>\n",
       "      <td>A</td>\n",
       "      <td>A</td>\n",
       "      <td>1.828571</td>\n",
       "    </tr>\n",
       "    <tr>\n",
       "      <th>4</th>\n",
       "      <td>010000032B16</td>\n",
       "      <td>A</td>\n",
       "      <td>1</td>\n",
       "      <td>01DBH0004I</td>\n",
       "      <td>BACHILLERATO GENERAL</td>\n",
       "      <td>FEDERAL</td>\n",
       "      <td>DGB</td>\n",
       "      <td>0.97389</td>\n",
       "      <td>III</td>\n",
       "      <td>0.27625</td>\n",
       "      <td>...</td>\n",
       "      <td>A</td>\n",
       "      <td>A</td>\n",
       "      <td>A</td>\n",
       "      <td>A</td>\n",
       "      <td>A</td>\n",
       "      <td>B</td>\n",
       "      <td>B</td>\n",
       "      <td>C</td>\n",
       "      <td>C</td>\n",
       "      <td>1.828571</td>\n",
       "    </tr>\n",
       "  </tbody>\n",
       "</table>\n",
       "<p>5 rows × 166 columns</p>\n",
       "</div>"
      ],
      "text/plain": [
       "        nofolio genero  ent         cct             modalidad     sost  \\\n",
       "0  010000023B16      B    1  01DBH0004I  BACHILLERATO GENERAL  FEDERAL   \n",
       "1  010000037B16      A    1  01DBH0004I  BACHILLERATO GENERAL  FEDERAL   \n",
       "2  010000008B16      B    1  01DBH0004I  BACHILLERATO GENERAL  FEDERAL   \n",
       "3  010000035B16      A    1  01DBH0004I  BACHILLERATO GENERAL  FEDERAL   \n",
       "4  010000032B16      A    1  01DBH0004I  BACHILLERATO GENERAL  FEDERAL   \n",
       "\n",
       "  subsist     hlec nvl_esp     hmat  ... p146 p147 p148 p149 p150 p151 p152  \\\n",
       "0     DGB -0.76369       I -1.10088  ...    A    A    A    A    B    C    A   \n",
       "1     DGB  0.97389     III -0.37852  ...    A    A    A    A    A    B    B   \n",
       "2     DGB  0.26655      II  0.27625  ...    A    A    A    A    A    B    B   \n",
       "3     DGB  0.36393      II -0.37852  ...    A    A    A    B    A    A    B   \n",
       "4     DGB  0.97389     III  0.27625  ...    A    A    A    A    A    B    B   \n",
       "\n",
       "  p153 p154       fac  \n",
       "0    C    B  1.828571  \n",
       "1    E    C  1.828571  \n",
       "2    C    B  1.828571  \n",
       "3    A    A  1.828571  \n",
       "4    C    C  1.828571  \n",
       "\n",
       "[5 rows x 166 columns]"
      ]
     },
     "execution_count": 306,
     "metadata": {
      "tags": []
     },
     "output_type": "execute_result"
    }
   ],
   "source": [
    "dataset_unido.head()"
   ]
  },
  {
   "cell_type": "code",
   "execution_count": null,
   "metadata": {
    "colab": {},
    "colab_type": "code",
    "id": "P6IfrbWlUBoo",
    "outputId": "8c10f90c-df87-4621-eaa6-b0c2a098512a"
   },
   "outputs": [
    {
     "data": {
      "text/plain": [
       "['DGB',\n",
       " 'DGETI',\n",
       " 'CONALEP',\n",
       " 'DGETA',\n",
       " 'BACH ESTATAL DGE-CGE',\n",
       " 'EMSAD',\n",
       " 'CECYTE',\n",
       " 'TELEBACHILLERATOS',\n",
       " 'TELEBACHILLERATOS COMUNITARIOS',\n",
       " 'PARTICULARES',\n",
       " 'ASOCIACIï¿½N CIVIL',\n",
       " 'BACHILLERATO AUTï¿½NOMO',\n",
       " 'DGECYTM',\n",
       " 'COBACH',\n",
       " 'OTRAS FEDERALES',\n",
       " 'OTRAS ESTATALES',\n",
       " 'BACHILLERATO INTERCULTURAL',\n",
       " 'COLBACH',\n",
       " 'IPN',\n",
       " 'CETI']"
      ]
     },
     "execution_count": 316,
     "metadata": {
      "tags": []
     },
     "output_type": "execute_result"
    }
   ],
   "source": [
    "dataset_unido['subsist'].unique().tolist()"
   ]
  },
  {
   "cell_type": "code",
   "execution_count": null,
   "metadata": {
    "colab": {},
    "colab_type": "code",
    "id": "-oJPnR9AUBoq",
    "outputId": "564adc57-c85b-40f3-8e06-814ac77a39fa"
   },
   "outputs": [
    {
     "data": {
      "text/plain": [
       "['COLBACH/Otros federales',\n",
       " 'DGETI',\n",
       " 'CONALEP',\n",
       " 'BACH ESTATAL DGE-CGE',\n",
       " 'TELEBACH/EMSAD',\n",
       " 'CECYTE',\n",
       " 'ASOCIACIï¿½N CIVIL',\n",
       " 'BACHILLERATO AUTï¿½NOMO',\n",
       " 'COBACH',\n",
       " 'OTRAS FEDERALES',\n",
       " 'OTRAS ESTATALES',\n",
       " 'BACHILLERATO INTERCULTURAL']"
      ]
     },
     "execution_count": 323,
     "metadata": {
      "tags": []
     },
     "output_type": "execute_result"
    }
   ],
   "source": [
    "dataset_unido['subsist'].unique().tolist()"
   ]
  },
  {
   "cell_type": "code",
   "execution_count": null,
   "metadata": {
    "colab": {},
    "colab_type": "code",
    "id": "dRYAoEH0UBos"
   },
   "outputs": [],
   "source": [
    "#dataset_unido['subsist'].str.replace((\"EMSAD\",\"TELEBACHILLERATOS\",\"TELEBACHILLERATOS COMUNITARIOS\"),\"TELEBACH/EMSAD\")"
   ]
  },
  {
   "cell_type": "code",
   "execution_count": null,
   "metadata": {
    "colab": {},
    "colab_type": "code",
    "id": "FVxTjy64UBot"
   },
   "outputs": [],
   "source": [
    "#dataset_unido['subsist'].loc[dataset_unido[\"subsist\"] == \"EMSAD\" && \"TELEBACHILLERATOS COMUNITARIOS\" && \"TELEBACHILLERATOS\", \"subsist\"] = \"TELEBACH/EMSAD\""
   ]
  },
  {
   "cell_type": "code",
   "execution_count": null,
   "metadata": {
    "colab": {},
    "colab_type": "code",
    "id": "w7J0q_I3UBou"
   },
   "outputs": [],
   "source": [
    "dataset_unido=cf.agrupa_subsistemas(dataset_unido)"
   ]
  },
  {
   "cell_type": "code",
   "execution_count": null,
   "metadata": {
    "colab": {},
    "colab_type": "code",
    "id": "JK3Er0neUBov",
    "outputId": "6e25b076-c2de-48c6-87fc-a3f123334e25"
   },
   "outputs": [
    {
     "data": {
      "text/html": [
       "<div>\n",
       "<style scoped>\n",
       "    .dataframe tbody tr th:only-of-type {\n",
       "        vertical-align: middle;\n",
       "    }\n",
       "\n",
       "    .dataframe tbody tr th {\n",
       "        vertical-align: top;\n",
       "    }\n",
       "\n",
       "    .dataframe thead th {\n",
       "        text-align: right;\n",
       "    }\n",
       "</style>\n",
       "<table border=\"1\" class=\"dataframe\">\n",
       "  <thead>\n",
       "    <tr style=\"text-align: right;\">\n",
       "      <th></th>\n",
       "      <th>ASOCIACIï¿½N CIVIL</th>\n",
       "      <th>BACH ESTATAL DGE-CGE</th>\n",
       "      <th>BACHILLERATO AUTï¿½NOMO</th>\n",
       "      <th>BACHILLERATO INTERCULTURAL</th>\n",
       "      <th>CECYTE</th>\n",
       "      <th>COBACH</th>\n",
       "      <th>COLBACH/Otros federales</th>\n",
       "      <th>CONALEP</th>\n",
       "      <th>DGETI</th>\n",
       "      <th>OTRAS ESTATALES</th>\n",
       "      <th>OTRAS FEDERALES</th>\n",
       "      <th>TELEBACH/EMSAD</th>\n",
       "    </tr>\n",
       "  </thead>\n",
       "  <tbody>\n",
       "    <tr>\n",
       "      <th>0</th>\n",
       "      <td>0</td>\n",
       "      <td>0</td>\n",
       "      <td>0</td>\n",
       "      <td>0</td>\n",
       "      <td>0</td>\n",
       "      <td>0</td>\n",
       "      <td>1</td>\n",
       "      <td>0</td>\n",
       "      <td>0</td>\n",
       "      <td>0</td>\n",
       "      <td>0</td>\n",
       "      <td>0</td>\n",
       "    </tr>\n",
       "    <tr>\n",
       "      <th>1</th>\n",
       "      <td>0</td>\n",
       "      <td>0</td>\n",
       "      <td>0</td>\n",
       "      <td>0</td>\n",
       "      <td>0</td>\n",
       "      <td>0</td>\n",
       "      <td>1</td>\n",
       "      <td>0</td>\n",
       "      <td>0</td>\n",
       "      <td>0</td>\n",
       "      <td>0</td>\n",
       "      <td>0</td>\n",
       "    </tr>\n",
       "    <tr>\n",
       "      <th>2</th>\n",
       "      <td>0</td>\n",
       "      <td>0</td>\n",
       "      <td>0</td>\n",
       "      <td>0</td>\n",
       "      <td>0</td>\n",
       "      <td>0</td>\n",
       "      <td>1</td>\n",
       "      <td>0</td>\n",
       "      <td>0</td>\n",
       "      <td>0</td>\n",
       "      <td>0</td>\n",
       "      <td>0</td>\n",
       "    </tr>\n",
       "    <tr>\n",
       "      <th>3</th>\n",
       "      <td>0</td>\n",
       "      <td>0</td>\n",
       "      <td>0</td>\n",
       "      <td>0</td>\n",
       "      <td>0</td>\n",
       "      <td>0</td>\n",
       "      <td>1</td>\n",
       "      <td>0</td>\n",
       "      <td>0</td>\n",
       "      <td>0</td>\n",
       "      <td>0</td>\n",
       "      <td>0</td>\n",
       "    </tr>\n",
       "    <tr>\n",
       "      <th>4</th>\n",
       "      <td>0</td>\n",
       "      <td>0</td>\n",
       "      <td>0</td>\n",
       "      <td>0</td>\n",
       "      <td>0</td>\n",
       "      <td>0</td>\n",
       "      <td>1</td>\n",
       "      <td>0</td>\n",
       "      <td>0</td>\n",
       "      <td>0</td>\n",
       "      <td>0</td>\n",
       "      <td>0</td>\n",
       "    </tr>\n",
       "    <tr>\n",
       "      <th>...</th>\n",
       "      <td>...</td>\n",
       "      <td>...</td>\n",
       "      <td>...</td>\n",
       "      <td>...</td>\n",
       "      <td>...</td>\n",
       "      <td>...</td>\n",
       "      <td>...</td>\n",
       "      <td>...</td>\n",
       "      <td>...</td>\n",
       "      <td>...</td>\n",
       "      <td>...</td>\n",
       "      <td>...</td>\n",
       "    </tr>\n",
       "    <tr>\n",
       "      <th>560621</th>\n",
       "      <td>0</td>\n",
       "      <td>0</td>\n",
       "      <td>1</td>\n",
       "      <td>0</td>\n",
       "      <td>0</td>\n",
       "      <td>0</td>\n",
       "      <td>0</td>\n",
       "      <td>0</td>\n",
       "      <td>0</td>\n",
       "      <td>0</td>\n",
       "      <td>0</td>\n",
       "      <td>0</td>\n",
       "    </tr>\n",
       "    <tr>\n",
       "      <th>560622</th>\n",
       "      <td>0</td>\n",
       "      <td>0</td>\n",
       "      <td>1</td>\n",
       "      <td>0</td>\n",
       "      <td>0</td>\n",
       "      <td>0</td>\n",
       "      <td>0</td>\n",
       "      <td>0</td>\n",
       "      <td>0</td>\n",
       "      <td>0</td>\n",
       "      <td>0</td>\n",
       "      <td>0</td>\n",
       "    </tr>\n",
       "    <tr>\n",
       "      <th>560623</th>\n",
       "      <td>0</td>\n",
       "      <td>0</td>\n",
       "      <td>1</td>\n",
       "      <td>0</td>\n",
       "      <td>0</td>\n",
       "      <td>0</td>\n",
       "      <td>0</td>\n",
       "      <td>0</td>\n",
       "      <td>0</td>\n",
       "      <td>0</td>\n",
       "      <td>0</td>\n",
       "      <td>0</td>\n",
       "    </tr>\n",
       "    <tr>\n",
       "      <th>560624</th>\n",
       "      <td>0</td>\n",
       "      <td>0</td>\n",
       "      <td>1</td>\n",
       "      <td>0</td>\n",
       "      <td>0</td>\n",
       "      <td>0</td>\n",
       "      <td>0</td>\n",
       "      <td>0</td>\n",
       "      <td>0</td>\n",
       "      <td>0</td>\n",
       "      <td>0</td>\n",
       "      <td>0</td>\n",
       "    </tr>\n",
       "    <tr>\n",
       "      <th>560625</th>\n",
       "      <td>0</td>\n",
       "      <td>0</td>\n",
       "      <td>1</td>\n",
       "      <td>0</td>\n",
       "      <td>0</td>\n",
       "      <td>0</td>\n",
       "      <td>0</td>\n",
       "      <td>0</td>\n",
       "      <td>0</td>\n",
       "      <td>0</td>\n",
       "      <td>0</td>\n",
       "      <td>0</td>\n",
       "    </tr>\n",
       "  </tbody>\n",
       "</table>\n",
       "<p>560626 rows × 12 columns</p>\n",
       "</div>"
      ],
      "text/plain": [
       "        ASOCIACIï¿½N CIVIL  BACH ESTATAL DGE-CGE  BACHILLERATO AUTï¿½NOMO  \\\n",
       "0                        0                     0                        0   \n",
       "1                        0                     0                        0   \n",
       "2                        0                     0                        0   \n",
       "3                        0                     0                        0   \n",
       "4                        0                     0                        0   \n",
       "...                    ...                   ...                      ...   \n",
       "560621                   0                     0                        1   \n",
       "560622                   0                     0                        1   \n",
       "560623                   0                     0                        1   \n",
       "560624                   0                     0                        1   \n",
       "560625                   0                     0                        1   \n",
       "\n",
       "        BACHILLERATO INTERCULTURAL  CECYTE  COBACH  COLBACH/Otros federales  \\\n",
       "0                                0       0       0                        1   \n",
       "1                                0       0       0                        1   \n",
       "2                                0       0       0                        1   \n",
       "3                                0       0       0                        1   \n",
       "4                                0       0       0                        1   \n",
       "...                            ...     ...     ...                      ...   \n",
       "560621                           0       0       0                        0   \n",
       "560622                           0       0       0                        0   \n",
       "560623                           0       0       0                        0   \n",
       "560624                           0       0       0                        0   \n",
       "560625                           0       0       0                        0   \n",
       "\n",
       "        CONALEP  DGETI  OTRAS ESTATALES  OTRAS FEDERALES  TELEBACH/EMSAD  \n",
       "0             0      0                0                0               0  \n",
       "1             0      0                0                0               0  \n",
       "2             0      0                0                0               0  \n",
       "3             0      0                0                0               0  \n",
       "4             0      0                0                0               0  \n",
       "...         ...    ...              ...              ...             ...  \n",
       "560621        0      0                0                0               0  \n",
       "560622        0      0                0                0               0  \n",
       "560623        0      0                0                0               0  \n",
       "560624        0      0                0                0               0  \n",
       "560625        0      0                0                0               0  \n",
       "\n",
       "[560626 rows x 12 columns]"
      ]
     },
     "execution_count": 329,
     "metadata": {
      "tags": []
     },
     "output_type": "execute_result"
    }
   ],
   "source": [
    "pd.get_dummies(dataset_unido['subsist'], drop_first=False, dummy_na=False)"
   ]
  },
  {
   "cell_type": "code",
   "execution_count": null,
   "metadata": {
    "colab": {},
    "colab_type": "code",
    "id": "R8PnExy9UBow"
   },
   "outputs": [],
   "source": [
    "dummies = pd.get_dummies(dataset_unido['subsist'], drop_first=False, dummy_na=False, prefix= 'subsist', prefix_sep = '_')"
   ]
  },
  {
   "cell_type": "code",
   "execution_count": null,
   "metadata": {
    "colab": {},
    "colab_type": "code",
    "id": "yv4asOgIUBoy"
   },
   "outputs": [],
   "source": [
    "dataset_unido = dataset_unido.join(dummies, rsuffix='subsist')"
   ]
  },
  {
   "cell_type": "code",
   "execution_count": null,
   "metadata": {
    "colab": {},
    "colab_type": "code",
    "id": "bpkLspicUBo0",
    "outputId": "430327eb-8653-404c-e219-5d55186293b4"
   },
   "outputs": [
    {
     "data": {
      "text/plain": [
       "Index(['nofolio', 'genero', 'ent', 'cct', 'subsist', 'hlec', 'nvl_esp', 'hmat',\n",
       "       'nvl_mat', 'p1',\n",
       "       ...\n",
       "       'subsist_BACHILLERATO AUTï¿½NOMO', 'subsist_BACHILLERATO INTERCULTURAL',\n",
       "       'subsist_CECYTE', 'subsist_COBACH', 'subsist_COLBACH/Otros federales',\n",
       "       'subsist_CONALEP', 'subsist_DGETI', 'subsist_OTRAS ESTATALES',\n",
       "       'subsist_OTRAS FEDERALES', 'subsist_TELEBACH/EMSAD'],\n",
       "      dtype='object', length=188)"
      ]
     },
     "execution_count": 336,
     "metadata": {
      "tags": []
     },
     "output_type": "execute_result"
    }
   ],
   "source": [
    "dataset_unido.columns"
   ]
  },
  {
   "cell_type": "code",
   "execution_count": null,
   "metadata": {
    "colab": {},
    "colab_type": "code",
    "id": "Lrq4qZxZUBo1",
    "outputId": "a6937a1d-b44e-4684-eab3-211814a90b8e"
   },
   "outputs": [
    {
     "data": {
      "text/plain": [
       "['nofolio',\n",
       " 'genero',\n",
       " 'ent',\n",
       " 'cct',\n",
       " 'subsist',\n",
       " 'hlec',\n",
       " 'nvl_esp',\n",
       " 'hmat',\n",
       " 'nvl_mat',\n",
       " 'p1',\n",
       " 'p2',\n",
       " 'p3',\n",
       " 'p4',\n",
       " 'p5',\n",
       " 'p6',\n",
       " 'p7',\n",
       " 'p8',\n",
       " 'p9',\n",
       " 'p10',\n",
       " 'p11',\n",
       " 'p12',\n",
       " 'p13',\n",
       " 'p14',\n",
       " 'p15',\n",
       " 'p16',\n",
       " 'p17',\n",
       " 'p18',\n",
       " 'p19',\n",
       " 'p20',\n",
       " 'p21',\n",
       " 'p22',\n",
       " 'p23',\n",
       " 'p24',\n",
       " 'p25',\n",
       " 'p26',\n",
       " 'p27',\n",
       " 'p28',\n",
       " 'p29',\n",
       " 'p30',\n",
       " 'p31',\n",
       " 'p32',\n",
       " 'p33',\n",
       " 'p34',\n",
       " 'p35',\n",
       " 'p36',\n",
       " 'p37',\n",
       " 'p38',\n",
       " 'p39',\n",
       " 'p40',\n",
       " 'p41',\n",
       " 'p42',\n",
       " 'p43',\n",
       " 'p44',\n",
       " 'p45',\n",
       " 'p46',\n",
       " 'p47',\n",
       " 'p48',\n",
       " 'p49',\n",
       " 'p50',\n",
       " 'p51',\n",
       " 'p52',\n",
       " 'p53',\n",
       " 'p54',\n",
       " 'p55',\n",
       " 'p56',\n",
       " 'p57',\n",
       " 'p58',\n",
       " 'p59',\n",
       " 'p60',\n",
       " 'p61',\n",
       " 'p62',\n",
       " 'p63',\n",
       " 'p64',\n",
       " 'p65',\n",
       " 'p66',\n",
       " 'p67',\n",
       " 'p68',\n",
       " 'p69',\n",
       " 'p70',\n",
       " 'p71',\n",
       " 'p72',\n",
       " 'p73',\n",
       " 'p74',\n",
       " 'p75',\n",
       " 'p76',\n",
       " 'p77',\n",
       " 'p78',\n",
       " 'p79',\n",
       " 'p80',\n",
       " 'p81',\n",
       " 'p82',\n",
       " 'p83',\n",
       " 'p84',\n",
       " 'p85',\n",
       " 'p86',\n",
       " 'p87',\n",
       " 'p88',\n",
       " 'p89',\n",
       " 'p90',\n",
       " 'p91',\n",
       " 'p92',\n",
       " 'p93',\n",
       " 'p94',\n",
       " 'p95',\n",
       " 'p96',\n",
       " 'p97',\n",
       " 'p98',\n",
       " 'p99',\n",
       " 'p100',\n",
       " 'p101',\n",
       " 'p102',\n",
       " 'p103',\n",
       " 'p104',\n",
       " 'p105',\n",
       " 'p106',\n",
       " 'p107',\n",
       " 'p108',\n",
       " 'p109',\n",
       " 'p110',\n",
       " 'p111',\n",
       " 'p112',\n",
       " 'p113',\n",
       " 'p114',\n",
       " 'p115',\n",
       " 'p116',\n",
       " 'p117',\n",
       " 'p118',\n",
       " 'p119',\n",
       " 'p120',\n",
       " 'p121',\n",
       " 'p122',\n",
       " 'p123',\n",
       " 'p124',\n",
       " 'p125',\n",
       " 'p126',\n",
       " 'p127',\n",
       " 'p128',\n",
       " 'p129',\n",
       " 'p130',\n",
       " 'p131',\n",
       " 'p132',\n",
       " 'p133',\n",
       " 'p134',\n",
       " 'p135',\n",
       " 'p136',\n",
       " 'p137',\n",
       " 'p138',\n",
       " 'p139',\n",
       " 'p140',\n",
       " 'p141',\n",
       " 'p142',\n",
       " 'p143',\n",
       " 'p144',\n",
       " 'p145',\n",
       " 'p146',\n",
       " 'p147',\n",
       " 'p148',\n",
       " 'p149',\n",
       " 'p150',\n",
       " 'p151',\n",
       " 'p152',\n",
       " 'p153',\n",
       " 'p154',\n",
       " 'fac',\n",
       " 'ASOCIACIï¿½N CIVIL',\n",
       " 'BACH ESTATAL DGE-CGE',\n",
       " 'BACHILLERATO AUTï¿½NOMO',\n",
       " 'BACHILLERATO INTERCULTURAL',\n",
       " 'CECYTE',\n",
       " 'COBACH',\n",
       " 'COLBACH/Otros federales',\n",
       " 'CONALEP',\n",
       " 'DGETI',\n",
       " 'OTRAS ESTATALES',\n",
       " 'OTRAS FEDERALES',\n",
       " 'TELEBACH/EMSAD',\n",
       " 'subsist_ASOCIACIï¿½N CIVIL',\n",
       " 'subsist_BACH ESTATAL DGE-CGE',\n",
       " 'subsist_BACHILLERATO AUTï¿½NOMO',\n",
       " 'subsist_BACHILLERATO INTERCULTURAL',\n",
       " 'subsist_CECYTE',\n",
       " 'subsist_COBACH',\n",
       " 'subsist_COLBACH/Otros federales',\n",
       " 'subsist_CONALEP',\n",
       " 'subsist_DGETI',\n",
       " 'subsist_OTRAS ESTATALES',\n",
       " 'subsist_OTRAS FEDERALES',\n",
       " 'subsist_TELEBACH/EMSAD']"
      ]
     },
     "execution_count": 337,
     "metadata": {
      "tags": []
     },
     "output_type": "execute_result"
    }
   ],
   "source": [
    "list(dataset_unido.columns)"
   ]
  },
  {
   "cell_type": "code",
   "execution_count": null,
   "metadata": {
    "colab": {},
    "colab_type": "code",
    "id": "h-spsNUuUBo3"
   },
   "outputs": [],
   "source": []
  },
  {
   "cell_type": "code",
   "execution_count": null,
   "metadata": {
    "colab": {},
    "colab_type": "code",
    "id": "xS1Hy7P8UBo4"
   },
   "outputs": [],
   "source": [
    "def one_hot_encoding_1(df):\n",
    "    # 'nofolio', 'genero', 'ent', 'nom_ent', 'cct', 'modalidad', 'sost','subsist', 'hlec', 'nvl_esp\n",
    "    # p1, p3, p4, p5, p6,\n",
    "    # p9, p67, p69, p70,\n",
    "    # no binarias: p3, p4, p5, p9, p67, p70, p74, p138, p139,\n",
    "    # binarias: p1, p6, p69, p73, p75, p76, p77, p83, p84, p118, p132, p133, p134,\n",
    "    categorias_no_binarias = ['nom_ent', 'modalidad', 'sost', 'subsist', 'nvl_esp', 'nvl_mat', 'p3', 'p4', 'p5', 'p9',\n",
    "                              'p67', 'p70', 'p74', 'p138', 'p139']\n",
    "    categorias_binarias = ['p1', 'p6', 'p69', 'p73', 'p75', 'p76', 'p77', 'p83', 'p84', 'p118', 'p132', 'p133', 'p134']\n",
    "\n",
    "    for cat in categorias_no_binarias:\n",
    "        dummies = pd.get_dummies(df[str(cat)], drop_first=False, dummy_na=False, prefix=str(cat), prefix_sep='_')\n",
    "        df.drop(cat, axis=1, inplace=True)\n",
    "        df = df.join(dummies, rsuffix=str(cat))\n",
    "        #df = df.concat([df, cat], axis=1)\n",
    "\n",
    "    for cat in categorias_binarias:\n",
    "        dummies = pd.get_dummies(df[str(cat)], drop_first=False, dummy_na=False, prefix=str(cat), prefix_sep='_')\n",
    "        df.drop(cat, axis=1, inplace=True)\n",
    "        #df = df.concat([df, cat], axis=1)\n",
    "        df = df.join(dummies, rsuffix=str(cat))\n",
    "    # tabla_3 = tabla_3.join(df_1)\n",
    "    return df"
   ]
  },
  {
   "cell_type": "code",
   "execution_count": null,
   "metadata": {
    "colab": {},
    "colab_type": "code",
    "id": "f0bY8UqBUBo6",
    "outputId": "52668094-8358-4d5b-98ec-c328f43003b2"
   },
   "outputs": [
    {
     "ename": "KeyError",
     "evalue": "'nom_ent'",
     "output_type": "error",
     "traceback": [
      "\u001b[0;31m---------------------------------------------------------------------------\u001b[0m",
      "\u001b[0;31mKeyError\u001b[0m                                  Traceback (most recent call last)",
      "\u001b[0;32m~/.pyenv/versions/3.8.2/lib/python3.8/site-packages/pandas/core/indexes/base.py\u001b[0m in \u001b[0;36mget_loc\u001b[0;34m(self, key, method, tolerance)\u001b[0m\n\u001b[1;32m   2645\u001b[0m             \u001b[0;32mtry\u001b[0m\u001b[0;34m:\u001b[0m\u001b[0;34m\u001b[0m\u001b[0;34m\u001b[0m\u001b[0m\n\u001b[0;32m-> 2646\u001b[0;31m                 \u001b[0;32mreturn\u001b[0m \u001b[0mself\u001b[0m\u001b[0;34m.\u001b[0m\u001b[0m_engine\u001b[0m\u001b[0;34m.\u001b[0m\u001b[0mget_loc\u001b[0m\u001b[0;34m(\u001b[0m\u001b[0mkey\u001b[0m\u001b[0;34m)\u001b[0m\u001b[0;34m\u001b[0m\u001b[0;34m\u001b[0m\u001b[0m\n\u001b[0m\u001b[1;32m   2647\u001b[0m             \u001b[0;32mexcept\u001b[0m \u001b[0mKeyError\u001b[0m\u001b[0;34m:\u001b[0m\u001b[0;34m\u001b[0m\u001b[0;34m\u001b[0m\u001b[0m\n",
      "\u001b[0;32mpandas/_libs/index.pyx\u001b[0m in \u001b[0;36mpandas._libs.index.IndexEngine.get_loc\u001b[0;34m()\u001b[0m\n",
      "\u001b[0;32mpandas/_libs/index.pyx\u001b[0m in \u001b[0;36mpandas._libs.index.IndexEngine.get_loc\u001b[0;34m()\u001b[0m\n",
      "\u001b[0;32mpandas/_libs/hashtable_class_helper.pxi\u001b[0m in \u001b[0;36mpandas._libs.hashtable.PyObjectHashTable.get_item\u001b[0;34m()\u001b[0m\n",
      "\u001b[0;32mpandas/_libs/hashtable_class_helper.pxi\u001b[0m in \u001b[0;36mpandas._libs.hashtable.PyObjectHashTable.get_item\u001b[0;34m()\u001b[0m\n",
      "\u001b[0;31mKeyError\u001b[0m: 'nom_ent'",
      "\nDuring handling of the above exception, another exception occurred:\n",
      "\u001b[0;31mKeyError\u001b[0m                                  Traceback (most recent call last)",
      "\u001b[0;32m<ipython-input-352-a337c5852ab9>\u001b[0m in \u001b[0;36m<module>\u001b[0;34m\u001b[0m\n\u001b[0;32m----> 1\u001b[0;31m \u001b[0mdataset_unido\u001b[0m \u001b[0;34m=\u001b[0m \u001b[0mone_hot_encoding_1\u001b[0m\u001b[0;34m(\u001b[0m\u001b[0mdataset_unido\u001b[0m\u001b[0;34m)\u001b[0m\u001b[0;34m\u001b[0m\u001b[0;34m\u001b[0m\u001b[0m\n\u001b[0m",
      "\u001b[0;32m<ipython-input-351-942e90f9d1f8>\u001b[0m in \u001b[0;36mone_hot_encoding_1\u001b[0;34m(df)\u001b[0m\n\u001b[1;32m     10\u001b[0m \u001b[0;34m\u001b[0m\u001b[0m\n\u001b[1;32m     11\u001b[0m     \u001b[0;32mfor\u001b[0m \u001b[0mcat\u001b[0m \u001b[0;32min\u001b[0m \u001b[0mcategorias_no_binarias\u001b[0m\u001b[0;34m:\u001b[0m\u001b[0;34m\u001b[0m\u001b[0;34m\u001b[0m\u001b[0m\n\u001b[0;32m---> 12\u001b[0;31m         \u001b[0mdummies\u001b[0m \u001b[0;34m=\u001b[0m \u001b[0mpd\u001b[0m\u001b[0;34m.\u001b[0m\u001b[0mget_dummies\u001b[0m\u001b[0;34m(\u001b[0m\u001b[0mdf\u001b[0m\u001b[0;34m[\u001b[0m\u001b[0mstr\u001b[0m\u001b[0;34m(\u001b[0m\u001b[0mcat\u001b[0m\u001b[0;34m)\u001b[0m\u001b[0;34m]\u001b[0m\u001b[0;34m,\u001b[0m \u001b[0mdrop_first\u001b[0m\u001b[0;34m=\u001b[0m\u001b[0;32mFalse\u001b[0m\u001b[0;34m,\u001b[0m \u001b[0mdummy_na\u001b[0m\u001b[0;34m=\u001b[0m\u001b[0;32mFalse\u001b[0m\u001b[0;34m,\u001b[0m \u001b[0mprefix\u001b[0m\u001b[0;34m=\u001b[0m\u001b[0mstr\u001b[0m\u001b[0;34m(\u001b[0m\u001b[0mcat\u001b[0m\u001b[0;34m)\u001b[0m\u001b[0;34m,\u001b[0m \u001b[0mprefix_sep\u001b[0m\u001b[0;34m=\u001b[0m\u001b[0;34m'_'\u001b[0m\u001b[0;34m)\u001b[0m\u001b[0;34m\u001b[0m\u001b[0;34m\u001b[0m\u001b[0m\n\u001b[0m\u001b[1;32m     13\u001b[0m         \u001b[0mdf\u001b[0m\u001b[0;34m.\u001b[0m\u001b[0mdrop\u001b[0m\u001b[0;34m(\u001b[0m\u001b[0mcat\u001b[0m\u001b[0;34m,\u001b[0m \u001b[0maxis\u001b[0m\u001b[0;34m=\u001b[0m\u001b[0;36m1\u001b[0m\u001b[0;34m,\u001b[0m \u001b[0minplace\u001b[0m\u001b[0;34m=\u001b[0m\u001b[0;32mTrue\u001b[0m\u001b[0;34m)\u001b[0m\u001b[0;34m\u001b[0m\u001b[0;34m\u001b[0m\u001b[0m\n\u001b[1;32m     14\u001b[0m         \u001b[0mdf\u001b[0m \u001b[0;34m=\u001b[0m \u001b[0mdf\u001b[0m\u001b[0;34m.\u001b[0m\u001b[0mjoin\u001b[0m\u001b[0;34m(\u001b[0m\u001b[0mdummies\u001b[0m\u001b[0;34m,\u001b[0m \u001b[0mrsuffix\u001b[0m\u001b[0;34m=\u001b[0m\u001b[0mstr\u001b[0m\u001b[0;34m(\u001b[0m\u001b[0mcat\u001b[0m\u001b[0;34m)\u001b[0m\u001b[0;34m)\u001b[0m\u001b[0;34m\u001b[0m\u001b[0;34m\u001b[0m\u001b[0m\n",
      "\u001b[0;32m~/.pyenv/versions/3.8.2/lib/python3.8/site-packages/pandas/core/frame.py\u001b[0m in \u001b[0;36m__getitem__\u001b[0;34m(self, key)\u001b[0m\n\u001b[1;32m   2798\u001b[0m             \u001b[0;32mif\u001b[0m \u001b[0mself\u001b[0m\u001b[0;34m.\u001b[0m\u001b[0mcolumns\u001b[0m\u001b[0;34m.\u001b[0m\u001b[0mnlevels\u001b[0m \u001b[0;34m>\u001b[0m \u001b[0;36m1\u001b[0m\u001b[0;34m:\u001b[0m\u001b[0;34m\u001b[0m\u001b[0;34m\u001b[0m\u001b[0m\n\u001b[1;32m   2799\u001b[0m                 \u001b[0;32mreturn\u001b[0m \u001b[0mself\u001b[0m\u001b[0;34m.\u001b[0m\u001b[0m_getitem_multilevel\u001b[0m\u001b[0;34m(\u001b[0m\u001b[0mkey\u001b[0m\u001b[0;34m)\u001b[0m\u001b[0;34m\u001b[0m\u001b[0;34m\u001b[0m\u001b[0m\n\u001b[0;32m-> 2800\u001b[0;31m             \u001b[0mindexer\u001b[0m \u001b[0;34m=\u001b[0m \u001b[0mself\u001b[0m\u001b[0;34m.\u001b[0m\u001b[0mcolumns\u001b[0m\u001b[0;34m.\u001b[0m\u001b[0mget_loc\u001b[0m\u001b[0;34m(\u001b[0m\u001b[0mkey\u001b[0m\u001b[0;34m)\u001b[0m\u001b[0;34m\u001b[0m\u001b[0;34m\u001b[0m\u001b[0m\n\u001b[0m\u001b[1;32m   2801\u001b[0m             \u001b[0;32mif\u001b[0m \u001b[0mis_integer\u001b[0m\u001b[0;34m(\u001b[0m\u001b[0mindexer\u001b[0m\u001b[0;34m)\u001b[0m\u001b[0;34m:\u001b[0m\u001b[0;34m\u001b[0m\u001b[0;34m\u001b[0m\u001b[0m\n\u001b[1;32m   2802\u001b[0m                 \u001b[0mindexer\u001b[0m \u001b[0;34m=\u001b[0m \u001b[0;34m[\u001b[0m\u001b[0mindexer\u001b[0m\u001b[0;34m]\u001b[0m\u001b[0;34m\u001b[0m\u001b[0;34m\u001b[0m\u001b[0m\n",
      "\u001b[0;32m~/.pyenv/versions/3.8.2/lib/python3.8/site-packages/pandas/core/indexes/base.py\u001b[0m in \u001b[0;36mget_loc\u001b[0;34m(self, key, method, tolerance)\u001b[0m\n\u001b[1;32m   2646\u001b[0m                 \u001b[0;32mreturn\u001b[0m \u001b[0mself\u001b[0m\u001b[0;34m.\u001b[0m\u001b[0m_engine\u001b[0m\u001b[0;34m.\u001b[0m\u001b[0mget_loc\u001b[0m\u001b[0;34m(\u001b[0m\u001b[0mkey\u001b[0m\u001b[0;34m)\u001b[0m\u001b[0;34m\u001b[0m\u001b[0;34m\u001b[0m\u001b[0m\n\u001b[1;32m   2647\u001b[0m             \u001b[0;32mexcept\u001b[0m \u001b[0mKeyError\u001b[0m\u001b[0;34m:\u001b[0m\u001b[0;34m\u001b[0m\u001b[0;34m\u001b[0m\u001b[0m\n\u001b[0;32m-> 2648\u001b[0;31m                 \u001b[0;32mreturn\u001b[0m \u001b[0mself\u001b[0m\u001b[0;34m.\u001b[0m\u001b[0m_engine\u001b[0m\u001b[0;34m.\u001b[0m\u001b[0mget_loc\u001b[0m\u001b[0;34m(\u001b[0m\u001b[0mself\u001b[0m\u001b[0;34m.\u001b[0m\u001b[0m_maybe_cast_indexer\u001b[0m\u001b[0;34m(\u001b[0m\u001b[0mkey\u001b[0m\u001b[0;34m)\u001b[0m\u001b[0;34m)\u001b[0m\u001b[0;34m\u001b[0m\u001b[0;34m\u001b[0m\u001b[0m\n\u001b[0m\u001b[1;32m   2649\u001b[0m         \u001b[0mindexer\u001b[0m \u001b[0;34m=\u001b[0m \u001b[0mself\u001b[0m\u001b[0;34m.\u001b[0m\u001b[0mget_indexer\u001b[0m\u001b[0;34m(\u001b[0m\u001b[0;34m[\u001b[0m\u001b[0mkey\u001b[0m\u001b[0;34m]\u001b[0m\u001b[0;34m,\u001b[0m \u001b[0mmethod\u001b[0m\u001b[0;34m=\u001b[0m\u001b[0mmethod\u001b[0m\u001b[0;34m,\u001b[0m \u001b[0mtolerance\u001b[0m\u001b[0;34m=\u001b[0m\u001b[0mtolerance\u001b[0m\u001b[0;34m)\u001b[0m\u001b[0;34m\u001b[0m\u001b[0;34m\u001b[0m\u001b[0m\n\u001b[1;32m   2650\u001b[0m         \u001b[0;32mif\u001b[0m \u001b[0mindexer\u001b[0m\u001b[0;34m.\u001b[0m\u001b[0mndim\u001b[0m \u001b[0;34m>\u001b[0m \u001b[0;36m1\u001b[0m \u001b[0;32mor\u001b[0m \u001b[0mindexer\u001b[0m\u001b[0;34m.\u001b[0m\u001b[0msize\u001b[0m \u001b[0;34m>\u001b[0m \u001b[0;36m1\u001b[0m\u001b[0;34m:\u001b[0m\u001b[0;34m\u001b[0m\u001b[0;34m\u001b[0m\u001b[0m\n",
      "\u001b[0;32mpandas/_libs/index.pyx\u001b[0m in \u001b[0;36mpandas._libs.index.IndexEngine.get_loc\u001b[0;34m()\u001b[0m\n",
      "\u001b[0;32mpandas/_libs/index.pyx\u001b[0m in \u001b[0;36mpandas._libs.index.IndexEngine.get_loc\u001b[0;34m()\u001b[0m\n",
      "\u001b[0;32mpandas/_libs/hashtable_class_helper.pxi\u001b[0m in \u001b[0;36mpandas._libs.hashtable.PyObjectHashTable.get_item\u001b[0;34m()\u001b[0m\n",
      "\u001b[0;32mpandas/_libs/hashtable_class_helper.pxi\u001b[0m in \u001b[0;36mpandas._libs.hashtable.PyObjectHashTable.get_item\u001b[0;34m()\u001b[0m\n",
      "\u001b[0;31mKeyError\u001b[0m: 'nom_ent'"
     ]
    }
   ],
   "source": [
    "dataset_unido = one_hot_encoding_1(dataset_unido)"
   ]
  },
  {
   "cell_type": "code",
   "execution_count": null,
   "metadata": {
    "colab": {},
    "colab_type": "code",
    "id": "-pmRbHrtUBo8",
    "outputId": "ea85212a-f0cb-4fd0-e524-e3fc68abf492"
   },
   "outputs": [
    {
     "ename": "KeyError",
     "evalue": "\"['modalidad', 'nom_ent', 'sost'] not in index\"",
     "output_type": "error",
     "traceback": [
      "\u001b[0;31m---------------------------------------------------------------------------\u001b[0m",
      "\u001b[0;31mKeyError\u001b[0m                                  Traceback (most recent call last)",
      "\u001b[0;32m<ipython-input-354-58e96538d423>\u001b[0m in \u001b[0;36m<module>\u001b[0;34m\u001b[0m\n\u001b[1;32m      1\u001b[0m categorias_no_binarias = ['nom_ent', 'modalidad', 'sost', 'subsist', 'nvl_esp', 'nvl_mat', 'p3', 'p4', 'p5', 'p9',\n\u001b[1;32m      2\u001b[0m                               'p67', 'p70', 'p74', 'p138', 'p139']\n\u001b[0;32m----> 3\u001b[0;31m \u001b[0mdummies\u001b[0m \u001b[0;34m=\u001b[0m \u001b[0mpd\u001b[0m\u001b[0;34m.\u001b[0m\u001b[0mget_dummies\u001b[0m\u001b[0;34m(\u001b[0m\u001b[0mdataset_unido\u001b[0m\u001b[0;34m,\u001b[0m \u001b[0mdrop_first\u001b[0m\u001b[0;34m=\u001b[0m\u001b[0;32mFalse\u001b[0m\u001b[0;34m,\u001b[0m \u001b[0mdummy_na\u001b[0m\u001b[0;34m=\u001b[0m\u001b[0;32mFalse\u001b[0m\u001b[0;34m,\u001b[0m \u001b[0mprefix_sep\u001b[0m\u001b[0;34m=\u001b[0m\u001b[0;34m'_'\u001b[0m\u001b[0;34m,\u001b[0m \u001b[0mcolumns\u001b[0m\u001b[0;34m=\u001b[0m \u001b[0mcategorias_no_binarias\u001b[0m\u001b[0;34m)\u001b[0m\u001b[0;34m\u001b[0m\u001b[0;34m\u001b[0m\u001b[0m\n\u001b[0m",
      "\u001b[0;32m~/.pyenv/versions/3.8.2/lib/python3.8/site-packages/pandas/core/reshape/reshape.py\u001b[0m in \u001b[0;36mget_dummies\u001b[0;34m(data, prefix, prefix_sep, dummy_na, columns, sparse, drop_first, dtype)\u001b[0m\n\u001b[1;32m    866\u001b[0m             \u001b[0;32mraise\u001b[0m \u001b[0mTypeError\u001b[0m\u001b[0;34m(\u001b[0m\u001b[0;34m\"Input must be a list-like for parameter `columns`\"\u001b[0m\u001b[0;34m)\u001b[0m\u001b[0;34m\u001b[0m\u001b[0;34m\u001b[0m\u001b[0m\n\u001b[1;32m    867\u001b[0m         \u001b[0;32melse\u001b[0m\u001b[0;34m:\u001b[0m\u001b[0;34m\u001b[0m\u001b[0;34m\u001b[0m\u001b[0m\n\u001b[0;32m--> 868\u001b[0;31m             \u001b[0mdata_to_encode\u001b[0m \u001b[0;34m=\u001b[0m \u001b[0mdata\u001b[0m\u001b[0;34m[\u001b[0m\u001b[0mcolumns\u001b[0m\u001b[0;34m]\u001b[0m\u001b[0;34m\u001b[0m\u001b[0;34m\u001b[0m\u001b[0m\n\u001b[0m\u001b[1;32m    869\u001b[0m \u001b[0;34m\u001b[0m\u001b[0m\n\u001b[1;32m    870\u001b[0m         \u001b[0;31m# validate prefixes and separator to avoid silently dropping cols\u001b[0m\u001b[0;34m\u001b[0m\u001b[0;34m\u001b[0m\u001b[0;34m\u001b[0m\u001b[0m\n",
      "\u001b[0;32m~/.pyenv/versions/3.8.2/lib/python3.8/site-packages/pandas/core/frame.py\u001b[0m in \u001b[0;36m__getitem__\u001b[0;34m(self, key)\u001b[0m\n\u001b[1;32m   2804\u001b[0m             \u001b[0;32mif\u001b[0m \u001b[0mis_iterator\u001b[0m\u001b[0;34m(\u001b[0m\u001b[0mkey\u001b[0m\u001b[0;34m)\u001b[0m\u001b[0;34m:\u001b[0m\u001b[0;34m\u001b[0m\u001b[0;34m\u001b[0m\u001b[0m\n\u001b[1;32m   2805\u001b[0m                 \u001b[0mkey\u001b[0m \u001b[0;34m=\u001b[0m \u001b[0mlist\u001b[0m\u001b[0;34m(\u001b[0m\u001b[0mkey\u001b[0m\u001b[0;34m)\u001b[0m\u001b[0;34m\u001b[0m\u001b[0;34m\u001b[0m\u001b[0m\n\u001b[0;32m-> 2806\u001b[0;31m             \u001b[0mindexer\u001b[0m \u001b[0;34m=\u001b[0m \u001b[0mself\u001b[0m\u001b[0;34m.\u001b[0m\u001b[0mloc\u001b[0m\u001b[0;34m.\u001b[0m\u001b[0m_get_listlike_indexer\u001b[0m\u001b[0;34m(\u001b[0m\u001b[0mkey\u001b[0m\u001b[0;34m,\u001b[0m \u001b[0maxis\u001b[0m\u001b[0;34m=\u001b[0m\u001b[0;36m1\u001b[0m\u001b[0;34m,\u001b[0m \u001b[0mraise_missing\u001b[0m\u001b[0;34m=\u001b[0m\u001b[0;32mTrue\u001b[0m\u001b[0;34m)\u001b[0m\u001b[0;34m[\u001b[0m\u001b[0;36m1\u001b[0m\u001b[0;34m]\u001b[0m\u001b[0;34m\u001b[0m\u001b[0;34m\u001b[0m\u001b[0m\n\u001b[0m\u001b[1;32m   2807\u001b[0m \u001b[0;34m\u001b[0m\u001b[0m\n\u001b[1;32m   2808\u001b[0m         \u001b[0;31m# take() does not accept boolean indexers\u001b[0m\u001b[0;34m\u001b[0m\u001b[0;34m\u001b[0m\u001b[0;34m\u001b[0m\u001b[0m\n",
      "\u001b[0;32m~/.pyenv/versions/3.8.2/lib/python3.8/site-packages/pandas/core/indexing.py\u001b[0m in \u001b[0;36m_get_listlike_indexer\u001b[0;34m(self, key, axis, raise_missing)\u001b[0m\n\u001b[1;32m   1550\u001b[0m             \u001b[0mkeyarr\u001b[0m\u001b[0;34m,\u001b[0m \u001b[0mindexer\u001b[0m\u001b[0;34m,\u001b[0m \u001b[0mnew_indexer\u001b[0m \u001b[0;34m=\u001b[0m \u001b[0max\u001b[0m\u001b[0;34m.\u001b[0m\u001b[0m_reindex_non_unique\u001b[0m\u001b[0;34m(\u001b[0m\u001b[0mkeyarr\u001b[0m\u001b[0;34m)\u001b[0m\u001b[0;34m\u001b[0m\u001b[0;34m\u001b[0m\u001b[0m\n\u001b[1;32m   1551\u001b[0m \u001b[0;34m\u001b[0m\u001b[0m\n\u001b[0;32m-> 1552\u001b[0;31m         self._validate_read_indexer(\n\u001b[0m\u001b[1;32m   1553\u001b[0m             \u001b[0mkeyarr\u001b[0m\u001b[0;34m,\u001b[0m \u001b[0mindexer\u001b[0m\u001b[0;34m,\u001b[0m \u001b[0mo\u001b[0m\u001b[0;34m.\u001b[0m\u001b[0m_get_axis_number\u001b[0m\u001b[0;34m(\u001b[0m\u001b[0maxis\u001b[0m\u001b[0;34m)\u001b[0m\u001b[0;34m,\u001b[0m \u001b[0mraise_missing\u001b[0m\u001b[0;34m=\u001b[0m\u001b[0mraise_missing\u001b[0m\u001b[0;34m\u001b[0m\u001b[0;34m\u001b[0m\u001b[0m\n\u001b[1;32m   1554\u001b[0m         )\n",
      "\u001b[0;32m~/.pyenv/versions/3.8.2/lib/python3.8/site-packages/pandas/core/indexing.py\u001b[0m in \u001b[0;36m_validate_read_indexer\u001b[0;34m(self, key, indexer, axis, raise_missing)\u001b[0m\n\u001b[1;32m   1644\u001b[0m             \u001b[0;32mif\u001b[0m \u001b[0;32mnot\u001b[0m \u001b[0;34m(\u001b[0m\u001b[0mself\u001b[0m\u001b[0;34m.\u001b[0m\u001b[0mname\u001b[0m \u001b[0;34m==\u001b[0m \u001b[0;34m\"loc\"\u001b[0m \u001b[0;32mand\u001b[0m \u001b[0;32mnot\u001b[0m \u001b[0mraise_missing\u001b[0m\u001b[0;34m)\u001b[0m\u001b[0;34m:\u001b[0m\u001b[0;34m\u001b[0m\u001b[0;34m\u001b[0m\u001b[0m\n\u001b[1;32m   1645\u001b[0m                 \u001b[0mnot_found\u001b[0m \u001b[0;34m=\u001b[0m \u001b[0mlist\u001b[0m\u001b[0;34m(\u001b[0m\u001b[0mset\u001b[0m\u001b[0;34m(\u001b[0m\u001b[0mkey\u001b[0m\u001b[0;34m)\u001b[0m \u001b[0;34m-\u001b[0m \u001b[0mset\u001b[0m\u001b[0;34m(\u001b[0m\u001b[0max\u001b[0m\u001b[0;34m)\u001b[0m\u001b[0;34m)\u001b[0m\u001b[0;34m\u001b[0m\u001b[0;34m\u001b[0m\u001b[0m\n\u001b[0;32m-> 1646\u001b[0;31m                 \u001b[0;32mraise\u001b[0m \u001b[0mKeyError\u001b[0m\u001b[0;34m(\u001b[0m\u001b[0;34mf\"{not_found} not in index\"\u001b[0m\u001b[0;34m)\u001b[0m\u001b[0;34m\u001b[0m\u001b[0;34m\u001b[0m\u001b[0m\n\u001b[0m\u001b[1;32m   1647\u001b[0m \u001b[0;34m\u001b[0m\u001b[0m\n\u001b[1;32m   1648\u001b[0m             \u001b[0;31m# we skip the warning on Categorical/Interval\u001b[0m\u001b[0;34m\u001b[0m\u001b[0;34m\u001b[0m\u001b[0;34m\u001b[0m\u001b[0m\n",
      "\u001b[0;31mKeyError\u001b[0m: \"['modalidad', 'nom_ent', 'sost'] not in index\""
     ]
    }
   ],
   "source": [
    "categorias_no_binarias = ['nom_ent', 'modalidad', 'sost', 'subsist', 'nvl_esp', 'nvl_mat', 'p3', 'p4', 'p5', 'p9',\n",
    "                              'p67', 'p70', 'p74', 'p138', 'p139']\n",
    "dummies = pd.get_dummies(dataset_unido, drop_first=False, dummy_na=False, prefix_sep='_', columns= categorias_no_binarias)"
   ]
  },
  {
   "cell_type": "code",
   "execution_count": null,
   "metadata": {
    "colab": {},
    "colab_type": "code",
    "id": "0UMWFjLnUBo-"
   },
   "outputs": [],
   "source": []
  }
 ],
 "metadata": {
  "colab": {
   "collapsed_sections": [
    "fZW5CnRwUBb4"
   ],
   "name": "Feature_Engineering.ipynb",
   "provenance": [],
   "toc_visible": true
  },
  "kernelspec": {
   "display_name": "Python 3",
   "language": "python",
   "name": "python3"
  },
  "language_info": {
   "codemirror_mode": {
    "name": "ipython",
    "version": 3
   },
   "file_extension": ".py",
   "mimetype": "text/x-python",
   "name": "python",
   "nbconvert_exporter": "python",
   "pygments_lexer": "ipython3",
   "version": "3.8.2"
  }
 },
 "nbformat": 4,
 "nbformat_minor": 4
}
