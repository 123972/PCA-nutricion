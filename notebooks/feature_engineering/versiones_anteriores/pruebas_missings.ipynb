{
 "cells": [
  {
   "cell_type": "code",
   "execution_count": 1,
   "metadata": {},
   "outputs": [],
   "source": [
    "import sys\n",
    "sys.path.append('./../../')\n",
    "\n",
    "# OPTIONAL: Load the \"autoreload\" extension so that code can change\n",
    "%load_ext autoreload\n",
    "\n",
    "#Own Library modules\n",
    "import src\n",
    "# OPTIONAL: always reload modules so that as you change code in src, it gets loaded\n",
    "%autoreload 2\n",
    "\n",
    "from src.feature_engineering import clean_functions as cf"
   ]
  },
  {
   "cell_type": "code",
   "execution_count": 3,
   "metadata": {},
   "outputs": [
    {
     "name": "stdout",
     "output_type": "stream",
     "text": [
      "\t-> Importando los datos\n",
      "\t-> Limpiamos los nombres de las columnas\n",
      "\t-> Unimos los datasets\n",
      "\t-> Limpiamos los errores en los datos del cuestionario\n",
      "\t-> Limpiamos los datos de entidad sostenimiento y subsistema \n",
      "\t-> Agrupamos la variable de subsistema\n",
      "\t-> Creamos variables categóricas no binarias\n",
      "\t-> Convertimos las respuestas del cuestionario de string a numéricas\n",
      "\t-> Recodificamos variables categóricas binarias\n"
     ]
    }
   ],
   "source": [
    "#Corriendo el script que limpia los datos\n",
    "datos_limpios = cf.prepara_datos()"
   ]
  },
  {
   "cell_type": "code",
   "execution_count": 4,
   "metadata": {},
   "outputs": [
    {
     "data": {
      "text/html": [
       "<div>\n",
       "<style scoped>\n",
       "    .dataframe tbody tr th:only-of-type {\n",
       "        vertical-align: middle;\n",
       "    }\n",
       "\n",
       "    .dataframe tbody tr th {\n",
       "        vertical-align: top;\n",
       "    }\n",
       "\n",
       "    .dataframe thead th {\n",
       "        text-align: right;\n",
       "    }\n",
       "</style>\n",
       "<table border=\"1\" class=\"dataframe\">\n",
       "  <thead>\n",
       "    <tr style=\"text-align: right;\">\n",
       "      <th></th>\n",
       "      <th>nofolio</th>\n",
       "      <th>genero</th>\n",
       "      <th>ent</th>\n",
       "      <th>nom_ent</th>\n",
       "      <th>cct</th>\n",
       "      <th>modalidad</th>\n",
       "      <th>sost</th>\n",
       "      <th>subsist</th>\n",
       "      <th>hlec</th>\n",
       "      <th>nvl_esp</th>\n",
       "      <th>...</th>\n",
       "      <th>p138_E</th>\n",
       "      <th>p138_F</th>\n",
       "      <th>p138_G</th>\n",
       "      <th>p139_A</th>\n",
       "      <th>p139_B</th>\n",
       "      <th>p139_C</th>\n",
       "      <th>p139_D</th>\n",
       "      <th>p139_E</th>\n",
       "      <th>p139_F</th>\n",
       "      <th>p139_G</th>\n",
       "    </tr>\n",
       "  </thead>\n",
       "  <tbody>\n",
       "    <tr>\n",
       "      <th>0</th>\n",
       "      <td>010000023B16</td>\n",
       "      <td>M</td>\n",
       "      <td>1</td>\n",
       "      <td>aguascalientes</td>\n",
       "      <td>01DBH0004I</td>\n",
       "      <td>bachillerato_general</td>\n",
       "      <td>federal</td>\n",
       "      <td>colbach/otros_federales</td>\n",
       "      <td>-0.76369</td>\n",
       "      <td>I</td>\n",
       "      <td>...</td>\n",
       "      <td>0</td>\n",
       "      <td>0</td>\n",
       "      <td>0</td>\n",
       "      <td>0</td>\n",
       "      <td>0</td>\n",
       "      <td>1</td>\n",
       "      <td>0</td>\n",
       "      <td>0</td>\n",
       "      <td>0</td>\n",
       "      <td>0</td>\n",
       "    </tr>\n",
       "    <tr>\n",
       "      <th>1</th>\n",
       "      <td>010000037B16</td>\n",
       "      <td>H</td>\n",
       "      <td>1</td>\n",
       "      <td>aguascalientes</td>\n",
       "      <td>01DBH0004I</td>\n",
       "      <td>bachillerato_general</td>\n",
       "      <td>federal</td>\n",
       "      <td>colbach/otros_federales</td>\n",
       "      <td>0.97389</td>\n",
       "      <td>III</td>\n",
       "      <td>...</td>\n",
       "      <td>0</td>\n",
       "      <td>0</td>\n",
       "      <td>1</td>\n",
       "      <td>0</td>\n",
       "      <td>0</td>\n",
       "      <td>0</td>\n",
       "      <td>1</td>\n",
       "      <td>0</td>\n",
       "      <td>0</td>\n",
       "      <td>0</td>\n",
       "    </tr>\n",
       "    <tr>\n",
       "      <th>2</th>\n",
       "      <td>010000008B16</td>\n",
       "      <td>M</td>\n",
       "      <td>1</td>\n",
       "      <td>aguascalientes</td>\n",
       "      <td>01DBH0004I</td>\n",
       "      <td>bachillerato_general</td>\n",
       "      <td>federal</td>\n",
       "      <td>colbach/otros_federales</td>\n",
       "      <td>0.26655</td>\n",
       "      <td>II</td>\n",
       "      <td>...</td>\n",
       "      <td>0</td>\n",
       "      <td>0</td>\n",
       "      <td>0</td>\n",
       "      <td>0</td>\n",
       "      <td>0</td>\n",
       "      <td>0</td>\n",
       "      <td>1</td>\n",
       "      <td>0</td>\n",
       "      <td>0</td>\n",
       "      <td>0</td>\n",
       "    </tr>\n",
       "    <tr>\n",
       "      <th>3</th>\n",
       "      <td>010000035B16</td>\n",
       "      <td>H</td>\n",
       "      <td>1</td>\n",
       "      <td>aguascalientes</td>\n",
       "      <td>01DBH0004I</td>\n",
       "      <td>bachillerato_general</td>\n",
       "      <td>federal</td>\n",
       "      <td>colbach/otros_federales</td>\n",
       "      <td>0.36393</td>\n",
       "      <td>II</td>\n",
       "      <td>...</td>\n",
       "      <td>1</td>\n",
       "      <td>0</td>\n",
       "      <td>0</td>\n",
       "      <td>0</td>\n",
       "      <td>0</td>\n",
       "      <td>0</td>\n",
       "      <td>1</td>\n",
       "      <td>0</td>\n",
       "      <td>0</td>\n",
       "      <td>0</td>\n",
       "    </tr>\n",
       "    <tr>\n",
       "      <th>4</th>\n",
       "      <td>010000032B16</td>\n",
       "      <td>H</td>\n",
       "      <td>1</td>\n",
       "      <td>aguascalientes</td>\n",
       "      <td>01DBH0004I</td>\n",
       "      <td>bachillerato_general</td>\n",
       "      <td>federal</td>\n",
       "      <td>colbach/otros_federales</td>\n",
       "      <td>0.97389</td>\n",
       "      <td>III</td>\n",
       "      <td>...</td>\n",
       "      <td>0</td>\n",
       "      <td>0</td>\n",
       "      <td>0</td>\n",
       "      <td>0</td>\n",
       "      <td>0</td>\n",
       "      <td>1</td>\n",
       "      <td>0</td>\n",
       "      <td>0</td>\n",
       "      <td>0</td>\n",
       "      <td>0</td>\n",
       "    </tr>\n",
       "  </tbody>\n",
       "</table>\n",
       "<p>5 rows × 273 columns</p>\n",
       "</div>"
      ],
      "text/plain": [
       "        nofolio genero  ent         nom_ent         cct             modalidad  \\\n",
       "0  010000023B16      M    1  aguascalientes  01DBH0004I  bachillerato_general   \n",
       "1  010000037B16      H    1  aguascalientes  01DBH0004I  bachillerato_general   \n",
       "2  010000008B16      M    1  aguascalientes  01DBH0004I  bachillerato_general   \n",
       "3  010000035B16      H    1  aguascalientes  01DBH0004I  bachillerato_general   \n",
       "4  010000032B16      H    1  aguascalientes  01DBH0004I  bachillerato_general   \n",
       "\n",
       "      sost                  subsist     hlec nvl_esp  ...  p138_E p138_F  \\\n",
       "0  federal  colbach/otros_federales -0.76369       I  ...       0      0   \n",
       "1  federal  colbach/otros_federales  0.97389     III  ...       0      0   \n",
       "2  federal  colbach/otros_federales  0.26655      II  ...       0      0   \n",
       "3  federal  colbach/otros_federales  0.36393      II  ...       1      0   \n",
       "4  federal  colbach/otros_federales  0.97389     III  ...       0      0   \n",
       "\n",
       "   p138_G  p139_A  p139_B  p139_C  p139_D  p139_E  p139_F  p139_G  \n",
       "0       0       0       0       1       0       0       0       0  \n",
       "1       1       0       0       0       1       0       0       0  \n",
       "2       0       0       0       0       1       0       0       0  \n",
       "3       0       0       0       0       1       0       0       0  \n",
       "4       0       0       0       1       0       0       0       0  \n",
       "\n",
       "[5 rows x 273 columns]"
      ]
     },
     "execution_count": 4,
     "metadata": {},
     "output_type": "execute_result"
    }
   ],
   "source": [
    "datos_limpios.head()"
   ]
  },
  {
   "cell_type": "code",
   "execution_count": 5,
   "metadata": {},
   "outputs": [
    {
     "data": {
      "text/plain": [
       "['aguascalientes',\n",
       " 'baja_california',\n",
       " 'baja_california_sur',\n",
       " 'campeche',\n",
       " 'coahuila',\n",
       " 'colima',\n",
       " 'chiapas',\n",
       " 'chihuahua',\n",
       " 'distrito_federal',\n",
       " 'durango',\n",
       " 'guanajuato',\n",
       " 'guerrero',\n",
       " 'hidalgo',\n",
       " 'jalisco',\n",
       " 'estado_de_mexico',\n",
       " 'michoacan',\n",
       " 'morelos',\n",
       " 'nayarit',\n",
       " 'nuevo_leon',\n",
       " 'oaxaca',\n",
       " 'puebla',\n",
       " 'queretaro',\n",
       " 'quintana_roo',\n",
       " 'san_luis_potosi',\n",
       " 'sinaloa',\n",
       " 'sonora',\n",
       " 'tabasco',\n",
       " 'tamaulipas',\n",
       " 'tlaxcala',\n",
       " 'veracruz',\n",
       " 'yucatan',\n",
       " 'zacatecas']"
      ]
     },
     "execution_count": 5,
     "metadata": {},
     "output_type": "execute_result"
    }
   ],
   "source": [
    "datos_limpios['nom_ent'].unique().tolist()"
   ]
  },
  {
   "cell_type": "code",
   "execution_count": 6,
   "metadata": {},
   "outputs": [
    {
     "name": "stdout",
     "output_type": "stream",
     "text": [
      "El dataframe tiene 273 columnas.\n",
      "Hay 153 columnas que tienen NA's.\n"
     ]
    },
    {
     "data": {
      "text/html": [
       "<div>\n",
       "<style scoped>\n",
       "    .dataframe tbody tr th:only-of-type {\n",
       "        vertical-align: middle;\n",
       "    }\n",
       "\n",
       "    .dataframe tbody tr th {\n",
       "        vertical-align: top;\n",
       "    }\n",
       "\n",
       "    .dataframe thead th {\n",
       "        text-align: right;\n",
       "    }\n",
       "</style>\n",
       "<table border=\"1\" class=\"dataframe\">\n",
       "  <thead>\n",
       "    <tr style=\"text-align: right;\">\n",
       "      <th></th>\n",
       "      <th>Missing Values</th>\n",
       "      <th>% del Total</th>\n",
       "    </tr>\n",
       "  </thead>\n",
       "  <tbody>\n",
       "    <tr>\n",
       "      <th>p134</th>\n",
       "      <td>21246</td>\n",
       "      <td>3.8</td>\n",
       "    </tr>\n",
       "    <tr>\n",
       "      <th>p144</th>\n",
       "      <td>13825</td>\n",
       "      <td>2.5</td>\n",
       "    </tr>\n",
       "    <tr>\n",
       "      <th>p5</th>\n",
       "      <td>13160</td>\n",
       "      <td>2.3</td>\n",
       "    </tr>\n",
       "    <tr>\n",
       "      <th>p70</th>\n",
       "      <td>11252</td>\n",
       "      <td>2.0</td>\n",
       "    </tr>\n",
       "    <tr>\n",
       "      <th>p153</th>\n",
       "      <td>11244</td>\n",
       "      <td>2.0</td>\n",
       "    </tr>\n",
       "    <tr>\n",
       "      <th>...</th>\n",
       "      <td>...</td>\n",
       "      <td>...</td>\n",
       "    </tr>\n",
       "    <tr>\n",
       "      <th>p23</th>\n",
       "      <td>1020</td>\n",
       "      <td>0.2</td>\n",
       "    </tr>\n",
       "    <tr>\n",
       "      <th>p11</th>\n",
       "      <td>1007</td>\n",
       "      <td>0.2</td>\n",
       "    </tr>\n",
       "    <tr>\n",
       "      <th>p6</th>\n",
       "      <td>991</td>\n",
       "      <td>0.2</td>\n",
       "    </tr>\n",
       "    <tr>\n",
       "      <th>p10</th>\n",
       "      <td>922</td>\n",
       "      <td>0.2</td>\n",
       "    </tr>\n",
       "    <tr>\n",
       "      <th>p15</th>\n",
       "      <td>804</td>\n",
       "      <td>0.1</td>\n",
       "    </tr>\n",
       "  </tbody>\n",
       "</table>\n",
       "<p>153 rows × 2 columns</p>\n",
       "</div>"
      ],
      "text/plain": [
       "      Missing Values  % del Total\n",
       "p134           21246          3.8\n",
       "p144           13825          2.5\n",
       "p5             13160          2.3\n",
       "p70            11252          2.0\n",
       "p153           11244          2.0\n",
       "...              ...          ...\n",
       "p23             1020          0.2\n",
       "p11             1007          0.2\n",
       "p6               991          0.2\n",
       "p10              922          0.2\n",
       "p15              804          0.1\n",
       "\n",
       "[153 rows x 2 columns]"
      ]
     },
     "execution_count": 6,
     "metadata": {},
     "output_type": "execute_result"
    }
   ],
   "source": [
    "cf.cuenta_nulos_por_columnas(datos_limpios)"
   ]
  },
  {
   "cell_type": "code",
   "execution_count": null,
   "metadata": {},
   "outputs": [],
   "source": []
  },
  {
   "cell_type": "code",
   "execution_count": null,
   "metadata": {},
   "outputs": [],
   "source": [
    "#Corroborando que se recodificaron bien las variables categóricas binarias\n",
    "sorted(datos_limpios['p69'].unique().tolist())"
   ]
  },
  {
   "cell_type": "code",
   "execution_count": 7,
   "metadata": {},
   "outputs": [
    {
     "data": {
      "text/plain": [
       "0         0\n",
       "1         0\n",
       "2         0\n",
       "3         0\n",
       "4         0\n",
       "         ..\n",
       "560621    1\n",
       "560622    0\n",
       "560623    0\n",
       "560624    0\n",
       "560625    0\n",
       "Length: 560626, dtype: int64"
      ]
     },
     "execution_count": 7,
     "metadata": {},
     "output_type": "execute_result"
    }
   ],
   "source": [
    "datos_limpios.apply(lambda x: sum(x.isnull().values), axis = 1)"
   ]
  },
  {
   "cell_type": "code",
   "execution_count": 9,
   "metadata": {},
   "outputs": [
    {
     "data": {
      "text/plain": [
       "173580"
      ]
     },
     "execution_count": 9,
     "metadata": {},
     "output_type": "execute_result"
    }
   ],
   "source": [
    "sum(datos_limpios.apply(lambda x: sum(x.isnull().values), axis = 1)>0)"
   ]
  },
  {
   "cell_type": "code",
   "execution_count": 11,
   "metadata": {},
   "outputs": [
    {
     "data": {
      "text/plain": [
       "Index(['nofolio', 'genero', 'ent', 'nom_ent', 'cct', 'modalidad', 'sost',\n",
       "       'subsist', 'hlec', 'nvl_esp',\n",
       "       ...\n",
       "       'p138_E', 'p138_F', 'p138_G', 'p139_A', 'p139_B', 'p139_C', 'p139_D',\n",
       "       'p139_E', 'p139_F', 'p139_G'],\n",
       "      dtype='object', length=273)"
      ]
     },
     "execution_count": 11,
     "metadata": {},
     "output_type": "execute_result"
    }
   ],
   "source": [
    "datos_limpios.columns"
   ]
  },
  {
   "cell_type": "code",
   "execution_count": 12,
   "metadata": {},
   "outputs": [
    {
     "name": "stdout",
     "output_type": "stream",
     "text": [
      "Existen un total de:  173580 valores nulos\n",
      "\n",
      "Representan el  0.30961817682376486 del total.\n"
     ]
    },
    {
     "data": {
      "text/plain": [
       "173580"
      ]
     },
     "execution_count": 12,
     "metadata": {},
     "output_type": "execute_result"
    }
   ],
   "source": [
    "cf.cuenta_nulos_por_renglones(datos_limpios)"
   ]
  },
  {
   "cell_type": "code",
   "execution_count": 13,
   "metadata": {},
   "outputs": [
    {
     "name": "stdout",
     "output_type": "stream",
     "text": [
      "Existen un total de:  173580 valores nulos\n",
      "\n",
      "Representan el 30.96% del total.\n"
     ]
    },
    {
     "data": {
      "text/plain": [
       "173580"
      ]
     },
     "execution_count": 13,
     "metadata": {},
     "output_type": "execute_result"
    }
   ],
   "source": [
    "cf.cuenta_nulos_por_renglones(datos_limpios)"
   ]
  },
  {
   "cell_type": "markdown",
   "metadata": {},
   "source": [
    "#### "
   ]
  },
  {
   "cell_type": "code",
   "execution_count": 14,
   "metadata": {},
   "outputs": [
    {
     "name": "stdout",
     "output_type": "stream",
     "text": [
      "Existen un total de:  173580 columnas con valores nulos\n",
      "\n",
      "Representan el 30.96% del total.\n"
     ]
    },
    {
     "data": {
      "text/plain": [
       "173580"
      ]
     },
     "execution_count": 14,
     "metadata": {},
     "output_type": "execute_result"
    }
   ],
   "source": [
    "cf.cuenta_nulos_por_renglones(datos_limpios)"
   ]
  },
  {
   "cell_type": "code",
   "execution_count": 16,
   "metadata": {},
   "outputs": [],
   "source": [
    "import numpy as np\n",
    "import pandas as pd"
   ]
  },
  {
   "cell_type": "code",
   "execution_count": 17,
   "metadata": {},
   "outputs": [],
   "source": [
    "# Prueba en pocas columnas para verificar:\n",
    "datos_df = {\"A\":[1,2,3,4,np.nan],\"B\":[np.nan,2,3,4,5],\"C\":[np.nan,2,3,4,5],\"D\":[np.nan,2,3,4,5]}\n",
    "ds = pd.DataFrame(data=datos_df)"
   ]
  },
  {
   "cell_type": "code",
   "execution_count": 18,
   "metadata": {},
   "outputs": [
    {
     "data": {
      "text/html": [
       "<div>\n",
       "<style scoped>\n",
       "    .dataframe tbody tr th:only-of-type {\n",
       "        vertical-align: middle;\n",
       "    }\n",
       "\n",
       "    .dataframe tbody tr th {\n",
       "        vertical-align: top;\n",
       "    }\n",
       "\n",
       "    .dataframe thead th {\n",
       "        text-align: right;\n",
       "    }\n",
       "</style>\n",
       "<table border=\"1\" class=\"dataframe\">\n",
       "  <thead>\n",
       "    <tr style=\"text-align: right;\">\n",
       "      <th></th>\n",
       "      <th>A</th>\n",
       "      <th>B</th>\n",
       "      <th>C</th>\n",
       "      <th>D</th>\n",
       "    </tr>\n",
       "  </thead>\n",
       "  <tbody>\n",
       "    <tr>\n",
       "      <th>0</th>\n",
       "      <td>1.0</td>\n",
       "      <td>NaN</td>\n",
       "      <td>NaN</td>\n",
       "      <td>NaN</td>\n",
       "    </tr>\n",
       "    <tr>\n",
       "      <th>1</th>\n",
       "      <td>2.0</td>\n",
       "      <td>2.0</td>\n",
       "      <td>2.0</td>\n",
       "      <td>2.0</td>\n",
       "    </tr>\n",
       "    <tr>\n",
       "      <th>2</th>\n",
       "      <td>3.0</td>\n",
       "      <td>3.0</td>\n",
       "      <td>3.0</td>\n",
       "      <td>3.0</td>\n",
       "    </tr>\n",
       "    <tr>\n",
       "      <th>3</th>\n",
       "      <td>4.0</td>\n",
       "      <td>4.0</td>\n",
       "      <td>4.0</td>\n",
       "      <td>4.0</td>\n",
       "    </tr>\n",
       "    <tr>\n",
       "      <th>4</th>\n",
       "      <td>NaN</td>\n",
       "      <td>5.0</td>\n",
       "      <td>5.0</td>\n",
       "      <td>5.0</td>\n",
       "    </tr>\n",
       "  </tbody>\n",
       "</table>\n",
       "</div>"
      ],
      "text/plain": [
       "     A    B    C    D\n",
       "0  1.0  NaN  NaN  NaN\n",
       "1  2.0  2.0  2.0  2.0\n",
       "2  3.0  3.0  3.0  3.0\n",
       "3  4.0  4.0  4.0  4.0\n",
       "4  NaN  5.0  5.0  5.0"
      ]
     },
     "execution_count": 18,
     "metadata": {},
     "output_type": "execute_result"
    }
   ],
   "source": [
    "ds"
   ]
  },
  {
   "cell_type": "code",
   "execution_count": 20,
   "metadata": {},
   "outputs": [
    {
     "name": "stdout",
     "output_type": "stream",
     "text": [
      "Existen un total de:  2 columnas con valores nulos\n",
      "\n",
      "Representan el 40.00% del total.\n"
     ]
    },
    {
     "data": {
      "text/plain": [
       "2"
      ]
     },
     "execution_count": 20,
     "metadata": {},
     "output_type": "execute_result"
    }
   ],
   "source": [
    "cf.cuenta_nulos_por_renglones(ds)"
   ]
  },
  {
   "cell_type": "code",
   "execution_count": null,
   "metadata": {},
   "outputs": [],
   "source": []
  }
 ],
 "metadata": {
  "kernelspec": {
   "display_name": "Python 3.8.2 64-bit ('venv': venv)",
   "language": "python",
   "name": "python38264bitvenvvenv59d17170ade043dbb2f8c0cc6f3adc0c"
  },
  "language_info": {
   "codemirror_mode": {
    "name": "ipython",
    "version": 3
   },
   "file_extension": ".py",
   "mimetype": "text/x-python",
   "name": "python",
   "nbconvert_exporter": "python",
   "pygments_lexer": "ipython3",
   "version": "3.8.2"
  }
 },
 "nbformat": 4,
 "nbformat_minor": 4
}
